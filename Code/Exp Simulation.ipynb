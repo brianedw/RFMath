{
 "cells": [
  {
   "cell_type": "markdown",
   "metadata": {},
   "source": [
    "## Imports"
   ]
  },
  {
   "cell_type": "markdown",
   "metadata": {
    "heading_collapsed": "true"
   },
   "source": [
    "### Stock Imports"
   ]
  },
  {
   "cell_type": "code",
   "execution_count": null,
   "metadata": {},
   "outputs": [],
   "source": [
    "%load_ext autoreload\n",
    "%autoreload 2"
   ]
  },
  {
   "cell_type": "code",
   "execution_count": null,
   "metadata": {},
   "outputs": [],
   "source": [
    "import os, sys"
   ]
  },
  {
   "cell_type": "code",
   "execution_count": null,
   "metadata": {},
   "outputs": [],
   "source": [
    "import importlib"
   ]
  },
  {
   "cell_type": "code",
   "execution_count": null,
   "metadata": {},
   "outputs": [],
   "source": [
    "import numpy as np\n",
    "import scipy as sp\n",
    "from scipy.optimize import root\n",
    "from scipy.interpolate import interp2d\n",
    "import itertools"
   ]
  },
  {
   "cell_type": "code",
   "execution_count": null,
   "metadata": {},
   "outputs": [],
   "source": [
    "import PIL"
   ]
  },
  {
   "cell_type": "code",
   "execution_count": null,
   "metadata": {},
   "outputs": [],
   "source": [
    "from scipy.ndimage import gaussian_filter\n",
    "from scipy import interpolate"
   ]
  },
  {
   "cell_type": "code",
   "execution_count": null,
   "metadata": {},
   "outputs": [],
   "source": [
    "import bokeh\n",
    "from bokeh.io import output_notebook\n",
    "from bokeh.plotting import figure, show\n",
    "output_notebook()\n",
    "from bokeh.palettes import Dark2\n",
    "bokeh.io.curdoc().theme = 'dark_minimal'\n",
    "palette = Dark2[8]*10"
   ]
  },
  {
   "cell_type": "code",
   "execution_count": null,
   "metadata": {},
   "outputs": [],
   "source": [
    "palette = Dark2[8]*10\n",
    "colors = itertools.cycle(palette)"
   ]
  },
  {
   "cell_type": "code",
   "execution_count": null,
   "metadata": {},
   "outputs": [],
   "source": [
    "import skrf as rf"
   ]
  },
  {
   "cell_type": "code",
   "execution_count": null,
   "metadata": {},
   "outputs": [],
   "source": [
    "from scipy.optimize import minimize"
   ]
  },
  {
   "cell_type": "markdown",
   "metadata": {
    "heading_collapsed": "true"
   },
   "source": [
    "### Custom Imports"
   ]
  },
  {
   "cell_type": "code",
   "execution_count": null,
   "metadata": {},
   "outputs": [],
   "source": [
    "from NetworkBuilding import (BuildMillerNetwork,\n",
    "                             MillerMultLocsX, MillerCoupLocsX,\n",
    "                             ConvertThetaPhiToTcX, Build3dBCoupler)"
   ]
  },
  {
   "cell_type": "code",
   "execution_count": null,
   "metadata": {},
   "outputs": [],
   "source": [
    "from ExpComponents import (Multiplier, MultiplierBank, Build3dBCouplerSim)"
   ]
  },
  {
   "cell_type": "code",
   "execution_count": null,
   "metadata": {},
   "outputs": [],
   "source": [
    "from Miller import (MillerBuilder)"
   ]
  },
  {
   "cell_type": "code",
   "execution_count": null,
   "metadata": {},
   "outputs": [],
   "source": [
    "from UtilityMath import (convertArrayToDict, MatrixError, MatrixSqError, makePolarPlot, addMatrixDiff, PolarPlot)"
   ]
  },
  {
   "cell_type": "markdown",
   "metadata": {},
   "source": [
    "# Library"
   ]
  },
  {
   "cell_type": "markdown",
   "metadata": {},
   "source": [
    "# Work"
   ]
  },
  {
   "cell_type": "markdown",
   "metadata": {
    "heading_collapsed": "true"
   },
   "source": [
    "## Ideal-ish elements"
   ]
  },
  {
   "cell_type": "markdown",
   "metadata": {},
   "source": [
    "We begin by defining the kernel we want to emulate:"
   ]
  },
  {
   "cell_type": "code",
   "execution_count": null,
   "metadata": {},
   "outputs": [],
   "source": [
    "freq45 = rf.Frequency(45 ,45, npoints=1, unit='mhz')"
   ]
  },
  {
   "cell_type": "code",
   "execution_count": null,
   "metadata": {},
   "outputs": [],
   "source": [
    "Ks = np.array([[-0.05+0.06j, -0.  -0.13j, -0.07-0.15j,  0.11+0.28j, -0.05-0.18j],\n",
    "               [-0.1 -0.19j, -0.3 -0.05j, -0.28+0.07j, -0.25+0.28j, -0.11-0.29j],\n",
    "               [ 0.21-0.18j, -0.08-0.14j,  0.03+0.20j, -0.23+0.24j, -0.06+0.32j],\n",
    "               [-0.29-0.31j,  0.12+0.09j,  0.08-0.02j,  0.31+0.12j, -0.22-0.18j],\n",
    "               [-0.18-0.06j,  0.08-0.21j,  0.25-0.18j, -0.26-0.10j,  0.13+0.10j]])"
   ]
  },
  {
   "cell_type": "markdown",
   "metadata": {},
   "source": [
    "We perform an SVD decomposition on it.  This is only so that we can compare the resulting sub structures.  The MillerBuilder will also do this internally when computing MZI values."
   ]
  },
  {
   "cell_type": "code",
   "execution_count": null,
   "metadata": {},
   "outputs": [],
   "source": [
    "V, S, Uh = np.linalg.svd(Ks)"
   ]
  },
  {
   "cell_type": "markdown",
   "metadata": {},
   "source": [
    "Next we use the MillerBuilder to compute MZI Theta-Phi data.  Then we convert this to Multiplier Complex Transmission Data.  We use the second varient of this function which takes into account the single multipliers on the bottom rows. "
   ]
  },
  {
   "cell_type": "code",
   "execution_count": null,
   "metadata": {},
   "outputs": [],
   "source": [
    "miller = MillerBuilder(couplerConv='LC', verbose=False)\n",
    "theta_phi1, sTerms, theta_phi2 = miller.ConvertKToMZI(Ks)\n",
    "Tc1 = ConvertThetaPhiToTcX(theta_phi1)\n",
    "Tc2 = ConvertThetaPhiToTcX(theta_phi2)"
   ]
  },
  {
   "cell_type": "markdown",
   "metadata": {},
   "source": [
    "For many applications such as optimization, it will be convenient to have the devices as 1D objects such as dictionaries as opposed to nDim arrays."
   ]
  },
  {
   "cell_type": "code",
   "execution_count": null,
   "metadata": {},
   "outputs": [],
   "source": [
    "Tc1Dict = convertArrayToDict(Tc1, preSpec=(\"M\", \"Uh\"))\n",
    "TcSDict = convertArrayToDict(sTerms, preSpec=(\"M\", \"S\"))\n",
    "Tc2Dict = convertArrayToDict(Tc2, preSpec=(\"M\", \"V\"))\n",
    "TcDict = {**Tc1Dict, **TcSDict, **Tc2Dict}"
   ]
  },
  {
   "cell_type": "markdown",
   "metadata": {},
   "source": [
    "Next we build a bank of Multipliers.  These correspond to experimental components and have a much more complicated functionality than an elementary network object."
   ]
  },
  {
   "cell_type": "code",
   "execution_count": null,
   "metadata": {},
   "outputs": [],
   "source": [
    "allMultLocs = MillerMultLocsX(5, labels=('Uh', 'S', 'V'))\n",
    "multBank = MultiplierBank()\n",
    "for i, loc in enumerate(allMultLocs):\n",
    "    mult = Multiplier(physNumber=i, loc=loc, freq=freq45)\n",
    "    multBank.addMult(mult)"
   ]
  },
  {
   "cell_type": "markdown",
   "metadata": {},
   "source": [
    "and then we set them to the values required by the kernel.  Note that this is actually using inverse functions to find the [0-1023] vga and ps input values taking into account the personality of each device."
   ]
  },
  {
   "cell_type": "code",
   "execution_count": null,
   "metadata": {},
   "outputs": [],
   "source": [
    "for loc, Tc in TcDict.items():\n",
    "    mult = multBank.getMultByLoc(loc)\n",
    "    mult.setT(Tc)"
   ]
  },
  {
   "cell_type": "markdown",
   "metadata": {},
   "source": [
    "Next we define our MultBuilder and AttBuilder, which simply reach into the bank and grab the appropriate network object."
   ]
  },
  {
   "cell_type": "code",
   "execution_count": null,
   "metadata": {},
   "outputs": [],
   "source": [
    "def MultBuilder(loc):\n",
    "    return multBank.getRFNetwork(loc)"
   ]
  },
  {
   "cell_type": "code",
   "execution_count": null,
   "metadata": {},
   "outputs": [],
   "source": [
    "def AttBuilder(loc):\n",
    "    return MultBuilder(loc)"
   ]
  },
  {
   "cell_type": "code",
   "execution_count": null,
   "metadata": {},
   "outputs": [],
   "source": [
    "MultBuilder(loc=(\"M\", \"Uh\", 0, 0, 0))"
   ]
  },
  {
   "cell_type": "markdown",
   "metadata": {},
   "source": [
    "Finally we'll define a CouplerBuilder based on an ideal device."
   ]
  },
  {
   "cell_type": "code",
   "execution_count": null,
   "metadata": {},
   "outputs": [],
   "source": [
    "def CouplerBuilderIdeal(loc):\n",
    "    return Build3dBCoupler(freq45, loc=loc)"
   ]
  },
  {
   "cell_type": "markdown",
   "metadata": {},
   "source": [
    "Finally, we assemble the simulation and determine that its behavior is pretty close to expected.  Deviations are likely due to the integer values used in the multiplier settings."
   ]
  },
  {
   "cell_type": "code",
   "execution_count": null,
   "metadata": {},
   "outputs": [],
   "source": [
    "millerNet = BuildMillerNetwork(CouplerBuilderIdeal, MultBuilder, \n",
    "                               AttBuilder, n=5, labels=('Uh', 'S', 'V'))\n",
    "T = millerNet.s[0, 5:, :5]\n",
    "T"
   ]
  },
  {
   "cell_type": "code",
   "execution_count": null,
   "metadata": {},
   "outputs": [],
   "source": [
    "plot = makePolarPlot(\"Goal K vs Realized using Ideal Comps\")\n",
    "addMatrixDiff(plot, Ks, T)\n",
    "show(plot)"
   ]
  },
  {
   "cell_type": "code",
   "execution_count": null,
   "metadata": {},
   "outputs": [],
   "source": [
    "MatrixError(T, Ks)"
   ]
  },
  {
   "cell_type": "markdown",
   "metadata": {
    "heading_collapsed": "true"
   },
   "source": [
    "## Switch to Sim Couplers"
   ]
  },
  {
   "cell_type": "markdown",
   "metadata": {},
   "source": [
    "On this round, let's define a Coupler Builder which makes use of one determined through simulation of the components which includes parasitic losses, and was found to be fairly close to measured devices."
   ]
  },
  {
   "cell_type": "code",
   "execution_count": null,
   "metadata": {},
   "outputs": [],
   "source": [
    "def CouplerBuilderSim(loc):\n",
    "    return Build3dBCouplerSim(freq45, loc=loc)"
   ]
  },
  {
   "cell_type": "markdown",
   "metadata": {},
   "source": [
    "And then we assembled a second simulation that utilizes the realistic 3dB couplers.  The deviations are much greater."
   ]
  },
  {
   "cell_type": "code",
   "execution_count": null,
   "metadata": {},
   "outputs": [],
   "source": [
    "millerNet2 = BuildMillerNetwork(CouplerBuilderSim, MultBuilder, \n",
    "                               AttBuilder, n=5, labels=('Uh', 'S', 'V'))\n",
    "T = millerNet2.s[0, 5:, :5]\n",
    "T"
   ]
  },
  {
   "cell_type": "code",
   "execution_count": null,
   "metadata": {},
   "outputs": [],
   "source": [
    "plot = makePolarPlot(\"Goal K vs Realized using Realistic Coups and Uncorrected Mults\")\n",
    "addMatrixDiff(plot, Ks, T)\n",
    "show(plot)"
   ]
  },
  {
   "cell_type": "code",
   "execution_count": null,
   "metadata": {},
   "outputs": [],
   "source": [
    "MatrixError(T, Ks)"
   ]
  },
  {
   "cell_type": "markdown",
   "metadata": {
    "heading_collapsed": "true"
   },
   "source": [
    "## Adjusting the Multipliers to account for the Simulation Couplers"
   ]
  },
  {
   "cell_type": "markdown",
   "metadata": {},
   "source": [
    "There are multipliers which go to form MZIs and are trapped between two couplers.  We can generate a list of all such multipliers by messaging the list of all of the couplers."
   ]
  },
  {
   "cell_type": "code",
   "execution_count": null,
   "metadata": {},
   "outputs": [],
   "source": [
    "allCouplers = MillerCoupLocsX(5, labels=('Uh', 'V'))\n",
    "allTrappedMults = []\n",
    "for loc in allCouplers:\n",
    "    locList = list(loc)\n",
    "    locList[0] = 'M'\n",
    "    allTrappedMults.append(tuple(locList))\n",
    "allTrappedMults;"
   ]
  },
  {
   "cell_type": "markdown",
   "metadata": {},
   "source": [
    "Here is the ideal transmission of a 3dB Coupler."
   ]
  },
  {
   "cell_type": "code",
   "execution_count": null,
   "metadata": {},
   "outputs": [],
   "source": [
    "TIdeal = CouplerBuilderIdeal((\"M\", \"Uh\", 0, 0, 0)).s[0, 2:, :2]\n",
    "TIdeal"
   ]
  },
  {
   "cell_type": "markdown",
   "metadata": {},
   "source": [
    "Next is the simulated coupler."
   ]
  },
  {
   "cell_type": "code",
   "execution_count": null,
   "metadata": {},
   "outputs": [],
   "source": [
    "TSim = CouplerBuilderSim((\"M\", \"Uh\", 0, 0, 0)).s[0, 2:, :2]\n",
    "TSim"
   ]
  },
  {
   "cell_type": "code",
   "execution_count": null,
   "metadata": {},
   "outputs": [],
   "source": [
    "MatrixError(TIdeal, TSim)"
   ]
  },
  {
   "cell_type": "markdown",
   "metadata": {},
   "source": [
    "Next let's see if there is an adjustment factor that minimizes the distance between these two devices."
   ]
  },
  {
   "cell_type": "code",
   "execution_count": null,
   "metadata": {},
   "outputs": [],
   "source": [
    "def fError(z):\n",
    "    zR, zI = z\n",
    "    error = MatrixSqError(TIdeal, (zR+1j*zI)*TSim)\n",
    "    return error"
   ]
  },
  {
   "cell_type": "code",
   "execution_count": null,
   "metadata": {},
   "outputs": [],
   "source": [
    "soln = minimize(fError, [1, 0])\n",
    "zr, zi = soln.x\n",
    "zAdjust = zr + 1j*zi\n",
    "zAdjust"
   ]
  },
  {
   "cell_type": "code",
   "execution_count": null,
   "metadata": {},
   "outputs": [],
   "source": [
    "plot = makePolarPlot(\"Ideal vs Sim Coupler with Scalar CF\")\n",
    "addMatrixDiff(plot, TIdeal, TSim)\n",
    "addMatrixDiff(plot, TIdeal, TSim*zAdjust)\n",
    "show(plot)"
   ]
  },
  {
   "cell_type": "code",
   "execution_count": null,
   "metadata": {},
   "outputs": [],
   "source": [
    "MatrixError(TIdeal, TSim*zAdjust)"
   ]
  },
  {
   "cell_type": "markdown",
   "metadata": {},
   "source": [
    "We can't apply an arbitary phase/amplitude shift to the couplers, but we can apply it to the local multipliers.  Since each stacked pair of multipliers are between two couplers, we need to apply the adjustment factor \"twice\", or in other words square it.  Not all multipliers are in MZIs and so we apply this only to the \"trapped\" mutlipliers."
   ]
  },
  {
   "cell_type": "code",
   "execution_count": null,
   "metadata": {},
   "outputs": [],
   "source": [
    "for loc, Tc in TcDict.items():\n",
    "    mult = multBank.getMultByLoc(loc)\n",
    "    if loc in allTrappedMults:\n",
    "        mult.setT(zAdjust**2 * Tc)\n",
    "    else:\n",
    "        mult.setT(Tc)"
   ]
  },
  {
   "cell_type": "code",
   "execution_count": null,
   "metadata": {},
   "outputs": [],
   "source": [
    "millerNet3 = BuildMillerNetwork(CouplerBuilderSim, MultBuilder, \n",
    "                               AttBuilder, n=5, labels=('Uh', 'S', 'V'))\n",
    "T = millerNet3.s[0, 5:, :5]\n",
    "T"
   ]
  },
  {
   "cell_type": "code",
   "execution_count": null,
   "metadata": {},
   "outputs": [],
   "source": [
    "plot = makePolarPlot(\"Goal K vs Realized using Realistic Coups and Corrected Mults\")\n",
    "addMatrixDiff(plot, Ks, T)\n",
    "show(plot)"
   ]
  },
  {
   "cell_type": "code",
   "execution_count": null,
   "metadata": {},
   "outputs": [],
   "source": [
    "MatrixError(T, Ks)"
   ]
  },
  {
   "cell_type": "markdown",
   "metadata": {},
   "source": [
    "And we see that the error has come down to nearly that of the ideal devices."
   ]
  },
  {
   "cell_type": "markdown",
   "metadata": {},
   "source": [
    "## Adjusting the Multipliers to account for the Experimental Couplers"
   ]
  },
  {
   "cell_type": "code",
   "execution_count": null,
   "metadata": {},
   "outputs": [],
   "source": [
    "from ExpComponents import Build3dBCouplerFromData, coupNet1"
   ]
  },
  {
   "cell_type": "code",
   "execution_count": null,
   "metadata": {},
   "outputs": [],
   "source": [
    "coupNet1.name = 'bar'"
   ]
  },
  {
   "cell_type": "code",
   "execution_count": null,
   "metadata": {},
   "outputs": [],
   "source": [
    "coupNet1.copy()"
   ]
  },
  {
   "cell_type": "code",
   "execution_count": null,
   "metadata": {},
   "outputs": [],
   "source": [
    "def CouplerBuilderExp(loc):\n",
    "    net = coupNet1.copy()\n",
    "    net.name = str(loc)\n",
    "    return net"
   ]
  },
  {
   "cell_type": "code",
   "execution_count": null,
   "metadata": {},
   "outputs": [],
   "source": [
    "CouplerBuilderExp((\"C\", \"Uh\", 0, 0, 0)).s[0, 2:, :2]"
   ]
  },
  {
   "cell_type": "markdown",
   "metadata": {},
   "source": [
    "There are multipliers which go to form MZIs and are trapped between two couplers.  We can generate a list of all such multipliers by messaging the list of all of the couplers."
   ]
  },
  {
   "cell_type": "code",
   "execution_count": null,
   "metadata": {},
   "outputs": [],
   "source": [
    "allCouplers = MillerCoupLocsX(5, labels=('Uh', 'V'))\n",
    "allTrappedMults = []\n",
    "for loc in allCouplers:\n",
    "    locList = list(loc)\n",
    "    locList[0] = 'M'\n",
    "    allTrappedMults.append(tuple(locList))\n",
    "allTrappedMults;"
   ]
  },
  {
   "cell_type": "markdown",
   "metadata": {},
   "source": [
    "Here is the ideal transmission of a 3dB Coupler."
   ]
  },
  {
   "cell_type": "code",
   "execution_count": null,
   "metadata": {},
   "outputs": [],
   "source": [
    "TIdeal = CouplerBuilderIdeal((\"C\", \"Uh\", 0, 0, 0)).s[0, 2:, :2]\n",
    "TIdeal"
   ]
  },
  {
   "cell_type": "markdown",
   "metadata": {},
   "source": [
    "Next is the simulated coupler."
   ]
  },
  {
   "cell_type": "code",
   "execution_count": null,
   "metadata": {},
   "outputs": [],
   "source": [
    "TExp = CouplerBuilderExp((\"C\", \"Uh\", 0, 0, 0)).s[0, 2:, :2]\n",
    "TExp"
   ]
  },
  {
   "cell_type": "code",
   "execution_count": null,
   "metadata": {},
   "outputs": [],
   "source": [
    "MatrixError(TIdeal, TExp)"
   ]
  },
  {
   "cell_type": "markdown",
   "metadata": {},
   "source": [
    "Next let's see if there is an adjustment factor that minimizes the distance between these two devices."
   ]
  },
  {
   "cell_type": "code",
   "execution_count": null,
   "metadata": {},
   "outputs": [],
   "source": [
    "def fError(z):\n",
    "    zR, zI = z\n",
    "    zC = (zR+1j*zI)\n",
    "    error = MatrixSqError(TIdeal, zC*TExp)\n",
    "    return error"
   ]
  },
  {
   "cell_type": "code",
   "execution_count": null,
   "metadata": {},
   "outputs": [],
   "source": [
    "c = 1.2\n",
    "fError([c*1, c*0.81])"
   ]
  },
  {
   "cell_type": "code",
   "execution_count": null,
   "metadata": {},
   "outputs": [],
   "source": [
    "soln = minimize(fError, [1, 0])\n",
    "zr, zi = soln.x\n",
    "zAdjust = zr + 1j*zi\n",
    "zAdjust"
   ]
  },
  {
   "cell_type": "code",
   "execution_count": null,
   "metadata": {},
   "outputs": [],
   "source": [
    "pp = PolarPlot(\"Ideal vs Exp Coupler with Scalar CF\")\n",
    "pp.addMatrix(TIdeal, \"green\")\n",
    "pp.addMatrix(TExp, \"red\")\n",
    "pp.addMatrix(TExp*zAdjust, \"cyan\")\n",
    "pp.show()"
   ]
  },
  {
   "cell_type": "code",
   "execution_count": null,
   "metadata": {},
   "outputs": [],
   "source": [
    "MatrixSqError(TIdeal, TExp*zAdjust)"
   ]
  },
  {
   "cell_type": "markdown",
   "metadata": {},
   "source": [
    "We can't apply an arbitary phase/amplitude shift to the couplers, but we can apply it to the local multipliers.  Since each stacked pair of multipliers are between two couplers, we need to apply the adjustment factor \"twice\", or in other words square it.  Not all multipliers are in MZIs and so we apply this only to the \"trapped\" mutlipliers."
   ]
  },
  {
   "cell_type": "code",
   "execution_count": null,
   "metadata": {},
   "outputs": [],
   "source": [
    "for loc, Tc in TcDict.items():\n",
    "    mult = multBank.getMultByLoc(loc)\n",
    "    if loc in allTrappedMults:\n",
    "        mult.setT(zAdjust**2 * Tc)\n",
    "    else:\n",
    "        mult.setT(Tc)"
   ]
  },
  {
   "cell_type": "code",
   "execution_count": null,
   "metadata": {},
   "outputs": [],
   "source": [
    "millerNet3 = BuildMillerNetwork(CouplerBuilderExp, MultBuilder, \n",
    "                               AttBuilder, n=5, labels=('Uh', 'S', 'V'))\n",
    "T = millerNet3.s[0, 5:, :5]\n",
    "T"
   ]
  },
  {
   "cell_type": "code",
   "execution_count": null,
   "metadata": {},
   "outputs": [],
   "source": [
    "plot = makePolarPlot(\"Goal K vs Realized using Realistic Coups and Corrected Mults\")\n",
    "addMatrixDiff(plot, Ks, T)\n",
    "show(plot)"
   ]
  },
  {
   "cell_type": "code",
   "execution_count": null,
   "metadata": {},
   "outputs": [],
   "source": [
    "MatrixError(T, Ks)"
   ]
  },
  {
   "cell_type": "code",
   "execution_count": null,
   "metadata": {},
   "outputs": [],
   "source": [
    "TInv = np.linalg.inv(np.identity(5)-T)\n",
    "KInv = np.linalg.inv(np.identity(5)-Ks)"
   ]
  },
  {
   "cell_type": "code",
   "execution_count": null,
   "metadata": {},
   "outputs": [],
   "source": [
    "plot = makePolarPlot(\"KInv, TInv\")\n",
    "addMatrixDiff(plot, KInv, TInv)\n",
    "show(plot)"
   ]
  },
  {
   "cell_type": "markdown",
   "metadata": {},
   "source": [
    "And we see that the error has come down to nearly that of the ideal devices."
   ]
  }
 ],
 "metadata": {
  "kernelspec": {
   "display_name": "Python 3",
   "language": "python",
   "name": "python3"
  },
  "language_info": {
   "codemirror_mode": {
    "name": "ipython",
    "version": 3
   },
   "file_extension": ".py",
   "mimetype": "text/x-python",
   "name": "python",
   "nbconvert_exporter": "python",
   "pygments_lexer": "ipython3",
   "version": "3.8.5"
  }
 },
 "nbformat": 4,
 "nbformat_minor": 4
}
