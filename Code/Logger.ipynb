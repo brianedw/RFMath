{
 "cells": [
  {
   "cell_type": "markdown",
   "metadata": {},
   "source": [
    "# Logger"
   ]
  },
  {
   "cell_type": "markdown",
   "metadata": {},
   "source": [
    "The logger will generate a detailed printed history of the evaluation function or series of functions.  The main advantage of it over using simply print statements is that it provides automatic indenting as one increases the depth of the context.  This dramatically increases the readabilty of the output for complicated.\n",
    "\n",
    "It provides special indented printing for numpy arrays."
   ]
  },
  {
   "cell_type": "code",
   "execution_count": null,
   "metadata": {},
   "outputs": [],
   "source": [
    "import numpy as np"
   ]
  },
  {
   "cell_type": "code",
   "execution_count": null,
   "metadata": {},
   "outputs": [],
   "source": [
    "class Logger:\n",
    "\n",
    "    def __init__(self, indentStep, printQ):\n",
    "        self.indentStep = indentStep\n",
    "        self.indentLevel = 0\n",
    "        self.indentTxt = \" .\"+\" \"*(indentStep-2)\n",
    "        self.printQ = printQ\n",
    "\n",
    "    def open(self, name, reset=False):\n",
    "        \"\"\"\n",
    "        Increases indent level at function level.\n",
    "        Applied at the beginning of a function definition\n",
    "        \"\"\"\n",
    "        if reset:\n",
    "            self.indentLevel = 0\n",
    "        if self.printQ:\n",
    "            print(self.indentTxt*self.indentLevel, \"==\", name, \"==\")\n",
    "        self.indentLevel += 1\n",
    "\n",
    "    def openContext(self, message):\n",
    "        \"\"\"\n",
    "        Increases indent level with message.\n",
    "        Applied just prior to a local context such as \"if\" or \"for\"\n",
    "        \"\"\"\n",
    "        if self.printQ:\n",
    "            print(self.indentTxt*self.indentLevel, message)\n",
    "        self.indentLevel += 1\n",
    "\n",
    "    def print(self, *msg):\n",
    "        \"\"\"\n",
    "        Generic message.  Unpacks the list similar to native 'print(\"Hello\", \"World\")'\n",
    "        \"\"\"\n",
    "        if self.printQ:\n",
    "            print(self.indentTxt*self.indentLevel, *msg)\n",
    "\n",
    "    def printVar(self, name, var):\n",
    "        \"\"\"\n",
    "        Prints \"name: var\"\n",
    "        \"\"\"\n",
    "        if self.printQ:\n",
    "            print(self.indentTxt*self.indentLevel+\" \" + name + \":\", var)\n",
    "\n",
    "    def printVarX(self, name, scope):\n",
    "        \"\"\"\n",
    "        Prints \"name: eval(name)\"\n",
    "        \"\"\"\n",
    "        if self.printQ:\n",
    "            print(self.indentTxt*self.indentLevel+\" \"+ name + \":\", eval(name, scope))\n",
    "\n",
    "    def printNPArray(self, name, array, *options):\n",
    "        \"\"\"\n",
    "        Prints\n",
    "        name:\n",
    "          [[1,2]\n",
    "           [3,4]]\n",
    "        \"\"\"\n",
    "        padding = self.indentTxt*self.indentLevel+\"   \"\n",
    "        txt = padding + np.array2string(array, *options)\n",
    "        txt2 = txt.replace(\"\\n\", \"\\n\"+padding)\n",
    "        if self.printQ:\n",
    "            print(self.indentTxt*self.indentLevel+\" \"+ name + \":\")\n",
    "            print(txt2)\n",
    "\n",
    "    def close(self):\n",
    "        \"\"\"\n",
    "        Closes function level indent.\n",
    "        \"\"\"\n",
    "        self.indentLevel -= 1\n",
    "        if self.printQ:\n",
    "            print(self.indentTxt*self.indentLevel, \"====\")\n",
    "    \n",
    "    def closeContext(self):\n",
    "        \"\"\"\n",
    "        Closes context level indent.\n",
    "        \"\"\"\n",
    "        self.indentLevel -= 1\n",
    "        if self.printQ:\n",
    "            print(self.indentTxt*self.indentLevel, \"----\")"
   ]
  },
  {
   "cell_type": "code",
   "execution_count": null,
   "metadata": {},
   "outputs": [],
   "source": [
    "def foo():\n",
    "    log.open(\"foo\", reset=True)\n",
    "    log.print(\"I'm in foo.\")\n",
    "    a = 2\n",
    "    b = 4\n",
    "    log.printVar(\"a\", a)\n",
    "    log.printVarX(\"a\", locals())\n",
    "    log.print(\"The variable 'a' is\", a, \"and 'b' is\", b)\n",
    "    bar()\n",
    "    log.openContext(\"in loop\")\n",
    "    for i in range(2):\n",
    "        j = i**2\n",
    "        log.printVar(\"j\", j)\n",
    "    log.closeContext()\n",
    "    log.close()\n",
    "\n",
    "def bar():\n",
    "    log.open(\"bar\")\n",
    "    log.print(\"in bar\")\n",
    "    a = np.array([[1,2],[3,4]])\n",
    "    log.printNPArray(\"a\", a)\n",
    "    log.close()"
   ]
  },
  {
   "cell_type": "code",
   "execution_count": null,
   "metadata": {},
   "outputs": [],
   "source": [
    "# Lines below are commented out so as to not print during import.  Uncomment for testing\n",
    "# log = Logger(4, True)\n",
    "# foo()"
   ]
  },
  {
   "cell_type": "code",
   "execution_count": null,
   "metadata": {},
   "outputs": [],
   "source": [
    "log = Logger(4, False)\n",
    "foo()"
   ]
  }
 ],
 "metadata": {
  "kernelspec": {
   "display_name": "Python 3",
   "language": "python",
   "name": "python3"
  },
  "language_info": {
   "codemirror_mode": {
    "name": "ipython",
    "version": 3
   },
   "file_extension": ".py",
   "mimetype": "text/x-python",
   "name": "python",
   "nbconvert_exporter": "python",
   "pygments_lexer": "ipython3",
   "version": "3.7.4"
  },
  "latex_envs": {
   "LaTeX_envs_menu_present": true,
   "autoclose": false,
   "autocomplete": true,
   "bibliofile": "biblio.bib",
   "cite_by": "apalike",
   "current_citInitial": 1,
   "eqLabelWithNumbers": true,
   "eqNumInitial": 1,
   "hotkeys": {
    "equation": "Ctrl-E",
    "itemize": "Ctrl-I"
   },
   "labels_anchors": false,
   "latex_user_defs": false,
   "report_style_numbering": false,
   "user_envs_cfg": false
  }
 },
 "nbformat": 4,
 "nbformat_minor": 2
}
