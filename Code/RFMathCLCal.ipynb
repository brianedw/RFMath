{
 "cells": [
  {
   "cell_type": "markdown",
   "metadata": {
    "tags": []
   },
   "source": [
    "## Imports"
   ]
  },
  {
   "cell_type": "markdown",
   "metadata": {
    "heading_collapsed": "true",
    "tags": []
   },
   "source": [
    "### Make Pretty"
   ]
  },
  {
   "cell_type": "code",
   "execution_count": null,
   "metadata": {},
   "outputs": [],
   "source": [
    "import IPython\n",
    "css_str = \"\"\"\n",
    "<link rel=\"preconnect\" href=\"https://fonts.gstatic.com\">\n",
    "\n",
    "<link href=\"https://fonts.googleapis.com/css2?family=Cormorant+Garamond:wght@300;400;600&family=Playfair+Display+SC&display=swap\" rel=\"stylesheet\">\n",
    "<link rel=\"stylesheet\" href=\"https://fonts.googleapis.com/css?family=Lora\">\n",
    "<link href=\"https://fonts.googleapis.com/css2?family=IM+Fell+Double+Pica:ital@1&display=swap\" rel=\"stylesheet\">\n",
    "    <style>\n",
    "h1 { color: #7c795d; font-family: 'Playfair Display SC', serif; text-indent: 00px; text-align: center;}\n",
    "h2 { color: #7c795d; font-family: 'Lora', serif;                text-indent: 00px; text-align: left; }\n",
    "h3 { color: #7c795d; font-family: 'IM Fell Double Pica', serif; text-indent: 15px; text-align: left; }\n",
    "h4 { color: #7c795d; font-family: 'Lora', Arial, serif;         text-indent: 30px; text-align: left}\n",
    "h5 { color: #71a832; font-family: 'IM Fell Double Pica', serif; text-indent: 45px; text-align: left}\n",
    "\n",
    "\"\"\"\n",
    "IPython.display.HTML(css_str)"
   ]
  },
  {
   "cell_type": "markdown",
   "metadata": {
    "tags": []
   },
   "source": [
    "### Stock Imports"
   ]
  },
  {
   "cell_type": "code",
   "execution_count": null,
   "metadata": {},
   "outputs": [],
   "source": [
    "%load_ext autoreload\n",
    "%autoreload 2"
   ]
  },
  {
   "cell_type": "code",
   "execution_count": null,
   "metadata": {},
   "outputs": [],
   "source": [
    "import os, sys\n",
    "from time import sleep"
   ]
  },
  {
   "cell_type": "code",
   "execution_count": null,
   "metadata": {},
   "outputs": [],
   "source": [
    "os.getcwd()"
   ]
  },
  {
   "cell_type": "code",
   "execution_count": null,
   "metadata": {},
   "outputs": [],
   "source": [
    "import importlib"
   ]
  },
  {
   "cell_type": "code",
   "execution_count": null,
   "metadata": {},
   "outputs": [],
   "source": [
    "import numpy as np\n",
    "import scipy as sp\n",
    "from scipy.optimize import root\n",
    "from scipy.interpolate import interp2d\n",
    "import itertools\n",
    "import time"
   ]
  },
  {
   "cell_type": "code",
   "execution_count": null,
   "metadata": {},
   "outputs": [],
   "source": [
    "import PIL"
   ]
  },
  {
   "cell_type": "code",
   "execution_count": null,
   "metadata": {},
   "outputs": [],
   "source": [
    "from scipy.ndimage import gaussian_filter\n",
    "from scipy import interpolate"
   ]
  },
  {
   "cell_type": "code",
   "execution_count": null,
   "metadata": {},
   "outputs": [],
   "source": [
    "import bokeh\n",
    "from bokeh.io import output_notebook\n",
    "from bokeh.plotting import figure, show\n",
    "output_notebook()\n",
    "from bokeh.palettes import Dark2\n",
    "bokeh.io.curdoc().theme = 'dark_minimal'\n",
    "palette = Dark2[8]*10"
   ]
  },
  {
   "cell_type": "code",
   "execution_count": null,
   "metadata": {},
   "outputs": [],
   "source": [
    "palette = Dark2[8]*10\n",
    "colors = itertools.cycle(palette)"
   ]
  },
  {
   "cell_type": "code",
   "execution_count": null,
   "metadata": {},
   "outputs": [],
   "source": [
    "from UtilityMath import plotComplexArray"
   ]
  },
  {
   "cell_type": "code",
   "execution_count": null,
   "metadata": {},
   "outputs": [],
   "source": [
    "import skrf as rf"
   ]
  },
  {
   "cell_type": "code",
   "execution_count": null,
   "metadata": {},
   "outputs": [],
   "source": [
    "from scipy.optimize import minimize"
   ]
  },
  {
   "cell_type": "markdown",
   "metadata": {
    "tags": []
   },
   "source": [
    "### Custom Imports"
   ]
  },
  {
   "cell_type": "code",
   "execution_count": null,
   "metadata": {},
   "outputs": [],
   "source": [
    "from NetworkBuilding import (BuildMillerNetwork, \n",
    "                             BuildNewNetwork, BuildNewNetworkCL,\n",
    "                             MillerMultLocsX, MillerCoupLocsX, NewMultLocs,\n",
    "                             ConvertThetaPhiToTcX, \n",
    "                             Build3dBCoupler, Build5PortSplitter, BuildFBCoupler)"
   ]
  },
  {
   "cell_type": "code",
   "execution_count": null,
   "metadata": {},
   "outputs": [],
   "source": [
    "from ExpComponents import (Multiplier, MultiplierBank, FBCoupler, FBCouplerBank, Build3dBCouplerSim)"
   ]
  },
  {
   "cell_type": "code",
   "execution_count": null,
   "metadata": {},
   "outputs": [],
   "source": [
    "from Miller import (MillerBuilder)"
   ]
  },
  {
   "cell_type": "code",
   "execution_count": null,
   "metadata": {},
   "outputs": [],
   "source": [
    "from UtilityMath import (convertArrayToDict, \n",
    "                         MatrixError, MatrixSqError, \n",
    "                         makePolarPlot, addMatrixDiff, PolarPlot, \n",
    "                         ReIm, \n",
    "                         RandomComplexCircularMatrix, RandomComplexGaussianMatrix, RandomComplexNaiveMatrix, RandomComplexExponentialMatrix,\n",
    "                         IsPassive, RescaleToUnitary)"
   ]
  },
  {
   "cell_type": "code",
   "execution_count": null,
   "metadata": {},
   "outputs": [],
   "source": [
    "from HardwareComms import (MultBankComm, SwitchComm, VNAComm, ExperimentalSetup)"
   ]
  },
  {
   "cell_type": "markdown",
   "metadata": {
    "tags": []
   },
   "source": [
    "### Custom Functions"
   ]
  },
  {
   "cell_type": "code",
   "execution_count": null,
   "metadata": {},
   "outputs": [],
   "source": [
    "def PlotMatricesListAsGrid(matList, shape, maxRad):\n",
    "    \"\"\"\n",
    "    tuningMatrices.shape => (N*M, n, n)\n",
    "    shape = (N, M, n, n)\n",
    "    \"\"\"\n",
    "    N, M, n, n = shape\n",
    "    matricesNxN = matList.reshape(shape)\n",
    "    matricesNxN_List = [[matricesNxN[r,c] for c in range(M)] for r in range(N)]\n",
    "    matrices2D = np.block(matricesNxN_List)\n",
    "    plotComplexArray(matrices2D, maxRad=maxRad)"
   ]
  },
  {
   "cell_type": "code",
   "execution_count": null,
   "metadata": {},
   "outputs": [],
   "source": [
    "def SettingsMatrixToVectors(ps_vga_setting_Mat, multPhysNumberBank):\n",
    "    psVals = ps_vga_setting_Mat[:,:,0].reshape((-1))\n",
    "    vgaVals = ps_vga_setting_Mat[:,:,1].reshape((-1))\n",
    "    physNumbers = multPhysNumberBank.reshape((-1))\n",
    "    return (psVals, vgaVals, physNumbers)"
   ]
  },
  {
   "cell_type": "code",
   "execution_count": null,
   "metadata": {},
   "outputs": [],
   "source": [
    "def SetMultBankSettings(ps_vga_setting_Mat, multBank, multLocBank):\n",
    "    nCols, nRows, _ = ps_vga_setting_Mat.shape  # Is this right?\n",
    "    for i_out in range(nRows):\n",
    "        for i_in in range(nCols):\n",
    "            loc = multLocBank[i_out, i_in]\n",
    "            mult = multBank.getMultByLoc(loc)\n",
    "            psVal, vgaVal = ps_vga_setting_Mat[i_out, i_in]\n",
    "            mult.setSettings(psVal, vgaVal)"
   ]
  },
  {
   "cell_type": "code",
   "execution_count": null,
   "metadata": {},
   "outputs": [],
   "source": [
    "def SetMultBankT(K, multBank, multLocBank, warn=True, verbose=False):\n",
    "    nCols, nRows, _ = ps_vga_setting_Mat.shape\n",
    "    for i_out in range(nRows):\n",
    "        for i_in in range(nCols):\n",
    "            loc = multLocBank[i_out, i_in]\n",
    "            mult = multBank.getMultByLoc(loc)\n",
    "            T = np.sqrt(nCols)*np.sqrt(nRows)*K[i_out, i_in]\n",
    "            mult.setT(T, warn=warn, verbose=verbose)"
   ]
  },
  {
   "cell_type": "code",
   "execution_count": null,
   "metadata": {},
   "outputs": [],
   "source": [
    "def GetMultBankSettings(KShape, multBank, multLocBank):\n",
    "    nCols, nRows = KShape\n",
    "    ps_vga_setting_Mat = np.zeros(shape=(nCols, nRows, 2), dtype='int')\n",
    "    for i_out in range(nRows):\n",
    "        for i_in in range(nCols):\n",
    "            loc = multLocBank[i_out, i_in]\n",
    "            mult = multBank.getMultByLoc(loc)\n",
    "            ps_vga_setting_Mat[i_out, i_in] = (mult.psSetting, mult.vgaSetting)\n",
    "    return ps_vga_setting_Mat"
   ]
  },
  {
   "cell_type": "markdown",
   "metadata": {
    "tags": []
   },
   "source": [
    "# New Architecture"
   ]
  },
  {
   "cell_type": "markdown",
   "metadata": {},
   "source": [
    "This analysis has two steps: Tuning and Performance \n",
    "\n",
    "In the first step, we will tune the model of the devices to account for various idiosynchrasies of the physical network (device irregularities, cable lengths, etc).  \n",
    "\n",
    "In order to do this tuning, we will build a simulation of the network.  The key element in the network is the Multiplier.  This element is represented by a Python Object that is based on a PCA analysis of physical measurements of large set of Multipliers.  Each Multiplier's representation has its own PCA weights that can be adjusted.\n",
    "\n",
    "In order to tune these PCA weights, we will apply a series of test settings (PS value [0-1023] and VGA value [0-1023] to the Multipliers.  Upon performing a physical measurement, this will yield a series of $n \\times n$ scattering matrices for the entire network.  Following that, we can use optimization to adjust the PCA weights of each Multiplier until the network simulations of the same test settings match the physical reasults.\n",
    "\n",
    "Once the devices have been tuned, we can specifiy a desired target network response.  This network can be transformed into Multiplier complex transmission values, $T$.  The algorithm for this step can be quite complicated depending on the network topology (Miller vs New).  By using inverse functions on the PCA weights, we can find the required digital inputs (PS and VGA value) to each physical multiplier.\n",
    "\n",
    "Finally, we apply these digital inputs both in simulation and experiment.  We take a physical measurement of the network and compare the target, simulation, and physical network responses."
   ]
  },
  {
   "cell_type": "markdown",
   "metadata": {
    "tags": []
   },
   "source": [
    "## Definitions (Exp)"
   ]
  },
  {
   "cell_type": "markdown",
   "metadata": {},
   "source": [
    "First we define the various devices."
   ]
  },
  {
   "cell_type": "code",
   "execution_count": null,
   "metadata": {},
   "outputs": [],
   "source": [
    "inputSwitchComm = SwitchComm(comValue='COM4', portAliases={1:6, 2:5, 3:4, 4:3, 5:2, \"test\":1})\n",
    "outputSwitchComm = SwitchComm(comValue='COM3', portAliases={1:3, 2:4, 3:5, 4:6, 5:7, \"test\":1})\n",
    "vnaComm = VNAComm()\n",
    "multBankComm = MultBankComm(comValue='COM5')"
   ]
  },
  {
   "cell_type": "code",
   "execution_count": null,
   "metadata": {},
   "outputs": [],
   "source": [
    "exp = ExperimentalSetup(inputSwitchComm, outputSwitchComm, multBankComm, vnaComm)"
   ]
  },
  {
   "cell_type": "markdown",
   "metadata": {},
   "source": [
    "For convenience, higher level scripts that require coordination between the various devices can be accessed using an `ExperimentalSetup`."
   ]
  },
  {
   "cell_type": "markdown",
   "metadata": {
    "tags": []
   },
   "source": [
    "## Definitions (Sim)"
   ]
  },
  {
   "cell_type": "code",
   "execution_count": null,
   "metadata": {
    "id": "kJNZ1xLPelCt"
   },
   "outputs": [],
   "source": [
    "freq45 = rf.Frequency(start=45, stop=45, npoints=1, unit='mhz', sweep_type='lin')"
   ]
  },
  {
   "cell_type": "markdown",
   "metadata": {},
   "source": [
    "First we need to generate labels for the Multipliers.  For the New architecture, this is a simple square grid.  The format is\n",
    "\n",
    "`('M', 'N', inputLine, outputLine)` \n",
    "\n",
    "where `'M'` is for \"Multiplier\", `'N'` is for \"New\" and `inputLine` and `outputLine` are integers in the range [0,4]."
   ]
  },
  {
   "cell_type": "code",
   "execution_count": null,
   "metadata": {},
   "outputs": [],
   "source": [
    "allMultLocs = NewMultLocs(5, 'N')\n",
    "allMultLocs;"
   ]
  },
  {
   "cell_type": "markdown",
   "metadata": {},
   "source": [
    "Every device has a \"Physical Number\" that is used for addressing to allow the computer to specify to which device a command is intended.  These are enumarated below.  Similar to SParams, the rows denote output lines while the columns denote input lines."
   ]
  },
  {
   "cell_type": "code",
   "execution_count": null,
   "metadata": {},
   "outputs": [],
   "source": [
    "# Be careful here.  A horizontal row in the physical world represents a column in matrix multiplication\n",
    "multPhysNumberBank = [[31, 32, 33, 34, 35],\n",
    "                      [41, 42, 43, 44, 45],\n",
    "                      [16, 17, 18, 19, 20],\n",
    "                      [21, 22, 23, 24, 25],\n",
    "                      [26, 27, 28, 29, 30]]\n",
    "multPhysNumberBank = np.array(multPhysNumberBank).T\n",
    "multPhysNumberBank"
   ]
  },
  {
   "cell_type": "markdown",
   "metadata": {},
   "source": [
    "And just a quick spot check to make sure we have accidently applied a transpose."
   ]
  },
  {
   "cell_type": "code",
   "execution_count": null,
   "metadata": {},
   "outputs": [],
   "source": [
    "multLocBank = np.empty(shape=(5,5), dtype='object')\n",
    "for i_in in range(5):\n",
    "    for i_out in range(5):\n",
    "        multLocBank[i_out, i_in] = ('M', 'N', i_in, i_out)\n",
    "multLocBank    "
   ]
  },
  {
   "cell_type": "code",
   "execution_count": null,
   "metadata": {},
   "outputs": [],
   "source": [
    "inputLine = 2\n",
    "outputLine = 1\n",
    "multPhysNumberBank[outputLine - 1, inputLine - 1]"
   ]
  },
  {
   "cell_type": "markdown",
   "metadata": {},
   "source": [
    "Next we build a MultiplierBank.  This is a collection of Multipliers.  This allows a Multiplier to be retreived by either its `loc` or by its `physNumber`, allowing the MultiplierBank to function both to interact with the physical experiment or a network simulation."
   ]
  },
  {
   "cell_type": "code",
   "execution_count": null,
   "metadata": {},
   "outputs": [],
   "source": [
    "multBank = MultiplierBank()\n",
    "for loc in allMultLocs:\n",
    "    (_, _, inputLine, outputLine) = loc\n",
    "    physNumber = multPhysNumberBank[outputLine, inputLine]\n",
    "    mult = Multiplier(physNumber=physNumber, loc=loc, freq=freq45)\n",
    "    multBank.addMult(mult)"
   ]
  },
  {
   "cell_type": "markdown",
   "metadata": {},
   "source": [
    "Note that passive devices such as 5:1 Splitters are not modeled to the same degree and do not require controlling.  Therefore, we will generate generic elements as we need them."
   ]
  },
  {
   "cell_type": "code",
   "execution_count": null,
   "metadata": {},
   "outputs": [],
   "source": [
    "X0 = multBank.getPersonalityVectors()"
   ]
  },
  {
   "cell_type": "code",
   "execution_count": null,
   "metadata": {},
   "outputs": [],
   "source": [
    "allFBCLocs = [('fb','N', i) for i in range(5)]"
   ]
  },
  {
   "cell_type": "code",
   "execution_count": null,
   "metadata": {},
   "outputs": [],
   "source": [
    "fbCoupBank = FBCouplerBank()"
   ]
  },
  {
   "cell_type": "code",
   "execution_count": null,
   "metadata": {},
   "outputs": [],
   "source": [
    "for loc in allFBCLocs:\n",
    "    fbCoup = FBCoupler(loc=loc)\n",
    "    fbCoupBank.addFBCoup(fbCoup)"
   ]
  },
  {
   "cell_type": "code",
   "execution_count": null,
   "metadata": {},
   "outputs": [],
   "source": [
    "Y0 = fbCoupBank.getPersonalityVectors()"
   ]
  },
  {
   "cell_type": "markdown",
   "metadata": {
    "tags": []
   },
   "source": [
    "## Tuning (Open Loop)"
   ]
  },
  {
   "cell_type": "markdown",
   "metadata": {
    "heading_collapsed": "true",
    "tags": []
   },
   "source": [
    "### Debugging"
   ]
  },
  {
   "cell_type": "code",
   "execution_count": null,
   "metadata": {},
   "outputs": [],
   "source": [
    "for loc in allMultLocs:\n",
    "    mult = multBank.getMultByLoc(loc)\n",
    "    try: \n",
    "        multBankComm.blinkMult(mult.physNumber)\n",
    "    except NameError:\n",
    "        pass        \n",
    "    sleep(0.2)"
   ]
  },
  {
   "cell_type": "code",
   "execution_count": null,
   "metadata": {},
   "outputs": [],
   "source": [
    "inputSwitchComm.setSwitch(5)\n",
    "outputSwitchComm.setSwitch(5)\n",
    "vnaComm.getS21AllAt45()"
   ]
  },
  {
   "cell_type": "code",
   "execution_count": null,
   "metadata": {},
   "outputs": [],
   "source": [
    "coupler1_J21=vnaComm.getS21AllAt45()"
   ]
  },
  {
   "cell_type": "code",
   "execution_count": null,
   "metadata": {},
   "outputs": [],
   "source": [
    "coupler1_J41=vnaComm.getS21AllAt45()"
   ]
  },
  {
   "cell_type": "code",
   "execution_count": null,
   "metadata": {},
   "outputs": [],
   "source": [
    "coupler1_J43=vnaComm.getS21AllAt45()"
   ]
  },
  {
   "cell_type": "code",
   "execution_count": null,
   "metadata": {},
   "outputs": [],
   "source": [
    "coupler1_J23=vnaComm.getS21AllAt45()"
   ]
  },
  {
   "cell_type": "code",
   "execution_count": null,
   "metadata": {},
   "outputs": [],
   "source": [
    "coupler5= np.array([coupler1_J21,coupler1_J41, coupler1_J23, coupler1_J43])"
   ]
  },
  {
   "cell_type": "code",
   "execution_count": null,
   "metadata": {},
   "outputs": [],
   "source": [
    "np.save(\"New_couplers_data/coupler5\", coupler5)"
   ]
  },
  {
   "cell_type": "code",
   "execution_count": null,
   "metadata": {},
   "outputs": [],
   "source": [
    "print(abs(coupler1[:,0]),abs(coupler2[:,0]),abs(coupler3[:,0]),abs(coupler4[:,0]),abs(coupler5[:,0]))"
   ]
  },
  {
   "cell_type": "code",
   "execution_count": null,
   "metadata": {},
   "outputs": [],
   "source": [
    "outIndex = 5\n",
    "inIndex = 5\n",
    "vga, ps = (100, 1000)\n",
    "loc = ('M', 'N', inIndex-1, outIndex-1) # ('M', 'N', in, out) :(.\n",
    "mult = multBank.getMultByLoc(loc)\n",
    "physNum = mult.physNumber\n",
    "print(physNum)\n",
    "multBankComm.setMult(physNum, vga, ps)\n",
    "inputSwitchComm.setSwitch(inIndex)\n",
    "outputSwitchComm.setSwitch(outIndex)\n",
    "sleep(2)\n",
    "vnaComm.getS21AllAt45()"
   ]
  },
  {
   "cell_type": "code",
   "execution_count": null,
   "metadata": {},
   "outputs": [],
   "source": [
    "aa=vnaComm.getS21AllAt45()\n",
    "abs(aa[0])"
   ]
  },
  {
   "cell_type": "code",
   "execution_count": null,
   "metadata": {},
   "outputs": [],
   "source": [
    "multBankComm.setMult(28, 100, 200)"
   ]
  },
  {
   "cell_type": "code",
   "execution_count": null,
   "metadata": {},
   "outputs": [],
   "source": [
    "# inputSwitchComm.portAliases=None\n",
    "# outputSwitchComm.portAliases=None"
   ]
  },
  {
   "cell_type": "code",
   "execution_count": null,
   "metadata": {},
   "outputs": [],
   "source": [
    "inputSwitchComm.setSwitch(1, verbose=True)\n",
    "outputSwitchComm.setSwitch(1, verbose=True)\n",
    "exp.vnaComm.getS21AllAt45()"
   ]
  },
  {
   "cell_type": "code",
   "execution_count": null,
   "metadata": {},
   "outputs": [],
   "source": [
    "inputSwitchComm.close()\n",
    "outputSwitchComm.close()"
   ]
  },
  {
   "cell_type": "code",
   "execution_count": null,
   "metadata": {},
   "outputs": [],
   "source": [
    "outputSwitchComm.setSwitch(\"test\")"
   ]
  },
  {
   "cell_type": "code",
   "execution_count": null,
   "metadata": {},
   "outputs": [],
   "source": [
    "exp.setMults(0, 100, multBank.getPhysNums())"
   ]
  },
  {
   "cell_type": "code",
   "execution_count": null,
   "metadata": {},
   "outputs": [],
   "source": [
    "exp.vnaComm.getS21AllAt45()"
   ]
  },
  {
   "cell_type": "code",
   "execution_count": null,
   "metadata": {},
   "outputs": [],
   "source": [
    "SMat, STD = exp.measureSMatrix(delay=2)"
   ]
  },
  {
   "cell_type": "code",
   "execution_count": null,
   "metadata": {},
   "outputs": [],
   "source": [
    "np.abs(SMat)"
   ]
  },
  {
   "cell_type": "markdown",
   "metadata": {
    "tags": []
   },
   "source": [
    "### Defining Settings"
   ]
  },
  {
   "cell_type": "code",
   "execution_count": null,
   "metadata": {},
   "outputs": [],
   "source": [
    "psVals = np.linspace(0, 1023, 10, dtype=\"int\")\n",
    "vgaVals = np.linspace(0, 1023, 10, dtype=\"int\")"
   ]
  },
  {
   "cell_type": "code",
   "execution_count": null,
   "metadata": {},
   "outputs": [],
   "source": [
    "ps_vga_setting_Mats_OL = [np.full(shape=(5,5,2), fill_value=(ps, vga)) for vga in vgaVals for ps in psVals]\n",
    "ps_vga_setting_Mats_OL = np.array(ps_vga_setting_Mats_OL)"
   ]
  },
  {
   "cell_type": "code",
   "execution_count": null,
   "metadata": {},
   "outputs": [],
   "source": [
    "ps_settings = ps_vga_setting_Mats_OL[:,:,:,0]\n",
    "vga_settings = ps_vga_setting_Mats_OL[:,:,:,1]\n",
    "PlotMatricesListAsGrid(ps_settings, shape=(10, 10, 5, 5), maxRad=1023)\n",
    "PlotMatricesListAsGrid(vga_settings, shape=(10, 10, 5, 5), maxRad=1023)"
   ]
  },
  {
   "cell_type": "markdown",
   "metadata": {
    "tags": []
   },
   "source": [
    "### Physical Measurement"
   ]
  },
  {
   "cell_type": "markdown",
   "metadata": {},
   "source": [
    "Next we define a series of multiplier set points that we'll use to ascertain the multiplier's PCA weights."
   ]
  },
  {
   "cell_type": "markdown",
   "metadata": {},
   "source": [
    "For each PS, VGA pair, the multipliers are uniformly set and the scattering matrix of the network is measured."
   ]
  },
  {
   "cell_type": "code",
   "execution_count": null,
   "metadata": {},
   "outputs": [],
   "source": [
    "# # OLD\n",
    "# tuningMatricesM = []\n",
    "# for (psVal, vgaVal) in tuningVals:\n",
    "#     exp.setMults(int(psVal), int(vgaVal), multBank.getPhysNums())\n",
    "#     time.sleep(1)\n",
    "#     m, std = exp.measureSMatrix(delay=2)\n",
    "#     tuningMatricesM.append(m)\n",
    "# tuningMatricesM = np.array(tuningMatricesM)"
   ]
  },
  {
   "cell_type": "code",
   "execution_count": null,
   "metadata": {},
   "outputs": [],
   "source": [
    "TMatricesMOL = []\n",
    "for ps_vga_setting_Mat in ps_vga_setting_Mats_OL:\n",
    "    (psVals, vgaVals, physNumbers) = SettingsMatrixToVectors(ps_vga_setting_Mat, multPhysNumberBank)\n",
    "    exp.setMults(psVals, vgaVals, physNumbers)\n",
    "    time.sleep(1)\n",
    "    m, std = exp.measureSMatrix(delay=2)\n",
    "    TMatricesMOL.append(m)\n",
    "TMatricesMOL = np.array(TMatricesMOL)"
   ]
  },
  {
   "cell_type": "code",
   "execution_count": null,
   "metadata": {},
   "outputs": [],
   "source": [
    "# for ps_vga_setting_Mat in ps_vga_setting_Mats_OL:\n",
    "#     (psVals, vgaVals, physNumbers) = SettingsMatrixToVectors(ps_vga_setting_Mat, multPhysNumberBank)\n",
    "#     print((psVals, vgaVals, physNumbers))\n",
    "#     print()"
   ]
  },
  {
   "cell_type": "code",
   "execution_count": null,
   "metadata": {},
   "outputs": [],
   "source": [
    "np.save(\"Main_data/new/ps_vga_setting_Mats_OL_11_18_2021\", ps_vga_setting_Mats_OL)\n",
    "np.save(\"Main_data/new/TMatricesMOL_11_18_2021\", TMatricesMOL)"
   ]
  },
  {
   "cell_type": "markdown",
   "metadata": {
    "heading_collapsed": "true",
    "tags": []
   },
   "source": [
    "### Fake Measurements"
   ]
  },
  {
   "cell_type": "code",
   "execution_count": null,
   "metadata": {
    "tags": []
   },
   "outputs": [],
   "source": [
    "def MultBuilder(loc):\n",
    "    return multBank.getRFNetwork(loc)"
   ]
  },
  {
   "cell_type": "code",
   "execution_count": null,
   "metadata": {},
   "outputs": [],
   "source": [
    "def SplitterBuilder(loc):\n",
    "    return Build5PortSplitter(freq45, loc=loc)"
   ]
  },
  {
   "cell_type": "code",
   "execution_count": null,
   "metadata": {},
   "outputs": [],
   "source": [
    "XOL0 = X0.copy()"
   ]
  },
  {
   "cell_type": "code",
   "execution_count": null,
   "metadata": {},
   "outputs": [],
   "source": [
    "XOL0 = multBank.getPersonalityVectors()"
   ]
  },
  {
   "cell_type": "code",
   "execution_count": null,
   "metadata": {},
   "outputs": [],
   "source": [
    "XOLSet = XOL0*np.random.normal(1, 0.1, size=len(X0))"
   ]
  },
  {
   "cell_type": "code",
   "execution_count": null,
   "metadata": {},
   "outputs": [],
   "source": [
    "multBank.setPersonalityVectors(XOLSet)"
   ]
  },
  {
   "cell_type": "code",
   "execution_count": null,
   "metadata": {},
   "outputs": [],
   "source": [
    "# tuningMatricesMOL = []\n",
    "# for (psVal, vgaVal) in tuningVals:\n",
    "#     multBank.setAllMults(psVal, vgaVal)\n",
    "#     newNet = BuildNewNetwork(SplitterBuilder, MultBuilder, loc=\"N\", n=5)\n",
    "#     m = newNet.s[0, 5:, :5]\n",
    "#     tuningMatricesMOL.append(m)\n",
    "# tuningMatricesMOL = np.array(tuningMatricesMOL)"
   ]
  },
  {
   "cell_type": "code",
   "execution_count": null,
   "metadata": {},
   "outputs": [],
   "source": [
    "TMatricesSOL = []\n",
    "for ps_vga_setting_Mat in ps_vga_setting_Mats_OL:\n",
    "    (psVals, vgaVals, physNumbers) = SettingsMatrixToVectors(ps_vga_setting_Mat, multPhysNumberBank)\n",
    "    multBank.setAllMultsArray(psVals, vgaVals, physNumbers)\n",
    "    newNet = BuildNewNetwork(SplitterBuilder, MultBuilder, loc=\"N\", n=5)\n",
    "    m = newNet.s[0, 5:, :5]\n",
    "    TMatricesSOL.append(m)\n",
    "TMatricesSOL = np.array(TMatricesSOL)"
   ]
  },
  {
   "cell_type": "code",
   "execution_count": null,
   "metadata": {},
   "outputs": [],
   "source": [
    "multBank.setPersonalityVectors(XOL0)"
   ]
  },
  {
   "cell_type": "code",
   "execution_count": null,
   "metadata": {},
   "outputs": [],
   "source": [
    "np.save(\"ps_vga_setting_Mats_OL\", ps_vga_setting_Mats_OL)\n",
    "np.save(\"TMatricesSOL\", TMatricesSOL)"
   ]
  },
  {
   "cell_type": "markdown",
   "metadata": {
    "tags": []
   },
   "source": [
    "### Fitting"
   ]
  },
  {
   "cell_type": "code",
   "execution_count": null,
   "metadata": {},
   "outputs": [],
   "source": [
    "XCur = multBank.getPersonalityVectors()"
   ]
  },
  {
   "cell_type": "code",
   "execution_count": null,
   "metadata": {},
   "outputs": [],
   "source": [
    "ps_vga_setting_Mats_OL = np.load(\"Main_data/new/ps_vga_setting_Mats_OL_11_18_2021.npy\")\n",
    "TMatricesOL = np.load(\"Main_data/new/TMatricesMOL_11_18_2021.npy\")  # Change this from \"TMatricesSOL.npy\" to \"TMatricesMOL.npy\" as measured data is available."
   ]
  },
  {
   "cell_type": "code",
   "execution_count": null,
   "metadata": {},
   "outputs": [],
   "source": [
    "PlotMatricesListAsGrid(TMatricesOL, (10, 10, 5, 5), maxRad=1.5)"
   ]
  },
  {
   "cell_type": "markdown",
   "metadata": {},
   "source": [
    "The simulation builder `BuildNewNetwork` requires that we supply it with two functions, one which creates an RF network object from of a 5-way splitter, and another which creates one of the Multiplier.  We will assume that the splitter is generic and employ a simple theoretical model for that which was imported from our `NetworkBuilding` theoretical simulation notebook.  However, for the Multiplier, we will use the `MultiplierBank` and the `loc` code to extract the model for a multiplier assigned to that specific location in the network. "
   ]
  },
  {
   "cell_type": "code",
   "execution_count": null,
   "metadata": {},
   "outputs": [],
   "source": [
    "def MultBuilder(loc):\n",
    "    return multBank.getRFNetwork(loc)"
   ]
  },
  {
   "cell_type": "code",
   "execution_count": null,
   "metadata": {},
   "outputs": [],
   "source": [
    "def SplitterBuilder(loc):\n",
    "    return Build5PortSplitter(freq45, loc=loc)"
   ]
  },
  {
   "cell_type": "markdown",
   "metadata": {},
   "source": [
    "As a quick example of a simulation, we set all the multipliers to the same setting, build a network, and examine the transmissive properties of it."
   ]
  },
  {
   "cell_type": "code",
   "execution_count": null,
   "metadata": {},
   "outputs": [],
   "source": [
    "# set the values for the models\n",
    "multBank.setAllMults(psVal=512, vgaVal=512)"
   ]
  },
  {
   "cell_type": "code",
   "execution_count": null,
   "metadata": {},
   "outputs": [],
   "source": [
    "# building a scikit-RF network object\n",
    "newNet = BuildNewNetwork(SplitterBuilder, MultBuilder, loc=\"N\", n=5)\n",
    "T = newNet.s[0, 5:, :5]\n",
    "T"
   ]
  },
  {
   "cell_type": "markdown",
   "metadata": {},
   "source": [
    "Of course this step can be automated for all of the `(ps, vga)` pairs in the in `tuningVals` to yield `tuningMatricesS`.  "
   ]
  },
  {
   "cell_type": "code",
   "execution_count": null,
   "metadata": {},
   "outputs": [],
   "source": [
    "TMatricesFOL = []\n",
    "for ps_vga_setting_Mat in ps_vga_setting_Mats_OL:\n",
    "    (psVals, vgaVals, physNumbers) = SettingsMatrixToVectors(ps_vga_setting_Mat, multPhysNumberBank)\n",
    "    multBank.setAllMultsArray(psVals, vgaVals, physNumbers)\n",
    "    newNet = BuildNewNetwork(SplitterBuilder, MultBuilder, loc=\"N\", n=5)\n",
    "    m = newNet.s[0, 5:, :5]\n",
    "    TMatricesFOL.append(m)\n",
    "TMatricesFOL = np.array(TMatricesFOL)"
   ]
  },
  {
   "cell_type": "code",
   "execution_count": null,
   "metadata": {},
   "outputs": [],
   "source": [
    "PlotMatricesListAsGrid(TMatricesFOL, (10, 10, 5, 5), maxRad=1.5)"
   ]
  },
  {
   "cell_type": "code",
   "execution_count": null,
   "metadata": {},
   "outputs": [],
   "source": [
    "PlotMatricesListAsGrid(TMatricesOL/TMatricesFOL,(10, 10, 5, 5), maxRad=0.5)"
   ]
  },
  {
   "cell_type": "code",
   "execution_count": null,
   "metadata": {},
   "outputs": [],
   "source": [
    "XOL0=X0\n",
    "grossCorrFact = np.mean(TMatricesOL/TMatricesFOL)\n",
    "print(grossCorrFact)\n",
    "XOL1 = (grossCorrFact*XCur.view('complex')).view('float')\n",
    "grossCorrFact"
   ]
  },
  {
   "cell_type": "markdown",
   "metadata": {},
   "source": [
    "Ideally, this would yield the exact same network scattering matrices as were measured and contained in `tuningMatricesM`.  Of course they won't because each physical device has its own personality and other factors such as varying cable lengths.  We will therefore optimize the PCA weights of each device in simulation in an attempt to create collection of devices which match the real behavior of the experimental devices.\n",
    "\n",
    "In order to perform this optimization, we use SciPy's multivariate minimization function `minimize()`.  The format of this \n",
    "`scipy.optimize.minimize(fun, X0)` where `fun` is built such that `fun(X) -> error` where `X` and `X0` are 1D vectors of the real scalars to be optimized.  In order to make this easy, the MultiplierBank comes with two functions `setPersonalityVectors(X)` and `X0 = getPersonalityVectors()`, which grabs the complex PCA weights from all the multipliers as mashes them into a real 1D vector.  The two functions are designed to operate together so that the data"
   ]
  },
  {
   "cell_type": "code",
   "execution_count": null,
   "metadata": {},
   "outputs": [],
   "source": [
    "def fun(X):\n",
    "    multBank.setPersonalityVectors(X)\n",
    "    TMatricesFOL = []\n",
    "    for ps_vga_setting_Mat in ps_vga_setting_Mats_OL:\n",
    "        (psVals, vgaVals, physNumbers) = SettingsMatrixToVectors(ps_vga_setting_Mat, multPhysNumberBank)\n",
    "        multBank.setAllMultsArray(psVals, vgaVals, physNumbers)\n",
    "        newNet = BuildNewNetwork(SplitterBuilder, MultBuilder, loc=\"N\", n=5)\n",
    "        m = newNet.s[0, 5:, :5]\n",
    "        TMatricesFOL.append(m)\n",
    "    TMatricesFOL = np.array(TMatricesFOL)\n",
    "    errorNorm = np.sum(np.abs(TMatricesOL)**2)    \n",
    "    error = np.sum(np.abs(TMatricesFOL - TMatricesOL)**2)/errorNorm\n",
    "    print(error, end='\\r')\n",
    "    return error"
   ]
  },
  {
   "cell_type": "code",
   "execution_count": null,
   "metadata": {},
   "outputs": [],
   "source": [
    "fun(XOL0)"
   ]
  },
  {
   "cell_type": "code",
   "execution_count": null,
   "metadata": {},
   "outputs": [],
   "source": [
    "fun(XOL1)"
   ]
  },
  {
   "cell_type": "code",
   "execution_count": null,
   "metadata": {},
   "outputs": [],
   "source": [
    "fit = sp.optimize.minimize(fun, XOL1, method='Powell', \n",
    "                           options={'disp':True, 'adaptive':True, 'fatol':0.01})"
   ]
  },
  {
   "cell_type": "code",
   "execution_count": null,
   "metadata": {},
   "outputs": [],
   "source": [
    "XOLF = multBank.getPersonalityVectors()"
   ]
  },
  {
   "cell_type": "code",
   "execution_count": null,
   "metadata": {},
   "outputs": [],
   "source": [
    "# XOLF = fit.x"
   ]
  },
  {
   "cell_type": "markdown",
   "metadata": {},
   "source": [
    "Error when multipliers are the uniform average all devices measured in the PCA:"
   ]
  },
  {
   "cell_type": "markdown",
   "metadata": {},
   "source": [
    "Error following fitting the PCA weights:"
   ]
  },
  {
   "cell_type": "code",
   "execution_count": null,
   "metadata": {},
   "outputs": [],
   "source": [
    "fun(XOLF)"
   ]
  },
  {
   "cell_type": "code",
   "execution_count": null,
   "metadata": {},
   "outputs": [],
   "source": [
    "multBank.setPersonalityVectors(XOLF)"
   ]
  },
  {
   "cell_type": "code",
   "execution_count": null,
   "metadata": {},
   "outputs": [],
   "source": [
    "TMatricesFOL = []\n",
    "for ps_vga_setting_Mat in ps_vga_setting_Mats_OL:\n",
    "    (psVals, vgaVals, physNumbers) = SettingsMatrixToVectors(ps_vga_setting_Mat, multPhysNumberBank)\n",
    "    multBank.setAllMultsArray(psVals, vgaVals, physNumbers)\n",
    "    newNet = BuildNewNetwork(SplitterBuilder, MultBuilder, loc=\"N\", n=5)\n",
    "    m = newNet.s[0, 5:, :5]\n",
    "    TMatricesFOL.append(m)\n",
    "TMatricesFOL = np.array(TMatricesFOL)"
   ]
  },
  {
   "cell_type": "code",
   "execution_count": null,
   "metadata": {},
   "outputs": [],
   "source": [
    "PlotMatricesListAsGrid(TMatricesFOL, (10, 10, 5, 5), maxRad=1.5)"
   ]
  },
  {
   "cell_type": "code",
   "execution_count": null,
   "metadata": {},
   "outputs": [],
   "source": [
    "np.save(\"Main_data/new/XOLF_11_18_2021\", XOLF)"
   ]
  },
  {
   "cell_type": "markdown",
   "metadata": {},
   "source": [
    "## Tuning Closed Loop"
   ]
  },
  {
   "cell_type": "markdown",
   "metadata": {
    "heading_collapsed": "true",
    "tags": []
   },
   "source": [
    "### Defining Passive Random Matrix Settings"
   ]
  },
  {
   "cell_type": "code",
   "execution_count": null,
   "metadata": {},
   "outputs": [],
   "source": [
    "XOLF = np.load(\"Main_data/new/XOLF_11_18_2021.npy\")"
   ]
  },
  {
   "cell_type": "code",
   "execution_count": null,
   "metadata": {},
   "outputs": [],
   "source": [
    "multBank.setPersonalityVectors(XOLF)"
   ]
  },
  {
   "cell_type": "code",
   "execution_count": null,
   "metadata": {},
   "outputs": [],
   "source": [
    "ps_vga_setting_Mats_CL = []\n",
    "for _ in range(100):\n",
    "    K = RescaleToUnitary(RandomComplexNaiveMatrix(0.3, (5,5)), 0.9)\n",
    "    SetMultBankT(K, multBank, multLocBank)\n",
    "    ps_vga_setting_Mat = GetMultBankSettings((5,5), multBank, multLocBank)\n",
    "    ps_vga_setting_Mats_CL.append(ps_vga_setting_Mat)\n",
    "ps_vga_setting_Mats_CL = np.array(ps_vga_setting_Mats_CL)"
   ]
  },
  {
   "cell_type": "code",
   "execution_count": null,
   "metadata": {},
   "outputs": [],
   "source": [
    "ps_settings = ps_vga_setting_Mats_CL[:,:,:,0]\n",
    "vga_settings = ps_vga_setting_Mats_CL[:,:,:,1]\n",
    "PlotMatricesListAsGrid(ps_settings, shape=(10, 10, 5, 5), maxRad=1023)\n",
    "PlotMatricesListAsGrid(vga_settings, shape=(10, 10, 5, 5), maxRad=1023)"
   ]
  },
  {
   "cell_type": "code",
   "execution_count": null,
   "metadata": {},
   "outputs": [],
   "source": [
    "np.save(\"Main_data/new/ps_vga_setting_Mats_CL_11_19_2021\", ps_vga_setting_Mats_CL)"
   ]
  },
  {
   "cell_type": "markdown",
   "metadata": {
    "tags": []
   },
   "source": [
    "### Physical Measurement"
   ]
  },
  {
   "cell_type": "code",
   "execution_count": null,
   "metadata": {},
   "outputs": [],
   "source": [
    "ps_vga_setting_Mats_CL = np.load(\"Main_data/new/ps_vga_setting_Mats_CL_11_19_2021.npy\")\n",
    "ps_vga_setting_Mats_CL.shape"
   ]
  },
  {
   "cell_type": "code",
   "execution_count": null,
   "metadata": {},
   "outputs": [],
   "source": [
    "TMatricesMCL = []\n",
    "for ps_vga_setting_Mat in ps_vga_setting_Mats_CL:\n",
    "    (psVals, vgaVals, physNumbers) = SettingsMatrixToVectors(ps_vga_setting_Mat, multPhysNumberBank)\n",
    "    exp.setMults(psVals, vgaVals, physNumbers)\n",
    "    time.sleep(1)\n",
    "    m, std = exp.measureSMatrix(delay=2)\n",
    "    TMatricesMCL.append(m)\n",
    "TMatricesMCL = np.array(TMatricesMCL)"
   ]
  },
  {
   "cell_type": "code",
   "execution_count": null,
   "metadata": {},
   "outputs": [],
   "source": [
    "np.save(\"Main_data/new/TMatricesMCL_11_19_2021\", TMatricesMCL)"
   ]
  },
  {
   "cell_type": "markdown",
   "metadata": {
    "heading_collapsed": "true",
    "tags": []
   },
   "source": [
    "### Fake Measurements"
   ]
  },
  {
   "cell_type": "code",
   "execution_count": null,
   "metadata": {},
   "outputs": [],
   "source": [
    "XOLF = np.load(\"XOLF.npy\")"
   ]
  },
  {
   "cell_type": "code",
   "execution_count": null,
   "metadata": {},
   "outputs": [],
   "source": [
    "ps_vga_setting_Mats_CL = np.load(\"ps_vga_setting_Mats_CL.npy\")\n",
    "ps_vga_setting_Mats_CL.shape"
   ]
  },
  {
   "cell_type": "code",
   "execution_count": null,
   "metadata": {},
   "outputs": [],
   "source": [
    "multBank.setPersonalityVectors(XOLF)"
   ]
  },
  {
   "cell_type": "code",
   "execution_count": null,
   "metadata": {
    "tags": []
   },
   "outputs": [],
   "source": [
    "def MultBuilder(loc):\n",
    "    return multBank.getRFNetwork(loc)"
   ]
  },
  {
   "cell_type": "code",
   "execution_count": null,
   "metadata": {},
   "outputs": [],
   "source": [
    "def SplitterBuilder(loc):\n",
    "    return Build5PortSplitter(freq45, loc=loc)"
   ]
  },
  {
   "cell_type": "code",
   "execution_count": null,
   "metadata": {},
   "outputs": [],
   "source": [
    "def FBCouplerBuilder(loc):\n",
    "    return fbCoupBank.getRFNetwork(loc)"
   ]
  },
  {
   "cell_type": "code",
   "execution_count": null,
   "metadata": {},
   "outputs": [],
   "source": [
    "X0CL = multBank.getPersonalityVectors()"
   ]
  },
  {
   "cell_type": "code",
   "execution_count": null,
   "metadata": {},
   "outputs": [],
   "source": [
    "Y0CL = Y0.copy()"
   ]
  },
  {
   "cell_type": "code",
   "execution_count": null,
   "metadata": {},
   "outputs": [],
   "source": [
    "XCLSet = X0CL*np.random.normal(1, 0.02, size=len(X0CL))"
   ]
  },
  {
   "cell_type": "code",
   "execution_count": null,
   "metadata": {},
   "outputs": [],
   "source": [
    "multBank.setPersonalityVectors(XCLSet)"
   ]
  },
  {
   "cell_type": "code",
   "execution_count": null,
   "metadata": {},
   "outputs": [],
   "source": [
    "YCLSet = Y0CL*np.random.normal(1, 0.1, size=len(Y0CL))"
   ]
  },
  {
   "cell_type": "code",
   "execution_count": null,
   "metadata": {},
   "outputs": [],
   "source": [
    "fbCoupBank.setPersonalityVectors(YCLSet)"
   ]
  },
  {
   "cell_type": "code",
   "execution_count": null,
   "metadata": {},
   "outputs": [],
   "source": [
    "newNet = BuildNewNetworkCL(SplitterBuilder, MultBuilder, FBCouplerBuilder, loc=\"N\", n=5)\n",
    "newNet.s[0, 5:, :5]"
   ]
  },
  {
   "cell_type": "code",
   "execution_count": null,
   "metadata": {},
   "outputs": [],
   "source": [
    "TMatricesSCL = []\n",
    "for ps_vga_setting_Mat in ps_vga_setting_Mats_CL:\n",
    "    (psVals, vgaVals, physNumbers) = SettingsMatrixToVectors(ps_vga_setting_Mat, multPhysNumberBank)\n",
    "    multBank.setAllMultsArray(psVals, vgaVals, physNumbers)\n",
    "    newNet = BuildNewNetworkCL(SplitterBuilder, MultBuilder, FBCouplerBuilder, loc=\"N\", n=5)\n",
    "    m = newNet.s[0, 5:, :5]\n",
    "    TMatricesSCL.append(m)\n",
    "TMatricesSCL = np.array(TMatricesSCL)"
   ]
  },
  {
   "cell_type": "code",
   "execution_count": null,
   "metadata": {},
   "outputs": [],
   "source": [
    "PlotMatricesListAsGrid(TMatricesSCL, shape=(3, 5, 5, 5), maxRad=0.01)"
   ]
  },
  {
   "cell_type": "code",
   "execution_count": null,
   "metadata": {},
   "outputs": [],
   "source": [
    "multBank.setPersonalityVectors(X0CL)\n",
    "fbCoupBank.setPersonalityVectors(Y0CL)"
   ]
  },
  {
   "cell_type": "code",
   "execution_count": null,
   "metadata": {},
   "outputs": [],
   "source": [
    "np.save(\"ps_vga_setting_Mats_CL\", ps_vga_setting_Mats_CL)\n",
    "np.save(\"TMatricesSCL\", TMatricesSCL)"
   ]
  },
  {
   "cell_type": "markdown",
   "metadata": {
    "tags": []
   },
   "source": [
    "### Fitting"
   ]
  },
  {
   "cell_type": "code",
   "execution_count": null,
   "metadata": {},
   "outputs": [],
   "source": [
    "ps_vga_setting_Mats_CL = np.load(\"Main_data/new/ps_vga_setting_Mats_CL_11_19_2021.npy\")\n",
    "TMatricesCL = np.load(\"Main_data/new/TMatricesMCL_11_19_2021.npy\")\n",
    "X0CL = np.load(\"Main_data/new/XOLF_11_18_2021.npy\")\n",
    "Y0CL = Y0.copy()"
   ]
  },
  {
   "cell_type": "code",
   "execution_count": null,
   "metadata": {},
   "outputs": [],
   "source": [
    "multBank.setPersonalityVectors(X0CL)\n",
    "fbCoupBank.setPersonalityVectors(Y0CL)"
   ]
  },
  {
   "cell_type": "code",
   "execution_count": null,
   "metadata": {},
   "outputs": [],
   "source": [
    "PlotMatricesListAsGrid(TMatricesCL, shape=(10, 10, 5, 5), maxRad=0.001)"
   ]
  },
  {
   "cell_type": "markdown",
   "metadata": {},
   "source": [
    "The simulation builder `BuildNewNetwork` requires that we supply it with two functions, one which creates an RF network object from of a 5-way splitter, and another which creates one of the Multiplier.  We will assume that the splitter is generic and employ a simple theoretical model for that which was imported from our `NetworkBuilding` theoretical simulation notebook.  However, for the Multiplier, we will use the `MultiplierBank` and the `loc` code to extract the model for a multiplier assigned to that specific location in the network. "
   ]
  },
  {
   "cell_type": "code",
   "execution_count": null,
   "metadata": {},
   "outputs": [],
   "source": [
    "def MultBuilder(loc):\n",
    "    return multBank.getRFNetwork(loc)"
   ]
  },
  {
   "cell_type": "code",
   "execution_count": null,
   "metadata": {
    "tags": []
   },
   "outputs": [],
   "source": [
    "def SplitterBuilder(loc):\n",
    "    return Build5PortSplitter(freq45, loc=loc)"
   ]
  },
  {
   "cell_type": "code",
   "execution_count": null,
   "metadata": {},
   "outputs": [],
   "source": [
    "def FBCouplerBuilder(loc):\n",
    "    return fbCoupBank.getRFNetwork(loc)"
   ]
  },
  {
   "cell_type": "code",
   "execution_count": null,
   "metadata": {},
   "outputs": [],
   "source": [
    "# def setMultBank(ps_vga_setting_Mat, multBank):\n",
    "#     nCols, nRows, _ = ps_vga_setting_Mat.shape\n",
    "#     for i_out in range(nRows):\n",
    "#         for i_in in range(nCols):\n",
    "#             loc = ('M', 'N', i_in, i_out)\n",
    "#             mult = multBank.getMultByLoc(loc)\n",
    "#             psVal, vgaVal = ps_vga_setting_Mat[i_out, i_in]\n",
    "#             mult.setSettings(psVal, vgaVal)"
   ]
  },
  {
   "cell_type": "markdown",
   "metadata": {},
   "source": [
    "As a quick example of a simulation, we set all the multipliers to the same setting, build a network, and examine the transmissive properties of it."
   ]
  },
  {
   "cell_type": "code",
   "execution_count": null,
   "metadata": {},
   "outputs": [],
   "source": [
    "ps_vga_setting_Mat = ps_vga_setting_Mats_CL[0]\n",
    "SetMultBankSettings(ps_vga_setting_Mat, multBank, multLocBank)"
   ]
  },
  {
   "cell_type": "code",
   "execution_count": null,
   "metadata": {},
   "outputs": [],
   "source": [
    "# building a scikit-RF network object\n",
    "newNet = BuildNewNetworkCL(SplitterBuilder, MultBuilder, FBCouplerBuilder, loc=\"N\", n=5)\n",
    "T = newNet.s[0, 5:, :5]\n",
    "T"
   ]
  },
  {
   "cell_type": "markdown",
   "metadata": {},
   "source": [
    "Of course this step can be automated for all of the `(ps, vga)` pairs in the in `tuningVals` to yield `tuningMatricesS`.  "
   ]
  },
  {
   "cell_type": "code",
   "execution_count": null,
   "metadata": {},
   "outputs": [],
   "source": [
    "TMatricesFCL = []\n",
    "for ps_vga_setting_Mat in ps_vga_setting_Mats_CL:\n",
    "    SetMultBankSettings(ps_vga_setting_Mat, multBank, multLocBank)\n",
    "    newNet = BuildNewNetworkCL(SplitterBuilder, MultBuilder, FBCouplerBuilder, loc=\"N\", n=5)\n",
    "    m = newNet.s[0, 5:, :5]\n",
    "    TMatricesFCL.append(m)\n",
    "TMatricesFCL = np.array(TMatricesFCL)"
   ]
  },
  {
   "cell_type": "code",
   "execution_count": null,
   "metadata": {},
   "outputs": [],
   "source": [
    "PlotMatricesListAsGrid(TMatricesFCL, (10, 10, 5, 5), maxRad=0.001)"
   ]
  },
  {
   "cell_type": "markdown",
   "metadata": {},
   "source": [
    "Ideally, this would yield the exact same network scattering matrices as were measured and contained in `tuningMatricesM`.  Of course they won't because each physical device has its own personality and other factors such as varying cable lengths.  We will therefore optimize the PCA weights of each device in simulation in an attempt to create collection of devices which match the real behavior of the experimental devices.\n",
    "\n",
    "In order to perform this optimization, we use SciPy's multivariate minimization function `minimize()`.  The format of this \n",
    "`scipy.optimize.minimize(fun, X0)` where `fun` is built such that `fun(X) -> error` where `X` and `X0` are 1D vectors of the real scalars to be optimized.  In order to make this easy, the MultiplierBank comes with two functions `setPersonalityVectors(X)` and `X0 = getPersonalityVectors()`, which grabs the complex PCA weights from all the multipliers as mashes them into a real 1D vector.  The two functions are designed to operate together so that the data"
   ]
  },
  {
   "cell_type": "code",
   "execution_count": null,
   "metadata": {},
   "outputs": [],
   "source": [
    "print(X0CL.size, Y0CL.size)"
   ]
  },
  {
   "cell_type": "code",
   "execution_count": null,
   "metadata": {},
   "outputs": [],
   "source": [
    "def fun(Z):\n",
    "    X = Z[:(X0CL.size)]\n",
    "    Y = Z[(-Y0CL.size):]\n",
    "    multBank.setPersonalityVectors(X)\n",
    "    fbCoupBank.setPersonalityVectors(Y)\n",
    "    TMatricesFCL = []\n",
    "    for ps_vga_setting_Mat in ps_vga_setting_Mats_CL:\n",
    "        # setMultBank(ps_vga_setting_Mat, multBank)\n",
    "        SetMultBankSettings(ps_vga_setting_Mat, multBank, multLocBank)        \n",
    "        newNet = BuildNewNetworkCL(SplitterBuilder, MultBuilder, FBCouplerBuilder, loc=\"N\", n=5)\n",
    "        m = newNet.s[0, 5:, :5]\n",
    "        TMatricesFCL.append(m)\n",
    "    TMatricesFCL = np.array(TMatricesFCL)\n",
    "    errorNorm = np.sum(np.abs(TMatricesCL)**2)\n",
    "    error = np.sum(np.abs(TMatricesFCL - TMatricesCL)**2)/errorNorm\n",
    "    print(error, end='\\r')\n",
    "    return error"
   ]
  },
  {
   "cell_type": "code",
   "execution_count": null,
   "metadata": {},
   "outputs": [],
   "source": [
    "Z0CL = np.append(X0CL, Y0CL)\n",
    "fun(Z0CL)"
   ]
  },
  {
   "cell_type": "code",
   "execution_count": null,
   "metadata": {},
   "outputs": [],
   "source": [
    "fit = sp.optimize.minimize(fun, Z0CL, method='Powell', \n",
    "                           options={'disp':True, 'adaptive':True, 'fatol':0.01})"
   ]
  },
  {
   "cell_type": "code",
   "execution_count": null,
   "metadata": {},
   "outputs": [],
   "source": [
    "XFCL = multBank.getPersonalityVectors()\n",
    "YFCL = fbCoupBank.getPersonalityVectors()"
   ]
  },
  {
   "cell_type": "code",
   "execution_count": null,
   "metadata": {},
   "outputs": [],
   "source": [
    "# ZCLF = fit.x\n",
    "# XCLF = ZCLF[:(X0CL.size)]\n",
    "# YCLF = ZCLF[(-Y0CL.size):]"
   ]
  },
  {
   "cell_type": "markdown",
   "metadata": {},
   "source": [
    "Error when multipliers are the uniform average all devices measured in the PCA:"
   ]
  },
  {
   "cell_type": "markdown",
   "metadata": {},
   "source": [
    "Error following fitting the PCA weights:"
   ]
  },
  {
   "cell_type": "code",
   "execution_count": null,
   "metadata": {},
   "outputs": [],
   "source": [
    "fun(np.append(XFCL, YFCL))"
   ]
  },
  {
   "cell_type": "code",
   "execution_count": null,
   "metadata": {},
   "outputs": [],
   "source": [
    "multBank.setPersonalityVectors(XFCL)\n",
    "fbCoupBank.setPersonalityVectors(YFCL)"
   ]
  },
  {
   "cell_type": "code",
   "execution_count": null,
   "metadata": {},
   "outputs": [],
   "source": [
    "TMatricesFCL = []\n",
    "for ps_vga_setting_Mat in ps_vga_setting_Mats_CL:\n",
    "    (psVals, vgaVals, physNumbers) = SettingsMatrixToVectors(ps_vga_setting_Mat, multPhysNumberBank)\n",
    "    multBank.setAllMultsArray(psVals, vgaVals, physNumbers)\n",
    "    newNet = BuildNewNetworkCL(SplitterBuilder, MultBuilder, FBCouplerBuilder, loc=\"N\", n=5)\n",
    "    m = newNet.s[0, 5:, :5]\n",
    "    TMatricesFCL.append(m)\n",
    "TMatricesFCL = np.array(TMatricesFCL)"
   ]
  },
  {
   "cell_type": "code",
   "execution_count": null,
   "metadata": {},
   "outputs": [],
   "source": [
    "PlotMatricesListAsGrid(TMatricesFCL, (10, 10, 5, 5), maxRad=0.001)"
   ]
  },
  {
   "cell_type": "code",
   "execution_count": null,
   "metadata": {},
   "outputs": [],
   "source": [
    "PlotMatricesListAsGrid(TMatricesCL, (10, 10, 5, 5), maxRad=0.001)"
   ]
  },
  {
   "cell_type": "code",
   "execution_count": null,
   "metadata": {},
   "outputs": [],
   "source": [
    "np.save(\"Main_data/new/XFCL_11_19_2021\", XFCL)\n",
    "np.save(\"Main_data/new/YFCL_11_19_2021\", YFCL)"
   ]
  },
  {
   "cell_type": "markdown",
   "metadata": {
    "tags": []
   },
   "source": [
    "# Set and Measure a Matrix"
   ]
  },
  {
   "cell_type": "code",
   "execution_count": null,
   "metadata": {},
   "outputs": [],
   "source": [
    "XF = np.load(\"XFCL.npy\")\n",
    "multBank.setPersonalityVectors(XF)\n",
    "YF = np.load(\"YFCL.npy\")\n",
    "fbCoupBank.setPersonalityVectors(YF)"
   ]
  },
  {
   "cell_type": "code",
   "execution_count": null,
   "metadata": {},
   "outputs": [],
   "source": [
    "# def calcNewMatrixSettings(K, multBank, n, warn=True, verbose=False):\n",
    "#     expK = []\n",
    "#     for i_out in range(n):\n",
    "#         expRow = []\n",
    "#         for i_in in range(n):\n",
    "#             loc = ('M', 'N', i_in, i_out)\n",
    "#             mult = multBank.getMultByLoc(loc)\n",
    "#             T = 5*K[i_out, i_in]\n",
    "#             mult.setT(T, warn=warn, verbose=verbose)\n",
    "#             Texp = mult.TExpected\n",
    "#             expRow.append(Texp)\n",
    "#         expK.append(expRow)\n",
    "#     expK = np.array(expK)\n",
    "#     return (expK/n)"
   ]
  },
  {
   "cell_type": "code",
   "execution_count": null,
   "metadata": {},
   "outputs": [],
   "source": [
    "# def setExpMultBank(exp, multBank):\n",
    "#     physNums = multBank.getPhysNums()\n",
    "#     psSettings = [multBank.getMultByPhysNum(physNum).psSetting for physNum in physNums]\n",
    "#     vgaSettings = [multBank.getMultByPhysNum(physNum).vgaSetting for physNum in physNums]\n",
    "#     exp.setMults(psSettings, vgaSettings, physNums)"
   ]
  },
  {
   "cell_type": "code",
   "execution_count": null,
   "metadata": {},
   "outputs": [],
   "source": [
    "# XF = np.load(\"Main_data/personalityVector_15072021.npy\")"
   ]
  },
  {
   "cell_type": "code",
   "execution_count": null,
   "metadata": {},
   "outputs": [],
   "source": [
    "# multBank.setPersonalityVectors(XF)"
   ]
  },
  {
   "cell_type": "markdown",
   "metadata": {
    "heading_collapsed": "true",
    "tags": []
   },
   "source": [
    "## Compare Current System to Tuning Matrices"
   ]
  },
  {
   "cell_type": "code",
   "execution_count": null,
   "metadata": {},
   "outputs": [],
   "source": [
    "ps_vga_setting_Mats_CL = np.load(\"ps_vga_setting_Mats_CL.npy\")\n",
    "tuningMatricesM = np.load(\"Main_data/tuningMatricesM25_15072021.npy\")\n",
    "TMatricesMCL = np.load(\"TMatricesMCL.npy\")"
   ]
  },
  {
   "cell_type": "code",
   "execution_count": null,
   "metadata": {},
   "outputs": [],
   "source": [
    "testCase = 622"
   ]
  },
  {
   "cell_type": "code",
   "execution_count": null,
   "metadata": {},
   "outputs": [],
   "source": [
    "tuningVals[testCase]"
   ]
  },
  {
   "cell_type": "code",
   "execution_count": null,
   "metadata": {},
   "outputs": [],
   "source": [
    "(psVal, vgaVal) = tuningVals[testCase]\n",
    "multBank.setAllMults(psVal, vgaVal)\n",
    "setExpMultBank(exp, multBank)\n",
    "m, std = exp.measureSMatrix(delay=2)\n",
    "print(m)"
   ]
  },
  {
   "cell_type": "code",
   "execution_count": null,
   "metadata": {},
   "outputs": [],
   "source": [
    "oldM = tuningMatricesM[testCase]"
   ]
  },
  {
   "cell_type": "code",
   "execution_count": null,
   "metadata": {},
   "outputs": [],
   "source": [
    "oldM"
   ]
  },
  {
   "cell_type": "code",
   "execution_count": null,
   "metadata": {},
   "outputs": [],
   "source": [
    "MatrixError(m,oldM)"
   ]
  },
  {
   "cell_type": "code",
   "execution_count": null,
   "metadata": {},
   "outputs": [],
   "source": [
    "tempCOMP=MatrixError(m,oldM)/25\n",
    "tempCOMP"
   ]
  },
  {
   "cell_type": "markdown",
   "metadata": {
    "heading_collapsed": "true",
    "tags": []
   },
   "source": [
    "## Inversion Experiment"
   ]
  },
  {
   "cell_type": "code",
   "execution_count": null,
   "metadata": {},
   "outputs": [],
   "source": [
    "KMidRange = np.full((5,5), fill_value=(-.25+.75j)/5)"
   ]
  },
  {
   "cell_type": "code",
   "execution_count": null,
   "metadata": {},
   "outputs": [],
   "source": [
    "RandomComplexCircularMatrix(0.5, (5,5));"
   ]
  },
  {
   "cell_type": "code",
   "execution_count": null,
   "metadata": {},
   "outputs": [],
   "source": [
    "KRand1 = np.array([[-0.395-0.074j,  0.002+0.214j, -0.174+0.235j,  0.456-0.18j , -0.383+0.171j],\n",
    "                   [-0.461-0.019j, -0.075+0.19j , -0.251+0.301j, -0.132+0.09j , -0.225+0.013j],\n",
    "                   [-0.409-0.236j, -0.124+0.037j,  0.103+0.197j, -0.436+0.241j, -0.05 +0.148j],\n",
    "                   [ 0.025-0.064j, -0.183-0.198j, -0.075-0.225j, -0.014+0.166j, -0.053+0.174j],\n",
    "                   [ 0.373+0.042j, -0.014+0.05j ,  0.034+0.392j,  0.195+0.178j,  0.005-0.079j]])\n",
    "np.sort(abs(np.linalg.eigvals(KRand1)))[::-1]"
   ]
  },
  {
   "cell_type": "code",
   "execution_count": null,
   "metadata": {},
   "outputs": [],
   "source": [
    "KRand2 = np.array([[ 0.226+0.27j ,  0.142-0.411j, -0.205-0.386j,  0.146-0.415j,  0.252-0.283j],\n",
    "                   [-0.383-0.102j,  0.123-0.095j,  0.316-0.183j, -0.422-0.19j ,  0.041+0.079j],\n",
    "                   [-0.141-0.071j, -0.391+0.113j,  0.065-0.305j,  0.028+0.169j,  0.168+0.385j],\n",
    "                   [ 0.094-0.225j,  0.21 -0.059j, -0.108+0.427j, -0.139-0.241j,  0.22 +0.272j],\n",
    "                   [ 0.464-0.107j,  0.446+0.202j, -0.259-0.406j,  0.236-0.308j, -0.005-0.28j ]])\n",
    "np.sort(abs(np.linalg.eigvals(KRand2)))[::-1]"
   ]
  },
  {
   "cell_type": "code",
   "execution_count": null,
   "metadata": {},
   "outputs": [],
   "source": [
    "K = KRand2\n",
    "expName = 'trial3_'"
   ]
  },
  {
   "cell_type": "code",
   "execution_count": null,
   "metadata": {},
   "outputs": [],
   "source": [
    "KHWExp = calcNewMatrixSettings(K, multBank, 5)\n",
    "print(KHWExp)"
   ]
  },
  {
   "cell_type": "code",
   "execution_count": null,
   "metadata": {},
   "outputs": [],
   "source": [
    "np.save(expName+\"goalK\",K)\n",
    "np.save(expName+\"KHWExp\", KHWExp)"
   ]
  },
  {
   "cell_type": "code",
   "execution_count": null,
   "metadata": {},
   "outputs": [],
   "source": [
    "setExpMultBank(exp, multBank)\n",
    "m, std = exp.measureSMatrix(delay=2)"
   ]
  },
  {
   "cell_type": "code",
   "execution_count": null,
   "metadata": {},
   "outputs": [],
   "source": [
    "std"
   ]
  },
  {
   "cell_type": "code",
   "execution_count": null,
   "metadata": {},
   "outputs": [],
   "source": [
    "plotComplexArray(m, maxRad=np.max(np.abs(m)))"
   ]
  },
  {
   "cell_type": "code",
   "execution_count": null,
   "metadata": {},
   "outputs": [],
   "source": [
    "# np.save(expName+\"measK\", m)\n",
    "np.save(expName+\"measKInv\", m)"
   ]
  },
  {
   "cell_type": "code",
   "execution_count": null,
   "metadata": {},
   "outputs": [],
   "source": [
    "spr = np.array([5*[0]]).T"
   ]
  },
  {
   "cell_type": "code",
   "execution_count": null,
   "metadata": {},
   "outputs": [],
   "source": [
    "plotData = np.hstack((K, spr, KHWExp, spr, m))\n",
    "plotComplexArray(plotData, maxRad=0.1)"
   ]
  },
  {
   "cell_type": "markdown",
   "metadata": {
    "heading_collapsed": "true",
    "tags": []
   },
   "source": [
    "## Post Processing"
   ]
  },
  {
   "cell_type": "code",
   "execution_count": null,
   "metadata": {},
   "outputs": [],
   "source": [
    "expName = 'trial3_'"
   ]
  },
  {
   "cell_type": "code",
   "execution_count": null,
   "metadata": {},
   "outputs": [],
   "source": [
    "K_goal = np.load(expName+'goalK.npy')\n",
    "K_HWExp = np.load(expName+'KHWExp.npy')\n",
    "K_meas = np.load(expName+'measK.npy')\n",
    "K_measInv = np.load(expName+'measKInv.npy')"
   ]
  },
  {
   "cell_type": "code",
   "execution_count": null,
   "metadata": {},
   "outputs": [],
   "source": [
    "plotData = np.hstack((K_goal, spr, K_HWExp, spr, K_meas))\n",
    "maxVal = np.max(np.abs(plotData))\n",
    "print(maxVal)\n",
    "plotComplexArray(plotData, maxRad=maxVal)"
   ]
  },
  {
   "cell_type": "code",
   "execution_count": null,
   "metadata": {},
   "outputs": [],
   "source": [
    "pp = PolarPlot(\"Big Kappa\")\n",
    "pp.addMatrixDiff(K_goal, K_meas)\n",
    "# pp.addMatrixDiff(K_goal, K_HWExp)\n",
    "# pp.addMatrix(K_goal, color='green')\n",
    "# pp.addMatrix(K_HWExp, color='cyan')\n",
    "# pp.addMatrix(K_meas, color='red')\n",
    "pp.show()"
   ]
  },
  {
   "cell_type": "code",
   "execution_count": null,
   "metadata": {},
   "outputs": [],
   "source": [
    "coup1 = np.loadtxt(\"../GoldenSamples/FeedbackCouplerSamples/coupler_1.txt\", dtype=np.complex)\n",
    "coup2 = np.loadtxt(\"../GoldenSamples/FeedbackCouplerSamples/coupler_1_v2.txt\", dtype=np.complex)\n",
    "alpha1 = np.mean([coup1[0,0], coup2[0,0]])\n",
    "alpha2 = np.mean([coup1[1,1], coup2[1,1]])\n",
    "beta = np.mean([coup1[0,1], coup1[1,0], coup2[0,1], coup2[1,0]])"
   ]
  },
  {
   "cell_type": "code",
   "execution_count": null,
   "metadata": {},
   "outputs": [],
   "source": [
    "K_goal_inv = np.linalg.inv(np.identity(5)-K_goal)\n",
    "K_exp1_inv = np.linalg.inv(np.identity(5)-K_HWExp)\n",
    "K_exp2_inv = np.linalg.inv(np.identity(5)-K_meas)\n",
    "K_meas_inv = (alpha1/beta*K_measInv+(beta-alpha1*alpha2/beta)*np.identity(5))/beta;"
   ]
  },
  {
   "cell_type": "code",
   "execution_count": null,
   "metadata": {},
   "outputs": [],
   "source": [
    "np.mean(abs(K_goal_inv-K_meas_inv))"
   ]
  },
  {
   "cell_type": "code",
   "execution_count": null,
   "metadata": {},
   "outputs": [],
   "source": [
    "plotData = np.hstack((K_goal_inv, spr, K_exp1_inv, spr, K_exp2_inv, spr, K_meas_inv))\n",
    "maxV = np.max(np.abs(plotData))\n",
    "print(maxV)\n",
    "plotComplexArray(plotData, maxRad=maxV)"
   ]
  },
  {
   "cell_type": "code",
   "execution_count": null,
   "metadata": {},
   "outputs": [],
   "source": [
    "pp = PolarPlot(\"Inverse\")\n",
    "pp.addMatrixDiff(K_goal_inv, K_meas_inv)\n",
    "# pp.addMatrixDiff(K_goal, K_HWExp)\n",
    "# pp.addMatrix(K_goal, color='green')\n",
    "# pp.addMatrix(K_HWExp, color='cyan')\n",
    "# pp.addMatrix(K_meas, color='red')\n",
    "pp.show()"
   ]
  },
  {
   "cell_type": "markdown",
   "metadata": {
    "heading_collapsed": "true",
    "tags": []
   },
   "source": [
    "## Large Number Experiments"
   ]
  },
  {
   "cell_type": "markdown",
   "metadata": {
    "heading_collapsed": "true",
    "tags": []
   },
   "source": [
    "### Big Kappa"
   ]
  },
  {
   "cell_type": "code",
   "execution_count": null,
   "metadata": {},
   "outputs": [],
   "source": [
    "# to be uncomment for a new set of values\n",
    "# inputKernels = [RandomComplexCircularMatrix(0.5, (5,5)) for i in range(1000)]\n",
    "# np.save(\"Main_data/largeNInput\", np.array(inputKernels))"
   ]
  },
  {
   "cell_type": "code",
   "execution_count": null,
   "metadata": {},
   "outputs": [],
   "source": [
    "inputKernels = np.load(\"Main_data/largeNInput.npy\")"
   ]
  },
  {
   "cell_type": "code",
   "execution_count": null,
   "metadata": {},
   "outputs": [],
   "source": [
    "outputMeasurementsINV = []\n",
    "badMats = []\n",
    "for inK in inputKernels:\n",
    "    try:\n",
    "        setK = calcNewMatrixSettings(inK, multBank, 5,  warn=False)\n",
    "        setExpMultBank(exp, multBank)\n",
    "        measK, std = exp.measureSMatrix(delay=2)\n",
    "        saveData = (inK, setK, measK)\n",
    "        outputMeasurementsINV.append(saveData)\n",
    "    except:\n",
    "        badMats.append(inK)"
   ]
  },
  {
   "cell_type": "code",
   "execution_count": null,
   "metadata": {},
   "outputs": [],
   "source": [
    "# save or load the measurement results\n",
    "# np.save(\"Main_data/largeNClosedLoop.npy\", np.array(outputMeasurementsINV))\n",
    "outputMeasurements = np.load(\"Main_data/largeNOpenLoop.npy\")\n",
    "outputMeasurementsINV = np.load(\"Main_data/largeNClosedLoop.npy\")"
   ]
  },
  {
   "cell_type": "code",
   "execution_count": null,
   "metadata": {},
   "outputs": [],
   "source": [
    "inKK = []\n",
    "measKK = []\n",
    "setKK = []\n",
    "inKK_INV = []\n",
    "measKK_INV = []\n",
    "setKK_INV = []\n",
    "for i in np.arange(1000):\n",
    "    inKK.append(np.array(outputMeasurements)[i, 0])  # Goal Input Kernel\n",
    "    measKK.append(np.array(outputMeasurements)[i, 2]) # Measured Input Kernel\n",
    "    setKK.append(np.array(outputMeasurements)[i, 1]) # Experimentally Expected Kernel\n",
    "    inKK_INV.append(np.array(outputMeasurementsINV)[i, 0]) # Goal Input Kernel\n",
    "    measKK_INV.append(np.array(outputMeasurementsINV)[i, 2]) # Measured Inverted Kernel\n",
    "    setKK_INV.append(np.array(outputMeasurementsINV)[i, 1]) # Expermintally Expected Kernel"
   ]
  },
  {
   "cell_type": "code",
   "execution_count": null,
   "metadata": {},
   "outputs": [],
   "source": [
    "# s=np.sign(np.real(RandomComplexCircularMatrix(1, (5,5))))\n",
    "diff = np.array(range(1000), dtype=\"float\")\n",
    "comp = np.array(range(1000), dtype=\"float\")\n",
    "tet = []\n",
    "for i in np.arange(1000):\n",
    "    tet.append(measKK[i]-inKK[i])\n",
    "    diff[i] = MatrixError(measKK[i], inKK[i])/np.linalg.norm(inKK[i])*100\n",
    "    comp[i] = MatrixError(inKK[i], inKK[i])"
   ]
  },
  {
   "cell_type": "code",
   "execution_count": null,
   "metadata": {},
   "outputs": [],
   "source": [
    "a = np.linalg.norm(measKK[1]-inKK[1])/np.linalg.norm(inKK[1])*100\n",
    "b = MatrixError(measKK[1], inKK[1])\n",
    "print(a, b)\n"
   ]
  },
  {
   "cell_type": "code",
   "execution_count": null,
   "metadata": {},
   "outputs": [],
   "source": [
    "# compare the big Kappa (open loop matrices)\n",
    "import matplotlib.pyplot as plt\n",
    "index = np.arange(1000)\n",
    "plt.scatter(index, diff)\n",
    "plt.xlabel('# random matrix')\n",
    "plt.ylabel('$||\\mathbb{K}_{meas}-\\mathbb{K}_{target}||/||\\mathbb{K}_{target}||(\\%)$')\n",
    "plt.ylim([0, 15])\n",
    "plt.savefig('Main_data/fig/BigKappa_rand1000.png',dpi=1200)"
   ]
  },
  {
   "cell_type": "code",
   "execution_count": null,
   "metadata": {},
   "outputs": [],
   "source": [
    "pp = PolarPlot(\"comparisson\")\n",
    "i=154\n",
    "pp.addMatrixDiff(np.array(measKK[i]),np.array(inKK[i]))\n",
    "pp.show()\n",
    "abs(np.linalg.eig(inKK[i])[0])"
   ]
  },
  {
   "cell_type": "markdown",
   "metadata": {
    "heading_collapsed": "true",
    "tags": []
   },
   "source": [
    "### Inverse exp - post processing"
   ]
  },
  {
   "cell_type": "code",
   "execution_count": null,
   "metadata": {},
   "outputs": [],
   "source": [
    "# Load the coupler parameters\n",
    "coup1 = np.loadtxt(\"../GoldenSamples/FeedbackCouplerSamples/coupler_1.txt\", dtype=np.complex)\n",
    "coup2 = np.loadtxt(\"../GoldenSamples/FeedbackCouplerSamples/coupler_1_v2.txt\", dtype=np.complex)\n",
    "alpha1 = np.mean([coup1[0,0], coup2[0,0]])\n",
    "alpha2 = np.mean([coup1[1,1], coup2[1,1]])\n",
    "beta = np.mean([coup1[0,1], coup1[1,0], coup2[0,1], coup2[1,0]])"
   ]
  },
  {
   "cell_type": "code",
   "execution_count": null,
   "metadata": {},
   "outputs": [],
   "source": [
    "# to be uncomment for a new set of values\n",
    "# inputKernels = [RandomComplexCircularMatrix(0.5, (5,5)) for i in range(100)]\n",
    "# np.save(\"largeNInput_100values\", np.array(inputKernels))"
   ]
  },
  {
   "cell_type": "code",
   "execution_count": null,
   "metadata": {},
   "outputs": [],
   "source": [
    "inputKernels = np.load(\"largeNInput_v4.npy\")"
   ]
  },
  {
   "cell_type": "code",
   "execution_count": null,
   "metadata": {},
   "outputs": [],
   "source": [
    "outputMeasurementsINV = []\n",
    "badMats = []\n",
    "for inK in inputKernels:\n",
    "    try:\n",
    "        setK = calcNewMatrixSettings(inK, multBank, 5,  warn=False)\n",
    "        setExpMultBank(exp, multBank)\n",
    "        measK, std = exp.measureSMatrix(delay=2)\n",
    "        saveData = (inK, setK, measK)\n",
    "        outputMeasurementsINV.append(saveData)\n",
    "    except:\n",
    "        badMats.append(inK)"
   ]
  },
  {
   "cell_type": "code",
   "execution_count": null,
   "metadata": {},
   "outputs": [],
   "source": [
    "#save or load the measurement results\n",
    "# np.save(\"largeNOut_100.npy\", np.array(outputMeasurements))\n",
    "np.save(\"largeNInput_v4_INV_new.npy\", np.array(outputMeasurementsINV))"
   ]
  },
  {
   "cell_type": "code",
   "execution_count": null,
   "metadata": {},
   "outputs": [],
   "source": [
    "# outputMeasurements=np.load(\"largeNOpenLoop_v4.npy\")\n",
    "# outputMeasurementsINV=np.load(\"largeNInput_v4_INV.npy\")"
   ]
  },
  {
   "cell_type": "code",
   "execution_count": null,
   "metadata": {},
   "outputs": [],
   "source": [
    "pp = PolarPlot(\"comparisson\")\n",
    "i=5\n",
    "pp.addMatrixDiff(np.array(np.identity(5)-inKK[i]),np.array(np.identity(5)-inKK_INV[i]))\n",
    "pp.show()\n",
    "abs(np.linalg.eig(inKK[i])[0])"
   ]
  },
  {
   "cell_type": "code",
   "execution_count": null,
   "metadata": {},
   "outputs": [],
   "source": [
    "A_goal = np.identity(5)-inKK"
   ]
  },
  {
   "cell_type": "code",
   "execution_count": null,
   "metadata": {},
   "outputs": [],
   "source": [
    "0*np.identity(5)-inKK"
   ]
  },
  {
   "cell_type": "code",
   "execution_count": null,
   "metadata": {},
   "outputs": [],
   "source": [
    "A_goal = (np.identity(5)-inKK)\n",
    "A_goal_inv = np.linalg.inv(A_goal)\n",
    "A_exp = np.array(measKK_INV)\n",
    "A_meas_inv = (alpha1/beta*A_exp+(beta-alpha1*alpha2/beta)*np.identity(5))/beta"
   ]
  },
  {
   "cell_type": "code",
   "execution_count": null,
   "metadata": {},
   "outputs": [],
   "source": [
    "tr=np.arange(1000, dtype=\"complex\")\n",
    "trN=np.arange(1000, dtype=\"complex\")\n",
    "diff=np.arange(1000, dtype=\"complex\")\n",
    "diff_INV=np.arange(1000, dtype=\"complex\")\n",
    "for i in np.arange(1000):\n",
    "    tr[i] = (np.trace(np.dot(A_goal[i],A_meas_inv[i])))/5\n",
    "    coef=1.25\n",
    "    trN[i]= abs(np.trace(np.dot(A_goal[i],A_meas_inv[i]/coef)))/5\n",
    "    diff[i] = MatrixError(inKK[i],measKK[i])/np.linalg.norm(inKK[i])*100\n",
    "    diff_INV[i] = MatrixError(A_goal_inv[i],A_meas_inv[i])/np.linalg.norm(A_goal_inv[i])*100"
   ]
  },
  {
   "cell_type": "code",
   "execution_count": null,
   "metadata": {},
   "outputs": [],
   "source": [
    "import matplotlib.pyplot as plt\n",
    "index = np.arange(1000)\n",
    "plt.scatter(index, np.real(tr))\n",
    "plt.xlabel('# random matrix')\n",
    "plt.ylabel('$|$tr$(A_{target} A^{-1}_{meas}/5|$')\n",
    "plt.ylim([0, 2.5])\n",
    "# plt.savefig('BigKappa_rand100_v2.png',dpi=1200)\n",
    "np.mean(tr)"
   ]
  },
  {
   "cell_type": "code",
   "execution_count": null,
   "metadata": {},
   "outputs": [],
   "source": [
    "pp = PolarPlot(\"comparisson\")\n",
    "i=876\n",
    "coef=np.linalg.norm(A_meas_inv[i]/A_goal_inv[i])/5*0+1\n",
    "A1=np.array(A_goal_inv[i])\n",
    "A2=np.array(A_meas_inv[i])/coef\n",
    "pp.addMatrixDiff(A1,A2)\n",
    "pp.show()\n",
    "print(coef,abs(np.linalg.eig(inKK_INV[i])[0]),MatrixError(A1,A2)/np.linalg.norm(A1)*100)\n",
    "# np.linalg.norm(A_meas_inv[i]/A_goal_inv[i])/5"
   ]
  },
  {
   "cell_type": "code",
   "execution_count": null,
   "metadata": {},
   "outputs": [],
   "source": [
    "abs(np.linalg.eig(np.identity(5)-inKK_INV[i])[0])"
   ]
  },
  {
   "cell_type": "markdown",
   "metadata": {},
   "source": [
    "#### Test Playground"
   ]
  },
  {
   "cell_type": "code",
   "execution_count": null,
   "metadata": {},
   "outputs": [],
   "source": [
    "from bokeh.models import Range1d\n",
    "\n",
    "p = figure(plot_width = 600, plot_height = 600,\n",
    "           x_axis_label = '# random matrix', y_axis_label = '$||\\mathbb{K}_{Meas}-\\mathbb{K}_{target}||$')\n",
    "p.y_range=Range1d(0,0.5)\n",
    "p.circle(1+index, diff, size = 10, color = 'green')\n",
    "show(p)"
   ]
  },
  {
   "cell_type": "code",
   "execution_count": null,
   "metadata": {},
   "outputs": [],
   "source": []
  },
  {
   "cell_type": "code",
   "execution_count": null,
   "metadata": {},
   "outputs": [],
   "source": [
    "pp = PolarPlot(\"comparisson\")\n",
    "i=755\n",
    "pp.addMatrixDiff(np.array(tt[i]),np.array(tt[i]))\n",
    "pp.show()"
   ]
  },
  {
   "cell_type": "code",
   "execution_count": null,
   "metadata": {},
   "outputs": [],
   "source": [
    "np.linalg.inv(np.identity(5)-inKK[0])\n",
    "np.linalg.eig(np.identity(5)-inKK[0])"
   ]
  },
  {
   "cell_type": "code",
   "execution_count": null,
   "metadata": {},
   "outputs": [],
   "source": [
    "inKK=np.array(outputMeasurements)[55,0]\n",
    "measKK=np.array(outputMeasurements)[55,2]\n",
    "tt=np.matmul(np.linalg.inv(inKK),measKK)"
   ]
  },
  {
   "cell_type": "code",
   "execution_count": null,
   "metadata": {},
   "outputs": [],
   "source": [
    "MatrixSqError(inKK,measKK)"
   ]
  },
  {
   "cell_type": "code",
   "execution_count": null,
   "metadata": {},
   "outputs": [],
   "source": [
    "test=np.array(outputMeasurements)"
   ]
  },
  {
   "cell_type": "code",
   "execution_count": null,
   "metadata": {},
   "outputs": [],
   "source": [
    "test[1,1]"
   ]
  }
 ],
 "metadata": {
  "kernelspec": {
   "display_name": "Python 3",
   "language": "python",
   "name": "python3"
  },
  "language_info": {
   "codemirror_mode": {
    "name": "ipython",
    "version": 3
   },
   "file_extension": ".py",
   "mimetype": "text/x-python",
   "name": "python",
   "nbconvert_exporter": "python",
   "pygments_lexer": "ipython3",
   "version": "3.8.3"
  }
 },
 "nbformat": 4,
 "nbformat_minor": 4
}
