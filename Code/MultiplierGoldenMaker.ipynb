{
 "cells": [
  {
   "cell_type": "markdown",
   "metadata": {},
   "source": [
    "# Multiplier Golden Sample Maker"
   ]
  },
  {
   "cell_type": "markdown",
   "metadata": {},
   "source": [
    "#### Stock Imports"
   ]
  },
  {
   "cell_type": "code",
   "execution_count": null,
   "metadata": {},
   "outputs": [],
   "source": [
    "import os, sys"
   ]
  },
  {
   "cell_type": "code",
   "execution_count": null,
   "metadata": {},
   "outputs": [],
   "source": [
    "import numpy as np\n",
    "import itertools"
   ]
  },
  {
   "cell_type": "code",
   "execution_count": null,
   "metadata": {},
   "outputs": [],
   "source": [
    "from scipy.ndimage import gaussian_filter"
   ]
  },
  {
   "cell_type": "code",
   "execution_count": null,
   "metadata": {},
   "outputs": [],
   "source": [
    "from sklearn.decomposition import PCA"
   ]
  },
  {
   "cell_type": "code",
   "execution_count": null,
   "metadata": {},
   "outputs": [],
   "source": [
    "import bokeh\n",
    "from bokeh.io import output_notebook\n",
    "from bokeh.plotting import figure, show\n",
    "output_notebook()\n",
    "from bokeh.palettes import Dark2\n",
    "bokeh.io.curdoc().theme = 'dark_minimal'\n",
    "palette = Dark2[8]*10"
   ]
  },
  {
   "cell_type": "code",
   "execution_count": null,
   "metadata": {},
   "outputs": [],
   "source": [
    "palette = Dark2[8]*10\n",
    "colors = itertools.cycle(palette)"
   ]
  },
  {
   "cell_type": "markdown",
   "metadata": {},
   "source": [
    "#### Custom Imports"
   ]
  },
  {
   "cell_type": "code",
   "execution_count": null,
   "metadata": {},
   "outputs": [],
   "source": [
    "from colorize import colorizeComplexArray"
   ]
  },
  {
   "cell_type": "markdown",
   "metadata": {
    "heading_collapsed": "true"
   },
   "source": [
    "## Library"
   ]
  },
  {
   "cell_type": "code",
   "execution_count": null,
   "metadata": {},
   "outputs": [],
   "source": [
    "def plotComplexArray(array, maxRad=10):\n",
    "    pixArray = colorizeComplexArray(array+0.00001j, centerColor='black', maxRad=maxRad)\n",
    "    (h,w) = array.shape\n",
    "    img = np.zeros((h,w), dtype=np.uint32)\n",
    "    view = img.view(dtype=np.uint8).reshape(h,w,4)\n",
    "    view[:,:,0] = pixArray[:,:,0]\n",
    "    view[:,:,1] = pixArray[:,:,1]\n",
    "    view[:,:,2] = pixArray[:,:,2]\n",
    "    view[:,:,3] = 255\n",
    "    p = figure(x_range=(0,w), y_range=(0,h), plot_width=800, plot_height=800)\n",
    "    p = figure()\n",
    "    p.image_rgba(image=[img], x=0, y=0, dw=w, dh=h)\n",
    "    show(p)"
   ]
  },
  {
   "cell_type": "markdown",
   "metadata": {},
   "source": [
    "Stolen from https://datascience.stackexchange.com/questions/75733/pca-for-complex-valued-data"
   ]
  },
  {
   "cell_type": "code",
   "execution_count": null,
   "metadata": {},
   "outputs": [],
   "source": [
    "class ComplexPCA:\n",
    "    def __init__(self, n_components):\n",
    "        self.n_components = n_components\n",
    "        self.u = self.s = self.components_ = None\n",
    "        self.mean_ = None\n",
    "\n",
    "    @property\n",
    "    def explained_variance_ratio_(self):\n",
    "        return self.s\n",
    "\n",
    "    def fit(self, matrix, use_gpu=False):\n",
    "        self.mean_ = matrix.mean(axis=0)\n",
    "        if use_gpu:\n",
    "            import tensorflow as tf  # torch doesn't handle complex values.\n",
    "            tensor = tf.convert_to_tensor(matrix)\n",
    "            u, s, vh = tf.linalg.svd(tensor, full_matrices=False)  # full=False ==> num_pc = min(N, M)\n",
    "            # It would be faster if the SVD was truncated to only n_components instead of min(M, N)\n",
    "        else:\n",
    "            _, self.s, vh = np.linalg.svd(matrix, full_matrices=False)  # full=False ==> num_pc = min(N, M)\n",
    "            # It would be faster if the SVD was truncated to only n_components instead of min(M, N)\n",
    "        self.components_ = vh  # already conjugated.\n",
    "        # Leave those components as rows of matrix so that it is compatible with Sklearn PCA.\n",
    "\n",
    "    def transform(self, matrix):\n",
    "        data = matrix - self.mean_\n",
    "        result = data @ self.components_.T\n",
    "        return result\n",
    "\n",
    "    def inverse_transform(self, matrix):\n",
    "        result = matrix @ np.conj(self.components_)\n",
    "        return self.mean_ + result"
   ]
  },
  {
   "cell_type": "markdown",
   "metadata": {},
   "source": [
    "## Work"
   ]
  },
  {
   "cell_type": "markdown",
   "metadata": {},
   "source": [
    "### Data Import"
   ]
  },
  {
   "cell_type": "code",
   "execution_count": null,
   "metadata": {},
   "outputs": [],
   "source": [
    "os.getcwd()"
   ]
  },
  {
   "cell_type": "code",
   "execution_count": null,
   "metadata": {},
   "outputs": [],
   "source": [
    "def pathData(i):\n",
    "    return\"../GoldenSamples/MultiplierSamples/LMC6492_64by64_\"+str(i)+\".txt\""
   ]
  },
  {
   "cell_type": "code",
   "execution_count": null,
   "metadata": {},
   "outputs": [],
   "source": [
    "nSamples = 5"
   ]
  },
  {
   "cell_type": "code",
   "execution_count": null,
   "metadata": {},
   "outputs": [],
   "source": [
    "dataSet = np.array([np.loadtxt(pathData(i+1), dtype=np.complex) \n",
    "                    for i in range(nSamples)])"
   ]
  },
  {
   "cell_type": "code",
   "execution_count": null,
   "metadata": {},
   "outputs": [],
   "source": [
    "np.max(abs(dataSet[0]))"
   ]
  },
  {
   "cell_type": "code",
   "execution_count": null,
   "metadata": {},
   "outputs": [],
   "source": [
    "dataSet[0]"
   ]
  },
  {
   "cell_type": "code",
   "execution_count": null,
   "metadata": {},
   "outputs": [],
   "source": [
    "plotComplexArray(dataSet[0], maxRad=6)"
   ]
  },
  {
   "cell_type": "code",
   "execution_count": null,
   "metadata": {},
   "outputs": [],
   "source": [
    "golden = np.average(dataSet, axis=0)"
   ]
  },
  {
   "cell_type": "code",
   "execution_count": null,
   "metadata": {},
   "outputs": [],
   "source": [
    "plotComplexArray(golden, maxRad=10)"
   ]
  },
  {
   "cell_type": "code",
   "execution_count": null,
   "metadata": {},
   "outputs": [],
   "source": [
    "deviations = dataSet - golden"
   ]
  },
  {
   "cell_type": "code",
   "execution_count": null,
   "metadata": {},
   "outputs": [],
   "source": [
    "plotComplexArray(deviations[4], maxRad=1)"
   ]
  },
  {
   "cell_type": "code",
   "execution_count": null,
   "metadata": {},
   "outputs": [],
   "source": [
    "deviationsSTD = np.zeros_like(deviations)\n",
    "for i, d in enumerate(deviations):\n",
    "    ave = np.average(d)\n",
    "    deviationsSTD[i] = d-ave"
   ]
  },
  {
   "cell_type": "code",
   "execution_count": null,
   "metadata": {},
   "outputs": [],
   "source": [
    "plotComplexArray(deviationsSTD[4], maxRad=1)"
   ]
  },
  {
   "cell_type": "code",
   "execution_count": null,
   "metadata": {},
   "outputs": [],
   "source": [
    "deviationsSTDFlat = deviationsSTD.reshape(5,-1)"
   ]
  },
  {
   "cell_type": "code",
   "execution_count": null,
   "metadata": {},
   "outputs": [],
   "source": [
    "nCors = 2"
   ]
  },
  {
   "cell_type": "code",
   "execution_count": null,
   "metadata": {},
   "outputs": [],
   "source": [
    "((deviationsSTDFlat)[1:]).shape"
   ]
  },
  {
   "cell_type": "code",
   "execution_count": null,
   "metadata": {},
   "outputs": [],
   "source": [
    "pca = ComplexPCA(n_components=nCors)\n",
    "pca.fit(deviationsSTDFlat[1:])\n",
    "pcaComps = pca.components_.reshape(nSamples-1,64,64)[:nCors]\n",
    "basisRough = np.insert(pcaComps, 0, np.full_like(pcaComps[0], 1+0j), axis=0)"
   ]
  },
  {
   "cell_type": "code",
   "execution_count": null,
   "metadata": {},
   "outputs": [],
   "source": [
    "plotComplexArray(basisRough[2], maxRad=.1)"
   ]
  },
  {
   "cell_type": "code",
   "execution_count": null,
   "metadata": {},
   "outputs": [],
   "source": [
    "deviceID = 0\n",
    "device = dataSet[deviceID]"
   ]
  },
  {
   "cell_type": "code",
   "execution_count": null,
   "metadata": {},
   "outputs": [],
   "source": [
    "weights = np.linalg.lstsq(basisRough.reshape(len(basisRough),-1).T, \n",
    "                          (device-golden).flat, \n",
    "                          rcond=None)[0]\n",
    "weights"
   ]
  },
  {
   "cell_type": "code",
   "execution_count": null,
   "metadata": {},
   "outputs": [],
   "source": [
    "fit = golden + (basisRough.T @ weights).reshape((64,64)).T"
   ]
  },
  {
   "cell_type": "code",
   "execution_count": null,
   "metadata": {},
   "outputs": [],
   "source": [
    "plotComplexArray(fit - device, maxRad=0.05)"
   ]
  },
  {
   "cell_type": "code",
   "execution_count": null,
   "metadata": {},
   "outputs": [],
   "source": [
    "np.max(np.abs(fit - device))"
   ]
  },
  {
   "cell_type": "code",
   "execution_count": null,
   "metadata": {},
   "outputs": [],
   "source": [
    "errors = []\n",
    "weightsList = []\n",
    "for device in dataSet:\n",
    "    weights = np.linalg.lstsq(basisRough.reshape(len(basisRough),-1).T, \n",
    "                          (device-golden).flat, \n",
    "                          rcond=None)[0]\n",
    "    weightsList.append(weights)\n",
    "    fit = golden + (basisRough.T @ weights).reshape((64,64)).T\n",
    "    aveLinError = np.average(np.abs(fit - device))\n",
    "    errors.append(aveLinError)\n",
    "errors"
   ]
  },
  {
   "cell_type": "code",
   "execution_count": null,
   "metadata": {},
   "outputs": [],
   "source": [
    " print(np.round(np.abs(weightsList),3))"
   ]
  },
  {
   "cell_type": "code",
   "execution_count": null,
   "metadata": {},
   "outputs": [],
   "source": []
  }
 ],
 "metadata": {
  "kernelspec": {
   "display_name": "Python 3",
   "language": "python",
   "name": "python3"
  },
  "language_info": {
   "codemirror_mode": {
    "name": "ipython",
    "version": 3
   },
   "file_extension": ".py",
   "mimetype": "text/x-python",
   "name": "python",
   "nbconvert_exporter": "python",
   "pygments_lexer": "ipython3",
   "version": "3.8.5"
  }
 },
 "nbformat": 4,
 "nbformat_minor": 4
}
