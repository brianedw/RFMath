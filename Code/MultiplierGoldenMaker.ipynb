{
 "cells": [
  {
   "cell_type": "markdown",
   "metadata": {},
   "source": [
    "# Multiplier Golden Sample Maker"
   ]
  },
  {
   "cell_type": "markdown",
   "metadata": {},
   "source": [
    "#### Stock Imports"
   ]
  },
  {
   "cell_type": "code",
   "execution_count": null,
   "metadata": {},
   "outputs": [],
   "source": [
    "import os, sys"
   ]
  },
  {
   "cell_type": "code",
   "execution_count": null,
   "metadata": {},
   "outputs": [],
   "source": [
    "import numpy as np\n",
    "import scipy as sp\n",
    "import itertools"
   ]
  },
  {
   "cell_type": "code",
   "execution_count": null,
   "metadata": {},
   "outputs": [],
   "source": [
    "import PIL"
   ]
  },
  {
   "cell_type": "code",
   "execution_count": null,
   "metadata": {},
   "outputs": [],
   "source": [
    "from scipy.ndimage import gaussian_filter\n",
    "from scipy import interpolate"
   ]
  },
  {
   "cell_type": "code",
   "execution_count": null,
   "metadata": {},
   "outputs": [],
   "source": [
    "import bokeh\n",
    "from bokeh.io import output_notebook\n",
    "from bokeh.plotting import figure, show\n",
    "output_notebook()\n",
    "from bokeh.palettes import Dark2\n",
    "bokeh.io.curdoc().theme = 'dark_minimal'\n",
    "palette = Dark2[8]*10"
   ]
  },
  {
   "cell_type": "code",
   "execution_count": null,
   "metadata": {},
   "outputs": [],
   "source": [
    "palette = Dark2[8]*10\n",
    "colors = itertools.cycle(palette)"
   ]
  },
  {
   "cell_type": "markdown",
   "metadata": {},
   "source": [
    "#### Custom Imports"
   ]
  },
  {
   "cell_type": "code",
   "execution_count": null,
   "metadata": {},
   "outputs": [],
   "source": [
    "from colorize import colorizeComplexArray"
   ]
  },
  {
   "cell_type": "markdown",
   "metadata": {},
   "source": [
    "## Library"
   ]
  },
  {
   "cell_type": "code",
   "execution_count": null,
   "metadata": {},
   "outputs": [],
   "source": []
  },
  {
   "cell_type": "markdown",
   "metadata": {},
   "source": [
    "Stolen from https://datascience.stackexchange.com/questions/75733/pca-for-complex-valued-data"
   ]
  },
  {
   "cell_type": "code",
   "execution_count": null,
   "metadata": {},
   "outputs": [],
   "source": []
  },
  {
   "cell_type": "code",
   "execution_count": null,
   "metadata": {},
   "outputs": [],
   "source": []
  },
  {
   "cell_type": "markdown",
   "metadata": {},
   "source": [
    "## Work"
   ]
  },
  {
   "cell_type": "markdown",
   "metadata": {},
   "source": [
    "### Data Import"
   ]
  },
  {
   "cell_type": "code",
   "execution_count": null,
   "metadata": {},
   "outputs": [],
   "source": [
    "os.getcwd()"
   ]
  },
  {
   "cell_type": "code",
   "execution_count": null,
   "metadata": {},
   "outputs": [],
   "source": [
    "def pathData(i):\n",
    "    return\"../GoldenSamples/MultiplierSamples/LMC6492_64by64_\"+str(i)+\".txt\""
   ]
  },
  {
   "cell_type": "code",
   "execution_count": null,
   "metadata": {},
   "outputs": [],
   "source": [
    "nSamples = 5"
   ]
  },
  {
   "cell_type": "code",
   "execution_count": null,
   "metadata": {},
   "outputs": [],
   "source": [
    "dataSet = np.array([np.loadtxt(pathData(i+1), dtype=np.complex) \n",
    "                    for i in range(nSamples)])"
   ]
  },
  {
   "cell_type": "code",
   "execution_count": null,
   "metadata": {},
   "outputs": [],
   "source": [
    "np.max(abs(dataSet[0]))"
   ]
  },
  {
   "cell_type": "code",
   "execution_count": null,
   "metadata": {},
   "outputs": [],
   "source": [
    "dataSet[0]"
   ]
  },
  {
   "cell_type": "code",
   "execution_count": null,
   "metadata": {},
   "outputs": [],
   "source": [
    "plotComplexArray(dataSet[0], maxRad=6)"
   ]
  },
  {
   "cell_type": "code",
   "execution_count": null,
   "metadata": {},
   "outputs": [],
   "source": [
    "golden = np.average(dataSet, axis=0)"
   ]
  },
  {
   "cell_type": "code",
   "execution_count": null,
   "metadata": {},
   "outputs": [],
   "source": [
    "plotComplexArray(golden, maxRad=10)"
   ]
  },
  {
   "cell_type": "markdown",
   "metadata": {},
   "source": [
    "### PCA"
   ]
  },
  {
   "cell_type": "code",
   "execution_count": null,
   "metadata": {},
   "outputs": [],
   "source": [
    "trainingData = dataSet[0:-1]\n",
    "trainingData = [gaussian_filter_complex(d, sigma=1, mode='nearest') for d in trainingData]\n",
    "trainingData = np.array(trainingData)\n",
    "nSamples = len(trainingData)"
   ]
  },
  {
   "cell_type": "code",
   "execution_count": null,
   "metadata": {},
   "outputs": [],
   "source": [
    "dataFlat = trainingData.reshape((len(trainingData), -1))"
   ]
  },
  {
   "cell_type": "code",
   "execution_count": null,
   "metadata": {},
   "outputs": [],
   "source": [
    "nCors = 4"
   ]
  },
  {
   "cell_type": "code",
   "execution_count": null,
   "metadata": {},
   "outputs": [],
   "source": [
    "pca = ComplexPCA(n_components=nCors)\n",
    "pca.fit(dataFlat)\n",
    "pcaComps = pca.components_.reshape(nSamples,64,64)[:nCors]\n",
    "constComp = np.full_like(pcaComps[0], 1+0j)\n",
    "basisRough = np.concatenate([ pcaComps, [constComp]])\n",
    "basis = [b/np.average(np.abs(b)) for b in basisRough]\n",
    "# basis = [gaussian_filter_complex(b, sigma=1, mode='nearest') for b in basis]\n",
    "basis = np.array(basis)"
   ]
  },
  {
   "cell_type": "code",
   "execution_count": null,
   "metadata": {},
   "outputs": [],
   "source": [
    "plotComplexArray(basis[3], maxRad=4)"
   ]
  },
  {
   "cell_type": "code",
   "execution_count": null,
   "metadata": {},
   "outputs": [],
   "source": [
    "deviceID = 4\n",
    "device = dataSet[deviceID]"
   ]
  },
  {
   "cell_type": "code",
   "execution_count": null,
   "metadata": {},
   "outputs": [],
   "source": [
    "weights = np.linalg.lstsq(basis.reshape(len(basis),-1).T, \n",
    "                          device.flat, \n",
    "                          rcond=None)[0]\n",
    "weights"
   ]
  },
  {
   "cell_type": "code",
   "execution_count": null,
   "metadata": {},
   "outputs": [],
   "source": [
    "fit = (basis.T @ weights).reshape((64,64)).T"
   ]
  },
  {
   "cell_type": "code",
   "execution_count": null,
   "metadata": {},
   "outputs": [],
   "source": [
    "plotComplexArray(fit, maxRad=6)"
   ]
  },
  {
   "cell_type": "code",
   "execution_count": null,
   "metadata": {},
   "outputs": [],
   "source": [
    "plotComplexArray(fit - device, maxRad=0.1)"
   ]
  },
  {
   "cell_type": "code",
   "execution_count": null,
   "metadata": {},
   "outputs": [],
   "source": [
    "np.max(np.abs(fit - device))"
   ]
  },
  {
   "cell_type": "code",
   "execution_count": null,
   "metadata": {},
   "outputs": [],
   "source": [
    "errors = []\n",
    "weightsList = []\n",
    "for device in dataSet:\n",
    "    weights = np.linalg.lstsq(basis.reshape(len(basis),-1).T, \n",
    "                          device.flat, \n",
    "                          rcond=None)[0]\n",
    "    weightsList.append(weights)\n",
    "    fit = (basis.T @ weights).reshape((64,64)).T\n",
    "    aveLinError = np.average(np.abs(fit - device))\n",
    "    errors.append(aveLinError)\n",
    "errors"
   ]
  },
  {
   "cell_type": "code",
   "execution_count": null,
   "metadata": {},
   "outputs": [],
   "source": [
    " print(np.round(np.abs(weightsList),3))"
   ]
  },
  {
   "cell_type": "code",
   "execution_count": null,
   "metadata": {},
   "outputs": [],
   "source": [
    "def increaseResolution(inputArray, xs, ys, xsNew, ysNew):\n",
    "    zR = np.real(inputArray)\n",
    "    zI = np.imag(inputArray)\n",
    "    fR = interpolate.interp2d(xs, ys, zR, kind='cubic')\n",
    "    fI = interpolate.interp2d(xs, ys, zI, kind='cubic')\n",
    "    znew = fR(xsNew, ysNew) + 1j*fI(xsNew, ysNew)\n",
    "    return znew"
   ]
  },
  {
   "cell_type": "code",
   "execution_count": null,
   "metadata": {},
   "outputs": [],
   "source": [
    "increaseResolution(fit)"
   ]
  },
  {
   "cell_type": "code",
   "execution_count": null,
   "metadata": {},
   "outputs": [],
   "source": [
    "np.arange(0, 1024, 11)"
   ]
  },
  {
   "cell_type": "code",
   "execution_count": null,
   "metadata": {},
   "outputs": [],
   "source": [
    "def intDATA(Tinput):\n",
    "    \"\"\"\n",
    "    Tinput: the required input data to be interpolated\n",
    "    returns the interpolated data and the point new mesh\n",
    "    \"\"\"\n",
    "    zR = np.real(Tinput)\n",
    "    zI = np.imag(Tinput)\n",
    "    st = int(1024/np.sqrt(np.size(Tinput)))\n",
    "    x = np.arange(start=0, stop=1023, step=st)\n",
    "    y = np.arange(start=0, stop=1023, step=st)\n",
    "    fR = interpolate.interp2d(x, y, zR, kind='cubic')\n",
    "    fI = interpolate.interp2d(x, y, zI, kind='cubic')\n",
    "    (xnew, ynew, xxN, yyN) = setmesh()\n",
    "    znew = fR(xnew, ynew) + 1j * fI(xnew, ynew)\n",
    "    return (znew, xxN)"
   ]
  }
 ],
 "metadata": {
  "kernelspec": {
   "display_name": "Python 3",
   "language": "python",
   "name": "python3"
  },
  "language_info": {
   "codemirror_mode": {
    "name": "ipython",
    "version": 3
   },
   "file_extension": ".py",
   "mimetype": "text/x-python",
   "name": "python",
   "nbconvert_exporter": "python",
   "pygments_lexer": "ipython3",
   "version": "3.8.5"
  }
 },
 "nbformat": 4,
 "nbformat_minor": 4
}
