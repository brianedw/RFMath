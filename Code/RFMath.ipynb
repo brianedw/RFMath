{
 "cells": [
  {
   "cell_type": "markdown",
   "metadata": {},
   "source": [
    "## Imports"
   ]
  },
  {
   "cell_type": "markdown",
   "metadata": {
    "heading_collapsed": "true"
   },
   "source": [
    "### Stock Imports"
   ]
  },
  {
   "cell_type": "code",
   "execution_count": 1,
   "metadata": {},
   "outputs": [],
   "source": [
    "%load_ext autoreload\n",
    "%autoreload 2"
   ]
  },
  {
   "cell_type": "code",
   "execution_count": 2,
   "metadata": {},
   "outputs": [],
   "source": [
    "import os, sys\n",
    "from time import sleep"
   ]
  },
  {
   "cell_type": "code",
   "execution_count": 3,
   "metadata": {},
   "outputs": [
    {
     "data": {
      "text/plain": [
       "'C:\\\\Users\\\\Diego\\\\Documents\\\\Git_code\\\\Brian\\\\RFMath\\\\Code'"
      ]
     },
     "execution_count": 3,
     "metadata": {},
     "output_type": "execute_result"
    }
   ],
   "source": [
    "os.getcwd()"
   ]
  },
  {
   "cell_type": "code",
   "execution_count": 4,
   "metadata": {},
   "outputs": [],
   "source": [
    "import importlib"
   ]
  },
  {
   "cell_type": "code",
   "execution_count": 5,
   "metadata": {},
   "outputs": [],
   "source": [
    "import numpy as np\n",
    "import scipy as sp\n",
    "from scipy.optimize import root\n",
    "from scipy.interpolate import interp2d\n",
    "import itertools\n",
    "import time"
   ]
  },
  {
   "cell_type": "code",
   "execution_count": 6,
   "metadata": {},
   "outputs": [],
   "source": [
    "import PIL"
   ]
  },
  {
   "cell_type": "code",
   "execution_count": 7,
   "metadata": {},
   "outputs": [],
   "source": [
    "from scipy.ndimage import gaussian_filter\n",
    "from scipy import interpolate"
   ]
  },
  {
   "cell_type": "code",
   "execution_count": 8,
   "metadata": {},
   "outputs": [
    {
     "data": {
      "text/html": [
       "\n",
       "    <div class=\"bk-root\">\n",
       "        <a href=\"https://bokeh.org\" target=\"_blank\" class=\"bk-logo bk-logo-small bk-logo-notebook\"></a>\n",
       "        <span id=\"1001\">Loading BokehJS ...</span>\n",
       "    </div>"
      ]
     },
     "metadata": {},
     "output_type": "display_data"
    },
    {
     "data": {
      "application/javascript": [
       "\n",
       "(function(root) {\n",
       "  function now() {\n",
       "    return new Date();\n",
       "  }\n",
       "\n",
       "  var force = true;\n",
       "\n",
       "  if (typeof root._bokeh_onload_callbacks === \"undefined\" || force === true) {\n",
       "    root._bokeh_onload_callbacks = [];\n",
       "    root._bokeh_is_loading = undefined;\n",
       "  }\n",
       "\n",
       "  var JS_MIME_TYPE = 'application/javascript';\n",
       "  var HTML_MIME_TYPE = 'text/html';\n",
       "  var EXEC_MIME_TYPE = 'application/vnd.bokehjs_exec.v0+json';\n",
       "  var CLASS_NAME = 'output_bokeh rendered_html';\n",
       "\n",
       "  /**\n",
       "   * Render data to the DOM node\n",
       "   */\n",
       "  function render(props, node) {\n",
       "    var script = document.createElement(\"script\");\n",
       "    node.appendChild(script);\n",
       "  }\n",
       "\n",
       "  /**\n",
       "   * Handle when an output is cleared or removed\n",
       "   */\n",
       "  function handleClearOutput(event, handle) {\n",
       "    var cell = handle.cell;\n",
       "\n",
       "    var id = cell.output_area._bokeh_element_id;\n",
       "    var server_id = cell.output_area._bokeh_server_id;\n",
       "    // Clean up Bokeh references\n",
       "    if (id != null && id in Bokeh.index) {\n",
       "      Bokeh.index[id].model.document.clear();\n",
       "      delete Bokeh.index[id];\n",
       "    }\n",
       "\n",
       "    if (server_id !== undefined) {\n",
       "      // Clean up Bokeh references\n",
       "      var cmd = \"from bokeh.io.state import curstate; print(curstate().uuid_to_server['\" + server_id + \"'].get_sessions()[0].document.roots[0]._id)\";\n",
       "      cell.notebook.kernel.execute(cmd, {\n",
       "        iopub: {\n",
       "          output: function(msg) {\n",
       "            var id = msg.content.text.trim();\n",
       "            if (id in Bokeh.index) {\n",
       "              Bokeh.index[id].model.document.clear();\n",
       "              delete Bokeh.index[id];\n",
       "            }\n",
       "          }\n",
       "        }\n",
       "      });\n",
       "      // Destroy server and session\n",
       "      var cmd = \"import bokeh.io.notebook as ion; ion.destroy_server('\" + server_id + \"')\";\n",
       "      cell.notebook.kernel.execute(cmd);\n",
       "    }\n",
       "  }\n",
       "\n",
       "  /**\n",
       "   * Handle when a new output is added\n",
       "   */\n",
       "  function handleAddOutput(event, handle) {\n",
       "    var output_area = handle.output_area;\n",
       "    var output = handle.output;\n",
       "\n",
       "    // limit handleAddOutput to display_data with EXEC_MIME_TYPE content only\n",
       "    if ((output.output_type != \"display_data\") || (!output.data.hasOwnProperty(EXEC_MIME_TYPE))) {\n",
       "      return\n",
       "    }\n",
       "\n",
       "    var toinsert = output_area.element.find(\".\" + CLASS_NAME.split(' ')[0]);\n",
       "\n",
       "    if (output.metadata[EXEC_MIME_TYPE][\"id\"] !== undefined) {\n",
       "      toinsert[toinsert.length - 1].firstChild.textContent = output.data[JS_MIME_TYPE];\n",
       "      // store reference to embed id on output_area\n",
       "      output_area._bokeh_element_id = output.metadata[EXEC_MIME_TYPE][\"id\"];\n",
       "    }\n",
       "    if (output.metadata[EXEC_MIME_TYPE][\"server_id\"] !== undefined) {\n",
       "      var bk_div = document.createElement(\"div\");\n",
       "      bk_div.innerHTML = output.data[HTML_MIME_TYPE];\n",
       "      var script_attrs = bk_div.children[0].attributes;\n",
       "      for (var i = 0; i < script_attrs.length; i++) {\n",
       "        toinsert[toinsert.length - 1].firstChild.setAttribute(script_attrs[i].name, script_attrs[i].value);\n",
       "        toinsert[toinsert.length - 1].firstChild.textContent = bk_div.children[0].textContent\n",
       "      }\n",
       "      // store reference to server id on output_area\n",
       "      output_area._bokeh_server_id = output.metadata[EXEC_MIME_TYPE][\"server_id\"];\n",
       "    }\n",
       "  }\n",
       "\n",
       "  function register_renderer(events, OutputArea) {\n",
       "\n",
       "    function append_mime(data, metadata, element) {\n",
       "      // create a DOM node to render to\n",
       "      var toinsert = this.create_output_subarea(\n",
       "        metadata,\n",
       "        CLASS_NAME,\n",
       "        EXEC_MIME_TYPE\n",
       "      );\n",
       "      this.keyboard_manager.register_events(toinsert);\n",
       "      // Render to node\n",
       "      var props = {data: data, metadata: metadata[EXEC_MIME_TYPE]};\n",
       "      render(props, toinsert[toinsert.length - 1]);\n",
       "      element.append(toinsert);\n",
       "      return toinsert\n",
       "    }\n",
       "\n",
       "    /* Handle when an output is cleared or removed */\n",
       "    events.on('clear_output.CodeCell', handleClearOutput);\n",
       "    events.on('delete.Cell', handleClearOutput);\n",
       "\n",
       "    /* Handle when a new output is added */\n",
       "    events.on('output_added.OutputArea', handleAddOutput);\n",
       "\n",
       "    /**\n",
       "     * Register the mime type and append_mime function with output_area\n",
       "     */\n",
       "    OutputArea.prototype.register_mime_type(EXEC_MIME_TYPE, append_mime, {\n",
       "      /* Is output safe? */\n",
       "      safe: true,\n",
       "      /* Index of renderer in `output_area.display_order` */\n",
       "      index: 0\n",
       "    });\n",
       "  }\n",
       "\n",
       "  // register the mime type if in Jupyter Notebook environment and previously unregistered\n",
       "  if (root.Jupyter !== undefined) {\n",
       "    var events = require('base/js/events');\n",
       "    var OutputArea = require('notebook/js/outputarea').OutputArea;\n",
       "\n",
       "    if (OutputArea.prototype.mime_types().indexOf(EXEC_MIME_TYPE) == -1) {\n",
       "      register_renderer(events, OutputArea);\n",
       "    }\n",
       "  }\n",
       "\n",
       "  \n",
       "  if (typeof (root._bokeh_timeout) === \"undefined\" || force === true) {\n",
       "    root._bokeh_timeout = Date.now() + 5000;\n",
       "    root._bokeh_failed_load = false;\n",
       "  }\n",
       "\n",
       "  var NB_LOAD_WARNING = {'data': {'text/html':\n",
       "     \"<div style='background-color: #fdd'>\\n\"+\n",
       "     \"<p>\\n\"+\n",
       "     \"BokehJS does not appear to have successfully loaded. If loading BokehJS from CDN, this \\n\"+\n",
       "     \"may be due to a slow or bad network connection. Possible fixes:\\n\"+\n",
       "     \"</p>\\n\"+\n",
       "     \"<ul>\\n\"+\n",
       "     \"<li>re-rerun `output_notebook()` to attempt to load from CDN again, or</li>\\n\"+\n",
       "     \"<li>use INLINE resources instead, as so:</li>\\n\"+\n",
       "     \"</ul>\\n\"+\n",
       "     \"<code>\\n\"+\n",
       "     \"from bokeh.resources import INLINE\\n\"+\n",
       "     \"output_notebook(resources=INLINE)\\n\"+\n",
       "     \"</code>\\n\"+\n",
       "     \"</div>\"}};\n",
       "\n",
       "  function display_loaded() {\n",
       "    var el = document.getElementById(\"1001\");\n",
       "    if (el != null) {\n",
       "      el.textContent = \"BokehJS is loading...\";\n",
       "    }\n",
       "    if (root.Bokeh !== undefined) {\n",
       "      if (el != null) {\n",
       "        el.textContent = \"BokehJS \" + root.Bokeh.version + \" successfully loaded.\";\n",
       "      }\n",
       "    } else if (Date.now() < root._bokeh_timeout) {\n",
       "      setTimeout(display_loaded, 100)\n",
       "    }\n",
       "  }\n",
       "\n",
       "\n",
       "  function run_callbacks() {\n",
       "    try {\n",
       "      root._bokeh_onload_callbacks.forEach(function(callback) {\n",
       "        if (callback != null)\n",
       "          callback();\n",
       "      });\n",
       "    } finally {\n",
       "      delete root._bokeh_onload_callbacks\n",
       "    }\n",
       "    console.debug(\"Bokeh: all callbacks have finished\");\n",
       "  }\n",
       "\n",
       "  function load_libs(css_urls, js_urls, callback) {\n",
       "    if (css_urls == null) css_urls = [];\n",
       "    if (js_urls == null) js_urls = [];\n",
       "\n",
       "    root._bokeh_onload_callbacks.push(callback);\n",
       "    if (root._bokeh_is_loading > 0) {\n",
       "      console.debug(\"Bokeh: BokehJS is being loaded, scheduling callback at\", now());\n",
       "      return null;\n",
       "    }\n",
       "    if (js_urls == null || js_urls.length === 0) {\n",
       "      run_callbacks();\n",
       "      return null;\n",
       "    }\n",
       "    console.debug(\"Bokeh: BokehJS not loaded, scheduling load and callback at\", now());\n",
       "    root._bokeh_is_loading = css_urls.length + js_urls.length;\n",
       "\n",
       "    function on_load() {\n",
       "      root._bokeh_is_loading--;\n",
       "      if (root._bokeh_is_loading === 0) {\n",
       "        console.debug(\"Bokeh: all BokehJS libraries/stylesheets loaded\");\n",
       "        run_callbacks()\n",
       "      }\n",
       "    }\n",
       "\n",
       "    function on_error() {\n",
       "      console.error(\"failed to load \" + url);\n",
       "    }\n",
       "\n",
       "    for (var i = 0; i < css_urls.length; i++) {\n",
       "      var url = css_urls[i];\n",
       "      const element = document.createElement(\"link\");\n",
       "      element.onload = on_load;\n",
       "      element.onerror = on_error;\n",
       "      element.rel = \"stylesheet\";\n",
       "      element.type = \"text/css\";\n",
       "      element.href = url;\n",
       "      console.debug(\"Bokeh: injecting link tag for BokehJS stylesheet: \", url);\n",
       "      document.body.appendChild(element);\n",
       "    }\n",
       "\n",
       "    const hashes = {\"https://cdn.bokeh.org/bokeh/release/bokeh-2.1.1.min.js\": \"kLr4fYcqcSpbuI95brIH3vnnYCquzzSxHPU6XGQCIkQRGJwhg0StNbj1eegrHs12\", \"https://cdn.bokeh.org/bokeh/release/bokeh-widgets-2.1.1.min.js\": \"xIGPmVtaOm+z0BqfSOMn4lOR6ciex448GIKG4eE61LsAvmGj48XcMQZtKcE/UXZe\", \"https://cdn.bokeh.org/bokeh/release/bokeh-tables-2.1.1.min.js\": \"Dc9u1wF/0zApGIWoBbH77iWEHtdmkuYWG839Uzmv8y8yBLXebjO9ZnERsde5Ln/P\", \"https://cdn.bokeh.org/bokeh/release/bokeh-gl-2.1.1.min.js\": \"cT9JaBz7GiRXdENrJLZNSC6eMNF3nh3fa5fTF51Svp+ukxPdwcU5kGXGPBgDCa2j\"};\n",
       "\n",
       "    for (var i = 0; i < js_urls.length; i++) {\n",
       "      var url = js_urls[i];\n",
       "      var element = document.createElement('script');\n",
       "      element.onload = on_load;\n",
       "      element.onerror = on_error;\n",
       "      element.async = false;\n",
       "      element.src = url;\n",
       "      if (url in hashes) {\n",
       "        element.crossOrigin = \"anonymous\";\n",
       "        element.integrity = \"sha384-\" + hashes[url];\n",
       "      }\n",
       "      console.debug(\"Bokeh: injecting script tag for BokehJS library: \", url);\n",
       "      document.head.appendChild(element);\n",
       "    }\n",
       "  };\n",
       "\n",
       "  function inject_raw_css(css) {\n",
       "    const element = document.createElement(\"style\");\n",
       "    element.appendChild(document.createTextNode(css));\n",
       "    document.body.appendChild(element);\n",
       "  }\n",
       "\n",
       "  \n",
       "  var js_urls = [\"https://cdn.bokeh.org/bokeh/release/bokeh-2.1.1.min.js\", \"https://cdn.bokeh.org/bokeh/release/bokeh-widgets-2.1.1.min.js\", \"https://cdn.bokeh.org/bokeh/release/bokeh-tables-2.1.1.min.js\", \"https://cdn.bokeh.org/bokeh/release/bokeh-gl-2.1.1.min.js\"];\n",
       "  var css_urls = [];\n",
       "  \n",
       "\n",
       "  var inline_js = [\n",
       "    function(Bokeh) {\n",
       "      Bokeh.set_log_level(\"info\");\n",
       "    },\n",
       "    function(Bokeh) {\n",
       "    \n",
       "    \n",
       "    }\n",
       "  ];\n",
       "\n",
       "  function run_inline_js() {\n",
       "    \n",
       "    if (root.Bokeh !== undefined || force === true) {\n",
       "      \n",
       "    for (var i = 0; i < inline_js.length; i++) {\n",
       "      inline_js[i].call(root, root.Bokeh);\n",
       "    }\n",
       "    if (force === true) {\n",
       "        display_loaded();\n",
       "      }} else if (Date.now() < root._bokeh_timeout) {\n",
       "      setTimeout(run_inline_js, 100);\n",
       "    } else if (!root._bokeh_failed_load) {\n",
       "      console.log(\"Bokeh: BokehJS failed to load within specified timeout.\");\n",
       "      root._bokeh_failed_load = true;\n",
       "    } else if (force !== true) {\n",
       "      var cell = $(document.getElementById(\"1001\")).parents('.cell').data().cell;\n",
       "      cell.output_area.append_execute_result(NB_LOAD_WARNING)\n",
       "    }\n",
       "\n",
       "  }\n",
       "\n",
       "  if (root._bokeh_is_loading === 0) {\n",
       "    console.debug(\"Bokeh: BokehJS loaded, going straight to plotting\");\n",
       "    run_inline_js();\n",
       "  } else {\n",
       "    load_libs(css_urls, js_urls, function() {\n",
       "      console.debug(\"Bokeh: BokehJS plotting callback run at\", now());\n",
       "      run_inline_js();\n",
       "    });\n",
       "  }\n",
       "}(window));"
      ],
      "application/vnd.bokehjs_load.v0+json": "\n(function(root) {\n  function now() {\n    return new Date();\n  }\n\n  var force = true;\n\n  if (typeof root._bokeh_onload_callbacks === \"undefined\" || force === true) {\n    root._bokeh_onload_callbacks = [];\n    root._bokeh_is_loading = undefined;\n  }\n\n  \n\n  \n  if (typeof (root._bokeh_timeout) === \"undefined\" || force === true) {\n    root._bokeh_timeout = Date.now() + 5000;\n    root._bokeh_failed_load = false;\n  }\n\n  var NB_LOAD_WARNING = {'data': {'text/html':\n     \"<div style='background-color: #fdd'>\\n\"+\n     \"<p>\\n\"+\n     \"BokehJS does not appear to have successfully loaded. If loading BokehJS from CDN, this \\n\"+\n     \"may be due to a slow or bad network connection. Possible fixes:\\n\"+\n     \"</p>\\n\"+\n     \"<ul>\\n\"+\n     \"<li>re-rerun `output_notebook()` to attempt to load from CDN again, or</li>\\n\"+\n     \"<li>use INLINE resources instead, as so:</li>\\n\"+\n     \"</ul>\\n\"+\n     \"<code>\\n\"+\n     \"from bokeh.resources import INLINE\\n\"+\n     \"output_notebook(resources=INLINE)\\n\"+\n     \"</code>\\n\"+\n     \"</div>\"}};\n\n  function display_loaded() {\n    var el = document.getElementById(\"1001\");\n    if (el != null) {\n      el.textContent = \"BokehJS is loading...\";\n    }\n    if (root.Bokeh !== undefined) {\n      if (el != null) {\n        el.textContent = \"BokehJS \" + root.Bokeh.version + \" successfully loaded.\";\n      }\n    } else if (Date.now() < root._bokeh_timeout) {\n      setTimeout(display_loaded, 100)\n    }\n  }\n\n\n  function run_callbacks() {\n    try {\n      root._bokeh_onload_callbacks.forEach(function(callback) {\n        if (callback != null)\n          callback();\n      });\n    } finally {\n      delete root._bokeh_onload_callbacks\n    }\n    console.debug(\"Bokeh: all callbacks have finished\");\n  }\n\n  function load_libs(css_urls, js_urls, callback) {\n    if (css_urls == null) css_urls = [];\n    if (js_urls == null) js_urls = [];\n\n    root._bokeh_onload_callbacks.push(callback);\n    if (root._bokeh_is_loading > 0) {\n      console.debug(\"Bokeh: BokehJS is being loaded, scheduling callback at\", now());\n      return null;\n    }\n    if (js_urls == null || js_urls.length === 0) {\n      run_callbacks();\n      return null;\n    }\n    console.debug(\"Bokeh: BokehJS not loaded, scheduling load and callback at\", now());\n    root._bokeh_is_loading = css_urls.length + js_urls.length;\n\n    function on_load() {\n      root._bokeh_is_loading--;\n      if (root._bokeh_is_loading === 0) {\n        console.debug(\"Bokeh: all BokehJS libraries/stylesheets loaded\");\n        run_callbacks()\n      }\n    }\n\n    function on_error() {\n      console.error(\"failed to load \" + url);\n    }\n\n    for (var i = 0; i < css_urls.length; i++) {\n      var url = css_urls[i];\n      const element = document.createElement(\"link\");\n      element.onload = on_load;\n      element.onerror = on_error;\n      element.rel = \"stylesheet\";\n      element.type = \"text/css\";\n      element.href = url;\n      console.debug(\"Bokeh: injecting link tag for BokehJS stylesheet: \", url);\n      document.body.appendChild(element);\n    }\n\n    const hashes = {\"https://cdn.bokeh.org/bokeh/release/bokeh-2.1.1.min.js\": \"kLr4fYcqcSpbuI95brIH3vnnYCquzzSxHPU6XGQCIkQRGJwhg0StNbj1eegrHs12\", \"https://cdn.bokeh.org/bokeh/release/bokeh-widgets-2.1.1.min.js\": \"xIGPmVtaOm+z0BqfSOMn4lOR6ciex448GIKG4eE61LsAvmGj48XcMQZtKcE/UXZe\", \"https://cdn.bokeh.org/bokeh/release/bokeh-tables-2.1.1.min.js\": \"Dc9u1wF/0zApGIWoBbH77iWEHtdmkuYWG839Uzmv8y8yBLXebjO9ZnERsde5Ln/P\", \"https://cdn.bokeh.org/bokeh/release/bokeh-gl-2.1.1.min.js\": \"cT9JaBz7GiRXdENrJLZNSC6eMNF3nh3fa5fTF51Svp+ukxPdwcU5kGXGPBgDCa2j\"};\n\n    for (var i = 0; i < js_urls.length; i++) {\n      var url = js_urls[i];\n      var element = document.createElement('script');\n      element.onload = on_load;\n      element.onerror = on_error;\n      element.async = false;\n      element.src = url;\n      if (url in hashes) {\n        element.crossOrigin = \"anonymous\";\n        element.integrity = \"sha384-\" + hashes[url];\n      }\n      console.debug(\"Bokeh: injecting script tag for BokehJS library: \", url);\n      document.head.appendChild(element);\n    }\n  };\n\n  function inject_raw_css(css) {\n    const element = document.createElement(\"style\");\n    element.appendChild(document.createTextNode(css));\n    document.body.appendChild(element);\n  }\n\n  \n  var js_urls = [\"https://cdn.bokeh.org/bokeh/release/bokeh-2.1.1.min.js\", \"https://cdn.bokeh.org/bokeh/release/bokeh-widgets-2.1.1.min.js\", \"https://cdn.bokeh.org/bokeh/release/bokeh-tables-2.1.1.min.js\", \"https://cdn.bokeh.org/bokeh/release/bokeh-gl-2.1.1.min.js\"];\n  var css_urls = [];\n  \n\n  var inline_js = [\n    function(Bokeh) {\n      Bokeh.set_log_level(\"info\");\n    },\n    function(Bokeh) {\n    \n    \n    }\n  ];\n\n  function run_inline_js() {\n    \n    if (root.Bokeh !== undefined || force === true) {\n      \n    for (var i = 0; i < inline_js.length; i++) {\n      inline_js[i].call(root, root.Bokeh);\n    }\n    if (force === true) {\n        display_loaded();\n      }} else if (Date.now() < root._bokeh_timeout) {\n      setTimeout(run_inline_js, 100);\n    } else if (!root._bokeh_failed_load) {\n      console.log(\"Bokeh: BokehJS failed to load within specified timeout.\");\n      root._bokeh_failed_load = true;\n    } else if (force !== true) {\n      var cell = $(document.getElementById(\"1001\")).parents('.cell').data().cell;\n      cell.output_area.append_execute_result(NB_LOAD_WARNING)\n    }\n\n  }\n\n  if (root._bokeh_is_loading === 0) {\n    console.debug(\"Bokeh: BokehJS loaded, going straight to plotting\");\n    run_inline_js();\n  } else {\n    load_libs(css_urls, js_urls, function() {\n      console.debug(\"Bokeh: BokehJS plotting callback run at\", now());\n      run_inline_js();\n    });\n  }\n}(window));"
     },
     "metadata": {},
     "output_type": "display_data"
    }
   ],
   "source": [
    "import bokeh\n",
    "from bokeh.io import output_notebook\n",
    "from bokeh.plotting import figure, show\n",
    "output_notebook()\n",
    "from bokeh.palettes import Dark2\n",
    "bokeh.io.curdoc().theme = 'dark_minimal'\n",
    "palette = Dark2[8]*10"
   ]
  },
  {
   "cell_type": "code",
   "execution_count": 9,
   "metadata": {},
   "outputs": [],
   "source": [
    "palette = Dark2[8]*10\n",
    "colors = itertools.cycle(palette)"
   ]
  },
  {
   "cell_type": "code",
   "execution_count": 10,
   "metadata": {},
   "outputs": [
    {
     "data": {
      "text/html": [
       "\n",
       "    <div class=\"bk-root\">\n",
       "        <a href=\"https://bokeh.org\" target=\"_blank\" class=\"bk-logo bk-logo-small bk-logo-notebook\"></a>\n",
       "        <span id=\"1002\">Loading BokehJS ...</span>\n",
       "    </div>"
      ]
     },
     "metadata": {},
     "output_type": "display_data"
    },
    {
     "data": {
      "application/javascript": [
       "\n",
       "(function(root) {\n",
       "  function now() {\n",
       "    return new Date();\n",
       "  }\n",
       "\n",
       "  var force = true;\n",
       "\n",
       "  if (typeof root._bokeh_onload_callbacks === \"undefined\" || force === true) {\n",
       "    root._bokeh_onload_callbacks = [];\n",
       "    root._bokeh_is_loading = undefined;\n",
       "  }\n",
       "\n",
       "  var JS_MIME_TYPE = 'application/javascript';\n",
       "  var HTML_MIME_TYPE = 'text/html';\n",
       "  var EXEC_MIME_TYPE = 'application/vnd.bokehjs_exec.v0+json';\n",
       "  var CLASS_NAME = 'output_bokeh rendered_html';\n",
       "\n",
       "  /**\n",
       "   * Render data to the DOM node\n",
       "   */\n",
       "  function render(props, node) {\n",
       "    var script = document.createElement(\"script\");\n",
       "    node.appendChild(script);\n",
       "  }\n",
       "\n",
       "  /**\n",
       "   * Handle when an output is cleared or removed\n",
       "   */\n",
       "  function handleClearOutput(event, handle) {\n",
       "    var cell = handle.cell;\n",
       "\n",
       "    var id = cell.output_area._bokeh_element_id;\n",
       "    var server_id = cell.output_area._bokeh_server_id;\n",
       "    // Clean up Bokeh references\n",
       "    if (id != null && id in Bokeh.index) {\n",
       "      Bokeh.index[id].model.document.clear();\n",
       "      delete Bokeh.index[id];\n",
       "    }\n",
       "\n",
       "    if (server_id !== undefined) {\n",
       "      // Clean up Bokeh references\n",
       "      var cmd = \"from bokeh.io.state import curstate; print(curstate().uuid_to_server['\" + server_id + \"'].get_sessions()[0].document.roots[0]._id)\";\n",
       "      cell.notebook.kernel.execute(cmd, {\n",
       "        iopub: {\n",
       "          output: function(msg) {\n",
       "            var id = msg.content.text.trim();\n",
       "            if (id in Bokeh.index) {\n",
       "              Bokeh.index[id].model.document.clear();\n",
       "              delete Bokeh.index[id];\n",
       "            }\n",
       "          }\n",
       "        }\n",
       "      });\n",
       "      // Destroy server and session\n",
       "      var cmd = \"import bokeh.io.notebook as ion; ion.destroy_server('\" + server_id + \"')\";\n",
       "      cell.notebook.kernel.execute(cmd);\n",
       "    }\n",
       "  }\n",
       "\n",
       "  /**\n",
       "   * Handle when a new output is added\n",
       "   */\n",
       "  function handleAddOutput(event, handle) {\n",
       "    var output_area = handle.output_area;\n",
       "    var output = handle.output;\n",
       "\n",
       "    // limit handleAddOutput to display_data with EXEC_MIME_TYPE content only\n",
       "    if ((output.output_type != \"display_data\") || (!output.data.hasOwnProperty(EXEC_MIME_TYPE))) {\n",
       "      return\n",
       "    }\n",
       "\n",
       "    var toinsert = output_area.element.find(\".\" + CLASS_NAME.split(' ')[0]);\n",
       "\n",
       "    if (output.metadata[EXEC_MIME_TYPE][\"id\"] !== undefined) {\n",
       "      toinsert[toinsert.length - 1].firstChild.textContent = output.data[JS_MIME_TYPE];\n",
       "      // store reference to embed id on output_area\n",
       "      output_area._bokeh_element_id = output.metadata[EXEC_MIME_TYPE][\"id\"];\n",
       "    }\n",
       "    if (output.metadata[EXEC_MIME_TYPE][\"server_id\"] !== undefined) {\n",
       "      var bk_div = document.createElement(\"div\");\n",
       "      bk_div.innerHTML = output.data[HTML_MIME_TYPE];\n",
       "      var script_attrs = bk_div.children[0].attributes;\n",
       "      for (var i = 0; i < script_attrs.length; i++) {\n",
       "        toinsert[toinsert.length - 1].firstChild.setAttribute(script_attrs[i].name, script_attrs[i].value);\n",
       "        toinsert[toinsert.length - 1].firstChild.textContent = bk_div.children[0].textContent\n",
       "      }\n",
       "      // store reference to server id on output_area\n",
       "      output_area._bokeh_server_id = output.metadata[EXEC_MIME_TYPE][\"server_id\"];\n",
       "    }\n",
       "  }\n",
       "\n",
       "  function register_renderer(events, OutputArea) {\n",
       "\n",
       "    function append_mime(data, metadata, element) {\n",
       "      // create a DOM node to render to\n",
       "      var toinsert = this.create_output_subarea(\n",
       "        metadata,\n",
       "        CLASS_NAME,\n",
       "        EXEC_MIME_TYPE\n",
       "      );\n",
       "      this.keyboard_manager.register_events(toinsert);\n",
       "      // Render to node\n",
       "      var props = {data: data, metadata: metadata[EXEC_MIME_TYPE]};\n",
       "      render(props, toinsert[toinsert.length - 1]);\n",
       "      element.append(toinsert);\n",
       "      return toinsert\n",
       "    }\n",
       "\n",
       "    /* Handle when an output is cleared or removed */\n",
       "    events.on('clear_output.CodeCell', handleClearOutput);\n",
       "    events.on('delete.Cell', handleClearOutput);\n",
       "\n",
       "    /* Handle when a new output is added */\n",
       "    events.on('output_added.OutputArea', handleAddOutput);\n",
       "\n",
       "    /**\n",
       "     * Register the mime type and append_mime function with output_area\n",
       "     */\n",
       "    OutputArea.prototype.register_mime_type(EXEC_MIME_TYPE, append_mime, {\n",
       "      /* Is output safe? */\n",
       "      safe: true,\n",
       "      /* Index of renderer in `output_area.display_order` */\n",
       "      index: 0\n",
       "    });\n",
       "  }\n",
       "\n",
       "  // register the mime type if in Jupyter Notebook environment and previously unregistered\n",
       "  if (root.Jupyter !== undefined) {\n",
       "    var events = require('base/js/events');\n",
       "    var OutputArea = require('notebook/js/outputarea').OutputArea;\n",
       "\n",
       "    if (OutputArea.prototype.mime_types().indexOf(EXEC_MIME_TYPE) == -1) {\n",
       "      register_renderer(events, OutputArea);\n",
       "    }\n",
       "  }\n",
       "\n",
       "  \n",
       "  if (typeof (root._bokeh_timeout) === \"undefined\" || force === true) {\n",
       "    root._bokeh_timeout = Date.now() + 5000;\n",
       "    root._bokeh_failed_load = false;\n",
       "  }\n",
       "\n",
       "  var NB_LOAD_WARNING = {'data': {'text/html':\n",
       "     \"<div style='background-color: #fdd'>\\n\"+\n",
       "     \"<p>\\n\"+\n",
       "     \"BokehJS does not appear to have successfully loaded. If loading BokehJS from CDN, this \\n\"+\n",
       "     \"may be due to a slow or bad network connection. Possible fixes:\\n\"+\n",
       "     \"</p>\\n\"+\n",
       "     \"<ul>\\n\"+\n",
       "     \"<li>re-rerun `output_notebook()` to attempt to load from CDN again, or</li>\\n\"+\n",
       "     \"<li>use INLINE resources instead, as so:</li>\\n\"+\n",
       "     \"</ul>\\n\"+\n",
       "     \"<code>\\n\"+\n",
       "     \"from bokeh.resources import INLINE\\n\"+\n",
       "     \"output_notebook(resources=INLINE)\\n\"+\n",
       "     \"</code>\\n\"+\n",
       "     \"</div>\"}};\n",
       "\n",
       "  function display_loaded() {\n",
       "    var el = document.getElementById(\"1002\");\n",
       "    if (el != null) {\n",
       "      el.textContent = \"BokehJS is loading...\";\n",
       "    }\n",
       "    if (root.Bokeh !== undefined) {\n",
       "      if (el != null) {\n",
       "        el.textContent = \"BokehJS \" + root.Bokeh.version + \" successfully loaded.\";\n",
       "      }\n",
       "    } else if (Date.now() < root._bokeh_timeout) {\n",
       "      setTimeout(display_loaded, 100)\n",
       "    }\n",
       "  }\n",
       "\n",
       "\n",
       "  function run_callbacks() {\n",
       "    try {\n",
       "      root._bokeh_onload_callbacks.forEach(function(callback) {\n",
       "        if (callback != null)\n",
       "          callback();\n",
       "      });\n",
       "    } finally {\n",
       "      delete root._bokeh_onload_callbacks\n",
       "    }\n",
       "    console.debug(\"Bokeh: all callbacks have finished\");\n",
       "  }\n",
       "\n",
       "  function load_libs(css_urls, js_urls, callback) {\n",
       "    if (css_urls == null) css_urls = [];\n",
       "    if (js_urls == null) js_urls = [];\n",
       "\n",
       "    root._bokeh_onload_callbacks.push(callback);\n",
       "    if (root._bokeh_is_loading > 0) {\n",
       "      console.debug(\"Bokeh: BokehJS is being loaded, scheduling callback at\", now());\n",
       "      return null;\n",
       "    }\n",
       "    if (js_urls == null || js_urls.length === 0) {\n",
       "      run_callbacks();\n",
       "      return null;\n",
       "    }\n",
       "    console.debug(\"Bokeh: BokehJS not loaded, scheduling load and callback at\", now());\n",
       "    root._bokeh_is_loading = css_urls.length + js_urls.length;\n",
       "\n",
       "    function on_load() {\n",
       "      root._bokeh_is_loading--;\n",
       "      if (root._bokeh_is_loading === 0) {\n",
       "        console.debug(\"Bokeh: all BokehJS libraries/stylesheets loaded\");\n",
       "        run_callbacks()\n",
       "      }\n",
       "    }\n",
       "\n",
       "    function on_error() {\n",
       "      console.error(\"failed to load \" + url);\n",
       "    }\n",
       "\n",
       "    for (var i = 0; i < css_urls.length; i++) {\n",
       "      var url = css_urls[i];\n",
       "      const element = document.createElement(\"link\");\n",
       "      element.onload = on_load;\n",
       "      element.onerror = on_error;\n",
       "      element.rel = \"stylesheet\";\n",
       "      element.type = \"text/css\";\n",
       "      element.href = url;\n",
       "      console.debug(\"Bokeh: injecting link tag for BokehJS stylesheet: \", url);\n",
       "      document.body.appendChild(element);\n",
       "    }\n",
       "\n",
       "    const hashes = {\"https://cdn.bokeh.org/bokeh/release/bokeh-2.1.1.min.js\": \"kLr4fYcqcSpbuI95brIH3vnnYCquzzSxHPU6XGQCIkQRGJwhg0StNbj1eegrHs12\", \"https://cdn.bokeh.org/bokeh/release/bokeh-widgets-2.1.1.min.js\": \"xIGPmVtaOm+z0BqfSOMn4lOR6ciex448GIKG4eE61LsAvmGj48XcMQZtKcE/UXZe\", \"https://cdn.bokeh.org/bokeh/release/bokeh-tables-2.1.1.min.js\": \"Dc9u1wF/0zApGIWoBbH77iWEHtdmkuYWG839Uzmv8y8yBLXebjO9ZnERsde5Ln/P\", \"https://cdn.bokeh.org/bokeh/release/bokeh-gl-2.1.1.min.js\": \"cT9JaBz7GiRXdENrJLZNSC6eMNF3nh3fa5fTF51Svp+ukxPdwcU5kGXGPBgDCa2j\"};\n",
       "\n",
       "    for (var i = 0; i < js_urls.length; i++) {\n",
       "      var url = js_urls[i];\n",
       "      var element = document.createElement('script');\n",
       "      element.onload = on_load;\n",
       "      element.onerror = on_error;\n",
       "      element.async = false;\n",
       "      element.src = url;\n",
       "      if (url in hashes) {\n",
       "        element.crossOrigin = \"anonymous\";\n",
       "        element.integrity = \"sha384-\" + hashes[url];\n",
       "      }\n",
       "      console.debug(\"Bokeh: injecting script tag for BokehJS library: \", url);\n",
       "      document.head.appendChild(element);\n",
       "    }\n",
       "  };\n",
       "\n",
       "  function inject_raw_css(css) {\n",
       "    const element = document.createElement(\"style\");\n",
       "    element.appendChild(document.createTextNode(css));\n",
       "    document.body.appendChild(element);\n",
       "  }\n",
       "\n",
       "  \n",
       "  var js_urls = [\"https://cdn.bokeh.org/bokeh/release/bokeh-2.1.1.min.js\", \"https://cdn.bokeh.org/bokeh/release/bokeh-widgets-2.1.1.min.js\", \"https://cdn.bokeh.org/bokeh/release/bokeh-tables-2.1.1.min.js\", \"https://cdn.bokeh.org/bokeh/release/bokeh-gl-2.1.1.min.js\"];\n",
       "  var css_urls = [];\n",
       "  \n",
       "\n",
       "  var inline_js = [\n",
       "    function(Bokeh) {\n",
       "      Bokeh.set_log_level(\"info\");\n",
       "    },\n",
       "    function(Bokeh) {\n",
       "    \n",
       "    \n",
       "    }\n",
       "  ];\n",
       "\n",
       "  function run_inline_js() {\n",
       "    \n",
       "    if (root.Bokeh !== undefined || force === true) {\n",
       "      \n",
       "    for (var i = 0; i < inline_js.length; i++) {\n",
       "      inline_js[i].call(root, root.Bokeh);\n",
       "    }\n",
       "    if (force === true) {\n",
       "        display_loaded();\n",
       "      }} else if (Date.now() < root._bokeh_timeout) {\n",
       "      setTimeout(run_inline_js, 100);\n",
       "    } else if (!root._bokeh_failed_load) {\n",
       "      console.log(\"Bokeh: BokehJS failed to load within specified timeout.\");\n",
       "      root._bokeh_failed_load = true;\n",
       "    } else if (force !== true) {\n",
       "      var cell = $(document.getElementById(\"1002\")).parents('.cell').data().cell;\n",
       "      cell.output_area.append_execute_result(NB_LOAD_WARNING)\n",
       "    }\n",
       "\n",
       "  }\n",
       "\n",
       "  if (root._bokeh_is_loading === 0) {\n",
       "    console.debug(\"Bokeh: BokehJS loaded, going straight to plotting\");\n",
       "    run_inline_js();\n",
       "  } else {\n",
       "    load_libs(css_urls, js_urls, function() {\n",
       "      console.debug(\"Bokeh: BokehJS plotting callback run at\", now());\n",
       "      run_inline_js();\n",
       "    });\n",
       "  }\n",
       "}(window));"
      ],
      "application/vnd.bokehjs_load.v0+json": "\n(function(root) {\n  function now() {\n    return new Date();\n  }\n\n  var force = true;\n\n  if (typeof root._bokeh_onload_callbacks === \"undefined\" || force === true) {\n    root._bokeh_onload_callbacks = [];\n    root._bokeh_is_loading = undefined;\n  }\n\n  \n\n  \n  if (typeof (root._bokeh_timeout) === \"undefined\" || force === true) {\n    root._bokeh_timeout = Date.now() + 5000;\n    root._bokeh_failed_load = false;\n  }\n\n  var NB_LOAD_WARNING = {'data': {'text/html':\n     \"<div style='background-color: #fdd'>\\n\"+\n     \"<p>\\n\"+\n     \"BokehJS does not appear to have successfully loaded. If loading BokehJS from CDN, this \\n\"+\n     \"may be due to a slow or bad network connection. Possible fixes:\\n\"+\n     \"</p>\\n\"+\n     \"<ul>\\n\"+\n     \"<li>re-rerun `output_notebook()` to attempt to load from CDN again, or</li>\\n\"+\n     \"<li>use INLINE resources instead, as so:</li>\\n\"+\n     \"</ul>\\n\"+\n     \"<code>\\n\"+\n     \"from bokeh.resources import INLINE\\n\"+\n     \"output_notebook(resources=INLINE)\\n\"+\n     \"</code>\\n\"+\n     \"</div>\"}};\n\n  function display_loaded() {\n    var el = document.getElementById(\"1002\");\n    if (el != null) {\n      el.textContent = \"BokehJS is loading...\";\n    }\n    if (root.Bokeh !== undefined) {\n      if (el != null) {\n        el.textContent = \"BokehJS \" + root.Bokeh.version + \" successfully loaded.\";\n      }\n    } else if (Date.now() < root._bokeh_timeout) {\n      setTimeout(display_loaded, 100)\n    }\n  }\n\n\n  function run_callbacks() {\n    try {\n      root._bokeh_onload_callbacks.forEach(function(callback) {\n        if (callback != null)\n          callback();\n      });\n    } finally {\n      delete root._bokeh_onload_callbacks\n    }\n    console.debug(\"Bokeh: all callbacks have finished\");\n  }\n\n  function load_libs(css_urls, js_urls, callback) {\n    if (css_urls == null) css_urls = [];\n    if (js_urls == null) js_urls = [];\n\n    root._bokeh_onload_callbacks.push(callback);\n    if (root._bokeh_is_loading > 0) {\n      console.debug(\"Bokeh: BokehJS is being loaded, scheduling callback at\", now());\n      return null;\n    }\n    if (js_urls == null || js_urls.length === 0) {\n      run_callbacks();\n      return null;\n    }\n    console.debug(\"Bokeh: BokehJS not loaded, scheduling load and callback at\", now());\n    root._bokeh_is_loading = css_urls.length + js_urls.length;\n\n    function on_load() {\n      root._bokeh_is_loading--;\n      if (root._bokeh_is_loading === 0) {\n        console.debug(\"Bokeh: all BokehJS libraries/stylesheets loaded\");\n        run_callbacks()\n      }\n    }\n\n    function on_error() {\n      console.error(\"failed to load \" + url);\n    }\n\n    for (var i = 0; i < css_urls.length; i++) {\n      var url = css_urls[i];\n      const element = document.createElement(\"link\");\n      element.onload = on_load;\n      element.onerror = on_error;\n      element.rel = \"stylesheet\";\n      element.type = \"text/css\";\n      element.href = url;\n      console.debug(\"Bokeh: injecting link tag for BokehJS stylesheet: \", url);\n      document.body.appendChild(element);\n    }\n\n    const hashes = {\"https://cdn.bokeh.org/bokeh/release/bokeh-2.1.1.min.js\": \"kLr4fYcqcSpbuI95brIH3vnnYCquzzSxHPU6XGQCIkQRGJwhg0StNbj1eegrHs12\", \"https://cdn.bokeh.org/bokeh/release/bokeh-widgets-2.1.1.min.js\": \"xIGPmVtaOm+z0BqfSOMn4lOR6ciex448GIKG4eE61LsAvmGj48XcMQZtKcE/UXZe\", \"https://cdn.bokeh.org/bokeh/release/bokeh-tables-2.1.1.min.js\": \"Dc9u1wF/0zApGIWoBbH77iWEHtdmkuYWG839Uzmv8y8yBLXebjO9ZnERsde5Ln/P\", \"https://cdn.bokeh.org/bokeh/release/bokeh-gl-2.1.1.min.js\": \"cT9JaBz7GiRXdENrJLZNSC6eMNF3nh3fa5fTF51Svp+ukxPdwcU5kGXGPBgDCa2j\"};\n\n    for (var i = 0; i < js_urls.length; i++) {\n      var url = js_urls[i];\n      var element = document.createElement('script');\n      element.onload = on_load;\n      element.onerror = on_error;\n      element.async = false;\n      element.src = url;\n      if (url in hashes) {\n        element.crossOrigin = \"anonymous\";\n        element.integrity = \"sha384-\" + hashes[url];\n      }\n      console.debug(\"Bokeh: injecting script tag for BokehJS library: \", url);\n      document.head.appendChild(element);\n    }\n  };\n\n  function inject_raw_css(css) {\n    const element = document.createElement(\"style\");\n    element.appendChild(document.createTextNode(css));\n    document.body.appendChild(element);\n  }\n\n  \n  var js_urls = [\"https://cdn.bokeh.org/bokeh/release/bokeh-2.1.1.min.js\", \"https://cdn.bokeh.org/bokeh/release/bokeh-widgets-2.1.1.min.js\", \"https://cdn.bokeh.org/bokeh/release/bokeh-tables-2.1.1.min.js\", \"https://cdn.bokeh.org/bokeh/release/bokeh-gl-2.1.1.min.js\"];\n  var css_urls = [];\n  \n\n  var inline_js = [\n    function(Bokeh) {\n      Bokeh.set_log_level(\"info\");\n    },\n    function(Bokeh) {\n    \n    \n    }\n  ];\n\n  function run_inline_js() {\n    \n    if (root.Bokeh !== undefined || force === true) {\n      \n    for (var i = 0; i < inline_js.length; i++) {\n      inline_js[i].call(root, root.Bokeh);\n    }\n    if (force === true) {\n        display_loaded();\n      }} else if (Date.now() < root._bokeh_timeout) {\n      setTimeout(run_inline_js, 100);\n    } else if (!root._bokeh_failed_load) {\n      console.log(\"Bokeh: BokehJS failed to load within specified timeout.\");\n      root._bokeh_failed_load = true;\n    } else if (force !== true) {\n      var cell = $(document.getElementById(\"1002\")).parents('.cell').data().cell;\n      cell.output_area.append_execute_result(NB_LOAD_WARNING)\n    }\n\n  }\n\n  if (root._bokeh_is_loading === 0) {\n    console.debug(\"Bokeh: BokehJS loaded, going straight to plotting\");\n    run_inline_js();\n  } else {\n    load_libs(css_urls, js_urls, function() {\n      console.debug(\"Bokeh: BokehJS plotting callback run at\", now());\n      run_inline_js();\n    });\n  }\n}(window));"
     },
     "metadata": {},
     "output_type": "display_data"
    }
   ],
   "source": [
    "from UtilityMath import plotComplexArray"
   ]
  },
  {
   "cell_type": "code",
   "execution_count": 11,
   "metadata": {},
   "outputs": [],
   "source": [
    "import skrf as rf"
   ]
  },
  {
   "cell_type": "code",
   "execution_count": 12,
   "metadata": {},
   "outputs": [],
   "source": [
    "from scipy.optimize import minimize"
   ]
  },
  {
   "cell_type": "markdown",
   "metadata": {},
   "source": [
    "### Custom Imports"
   ]
  },
  {
   "cell_type": "code",
   "execution_count": 13,
   "metadata": {},
   "outputs": [],
   "source": [
    "from NetworkBuilding import (BuildMillerNetwork, BuildNewNetwork,\n",
    "                             MillerMultLocsX, MillerCoupLocsX, NewMultLocs,\n",
    "                             ConvertThetaPhiToTcX, \n",
    "                             Build3dBCoupler, Build5PortSplitter)"
   ]
  },
  {
   "cell_type": "code",
   "execution_count": 14,
   "metadata": {},
   "outputs": [
    {
     "name": "stdout",
     "output_type": "stream",
     "text": [
      "The autoreload extension is already loaded. To reload it, use:\n",
      "  %reload_ext autoreload\n"
     ]
    },
    {
     "data": {
      "text/html": [
       "\n",
       "    <div class=\"bk-root\">\n",
       "        <a href=\"https://bokeh.org\" target=\"_blank\" class=\"bk-logo bk-logo-small bk-logo-notebook\"></a>\n",
       "        <span id=\"1145\">Loading BokehJS ...</span>\n",
       "    </div>"
      ]
     },
     "metadata": {},
     "output_type": "display_data"
    },
    {
     "data": {
      "application/javascript": [
       "\n",
       "(function(root) {\n",
       "  function now() {\n",
       "    return new Date();\n",
       "  }\n",
       "\n",
       "  var force = true;\n",
       "\n",
       "  if (typeof root._bokeh_onload_callbacks === \"undefined\" || force === true) {\n",
       "    root._bokeh_onload_callbacks = [];\n",
       "    root._bokeh_is_loading = undefined;\n",
       "  }\n",
       "\n",
       "  var JS_MIME_TYPE = 'application/javascript';\n",
       "  var HTML_MIME_TYPE = 'text/html';\n",
       "  var EXEC_MIME_TYPE = 'application/vnd.bokehjs_exec.v0+json';\n",
       "  var CLASS_NAME = 'output_bokeh rendered_html';\n",
       "\n",
       "  /**\n",
       "   * Render data to the DOM node\n",
       "   */\n",
       "  function render(props, node) {\n",
       "    var script = document.createElement(\"script\");\n",
       "    node.appendChild(script);\n",
       "  }\n",
       "\n",
       "  /**\n",
       "   * Handle when an output is cleared or removed\n",
       "   */\n",
       "  function handleClearOutput(event, handle) {\n",
       "    var cell = handle.cell;\n",
       "\n",
       "    var id = cell.output_area._bokeh_element_id;\n",
       "    var server_id = cell.output_area._bokeh_server_id;\n",
       "    // Clean up Bokeh references\n",
       "    if (id != null && id in Bokeh.index) {\n",
       "      Bokeh.index[id].model.document.clear();\n",
       "      delete Bokeh.index[id];\n",
       "    }\n",
       "\n",
       "    if (server_id !== undefined) {\n",
       "      // Clean up Bokeh references\n",
       "      var cmd = \"from bokeh.io.state import curstate; print(curstate().uuid_to_server['\" + server_id + \"'].get_sessions()[0].document.roots[0]._id)\";\n",
       "      cell.notebook.kernel.execute(cmd, {\n",
       "        iopub: {\n",
       "          output: function(msg) {\n",
       "            var id = msg.content.text.trim();\n",
       "            if (id in Bokeh.index) {\n",
       "              Bokeh.index[id].model.document.clear();\n",
       "              delete Bokeh.index[id];\n",
       "            }\n",
       "          }\n",
       "        }\n",
       "      });\n",
       "      // Destroy server and session\n",
       "      var cmd = \"import bokeh.io.notebook as ion; ion.destroy_server('\" + server_id + \"')\";\n",
       "      cell.notebook.kernel.execute(cmd);\n",
       "    }\n",
       "  }\n",
       "\n",
       "  /**\n",
       "   * Handle when a new output is added\n",
       "   */\n",
       "  function handleAddOutput(event, handle) {\n",
       "    var output_area = handle.output_area;\n",
       "    var output = handle.output;\n",
       "\n",
       "    // limit handleAddOutput to display_data with EXEC_MIME_TYPE content only\n",
       "    if ((output.output_type != \"display_data\") || (!output.data.hasOwnProperty(EXEC_MIME_TYPE))) {\n",
       "      return\n",
       "    }\n",
       "\n",
       "    var toinsert = output_area.element.find(\".\" + CLASS_NAME.split(' ')[0]);\n",
       "\n",
       "    if (output.metadata[EXEC_MIME_TYPE][\"id\"] !== undefined) {\n",
       "      toinsert[toinsert.length - 1].firstChild.textContent = output.data[JS_MIME_TYPE];\n",
       "      // store reference to embed id on output_area\n",
       "      output_area._bokeh_element_id = output.metadata[EXEC_MIME_TYPE][\"id\"];\n",
       "    }\n",
       "    if (output.metadata[EXEC_MIME_TYPE][\"server_id\"] !== undefined) {\n",
       "      var bk_div = document.createElement(\"div\");\n",
       "      bk_div.innerHTML = output.data[HTML_MIME_TYPE];\n",
       "      var script_attrs = bk_div.children[0].attributes;\n",
       "      for (var i = 0; i < script_attrs.length; i++) {\n",
       "        toinsert[toinsert.length - 1].firstChild.setAttribute(script_attrs[i].name, script_attrs[i].value);\n",
       "        toinsert[toinsert.length - 1].firstChild.textContent = bk_div.children[0].textContent\n",
       "      }\n",
       "      // store reference to server id on output_area\n",
       "      output_area._bokeh_server_id = output.metadata[EXEC_MIME_TYPE][\"server_id\"];\n",
       "    }\n",
       "  }\n",
       "\n",
       "  function register_renderer(events, OutputArea) {\n",
       "\n",
       "    function append_mime(data, metadata, element) {\n",
       "      // create a DOM node to render to\n",
       "      var toinsert = this.create_output_subarea(\n",
       "        metadata,\n",
       "        CLASS_NAME,\n",
       "        EXEC_MIME_TYPE\n",
       "      );\n",
       "      this.keyboard_manager.register_events(toinsert);\n",
       "      // Render to node\n",
       "      var props = {data: data, metadata: metadata[EXEC_MIME_TYPE]};\n",
       "      render(props, toinsert[toinsert.length - 1]);\n",
       "      element.append(toinsert);\n",
       "      return toinsert\n",
       "    }\n",
       "\n",
       "    /* Handle when an output is cleared or removed */\n",
       "    events.on('clear_output.CodeCell', handleClearOutput);\n",
       "    events.on('delete.Cell', handleClearOutput);\n",
       "\n",
       "    /* Handle when a new output is added */\n",
       "    events.on('output_added.OutputArea', handleAddOutput);\n",
       "\n",
       "    /**\n",
       "     * Register the mime type and append_mime function with output_area\n",
       "     */\n",
       "    OutputArea.prototype.register_mime_type(EXEC_MIME_TYPE, append_mime, {\n",
       "      /* Is output safe? */\n",
       "      safe: true,\n",
       "      /* Index of renderer in `output_area.display_order` */\n",
       "      index: 0\n",
       "    });\n",
       "  }\n",
       "\n",
       "  // register the mime type if in Jupyter Notebook environment and previously unregistered\n",
       "  if (root.Jupyter !== undefined) {\n",
       "    var events = require('base/js/events');\n",
       "    var OutputArea = require('notebook/js/outputarea').OutputArea;\n",
       "\n",
       "    if (OutputArea.prototype.mime_types().indexOf(EXEC_MIME_TYPE) == -1) {\n",
       "      register_renderer(events, OutputArea);\n",
       "    }\n",
       "  }\n",
       "\n",
       "  \n",
       "  if (typeof (root._bokeh_timeout) === \"undefined\" || force === true) {\n",
       "    root._bokeh_timeout = Date.now() + 5000;\n",
       "    root._bokeh_failed_load = false;\n",
       "  }\n",
       "\n",
       "  var NB_LOAD_WARNING = {'data': {'text/html':\n",
       "     \"<div style='background-color: #fdd'>\\n\"+\n",
       "     \"<p>\\n\"+\n",
       "     \"BokehJS does not appear to have successfully loaded. If loading BokehJS from CDN, this \\n\"+\n",
       "     \"may be due to a slow or bad network connection. Possible fixes:\\n\"+\n",
       "     \"</p>\\n\"+\n",
       "     \"<ul>\\n\"+\n",
       "     \"<li>re-rerun `output_notebook()` to attempt to load from CDN again, or</li>\\n\"+\n",
       "     \"<li>use INLINE resources instead, as so:</li>\\n\"+\n",
       "     \"</ul>\\n\"+\n",
       "     \"<code>\\n\"+\n",
       "     \"from bokeh.resources import INLINE\\n\"+\n",
       "     \"output_notebook(resources=INLINE)\\n\"+\n",
       "     \"</code>\\n\"+\n",
       "     \"</div>\"}};\n",
       "\n",
       "  function display_loaded() {\n",
       "    var el = document.getElementById(\"1145\");\n",
       "    if (el != null) {\n",
       "      el.textContent = \"BokehJS is loading...\";\n",
       "    }\n",
       "    if (root.Bokeh !== undefined) {\n",
       "      if (el != null) {\n",
       "        el.textContent = \"BokehJS \" + root.Bokeh.version + \" successfully loaded.\";\n",
       "      }\n",
       "    } else if (Date.now() < root._bokeh_timeout) {\n",
       "      setTimeout(display_loaded, 100)\n",
       "    }\n",
       "  }\n",
       "\n",
       "\n",
       "  function run_callbacks() {\n",
       "    try {\n",
       "      root._bokeh_onload_callbacks.forEach(function(callback) {\n",
       "        if (callback != null)\n",
       "          callback();\n",
       "      });\n",
       "    } finally {\n",
       "      delete root._bokeh_onload_callbacks\n",
       "    }\n",
       "    console.debug(\"Bokeh: all callbacks have finished\");\n",
       "  }\n",
       "\n",
       "  function load_libs(css_urls, js_urls, callback) {\n",
       "    if (css_urls == null) css_urls = [];\n",
       "    if (js_urls == null) js_urls = [];\n",
       "\n",
       "    root._bokeh_onload_callbacks.push(callback);\n",
       "    if (root._bokeh_is_loading > 0) {\n",
       "      console.debug(\"Bokeh: BokehJS is being loaded, scheduling callback at\", now());\n",
       "      return null;\n",
       "    }\n",
       "    if (js_urls == null || js_urls.length === 0) {\n",
       "      run_callbacks();\n",
       "      return null;\n",
       "    }\n",
       "    console.debug(\"Bokeh: BokehJS not loaded, scheduling load and callback at\", now());\n",
       "    root._bokeh_is_loading = css_urls.length + js_urls.length;\n",
       "\n",
       "    function on_load() {\n",
       "      root._bokeh_is_loading--;\n",
       "      if (root._bokeh_is_loading === 0) {\n",
       "        console.debug(\"Bokeh: all BokehJS libraries/stylesheets loaded\");\n",
       "        run_callbacks()\n",
       "      }\n",
       "    }\n",
       "\n",
       "    function on_error() {\n",
       "      console.error(\"failed to load \" + url);\n",
       "    }\n",
       "\n",
       "    for (var i = 0; i < css_urls.length; i++) {\n",
       "      var url = css_urls[i];\n",
       "      const element = document.createElement(\"link\");\n",
       "      element.onload = on_load;\n",
       "      element.onerror = on_error;\n",
       "      element.rel = \"stylesheet\";\n",
       "      element.type = \"text/css\";\n",
       "      element.href = url;\n",
       "      console.debug(\"Bokeh: injecting link tag for BokehJS stylesheet: \", url);\n",
       "      document.body.appendChild(element);\n",
       "    }\n",
       "\n",
       "    const hashes = {\"https://cdn.bokeh.org/bokeh/release/bokeh-2.1.1.min.js\": \"kLr4fYcqcSpbuI95brIH3vnnYCquzzSxHPU6XGQCIkQRGJwhg0StNbj1eegrHs12\", \"https://cdn.bokeh.org/bokeh/release/bokeh-widgets-2.1.1.min.js\": \"xIGPmVtaOm+z0BqfSOMn4lOR6ciex448GIKG4eE61LsAvmGj48XcMQZtKcE/UXZe\", \"https://cdn.bokeh.org/bokeh/release/bokeh-tables-2.1.1.min.js\": \"Dc9u1wF/0zApGIWoBbH77iWEHtdmkuYWG839Uzmv8y8yBLXebjO9ZnERsde5Ln/P\", \"https://cdn.bokeh.org/bokeh/release/bokeh-gl-2.1.1.min.js\": \"cT9JaBz7GiRXdENrJLZNSC6eMNF3nh3fa5fTF51Svp+ukxPdwcU5kGXGPBgDCa2j\"};\n",
       "\n",
       "    for (var i = 0; i < js_urls.length; i++) {\n",
       "      var url = js_urls[i];\n",
       "      var element = document.createElement('script');\n",
       "      element.onload = on_load;\n",
       "      element.onerror = on_error;\n",
       "      element.async = false;\n",
       "      element.src = url;\n",
       "      if (url in hashes) {\n",
       "        element.crossOrigin = \"anonymous\";\n",
       "        element.integrity = \"sha384-\" + hashes[url];\n",
       "      }\n",
       "      console.debug(\"Bokeh: injecting script tag for BokehJS library: \", url);\n",
       "      document.head.appendChild(element);\n",
       "    }\n",
       "  };\n",
       "\n",
       "  function inject_raw_css(css) {\n",
       "    const element = document.createElement(\"style\");\n",
       "    element.appendChild(document.createTextNode(css));\n",
       "    document.body.appendChild(element);\n",
       "  }\n",
       "\n",
       "  \n",
       "  var js_urls = [\"https://cdn.bokeh.org/bokeh/release/bokeh-2.1.1.min.js\", \"https://cdn.bokeh.org/bokeh/release/bokeh-widgets-2.1.1.min.js\", \"https://cdn.bokeh.org/bokeh/release/bokeh-tables-2.1.1.min.js\", \"https://cdn.bokeh.org/bokeh/release/bokeh-gl-2.1.1.min.js\"];\n",
       "  var css_urls = [];\n",
       "  \n",
       "\n",
       "  var inline_js = [\n",
       "    function(Bokeh) {\n",
       "      Bokeh.set_log_level(\"info\");\n",
       "    },\n",
       "    function(Bokeh) {\n",
       "    \n",
       "    \n",
       "    }\n",
       "  ];\n",
       "\n",
       "  function run_inline_js() {\n",
       "    \n",
       "    if (root.Bokeh !== undefined || force === true) {\n",
       "      \n",
       "    for (var i = 0; i < inline_js.length; i++) {\n",
       "      inline_js[i].call(root, root.Bokeh);\n",
       "    }\n",
       "    if (force === true) {\n",
       "        display_loaded();\n",
       "      }} else if (Date.now() < root._bokeh_timeout) {\n",
       "      setTimeout(run_inline_js, 100);\n",
       "    } else if (!root._bokeh_failed_load) {\n",
       "      console.log(\"Bokeh: BokehJS failed to load within specified timeout.\");\n",
       "      root._bokeh_failed_load = true;\n",
       "    } else if (force !== true) {\n",
       "      var cell = $(document.getElementById(\"1145\")).parents('.cell').data().cell;\n",
       "      cell.output_area.append_execute_result(NB_LOAD_WARNING)\n",
       "    }\n",
       "\n",
       "  }\n",
       "\n",
       "  if (root._bokeh_is_loading === 0) {\n",
       "    console.debug(\"Bokeh: BokehJS loaded, going straight to plotting\");\n",
       "    run_inline_js();\n",
       "  } else {\n",
       "    load_libs(css_urls, js_urls, function() {\n",
       "      console.debug(\"Bokeh: BokehJS plotting callback run at\", now());\n",
       "      run_inline_js();\n",
       "    });\n",
       "  }\n",
       "}(window));"
      ],
      "application/vnd.bokehjs_load.v0+json": "\n(function(root) {\n  function now() {\n    return new Date();\n  }\n\n  var force = true;\n\n  if (typeof root._bokeh_onload_callbacks === \"undefined\" || force === true) {\n    root._bokeh_onload_callbacks = [];\n    root._bokeh_is_loading = undefined;\n  }\n\n  \n\n  \n  if (typeof (root._bokeh_timeout) === \"undefined\" || force === true) {\n    root._bokeh_timeout = Date.now() + 5000;\n    root._bokeh_failed_load = false;\n  }\n\n  var NB_LOAD_WARNING = {'data': {'text/html':\n     \"<div style='background-color: #fdd'>\\n\"+\n     \"<p>\\n\"+\n     \"BokehJS does not appear to have successfully loaded. If loading BokehJS from CDN, this \\n\"+\n     \"may be due to a slow or bad network connection. Possible fixes:\\n\"+\n     \"</p>\\n\"+\n     \"<ul>\\n\"+\n     \"<li>re-rerun `output_notebook()` to attempt to load from CDN again, or</li>\\n\"+\n     \"<li>use INLINE resources instead, as so:</li>\\n\"+\n     \"</ul>\\n\"+\n     \"<code>\\n\"+\n     \"from bokeh.resources import INLINE\\n\"+\n     \"output_notebook(resources=INLINE)\\n\"+\n     \"</code>\\n\"+\n     \"</div>\"}};\n\n  function display_loaded() {\n    var el = document.getElementById(\"1145\");\n    if (el != null) {\n      el.textContent = \"BokehJS is loading...\";\n    }\n    if (root.Bokeh !== undefined) {\n      if (el != null) {\n        el.textContent = \"BokehJS \" + root.Bokeh.version + \" successfully loaded.\";\n      }\n    } else if (Date.now() < root._bokeh_timeout) {\n      setTimeout(display_loaded, 100)\n    }\n  }\n\n\n  function run_callbacks() {\n    try {\n      root._bokeh_onload_callbacks.forEach(function(callback) {\n        if (callback != null)\n          callback();\n      });\n    } finally {\n      delete root._bokeh_onload_callbacks\n    }\n    console.debug(\"Bokeh: all callbacks have finished\");\n  }\n\n  function load_libs(css_urls, js_urls, callback) {\n    if (css_urls == null) css_urls = [];\n    if (js_urls == null) js_urls = [];\n\n    root._bokeh_onload_callbacks.push(callback);\n    if (root._bokeh_is_loading > 0) {\n      console.debug(\"Bokeh: BokehJS is being loaded, scheduling callback at\", now());\n      return null;\n    }\n    if (js_urls == null || js_urls.length === 0) {\n      run_callbacks();\n      return null;\n    }\n    console.debug(\"Bokeh: BokehJS not loaded, scheduling load and callback at\", now());\n    root._bokeh_is_loading = css_urls.length + js_urls.length;\n\n    function on_load() {\n      root._bokeh_is_loading--;\n      if (root._bokeh_is_loading === 0) {\n        console.debug(\"Bokeh: all BokehJS libraries/stylesheets loaded\");\n        run_callbacks()\n      }\n    }\n\n    function on_error() {\n      console.error(\"failed to load \" + url);\n    }\n\n    for (var i = 0; i < css_urls.length; i++) {\n      var url = css_urls[i];\n      const element = document.createElement(\"link\");\n      element.onload = on_load;\n      element.onerror = on_error;\n      element.rel = \"stylesheet\";\n      element.type = \"text/css\";\n      element.href = url;\n      console.debug(\"Bokeh: injecting link tag for BokehJS stylesheet: \", url);\n      document.body.appendChild(element);\n    }\n\n    const hashes = {\"https://cdn.bokeh.org/bokeh/release/bokeh-2.1.1.min.js\": \"kLr4fYcqcSpbuI95brIH3vnnYCquzzSxHPU6XGQCIkQRGJwhg0StNbj1eegrHs12\", \"https://cdn.bokeh.org/bokeh/release/bokeh-widgets-2.1.1.min.js\": \"xIGPmVtaOm+z0BqfSOMn4lOR6ciex448GIKG4eE61LsAvmGj48XcMQZtKcE/UXZe\", \"https://cdn.bokeh.org/bokeh/release/bokeh-tables-2.1.1.min.js\": \"Dc9u1wF/0zApGIWoBbH77iWEHtdmkuYWG839Uzmv8y8yBLXebjO9ZnERsde5Ln/P\", \"https://cdn.bokeh.org/bokeh/release/bokeh-gl-2.1.1.min.js\": \"cT9JaBz7GiRXdENrJLZNSC6eMNF3nh3fa5fTF51Svp+ukxPdwcU5kGXGPBgDCa2j\"};\n\n    for (var i = 0; i < js_urls.length; i++) {\n      var url = js_urls[i];\n      var element = document.createElement('script');\n      element.onload = on_load;\n      element.onerror = on_error;\n      element.async = false;\n      element.src = url;\n      if (url in hashes) {\n        element.crossOrigin = \"anonymous\";\n        element.integrity = \"sha384-\" + hashes[url];\n      }\n      console.debug(\"Bokeh: injecting script tag for BokehJS library: \", url);\n      document.head.appendChild(element);\n    }\n  };\n\n  function inject_raw_css(css) {\n    const element = document.createElement(\"style\");\n    element.appendChild(document.createTextNode(css));\n    document.body.appendChild(element);\n  }\n\n  \n  var js_urls = [\"https://cdn.bokeh.org/bokeh/release/bokeh-2.1.1.min.js\", \"https://cdn.bokeh.org/bokeh/release/bokeh-widgets-2.1.1.min.js\", \"https://cdn.bokeh.org/bokeh/release/bokeh-tables-2.1.1.min.js\", \"https://cdn.bokeh.org/bokeh/release/bokeh-gl-2.1.1.min.js\"];\n  var css_urls = [];\n  \n\n  var inline_js = [\n    function(Bokeh) {\n      Bokeh.set_log_level(\"info\");\n    },\n    function(Bokeh) {\n    \n    \n    }\n  ];\n\n  function run_inline_js() {\n    \n    if (root.Bokeh !== undefined || force === true) {\n      \n    for (var i = 0; i < inline_js.length; i++) {\n      inline_js[i].call(root, root.Bokeh);\n    }\n    if (force === true) {\n        display_loaded();\n      }} else if (Date.now() < root._bokeh_timeout) {\n      setTimeout(run_inline_js, 100);\n    } else if (!root._bokeh_failed_load) {\n      console.log(\"Bokeh: BokehJS failed to load within specified timeout.\");\n      root._bokeh_failed_load = true;\n    } else if (force !== true) {\n      var cell = $(document.getElementById(\"1145\")).parents('.cell').data().cell;\n      cell.output_area.append_execute_result(NB_LOAD_WARNING)\n    }\n\n  }\n\n  if (root._bokeh_is_loading === 0) {\n    console.debug(\"Bokeh: BokehJS loaded, going straight to plotting\");\n    run_inline_js();\n  } else {\n    load_libs(css_urls, js_urls, function() {\n      console.debug(\"Bokeh: BokehJS plotting callback run at\", now());\n      run_inline_js();\n    });\n  }\n}(window));"
     },
     "metadata": {},
     "output_type": "display_data"
    },
    {
     "name": "stdout",
     "output_type": "stream",
     "text": [
      "dataSetRough.shape (35, 94, 94)\n"
     ]
    }
   ],
   "source": [
    "from ExpComponents import (Multiplier, MultiplierBank, Build3dBCouplerSim)"
   ]
  },
  {
   "cell_type": "code",
   "execution_count": 15,
   "metadata": {},
   "outputs": [],
   "source": [
    "from Miller import (MillerBuilder)"
   ]
  },
  {
   "cell_type": "code",
   "execution_count": 283,
   "metadata": {},
   "outputs": [],
   "source": [
    "from UtilityMath import (convertArrayToDict, MatrixError, MatrixSqError, makePolarPlot, addMatrixDiff, PolarPlot, ReIm, \n",
    "                         RandomComplexCircularMatrix, PolarPlot)"
   ]
  },
  {
   "cell_type": "code",
   "execution_count": 17,
   "metadata": {},
   "outputs": [
    {
     "name": "stdout",
     "output_type": "stream",
     "text": [
      "COM3                \n",
      "COM4                \n",
      "COM5                \n"
     ]
    },
    {
     "name": "stderr",
     "output_type": "stream",
     "text": [
      "3 ports found\n"
     ]
    }
   ],
   "source": [
    "from HardwareComms import (MultBankComm, SwitchComm, VNAComm, ExperimentalSetup)"
   ]
  },
  {
   "cell_type": "markdown",
   "metadata": {},
   "source": [
    "# New Architecture"
   ]
  },
  {
   "cell_type": "markdown",
   "metadata": {},
   "source": [
    "This analysis has two steps: Tuning and Performance \n",
    "\n",
    "In the first step, we will tune the model of the devices to account for various idiosynchrasies of the physical network (device irregularities, cable lengths, etc).  \n",
    "\n",
    "In order to do this tuning, we will build a simulation of the network.  The key element in the network is the Multiplier.  This element is represented by a Python Object that is based on a PCA analysis of physical measurements of large set of Multipliers.  Each Multiplier's representation has its own PCA weights that can be adjusted.\n",
    "\n",
    "In order to tune these PCA weights, we will apply a series of test settings (PS value [0-1023] and VGA value [0-1023] to the Multipliers.  Upon performing a physical measurement, this will yield a series of $n \\times n$ scattering matrices for the entire network.  Following that, we can use optimization to adjust the PCA weights of each Multiplier until the network simulations of the same test settings match the physical reasults.\n",
    "\n",
    "Once the devices have been tuned, we can specifiy a desired target network response.  This network can be transformed into Multiplier complex transmission values, $T$.  The algorithm for this step can be quite complicated depending on the network topology (Miller vs New).  By using inverse functions on the PCA weights, we can find the required digital inputs (PS and VGA value) to each physical multiplier.\n",
    "\n",
    "Finally, we apply these digital inputs both in simulation and experiment.  We take a physical measurement of the network and compare the target, simulation, and physical network responses."
   ]
  },
  {
   "cell_type": "markdown",
   "metadata": {
    "heading_collapsed": "true",
    "tags": []
   },
   "source": [
    "## Definitions (Exp)"
   ]
  },
  {
   "cell_type": "markdown",
   "metadata": {},
   "source": [
    "First we define the various devices."
   ]
  },
  {
   "cell_type": "code",
   "execution_count": 18,
   "metadata": {},
   "outputs": [
    {
     "name": "stdout",
     "output_type": "stream",
     "text": [
      "\n",
      "\n",
      "Agilent Technologies,E5071C,MY46100333,A.07.02\n",
      "\n",
      "\n"
     ]
    }
   ],
   "source": [
    "inputSwitchComm = SwitchComm(comValue='COM4', portAliases={1:6, 2:5, 3:4, 4:3, 5:2, \"test\":1})\n",
    "outputSwitchComm = SwitchComm(comValue='COM3', portAliases={1:3, 2:4, 3:5, 4:6, 5:7, \"test\":1})\n",
    "vnaComm = VNAComm()\n",
    "multBankComm = MultBankComm(comValue='COM5')"
   ]
  },
  {
   "cell_type": "code",
   "execution_count": 19,
   "metadata": {},
   "outputs": [],
   "source": [
    "exp = ExperimentalSetup(inputSwitchComm, outputSwitchComm, multBankComm, vnaComm)"
   ]
  },
  {
   "cell_type": "markdown",
   "metadata": {},
   "source": [
    "For convenience, higher level scripts that require coordination between the various devices can be accessed using an `ExperimentalSetup`."
   ]
  },
  {
   "cell_type": "markdown",
   "metadata": {
    "heading_collapsed": "true"
   },
   "source": [
    "## Definitions (Sim)"
   ]
  },
  {
   "cell_type": "code",
   "execution_count": 20,
   "metadata": {
    "id": "kJNZ1xLPelCt"
   },
   "outputs": [],
   "source": [
    "freq45 = rf.Frequency(start=45, stop=45, npoints=1, unit='mhz', sweep_type='lin')"
   ]
  },
  {
   "cell_type": "markdown",
   "metadata": {},
   "source": [
    "First we need to generate labels for the Multipliers.  For the New architecture, this is a simple square grid.  The format is\n",
    "\n",
    "`('M', 'N', inputLine, outputLine)` \n",
    "\n",
    "where `'M'` is for \"Multiplier\", `'N'` is for \"New\" and `inputLine` and `outputLine` are integers in the range [0,4]."
   ]
  },
  {
   "cell_type": "code",
   "execution_count": 21,
   "metadata": {},
   "outputs": [],
   "source": [
    "allMultLocs = NewMultLocs(5,'N')\n",
    "allMultLocs;"
   ]
  },
  {
   "cell_type": "markdown",
   "metadata": {},
   "source": [
    "Every device has a \"Physical Number\" that is used for addressing to allow the computer to specify to which device a command is intended.  These are enumarated below.  Similar to SParams, the rows denote output lines while the columns denote input lines."
   ]
  },
  {
   "cell_type": "code",
   "execution_count": 22,
   "metadata": {},
   "outputs": [
    {
     "data": {
      "text/plain": [
       "array([[31, 11, 16, 21, 26],\n",
       "       [32, 12, 17, 22, 27],\n",
       "       [33, 13, 18, 23, 28],\n",
       "       [34, 14, 19, 24, 29],\n",
       "       [35, 15, 20, 25, 30]])"
      ]
     },
     "execution_count": 22,
     "metadata": {},
     "output_type": "execute_result"
    }
   ],
   "source": [
    "# Be careful here.  A horizontal row in the physical world represents a column in matrix multiplication\n",
    "multPhysNumberBank = [[ 31, 32, 33, 34, 35],\n",
    "                      [ 11, 12, 13, 14, 15],\n",
    "                      [ 16, 17, 18, 19, 20],\n",
    "                      [ 21, 22, 23, 24, 25],\n",
    "                      [ 26, 27, 28, 29, 30]]\n",
    "multPhysNumberBank = np.array(multPhysNumberBank).T\n",
    "multPhysNumberBank"
   ]
  },
  {
   "cell_type": "markdown",
   "metadata": {},
   "source": [
    "And just a quick spot check to make sure we have accidently applied a transpose."
   ]
  },
  {
   "cell_type": "code",
   "execution_count": 23,
   "metadata": {},
   "outputs": [
    {
     "data": {
      "text/plain": [
       "26"
      ]
     },
     "execution_count": 23,
     "metadata": {},
     "output_type": "execute_result"
    }
   ],
   "source": [
    "inputLine = 5\n",
    "outputLine = 1\n",
    "multPhysNumberBank[outputLine - 1, inputLine - 1]"
   ]
  },
  {
   "cell_type": "markdown",
   "metadata": {},
   "source": [
    "Next we build a MultiplierBank.  This is a collection of Multipliers.  This allows a Multiplier to be retreived by either its `loc` or by its `physNumber`, allowing the MultiplierBank to function both to interact with the physical experiment or a network simulation."
   ]
  },
  {
   "cell_type": "code",
   "execution_count": 24,
   "metadata": {},
   "outputs": [],
   "source": [
    "multBank = MultiplierBank()\n",
    "for loc in allMultLocs:\n",
    "    (_, _, inputLine, outputLine) = loc\n",
    "    physNumber = multPhysNumberBank[outputLine, inputLine]\n",
    "    mult = Multiplier(physNumber=physNumber, loc=loc, freq=freq45)\n",
    "    multBank.addMult(mult)"
   ]
  },
  {
   "cell_type": "markdown",
   "metadata": {},
   "source": [
    "Note that passive devices such as 5:1 Splitters are not modeled to the same degree and do not require controlling.  Therefore, we will generate generic elements as we need them."
   ]
  },
  {
   "cell_type": "code",
   "execution_count": 25,
   "metadata": {},
   "outputs": [],
   "source": [
    "X0 = multBank.getPersonalityVectors()"
   ]
  },
  {
   "cell_type": "markdown",
   "metadata": {},
   "source": [
    "## Tuning"
   ]
  },
  {
   "cell_type": "markdown",
   "metadata": {
    "heading_collapsed": "true"
   },
   "source": [
    "### Debugging"
   ]
  },
  {
   "cell_type": "code",
   "execution_count": null,
   "metadata": {},
   "outputs": [],
   "source": [
    "for loc in allMultLocs:\n",
    "    mult = multBank.getMultByLoc(loc)\n",
    "    try: \n",
    "        multBankComm.blinkMult(mult.physNumber)\n",
    "    except NameError:\n",
    "        pass        \n",
    "    sleep(0.2)"
   ]
  },
  {
   "cell_type": "code",
   "execution_count": null,
   "metadata": {},
   "outputs": [],
   "source": [
    "outIndex = 5\n",
    "inIndex = 3\n",
    "vga, ps = (1000, 100)\n",
    "loc = ('M', 'N', inIndex-1, outIndex-1) # ('M', 'N', in, out) :(.\n",
    "mult = multBank.getMultByLoc(loc)\n",
    "physNum = mult.physNumber\n",
    "print(physNum)\n",
    "multBankComm.setMult(physNum, vga, ps)\n",
    "inputSwitchComm.setSwitch(inIndex)\n",
    "outputSwitchComm.setSwitch(outIndex)\n",
    "sleep(2)\n",
    "vnaComm.getS21AllAt45()"
   ]
  },
  {
   "cell_type": "code",
   "execution_count": null,
   "metadata": {},
   "outputs": [],
   "source": [
    "multBankComm.setMult(28, 100, 200)"
   ]
  },
  {
   "cell_type": "code",
   "execution_count": null,
   "metadata": {},
   "outputs": [],
   "source": [
    "# inputSwitchComm.portAliases=None\n",
    "# outputSwitchComm.portAliases=None"
   ]
  },
  {
   "cell_type": "code",
   "execution_count": null,
   "metadata": {},
   "outputs": [],
   "source": [
    "inputSwitchComm.setSwitch(1, verbose=True)\n",
    "outputSwitchComm.setSwitch(1, verbose=True)\n",
    "exp.vnaComm.getS21AllAt45()"
   ]
  },
  {
   "cell_type": "code",
   "execution_count": null,
   "metadata": {},
   "outputs": [],
   "source": [
    "inputSwitchComm.close()\n",
    "outputSwitchComm.close()"
   ]
  },
  {
   "cell_type": "code",
   "execution_count": null,
   "metadata": {},
   "outputs": [],
   "source": [
    "outputSwitchComm.setSwitch(\"test\")"
   ]
  },
  {
   "cell_type": "code",
   "execution_count": null,
   "metadata": {},
   "outputs": [],
   "source": [
    "exp.setMults(0, 100, multBank.getPhysNums())"
   ]
  },
  {
   "cell_type": "code",
   "execution_count": null,
   "metadata": {},
   "outputs": [],
   "source": [
    "exp.vnaComm.getS21AllAt45()"
   ]
  },
  {
   "cell_type": "code",
   "execution_count": null,
   "metadata": {},
   "outputs": [],
   "source": [
    "SMat, STD = exp.measureSMatrix(delay=2)"
   ]
  },
  {
   "cell_type": "code",
   "execution_count": null,
   "metadata": {},
   "outputs": [],
   "source": [
    "np.abs(SMat)"
   ]
  },
  {
   "cell_type": "markdown",
   "metadata": {
    "heading_collapsed": "true"
   },
   "source": [
    "### Physical Measurement"
   ]
  },
  {
   "cell_type": "markdown",
   "metadata": {},
   "source": [
    "Next we define a series of multiplier set points that we'll use to ascertain the multiplier's PCA weights."
   ]
  },
  {
   "cell_type": "code",
   "execution_count": null,
   "metadata": {},
   "outputs": [],
   "source": [
    "tuningPSVals = np.linspace(0, 1023, 10, dtype=np.int)\n",
    "tuningVGAVals = np.linspace(0, 1023, 10, dtype=np.int)"
   ]
  },
  {
   "cell_type": "code",
   "execution_count": null,
   "metadata": {},
   "outputs": [],
   "source": [
    "tuningVals = [(ps, vga) for vga in tuningVGAVals for ps in tuningPSVals]"
   ]
  },
  {
   "cell_type": "markdown",
   "metadata": {},
   "source": [
    "For each PS, VGA pair, the multipliers are uniformly set and the scattering matrix of the network is measured."
   ]
  },
  {
   "cell_type": "code",
   "execution_count": null,
   "metadata": {},
   "outputs": [],
   "source": [
    "tuningMatricesM = []\n",
    "for (psVal, vgaVal) in tuningVals:\n",
    "    exp.setMults(int(psVal), int(vgaVal), multBank.getPhysNums())\n",
    "    time.sleep(1)\n",
    "    m, std = exp.measureSMatrix(delay=2)\n",
    "    tuningMatricesM.append(m)\n",
    "tuningMatricesM = np.array(tuningMatricesM)"
   ]
  },
  {
   "cell_type": "code",
   "execution_count": null,
   "metadata": {},
   "outputs": [],
   "source": [
    "np.save(\"tuningVals10\", tuningVals)\n",
    "np.save(\"tuningMatricesM10\", tuningMatricesM)"
   ]
  },
  {
   "cell_type": "markdown",
   "metadata": {
    "heading_collapsed": "true"
   },
   "source": [
    "### Fake Measurements"
   ]
  },
  {
   "cell_type": "code",
   "execution_count": null,
   "metadata": {},
   "outputs": [],
   "source": [
    "def MultBuilder(loc):\n",
    "    return multBank.getRFNetwork(loc)"
   ]
  },
  {
   "cell_type": "code",
   "execution_count": null,
   "metadata": {},
   "outputs": [],
   "source": [
    "def SplitterBuilder(loc):\n",
    "    return Build5PortSplitter(freq45, loc=loc)"
   ]
  },
  {
   "cell_type": "code",
   "execution_count": null,
   "metadata": {},
   "outputs": [],
   "source": [
    "X0 = multBank.getPersonalityVectors()"
   ]
  },
  {
   "cell_type": "code",
   "execution_count": null,
   "metadata": {},
   "outputs": [],
   "source": [
    "XSet = X0*np.random.normal(1, 0.1, size=len(X0))"
   ]
  },
  {
   "cell_type": "code",
   "execution_count": null,
   "metadata": {},
   "outputs": [],
   "source": [
    "multBank.setPersonalityVectors(XSet)"
   ]
  },
  {
   "cell_type": "code",
   "execution_count": null,
   "metadata": {},
   "outputs": [],
   "source": [
    "tuningMatricesM = []\n",
    "for (psVal, vgaVal) in tuningVals:\n",
    "    multBank.setAllMults(psVal, vgaVal)\n",
    "    newNet = BuildNewNetwork(SplitterBuilder, MultBuilder, loc=\"N\", n=5)\n",
    "    m = newNet.s[0, 5:, :5]\n",
    "    tuningMatricesM.append(m)\n",
    "tuningMatricesM = np.array(tuningMatricesM)"
   ]
  },
  {
   "cell_type": "code",
   "execution_count": null,
   "metadata": {},
   "outputs": [],
   "source": [
    "multBank.setPersonalityVectors(X0)"
   ]
  },
  {
   "cell_type": "code",
   "execution_count": null,
   "metadata": {},
   "outputs": [],
   "source": [
    "np.save(\"tuningVals\", tuningVals)\n",
    "np.save(\"tuningMatricesM\", tuningMatricesM)"
   ]
  },
  {
   "cell_type": "markdown",
   "metadata": {
    "heading_collapsed": "true",
    "tags": []
   },
   "source": [
    "### Fitting"
   ]
  },
  {
   "cell_type": "code",
   "execution_count": 35,
   "metadata": {},
   "outputs": [],
   "source": [
    "tuningVals = np.load(\"tuningVals10_v2.npy\")\n",
    "tuningMatricesM = np.load(\"tuningMatricesM10_v2.npy\")"
   ]
  },
  {
   "cell_type": "code",
   "execution_count": null,
   "metadata": {},
   "outputs": [],
   "source": [
    "def PlotTuningMatrices(tuningMatrices, shape, maxRad):\n",
    "    \"\"\"\n",
    "    tuningMatrices.shape => (N*M, n, n)\n",
    "    shape = (N, M, n, n)\n",
    "    \"\"\"\n",
    "    N, M, n, n = shape\n",
    "    tuningMatricesNxN = tuningMatrices.reshape(shape)\n",
    "    tuningMatricesNxN_List = [[tuningMatricesNxN[r,c] for c in range(M)] for r in range(N)]\n",
    "    tuningMatrices2D = np.block(tuningMatricesNxN_List)\n",
    "    plotComplexArray(tuningMatrices2D, maxRad=maxRad)"
   ]
  },
  {
   "cell_type": "code",
   "execution_count": null,
   "metadata": {},
   "outputs": [],
   "source": [
    "tuningVals[-1]"
   ]
  },
  {
   "cell_type": "code",
   "execution_count": null,
   "metadata": {},
   "outputs": [],
   "source": [
    "tuningMatricesM[-1]"
   ]
  },
  {
   "cell_type": "code",
   "execution_count": null,
   "metadata": {},
   "outputs": [],
   "source": [
    "PlotTuningMatrices(tuningMatricesM, (10, 10, 5, 5), maxRad=1.5)"
   ]
  },
  {
   "cell_type": "markdown",
   "metadata": {},
   "source": [
    "The simulation builder `BuildNewNetwork` requires that we supply it with two functions, one which creates an RF network object from of a 5-way splitter, and another which creates one of the Multiplier.  We will assume that the splitter is generic and employ a simple theoretical model for that which was imported from our `NetworkBuilding` theoretical simulation notebook.  However, for the Multiplier, we will use the `MultiplierBank` and the `loc` code to extract the model for a multiplier assigned to that specific location in the network. "
   ]
  },
  {
   "cell_type": "code",
   "execution_count": null,
   "metadata": {},
   "outputs": [],
   "source": [
    "def MultBuilder(loc):\n",
    "    return multBank.getRFNetwork(loc)"
   ]
  },
  {
   "cell_type": "code",
   "execution_count": null,
   "metadata": {},
   "outputs": [],
   "source": [
    "def SplitterBuilder(loc):\n",
    "    return Build5PortSplitter(freq45, loc=loc)"
   ]
  },
  {
   "cell_type": "markdown",
   "metadata": {},
   "source": [
    "As a quick example of a simulation, we set all the multipliers to the same setting, build a network, and examine the transmissive properties of it."
   ]
  },
  {
   "cell_type": "code",
   "execution_count": null,
   "metadata": {},
   "outputs": [],
   "source": [
    "multBank.setAllMults(psVal=512, vgaVal=512)"
   ]
  },
  {
   "cell_type": "code",
   "execution_count": null,
   "metadata": {},
   "outputs": [],
   "source": [
    "newNet = BuildNewNetwork(SplitterBuilder, MultBuilder, loc=\"N\", n=5)\n",
    "T = newNet.s[0, 5:, :5]\n",
    "T"
   ]
  },
  {
   "cell_type": "markdown",
   "metadata": {},
   "source": [
    "Of course this step can be automated for all of the `(ps, vga)` pairs in the in `tuningVals` to yield `tuningMatricesS`.  "
   ]
  },
  {
   "cell_type": "code",
   "execution_count": null,
   "metadata": {},
   "outputs": [],
   "source": [
    "tuningMatricesS = []\n",
    "for (psVal, vgaVal) in tuningVals:\n",
    "    multBank.setAllMults(psVal, vgaVal)\n",
    "    newNet = BuildNewNetwork(SplitterBuilder, MultBuilder, loc=\"N\", n=5)\n",
    "    m = newNet.s[0, 5:, :5]\n",
    "    tuningMatricesS.append(m)\n",
    "tuningMatricesS = np.array(tuningMatricesS)"
   ]
  },
  {
   "cell_type": "code",
   "execution_count": null,
   "metadata": {},
   "outputs": [],
   "source": [
    "PlotTuningMatrices(tuningMatricesS, (10, 10, 5, 5), maxRad=2.5)"
   ]
  },
  {
   "cell_type": "markdown",
   "metadata": {},
   "source": [
    "Ideally, this would yield the exact same network scattering matrices as were measured and contained in `tuningMatricesM`.  Of course they won't because each physical device has its own personality and other factors such as varying cable lengths.  We will therefore optimize the PCA weights of each device in simulation in an attempt to create collection of devices which match the real behavior of the experimental devices.\n",
    "\n",
    "In order to perform this optimization, we use SciPy's multivariate minimization function `minimize()`.  The format of this \n",
    "`scipy.optimize.minimize(fun, X0)` where `fun` is built such that `fun(X) -> error` where `X` and `X0` are 1D vectors of the real scalars to be optimized.  In order to make this easy, the MultiplierBank comes with two functions `setPersonalityVectors(X)` and `X0 = getPersonalityVectors()`, which grabs the complex PCA weights from all the multipliers as mashes them into a real 1D vector.  The two functions are designed to operate together so that the data"
   ]
  },
  {
   "cell_type": "code",
   "execution_count": null,
   "metadata": {},
   "outputs": [],
   "source": [
    "X0 = multBank.getPersonalityVectors()"
   ]
  },
  {
   "cell_type": "code",
   "execution_count": null,
   "metadata": {},
   "outputs": [],
   "source": [
    "def fun(X):\n",
    "    multBank.setPersonalityVectors(X)\n",
    "    tuningMatricesS = []\n",
    "    for (psVal, vgaVal) in tuningVals:\n",
    "        multBank.setAllMults(psVal, vgaVal)\n",
    "        newNet = BuildNewNetwork(SplitterBuilder, MultBuilder, loc=\"N\", n=5)\n",
    "        m = newNet.s[0, 5:, :5]\n",
    "        tuningMatricesS.append(m)\n",
    "    tuningMatricesS = np.array(tuningMatricesS)\n",
    "    error = np.sum(np.abs(tuningMatricesS - tuningMatricesM)**2)\n",
    "    print(error)\n",
    "    return error"
   ]
  },
  {
   "cell_type": "code",
   "execution_count": null,
   "metadata": {},
   "outputs": [],
   "source": [
    "fit = sp.optimize.minimize(fun, X0, method='Powell', \n",
    "                           options={'disp':True, 'adaptive':True, 'fatol':0.01})"
   ]
  },
  {
   "cell_type": "code",
   "execution_count": null,
   "metadata": {},
   "outputs": [],
   "source": [
    "XF = multBank.getPersonalityVectors()"
   ]
  },
  {
   "cell_type": "code",
   "execution_count": null,
   "metadata": {},
   "outputs": [],
   "source": [
    "# XF = fit.x"
   ]
  },
  {
   "cell_type": "markdown",
   "metadata": {},
   "source": [
    "Error when multipliers are the uniform average all devices measured in the PCA:"
   ]
  },
  {
   "cell_type": "code",
   "execution_count": null,
   "metadata": {},
   "outputs": [],
   "source": [
    "fun(X0)"
   ]
  },
  {
   "cell_type": "markdown",
   "metadata": {},
   "source": [
    "Error following fitting the PCA weights:"
   ]
  },
  {
   "cell_type": "code",
   "execution_count": null,
   "metadata": {},
   "outputs": [],
   "source": [
    "fun(XF)"
   ]
  },
  {
   "cell_type": "code",
   "execution_count": null,
   "metadata": {},
   "outputs": [],
   "source": [
    "multBank.setPersonalityVectors(XF)"
   ]
  },
  {
   "cell_type": "code",
   "execution_count": null,
   "metadata": {},
   "outputs": [],
   "source": [
    "tuningMatricesS = []\n",
    "for (psVal, vgaVal) in tuningVals:\n",
    "    multBank.setAllMults(psVal, vgaVal)\n",
    "    newNet = BuildNewNetwork(SplitterBuilder, MultBuilder, loc=\"N\", n=5)\n",
    "    m = newNet.s[0, 5:, :5]\n",
    "    tuningMatricesS.append(m)\n",
    "tuningMatricesS = np.array(tuningMatricesS)"
   ]
  },
  {
   "cell_type": "code",
   "execution_count": null,
   "metadata": {},
   "outputs": [],
   "source": [
    "PlotTuningMatrices(tuningMatricesS, (10, 10, 5, 5), maxRad=2.5)"
   ]
  },
  {
   "cell_type": "code",
   "execution_count": null,
   "metadata": {},
   "outputs": [],
   "source": [
    "np.save(\"personalityVector_v2\", XF)"
   ]
  },
  {
   "cell_type": "markdown",
   "metadata": {},
   "source": [
    "# Set and Measure a Matrix"
   ]
  },
  {
   "cell_type": "code",
   "execution_count": 143,
   "metadata": {},
   "outputs": [],
   "source": [
    "def calcNewMatrixSettings(K, multBank, n):\n",
    "    expK = []\n",
    "    for i_out in range(n):\n",
    "        expRow = []\n",
    "        for i_in in range(n):\n",
    "            loc = ('M', 'N', i_in, i_out)\n",
    "            mult = multBank.getMultByLoc(loc)\n",
    "            T = 5*K[i_out, i_in]\n",
    "            mult.setT(T)\n",
    "            Texp = mult.TExpected\n",
    "            expRow.append(Texp)\n",
    "        expK.append(expRow)\n",
    "    expK = np.array(expK)\n",
    "    return (expK/n)"
   ]
  },
  {
   "cell_type": "code",
   "execution_count": 72,
   "metadata": {},
   "outputs": [],
   "source": [
    "def setExpMultBank(exp, multBank):\n",
    "    physNums = multBank.getPhysNums()\n",
    "    psSettings = [multBank.getMultByPhysNum(physNum).psSetting for physNum in physNums]\n",
    "    vgaSettings = [multBank.getMultByPhysNum(physNum).vgaSetting for physNum in physNums]\n",
    "    exp.setMults(psSettings, vgaSettings, physNums)"
   ]
  },
  {
   "cell_type": "code",
   "execution_count": 114,
   "metadata": {},
   "outputs": [],
   "source": [
    "XF = np.load(\"personalityVector_v2.npy\")"
   ]
  },
  {
   "cell_type": "code",
   "execution_count": 115,
   "metadata": {},
   "outputs": [],
   "source": [
    "multBank.setPersonalityVectors(XF)"
   ]
  },
  {
   "cell_type": "markdown",
   "metadata": {
    "heading_collapsed": "true"
   },
   "source": [
    "## Compare Current System to Tuning Matrices"
   ]
  },
  {
   "cell_type": "code",
   "execution_count": 116,
   "metadata": {},
   "outputs": [],
   "source": [
    "tuningVals = np.load(\"tuningVals10_v2.npy\")\n",
    "tuningMatricesM = np.load(\"tuningMatricesM10_v2.npy\")"
   ]
  },
  {
   "cell_type": "code",
   "execution_count": 117,
   "metadata": {},
   "outputs": [],
   "source": [
    "testCase = 55"
   ]
  },
  {
   "cell_type": "code",
   "execution_count": 118,
   "metadata": {},
   "outputs": [
    {
     "data": {
      "text/plain": [
       "array([568, 568])"
      ]
     },
     "execution_count": 118,
     "metadata": {},
     "output_type": "execute_result"
    }
   ],
   "source": [
    "tuningVals[testCase]"
   ]
  },
  {
   "cell_type": "code",
   "execution_count": 80,
   "metadata": {},
   "outputs": [
    {
     "name": "stdout",
     "output_type": "stream",
     "text": [
      "[[-0.048+0.149j -0.005+0.166j -0.06 +0.149j -0.055+0.136j -0.022+0.15j ]\n",
      " [ 0.008+0.136j -0.06 +0.133j -0.043+0.153j -0.024+0.161j -0.019+0.154j]\n",
      " [ 0.034+0.16j   0.006+0.162j -0.02 +0.138j  0.001+0.167j -0.005+0.154j]\n",
      " [-0.009+0.157j  0.011+0.138j -0.024+0.155j  0.012+0.139j -0.025+0.159j]\n",
      " [-0.025+0.143j -0.018+0.133j -0.021+0.151j  0.006+0.152j -0.063+0.147j]]\n"
     ]
    }
   ],
   "source": [
    "(psVal, vgaVal) = tuningVals[testCase]\n",
    "multBank.setAllMults(psVal, vgaVal)\n",
    "setExpMultBank(exp, multBank)\n",
    "m, std = exp.measureSMatrix(delay=2)\n",
    "print(m)"
   ]
  },
  {
   "cell_type": "code",
   "execution_count": 81,
   "metadata": {},
   "outputs": [],
   "source": [
    "oldM = tuningMatricesM[testCase]"
   ]
  },
  {
   "cell_type": "code",
   "execution_count": 82,
   "metadata": {},
   "outputs": [
    {
     "data": {
      "text/plain": [
       "array([[0.001, 0.001, 0.001, 0.001, 0.   ],\n",
       "       [0.001, 0.001, 0.   , 0.   , 0.001],\n",
       "       [0.   , 0.001, 0.001, 0.001, 0.001],\n",
       "       [0.001, 0.001, 0.001, 0.001, 0.003],\n",
       "       [0.002, 0.001, 0.002, 0.001, 0.002]])"
      ]
     },
     "execution_count": 82,
     "metadata": {},
     "output_type": "execute_result"
    }
   ],
   "source": [
    "abs(m - oldM)"
   ]
  },
  {
   "cell_type": "code",
   "execution_count": 83,
   "metadata": {},
   "outputs": [],
   "source": [
    "tempComp = np.sum(m/oldM)/25"
   ]
  },
  {
   "cell_type": "code",
   "execution_count": 84,
   "metadata": {},
   "outputs": [
    {
     "data": {
      "text/plain": [
       "(1.0019958407350524-0.0057045571809118565j)"
      ]
     },
     "execution_count": 84,
     "metadata": {},
     "output_type": "execute_result"
    }
   ],
   "source": [
    "tempComp"
   ]
  },
  {
   "cell_type": "markdown",
   "metadata": {},
   "source": [
    "## Inversion Experiment"
   ]
  },
  {
   "cell_type": "code",
   "execution_count": 119,
   "metadata": {},
   "outputs": [],
   "source": [
    "KMidRange = np.full((5,5), fill_value=(-.25+.75j)/5)"
   ]
  },
  {
   "cell_type": "code",
   "execution_count": 155,
   "metadata": {},
   "outputs": [
    {
     "data": {
      "text/plain": [
       "array([[ 0.226+0.27j ,  0.142-0.411j, -0.205-0.386j,  0.146-0.415j,  0.252-0.283j],\n",
       "       [-0.383-0.102j,  0.123-0.095j,  0.316-0.183j, -0.422-0.19j ,  0.041+0.079j],\n",
       "       [-0.141-0.071j, -0.391+0.113j,  0.065-0.305j,  0.028+0.169j,  0.168+0.385j],\n",
       "       [ 0.094-0.225j,  0.21 -0.059j, -0.108+0.427j, -0.139-0.241j,  0.22 +0.272j],\n",
       "       [ 0.464-0.107j,  0.446+0.202j, -0.259-0.406j,  0.236-0.308j, -0.005-0.28j ]])"
      ]
     },
     "execution_count": 155,
     "metadata": {},
     "output_type": "execute_result"
    }
   ],
   "source": [
    "RandomComplexCircularMatrix(0.5, (5,5))"
   ]
  },
  {
   "cell_type": "code",
   "execution_count": 154,
   "metadata": {},
   "outputs": [
    {
     "data": {
      "text/plain": [
       "array([0.919, 0.679, 0.611, 0.337, 0.05 ])"
      ]
     },
     "execution_count": 154,
     "metadata": {},
     "output_type": "execute_result"
    }
   ],
   "source": [
    "KRand1 = np.array([[-0.395-0.074j,  0.002+0.214j, -0.174+0.235j,  0.456-0.18j , -0.383+0.171j],\n",
    "                   [-0.461-0.019j, -0.075+0.19j , -0.251+0.301j, -0.132+0.09j , -0.225+0.013j],\n",
    "                   [-0.409-0.236j, -0.124+0.037j,  0.103+0.197j, -0.436+0.241j, -0.05 +0.148j],\n",
    "                   [ 0.025-0.064j, -0.183-0.198j, -0.075-0.225j, -0.014+0.166j, -0.053+0.174j],\n",
    "                   [ 0.373+0.042j, -0.014+0.05j ,  0.034+0.392j,  0.195+0.178j,  0.005-0.079j]])\n",
    "np.sort(abs(np.linalg.eigvals(KRand1)))[::-1]"
   ]
  },
  {
   "cell_type": "code",
   "execution_count": 156,
   "metadata": {},
   "outputs": [
    {
     "data": {
      "text/plain": [
       "array([0.855, 0.752, 0.689, 0.584, 0.444])"
      ]
     },
     "execution_count": 156,
     "metadata": {},
     "output_type": "execute_result"
    }
   ],
   "source": [
    "KRand2 = np.array([[ 0.226+0.27j ,  0.142-0.411j, -0.205-0.386j,  0.146-0.415j,  0.252-0.283j],\n",
    "                   [-0.383-0.102j,  0.123-0.095j,  0.316-0.183j, -0.422-0.19j ,  0.041+0.079j],\n",
    "                   [-0.141-0.071j, -0.391+0.113j,  0.065-0.305j,  0.028+0.169j,  0.168+0.385j],\n",
    "                   [ 0.094-0.225j,  0.21 -0.059j, -0.108+0.427j, -0.139-0.241j,  0.22 +0.272j],\n",
    "                   [ 0.464-0.107j,  0.446+0.202j, -0.259-0.406j,  0.236-0.308j, -0.005-0.28j ]])\n",
    "np.sort(abs(np.linalg.eigvals(KRand2)))[::-1]"
   ]
  },
  {
   "cell_type": "code",
   "execution_count": 267,
   "metadata": {},
   "outputs": [],
   "source": [
    "K = KMidRange\n",
    "expName = 'trial1_'"
   ]
  },
  {
   "cell_type": "code",
   "execution_count": 268,
   "metadata": {},
   "outputs": [
    {
     "name": "stdout",
     "output_type": "stream",
     "text": [
      "[[-0.05 +0.15j  -0.05 +0.15j  -0.051+0.15j  -0.051+0.15j  -0.051+0.15j ]\n",
      " [-0.05 +0.15j  -0.049+0.15j  -0.05 +0.15j  -0.05 +0.15j  -0.051+0.149j]\n",
      " [-0.05 +0.15j  -0.05 +0.15j  -0.05 +0.15j  -0.049+0.151j -0.05 +0.15j ]\n",
      " [-0.05 +0.15j  -0.049+0.15j  -0.049+0.15j  -0.05 +0.15j  -0.051+0.15j ]\n",
      " [-0.051+0.15j  -0.051+0.15j  -0.05 +0.15j  -0.051+0.15j  -0.05 +0.15j ]]\n"
     ]
    }
   ],
   "source": [
    "KHWExp = calcNewMatrixSettings(K, multBank, 5)\n",
    "print(KHWExp)"
   ]
  },
  {
   "cell_type": "code",
   "execution_count": 182,
   "metadata": {},
   "outputs": [],
   "source": [
    "np.save(expName+\"goalK\",K)\n",
    "np.save(expName+\"KHWExp\", KHWExp)"
   ]
  },
  {
   "cell_type": "code",
   "execution_count": 273,
   "metadata": {},
   "outputs": [],
   "source": [
    "setExpMultBank(exp, multBank)\n",
    "m, std = exp.measureSMatrix(delay=2)"
   ]
  },
  {
   "cell_type": "code",
   "execution_count": 274,
   "metadata": {},
   "outputs": [
    {
     "data": {
      "text/html": [
       "\n",
       "\n",
       "\n",
       "\n",
       "\n",
       "\n",
       "  <div class=\"bk-root\" id=\"88598014-fef9-44c3-8705-a94070ea1531\" data-root-id=\"9060\"></div>\n"
      ]
     },
     "metadata": {},
     "output_type": "display_data"
    },
    {
     "data": {
      "application/javascript": [
       "(function(root) {\n",
       "  function embed_document(root) {\n",
       "    \n",
       "  var docs_json = {\"69a3fbd6-507e-4767-abe1-346685ceb3cb\":{\"roots\":{\"references\":[{\"attributes\":{\"background_fill_color\":\"#20262B\",\"below\":[{\"id\":\"9069\"}],\"border_fill_color\":\"#15191C\",\"center\":[{\"id\":\"9072\"},{\"id\":\"9076\"}],\"left\":[{\"id\":\"9073\"}],\"outline_line_alpha\":0.25,\"outline_line_color\":\"#E0E0E0\",\"renderers\":[{\"id\":\"9094\"}],\"title\":{\"id\":\"9366\"},\"toolbar\":{\"id\":\"9084\"},\"x_range\":{\"id\":\"9061\"},\"x_scale\":{\"id\":\"9065\"},\"y_range\":{\"id\":\"9063\"},\"y_scale\":{\"id\":\"9067\"}},\"id\":\"9060\",\"subtype\":\"Figure\",\"type\":\"Plot\"},{\"attributes\":{\"axis_label_standoff\":10,\"axis_label_text_color\":\"#E0E0E0\",\"axis_label_text_font\":\"Helvetica\",\"axis_label_text_font_size\":\"1.25em\",\"axis_label_text_font_style\":\"normal\",\"axis_line_alpha\":0,\"axis_line_color\":\"#E0E0E0\",\"formatter\":{\"id\":\"9368\"},\"major_label_text_color\":\"#E0E0E0\",\"major_label_text_font\":\"Helvetica\",\"major_label_text_font_size\":\"1.025em\",\"major_tick_line_alpha\":0,\"major_tick_line_color\":\"#E0E0E0\",\"minor_tick_line_alpha\":0,\"minor_tick_line_color\":\"#E0E0E0\",\"ticker\":{\"id\":\"9070\"}},\"id\":\"9069\",\"type\":\"LinearAxis\"},{\"attributes\":{},\"id\":\"9078\",\"type\":\"WheelZoomTool\"},{\"attributes\":{\"active_drag\":\"auto\",\"active_inspect\":\"auto\",\"active_multi\":null,\"active_scroll\":\"auto\",\"active_tap\":\"auto\",\"tools\":[{\"id\":\"9077\"},{\"id\":\"9078\"},{\"id\":\"9079\"},{\"id\":\"9080\"},{\"id\":\"9081\"},{\"id\":\"9082\"}]},\"id\":\"9084\",\"type\":\"Toolbar\"},{\"attributes\":{},\"id\":\"9063\",\"type\":\"DataRange1d\"},{\"attributes\":{},\"id\":\"9070\",\"type\":\"BasicTicker\"},{\"attributes\":{\"source\":{\"id\":\"9091\"}},\"id\":\"9095\",\"type\":\"CDSView\"},{\"attributes\":{\"overlay\":{\"id\":\"9083\"}},\"id\":\"9079\",\"type\":\"BoxZoomTool\"},{\"attributes\":{\"data_source\":{\"id\":\"9091\"},\"glyph\":{\"id\":\"9092\"},\"hover_glyph\":null,\"muted_glyph\":null,\"nonselection_glyph\":{\"id\":\"9093\"},\"selection_glyph\":null,\"view\":{\"id\":\"9095\"}},\"id\":\"9094\",\"type\":\"GlyphRenderer\"},{\"attributes\":{},\"id\":\"9081\",\"type\":\"ResetTool\"},{\"attributes\":{\"data\":{\"image\":[{\"__ndarray__\":\"//4A/wsYAP8NHQD/Dh4A/w8hAP8SKQD/7vMA/xAkAP8RJwD/ESYA/w8iAP8PIQD//PoA/w8fAP8RJQD/DyEA/w0eAP8PIAD/+fwA/w8gAP8BAgD/AwcA/wULAP8DBgD/AwcA/w==\",\"dtype\":\"uint32\",\"order\":\"little\",\"shape\":[5,5]}]},\"selected\":{\"id\":\"9373\"},\"selection_policy\":{\"id\":\"9372\"}},\"id\":\"9091\",\"type\":\"ColumnDataSource\"},{\"attributes\":{\"bottom_units\":\"screen\",\"fill_alpha\":0.5,\"fill_color\":\"lightgrey\",\"left_units\":\"screen\",\"level\":\"overlay\",\"line_alpha\":1.0,\"line_color\":\"black\",\"line_dash\":[4,4],\"line_width\":2,\"right_units\":\"screen\",\"top_units\":\"screen\"},\"id\":\"9083\",\"type\":\"BoxAnnotation\"},{\"attributes\":{},\"id\":\"9372\",\"type\":\"UnionRenderers\"},{\"attributes\":{},\"id\":\"9065\",\"type\":\"LinearScale\"},{\"attributes\":{},\"id\":\"9082\",\"type\":\"HelpTool\"},{\"attributes\":{},\"id\":\"9370\",\"type\":\"BasicTickFormatter\"},{\"attributes\":{},\"id\":\"9067\",\"type\":\"LinearScale\"},{\"attributes\":{\"text\":\"\",\"text_color\":{\"value\":\"#E0E0E0\"},\"text_font\":\"Helvetica\",\"text_font_size\":{\"value\":\"1.15em\"}},\"id\":\"9366\",\"type\":\"Title\"},{\"attributes\":{\"dh\":{\"units\":\"data\",\"value\":5},\"dw\":{\"units\":\"data\",\"value\":5},\"global_alpha\":0.1,\"image\":{\"field\":\"image\"},\"x\":{\"value\":0},\"y\":{\"value\":0}},\"id\":\"9093\",\"type\":\"ImageRGBA\"},{\"attributes\":{},\"id\":\"9074\",\"type\":\"BasicTicker\"},{\"attributes\":{\"axis\":{\"id\":\"9073\"},\"dimension\":1,\"grid_line_alpha\":0.25,\"grid_line_color\":\"#E0E0E0\",\"ticker\":null},\"id\":\"9076\",\"type\":\"Grid\"},{\"attributes\":{\"axis\":{\"id\":\"9069\"},\"grid_line_alpha\":0.25,\"grid_line_color\":\"#E0E0E0\",\"ticker\":null},\"id\":\"9072\",\"type\":\"Grid\"},{\"attributes\":{},\"id\":\"9368\",\"type\":\"BasicTickFormatter\"},{\"attributes\":{\"dh\":{\"units\":\"data\",\"value\":5},\"dw\":{\"units\":\"data\",\"value\":5},\"image\":{\"field\":\"image\"},\"x\":{\"value\":0},\"y\":{\"value\":0}},\"id\":\"9092\",\"type\":\"ImageRGBA\"},{\"attributes\":{},\"id\":\"9077\",\"type\":\"PanTool\"},{\"attributes\":{},\"id\":\"9373\",\"type\":\"Selection\"},{\"attributes\":{},\"id\":\"9080\",\"type\":\"SaveTool\"},{\"attributes\":{},\"id\":\"9061\",\"type\":\"DataRange1d\"},{\"attributes\":{\"axis_label_standoff\":10,\"axis_label_text_color\":\"#E0E0E0\",\"axis_label_text_font\":\"Helvetica\",\"axis_label_text_font_size\":\"1.25em\",\"axis_label_text_font_style\":\"normal\",\"axis_line_alpha\":0,\"axis_line_color\":\"#E0E0E0\",\"formatter\":{\"id\":\"9370\"},\"major_label_text_color\":\"#E0E0E0\",\"major_label_text_font\":\"Helvetica\",\"major_label_text_font_size\":\"1.025em\",\"major_tick_line_alpha\":0,\"major_tick_line_color\":\"#E0E0E0\",\"minor_tick_line_alpha\":0,\"minor_tick_line_color\":\"#E0E0E0\",\"ticker\":{\"id\":\"9074\"}},\"id\":\"9073\",\"type\":\"LinearAxis\"}],\"root_ids\":[\"9060\"]},\"title\":\"Bokeh Application\",\"version\":\"2.1.1\"}};\n",
       "  var render_items = [{\"docid\":\"69a3fbd6-507e-4767-abe1-346685ceb3cb\",\"root_ids\":[\"9060\"],\"roots\":{\"9060\":\"88598014-fef9-44c3-8705-a94070ea1531\"}}];\n",
       "  root.Bokeh.embed.embed_items_notebook(docs_json, render_items);\n",
       "\n",
       "  }\n",
       "  if (root.Bokeh !== undefined) {\n",
       "    embed_document(root);\n",
       "  } else {\n",
       "    var attempts = 0;\n",
       "    var timer = setInterval(function(root) {\n",
       "      if (root.Bokeh !== undefined) {\n",
       "        clearInterval(timer);\n",
       "        embed_document(root);\n",
       "      } else {\n",
       "        attempts++;\n",
       "        if (attempts > 100) {\n",
       "          clearInterval(timer);\n",
       "          console.log(\"Bokeh: ERROR: Unable to run BokehJS code because BokehJS library is missing\");\n",
       "        }\n",
       "      }\n",
       "    }, 10, root)\n",
       "  }\n",
       "})(window);"
      ],
      "application/vnd.bokehjs_exec.v0+json": ""
     },
     "metadata": {
      "application/vnd.bokehjs_exec.v0+json": {
       "id": "9060"
      }
     },
     "output_type": "display_data"
    }
   ],
   "source": [
    "plotComplexArray(m, maxRad=np.max(np.abs(m)))"
   ]
  },
  {
   "cell_type": "code",
   "execution_count": 184,
   "metadata": {},
   "outputs": [],
   "source": [
    "# np.save(expName+\"measK\", m)\n",
    "np.save(expName+\"measKInv\", m)"
   ]
  },
  {
   "cell_type": "code",
   "execution_count": 278,
   "metadata": {},
   "outputs": [],
   "source": [
    "spr = np.array([5*[0]]).T"
   ]
  },
  {
   "cell_type": "code",
   "execution_count": 279,
   "metadata": {},
   "outputs": [
    {
     "data": {
      "text/html": [
       "\n",
       "\n",
       "\n",
       "\n",
       "\n",
       "\n",
       "  <div class=\"bk-root\" id=\"369145da-4c9c-429c-a10a-b0f10f4ae93f\" data-root-id=\"9460\"></div>\n"
      ]
     },
     "metadata": {},
     "output_type": "display_data"
    },
    {
     "data": {
      "application/javascript": [
       "(function(root) {\n",
       "  function embed_document(root) {\n",
       "    \n",
       "  var docs_json = {\"abe63ff6-52af-4bb5-8f31-93c529cea1e9\":{\"roots\":{\"references\":[{\"attributes\":{\"background_fill_color\":\"#20262B\",\"below\":[{\"id\":\"9469\"}],\"border_fill_color\":\"#15191C\",\"center\":[{\"id\":\"9472\"},{\"id\":\"9476\"}],\"left\":[{\"id\":\"9473\"}],\"outline_line_alpha\":0.25,\"outline_line_color\":\"#E0E0E0\",\"renderers\":[{\"id\":\"9494\"}],\"title\":{\"id\":\"9775\"},\"toolbar\":{\"id\":\"9484\"},\"x_range\":{\"id\":\"9461\"},\"x_scale\":{\"id\":\"9465\"},\"y_range\":{\"id\":\"9463\"},\"y_scale\":{\"id\":\"9467\"}},\"id\":\"9460\",\"subtype\":\"Figure\",\"type\":\"Plot\"},{\"attributes\":{},\"id\":\"9465\",\"type\":\"LinearScale\"},{\"attributes\":{\"bottom_units\":\"screen\",\"fill_alpha\":0.5,\"fill_color\":\"lightgrey\",\"left_units\":\"screen\",\"level\":\"overlay\",\"line_alpha\":1.0,\"line_color\":\"black\",\"line_dash\":[4,4],\"line_width\":2,\"right_units\":\"screen\",\"top_units\":\"screen\"},\"id\":\"9483\",\"type\":\"BoxAnnotation\"},{\"attributes\":{},\"id\":\"9477\",\"type\":\"PanTool\"},{\"attributes\":{},\"id\":\"9470\",\"type\":\"BasicTicker\"},{\"attributes\":{\"dh\":{\"units\":\"data\",\"value\":5},\"dw\":{\"units\":\"data\",\"value\":17},\"global_alpha\":0.1,\"image\":{\"field\":\"image\"},\"x\":{\"value\":0},\"y\":{\"value\":0}},\"id\":\"9493\",\"type\":\"ImageRGBA\"},{\"attributes\":{\"data_source\":{\"id\":\"9491\"},\"glyph\":{\"id\":\"9492\"},\"hover_glyph\":null,\"muted_glyph\":null,\"nonselection_glyph\":{\"id\":\"9493\"},\"selection_glyph\":null,\"view\":{\"id\":\"9495\"}},\"id\":\"9494\",\"type\":\"GlyphRenderer\"},{\"attributes\":{\"axis\":{\"id\":\"9469\"},\"grid_line_alpha\":0.25,\"grid_line_color\":\"#E0E0E0\",\"ticker\":null},\"id\":\"9472\",\"type\":\"Grid\"},{\"attributes\":{\"source\":{\"id\":\"9491\"}},\"id\":\"9495\",\"type\":\"CDSView\"},{\"attributes\":{},\"id\":\"9478\",\"type\":\"WheelZoomTool\"},{\"attributes\":{},\"id\":\"9480\",\"type\":\"SaveTool\"},{\"attributes\":{\"dh\":{\"units\":\"data\",\"value\":5},\"dw\":{\"units\":\"data\",\"value\":17},\"image\":{\"field\":\"image\"},\"x\":{\"value\":0},\"y\":{\"value\":0}},\"id\":\"9492\",\"type\":\"ImageRGBA\"},{\"attributes\":{},\"id\":\"9481\",\"type\":\"ResetTool\"},{\"attributes\":{},\"id\":\"9482\",\"type\":\"HelpTool\"},{\"attributes\":{\"axis\":{\"id\":\"9473\"},\"dimension\":1,\"grid_line_alpha\":0.25,\"grid_line_color\":\"#E0E0E0\",\"ticker\":null},\"id\":\"9476\",\"type\":\"Grid\"},{\"attributes\":{},\"id\":\"9777\",\"type\":\"BasicTickFormatter\"},{\"attributes\":{},\"id\":\"9781\",\"type\":\"UnionRenderers\"},{\"attributes\":{\"axis_label_standoff\":10,\"axis_label_text_color\":\"#E0E0E0\",\"axis_label_text_font\":\"Helvetica\",\"axis_label_text_font_size\":\"1.25em\",\"axis_label_text_font_style\":\"normal\",\"axis_line_alpha\":0,\"axis_line_color\":\"#E0E0E0\",\"formatter\":{\"id\":\"9779\"},\"major_label_text_color\":\"#E0E0E0\",\"major_label_text_font\":\"Helvetica\",\"major_label_text_font_size\":\"1.025em\",\"major_tick_line_alpha\":0,\"major_tick_line_color\":\"#E0E0E0\",\"minor_tick_line_alpha\":0,\"minor_tick_line_color\":\"#E0E0E0\",\"ticker\":{\"id\":\"9474\"}},\"id\":\"9473\",\"type\":\"LinearAxis\"},{\"attributes\":{\"text\":\"\",\"text_color\":{\"value\":\"#E0E0E0\"},\"text_font\":\"Helvetica\",\"text_font_size\":{\"value\":\"1.15em\"}},\"id\":\"9775\",\"type\":\"Title\"},{\"attributes\":{},\"id\":\"9467\",\"type\":\"LinearScale\"},{\"attributes\":{},\"id\":\"9463\",\"type\":\"DataRange1d\"},{\"attributes\":{},\"id\":\"9782\",\"type\":\"Selection\"},{\"attributes\":{},\"id\":\"9461\",\"type\":\"DataRange1d\"},{\"attributes\":{},\"id\":\"9779\",\"type\":\"BasicTickFormatter\"},{\"attributes\":{\"data\":{\"image\":[{\"__ndarray__\":\"Mf8A/zH/AP8x/wD/Mf8A/zH/AP8AAAD/Mf8A/zH/AP8w/wD/MP8A/zD/AP8AAAD/AQEA/wAAAP8AAAD/AAAA/wAAAP8x/wD/Mf8A/zH/AP8x/wD/Mf8A/wAAAP8y/wD/M/8A/zH/AP8y/wD/MP8A/wAAAP8AAAD/AQEA/wAAAP8AAAD/AAAA/zH/AP8x/wD/Mf8A/zH/AP8x/wD/AAAA/zH/AP8x/wD/Mf8A/zL/AP8y/wD/AAAA/wAAAP8AAAD/AQEA/wAAAP8AAAD/Mf8A/zH/AP8x/wD/Mf8A/zH/AP8AAAD/Mv8A/zL/AP8z/wD/Mf8A/zD/AP8AAAD/AAAA/wAAAP8AAAD/AQEA/wAAAP8x/wD/Mf8A/zH/AP8x/wD/Mf8A/wAAAP8w/wD/MP8A/zH/AP8w/wD/Mv8A/wAAAP8AAAD/AAAA/wAAAP8AAAD/AAAA/w==\",\"dtype\":\"uint32\",\"order\":\"little\",\"shape\":[5,17]}]},\"selected\":{\"id\":\"9782\"},\"selection_policy\":{\"id\":\"9781\"}},\"id\":\"9491\",\"type\":\"ColumnDataSource\"},{\"attributes\":{\"active_drag\":\"auto\",\"active_inspect\":\"auto\",\"active_multi\":null,\"active_scroll\":\"auto\",\"active_tap\":\"auto\",\"tools\":[{\"id\":\"9477\"},{\"id\":\"9478\"},{\"id\":\"9479\"},{\"id\":\"9480\"},{\"id\":\"9481\"},{\"id\":\"9482\"}]},\"id\":\"9484\",\"type\":\"Toolbar\"},{\"attributes\":{\"axis_label_standoff\":10,\"axis_label_text_color\":\"#E0E0E0\",\"axis_label_text_font\":\"Helvetica\",\"axis_label_text_font_size\":\"1.25em\",\"axis_label_text_font_style\":\"normal\",\"axis_line_alpha\":0,\"axis_line_color\":\"#E0E0E0\",\"formatter\":{\"id\":\"9777\"},\"major_label_text_color\":\"#E0E0E0\",\"major_label_text_font\":\"Helvetica\",\"major_label_text_font_size\":\"1.025em\",\"major_tick_line_alpha\":0,\"major_tick_line_color\":\"#E0E0E0\",\"minor_tick_line_alpha\":0,\"minor_tick_line_color\":\"#E0E0E0\",\"ticker\":{\"id\":\"9470\"}},\"id\":\"9469\",\"type\":\"LinearAxis\"},{\"attributes\":{\"overlay\":{\"id\":\"9483\"}},\"id\":\"9479\",\"type\":\"BoxZoomTool\"},{\"attributes\":{},\"id\":\"9474\",\"type\":\"BasicTicker\"}],\"root_ids\":[\"9460\"]},\"title\":\"Bokeh Application\",\"version\":\"2.1.1\"}};\n",
       "  var render_items = [{\"docid\":\"abe63ff6-52af-4bb5-8f31-93c529cea1e9\",\"root_ids\":[\"9460\"],\"roots\":{\"9460\":\"369145da-4c9c-429c-a10a-b0f10f4ae93f\"}}];\n",
       "  root.Bokeh.embed.embed_items_notebook(docs_json, render_items);\n",
       "\n",
       "  }\n",
       "  if (root.Bokeh !== undefined) {\n",
       "    embed_document(root);\n",
       "  } else {\n",
       "    var attempts = 0;\n",
       "    var timer = setInterval(function(root) {\n",
       "      if (root.Bokeh !== undefined) {\n",
       "        clearInterval(timer);\n",
       "        embed_document(root);\n",
       "      } else {\n",
       "        attempts++;\n",
       "        if (attempts > 100) {\n",
       "          clearInterval(timer);\n",
       "          console.log(\"Bokeh: ERROR: Unable to run BokehJS code because BokehJS library is missing\");\n",
       "        }\n",
       "      }\n",
       "    }, 10, root)\n",
       "  }\n",
       "})(window);"
      ],
      "application/vnd.bokehjs_exec.v0+json": ""
     },
     "metadata": {
      "application/vnd.bokehjs_exec.v0+json": {
       "id": "9460"
      }
     },
     "output_type": "display_data"
    }
   ],
   "source": [
    "plotData = np.hstack((K, spr, KHWExp, spr, m))\n",
    "plotComplexArray(plotData, maxRad=0.1)"
   ]
  },
  {
   "cell_type": "markdown",
   "metadata": {},
   "source": [
    "## Post Processing"
   ]
  },
  {
   "cell_type": "code",
   "execution_count": 329,
   "metadata": {},
   "outputs": [],
   "source": [
    "expName = 'trial3_'"
   ]
  },
  {
   "cell_type": "code",
   "execution_count": 330,
   "metadata": {},
   "outputs": [],
   "source": [
    "K_goal = np.load(expName+'goalK.npy')\n",
    "K_HWExp = np.load(expName+'KHWExp.npy')\n",
    "K_meas = np.load(expName+'measK.npy')\n",
    "K_measInv = np.load(expName+'measKInv.npy')"
   ]
  },
  {
   "cell_type": "code",
   "execution_count": 331,
   "metadata": {},
   "outputs": [
    {
     "name": "stdout",
     "output_type": "stream",
     "text": [
      "0.48961209135396155\n"
     ]
    },
    {
     "data": {
      "text/html": [
       "\n",
       "\n",
       "\n",
       "\n",
       "\n",
       "\n",
       "  <div class=\"bk-root\" id=\"b0974df5-9e70-495c-89ed-f3d33bf35c56\" data-root-id=\"29019\"></div>\n"
      ]
     },
     "metadata": {},
     "output_type": "display_data"
    },
    {
     "data": {
      "application/javascript": [
       "(function(root) {\n",
       "  function embed_document(root) {\n",
       "    \n",
       "  var docs_json = {\"77af6365-f930-4e0d-a22b-1f0d9603f200\":{\"roots\":{\"references\":[{\"attributes\":{\"background_fill_color\":\"#20262B\",\"below\":[{\"id\":\"29028\"}],\"border_fill_color\":\"#15191C\",\"center\":[{\"id\":\"29031\"},{\"id\":\"29035\"}],\"left\":[{\"id\":\"29032\"}],\"outline_line_alpha\":0.25,\"outline_line_color\":\"#E0E0E0\",\"renderers\":[{\"id\":\"29053\"}],\"title\":{\"id\":\"29628\"},\"toolbar\":{\"id\":\"29043\"},\"x_range\":{\"id\":\"29020\"},\"x_scale\":{\"id\":\"29024\"},\"y_range\":{\"id\":\"29022\"},\"y_scale\":{\"id\":\"29026\"}},\"id\":\"29019\",\"subtype\":\"Figure\",\"type\":\"Plot\"},{\"attributes\":{\"dh\":{\"units\":\"data\",\"value\":5},\"dw\":{\"units\":\"data\",\"value\":17},\"image\":{\"field\":\"image\"},\"x\":{\"value\":0},\"y\":{\"value\":0}},\"id\":\"29051\",\"type\":\"ImageRGBA\"},{\"attributes\":{},\"id\":\"29020\",\"type\":\"DataRange1d\"},{\"attributes\":{},\"id\":\"29635\",\"type\":\"Selection\"},{\"attributes\":{},\"id\":\"29634\",\"type\":\"UnionRenderers\"},{\"attributes\":{\"data_source\":{\"id\":\"29050\"},\"glyph\":{\"id\":\"29051\"},\"hover_glyph\":null,\"muted_glyph\":null,\"nonselection_glyph\":{\"id\":\"29052\"},\"selection_glyph\":null,\"view\":{\"id\":\"29054\"}},\"id\":\"29053\",\"type\":\"GlyphRenderer\"},{\"attributes\":{},\"id\":\"29630\",\"type\":\"BasicTickFormatter\"},{\"attributes\":{},\"id\":\"29037\",\"type\":\"WheelZoomTool\"},{\"attributes\":{\"axis_label_standoff\":10,\"axis_label_text_color\":\"#E0E0E0\",\"axis_label_text_font\":\"Helvetica\",\"axis_label_text_font_size\":\"1.25em\",\"axis_label_text_font_style\":\"normal\",\"axis_line_alpha\":0,\"axis_line_color\":\"#E0E0E0\",\"formatter\":{\"id\":\"29630\"},\"major_label_text_color\":\"#E0E0E0\",\"major_label_text_font\":\"Helvetica\",\"major_label_text_font_size\":\"1.025em\",\"major_tick_line_alpha\":0,\"major_tick_line_color\":\"#E0E0E0\",\"minor_tick_line_alpha\":0,\"minor_tick_line_color\":\"#E0E0E0\",\"ticker\":{\"id\":\"29029\"}},\"id\":\"29028\",\"type\":\"LinearAxis\"},{\"attributes\":{},\"id\":\"29033\",\"type\":\"BasicTicker\"},{\"attributes\":{\"bottom_units\":\"screen\",\"fill_alpha\":0.5,\"fill_color\":\"lightgrey\",\"left_units\":\"screen\",\"level\":\"overlay\",\"line_alpha\":1.0,\"line_color\":\"black\",\"line_dash\":[4,4],\"line_width\":2,\"right_units\":\"screen\",\"top_units\":\"screen\"},\"id\":\"29042\",\"type\":\"BoxAnnotation\"},{\"attributes\":{\"overlay\":{\"id\":\"29042\"}},\"id\":\"29038\",\"type\":\"BoxZoomTool\"},{\"attributes\":{\"active_drag\":\"auto\",\"active_inspect\":\"auto\",\"active_multi\":null,\"active_scroll\":\"auto\",\"active_tap\":\"auto\",\"tools\":[{\"id\":\"29036\"},{\"id\":\"29037\"},{\"id\":\"29038\"},{\"id\":\"29039\"},{\"id\":\"29040\"},{\"id\":\"29041\"}]},\"id\":\"29043\",\"type\":\"Toolbar\"},{\"attributes\":{\"data\":{\"image\":[{\"__ndarray__\":\"uJkA/7oA4/8HAOT/vQDm/8YAn/8AAAD/uJkA/7kA4/8HAOT/vgDm/8UAn/8AAAD/uJUA/7EA4v8CAN7/sQDf/8MApv8AnM//UQAy/74AX/8AkPH/LC4A/wAAAP8AnM//UQAy/78AYP8AkPH/Ky4A/wAAAP8An8n/VAA1/8AAZ/8Anu3/Ly4A/wAuUv8A1Jv/cgCj/zpZAP/D2wD/AAAA/wAtUv8A1Jn/cgCj/zpZAP/D2wD/AAAA/wAvUf8A0Y3/bgCk/0NZAP/J1QD/cAB//3IAHf885gD/AACR/7abAP8AAAD/bwB//3EAHP875gD/AACR/7abAP8AAAD/bAB+/28AHv9H3AD/AAiR/7eUAP/4ADX//2gA/wAK+//KALH/RgCS/wAAAP/5ADb//2kA/wAK+//KALH/RQCS/wAAAP/0ADr//GQA/wAV8v/JALv/QgCR/w==\",\"dtype\":\"uint32\",\"order\":\"little\",\"shape\":[5,17]}]},\"selected\":{\"id\":\"29635\"},\"selection_policy\":{\"id\":\"29634\"}},\"id\":\"29050\",\"type\":\"ColumnDataSource\"},{\"attributes\":{},\"id\":\"29040\",\"type\":\"ResetTool\"},{\"attributes\":{},\"id\":\"29632\",\"type\":\"BasicTickFormatter\"},{\"attributes\":{},\"id\":\"29041\",\"type\":\"HelpTool\"},{\"attributes\":{},\"id\":\"29024\",\"type\":\"LinearScale\"},{\"attributes\":{},\"id\":\"29022\",\"type\":\"DataRange1d\"},{\"attributes\":{\"axis\":{\"id\":\"29028\"},\"grid_line_alpha\":0.25,\"grid_line_color\":\"#E0E0E0\",\"ticker\":null},\"id\":\"29031\",\"type\":\"Grid\"},{\"attributes\":{\"source\":{\"id\":\"29050\"}},\"id\":\"29054\",\"type\":\"CDSView\"},{\"attributes\":{\"text\":\"\",\"text_color\":{\"value\":\"#E0E0E0\"},\"text_font\":\"Helvetica\",\"text_font_size\":{\"value\":\"1.15em\"}},\"id\":\"29628\",\"type\":\"Title\"},{\"attributes\":{},\"id\":\"29029\",\"type\":\"BasicTicker\"},{\"attributes\":{},\"id\":\"29036\",\"type\":\"PanTool\"},{\"attributes\":{},\"id\":\"29039\",\"type\":\"SaveTool\"},{\"attributes\":{},\"id\":\"29026\",\"type\":\"LinearScale\"},{\"attributes\":{\"axis_label_standoff\":10,\"axis_label_text_color\":\"#E0E0E0\",\"axis_label_text_font\":\"Helvetica\",\"axis_label_text_font_size\":\"1.25em\",\"axis_label_text_font_style\":\"normal\",\"axis_line_alpha\":0,\"axis_line_color\":\"#E0E0E0\",\"formatter\":{\"id\":\"29632\"},\"major_label_text_color\":\"#E0E0E0\",\"major_label_text_font\":\"Helvetica\",\"major_label_text_font_size\":\"1.025em\",\"major_tick_line_alpha\":0,\"major_tick_line_color\":\"#E0E0E0\",\"minor_tick_line_alpha\":0,\"minor_tick_line_color\":\"#E0E0E0\",\"ticker\":{\"id\":\"29033\"}},\"id\":\"29032\",\"type\":\"LinearAxis\"},{\"attributes\":{\"axis\":{\"id\":\"29032\"},\"dimension\":1,\"grid_line_alpha\":0.25,\"grid_line_color\":\"#E0E0E0\",\"ticker\":null},\"id\":\"29035\",\"type\":\"Grid\"},{\"attributes\":{\"dh\":{\"units\":\"data\",\"value\":5},\"dw\":{\"units\":\"data\",\"value\":17},\"global_alpha\":0.1,\"image\":{\"field\":\"image\"},\"x\":{\"value\":0},\"y\":{\"value\":0}},\"id\":\"29052\",\"type\":\"ImageRGBA\"}],\"root_ids\":[\"29019\"]},\"title\":\"Bokeh Application\",\"version\":\"2.1.1\"}};\n",
       "  var render_items = [{\"docid\":\"77af6365-f930-4e0d-a22b-1f0d9603f200\",\"root_ids\":[\"29019\"],\"roots\":{\"29019\":\"b0974df5-9e70-495c-89ed-f3d33bf35c56\"}}];\n",
       "  root.Bokeh.embed.embed_items_notebook(docs_json, render_items);\n",
       "\n",
       "  }\n",
       "  if (root.Bokeh !== undefined) {\n",
       "    embed_document(root);\n",
       "  } else {\n",
       "    var attempts = 0;\n",
       "    var timer = setInterval(function(root) {\n",
       "      if (root.Bokeh !== undefined) {\n",
       "        clearInterval(timer);\n",
       "        embed_document(root);\n",
       "      } else {\n",
       "        attempts++;\n",
       "        if (attempts > 100) {\n",
       "          clearInterval(timer);\n",
       "          console.log(\"Bokeh: ERROR: Unable to run BokehJS code because BokehJS library is missing\");\n",
       "        }\n",
       "      }\n",
       "    }, 10, root)\n",
       "  }\n",
       "})(window);"
      ],
      "application/vnd.bokehjs_exec.v0+json": ""
     },
     "metadata": {
      "application/vnd.bokehjs_exec.v0+json": {
       "id": "29019"
      }
     },
     "output_type": "display_data"
    }
   ],
   "source": [
    "plotData = np.hstack((K_goal, spr, K_HWExp, spr, K_meas))\n",
    "maxVal = np.max(np.abs(plotData))\n",
    "print(maxVal)\n",
    "plotComplexArray(plotData, maxRad=maxVal)"
   ]
  },
  {
   "cell_type": "code",
   "execution_count": 332,
   "metadata": {},
   "outputs": [
    {
     "data": {
      "text/html": [
       "\n",
       "\n",
       "\n",
       "\n",
       "\n",
       "\n",
       "  <div class=\"bk-root\" id=\"35eeb36f-ea5e-463d-b5f6-b01ae124dd6e\" data-root-id=\"29691\"></div>\n"
      ]
     },
     "metadata": {},
     "output_type": "display_data"
    },
    {
     "data": {
      "application/javascript": [
       "(function(root) {\n",
       "  function embed_document(root) {\n",
       "    \n",
       "  var docs_json = {\"3a3b8508-7ea2-4a18-932e-64740bc32104\":{\"roots\":{\"references\":[{\"attributes\":{\"background_fill_color\":\"#20262B\",\"below\":[{\"id\":\"29702\"}],\"border_fill_color\":\"#15191C\",\"center\":[{\"id\":\"29705\"},{\"id\":\"29709\"}],\"left\":[{\"id\":\"29706\"}],\"outline_line_alpha\":0.25,\"outline_line_color\":\"#E0E0E0\",\"plot_height\":400,\"plot_width\":400,\"renderers\":[{\"id\":\"29731\"},{\"id\":\"29736\"},{\"id\":\"29741\"},{\"id\":\"29745\"},{\"id\":\"29750\"},{\"id\":\"29754\"},{\"id\":\"29758\"}],\"title\":{\"id\":\"29692\"},\"toolbar\":{\"id\":\"29717\"},\"x_range\":{\"id\":\"29694\"},\"x_scale\":{\"id\":\"29698\"},\"y_range\":{\"id\":\"29696\"},\"y_scale\":{\"id\":\"29700\"}},\"id\":\"29691\",\"subtype\":\"Figure\",\"type\":\"Plot\"},{\"attributes\":{\"ticks\":[-1.0,-0.75,-0.5,-0.25,0.0,0.25,0.5,0.75,1.0,1.25,1.5,1.75]},\"id\":\"29724\",\"type\":\"FixedTicker\"},{\"attributes\":{\"line_color\":\"gray\",\"x\":{\"field\":\"x\"},\"y\":{\"field\":\"y\"}},\"id\":\"29734\",\"type\":\"Line\"},{\"attributes\":{},\"id\":\"29698\",\"type\":\"LinearScale\"},{\"attributes\":{\"data\":{\"x\":[0.23434487767683382,0.12707144094468376,-0.2084066452591256,0.12954333439274845,0.23449560593486884,-0.3762480761613504,0.12726368671649482,0.31050951480956274,-0.4261532457838738,0.048282565636496,-0.1405264410243635,-0.3782384795283347,0.05639283164656973,0.04548360257711869,0.1829764904825675,0.0885890887329746,0.2031930062473123,-0.07689503943555495,-0.1534025970966847,0.23271459391571642,0.4518891112967426,0.4413728702388532,-0.2682109171708782,0.21649259018862274,-0.011952256633920893],\"y\":[0.2637518524242298,-0.41375767536732033,-0.3706872414362511,-0.40712671705086884,-0.2911589032360693,-0.08491528519010362,-0.10084529544278062,-0.19788934892222576,-0.15454406624609288,0.07689010172002055,-0.06692794436923678,0.13314390640855428,-0.3085738987148388,0.16570025047517115,0.36446776543877446,-0.22514145962006932,-0.062068909198455216,0.4155536845456796,-0.23204826124766334,0.2621838063856246,-0.11692995129080737,0.19501344136243973,-0.37846301987847714,-0.3189960091559406,-0.27838636627988445]},\"selected\":{\"id\":\"30358\"},\"selection_policy\":{\"id\":\"30357\"}},\"id\":\"29756\",\"type\":\"ColumnDataSource\"},{\"attributes\":{},\"id\":\"29700\",\"type\":\"LinearScale\"},{\"attributes\":{\"source\":{\"id\":\"29743\"}},\"id\":\"29746\",\"type\":\"CDSView\"},{\"attributes\":{\"source\":{\"id\":\"29752\"}},\"id\":\"29755\",\"type\":\"CDSView\"},{\"attributes\":{},\"id\":\"30343\",\"type\":\"BasicTickFormatter\"},{\"attributes\":{\"text\":\"Big Kappa\",\"text_color\":{\"value\":\"#E0E0E0\"},\"text_font\":\"Helvetica\",\"text_font_size\":{\"value\":\"1.15em\"}},\"id\":\"29692\",\"type\":\"Title\"},{\"attributes\":{},\"id\":\"29711\",\"type\":\"WheelZoomTool\"},{\"attributes\":{},\"id\":\"30351\",\"type\":\"UnionRenderers\"},{\"attributes\":{\"data_source\":{\"id\":\"29747\"},\"glyph\":{\"id\":\"29748\"},\"hover_glyph\":null,\"muted_glyph\":null,\"nonselection_glyph\":{\"id\":\"29749\"},\"selection_glyph\":null,\"view\":{\"id\":\"29751\"}},\"id\":\"29750\",\"type\":\"GlyphRenderer\"},{\"attributes\":{},\"id\":\"30353\",\"type\":\"UnionRenderers\"},{\"attributes\":{\"bottom_units\":\"screen\",\"fill_alpha\":0.5,\"fill_color\":\"lightgrey\",\"left_units\":\"screen\",\"level\":\"overlay\",\"line_alpha\":1.0,\"line_color\":\"black\",\"line_dash\":[4,4],\"line_width\":2,\"right_units\":\"screen\",\"top_units\":\"screen\"},\"id\":\"29716\",\"type\":\"BoxAnnotation\"},{\"attributes\":{\"data_source\":{\"id\":\"29752\"},\"glyph\":{\"id\":\"29753\"},\"hover_glyph\":null,\"muted_glyph\":null,\"view\":{\"id\":\"29755\"}},\"id\":\"29754\",\"type\":\"GlyphRenderer\"},{\"attributes\":{},\"id\":\"30347\",\"type\":\"UnionRenderers\"},{\"attributes\":{},\"id\":\"30349\",\"type\":\"UnionRenderers\"},{\"attributes\":{},\"id\":\"30356\",\"type\":\"Selection\"},{\"attributes\":{\"data_source\":{\"id\":\"29743\"},\"glyph\":{\"id\":\"29744\"},\"hover_glyph\":null,\"muted_glyph\":null,\"view\":{\"id\":\"29746\"}},\"id\":\"29745\",\"type\":\"GlyphRenderer\"},{\"attributes\":{\"axis\":{\"id\":\"29706\"},\"dimension\":1,\"grid_line_alpha\":0.25,\"grid_line_color\":null,\"ticker\":null},\"id\":\"29709\",\"type\":\"Grid\"},{\"attributes\":{\"axis_label_standoff\":10,\"axis_label_text_color\":\"#E0E0E0\",\"axis_label_text_font\":\"Helvetica\",\"axis_label_text_font_size\":\"1.25em\",\"axis_label_text_font_style\":\"normal\",\"axis_line_alpha\":0,\"axis_line_color\":\"#E0E0E0\",\"formatter\":{\"id\":\"30343\"},\"major_label_text_color\":\"#E0E0E0\",\"major_label_text_font\":\"Helvetica\",\"major_label_text_font_size\":\"1.025em\",\"major_tick_line_alpha\":0,\"major_tick_line_color\":\"#E0E0E0\",\"minor_tick_line_alpha\":0,\"minor_tick_line_color\":\"#E0E0E0\",\"ticker\":{\"id\":\"29724\"}},\"id\":\"29702\",\"type\":\"LinearAxis\"},{\"attributes\":{\"source\":{\"id\":\"29738\"}},\"id\":\"29742\",\"type\":\"CDSView\"},{\"attributes\":{},\"id\":\"30352\",\"type\":\"Selection\"},{\"attributes\":{},\"id\":\"30354\",\"type\":\"Selection\"},{\"attributes\":{},\"id\":\"29715\",\"type\":\"HelpTool\"},{\"attributes\":{\"data\":{\"x\":[0.226,0.142,-0.205,0.146,0.252,-0.383,0.123,0.316,-0.422,0.041,-0.141,-0.391,0.065,0.028,0.168,0.094,0.21,-0.108,-0.139,0.22,0.464,0.446,-0.259,0.236,-0.005],\"y\":[0.27,-0.411,-0.386,-0.415,-0.283,-0.102,-0.095,-0.183,-0.19,0.079,-0.071,0.113,-0.305,0.169,0.385,-0.225,-0.059,0.427,-0.241,0.272,-0.107,0.202,-0.406,-0.308,-0.28]},\"selected\":{\"id\":\"30356\"},\"selection_policy\":{\"id\":\"30355\"}},\"id\":\"29752\",\"type\":\"ColumnDataSource\"},{\"attributes\":{},\"id\":\"29714\",\"type\":\"ResetTool\"},{\"attributes\":{\"angle\":{\"units\":\"rad\",\"value\":0.3},\"text_color\":{\"value\":\"gray\"},\"text_font_size\":{\"value\":\"10px\"},\"x\":{\"field\":\"x\"},\"y\":{\"field\":\"y\"}},\"id\":\"29744\",\"type\":\"Text\"},{\"attributes\":{},\"id\":\"30350\",\"type\":\"Selection\"},{\"attributes\":{\"data\":{\"text\":[\"0.25\",\"0.50\",\"0.75\",\"1.00\"],\"x\":[0.25,0.5,0.75,1.0],\"y\":[0,0,0,0]},\"selected\":{\"id\":\"30352\"},\"selection_policy\":{\"id\":\"30351\"}},\"id\":\"29743\",\"type\":\"ColumnDataSource\"},{\"attributes\":{\"overlay\":{\"id\":\"29716\"}},\"id\":\"29712\",\"type\":\"BoxZoomTool\"},{\"attributes\":{\"end\":1.1,\"start\":-1.1},\"id\":\"29694\",\"type\":\"Range1d\"},{\"attributes\":{\"axis\":{\"id\":\"29702\"},\"grid_line_alpha\":0.25,\"grid_line_color\":null,\"ticker\":null},\"id\":\"29705\",\"type\":\"Grid\"},{\"attributes\":{\"end\":1.1,\"start\":-1.1},\"id\":\"29696\",\"type\":\"Range1d\"},{\"attributes\":{\"active_drag\":\"auto\",\"active_inspect\":\"auto\",\"active_multi\":null,\"active_scroll\":\"auto\",\"active_tap\":\"auto\",\"tools\":[{\"id\":\"29710\"},{\"id\":\"29711\"},{\"id\":\"29712\"},{\"id\":\"29713\"},{\"id\":\"29714\"},{\"id\":\"29715\"}]},\"id\":\"29717\",\"type\":\"Toolbar\"},{\"attributes\":{\"source\":{\"id\":\"29728\"}},\"id\":\"29732\",\"type\":\"CDSView\"},{\"attributes\":{\"source\":{\"id\":\"29733\"}},\"id\":\"29737\",\"type\":\"CDSView\"},{\"attributes\":{\"data_source\":{\"id\":\"29728\"},\"glyph\":{\"id\":\"29729\"},\"hover_glyph\":null,\"muted_glyph\":null,\"nonselection_glyph\":{\"id\":\"29730\"},\"selection_glyph\":null,\"view\":{\"id\":\"29732\"}},\"id\":\"29731\",\"type\":\"GlyphRenderer\"},{\"attributes\":{},\"id\":\"30348\",\"type\":\"Selection\"},{\"attributes\":{\"data\":{\"xs\":[[0.226,0.23434487767683382],[0.142,0.12707144094468376],[-0.205,-0.2084066452591256],[0.146,0.12954333439274845],[0.252,0.23449560593486884],[-0.383,-0.3762480761613504],[0.123,0.12726368671649482],[0.316,0.31050951480956274],[-0.422,-0.4261532457838738],[0.041,0.048282565636496],[-0.141,-0.1405264410243635],[-0.391,-0.3782384795283347],[0.065,0.05639283164656973],[0.028,0.04548360257711869],[0.168,0.1829764904825675],[0.094,0.0885890887329746],[0.21,0.2031930062473123],[-0.108,-0.07689503943555495],[-0.139,-0.1534025970966847],[0.22,0.23271459391571642],[0.464,0.4518891112967426],[0.446,0.4413728702388532],[-0.259,-0.2682109171708782],[0.236,0.21649259018862274],[-0.005,-0.011952256633920893]],\"ys\":[[0.27,0.2637518524242298],[-0.411,-0.41375767536732033],[-0.386,-0.3706872414362511],[-0.415,-0.40712671705086884],[-0.283,-0.2911589032360693],[-0.102,-0.08491528519010362],[-0.095,-0.10084529544278062],[-0.183,-0.19788934892222576],[-0.19,-0.15454406624609288],[0.079,0.07689010172002055],[-0.071,-0.06692794436923678],[0.113,0.13314390640855428],[-0.305,-0.3085738987148388],[0.169,0.16570025047517115],[0.385,0.36446776543877446],[-0.225,-0.22514145962006932],[-0.059,-0.062068909198455216],[0.427,0.4155536845456796],[-0.241,-0.23204826124766334],[0.272,0.2621838063856246],[-0.107,-0.11692995129080737],[0.202,0.19501344136243973],[-0.406,-0.37846301987847714],[-0.308,-0.3189960091559406],[-0.28,-0.27838636627988445]]},\"selected\":{\"id\":\"30354\"},\"selection_policy\":{\"id\":\"30353\"}},\"id\":\"29747\",\"type\":\"ColumnDataSource\"},{\"attributes\":{},\"id\":\"30358\",\"type\":\"Selection\"},{\"attributes\":{},\"id\":\"30346\",\"type\":\"Selection\"},{\"attributes\":{\"data_source\":{\"id\":\"29738\"},\"glyph\":{\"id\":\"29739\"},\"hover_glyph\":null,\"muted_glyph\":null,\"nonselection_glyph\":{\"id\":\"29740\"},\"selection_glyph\":null,\"view\":{\"id\":\"29742\"}},\"id\":\"29741\",\"type\":\"GlyphRenderer\"},{\"attributes\":{\"line_alpha\":{\"value\":0.1},\"line_color\":{\"value\":\"#1f77b4\"},\"xs\":{\"field\":\"xs\"},\"ys\":{\"field\":\"ys\"}},\"id\":\"29749\",\"type\":\"MultiLine\"},{\"attributes\":{\"data_source\":{\"id\":\"29756\"},\"glyph\":{\"id\":\"29757\"},\"hover_glyph\":null,\"muted_glyph\":null,\"view\":{\"id\":\"29759\"}},\"id\":\"29758\",\"type\":\"GlyphRenderer\"},{\"attributes\":{\"data_source\":{\"id\":\"29733\"},\"glyph\":{\"id\":\"29734\"},\"hover_glyph\":null,\"muted_glyph\":null,\"nonselection_glyph\":{\"id\":\"29735\"},\"selection_glyph\":null,\"view\":{\"id\":\"29737\"}},\"id\":\"29736\",\"type\":\"GlyphRenderer\"},{\"attributes\":{\"source\":{\"id\":\"29756\"}},\"id\":\"29759\",\"type\":\"CDSView\"},{\"attributes\":{},\"id\":\"30355\",\"type\":\"UnionRenderers\"},{\"attributes\":{\"source\":{\"id\":\"29747\"}},\"id\":\"29751\",\"type\":\"CDSView\"},{\"attributes\":{},\"id\":\"29713\",\"type\":\"SaveTool\"},{\"attributes\":{\"data\":{\"radius\":[0.25,0.5,0.75,1.0],\"x\":[0,0,0,0],\"y\":[0,0,0,0]},\"selected\":{\"id\":\"30346\"},\"selection_policy\":{\"id\":\"30345\"}},\"id\":\"29728\",\"type\":\"ColumnDataSource\"},{\"attributes\":{\"axis_label_standoff\":10,\"axis_label_text_color\":\"#E0E0E0\",\"axis_label_text_font\":\"Helvetica\",\"axis_label_text_font_size\":\"1.25em\",\"axis_label_text_font_style\":\"normal\",\"axis_line_alpha\":0,\"axis_line_color\":\"#E0E0E0\",\"formatter\":{\"id\":\"30344\"},\"major_label_text_color\":\"#E0E0E0\",\"major_label_text_font\":\"Helvetica\",\"major_label_text_font_size\":\"1.025em\",\"major_tick_line_alpha\":0,\"major_tick_line_color\":\"#E0E0E0\",\"minor_tick_line_alpha\":0,\"minor_tick_line_color\":\"#E0E0E0\",\"ticker\":{\"id\":\"29726\"}},\"id\":\"29706\",\"type\":\"LinearAxis\"},{\"attributes\":{\"fill_color\":{\"value\":null},\"line_color\":{\"value\":\"gray\"},\"radius\":{\"field\":\"radius\",\"units\":\"data\"},\"x\":{\"field\":\"x\"},\"y\":{\"field\":\"y\"}},\"id\":\"29729\",\"type\":\"Circle\"},{\"attributes\":{\"fill_color\":{\"value\":null},\"line_color\":{\"value\":\"green\"},\"line_width\":{\"value\":3},\"size\":{\"units\":\"screen\",\"value\":10},\"x\":{\"field\":\"x\"},\"y\":{\"field\":\"y\"}},\"id\":\"29753\",\"type\":\"Circle\"},{\"attributes\":{\"line_alpha\":0.1,\"line_color\":\"gray\",\"x\":{\"field\":\"x\"},\"y\":{\"field\":\"y\"}},\"id\":\"29740\",\"type\":\"Line\"},{\"attributes\":{\"fill_color\":{\"value\":\"red\"},\"line_color\":{\"value\":null},\"line_width\":{\"value\":3},\"size\":{\"units\":\"screen\",\"value\":5},\"x\":{\"field\":\"x\"},\"y\":{\"field\":\"y\"}},\"id\":\"29757\",\"type\":\"Circle\"},{\"attributes\":{},\"id\":\"30345\",\"type\":\"UnionRenderers\"},{\"attributes\":{},\"id\":\"30357\",\"type\":\"UnionRenderers\"},{\"attributes\":{\"line_alpha\":0.1,\"line_color\":\"gray\",\"x\":{\"field\":\"x\"},\"y\":{\"field\":\"y\"}},\"id\":\"29735\",\"type\":\"Line\"},{\"attributes\":{\"fill_alpha\":{\"value\":0.1},\"fill_color\":{\"value\":null},\"line_alpha\":{\"value\":0.1},\"line_color\":{\"value\":\"gray\"},\"radius\":{\"field\":\"radius\",\"units\":\"data\"},\"x\":{\"field\":\"x\"},\"y\":{\"field\":\"y\"}},\"id\":\"29730\",\"type\":\"Circle\"},{\"attributes\":{},\"id\":\"30344\",\"type\":\"BasicTickFormatter\"},{\"attributes\":{\"ticks\":[-1.0,-0.75,-0.5,-0.25,0.0,0.25,0.5,0.75,1.0,1.25,1.5,1.75]},\"id\":\"29726\",\"type\":\"FixedTicker\"},{\"attributes\":{},\"id\":\"29710\",\"type\":\"PanTool\"},{\"attributes\":{\"line_color\":{\"value\":\"#1f77b4\"},\"xs\":{\"field\":\"xs\"},\"ys\":{\"field\":\"ys\"}},\"id\":\"29748\",\"type\":\"MultiLine\"},{\"attributes\":{\"data\":{\"x\":[0,0],\"y\":[-1,1]},\"selected\":{\"id\":\"30348\"},\"selection_policy\":{\"id\":\"30347\"}},\"id\":\"29733\",\"type\":\"ColumnDataSource\"},{\"attributes\":{\"line_color\":\"gray\",\"x\":{\"field\":\"x\"},\"y\":{\"field\":\"y\"}},\"id\":\"29739\",\"type\":\"Line\"},{\"attributes\":{\"data\":{\"x\":[-1,1],\"y\":[0,0]},\"selected\":{\"id\":\"30350\"},\"selection_policy\":{\"id\":\"30349\"}},\"id\":\"29738\",\"type\":\"ColumnDataSource\"}],\"root_ids\":[\"29691\"]},\"title\":\"Bokeh Application\",\"version\":\"2.1.1\"}};\n",
       "  var render_items = [{\"docid\":\"3a3b8508-7ea2-4a18-932e-64740bc32104\",\"root_ids\":[\"29691\"],\"roots\":{\"29691\":\"35eeb36f-ea5e-463d-b5f6-b01ae124dd6e\"}}];\n",
       "  root.Bokeh.embed.embed_items_notebook(docs_json, render_items);\n",
       "\n",
       "  }\n",
       "  if (root.Bokeh !== undefined) {\n",
       "    embed_document(root);\n",
       "  } else {\n",
       "    var attempts = 0;\n",
       "    var timer = setInterval(function(root) {\n",
       "      if (root.Bokeh !== undefined) {\n",
       "        clearInterval(timer);\n",
       "        embed_document(root);\n",
       "      } else {\n",
       "        attempts++;\n",
       "        if (attempts > 100) {\n",
       "          clearInterval(timer);\n",
       "          console.log(\"Bokeh: ERROR: Unable to run BokehJS code because BokehJS library is missing\");\n",
       "        }\n",
       "      }\n",
       "    }, 10, root)\n",
       "  }\n",
       "})(window);"
      ],
      "application/vnd.bokehjs_exec.v0+json": ""
     },
     "metadata": {
      "application/vnd.bokehjs_exec.v0+json": {
       "id": "29691"
      }
     },
     "output_type": "display_data"
    }
   ],
   "source": [
    "pp = PolarPlot(\"Big Kappa\")\n",
    "pp.addMatrixDiff(K_goal, K_meas)\n",
    "# pp.addMatrixDiff(K_goal, K_HWExp)\n",
    "# pp.addMatrix(K_goal, color='green')\n",
    "# pp.addMatrix(K_HWExp, color='cyan')\n",
    "# pp.addMatrix(K_meas, color='red')\n",
    "pp.show()"
   ]
  },
  {
   "cell_type": "code",
   "execution_count": 296,
   "metadata": {},
   "outputs": [],
   "source": [
    "coup1 = np.loadtxt(\"../GoldenSamples/FeedbackCouplerSamples/coupler_1.txt\", dtype=np.complex)\n",
    "coup2 = np.loadtxt(\"../GoldenSamples/FeedbackCouplerSamples/coupler_1_v2.txt\", dtype=np.complex)"
   ]
  },
  {
   "cell_type": "code",
   "execution_count": 297,
   "metadata": {},
   "outputs": [
    {
     "data": {
      "text/plain": [
       "((0.9378315933058672-0.14677449544347232j),\n",
       " (0.0004973134170155034-0.00012025008095757557j))"
      ]
     },
     "execution_count": 297,
     "metadata": {},
     "output_type": "execute_result"
    }
   ],
   "source": [
    "alpha1 = np.mean([coup1[0,0], coup2[0,0]])\n",
    "alpha2 = np.mean([coup1[1,1], coup2[1,1]])\n",
    "(alpha1, alpha2)"
   ]
  },
  {
   "cell_type": "code",
   "execution_count": 298,
   "metadata": {},
   "outputs": [
    {
     "data": {
      "text/plain": [
       "(0.021584675958344048-0.004495697536994868j)"
      ]
     },
     "execution_count": 298,
     "metadata": {},
     "output_type": "execute_result"
    }
   ],
   "source": [
    "beta = np.mean([coup1[0,1], coup1[1,0], coup2[0,1], coup2[1,0]])\n",
    "beta"
   ]
  },
  {
   "cell_type": "code",
   "execution_count": 306,
   "metadata": {},
   "outputs": [
    {
     "data": {
      "text/plain": [
       "(42.999866042776425+2.156154510077593j)"
      ]
     },
     "execution_count": 306,
     "metadata": {},
     "output_type": "execute_result"
    }
   ],
   "source": [
    "alpha1/beta"
   ]
  },
  {
   "cell_type": "code",
   "execution_count": 333,
   "metadata": {},
   "outputs": [],
   "source": [
    "K_goal_inv = np.linalg.inv(np.identity(5)-K_goal)\n",
    "K_exp1_inv = np.linalg.inv(np.identity(5)-K_HWExp)\n",
    "K_exp2_inv = np.linalg.inv(np.identity(5)-K_meas)\n",
    "K_meas_inv = alpha1/beta*K_measInv+(beta-alpha1*alpha2/beta)*np.identity(5);"
   ]
  },
  {
   "cell_type": "code",
   "execution_count": 334,
   "metadata": {},
   "outputs": [
    {
     "data": {
      "text/plain": [
       "array([[   29.75 +1.044e+01j,    48.789+3.030e+01j,    47.691+1.902e+01j,    86.833+1.413e+02j,    34.503+1.600e+02j],\n",
       "       [    8.028+5.026e+01j,    27.026+8.607e+00j,    29.08 +1.998e+01j,    47.608+1.714e+01j,    51.14 +1.115e+02j],\n",
       "       [  -17.37 +4.531e+01j,    26.044-9.654e+00j,    38.932-3.948e+00j,    68.774-6.362e+01j,   105.686+8.702e+01j],\n",
       "       [   40.038+3.579e+01j,    64.696-1.620e+01j,    28.284+5.949e+00j,    39.559-4.360e+00j,    41.941+1.239e+01j],\n",
       "       [   36.99 -2.727e+02j,   301.18 -1.990e+03j, -1137.552-1.925e+03j,  -832.849-3.109e+02j, -4826.441+6.735e+03j]])"
      ]
     },
     "execution_count": 334,
     "metadata": {},
     "output_type": "execute_result"
    }
   ],
   "source": [
    "K_goal_inv/K_meas_inv"
   ]
  },
  {
   "cell_type": "code",
   "execution_count": 335,
   "metadata": {},
   "outputs": [
    {
     "name": "stdout",
     "output_type": "stream",
     "text": [
      "1.1251148611925452\n"
     ]
    },
    {
     "data": {
      "text/html": [
       "\n",
       "\n",
       "\n",
       "\n",
       "\n",
       "\n",
       "  <div class=\"bk-root\" id=\"660d8e68-37e1-4482-91bd-682d20190613\" data-root-id=\"30499\"></div>\n"
      ]
     },
     "metadata": {},
     "output_type": "display_data"
    },
    {
     "data": {
      "application/javascript": [
       "(function(root) {\n",
       "  function embed_document(root) {\n",
       "    \n",
       "  var docs_json = {\"d5c7bb9f-86f2-47f6-845e-bbedf83cdbec\":{\"roots\":{\"references\":[{\"attributes\":{\"background_fill_color\":\"#20262B\",\"below\":[{\"id\":\"30508\"}],\"border_fill_color\":\"#15191C\",\"center\":[{\"id\":\"30511\"},{\"id\":\"30515\"}],\"left\":[{\"id\":\"30512\"}],\"outline_line_alpha\":0.25,\"outline_line_color\":\"#E0E0E0\",\"renderers\":[{\"id\":\"30533\"}],\"title\":{\"id\":\"31135\"},\"toolbar\":{\"id\":\"30523\"},\"x_range\":{\"id\":\"30500\"},\"x_scale\":{\"id\":\"30504\"},\"y_range\":{\"id\":\"30502\"},\"y_scale\":{\"id\":\"30506\"}},\"id\":\"30499\",\"subtype\":\"Figure\",\"type\":\"Plot\"},{\"attributes\":{},\"id\":\"30502\",\"type\":\"DataRange1d\"},{\"attributes\":{\"data_source\":{\"id\":\"30530\"},\"glyph\":{\"id\":\"30531\"},\"hover_glyph\":null,\"muted_glyph\":null,\"nonselection_glyph\":{\"id\":\"30532\"},\"selection_glyph\":null,\"view\":{\"id\":\"30534\"}},\"id\":\"30533\",\"type\":\"GlyphRenderer\"},{\"attributes\":{\"active_drag\":\"auto\",\"active_inspect\":\"auto\",\"active_multi\":null,\"active_scroll\":\"auto\",\"active_tap\":\"auto\",\"tools\":[{\"id\":\"30516\"},{\"id\":\"30517\"},{\"id\":\"30518\"},{\"id\":\"30519\"},{\"id\":\"30520\"},{\"id\":\"30521\"}]},\"id\":\"30523\",\"type\":\"Toolbar\"},{\"attributes\":{\"dh\":{\"units\":\"data\",\"value\":5},\"dw\":{\"units\":\"data\",\"value\":23},\"global_alpha\":0.1,\"image\":{\"field\":\"image\"},\"x\":{\"value\":0},\"y\":{\"value\":0}},\"id\":\"30532\",\"type\":\"ImageRGBA\"},{\"attributes\":{\"source\":{\"id\":\"30530\"}},\"id\":\"30534\",\"type\":\"CDSView\"},{\"attributes\":{},\"id\":\"30516\",\"type\":\"PanTool\"},{\"attributes\":{},\"id\":\"31139\",\"type\":\"BasicTickFormatter\"},{\"attributes\":{},\"id\":\"30506\",\"type\":\"LinearScale\"},{\"attributes\":{\"axis_label_standoff\":10,\"axis_label_text_color\":\"#E0E0E0\",\"axis_label_text_font\":\"Helvetica\",\"axis_label_text_font_size\":\"1.25em\",\"axis_label_text_font_style\":\"normal\",\"axis_line_alpha\":0,\"axis_line_color\":\"#E0E0E0\",\"formatter\":{\"id\":\"31137\"},\"major_label_text_color\":\"#E0E0E0\",\"major_label_text_font\":\"Helvetica\",\"major_label_text_font_size\":\"1.025em\",\"major_tick_line_alpha\":0,\"major_tick_line_color\":\"#E0E0E0\",\"minor_tick_line_alpha\":0,\"minor_tick_line_color\":\"#E0E0E0\",\"ticker\":{\"id\":\"30509\"}},\"id\":\"30508\",\"type\":\"LinearAxis\"},{\"attributes\":{},\"id\":\"30509\",\"type\":\"BasicTicker\"},{\"attributes\":{\"dh\":{\"units\":\"data\",\"value\":5},\"dw\":{\"units\":\"data\",\"value\":23},\"image\":{\"field\":\"image\"},\"x\":{\"value\":0},\"y\":{\"value\":0}},\"id\":\"30531\",\"type\":\"ImageRGBA\"},{\"attributes\":{},\"id\":\"30500\",\"type\":\"DataRange1d\"},{\"attributes\":{},\"id\":\"30520\",\"type\":\"ResetTool\"},{\"attributes\":{\"axis\":{\"id\":\"30508\"},\"grid_line_alpha\":0.25,\"grid_line_color\":\"#E0E0E0\",\"ticker\":null},\"id\":\"30511\",\"type\":\"Grid\"},{\"attributes\":{\"text\":\"\",\"text_color\":{\"value\":\"#E0E0E0\"},\"text_font\":\"Helvetica\",\"text_font_size\":{\"value\":\"1.15em\"}},\"id\":\"31135\",\"type\":\"Title\"},{\"attributes\":{},\"id\":\"31137\",\"type\":\"BasicTickFormatter\"},{\"attributes\":{},\"id\":\"30521\",\"type\":\"HelpTool\"},{\"attributes\":{},\"id\":\"31142\",\"type\":\"Selection\"},{\"attributes\":{\"overlay\":{\"id\":\"30522\"}},\"id\":\"30518\",\"type\":\"BoxZoomTool\"},{\"attributes\":{\"axis_label_standoff\":10,\"axis_label_text_color\":\"#E0E0E0\",\"axis_label_text_font\":\"Helvetica\",\"axis_label_text_font_size\":\"1.25em\",\"axis_label_text_font_style\":\"normal\",\"axis_line_alpha\":0,\"axis_line_color\":\"#E0E0E0\",\"formatter\":{\"id\":\"31139\"},\"major_label_text_color\":\"#E0E0E0\",\"major_label_text_font\":\"Helvetica\",\"major_label_text_font_size\":\"1.025em\",\"major_tick_line_alpha\":0,\"major_tick_line_color\":\"#E0E0E0\",\"minor_tick_line_alpha\":0,\"minor_tick_line_color\":\"#E0E0E0\",\"ticker\":{\"id\":\"30513\"}},\"id\":\"30512\",\"type\":\"LinearAxis\"},{\"attributes\":{\"bottom_units\":\"screen\",\"fill_alpha\":0.5,\"fill_color\":\"lightgrey\",\"left_units\":\"screen\",\"level\":\"overlay\",\"line_alpha\":1.0,\"line_color\":\"black\",\"line_dash\":[4,4],\"line_width\":2,\"right_units\":\"screen\",\"top_units\":\"screen\"},\"id\":\"30522\",\"type\":\"BoxAnnotation\"},{\"attributes\":{},\"id\":\"30513\",\"type\":\"BasicTicker\"},{\"attributes\":{},\"id\":\"30517\",\"type\":\"WheelZoomTool\"},{\"attributes\":{\"data\":{\"image\":[{\"__ndarray__\":\"vigA/78Aff8AAKL/AAN0/6wArv8AAAD/vicA/74Aff8AAKL/AAN0/6sArf8AAAD/wjAA/8AAgv8AA6D/AAdq/6AAp/8AAAD/2QAY/2EAd/8AKXH/ABkZ/wALJv8ANF3/uEEA/1wAIP8AOzT/ECwA/wAAAP8ANF3/uUEA/1wAIP8AOzX/ECwA/wAAAP8AN1//wkUA/10AJf8APDX/EisA/wAAAP8AQgX/6g0A/14AV/8AKhf/DQcA/zIAHP8AQgD/0QBB/zwAIv9YGwD/AAAA/zMAHP8AQwH/0gBB/zwAIv9YGwD/AAAA/zEAIP8ARAP/zwA7/zgAIv9RFwD/AAAA/wAPJf8AVh7/wQAp/xcDAP8XAAf/KAAi/zgAL/8NJQD/rQAs/yoNAP8AAAD/KAAj/zgAL/8NJgD/rQAs/ykOAP8AAAD/KQAj/zgAMP8LIwD/rAAp/yoLAP8AAAD/CwAb/x4AEv8ZLwD/nAAX/yIBAP8yAEP/jgBA/wAsff8AIYb//wCr/wAAAP8yAET/jgA//wAsff8AIYX//wCq/wAAAP8uAD3/igA+/wAseP8AIn3/9QCg/wAAAP8IAQD/AgIA/wIAAP8FAgD/AAEB/w==\",\"dtype\":\"uint32\",\"order\":\"little\",\"shape\":[5,23]}]},\"selected\":{\"id\":\"31142\"},\"selection_policy\":{\"id\":\"31141\"}},\"id\":\"30530\",\"type\":\"ColumnDataSource\"},{\"attributes\":{},\"id\":\"30519\",\"type\":\"SaveTool\"},{\"attributes\":{\"axis\":{\"id\":\"30512\"},\"dimension\":1,\"grid_line_alpha\":0.25,\"grid_line_color\":\"#E0E0E0\",\"ticker\":null},\"id\":\"30515\",\"type\":\"Grid\"},{\"attributes\":{},\"id\":\"30504\",\"type\":\"LinearScale\"},{\"attributes\":{},\"id\":\"31141\",\"type\":\"UnionRenderers\"}],\"root_ids\":[\"30499\"]},\"title\":\"Bokeh Application\",\"version\":\"2.1.1\"}};\n",
       "  var render_items = [{\"docid\":\"d5c7bb9f-86f2-47f6-845e-bbedf83cdbec\",\"root_ids\":[\"30499\"],\"roots\":{\"30499\":\"660d8e68-37e1-4482-91bd-682d20190613\"}}];\n",
       "  root.Bokeh.embed.embed_items_notebook(docs_json, render_items);\n",
       "\n",
       "  }\n",
       "  if (root.Bokeh !== undefined) {\n",
       "    embed_document(root);\n",
       "  } else {\n",
       "    var attempts = 0;\n",
       "    var timer = setInterval(function(root) {\n",
       "      if (root.Bokeh !== undefined) {\n",
       "        clearInterval(timer);\n",
       "        embed_document(root);\n",
       "      } else {\n",
       "        attempts++;\n",
       "        if (attempts > 100) {\n",
       "          clearInterval(timer);\n",
       "          console.log(\"Bokeh: ERROR: Unable to run BokehJS code because BokehJS library is missing\");\n",
       "        }\n",
       "      }\n",
       "    }, 10, root)\n",
       "  }\n",
       "})(window);"
      ],
      "application/vnd.bokehjs_exec.v0+json": ""
     },
     "metadata": {
      "application/vnd.bokehjs_exec.v0+json": {
       "id": "30499"
      }
     },
     "output_type": "display_data"
    }
   ],
   "source": [
    "plotData = np.hstack((K_goal_inv, spr, K_exp1_inv, spr, K_exp2_inv, spr, K_meas_inv*36))\n",
    "maxVal = np.max(np.abs(plotData))\n",
    "print(maxVal)\n",
    "plotComplexArray(plotData, maxRad=maxVal)"
   ]
  },
  {
   "cell_type": "code",
   "execution_count": 302,
   "metadata": {},
   "outputs": [
    {
     "data": {
      "text/html": [
       "\n",
       "\n",
       "\n",
       "\n",
       "\n",
       "\n",
       "  <div class=\"bk-root\" id=\"3bdebb70-97df-4792-b9a7-989bc3013209\" data-root-id=\"21785\"></div>\n"
      ]
     },
     "metadata": {},
     "output_type": "display_data"
    },
    {
     "data": {
      "application/javascript": [
       "(function(root) {\n",
       "  function embed_document(root) {\n",
       "    \n",
       "  var docs_json = {\"8a0e9863-d217-4ba7-9267-96e775c80b96\":{\"roots\":{\"references\":[{\"attributes\":{\"background_fill_color\":\"#20262B\",\"below\":[{\"id\":\"21796\"}],\"border_fill_color\":\"#15191C\",\"center\":[{\"id\":\"21799\"},{\"id\":\"21803\"}],\"left\":[{\"id\":\"21800\"}],\"outline_line_alpha\":0.25,\"outline_line_color\":\"#E0E0E0\",\"plot_height\":400,\"plot_width\":400,\"renderers\":[{\"id\":\"21825\"},{\"id\":\"21830\"},{\"id\":\"21835\"},{\"id\":\"21839\"},{\"id\":\"21844\"},{\"id\":\"21848\"},{\"id\":\"21852\"}],\"title\":{\"id\":\"21786\"},\"toolbar\":{\"id\":\"21811\"},\"x_range\":{\"id\":\"21788\"},\"x_scale\":{\"id\":\"21792\"},\"y_range\":{\"id\":\"21790\"},\"y_scale\":{\"id\":\"21794\"}},\"id\":\"21785\",\"subtype\":\"Figure\",\"type\":\"Plot\"},{\"attributes\":{\"source\":{\"id\":\"21822\"}},\"id\":\"21826\",\"type\":\"CDSView\"},{\"attributes\":{},\"id\":\"22297\",\"type\":\"Selection\"},{\"attributes\":{},\"id\":\"21794\",\"type\":\"LinearScale\"},{\"attributes\":{\"source\":{\"id\":\"21832\"}},\"id\":\"21836\",\"type\":\"CDSView\"},{\"attributes\":{\"line_color\":{\"value\":\"#1f77b4\"},\"xs\":{\"field\":\"xs\"},\"ys\":{\"field\":\"ys\"}},\"id\":\"21842\",\"type\":\"MultiLine\"},{\"attributes\":{},\"id\":\"22285\",\"type\":\"BasicTickFormatter\"},{\"attributes\":{\"line_alpha\":0.1,\"line_color\":\"gray\",\"x\":{\"field\":\"x\"},\"y\":{\"field\":\"y\"}},\"id\":\"21829\",\"type\":\"Line\"},{\"attributes\":{\"data_source\":{\"id\":\"21841\"},\"glyph\":{\"id\":\"21842\"},\"hover_glyph\":null,\"muted_glyph\":null,\"nonselection_glyph\":{\"id\":\"21843\"},\"selection_glyph\":null,\"view\":{\"id\":\"21845\"}},\"id\":\"21844\",\"type\":\"GlyphRenderer\"},{\"attributes\":{\"data\":{\"xs\":[[0.7379521831388881,0.7384524655204775],[-0.0742992695103124,-0.047757268552641494],[-0.264891331188855,-0.2759633650386783],[0.42214126448794537,0.4264860042041982],[-0.23851329967462132,-0.20252235906607036],[-0.24213983455528768,-0.2257262517853006],[0.9555691781857532,0.8833466895294684],[-0.2675755177149219,-0.24273257321005395],[-0.16858282278234285,-0.2070259502766853],[-0.10069791207478249,-0.10982986567229633],[-0.26336467338138214,-0.2604659669722491],[-0.0033295037659492365,-0.002484805353768171],[1.1250861388463311,1.1135361978822909],[-0.7407658739152388,-0.6766085278831205],[0.0913514055504888,0.07131834495168941],[-0.02454127471140034,-0.024888993693116247],[-0.082280299552471,-0.06244577543374916],[0.0765627710398546,0.010759735011880028],[0.958308780446372,0.9408313375739636],[-0.06787042724661016,-0.017825183158306356],[0.3474253816847068,0.015864720925295166],[-0.060616078268524144,0.000501972192391981],[-0.14276418228442211,-0.0042501570806427885],[0.2966627928609751,0.01799951457479133],[0.8552380416191551,0.02118720184821596]],\"ys\":[[0.03403568049544209,-0.07242038423628414],[0.06134126756934779,0.041038015438207155],[-0.11020234005902797,-0.07174506476237033],[-0.08736850641563541,-0.06604552801179162],[0.16243049598239728,0.17530595189278156],[-0.076840879977837,-0.07817079816188227],[0.14023256681289475,0.029372923107560886],[0.1796218154553187,0.2231242528300291],[-0.12932662071091913,-0.10705484135423651],[-0.0946854427146177,-0.04416758369604098],[-0.2868874254982981,-0.23459347927814994],[0.09298855226618592,0.11859932288437199],[0.4439290338166117,0.16946087321892866],[-0.11216056202744809,-0.00674858454000555],[0.05831919653761168,0.0592482368381269],[0.15497377727039313,0.15156000964675506],[-0.23631116132822239,-0.21803495152856342],[-0.27944287904521525,-0.2518744040271139],[0.4125440565229225,0.23460618489799073],[0.16491954106035492,0.13141060013803316],[-0.08234181789736661,-0.008578465271846008],[0.011551228304029304,-0.006576739622495068],[0.3602192419650283,0.01449158291291293],[-0.08852470011256522,0.02054795384229104],[0.03735365812703053,0.015066952948616066]]},\"selected\":{\"id\":\"22295\"},\"selection_policy\":{\"id\":\"22294\"}},\"id\":\"21841\",\"type\":\"ColumnDataSource\"},{\"attributes\":{\"source\":{\"id\":\"21850\"}},\"id\":\"21853\",\"type\":\"CDSView\"},{\"attributes\":{},\"id\":\"22295\",\"type\":\"Selection\"},{\"attributes\":{\"ticks\":[-1.0,-0.75,-0.5,-0.25,0.0,0.25,0.5,0.75,1.0,1.25,1.5,1.75]},\"id\":\"21818\",\"type\":\"FixedTicker\"},{\"attributes\":{},\"id\":\"21804\",\"type\":\"PanTool\"},{\"attributes\":{},\"id\":\"22286\",\"type\":\"UnionRenderers\"},{\"attributes\":{\"source\":{\"id\":\"21827\"}},\"id\":\"21831\",\"type\":\"CDSView\"},{\"attributes\":{},\"id\":\"22288\",\"type\":\"UnionRenderers\"},{\"attributes\":{\"axis_label_standoff\":10,\"axis_label_text_color\":\"#E0E0E0\",\"axis_label_text_font\":\"Helvetica\",\"axis_label_text_font_size\":\"1.25em\",\"axis_label_text_font_style\":\"normal\",\"axis_line_alpha\":0,\"axis_line_color\":\"#E0E0E0\",\"formatter\":{\"id\":\"22284\"},\"major_label_text_color\":\"#E0E0E0\",\"major_label_text_font\":\"Helvetica\",\"major_label_text_font_size\":\"1.025em\",\"major_tick_line_alpha\":0,\"major_tick_line_color\":\"#E0E0E0\",\"minor_tick_line_alpha\":0,\"minor_tick_line_color\":\"#E0E0E0\",\"ticker\":{\"id\":\"21818\"}},\"id\":\"21796\",\"type\":\"LinearAxis\"},{\"attributes\":{},\"id\":\"22287\",\"type\":\"Selection\"},{\"attributes\":{},\"id\":\"21809\",\"type\":\"HelpTool\"},{\"attributes\":{\"active_drag\":\"auto\",\"active_inspect\":\"auto\",\"active_multi\":null,\"active_scroll\":\"auto\",\"active_tap\":\"auto\",\"tools\":[{\"id\":\"21804\"},{\"id\":\"21805\"},{\"id\":\"21806\"},{\"id\":\"21807\"},{\"id\":\"21808\"},{\"id\":\"21809\"}]},\"id\":\"21811\",\"type\":\"Toolbar\"},{\"attributes\":{\"fill_alpha\":{\"value\":0.1},\"fill_color\":{\"value\":null},\"line_alpha\":{\"value\":0.1},\"line_color\":{\"value\":\"gray\"},\"radius\":{\"field\":\"radius\",\"units\":\"data\"},\"x\":{\"field\":\"x\"},\"y\":{\"field\":\"y\"}},\"id\":\"21824\",\"type\":\"Circle\"},{\"attributes\":{\"line_color\":\"gray\",\"x\":{\"field\":\"x\"},\"y\":{\"field\":\"y\"}},\"id\":\"21828\",\"type\":\"Line\"},{\"attributes\":{\"source\":{\"id\":\"21846\"}},\"id\":\"21849\",\"type\":\"CDSView\"},{\"attributes\":{},\"id\":\"22292\",\"type\":\"UnionRenderers\"},{\"attributes\":{\"overlay\":{\"id\":\"21810\"}},\"id\":\"21806\",\"type\":\"BoxZoomTool\"},{\"attributes\":{\"angle\":{\"units\":\"rad\",\"value\":0.3},\"text_color\":{\"value\":\"gray\"},\"text_font_size\":{\"value\":\"10px\"},\"x\":{\"field\":\"x\"},\"y\":{\"field\":\"y\"}},\"id\":\"21838\",\"type\":\"Text\"},{\"attributes\":{\"axis\":{\"id\":\"21800\"},\"dimension\":1,\"grid_line_alpha\":0.25,\"grid_line_color\":null,\"ticker\":null},\"id\":\"21803\",\"type\":\"Grid\"},{\"attributes\":{\"fill_color\":{\"value\":null},\"line_color\":{\"value\":\"gray\"},\"radius\":{\"field\":\"radius\",\"units\":\"data\"},\"x\":{\"field\":\"x\"},\"y\":{\"field\":\"y\"}},\"id\":\"21823\",\"type\":\"Circle\"},{\"attributes\":{\"data\":{\"text\":[\"0.25\",\"0.50\",\"0.75\",\"1.00\"],\"x\":[0.25,0.5,0.75,1.0],\"y\":[0,0,0,0]},\"selected\":{\"id\":\"22293\"},\"selection_policy\":{\"id\":\"22292\"}},\"id\":\"21837\",\"type\":\"ColumnDataSource\"},{\"attributes\":{\"end\":1.1,\"start\":-1.1},\"id\":\"21788\",\"type\":\"Range1d\"},{\"attributes\":{\"fill_color\":{\"value\":null},\"line_color\":{\"value\":\"green\"},\"line_width\":{\"value\":3},\"size\":{\"units\":\"screen\",\"value\":10},\"x\":{\"field\":\"x\"},\"y\":{\"field\":\"y\"}},\"id\":\"21847\",\"type\":\"Circle\"},{\"attributes\":{\"data\":{\"x\":[0.7379521831388881,-0.0742992695103124,-0.264891331188855,0.42214126448794537,-0.23851329967462132,-0.24213983455528768,0.9555691781857532,-0.2675755177149219,-0.16858282278234285,-0.10069791207478249,-0.26336467338138214,-0.0033295037659492365,1.1250861388463311,-0.7407658739152388,0.0913514055504888,-0.02454127471140034,-0.082280299552471,0.0765627710398546,0.958308780446372,-0.06787042724661016,0.3474253816847068,-0.060616078268524144,-0.14276418228442211,0.2966627928609751,0.8552380416191551],\"y\":[0.03403568049544209,0.06134126756934779,-0.11020234005902797,-0.08736850641563541,0.16243049598239728,-0.076840879977837,0.14023256681289475,0.1796218154553187,-0.12932662071091913,-0.0946854427146177,-0.2868874254982981,0.09298855226618592,0.4439290338166117,-0.11216056202744809,0.05831919653761168,0.15497377727039313,-0.23631116132822239,-0.27944287904521525,0.4125440565229225,0.16491954106035492,-0.08234181789736661,0.011551228304029304,0.3602192419650283,-0.08852470011256522,0.03735365812703053]},\"selected\":{\"id\":\"22297\"},\"selection_policy\":{\"id\":\"22296\"}},\"id\":\"21846\",\"type\":\"ColumnDataSource\"},{\"attributes\":{},\"id\":\"22291\",\"type\":\"Selection\"},{\"attributes\":{\"bottom_units\":\"screen\",\"fill_alpha\":0.5,\"fill_color\":\"lightgrey\",\"left_units\":\"screen\",\"level\":\"overlay\",\"line_alpha\":1.0,\"line_color\":\"black\",\"line_dash\":[4,4],\"line_width\":2,\"right_units\":\"screen\",\"top_units\":\"screen\"},\"id\":\"21810\",\"type\":\"BoxAnnotation\"},{\"attributes\":{\"data\":{\"x\":[0.7384524655204775,-0.047757268552641494,-0.2759633650386783,0.4264860042041982,-0.20252235906607036,-0.2257262517853006,0.8833466895294684,-0.24273257321005395,-0.2070259502766853,-0.10982986567229633,-0.2604659669722491,-0.002484805353768171,1.1135361978822909,-0.6766085278831205,0.07131834495168941,-0.024888993693116247,-0.06244577543374916,0.010759735011880028,0.9408313375739636,-0.017825183158306356,0.015864720925295166,0.000501972192391981,-0.0042501570806427885,0.01799951457479133,0.02118720184821596],\"y\":[-0.07242038423628414,0.041038015438207155,-0.07174506476237033,-0.06604552801179162,0.17530595189278156,-0.07817079816188227,0.029372923107560886,0.2231242528300291,-0.10705484135423651,-0.04416758369604098,-0.23459347927814994,0.11859932288437199,0.16946087321892866,-0.00674858454000555,0.0592482368381269,0.15156000964675506,-0.21803495152856342,-0.2518744040271139,0.23460618489799073,0.13141060013803316,-0.008578465271846008,-0.006576739622495068,0.01449158291291293,0.02054795384229104,0.015066952948616066]},\"selected\":{\"id\":\"22299\"},\"selection_policy\":{\"id\":\"22298\"}},\"id\":\"21850\",\"type\":\"ColumnDataSource\"},{\"attributes\":{},\"id\":\"22294\",\"type\":\"UnionRenderers\"},{\"attributes\":{\"data_source\":{\"id\":\"21827\"},\"glyph\":{\"id\":\"21828\"},\"hover_glyph\":null,\"muted_glyph\":null,\"nonselection_glyph\":{\"id\":\"21829\"},\"selection_glyph\":null,\"view\":{\"id\":\"21831\"}},\"id\":\"21830\",\"type\":\"GlyphRenderer\"},{\"attributes\":{},\"id\":\"22290\",\"type\":\"UnionRenderers\"},{\"attributes\":{\"text\":\"Inverse\",\"text_color\":{\"value\":\"#E0E0E0\"},\"text_font\":\"Helvetica\",\"text_font_size\":{\"value\":\"1.15em\"}},\"id\":\"21786\",\"type\":\"Title\"},{\"attributes\":{\"fill_color\":{\"value\":\"red\"},\"line_color\":{\"value\":null},\"line_width\":{\"value\":3},\"size\":{\"units\":\"screen\",\"value\":5},\"x\":{\"field\":\"x\"},\"y\":{\"field\":\"y\"}},\"id\":\"21851\",\"type\":\"Circle\"},{\"attributes\":{},\"id\":\"22298\",\"type\":\"UnionRenderers\"},{\"attributes\":{\"end\":1.1,\"start\":-1.1},\"id\":\"21790\",\"type\":\"Range1d\"},{\"attributes\":{\"data_source\":{\"id\":\"21846\"},\"glyph\":{\"id\":\"21847\"},\"hover_glyph\":null,\"muted_glyph\":null,\"view\":{\"id\":\"21849\"}},\"id\":\"21848\",\"type\":\"GlyphRenderer\"},{\"attributes\":{\"data\":{\"radius\":[0.25,0.5,0.75,1.0],\"x\":[0,0,0,0],\"y\":[0,0,0,0]},\"selected\":{\"id\":\"22287\"},\"selection_policy\":{\"id\":\"22286\"}},\"id\":\"21822\",\"type\":\"ColumnDataSource\"},{\"attributes\":{},\"id\":\"21792\",\"type\":\"LinearScale\"},{\"attributes\":{\"line_alpha\":0.1,\"line_color\":\"gray\",\"x\":{\"field\":\"x\"},\"y\":{\"field\":\"y\"}},\"id\":\"21834\",\"type\":\"Line\"},{\"attributes\":{},\"id\":\"22299\",\"type\":\"Selection\"},{\"attributes\":{},\"id\":\"22284\",\"type\":\"BasicTickFormatter\"},{\"attributes\":{\"data_source\":{\"id\":\"21832\"},\"glyph\":{\"id\":\"21833\"},\"hover_glyph\":null,\"muted_glyph\":null,\"nonselection_glyph\":{\"id\":\"21834\"},\"selection_glyph\":null,\"view\":{\"id\":\"21836\"}},\"id\":\"21835\",\"type\":\"GlyphRenderer\"},{\"attributes\":{},\"id\":\"21805\",\"type\":\"WheelZoomTool\"},{\"attributes\":{\"data\":{\"x\":[0,0],\"y\":[-1,1]},\"selected\":{\"id\":\"22289\"},\"selection_policy\":{\"id\":\"22288\"}},\"id\":\"21827\",\"type\":\"ColumnDataSource\"},{\"attributes\":{\"data\":{\"x\":[-1,1],\"y\":[0,0]},\"selected\":{\"id\":\"22291\"},\"selection_policy\":{\"id\":\"22290\"}},\"id\":\"21832\",\"type\":\"ColumnDataSource\"},{\"attributes\":{},\"id\":\"22293\",\"type\":\"Selection\"},{\"attributes\":{},\"id\":\"22296\",\"type\":\"UnionRenderers\"},{\"attributes\":{\"axis\":{\"id\":\"21796\"},\"grid_line_alpha\":0.25,\"grid_line_color\":null,\"ticker\":null},\"id\":\"21799\",\"type\":\"Grid\"},{\"attributes\":{\"data_source\":{\"id\":\"21837\"},\"glyph\":{\"id\":\"21838\"},\"hover_glyph\":null,\"muted_glyph\":null,\"view\":{\"id\":\"21840\"}},\"id\":\"21839\",\"type\":\"GlyphRenderer\"},{\"attributes\":{\"source\":{\"id\":\"21837\"}},\"id\":\"21840\",\"type\":\"CDSView\"},{\"attributes\":{},\"id\":\"21807\",\"type\":\"SaveTool\"},{\"attributes\":{},\"id\":\"21808\",\"type\":\"ResetTool\"},{\"attributes\":{\"ticks\":[-1.0,-0.75,-0.5,-0.25,0.0,0.25,0.5,0.75,1.0,1.25,1.5,1.75]},\"id\":\"21820\",\"type\":\"FixedTicker\"},{\"attributes\":{\"source\":{\"id\":\"21841\"}},\"id\":\"21845\",\"type\":\"CDSView\"},{\"attributes\":{},\"id\":\"22289\",\"type\":\"Selection\"},{\"attributes\":{\"data_source\":{\"id\":\"21822\"},\"glyph\":{\"id\":\"21823\"},\"hover_glyph\":null,\"muted_glyph\":null,\"nonselection_glyph\":{\"id\":\"21824\"},\"selection_glyph\":null,\"view\":{\"id\":\"21826\"}},\"id\":\"21825\",\"type\":\"GlyphRenderer\"},{\"attributes\":{\"axis_label_standoff\":10,\"axis_label_text_color\":\"#E0E0E0\",\"axis_label_text_font\":\"Helvetica\",\"axis_label_text_font_size\":\"1.25em\",\"axis_label_text_font_style\":\"normal\",\"axis_line_alpha\":0,\"axis_line_color\":\"#E0E0E0\",\"formatter\":{\"id\":\"22285\"},\"major_label_text_color\":\"#E0E0E0\",\"major_label_text_font\":\"Helvetica\",\"major_label_text_font_size\":\"1.025em\",\"major_tick_line_alpha\":0,\"major_tick_line_color\":\"#E0E0E0\",\"minor_tick_line_alpha\":0,\"minor_tick_line_color\":\"#E0E0E0\",\"ticker\":{\"id\":\"21820\"}},\"id\":\"21800\",\"type\":\"LinearAxis\"},{\"attributes\":{\"line_alpha\":{\"value\":0.1},\"line_color\":{\"value\":\"#1f77b4\"},\"xs\":{\"field\":\"xs\"},\"ys\":{\"field\":\"ys\"}},\"id\":\"21843\",\"type\":\"MultiLine\"},{\"attributes\":{\"line_color\":\"gray\",\"x\":{\"field\":\"x\"},\"y\":{\"field\":\"y\"}},\"id\":\"21833\",\"type\":\"Line\"},{\"attributes\":{\"data_source\":{\"id\":\"21850\"},\"glyph\":{\"id\":\"21851\"},\"hover_glyph\":null,\"muted_glyph\":null,\"view\":{\"id\":\"21853\"}},\"id\":\"21852\",\"type\":\"GlyphRenderer\"}],\"root_ids\":[\"21785\"]},\"title\":\"Bokeh Application\",\"version\":\"2.1.1\"}};\n",
       "  var render_items = [{\"docid\":\"8a0e9863-d217-4ba7-9267-96e775c80b96\",\"root_ids\":[\"21785\"],\"roots\":{\"21785\":\"3bdebb70-97df-4792-b9a7-989bc3013209\"}}];\n",
       "  root.Bokeh.embed.embed_items_notebook(docs_json, render_items);\n",
       "\n",
       "  }\n",
       "  if (root.Bokeh !== undefined) {\n",
       "    embed_document(root);\n",
       "  } else {\n",
       "    var attempts = 0;\n",
       "    var timer = setInterval(function(root) {\n",
       "      if (root.Bokeh !== undefined) {\n",
       "        clearInterval(timer);\n",
       "        embed_document(root);\n",
       "      } else {\n",
       "        attempts++;\n",
       "        if (attempts > 100) {\n",
       "          clearInterval(timer);\n",
       "          console.log(\"Bokeh: ERROR: Unable to run BokehJS code because BokehJS library is missing\");\n",
       "        }\n",
       "      }\n",
       "    }, 10, root)\n",
       "  }\n",
       "})(window);"
      ],
      "application/vnd.bokehjs_exec.v0+json": ""
     },
     "metadata": {
      "application/vnd.bokehjs_exec.v0+json": {
       "id": "21785"
      }
     },
     "output_type": "display_data"
    }
   ],
   "source": [
    "pp = PolarPlot(\"Inverse\")\n",
    "pp.addMatrixDiff(K_goal_inv, K_meas_inv*36, max)\n",
    "# pp.addMatrixDiff(K_goal, K_HWExp)\n",
    "# pp.addMatrix(K_goal, color='green')\n",
    "# pp.addMatrix(K_HWExp, color='cyan')\n",
    "# pp.addMatrix(K_meas, color='red')\n",
    "pp.show()"
   ]
  },
  {
   "cell_type": "code",
   "execution_count": null,
   "metadata": {},
   "outputs": [],
   "source": []
  }
 ],
 "metadata": {
  "kernelspec": {
   "display_name": "Python 3",
   "language": "python",
   "name": "python3"
  },
  "language_info": {
   "codemirror_mode": {
    "name": "ipython",
    "version": 3
   },
   "file_extension": ".py",
   "mimetype": "text/x-python",
   "name": "python",
   "nbconvert_exporter": "python",
   "pygments_lexer": "ipython3",
   "version": "3.8.3"
  }
 },
 "nbformat": 4,
 "nbformat_minor": 4
}
