{
 "cells": [
  {
   "cell_type": "markdown",
   "metadata": {},
   "source": [
    "## Imports"
   ]
  },
  {
   "cell_type": "markdown",
   "metadata": {
    "heading_collapsed": "true"
   },
   "source": [
    "### Stock Imports"
   ]
  },
  {
   "cell_type": "code",
   "execution_count": 1,
   "metadata": {},
   "outputs": [],
   "source": [
    "%load_ext autoreload\n",
    "%autoreload 2"
   ]
  },
  {
   "cell_type": "code",
   "execution_count": 2,
   "metadata": {},
   "outputs": [],
   "source": [
    "import os, sys\n",
    "from time import sleep"
   ]
  },
  {
   "cell_type": "code",
   "execution_count": 3,
   "metadata": {},
   "outputs": [
    {
     "data": {
      "text/plain": [
       "'C:\\\\Users\\\\Diego\\\\Documents\\\\Git_code\\\\Brian\\\\RFMath\\\\Code'"
      ]
     },
     "execution_count": 3,
     "metadata": {},
     "output_type": "execute_result"
    }
   ],
   "source": [
    "os.getcwd()"
   ]
  },
  {
   "cell_type": "code",
   "execution_count": 4,
   "metadata": {},
   "outputs": [],
   "source": [
    "import importlib"
   ]
  },
  {
   "cell_type": "code",
   "execution_count": 5,
   "metadata": {},
   "outputs": [],
   "source": [
    "import numpy as np\n",
    "import scipy as sp\n",
    "from scipy.optimize import root\n",
    "from scipy.interpolate import interp2d\n",
    "import itertools\n",
    "import time"
   ]
  },
  {
   "cell_type": "code",
   "execution_count": 6,
   "metadata": {},
   "outputs": [],
   "source": [
    "import PIL"
   ]
  },
  {
   "cell_type": "code",
   "execution_count": 7,
   "metadata": {},
   "outputs": [],
   "source": [
    "from scipy.ndimage import gaussian_filter\n",
    "from scipy import interpolate"
   ]
  },
  {
   "cell_type": "code",
   "execution_count": 8,
   "metadata": {},
   "outputs": [
    {
     "data": {
      "text/html": [
       "\n",
       "    <div class=\"bk-root\">\n",
       "        <a href=\"https://bokeh.org\" target=\"_blank\" class=\"bk-logo bk-logo-small bk-logo-notebook\"></a>\n",
       "        <span id=\"1001\">Loading BokehJS ...</span>\n",
       "    </div>"
      ]
     },
     "metadata": {},
     "output_type": "display_data"
    },
    {
     "data": {
      "application/javascript": [
       "\n",
       "(function(root) {\n",
       "  function now() {\n",
       "    return new Date();\n",
       "  }\n",
       "\n",
       "  var force = true;\n",
       "\n",
       "  if (typeof root._bokeh_onload_callbacks === \"undefined\" || force === true) {\n",
       "    root._bokeh_onload_callbacks = [];\n",
       "    root._bokeh_is_loading = undefined;\n",
       "  }\n",
       "\n",
       "  var JS_MIME_TYPE = 'application/javascript';\n",
       "  var HTML_MIME_TYPE = 'text/html';\n",
       "  var EXEC_MIME_TYPE = 'application/vnd.bokehjs_exec.v0+json';\n",
       "  var CLASS_NAME = 'output_bokeh rendered_html';\n",
       "\n",
       "  /**\n",
       "   * Render data to the DOM node\n",
       "   */\n",
       "  function render(props, node) {\n",
       "    var script = document.createElement(\"script\");\n",
       "    node.appendChild(script);\n",
       "  }\n",
       "\n",
       "  /**\n",
       "   * Handle when an output is cleared or removed\n",
       "   */\n",
       "  function handleClearOutput(event, handle) {\n",
       "    var cell = handle.cell;\n",
       "\n",
       "    var id = cell.output_area._bokeh_element_id;\n",
       "    var server_id = cell.output_area._bokeh_server_id;\n",
       "    // Clean up Bokeh references\n",
       "    if (id != null && id in Bokeh.index) {\n",
       "      Bokeh.index[id].model.document.clear();\n",
       "      delete Bokeh.index[id];\n",
       "    }\n",
       "\n",
       "    if (server_id !== undefined) {\n",
       "      // Clean up Bokeh references\n",
       "      var cmd = \"from bokeh.io.state import curstate; print(curstate().uuid_to_server['\" + server_id + \"'].get_sessions()[0].document.roots[0]._id)\";\n",
       "      cell.notebook.kernel.execute(cmd, {\n",
       "        iopub: {\n",
       "          output: function(msg) {\n",
       "            var id = msg.content.text.trim();\n",
       "            if (id in Bokeh.index) {\n",
       "              Bokeh.index[id].model.document.clear();\n",
       "              delete Bokeh.index[id];\n",
       "            }\n",
       "          }\n",
       "        }\n",
       "      });\n",
       "      // Destroy server and session\n",
       "      var cmd = \"import bokeh.io.notebook as ion; ion.destroy_server('\" + server_id + \"')\";\n",
       "      cell.notebook.kernel.execute(cmd);\n",
       "    }\n",
       "  }\n",
       "\n",
       "  /**\n",
       "   * Handle when a new output is added\n",
       "   */\n",
       "  function handleAddOutput(event, handle) {\n",
       "    var output_area = handle.output_area;\n",
       "    var output = handle.output;\n",
       "\n",
       "    // limit handleAddOutput to display_data with EXEC_MIME_TYPE content only\n",
       "    if ((output.output_type != \"display_data\") || (!output.data.hasOwnProperty(EXEC_MIME_TYPE))) {\n",
       "      return\n",
       "    }\n",
       "\n",
       "    var toinsert = output_area.element.find(\".\" + CLASS_NAME.split(' ')[0]);\n",
       "\n",
       "    if (output.metadata[EXEC_MIME_TYPE][\"id\"] !== undefined) {\n",
       "      toinsert[toinsert.length - 1].firstChild.textContent = output.data[JS_MIME_TYPE];\n",
       "      // store reference to embed id on output_area\n",
       "      output_area._bokeh_element_id = output.metadata[EXEC_MIME_TYPE][\"id\"];\n",
       "    }\n",
       "    if (output.metadata[EXEC_MIME_TYPE][\"server_id\"] !== undefined) {\n",
       "      var bk_div = document.createElement(\"div\");\n",
       "      bk_div.innerHTML = output.data[HTML_MIME_TYPE];\n",
       "      var script_attrs = bk_div.children[0].attributes;\n",
       "      for (var i = 0; i < script_attrs.length; i++) {\n",
       "        toinsert[toinsert.length - 1].firstChild.setAttribute(script_attrs[i].name, script_attrs[i].value);\n",
       "        toinsert[toinsert.length - 1].firstChild.textContent = bk_div.children[0].textContent\n",
       "      }\n",
       "      // store reference to server id on output_area\n",
       "      output_area._bokeh_server_id = output.metadata[EXEC_MIME_TYPE][\"server_id\"];\n",
       "    }\n",
       "  }\n",
       "\n",
       "  function register_renderer(events, OutputArea) {\n",
       "\n",
       "    function append_mime(data, metadata, element) {\n",
       "      // create a DOM node to render to\n",
       "      var toinsert = this.create_output_subarea(\n",
       "        metadata,\n",
       "        CLASS_NAME,\n",
       "        EXEC_MIME_TYPE\n",
       "      );\n",
       "      this.keyboard_manager.register_events(toinsert);\n",
       "      // Render to node\n",
       "      var props = {data: data, metadata: metadata[EXEC_MIME_TYPE]};\n",
       "      render(props, toinsert[toinsert.length - 1]);\n",
       "      element.append(toinsert);\n",
       "      return toinsert\n",
       "    }\n",
       "\n",
       "    /* Handle when an output is cleared or removed */\n",
       "    events.on('clear_output.CodeCell', handleClearOutput);\n",
       "    events.on('delete.Cell', handleClearOutput);\n",
       "\n",
       "    /* Handle when a new output is added */\n",
       "    events.on('output_added.OutputArea', handleAddOutput);\n",
       "\n",
       "    /**\n",
       "     * Register the mime type and append_mime function with output_area\n",
       "     */\n",
       "    OutputArea.prototype.register_mime_type(EXEC_MIME_TYPE, append_mime, {\n",
       "      /* Is output safe? */\n",
       "      safe: true,\n",
       "      /* Index of renderer in `output_area.display_order` */\n",
       "      index: 0\n",
       "    });\n",
       "  }\n",
       "\n",
       "  // register the mime type if in Jupyter Notebook environment and previously unregistered\n",
       "  if (root.Jupyter !== undefined) {\n",
       "    var events = require('base/js/events');\n",
       "    var OutputArea = require('notebook/js/outputarea').OutputArea;\n",
       "\n",
       "    if (OutputArea.prototype.mime_types().indexOf(EXEC_MIME_TYPE) == -1) {\n",
       "      register_renderer(events, OutputArea);\n",
       "    }\n",
       "  }\n",
       "\n",
       "  \n",
       "  if (typeof (root._bokeh_timeout) === \"undefined\" || force === true) {\n",
       "    root._bokeh_timeout = Date.now() + 5000;\n",
       "    root._bokeh_failed_load = false;\n",
       "  }\n",
       "\n",
       "  var NB_LOAD_WARNING = {'data': {'text/html':\n",
       "     \"<div style='background-color: #fdd'>\\n\"+\n",
       "     \"<p>\\n\"+\n",
       "     \"BokehJS does not appear to have successfully loaded. If loading BokehJS from CDN, this \\n\"+\n",
       "     \"may be due to a slow or bad network connection. Possible fixes:\\n\"+\n",
       "     \"</p>\\n\"+\n",
       "     \"<ul>\\n\"+\n",
       "     \"<li>re-rerun `output_notebook()` to attempt to load from CDN again, or</li>\\n\"+\n",
       "     \"<li>use INLINE resources instead, as so:</li>\\n\"+\n",
       "     \"</ul>\\n\"+\n",
       "     \"<code>\\n\"+\n",
       "     \"from bokeh.resources import INLINE\\n\"+\n",
       "     \"output_notebook(resources=INLINE)\\n\"+\n",
       "     \"</code>\\n\"+\n",
       "     \"</div>\"}};\n",
       "\n",
       "  function display_loaded() {\n",
       "    var el = document.getElementById(\"1001\");\n",
       "    if (el != null) {\n",
       "      el.textContent = \"BokehJS is loading...\";\n",
       "    }\n",
       "    if (root.Bokeh !== undefined) {\n",
       "      if (el != null) {\n",
       "        el.textContent = \"BokehJS \" + root.Bokeh.version + \" successfully loaded.\";\n",
       "      }\n",
       "    } else if (Date.now() < root._bokeh_timeout) {\n",
       "      setTimeout(display_loaded, 100)\n",
       "    }\n",
       "  }\n",
       "\n",
       "\n",
       "  function run_callbacks() {\n",
       "    try {\n",
       "      root._bokeh_onload_callbacks.forEach(function(callback) {\n",
       "        if (callback != null)\n",
       "          callback();\n",
       "      });\n",
       "    } finally {\n",
       "      delete root._bokeh_onload_callbacks\n",
       "    }\n",
       "    console.debug(\"Bokeh: all callbacks have finished\");\n",
       "  }\n",
       "\n",
       "  function load_libs(css_urls, js_urls, callback) {\n",
       "    if (css_urls == null) css_urls = [];\n",
       "    if (js_urls == null) js_urls = [];\n",
       "\n",
       "    root._bokeh_onload_callbacks.push(callback);\n",
       "    if (root._bokeh_is_loading > 0) {\n",
       "      console.debug(\"Bokeh: BokehJS is being loaded, scheduling callback at\", now());\n",
       "      return null;\n",
       "    }\n",
       "    if (js_urls == null || js_urls.length === 0) {\n",
       "      run_callbacks();\n",
       "      return null;\n",
       "    }\n",
       "    console.debug(\"Bokeh: BokehJS not loaded, scheduling load and callback at\", now());\n",
       "    root._bokeh_is_loading = css_urls.length + js_urls.length;\n",
       "\n",
       "    function on_load() {\n",
       "      root._bokeh_is_loading--;\n",
       "      if (root._bokeh_is_loading === 0) {\n",
       "        console.debug(\"Bokeh: all BokehJS libraries/stylesheets loaded\");\n",
       "        run_callbacks()\n",
       "      }\n",
       "    }\n",
       "\n",
       "    function on_error() {\n",
       "      console.error(\"failed to load \" + url);\n",
       "    }\n",
       "\n",
       "    for (var i = 0; i < css_urls.length; i++) {\n",
       "      var url = css_urls[i];\n",
       "      const element = document.createElement(\"link\");\n",
       "      element.onload = on_load;\n",
       "      element.onerror = on_error;\n",
       "      element.rel = \"stylesheet\";\n",
       "      element.type = \"text/css\";\n",
       "      element.href = url;\n",
       "      console.debug(\"Bokeh: injecting link tag for BokehJS stylesheet: \", url);\n",
       "      document.body.appendChild(element);\n",
       "    }\n",
       "\n",
       "    const hashes = {\"https://cdn.bokeh.org/bokeh/release/bokeh-2.1.1.min.js\": \"kLr4fYcqcSpbuI95brIH3vnnYCquzzSxHPU6XGQCIkQRGJwhg0StNbj1eegrHs12\", \"https://cdn.bokeh.org/bokeh/release/bokeh-widgets-2.1.1.min.js\": \"xIGPmVtaOm+z0BqfSOMn4lOR6ciex448GIKG4eE61LsAvmGj48XcMQZtKcE/UXZe\", \"https://cdn.bokeh.org/bokeh/release/bokeh-tables-2.1.1.min.js\": \"Dc9u1wF/0zApGIWoBbH77iWEHtdmkuYWG839Uzmv8y8yBLXebjO9ZnERsde5Ln/P\", \"https://cdn.bokeh.org/bokeh/release/bokeh-gl-2.1.1.min.js\": \"cT9JaBz7GiRXdENrJLZNSC6eMNF3nh3fa5fTF51Svp+ukxPdwcU5kGXGPBgDCa2j\"};\n",
       "\n",
       "    for (var i = 0; i < js_urls.length; i++) {\n",
       "      var url = js_urls[i];\n",
       "      var element = document.createElement('script');\n",
       "      element.onload = on_load;\n",
       "      element.onerror = on_error;\n",
       "      element.async = false;\n",
       "      element.src = url;\n",
       "      if (url in hashes) {\n",
       "        element.crossOrigin = \"anonymous\";\n",
       "        element.integrity = \"sha384-\" + hashes[url];\n",
       "      }\n",
       "      console.debug(\"Bokeh: injecting script tag for BokehJS library: \", url);\n",
       "      document.head.appendChild(element);\n",
       "    }\n",
       "  };\n",
       "\n",
       "  function inject_raw_css(css) {\n",
       "    const element = document.createElement(\"style\");\n",
       "    element.appendChild(document.createTextNode(css));\n",
       "    document.body.appendChild(element);\n",
       "  }\n",
       "\n",
       "  \n",
       "  var js_urls = [\"https://cdn.bokeh.org/bokeh/release/bokeh-2.1.1.min.js\", \"https://cdn.bokeh.org/bokeh/release/bokeh-widgets-2.1.1.min.js\", \"https://cdn.bokeh.org/bokeh/release/bokeh-tables-2.1.1.min.js\", \"https://cdn.bokeh.org/bokeh/release/bokeh-gl-2.1.1.min.js\"];\n",
       "  var css_urls = [];\n",
       "  \n",
       "\n",
       "  var inline_js = [\n",
       "    function(Bokeh) {\n",
       "      Bokeh.set_log_level(\"info\");\n",
       "    },\n",
       "    function(Bokeh) {\n",
       "    \n",
       "    \n",
       "    }\n",
       "  ];\n",
       "\n",
       "  function run_inline_js() {\n",
       "    \n",
       "    if (root.Bokeh !== undefined || force === true) {\n",
       "      \n",
       "    for (var i = 0; i < inline_js.length; i++) {\n",
       "      inline_js[i].call(root, root.Bokeh);\n",
       "    }\n",
       "    if (force === true) {\n",
       "        display_loaded();\n",
       "      }} else if (Date.now() < root._bokeh_timeout) {\n",
       "      setTimeout(run_inline_js, 100);\n",
       "    } else if (!root._bokeh_failed_load) {\n",
       "      console.log(\"Bokeh: BokehJS failed to load within specified timeout.\");\n",
       "      root._bokeh_failed_load = true;\n",
       "    } else if (force !== true) {\n",
       "      var cell = $(document.getElementById(\"1001\")).parents('.cell').data().cell;\n",
       "      cell.output_area.append_execute_result(NB_LOAD_WARNING)\n",
       "    }\n",
       "\n",
       "  }\n",
       "\n",
       "  if (root._bokeh_is_loading === 0) {\n",
       "    console.debug(\"Bokeh: BokehJS loaded, going straight to plotting\");\n",
       "    run_inline_js();\n",
       "  } else {\n",
       "    load_libs(css_urls, js_urls, function() {\n",
       "      console.debug(\"Bokeh: BokehJS plotting callback run at\", now());\n",
       "      run_inline_js();\n",
       "    });\n",
       "  }\n",
       "}(window));"
      ],
      "application/vnd.bokehjs_load.v0+json": "\n(function(root) {\n  function now() {\n    return new Date();\n  }\n\n  var force = true;\n\n  if (typeof root._bokeh_onload_callbacks === \"undefined\" || force === true) {\n    root._bokeh_onload_callbacks = [];\n    root._bokeh_is_loading = undefined;\n  }\n\n  \n\n  \n  if (typeof (root._bokeh_timeout) === \"undefined\" || force === true) {\n    root._bokeh_timeout = Date.now() + 5000;\n    root._bokeh_failed_load = false;\n  }\n\n  var NB_LOAD_WARNING = {'data': {'text/html':\n     \"<div style='background-color: #fdd'>\\n\"+\n     \"<p>\\n\"+\n     \"BokehJS does not appear to have successfully loaded. If loading BokehJS from CDN, this \\n\"+\n     \"may be due to a slow or bad network connection. Possible fixes:\\n\"+\n     \"</p>\\n\"+\n     \"<ul>\\n\"+\n     \"<li>re-rerun `output_notebook()` to attempt to load from CDN again, or</li>\\n\"+\n     \"<li>use INLINE resources instead, as so:</li>\\n\"+\n     \"</ul>\\n\"+\n     \"<code>\\n\"+\n     \"from bokeh.resources import INLINE\\n\"+\n     \"output_notebook(resources=INLINE)\\n\"+\n     \"</code>\\n\"+\n     \"</div>\"}};\n\n  function display_loaded() {\n    var el = document.getElementById(\"1001\");\n    if (el != null) {\n      el.textContent = \"BokehJS is loading...\";\n    }\n    if (root.Bokeh !== undefined) {\n      if (el != null) {\n        el.textContent = \"BokehJS \" + root.Bokeh.version + \" successfully loaded.\";\n      }\n    } else if (Date.now() < root._bokeh_timeout) {\n      setTimeout(display_loaded, 100)\n    }\n  }\n\n\n  function run_callbacks() {\n    try {\n      root._bokeh_onload_callbacks.forEach(function(callback) {\n        if (callback != null)\n          callback();\n      });\n    } finally {\n      delete root._bokeh_onload_callbacks\n    }\n    console.debug(\"Bokeh: all callbacks have finished\");\n  }\n\n  function load_libs(css_urls, js_urls, callback) {\n    if (css_urls == null) css_urls = [];\n    if (js_urls == null) js_urls = [];\n\n    root._bokeh_onload_callbacks.push(callback);\n    if (root._bokeh_is_loading > 0) {\n      console.debug(\"Bokeh: BokehJS is being loaded, scheduling callback at\", now());\n      return null;\n    }\n    if (js_urls == null || js_urls.length === 0) {\n      run_callbacks();\n      return null;\n    }\n    console.debug(\"Bokeh: BokehJS not loaded, scheduling load and callback at\", now());\n    root._bokeh_is_loading = css_urls.length + js_urls.length;\n\n    function on_load() {\n      root._bokeh_is_loading--;\n      if (root._bokeh_is_loading === 0) {\n        console.debug(\"Bokeh: all BokehJS libraries/stylesheets loaded\");\n        run_callbacks()\n      }\n    }\n\n    function on_error() {\n      console.error(\"failed to load \" + url);\n    }\n\n    for (var i = 0; i < css_urls.length; i++) {\n      var url = css_urls[i];\n      const element = document.createElement(\"link\");\n      element.onload = on_load;\n      element.onerror = on_error;\n      element.rel = \"stylesheet\";\n      element.type = \"text/css\";\n      element.href = url;\n      console.debug(\"Bokeh: injecting link tag for BokehJS stylesheet: \", url);\n      document.body.appendChild(element);\n    }\n\n    const hashes = {\"https://cdn.bokeh.org/bokeh/release/bokeh-2.1.1.min.js\": \"kLr4fYcqcSpbuI95brIH3vnnYCquzzSxHPU6XGQCIkQRGJwhg0StNbj1eegrHs12\", \"https://cdn.bokeh.org/bokeh/release/bokeh-widgets-2.1.1.min.js\": \"xIGPmVtaOm+z0BqfSOMn4lOR6ciex448GIKG4eE61LsAvmGj48XcMQZtKcE/UXZe\", \"https://cdn.bokeh.org/bokeh/release/bokeh-tables-2.1.1.min.js\": \"Dc9u1wF/0zApGIWoBbH77iWEHtdmkuYWG839Uzmv8y8yBLXebjO9ZnERsde5Ln/P\", \"https://cdn.bokeh.org/bokeh/release/bokeh-gl-2.1.1.min.js\": \"cT9JaBz7GiRXdENrJLZNSC6eMNF3nh3fa5fTF51Svp+ukxPdwcU5kGXGPBgDCa2j\"};\n\n    for (var i = 0; i < js_urls.length; i++) {\n      var url = js_urls[i];\n      var element = document.createElement('script');\n      element.onload = on_load;\n      element.onerror = on_error;\n      element.async = false;\n      element.src = url;\n      if (url in hashes) {\n        element.crossOrigin = \"anonymous\";\n        element.integrity = \"sha384-\" + hashes[url];\n      }\n      console.debug(\"Bokeh: injecting script tag for BokehJS library: \", url);\n      document.head.appendChild(element);\n    }\n  };\n\n  function inject_raw_css(css) {\n    const element = document.createElement(\"style\");\n    element.appendChild(document.createTextNode(css));\n    document.body.appendChild(element);\n  }\n\n  \n  var js_urls = [\"https://cdn.bokeh.org/bokeh/release/bokeh-2.1.1.min.js\", \"https://cdn.bokeh.org/bokeh/release/bokeh-widgets-2.1.1.min.js\", \"https://cdn.bokeh.org/bokeh/release/bokeh-tables-2.1.1.min.js\", \"https://cdn.bokeh.org/bokeh/release/bokeh-gl-2.1.1.min.js\"];\n  var css_urls = [];\n  \n\n  var inline_js = [\n    function(Bokeh) {\n      Bokeh.set_log_level(\"info\");\n    },\n    function(Bokeh) {\n    \n    \n    }\n  ];\n\n  function run_inline_js() {\n    \n    if (root.Bokeh !== undefined || force === true) {\n      \n    for (var i = 0; i < inline_js.length; i++) {\n      inline_js[i].call(root, root.Bokeh);\n    }\n    if (force === true) {\n        display_loaded();\n      }} else if (Date.now() < root._bokeh_timeout) {\n      setTimeout(run_inline_js, 100);\n    } else if (!root._bokeh_failed_load) {\n      console.log(\"Bokeh: BokehJS failed to load within specified timeout.\");\n      root._bokeh_failed_load = true;\n    } else if (force !== true) {\n      var cell = $(document.getElementById(\"1001\")).parents('.cell').data().cell;\n      cell.output_area.append_execute_result(NB_LOAD_WARNING)\n    }\n\n  }\n\n  if (root._bokeh_is_loading === 0) {\n    console.debug(\"Bokeh: BokehJS loaded, going straight to plotting\");\n    run_inline_js();\n  } else {\n    load_libs(css_urls, js_urls, function() {\n      console.debug(\"Bokeh: BokehJS plotting callback run at\", now());\n      run_inline_js();\n    });\n  }\n}(window));"
     },
     "metadata": {},
     "output_type": "display_data"
    }
   ],
   "source": [
    "import bokeh\n",
    "from bokeh.io import output_notebook\n",
    "from bokeh.plotting import figure, show\n",
    "output_notebook()\n",
    "from bokeh.palettes import Dark2\n",
    "bokeh.io.curdoc().theme = 'dark_minimal'\n",
    "palette = Dark2[8]*10"
   ]
  },
  {
   "cell_type": "code",
   "execution_count": 9,
   "metadata": {},
   "outputs": [],
   "source": [
    "palette = Dark2[8]*10\n",
    "colors = itertools.cycle(palette)"
   ]
  },
  {
   "cell_type": "code",
   "execution_count": 10,
   "metadata": {},
   "outputs": [
    {
     "data": {
      "text/html": [
       "\n",
       "    <div class=\"bk-root\">\n",
       "        <a href=\"https://bokeh.org\" target=\"_blank\" class=\"bk-logo bk-logo-small bk-logo-notebook\"></a>\n",
       "        <span id=\"1002\">Loading BokehJS ...</span>\n",
       "    </div>"
      ]
     },
     "metadata": {},
     "output_type": "display_data"
    },
    {
     "data": {
      "application/javascript": [
       "\n",
       "(function(root) {\n",
       "  function now() {\n",
       "    return new Date();\n",
       "  }\n",
       "\n",
       "  var force = true;\n",
       "\n",
       "  if (typeof root._bokeh_onload_callbacks === \"undefined\" || force === true) {\n",
       "    root._bokeh_onload_callbacks = [];\n",
       "    root._bokeh_is_loading = undefined;\n",
       "  }\n",
       "\n",
       "  var JS_MIME_TYPE = 'application/javascript';\n",
       "  var HTML_MIME_TYPE = 'text/html';\n",
       "  var EXEC_MIME_TYPE = 'application/vnd.bokehjs_exec.v0+json';\n",
       "  var CLASS_NAME = 'output_bokeh rendered_html';\n",
       "\n",
       "  /**\n",
       "   * Render data to the DOM node\n",
       "   */\n",
       "  function render(props, node) {\n",
       "    var script = document.createElement(\"script\");\n",
       "    node.appendChild(script);\n",
       "  }\n",
       "\n",
       "  /**\n",
       "   * Handle when an output is cleared or removed\n",
       "   */\n",
       "  function handleClearOutput(event, handle) {\n",
       "    var cell = handle.cell;\n",
       "\n",
       "    var id = cell.output_area._bokeh_element_id;\n",
       "    var server_id = cell.output_area._bokeh_server_id;\n",
       "    // Clean up Bokeh references\n",
       "    if (id != null && id in Bokeh.index) {\n",
       "      Bokeh.index[id].model.document.clear();\n",
       "      delete Bokeh.index[id];\n",
       "    }\n",
       "\n",
       "    if (server_id !== undefined) {\n",
       "      // Clean up Bokeh references\n",
       "      var cmd = \"from bokeh.io.state import curstate; print(curstate().uuid_to_server['\" + server_id + \"'].get_sessions()[0].document.roots[0]._id)\";\n",
       "      cell.notebook.kernel.execute(cmd, {\n",
       "        iopub: {\n",
       "          output: function(msg) {\n",
       "            var id = msg.content.text.trim();\n",
       "            if (id in Bokeh.index) {\n",
       "              Bokeh.index[id].model.document.clear();\n",
       "              delete Bokeh.index[id];\n",
       "            }\n",
       "          }\n",
       "        }\n",
       "      });\n",
       "      // Destroy server and session\n",
       "      var cmd = \"import bokeh.io.notebook as ion; ion.destroy_server('\" + server_id + \"')\";\n",
       "      cell.notebook.kernel.execute(cmd);\n",
       "    }\n",
       "  }\n",
       "\n",
       "  /**\n",
       "   * Handle when a new output is added\n",
       "   */\n",
       "  function handleAddOutput(event, handle) {\n",
       "    var output_area = handle.output_area;\n",
       "    var output = handle.output;\n",
       "\n",
       "    // limit handleAddOutput to display_data with EXEC_MIME_TYPE content only\n",
       "    if ((output.output_type != \"display_data\") || (!output.data.hasOwnProperty(EXEC_MIME_TYPE))) {\n",
       "      return\n",
       "    }\n",
       "\n",
       "    var toinsert = output_area.element.find(\".\" + CLASS_NAME.split(' ')[0]);\n",
       "\n",
       "    if (output.metadata[EXEC_MIME_TYPE][\"id\"] !== undefined) {\n",
       "      toinsert[toinsert.length - 1].firstChild.textContent = output.data[JS_MIME_TYPE];\n",
       "      // store reference to embed id on output_area\n",
       "      output_area._bokeh_element_id = output.metadata[EXEC_MIME_TYPE][\"id\"];\n",
       "    }\n",
       "    if (output.metadata[EXEC_MIME_TYPE][\"server_id\"] !== undefined) {\n",
       "      var bk_div = document.createElement(\"div\");\n",
       "      bk_div.innerHTML = output.data[HTML_MIME_TYPE];\n",
       "      var script_attrs = bk_div.children[0].attributes;\n",
       "      for (var i = 0; i < script_attrs.length; i++) {\n",
       "        toinsert[toinsert.length - 1].firstChild.setAttribute(script_attrs[i].name, script_attrs[i].value);\n",
       "        toinsert[toinsert.length - 1].firstChild.textContent = bk_div.children[0].textContent\n",
       "      }\n",
       "      // store reference to server id on output_area\n",
       "      output_area._bokeh_server_id = output.metadata[EXEC_MIME_TYPE][\"server_id\"];\n",
       "    }\n",
       "  }\n",
       "\n",
       "  function register_renderer(events, OutputArea) {\n",
       "\n",
       "    function append_mime(data, metadata, element) {\n",
       "      // create a DOM node to render to\n",
       "      var toinsert = this.create_output_subarea(\n",
       "        metadata,\n",
       "        CLASS_NAME,\n",
       "        EXEC_MIME_TYPE\n",
       "      );\n",
       "      this.keyboard_manager.register_events(toinsert);\n",
       "      // Render to node\n",
       "      var props = {data: data, metadata: metadata[EXEC_MIME_TYPE]};\n",
       "      render(props, toinsert[toinsert.length - 1]);\n",
       "      element.append(toinsert);\n",
       "      return toinsert\n",
       "    }\n",
       "\n",
       "    /* Handle when an output is cleared or removed */\n",
       "    events.on('clear_output.CodeCell', handleClearOutput);\n",
       "    events.on('delete.Cell', handleClearOutput);\n",
       "\n",
       "    /* Handle when a new output is added */\n",
       "    events.on('output_added.OutputArea', handleAddOutput);\n",
       "\n",
       "    /**\n",
       "     * Register the mime type and append_mime function with output_area\n",
       "     */\n",
       "    OutputArea.prototype.register_mime_type(EXEC_MIME_TYPE, append_mime, {\n",
       "      /* Is output safe? */\n",
       "      safe: true,\n",
       "      /* Index of renderer in `output_area.display_order` */\n",
       "      index: 0\n",
       "    });\n",
       "  }\n",
       "\n",
       "  // register the mime type if in Jupyter Notebook environment and previously unregistered\n",
       "  if (root.Jupyter !== undefined) {\n",
       "    var events = require('base/js/events');\n",
       "    var OutputArea = require('notebook/js/outputarea').OutputArea;\n",
       "\n",
       "    if (OutputArea.prototype.mime_types().indexOf(EXEC_MIME_TYPE) == -1) {\n",
       "      register_renderer(events, OutputArea);\n",
       "    }\n",
       "  }\n",
       "\n",
       "  \n",
       "  if (typeof (root._bokeh_timeout) === \"undefined\" || force === true) {\n",
       "    root._bokeh_timeout = Date.now() + 5000;\n",
       "    root._bokeh_failed_load = false;\n",
       "  }\n",
       "\n",
       "  var NB_LOAD_WARNING = {'data': {'text/html':\n",
       "     \"<div style='background-color: #fdd'>\\n\"+\n",
       "     \"<p>\\n\"+\n",
       "     \"BokehJS does not appear to have successfully loaded. If loading BokehJS from CDN, this \\n\"+\n",
       "     \"may be due to a slow or bad network connection. Possible fixes:\\n\"+\n",
       "     \"</p>\\n\"+\n",
       "     \"<ul>\\n\"+\n",
       "     \"<li>re-rerun `output_notebook()` to attempt to load from CDN again, or</li>\\n\"+\n",
       "     \"<li>use INLINE resources instead, as so:</li>\\n\"+\n",
       "     \"</ul>\\n\"+\n",
       "     \"<code>\\n\"+\n",
       "     \"from bokeh.resources import INLINE\\n\"+\n",
       "     \"output_notebook(resources=INLINE)\\n\"+\n",
       "     \"</code>\\n\"+\n",
       "     \"</div>\"}};\n",
       "\n",
       "  function display_loaded() {\n",
       "    var el = document.getElementById(\"1002\");\n",
       "    if (el != null) {\n",
       "      el.textContent = \"BokehJS is loading...\";\n",
       "    }\n",
       "    if (root.Bokeh !== undefined) {\n",
       "      if (el != null) {\n",
       "        el.textContent = \"BokehJS \" + root.Bokeh.version + \" successfully loaded.\";\n",
       "      }\n",
       "    } else if (Date.now() < root._bokeh_timeout) {\n",
       "      setTimeout(display_loaded, 100)\n",
       "    }\n",
       "  }\n",
       "\n",
       "\n",
       "  function run_callbacks() {\n",
       "    try {\n",
       "      root._bokeh_onload_callbacks.forEach(function(callback) {\n",
       "        if (callback != null)\n",
       "          callback();\n",
       "      });\n",
       "    } finally {\n",
       "      delete root._bokeh_onload_callbacks\n",
       "    }\n",
       "    console.debug(\"Bokeh: all callbacks have finished\");\n",
       "  }\n",
       "\n",
       "  function load_libs(css_urls, js_urls, callback) {\n",
       "    if (css_urls == null) css_urls = [];\n",
       "    if (js_urls == null) js_urls = [];\n",
       "\n",
       "    root._bokeh_onload_callbacks.push(callback);\n",
       "    if (root._bokeh_is_loading > 0) {\n",
       "      console.debug(\"Bokeh: BokehJS is being loaded, scheduling callback at\", now());\n",
       "      return null;\n",
       "    }\n",
       "    if (js_urls == null || js_urls.length === 0) {\n",
       "      run_callbacks();\n",
       "      return null;\n",
       "    }\n",
       "    console.debug(\"Bokeh: BokehJS not loaded, scheduling load and callback at\", now());\n",
       "    root._bokeh_is_loading = css_urls.length + js_urls.length;\n",
       "\n",
       "    function on_load() {\n",
       "      root._bokeh_is_loading--;\n",
       "      if (root._bokeh_is_loading === 0) {\n",
       "        console.debug(\"Bokeh: all BokehJS libraries/stylesheets loaded\");\n",
       "        run_callbacks()\n",
       "      }\n",
       "    }\n",
       "\n",
       "    function on_error() {\n",
       "      console.error(\"failed to load \" + url);\n",
       "    }\n",
       "\n",
       "    for (var i = 0; i < css_urls.length; i++) {\n",
       "      var url = css_urls[i];\n",
       "      const element = document.createElement(\"link\");\n",
       "      element.onload = on_load;\n",
       "      element.onerror = on_error;\n",
       "      element.rel = \"stylesheet\";\n",
       "      element.type = \"text/css\";\n",
       "      element.href = url;\n",
       "      console.debug(\"Bokeh: injecting link tag for BokehJS stylesheet: \", url);\n",
       "      document.body.appendChild(element);\n",
       "    }\n",
       "\n",
       "    const hashes = {\"https://cdn.bokeh.org/bokeh/release/bokeh-2.1.1.min.js\": \"kLr4fYcqcSpbuI95brIH3vnnYCquzzSxHPU6XGQCIkQRGJwhg0StNbj1eegrHs12\", \"https://cdn.bokeh.org/bokeh/release/bokeh-widgets-2.1.1.min.js\": \"xIGPmVtaOm+z0BqfSOMn4lOR6ciex448GIKG4eE61LsAvmGj48XcMQZtKcE/UXZe\", \"https://cdn.bokeh.org/bokeh/release/bokeh-tables-2.1.1.min.js\": \"Dc9u1wF/0zApGIWoBbH77iWEHtdmkuYWG839Uzmv8y8yBLXebjO9ZnERsde5Ln/P\", \"https://cdn.bokeh.org/bokeh/release/bokeh-gl-2.1.1.min.js\": \"cT9JaBz7GiRXdENrJLZNSC6eMNF3nh3fa5fTF51Svp+ukxPdwcU5kGXGPBgDCa2j\"};\n",
       "\n",
       "    for (var i = 0; i < js_urls.length; i++) {\n",
       "      var url = js_urls[i];\n",
       "      var element = document.createElement('script');\n",
       "      element.onload = on_load;\n",
       "      element.onerror = on_error;\n",
       "      element.async = false;\n",
       "      element.src = url;\n",
       "      if (url in hashes) {\n",
       "        element.crossOrigin = \"anonymous\";\n",
       "        element.integrity = \"sha384-\" + hashes[url];\n",
       "      }\n",
       "      console.debug(\"Bokeh: injecting script tag for BokehJS library: \", url);\n",
       "      document.head.appendChild(element);\n",
       "    }\n",
       "  };\n",
       "\n",
       "  function inject_raw_css(css) {\n",
       "    const element = document.createElement(\"style\");\n",
       "    element.appendChild(document.createTextNode(css));\n",
       "    document.body.appendChild(element);\n",
       "  }\n",
       "\n",
       "  \n",
       "  var js_urls = [\"https://cdn.bokeh.org/bokeh/release/bokeh-2.1.1.min.js\", \"https://cdn.bokeh.org/bokeh/release/bokeh-widgets-2.1.1.min.js\", \"https://cdn.bokeh.org/bokeh/release/bokeh-tables-2.1.1.min.js\", \"https://cdn.bokeh.org/bokeh/release/bokeh-gl-2.1.1.min.js\"];\n",
       "  var css_urls = [];\n",
       "  \n",
       "\n",
       "  var inline_js = [\n",
       "    function(Bokeh) {\n",
       "      Bokeh.set_log_level(\"info\");\n",
       "    },\n",
       "    function(Bokeh) {\n",
       "    \n",
       "    \n",
       "    }\n",
       "  ];\n",
       "\n",
       "  function run_inline_js() {\n",
       "    \n",
       "    if (root.Bokeh !== undefined || force === true) {\n",
       "      \n",
       "    for (var i = 0; i < inline_js.length; i++) {\n",
       "      inline_js[i].call(root, root.Bokeh);\n",
       "    }\n",
       "    if (force === true) {\n",
       "        display_loaded();\n",
       "      }} else if (Date.now() < root._bokeh_timeout) {\n",
       "      setTimeout(run_inline_js, 100);\n",
       "    } else if (!root._bokeh_failed_load) {\n",
       "      console.log(\"Bokeh: BokehJS failed to load within specified timeout.\");\n",
       "      root._bokeh_failed_load = true;\n",
       "    } else if (force !== true) {\n",
       "      var cell = $(document.getElementById(\"1002\")).parents('.cell').data().cell;\n",
       "      cell.output_area.append_execute_result(NB_LOAD_WARNING)\n",
       "    }\n",
       "\n",
       "  }\n",
       "\n",
       "  if (root._bokeh_is_loading === 0) {\n",
       "    console.debug(\"Bokeh: BokehJS loaded, going straight to plotting\");\n",
       "    run_inline_js();\n",
       "  } else {\n",
       "    load_libs(css_urls, js_urls, function() {\n",
       "      console.debug(\"Bokeh: BokehJS plotting callback run at\", now());\n",
       "      run_inline_js();\n",
       "    });\n",
       "  }\n",
       "}(window));"
      ],
      "application/vnd.bokehjs_load.v0+json": "\n(function(root) {\n  function now() {\n    return new Date();\n  }\n\n  var force = true;\n\n  if (typeof root._bokeh_onload_callbacks === \"undefined\" || force === true) {\n    root._bokeh_onload_callbacks = [];\n    root._bokeh_is_loading = undefined;\n  }\n\n  \n\n  \n  if (typeof (root._bokeh_timeout) === \"undefined\" || force === true) {\n    root._bokeh_timeout = Date.now() + 5000;\n    root._bokeh_failed_load = false;\n  }\n\n  var NB_LOAD_WARNING = {'data': {'text/html':\n     \"<div style='background-color: #fdd'>\\n\"+\n     \"<p>\\n\"+\n     \"BokehJS does not appear to have successfully loaded. If loading BokehJS from CDN, this \\n\"+\n     \"may be due to a slow or bad network connection. Possible fixes:\\n\"+\n     \"</p>\\n\"+\n     \"<ul>\\n\"+\n     \"<li>re-rerun `output_notebook()` to attempt to load from CDN again, or</li>\\n\"+\n     \"<li>use INLINE resources instead, as so:</li>\\n\"+\n     \"</ul>\\n\"+\n     \"<code>\\n\"+\n     \"from bokeh.resources import INLINE\\n\"+\n     \"output_notebook(resources=INLINE)\\n\"+\n     \"</code>\\n\"+\n     \"</div>\"}};\n\n  function display_loaded() {\n    var el = document.getElementById(\"1002\");\n    if (el != null) {\n      el.textContent = \"BokehJS is loading...\";\n    }\n    if (root.Bokeh !== undefined) {\n      if (el != null) {\n        el.textContent = \"BokehJS \" + root.Bokeh.version + \" successfully loaded.\";\n      }\n    } else if (Date.now() < root._bokeh_timeout) {\n      setTimeout(display_loaded, 100)\n    }\n  }\n\n\n  function run_callbacks() {\n    try {\n      root._bokeh_onload_callbacks.forEach(function(callback) {\n        if (callback != null)\n          callback();\n      });\n    } finally {\n      delete root._bokeh_onload_callbacks\n    }\n    console.debug(\"Bokeh: all callbacks have finished\");\n  }\n\n  function load_libs(css_urls, js_urls, callback) {\n    if (css_urls == null) css_urls = [];\n    if (js_urls == null) js_urls = [];\n\n    root._bokeh_onload_callbacks.push(callback);\n    if (root._bokeh_is_loading > 0) {\n      console.debug(\"Bokeh: BokehJS is being loaded, scheduling callback at\", now());\n      return null;\n    }\n    if (js_urls == null || js_urls.length === 0) {\n      run_callbacks();\n      return null;\n    }\n    console.debug(\"Bokeh: BokehJS not loaded, scheduling load and callback at\", now());\n    root._bokeh_is_loading = css_urls.length + js_urls.length;\n\n    function on_load() {\n      root._bokeh_is_loading--;\n      if (root._bokeh_is_loading === 0) {\n        console.debug(\"Bokeh: all BokehJS libraries/stylesheets loaded\");\n        run_callbacks()\n      }\n    }\n\n    function on_error() {\n      console.error(\"failed to load \" + url);\n    }\n\n    for (var i = 0; i < css_urls.length; i++) {\n      var url = css_urls[i];\n      const element = document.createElement(\"link\");\n      element.onload = on_load;\n      element.onerror = on_error;\n      element.rel = \"stylesheet\";\n      element.type = \"text/css\";\n      element.href = url;\n      console.debug(\"Bokeh: injecting link tag for BokehJS stylesheet: \", url);\n      document.body.appendChild(element);\n    }\n\n    const hashes = {\"https://cdn.bokeh.org/bokeh/release/bokeh-2.1.1.min.js\": \"kLr4fYcqcSpbuI95brIH3vnnYCquzzSxHPU6XGQCIkQRGJwhg0StNbj1eegrHs12\", \"https://cdn.bokeh.org/bokeh/release/bokeh-widgets-2.1.1.min.js\": \"xIGPmVtaOm+z0BqfSOMn4lOR6ciex448GIKG4eE61LsAvmGj48XcMQZtKcE/UXZe\", \"https://cdn.bokeh.org/bokeh/release/bokeh-tables-2.1.1.min.js\": \"Dc9u1wF/0zApGIWoBbH77iWEHtdmkuYWG839Uzmv8y8yBLXebjO9ZnERsde5Ln/P\", \"https://cdn.bokeh.org/bokeh/release/bokeh-gl-2.1.1.min.js\": \"cT9JaBz7GiRXdENrJLZNSC6eMNF3nh3fa5fTF51Svp+ukxPdwcU5kGXGPBgDCa2j\"};\n\n    for (var i = 0; i < js_urls.length; i++) {\n      var url = js_urls[i];\n      var element = document.createElement('script');\n      element.onload = on_load;\n      element.onerror = on_error;\n      element.async = false;\n      element.src = url;\n      if (url in hashes) {\n        element.crossOrigin = \"anonymous\";\n        element.integrity = \"sha384-\" + hashes[url];\n      }\n      console.debug(\"Bokeh: injecting script tag for BokehJS library: \", url);\n      document.head.appendChild(element);\n    }\n  };\n\n  function inject_raw_css(css) {\n    const element = document.createElement(\"style\");\n    element.appendChild(document.createTextNode(css));\n    document.body.appendChild(element);\n  }\n\n  \n  var js_urls = [\"https://cdn.bokeh.org/bokeh/release/bokeh-2.1.1.min.js\", \"https://cdn.bokeh.org/bokeh/release/bokeh-widgets-2.1.1.min.js\", \"https://cdn.bokeh.org/bokeh/release/bokeh-tables-2.1.1.min.js\", \"https://cdn.bokeh.org/bokeh/release/bokeh-gl-2.1.1.min.js\"];\n  var css_urls = [];\n  \n\n  var inline_js = [\n    function(Bokeh) {\n      Bokeh.set_log_level(\"info\");\n    },\n    function(Bokeh) {\n    \n    \n    }\n  ];\n\n  function run_inline_js() {\n    \n    if (root.Bokeh !== undefined || force === true) {\n      \n    for (var i = 0; i < inline_js.length; i++) {\n      inline_js[i].call(root, root.Bokeh);\n    }\n    if (force === true) {\n        display_loaded();\n      }} else if (Date.now() < root._bokeh_timeout) {\n      setTimeout(run_inline_js, 100);\n    } else if (!root._bokeh_failed_load) {\n      console.log(\"Bokeh: BokehJS failed to load within specified timeout.\");\n      root._bokeh_failed_load = true;\n    } else if (force !== true) {\n      var cell = $(document.getElementById(\"1002\")).parents('.cell').data().cell;\n      cell.output_area.append_execute_result(NB_LOAD_WARNING)\n    }\n\n  }\n\n  if (root._bokeh_is_loading === 0) {\n    console.debug(\"Bokeh: BokehJS loaded, going straight to plotting\");\n    run_inline_js();\n  } else {\n    load_libs(css_urls, js_urls, function() {\n      console.debug(\"Bokeh: BokehJS plotting callback run at\", now());\n      run_inline_js();\n    });\n  }\n}(window));"
     },
     "metadata": {},
     "output_type": "display_data"
    }
   ],
   "source": [
    "from UtilityMath import plotComplexArray"
   ]
  },
  {
   "cell_type": "code",
   "execution_count": 11,
   "metadata": {},
   "outputs": [],
   "source": [
    "import skrf as rf"
   ]
  },
  {
   "cell_type": "code",
   "execution_count": 12,
   "metadata": {},
   "outputs": [],
   "source": [
    "from scipy.optimize import minimize"
   ]
  },
  {
   "cell_type": "markdown",
   "metadata": {},
   "source": [
    "### Custom Imports"
   ]
  },
  {
   "cell_type": "code",
   "execution_count": 13,
   "metadata": {},
   "outputs": [],
   "source": [
    "from NetworkBuilding import (BuildMillerNetwork, BuildNewNetwork,\n",
    "                             MillerMultLocsX, MillerCoupLocsX, NewMultLocs,\n",
    "                             ConvertThetaPhiToTcX, \n",
    "                             Build3dBCoupler, Build5PortSplitter)"
   ]
  },
  {
   "cell_type": "code",
   "execution_count": 14,
   "metadata": {},
   "outputs": [
    {
     "name": "stdout",
     "output_type": "stream",
     "text": [
      "The autoreload extension is already loaded. To reload it, use:\n",
      "  %reload_ext autoreload\n"
     ]
    },
    {
     "data": {
      "text/html": [
       "\n",
       "    <div class=\"bk-root\">\n",
       "        <a href=\"https://bokeh.org\" target=\"_blank\" class=\"bk-logo bk-logo-small bk-logo-notebook\"></a>\n",
       "        <span id=\"1145\">Loading BokehJS ...</span>\n",
       "    </div>"
      ]
     },
     "metadata": {},
     "output_type": "display_data"
    },
    {
     "data": {
      "application/javascript": [
       "\n",
       "(function(root) {\n",
       "  function now() {\n",
       "    return new Date();\n",
       "  }\n",
       "\n",
       "  var force = true;\n",
       "\n",
       "  if (typeof root._bokeh_onload_callbacks === \"undefined\" || force === true) {\n",
       "    root._bokeh_onload_callbacks = [];\n",
       "    root._bokeh_is_loading = undefined;\n",
       "  }\n",
       "\n",
       "  var JS_MIME_TYPE = 'application/javascript';\n",
       "  var HTML_MIME_TYPE = 'text/html';\n",
       "  var EXEC_MIME_TYPE = 'application/vnd.bokehjs_exec.v0+json';\n",
       "  var CLASS_NAME = 'output_bokeh rendered_html';\n",
       "\n",
       "  /**\n",
       "   * Render data to the DOM node\n",
       "   */\n",
       "  function render(props, node) {\n",
       "    var script = document.createElement(\"script\");\n",
       "    node.appendChild(script);\n",
       "  }\n",
       "\n",
       "  /**\n",
       "   * Handle when an output is cleared or removed\n",
       "   */\n",
       "  function handleClearOutput(event, handle) {\n",
       "    var cell = handle.cell;\n",
       "\n",
       "    var id = cell.output_area._bokeh_element_id;\n",
       "    var server_id = cell.output_area._bokeh_server_id;\n",
       "    // Clean up Bokeh references\n",
       "    if (id != null && id in Bokeh.index) {\n",
       "      Bokeh.index[id].model.document.clear();\n",
       "      delete Bokeh.index[id];\n",
       "    }\n",
       "\n",
       "    if (server_id !== undefined) {\n",
       "      // Clean up Bokeh references\n",
       "      var cmd = \"from bokeh.io.state import curstate; print(curstate().uuid_to_server['\" + server_id + \"'].get_sessions()[0].document.roots[0]._id)\";\n",
       "      cell.notebook.kernel.execute(cmd, {\n",
       "        iopub: {\n",
       "          output: function(msg) {\n",
       "            var id = msg.content.text.trim();\n",
       "            if (id in Bokeh.index) {\n",
       "              Bokeh.index[id].model.document.clear();\n",
       "              delete Bokeh.index[id];\n",
       "            }\n",
       "          }\n",
       "        }\n",
       "      });\n",
       "      // Destroy server and session\n",
       "      var cmd = \"import bokeh.io.notebook as ion; ion.destroy_server('\" + server_id + \"')\";\n",
       "      cell.notebook.kernel.execute(cmd);\n",
       "    }\n",
       "  }\n",
       "\n",
       "  /**\n",
       "   * Handle when a new output is added\n",
       "   */\n",
       "  function handleAddOutput(event, handle) {\n",
       "    var output_area = handle.output_area;\n",
       "    var output = handle.output;\n",
       "\n",
       "    // limit handleAddOutput to display_data with EXEC_MIME_TYPE content only\n",
       "    if ((output.output_type != \"display_data\") || (!output.data.hasOwnProperty(EXEC_MIME_TYPE))) {\n",
       "      return\n",
       "    }\n",
       "\n",
       "    var toinsert = output_area.element.find(\".\" + CLASS_NAME.split(' ')[0]);\n",
       "\n",
       "    if (output.metadata[EXEC_MIME_TYPE][\"id\"] !== undefined) {\n",
       "      toinsert[toinsert.length - 1].firstChild.textContent = output.data[JS_MIME_TYPE];\n",
       "      // store reference to embed id on output_area\n",
       "      output_area._bokeh_element_id = output.metadata[EXEC_MIME_TYPE][\"id\"];\n",
       "    }\n",
       "    if (output.metadata[EXEC_MIME_TYPE][\"server_id\"] !== undefined) {\n",
       "      var bk_div = document.createElement(\"div\");\n",
       "      bk_div.innerHTML = output.data[HTML_MIME_TYPE];\n",
       "      var script_attrs = bk_div.children[0].attributes;\n",
       "      for (var i = 0; i < script_attrs.length; i++) {\n",
       "        toinsert[toinsert.length - 1].firstChild.setAttribute(script_attrs[i].name, script_attrs[i].value);\n",
       "        toinsert[toinsert.length - 1].firstChild.textContent = bk_div.children[0].textContent\n",
       "      }\n",
       "      // store reference to server id on output_area\n",
       "      output_area._bokeh_server_id = output.metadata[EXEC_MIME_TYPE][\"server_id\"];\n",
       "    }\n",
       "  }\n",
       "\n",
       "  function register_renderer(events, OutputArea) {\n",
       "\n",
       "    function append_mime(data, metadata, element) {\n",
       "      // create a DOM node to render to\n",
       "      var toinsert = this.create_output_subarea(\n",
       "        metadata,\n",
       "        CLASS_NAME,\n",
       "        EXEC_MIME_TYPE\n",
       "      );\n",
       "      this.keyboard_manager.register_events(toinsert);\n",
       "      // Render to node\n",
       "      var props = {data: data, metadata: metadata[EXEC_MIME_TYPE]};\n",
       "      render(props, toinsert[toinsert.length - 1]);\n",
       "      element.append(toinsert);\n",
       "      return toinsert\n",
       "    }\n",
       "\n",
       "    /* Handle when an output is cleared or removed */\n",
       "    events.on('clear_output.CodeCell', handleClearOutput);\n",
       "    events.on('delete.Cell', handleClearOutput);\n",
       "\n",
       "    /* Handle when a new output is added */\n",
       "    events.on('output_added.OutputArea', handleAddOutput);\n",
       "\n",
       "    /**\n",
       "     * Register the mime type and append_mime function with output_area\n",
       "     */\n",
       "    OutputArea.prototype.register_mime_type(EXEC_MIME_TYPE, append_mime, {\n",
       "      /* Is output safe? */\n",
       "      safe: true,\n",
       "      /* Index of renderer in `output_area.display_order` */\n",
       "      index: 0\n",
       "    });\n",
       "  }\n",
       "\n",
       "  // register the mime type if in Jupyter Notebook environment and previously unregistered\n",
       "  if (root.Jupyter !== undefined) {\n",
       "    var events = require('base/js/events');\n",
       "    var OutputArea = require('notebook/js/outputarea').OutputArea;\n",
       "\n",
       "    if (OutputArea.prototype.mime_types().indexOf(EXEC_MIME_TYPE) == -1) {\n",
       "      register_renderer(events, OutputArea);\n",
       "    }\n",
       "  }\n",
       "\n",
       "  \n",
       "  if (typeof (root._bokeh_timeout) === \"undefined\" || force === true) {\n",
       "    root._bokeh_timeout = Date.now() + 5000;\n",
       "    root._bokeh_failed_load = false;\n",
       "  }\n",
       "\n",
       "  var NB_LOAD_WARNING = {'data': {'text/html':\n",
       "     \"<div style='background-color: #fdd'>\\n\"+\n",
       "     \"<p>\\n\"+\n",
       "     \"BokehJS does not appear to have successfully loaded. If loading BokehJS from CDN, this \\n\"+\n",
       "     \"may be due to a slow or bad network connection. Possible fixes:\\n\"+\n",
       "     \"</p>\\n\"+\n",
       "     \"<ul>\\n\"+\n",
       "     \"<li>re-rerun `output_notebook()` to attempt to load from CDN again, or</li>\\n\"+\n",
       "     \"<li>use INLINE resources instead, as so:</li>\\n\"+\n",
       "     \"</ul>\\n\"+\n",
       "     \"<code>\\n\"+\n",
       "     \"from bokeh.resources import INLINE\\n\"+\n",
       "     \"output_notebook(resources=INLINE)\\n\"+\n",
       "     \"</code>\\n\"+\n",
       "     \"</div>\"}};\n",
       "\n",
       "  function display_loaded() {\n",
       "    var el = document.getElementById(\"1145\");\n",
       "    if (el != null) {\n",
       "      el.textContent = \"BokehJS is loading...\";\n",
       "    }\n",
       "    if (root.Bokeh !== undefined) {\n",
       "      if (el != null) {\n",
       "        el.textContent = \"BokehJS \" + root.Bokeh.version + \" successfully loaded.\";\n",
       "      }\n",
       "    } else if (Date.now() < root._bokeh_timeout) {\n",
       "      setTimeout(display_loaded, 100)\n",
       "    }\n",
       "  }\n",
       "\n",
       "\n",
       "  function run_callbacks() {\n",
       "    try {\n",
       "      root._bokeh_onload_callbacks.forEach(function(callback) {\n",
       "        if (callback != null)\n",
       "          callback();\n",
       "      });\n",
       "    } finally {\n",
       "      delete root._bokeh_onload_callbacks\n",
       "    }\n",
       "    console.debug(\"Bokeh: all callbacks have finished\");\n",
       "  }\n",
       "\n",
       "  function load_libs(css_urls, js_urls, callback) {\n",
       "    if (css_urls == null) css_urls = [];\n",
       "    if (js_urls == null) js_urls = [];\n",
       "\n",
       "    root._bokeh_onload_callbacks.push(callback);\n",
       "    if (root._bokeh_is_loading > 0) {\n",
       "      console.debug(\"Bokeh: BokehJS is being loaded, scheduling callback at\", now());\n",
       "      return null;\n",
       "    }\n",
       "    if (js_urls == null || js_urls.length === 0) {\n",
       "      run_callbacks();\n",
       "      return null;\n",
       "    }\n",
       "    console.debug(\"Bokeh: BokehJS not loaded, scheduling load and callback at\", now());\n",
       "    root._bokeh_is_loading = css_urls.length + js_urls.length;\n",
       "\n",
       "    function on_load() {\n",
       "      root._bokeh_is_loading--;\n",
       "      if (root._bokeh_is_loading === 0) {\n",
       "        console.debug(\"Bokeh: all BokehJS libraries/stylesheets loaded\");\n",
       "        run_callbacks()\n",
       "      }\n",
       "    }\n",
       "\n",
       "    function on_error() {\n",
       "      console.error(\"failed to load \" + url);\n",
       "    }\n",
       "\n",
       "    for (var i = 0; i < css_urls.length; i++) {\n",
       "      var url = css_urls[i];\n",
       "      const element = document.createElement(\"link\");\n",
       "      element.onload = on_load;\n",
       "      element.onerror = on_error;\n",
       "      element.rel = \"stylesheet\";\n",
       "      element.type = \"text/css\";\n",
       "      element.href = url;\n",
       "      console.debug(\"Bokeh: injecting link tag for BokehJS stylesheet: \", url);\n",
       "      document.body.appendChild(element);\n",
       "    }\n",
       "\n",
       "    const hashes = {\"https://cdn.bokeh.org/bokeh/release/bokeh-2.1.1.min.js\": \"kLr4fYcqcSpbuI95brIH3vnnYCquzzSxHPU6XGQCIkQRGJwhg0StNbj1eegrHs12\", \"https://cdn.bokeh.org/bokeh/release/bokeh-widgets-2.1.1.min.js\": \"xIGPmVtaOm+z0BqfSOMn4lOR6ciex448GIKG4eE61LsAvmGj48XcMQZtKcE/UXZe\", \"https://cdn.bokeh.org/bokeh/release/bokeh-tables-2.1.1.min.js\": \"Dc9u1wF/0zApGIWoBbH77iWEHtdmkuYWG839Uzmv8y8yBLXebjO9ZnERsde5Ln/P\", \"https://cdn.bokeh.org/bokeh/release/bokeh-gl-2.1.1.min.js\": \"cT9JaBz7GiRXdENrJLZNSC6eMNF3nh3fa5fTF51Svp+ukxPdwcU5kGXGPBgDCa2j\"};\n",
       "\n",
       "    for (var i = 0; i < js_urls.length; i++) {\n",
       "      var url = js_urls[i];\n",
       "      var element = document.createElement('script');\n",
       "      element.onload = on_load;\n",
       "      element.onerror = on_error;\n",
       "      element.async = false;\n",
       "      element.src = url;\n",
       "      if (url in hashes) {\n",
       "        element.crossOrigin = \"anonymous\";\n",
       "        element.integrity = \"sha384-\" + hashes[url];\n",
       "      }\n",
       "      console.debug(\"Bokeh: injecting script tag for BokehJS library: \", url);\n",
       "      document.head.appendChild(element);\n",
       "    }\n",
       "  };\n",
       "\n",
       "  function inject_raw_css(css) {\n",
       "    const element = document.createElement(\"style\");\n",
       "    element.appendChild(document.createTextNode(css));\n",
       "    document.body.appendChild(element);\n",
       "  }\n",
       "\n",
       "  \n",
       "  var js_urls = [\"https://cdn.bokeh.org/bokeh/release/bokeh-2.1.1.min.js\", \"https://cdn.bokeh.org/bokeh/release/bokeh-widgets-2.1.1.min.js\", \"https://cdn.bokeh.org/bokeh/release/bokeh-tables-2.1.1.min.js\", \"https://cdn.bokeh.org/bokeh/release/bokeh-gl-2.1.1.min.js\"];\n",
       "  var css_urls = [];\n",
       "  \n",
       "\n",
       "  var inline_js = [\n",
       "    function(Bokeh) {\n",
       "      Bokeh.set_log_level(\"info\");\n",
       "    },\n",
       "    function(Bokeh) {\n",
       "    \n",
       "    \n",
       "    }\n",
       "  ];\n",
       "\n",
       "  function run_inline_js() {\n",
       "    \n",
       "    if (root.Bokeh !== undefined || force === true) {\n",
       "      \n",
       "    for (var i = 0; i < inline_js.length; i++) {\n",
       "      inline_js[i].call(root, root.Bokeh);\n",
       "    }\n",
       "    if (force === true) {\n",
       "        display_loaded();\n",
       "      }} else if (Date.now() < root._bokeh_timeout) {\n",
       "      setTimeout(run_inline_js, 100);\n",
       "    } else if (!root._bokeh_failed_load) {\n",
       "      console.log(\"Bokeh: BokehJS failed to load within specified timeout.\");\n",
       "      root._bokeh_failed_load = true;\n",
       "    } else if (force !== true) {\n",
       "      var cell = $(document.getElementById(\"1145\")).parents('.cell').data().cell;\n",
       "      cell.output_area.append_execute_result(NB_LOAD_WARNING)\n",
       "    }\n",
       "\n",
       "  }\n",
       "\n",
       "  if (root._bokeh_is_loading === 0) {\n",
       "    console.debug(\"Bokeh: BokehJS loaded, going straight to plotting\");\n",
       "    run_inline_js();\n",
       "  } else {\n",
       "    load_libs(css_urls, js_urls, function() {\n",
       "      console.debug(\"Bokeh: BokehJS plotting callback run at\", now());\n",
       "      run_inline_js();\n",
       "    });\n",
       "  }\n",
       "}(window));"
      ],
      "application/vnd.bokehjs_load.v0+json": "\n(function(root) {\n  function now() {\n    return new Date();\n  }\n\n  var force = true;\n\n  if (typeof root._bokeh_onload_callbacks === \"undefined\" || force === true) {\n    root._bokeh_onload_callbacks = [];\n    root._bokeh_is_loading = undefined;\n  }\n\n  \n\n  \n  if (typeof (root._bokeh_timeout) === \"undefined\" || force === true) {\n    root._bokeh_timeout = Date.now() + 5000;\n    root._bokeh_failed_load = false;\n  }\n\n  var NB_LOAD_WARNING = {'data': {'text/html':\n     \"<div style='background-color: #fdd'>\\n\"+\n     \"<p>\\n\"+\n     \"BokehJS does not appear to have successfully loaded. If loading BokehJS from CDN, this \\n\"+\n     \"may be due to a slow or bad network connection. Possible fixes:\\n\"+\n     \"</p>\\n\"+\n     \"<ul>\\n\"+\n     \"<li>re-rerun `output_notebook()` to attempt to load from CDN again, or</li>\\n\"+\n     \"<li>use INLINE resources instead, as so:</li>\\n\"+\n     \"</ul>\\n\"+\n     \"<code>\\n\"+\n     \"from bokeh.resources import INLINE\\n\"+\n     \"output_notebook(resources=INLINE)\\n\"+\n     \"</code>\\n\"+\n     \"</div>\"}};\n\n  function display_loaded() {\n    var el = document.getElementById(\"1145\");\n    if (el != null) {\n      el.textContent = \"BokehJS is loading...\";\n    }\n    if (root.Bokeh !== undefined) {\n      if (el != null) {\n        el.textContent = \"BokehJS \" + root.Bokeh.version + \" successfully loaded.\";\n      }\n    } else if (Date.now() < root._bokeh_timeout) {\n      setTimeout(display_loaded, 100)\n    }\n  }\n\n\n  function run_callbacks() {\n    try {\n      root._bokeh_onload_callbacks.forEach(function(callback) {\n        if (callback != null)\n          callback();\n      });\n    } finally {\n      delete root._bokeh_onload_callbacks\n    }\n    console.debug(\"Bokeh: all callbacks have finished\");\n  }\n\n  function load_libs(css_urls, js_urls, callback) {\n    if (css_urls == null) css_urls = [];\n    if (js_urls == null) js_urls = [];\n\n    root._bokeh_onload_callbacks.push(callback);\n    if (root._bokeh_is_loading > 0) {\n      console.debug(\"Bokeh: BokehJS is being loaded, scheduling callback at\", now());\n      return null;\n    }\n    if (js_urls == null || js_urls.length === 0) {\n      run_callbacks();\n      return null;\n    }\n    console.debug(\"Bokeh: BokehJS not loaded, scheduling load and callback at\", now());\n    root._bokeh_is_loading = css_urls.length + js_urls.length;\n\n    function on_load() {\n      root._bokeh_is_loading--;\n      if (root._bokeh_is_loading === 0) {\n        console.debug(\"Bokeh: all BokehJS libraries/stylesheets loaded\");\n        run_callbacks()\n      }\n    }\n\n    function on_error() {\n      console.error(\"failed to load \" + url);\n    }\n\n    for (var i = 0; i < css_urls.length; i++) {\n      var url = css_urls[i];\n      const element = document.createElement(\"link\");\n      element.onload = on_load;\n      element.onerror = on_error;\n      element.rel = \"stylesheet\";\n      element.type = \"text/css\";\n      element.href = url;\n      console.debug(\"Bokeh: injecting link tag for BokehJS stylesheet: \", url);\n      document.body.appendChild(element);\n    }\n\n    const hashes = {\"https://cdn.bokeh.org/bokeh/release/bokeh-2.1.1.min.js\": \"kLr4fYcqcSpbuI95brIH3vnnYCquzzSxHPU6XGQCIkQRGJwhg0StNbj1eegrHs12\", \"https://cdn.bokeh.org/bokeh/release/bokeh-widgets-2.1.1.min.js\": \"xIGPmVtaOm+z0BqfSOMn4lOR6ciex448GIKG4eE61LsAvmGj48XcMQZtKcE/UXZe\", \"https://cdn.bokeh.org/bokeh/release/bokeh-tables-2.1.1.min.js\": \"Dc9u1wF/0zApGIWoBbH77iWEHtdmkuYWG839Uzmv8y8yBLXebjO9ZnERsde5Ln/P\", \"https://cdn.bokeh.org/bokeh/release/bokeh-gl-2.1.1.min.js\": \"cT9JaBz7GiRXdENrJLZNSC6eMNF3nh3fa5fTF51Svp+ukxPdwcU5kGXGPBgDCa2j\"};\n\n    for (var i = 0; i < js_urls.length; i++) {\n      var url = js_urls[i];\n      var element = document.createElement('script');\n      element.onload = on_load;\n      element.onerror = on_error;\n      element.async = false;\n      element.src = url;\n      if (url in hashes) {\n        element.crossOrigin = \"anonymous\";\n        element.integrity = \"sha384-\" + hashes[url];\n      }\n      console.debug(\"Bokeh: injecting script tag for BokehJS library: \", url);\n      document.head.appendChild(element);\n    }\n  };\n\n  function inject_raw_css(css) {\n    const element = document.createElement(\"style\");\n    element.appendChild(document.createTextNode(css));\n    document.body.appendChild(element);\n  }\n\n  \n  var js_urls = [\"https://cdn.bokeh.org/bokeh/release/bokeh-2.1.1.min.js\", \"https://cdn.bokeh.org/bokeh/release/bokeh-widgets-2.1.1.min.js\", \"https://cdn.bokeh.org/bokeh/release/bokeh-tables-2.1.1.min.js\", \"https://cdn.bokeh.org/bokeh/release/bokeh-gl-2.1.1.min.js\"];\n  var css_urls = [];\n  \n\n  var inline_js = [\n    function(Bokeh) {\n      Bokeh.set_log_level(\"info\");\n    },\n    function(Bokeh) {\n    \n    \n    }\n  ];\n\n  function run_inline_js() {\n    \n    if (root.Bokeh !== undefined || force === true) {\n      \n    for (var i = 0; i < inline_js.length; i++) {\n      inline_js[i].call(root, root.Bokeh);\n    }\n    if (force === true) {\n        display_loaded();\n      }} else if (Date.now() < root._bokeh_timeout) {\n      setTimeout(run_inline_js, 100);\n    } else if (!root._bokeh_failed_load) {\n      console.log(\"Bokeh: BokehJS failed to load within specified timeout.\");\n      root._bokeh_failed_load = true;\n    } else if (force !== true) {\n      var cell = $(document.getElementById(\"1145\")).parents('.cell').data().cell;\n      cell.output_area.append_execute_result(NB_LOAD_WARNING)\n    }\n\n  }\n\n  if (root._bokeh_is_loading === 0) {\n    console.debug(\"Bokeh: BokehJS loaded, going straight to plotting\");\n    run_inline_js();\n  } else {\n    load_libs(css_urls, js_urls, function() {\n      console.debug(\"Bokeh: BokehJS plotting callback run at\", now());\n      run_inline_js();\n    });\n  }\n}(window));"
     },
     "metadata": {},
     "output_type": "display_data"
    },
    {
     "name": "stdout",
     "output_type": "stream",
     "text": [
      "dataSetRough.shape (35, 94, 94)\n"
     ]
    }
   ],
   "source": [
    "from ExpComponents import (Multiplier, MultiplierBank, Build3dBCouplerSim)"
   ]
  },
  {
   "cell_type": "code",
   "execution_count": 15,
   "metadata": {},
   "outputs": [],
   "source": [
    "from Miller import (MillerBuilder)"
   ]
  },
  {
   "cell_type": "code",
   "execution_count": 283,
   "metadata": {},
   "outputs": [],
   "source": [
    "from UtilityMath import (convertArrayToDict, MatrixError, MatrixSqError, makePolarPlot, addMatrixDiff, PolarPlot, ReIm, \n",
    "                         RandomComplexCircularMatrix, PolarPlot)"
   ]
  },
  {
   "cell_type": "code",
   "execution_count": 17,
   "metadata": {},
   "outputs": [
    {
     "name": "stdout",
     "output_type": "stream",
     "text": [
      "COM3                \n",
      "COM4                \n",
      "COM5                \n"
     ]
    },
    {
     "name": "stderr",
     "output_type": "stream",
     "text": [
      "3 ports found\n"
     ]
    }
   ],
   "source": [
    "from HardwareComms import (MultBankComm, SwitchComm, VNAComm, ExperimentalSetup)"
   ]
  },
  {
   "cell_type": "markdown",
   "metadata": {},
   "source": [
    "# New Architecture"
   ]
  },
  {
   "cell_type": "markdown",
   "metadata": {},
   "source": [
    "This analysis has two steps: Tuning and Performance \n",
    "\n",
    "In the first step, we will tune the model of the devices to account for various idiosynchrasies of the physical network (device irregularities, cable lengths, etc).  \n",
    "\n",
    "In order to do this tuning, we will build a simulation of the network.  The key element in the network is the Multiplier.  This element is represented by a Python Object that is based on a PCA analysis of physical measurements of large set of Multipliers.  Each Multiplier's representation has its own PCA weights that can be adjusted.\n",
    "\n",
    "In order to tune these PCA weights, we will apply a series of test settings (PS value [0-1023] and VGA value [0-1023] to the Multipliers.  Upon performing a physical measurement, this will yield a series of $n \\times n$ scattering matrices for the entire network.  Following that, we can use optimization to adjust the PCA weights of each Multiplier until the network simulations of the same test settings match the physical reasults.\n",
    "\n",
    "Once the devices have been tuned, we can specifiy a desired target network response.  This network can be transformed into Multiplier complex transmission values, $T$.  The algorithm for this step can be quite complicated depending on the network topology (Miller vs New).  By using inverse functions on the PCA weights, we can find the required digital inputs (PS and VGA value) to each physical multiplier.\n",
    "\n",
    "Finally, we apply these digital inputs both in simulation and experiment.  We take a physical measurement of the network and compare the target, simulation, and physical network responses."
   ]
  },
  {
   "cell_type": "markdown",
   "metadata": {
    "heading_collapsed": "true",
    "tags": []
   },
   "source": [
    "## Definitions (Exp)"
   ]
  },
  {
   "cell_type": "markdown",
   "metadata": {},
   "source": [
    "First we define the various devices."
   ]
  },
  {
   "cell_type": "code",
   "execution_count": 18,
   "metadata": {},
   "outputs": [
    {
     "name": "stdout",
     "output_type": "stream",
     "text": [
      "\n",
      "\n",
      "Agilent Technologies,E5071C,MY46100333,A.07.02\n",
      "\n",
      "\n"
     ]
    }
   ],
   "source": [
    "inputSwitchComm = SwitchComm(comValue='COM4', portAliases={1:6, 2:5, 3:4, 4:3, 5:2, \"test\":1})\n",
    "outputSwitchComm = SwitchComm(comValue='COM3', portAliases={1:3, 2:4, 3:5, 4:6, 5:7, \"test\":1})\n",
    "vnaComm = VNAComm()\n",
    "multBankComm = MultBankComm(comValue='COM5')"
   ]
  },
  {
   "cell_type": "code",
   "execution_count": 19,
   "metadata": {},
   "outputs": [],
   "source": [
    "exp = ExperimentalSetup(inputSwitchComm, outputSwitchComm, multBankComm, vnaComm)"
   ]
  },
  {
   "cell_type": "markdown",
   "metadata": {},
   "source": [
    "For convenience, higher level scripts that require coordination between the various devices can be accessed using an `ExperimentalSetup`."
   ]
  },
  {
   "cell_type": "markdown",
   "metadata": {},
   "source": [
    "## Definitions (Sim)"
   ]
  },
  {
   "cell_type": "code",
   "execution_count": 20,
   "metadata": {
    "id": "kJNZ1xLPelCt"
   },
   "outputs": [],
   "source": [
    "freq45 = rf.Frequency(start=45, stop=45, npoints=1, unit='mhz', sweep_type='lin')"
   ]
  },
  {
   "cell_type": "markdown",
   "metadata": {},
   "source": [
    "First we need to generate labels for the Multipliers.  For the New architecture, this is a simple square grid.  The format is\n",
    "\n",
    "`('M', 'N', inputLine, outputLine)` \n",
    "\n",
    "where `'M'` is for \"Multiplier\", `'N'` is for \"New\" and `inputLine` and `outputLine` are integers in the range [0,4]."
   ]
  },
  {
   "cell_type": "code",
   "execution_count": 21,
   "metadata": {},
   "outputs": [],
   "source": [
    "allMultLocs = NewMultLocs(5,'N')\n",
    "allMultLocs;"
   ]
  },
  {
   "cell_type": "markdown",
   "metadata": {},
   "source": [
    "Every device has a \"Physical Number\" that is used for addressing to allow the computer to specify to which device a command is intended.  These are enumarated below.  Similar to SParams, the rows denote output lines while the columns denote input lines."
   ]
  },
  {
   "cell_type": "code",
   "execution_count": 22,
   "metadata": {},
   "outputs": [
    {
     "data": {
      "text/plain": [
       "array([[31, 11, 16, 21, 26],\n",
       "       [32, 12, 17, 22, 27],\n",
       "       [33, 13, 18, 23, 28],\n",
       "       [34, 14, 19, 24, 29],\n",
       "       [35, 15, 20, 25, 30]])"
      ]
     },
     "execution_count": 22,
     "metadata": {},
     "output_type": "execute_result"
    }
   ],
   "source": [
    "# Be careful here.  A horizontal row in the physical world represents a column in matrix multiplication\n",
    "multPhysNumberBank = [[ 31, 32, 33, 34, 35],\n",
    "                      [ 11, 12, 13, 14, 15],\n",
    "                      [ 16, 17, 18, 19, 20],\n",
    "                      [ 21, 22, 23, 24, 25],\n",
    "                      [ 26, 27, 28, 29, 30]]\n",
    "multPhysNumberBank = np.array(multPhysNumberBank).T\n",
    "multPhysNumberBank"
   ]
  },
  {
   "cell_type": "markdown",
   "metadata": {},
   "source": [
    "And just a quick spot check to make sure we have accidently applied a transpose."
   ]
  },
  {
   "cell_type": "code",
   "execution_count": 23,
   "metadata": {},
   "outputs": [
    {
     "data": {
      "text/plain": [
       "26"
      ]
     },
     "execution_count": 23,
     "metadata": {},
     "output_type": "execute_result"
    }
   ],
   "source": [
    "inputLine = 5\n",
    "outputLine = 1\n",
    "multPhysNumberBank[outputLine - 1, inputLine - 1]"
   ]
  },
  {
   "cell_type": "markdown",
   "metadata": {},
   "source": [
    "Next we build a MultiplierBank.  This is a collection of Multipliers.  This allows a Multiplier to be retreived by either its `loc` or by its `physNumber`, allowing the MultiplierBank to function both to interact with the physical experiment or a network simulation."
   ]
  },
  {
   "cell_type": "code",
   "execution_count": 24,
   "metadata": {},
   "outputs": [],
   "source": [
    "multBank = MultiplierBank()\n",
    "for loc in allMultLocs:\n",
    "    (_, _, inputLine, outputLine) = loc\n",
    "    physNumber = multPhysNumberBank[outputLine, inputLine]\n",
    "    mult = Multiplier(physNumber=physNumber, loc=loc, freq=freq45)\n",
    "    multBank.addMult(mult)"
   ]
  },
  {
   "cell_type": "markdown",
   "metadata": {},
   "source": [
    "Note that passive devices such as 5:1 Splitters are not modeled to the same degree and do not require controlling.  Therefore, we will generate generic elements as we need them."
   ]
  },
  {
   "cell_type": "code",
   "execution_count": 25,
   "metadata": {},
   "outputs": [],
   "source": [
    "X0 = multBank.getPersonalityVectors()"
   ]
  },
  {
   "cell_type": "markdown",
   "metadata": {},
   "source": [
    "## Tuning"
   ]
  },
  {
   "cell_type": "markdown",
   "metadata": {},
   "source": [
    "### Debugging"
   ]
  },
  {
   "cell_type": "code",
   "execution_count": 621,
   "metadata": {},
   "outputs": [],
   "source": [
    "for loc in allMultLocs:\n",
    "    mult = multBank.getMultByLoc(loc)\n",
    "    try: \n",
    "        multBankComm.blinkMult(mult.physNumber)\n",
    "    except NameError:\n",
    "        pass        \n",
    "    sleep(0.2)"
   ]
  },
  {
   "cell_type": "code",
   "execution_count": 614,
   "metadata": {},
   "outputs": [
    {
     "name": "stdout",
     "output_type": "stream",
     "text": [
      "20\n"
     ]
    },
    {
     "data": {
      "text/plain": [
       "((-1.0899170864293621-0.18040762305319213j), 0.13044962925172363)"
      ]
     },
     "execution_count": 614,
     "metadata": {},
     "output_type": "execute_result"
    }
   ],
   "source": [
    "outIndex = 5\n",
    "inIndex = 3\n",
    "vga, ps = (1000, 100)\n",
    "loc = ('M', 'N', inIndex-1, outIndex-1) # ('M', 'N', in, out) :(.\n",
    "mult = multBank.getMultByLoc(loc)\n",
    "physNum = mult.physNumber\n",
    "print(physNum)\n",
    "multBankComm.setMult(physNum, vga, ps)\n",
    "inputSwitchComm.setSwitch(inIndex)\n",
    "outputSwitchComm.setSwitch(outIndex)\n",
    "sleep(2)\n",
    "vnaComm.getS21AllAt45()"
   ]
  },
  {
   "cell_type": "code",
   "execution_count": null,
   "metadata": {},
   "outputs": [],
   "source": [
    "multBankComm.setMult(28, 100, 200)"
   ]
  },
  {
   "cell_type": "code",
   "execution_count": null,
   "metadata": {},
   "outputs": [],
   "source": [
    "# inputSwitchComm.portAliases=None\n",
    "# outputSwitchComm.portAliases=None"
   ]
  },
  {
   "cell_type": "code",
   "execution_count": 338,
   "metadata": {},
   "outputs": [
    {
     "name": "stdout",
     "output_type": "stream",
     "text": [
      "MeshPort: 6\n",
      "SwitchPort: 6\n",
      "binary (CBA): 101\n",
      "\n",
      "\n",
      "MeshPort: 3\n",
      "SwitchPort: 3\n",
      "binary (CBA): 010\n",
      "\n",
      "\n"
     ]
    },
    {
     "data": {
      "text/plain": [
       "((0.0005588355632517759-5.609751739392877e-05j), 0.0005124729900015596)"
      ]
     },
     "execution_count": 338,
     "metadata": {},
     "output_type": "execute_result"
    }
   ],
   "source": [
    "inputSwitchComm.setSwitch(1, verbose=True)\n",
    "outputSwitchComm.setSwitch(1, verbose=True)\n",
    "exp.vnaComm.getS21AllAt45()"
   ]
  },
  {
   "cell_type": "code",
   "execution_count": null,
   "metadata": {},
   "outputs": [],
   "source": [
    "inputSwitchComm.close()\n",
    "outputSwitchComm.close()"
   ]
  },
  {
   "cell_type": "code",
   "execution_count": null,
   "metadata": {},
   "outputs": [],
   "source": [
    "outputSwitchComm.setSwitch(\"test\")"
   ]
  },
  {
   "cell_type": "code",
   "execution_count": null,
   "metadata": {},
   "outputs": [],
   "source": [
    "exp.setMults(0, 100, multBank.getPhysNums())"
   ]
  },
  {
   "cell_type": "code",
   "execution_count": null,
   "metadata": {},
   "outputs": [],
   "source": [
    "exp.vnaComm.getS21AllAt45()"
   ]
  },
  {
   "cell_type": "code",
   "execution_count": null,
   "metadata": {},
   "outputs": [],
   "source": [
    "SMat, STD = exp.measureSMatrix(delay=2)"
   ]
  },
  {
   "cell_type": "code",
   "execution_count": null,
   "metadata": {},
   "outputs": [],
   "source": [
    "np.abs(SMat)"
   ]
  },
  {
   "cell_type": "markdown",
   "metadata": {},
   "source": [
    "### Physical Measurement"
   ]
  },
  {
   "cell_type": "markdown",
   "metadata": {},
   "source": [
    "Next we define a series of multiplier set points that we'll use to ascertain the multiplier's PCA weights."
   ]
  },
  {
   "cell_type": "code",
   "execution_count": 622,
   "metadata": {},
   "outputs": [],
   "source": [
    "tuningPSVals = np.linspace(0, 1023, 20, dtype=np.int)\n",
    "tuningVGAVals = np.linspace(0, 1023, 20, dtype=np.int)"
   ]
  },
  {
   "cell_type": "code",
   "execution_count": 623,
   "metadata": {},
   "outputs": [],
   "source": [
    "tuningVals = [(ps, vga) for vga in tuningVGAVals for ps in tuningPSVals]"
   ]
  },
  {
   "cell_type": "markdown",
   "metadata": {},
   "source": [
    "For each PS, VGA pair, the multipliers are uniformly set and the scattering matrix of the network is measured."
   ]
  },
  {
   "cell_type": "code",
   "execution_count": 624,
   "metadata": {},
   "outputs": [],
   "source": [
    "tuningMatricesM = []\n",
    "for (psVal, vgaVal) in tuningVals:\n",
    "    exp.setMults(int(psVal), int(vgaVal), multBank.getPhysNums())\n",
    "    time.sleep(1)\n",
    "    m, std = exp.measureSMatrix(delay=2)\n",
    "    tuningMatricesM.append(m)\n",
    "tuningMatricesM = np.array(tuningMatricesM)"
   ]
  },
  {
   "cell_type": "code",
   "execution_count": 625,
   "metadata": {},
   "outputs": [],
   "source": [
    "np.save(\"tuningVals20\", tuningVals)\n",
    "np.save(\"tuningMatricesM20\", tuningMatricesM)"
   ]
  },
  {
   "cell_type": "markdown",
   "metadata": {},
   "source": [
    "### Fake Measurements"
   ]
  },
  {
   "cell_type": "code",
   "execution_count": null,
   "metadata": {},
   "outputs": [],
   "source": [
    "def MultBuilder(loc):\n",
    "    return multBank.getRFNetwork(loc)"
   ]
  },
  {
   "cell_type": "code",
   "execution_count": null,
   "metadata": {},
   "outputs": [],
   "source": [
    "def SplitterBuilder(loc):\n",
    "    return Build5PortSplitter(freq45, loc=loc)"
   ]
  },
  {
   "cell_type": "code",
   "execution_count": null,
   "metadata": {},
   "outputs": [],
   "source": [
    "X0 = multBank.getPersonalityVectors()"
   ]
  },
  {
   "cell_type": "code",
   "execution_count": null,
   "metadata": {},
   "outputs": [],
   "source": [
    "XSet = X0*np.random.normal(1, 0.1, size=len(X0))"
   ]
  },
  {
   "cell_type": "code",
   "execution_count": null,
   "metadata": {},
   "outputs": [],
   "source": [
    "multBank.setPersonalityVectors(XSet)"
   ]
  },
  {
   "cell_type": "code",
   "execution_count": null,
   "metadata": {},
   "outputs": [],
   "source": [
    "tuningMatricesM = []\n",
    "for (psVal, vgaVal) in tuningVals:\n",
    "    multBank.setAllMults(psVal, vgaVal)\n",
    "    newNet = BuildNewNetwork(SplitterBuilder, MultBuilder, loc=\"N\", n=5)\n",
    "    m = newNet.s[0, 5:, :5]\n",
    "    tuningMatricesM.append(m)\n",
    "tuningMatricesM = np.array(tuningMatricesM)"
   ]
  },
  {
   "cell_type": "code",
   "execution_count": null,
   "metadata": {},
   "outputs": [],
   "source": [
    "multBank.setPersonalityVectors(X0)"
   ]
  },
  {
   "cell_type": "code",
   "execution_count": null,
   "metadata": {},
   "outputs": [],
   "source": [
    "np.save(\"tuningVals\", tuningVals)\n",
    "np.save(\"tuningMatricesM\", tuningMatricesM)"
   ]
  },
  {
   "cell_type": "markdown",
   "metadata": {
    "tags": []
   },
   "source": [
    "### Fitting"
   ]
  },
  {
   "cell_type": "code",
   "execution_count": 35,
   "metadata": {},
   "outputs": [],
   "source": [
    "tuningVals = np.load(\"tuningVals10_v2.npy\")\n",
    "tuningMatricesM = np.load(\"tuningMatricesM10_v2.npy\")"
   ]
  },
  {
   "cell_type": "code",
   "execution_count": null,
   "metadata": {},
   "outputs": [],
   "source": [
    "def PlotTuningMatrices(tuningMatrices, shape, maxRad):\n",
    "    \"\"\"\n",
    "    tuningMatrices.shape => (N*M, n, n)\n",
    "    shape = (N, M, n, n)\n",
    "    \"\"\"\n",
    "    N, M, n, n = shape\n",
    "    tuningMatricesNxN = tuningMatrices.reshape(shape)\n",
    "    tuningMatricesNxN_List = [[tuningMatricesNxN[r,c] for c in range(M)] for r in range(N)]\n",
    "    tuningMatrices2D = np.block(tuningMatricesNxN_List)\n",
    "    plotComplexArray(tuningMatrices2D, maxRad=maxRad)"
   ]
  },
  {
   "cell_type": "code",
   "execution_count": null,
   "metadata": {},
   "outputs": [],
   "source": [
    "tuningVals[-1]"
   ]
  },
  {
   "cell_type": "code",
   "execution_count": null,
   "metadata": {},
   "outputs": [],
   "source": [
    "tuningMatricesM[-1]"
   ]
  },
  {
   "cell_type": "code",
   "execution_count": null,
   "metadata": {},
   "outputs": [],
   "source": [
    "PlotTuningMatrices(tuningMatricesM, (10, 10, 5, 5), maxRad=1.5)"
   ]
  },
  {
   "cell_type": "markdown",
   "metadata": {},
   "source": [
    "The simulation builder `BuildNewNetwork` requires that we supply it with two functions, one which creates an RF network object from of a 5-way splitter, and another which creates one of the Multiplier.  We will assume that the splitter is generic and employ a simple theoretical model for that which was imported from our `NetworkBuilding` theoretical simulation notebook.  However, for the Multiplier, we will use the `MultiplierBank` and the `loc` code to extract the model for a multiplier assigned to that specific location in the network. "
   ]
  },
  {
   "cell_type": "code",
   "execution_count": null,
   "metadata": {},
   "outputs": [],
   "source": [
    "def MultBuilder(loc):\n",
    "    return multBank.getRFNetwork(loc)"
   ]
  },
  {
   "cell_type": "code",
   "execution_count": null,
   "metadata": {},
   "outputs": [],
   "source": [
    "def SplitterBuilder(loc):\n",
    "    return Build5PortSplitter(freq45, loc=loc)"
   ]
  },
  {
   "cell_type": "markdown",
   "metadata": {},
   "source": [
    "As a quick example of a simulation, we set all the multipliers to the same setting, build a network, and examine the transmissive properties of it."
   ]
  },
  {
   "cell_type": "code",
   "execution_count": null,
   "metadata": {},
   "outputs": [],
   "source": [
    "multBank.setAllMults(psVal=512, vgaVal=512)"
   ]
  },
  {
   "cell_type": "code",
   "execution_count": null,
   "metadata": {},
   "outputs": [],
   "source": [
    "newNet = BuildNewNetwork(SplitterBuilder, MultBuilder, loc=\"N\", n=5)\n",
    "T = newNet.s[0, 5:, :5]\n",
    "T"
   ]
  },
  {
   "cell_type": "markdown",
   "metadata": {},
   "source": [
    "Of course this step can be automated for all of the `(ps, vga)` pairs in the in `tuningVals` to yield `tuningMatricesS`.  "
   ]
  },
  {
   "cell_type": "code",
   "execution_count": null,
   "metadata": {},
   "outputs": [],
   "source": [
    "tuningMatricesS = []\n",
    "for (psVal, vgaVal) in tuningVals:\n",
    "    multBank.setAllMults(psVal, vgaVal)\n",
    "    newNet = BuildNewNetwork(SplitterBuilder, MultBuilder, loc=\"N\", n=5)\n",
    "    m = newNet.s[0, 5:, :5]\n",
    "    tuningMatricesS.append(m)\n",
    "tuningMatricesS = np.array(tuningMatricesS)"
   ]
  },
  {
   "cell_type": "code",
   "execution_count": null,
   "metadata": {},
   "outputs": [],
   "source": [
    "PlotTuningMatrices(tuningMatricesS, (10, 10, 5, 5), maxRad=2.5)"
   ]
  },
  {
   "cell_type": "markdown",
   "metadata": {},
   "source": [
    "Ideally, this would yield the exact same network scattering matrices as were measured and contained in `tuningMatricesM`.  Of course they won't because each physical device has its own personality and other factors such as varying cable lengths.  We will therefore optimize the PCA weights of each device in simulation in an attempt to create collection of devices which match the real behavior of the experimental devices.\n",
    "\n",
    "In order to perform this optimization, we use SciPy's multivariate minimization function `minimize()`.  The format of this \n",
    "`scipy.optimize.minimize(fun, X0)` where `fun` is built such that `fun(X) -> error` where `X` and `X0` are 1D vectors of the real scalars to be optimized.  In order to make this easy, the MultiplierBank comes with two functions `setPersonalityVectors(X)` and `X0 = getPersonalityVectors()`, which grabs the complex PCA weights from all the multipliers as mashes them into a real 1D vector.  The two functions are designed to operate together so that the data"
   ]
  },
  {
   "cell_type": "code",
   "execution_count": null,
   "metadata": {},
   "outputs": [],
   "source": [
    "X0 = multBank.getPersonalityVectors()"
   ]
  },
  {
   "cell_type": "code",
   "execution_count": null,
   "metadata": {},
   "outputs": [],
   "source": [
    "def fun(X):\n",
    "    multBank.setPersonalityVectors(X)\n",
    "    tuningMatricesS = []\n",
    "    for (psVal, vgaVal) in tuningVals:\n",
    "        multBank.setAllMults(psVal, vgaVal)\n",
    "        newNet = BuildNewNetwork(SplitterBuilder, MultBuilder, loc=\"N\", n=5)\n",
    "        m = newNet.s[0, 5:, :5]\n",
    "        tuningMatricesS.append(m)\n",
    "    tuningMatricesS = np.array(tuningMatricesS)\n",
    "    error = np.sum(np.abs(tuningMatricesS - tuningMatricesM)**2)\n",
    "    print(error)\n",
    "    return error"
   ]
  },
  {
   "cell_type": "code",
   "execution_count": null,
   "metadata": {},
   "outputs": [],
   "source": [
    "fit = sp.optimize.minimize(fun, X0, method='Powell', \n",
    "                           options={'disp':True, 'adaptive':True, 'fatol':0.01})"
   ]
  },
  {
   "cell_type": "code",
   "execution_count": null,
   "metadata": {},
   "outputs": [],
   "source": [
    "XF = multBank.getPersonalityVectors()"
   ]
  },
  {
   "cell_type": "code",
   "execution_count": null,
   "metadata": {},
   "outputs": [],
   "source": [
    "# XF = fit.x"
   ]
  },
  {
   "cell_type": "markdown",
   "metadata": {},
   "source": [
    "Error when multipliers are the uniform average all devices measured in the PCA:"
   ]
  },
  {
   "cell_type": "code",
   "execution_count": null,
   "metadata": {},
   "outputs": [],
   "source": [
    "fun(X0)"
   ]
  },
  {
   "cell_type": "markdown",
   "metadata": {},
   "source": [
    "Error following fitting the PCA weights:"
   ]
  },
  {
   "cell_type": "code",
   "execution_count": null,
   "metadata": {},
   "outputs": [],
   "source": [
    "fun(XF)"
   ]
  },
  {
   "cell_type": "code",
   "execution_count": null,
   "metadata": {},
   "outputs": [],
   "source": [
    "multBank.setPersonalityVectors(XF)"
   ]
  },
  {
   "cell_type": "code",
   "execution_count": null,
   "metadata": {},
   "outputs": [],
   "source": [
    "tuningMatricesS = []\n",
    "for (psVal, vgaVal) in tuningVals:\n",
    "    multBank.setAllMults(psVal, vgaVal)\n",
    "    newNet = BuildNewNetwork(SplitterBuilder, MultBuilder, loc=\"N\", n=5)\n",
    "    m = newNet.s[0, 5:, :5]\n",
    "    tuningMatricesS.append(m)\n",
    "tuningMatricesS = np.array(tuningMatricesS)"
   ]
  },
  {
   "cell_type": "code",
   "execution_count": null,
   "metadata": {},
   "outputs": [],
   "source": [
    "PlotTuningMatrices(tuningMatricesS, (10, 10, 5, 5), maxRad=2.5)"
   ]
  },
  {
   "cell_type": "code",
   "execution_count": null,
   "metadata": {},
   "outputs": [],
   "source": [
    "np.save(\"personalityVector_v2\", XF)"
   ]
  },
  {
   "cell_type": "markdown",
   "metadata": {
    "heading_collapsed": "true"
   },
   "source": [
    "# Set and Measure a Matrix"
   ]
  },
  {
   "cell_type": "code",
   "execution_count": 143,
   "metadata": {},
   "outputs": [],
   "source": [
    "def calcNewMatrixSettings(K, multBank, n):\n",
    "    expK = []\n",
    "    for i_out in range(n):\n",
    "        expRow = []\n",
    "        for i_in in range(n):\n",
    "            loc = ('M', 'N', i_in, i_out)\n",
    "            mult = multBank.getMultByLoc(loc)\n",
    "            T = 5*K[i_out, i_in]\n",
    "            mult.setT(T)\n",
    "            Texp = mult.TExpected\n",
    "            expRow.append(Texp)\n",
    "        expK.append(expRow)\n",
    "    expK = np.array(expK)\n",
    "    return (expK/n)"
   ]
  },
  {
   "cell_type": "code",
   "execution_count": 72,
   "metadata": {},
   "outputs": [],
   "source": [
    "def setExpMultBank(exp, multBank):\n",
    "    physNums = multBank.getPhysNums()\n",
    "    psSettings = [multBank.getMultByPhysNum(physNum).psSetting for physNum in physNums]\n",
    "    vgaSettings = [multBank.getMultByPhysNum(physNum).vgaSetting for physNum in physNums]\n",
    "    exp.setMults(psSettings, vgaSettings, physNums)"
   ]
  },
  {
   "cell_type": "code",
   "execution_count": 114,
   "metadata": {},
   "outputs": [],
   "source": [
    "XF = np.load(\"personalityVector_v2.npy\")"
   ]
  },
  {
   "cell_type": "code",
   "execution_count": 115,
   "metadata": {},
   "outputs": [],
   "source": [
    "multBank.setPersonalityVectors(XF)"
   ]
  },
  {
   "cell_type": "markdown",
   "metadata": {
    "heading_collapsed": "true"
   },
   "source": [
    "## Compare Current System to Tuning Matrices"
   ]
  },
  {
   "cell_type": "code",
   "execution_count": 116,
   "metadata": {},
   "outputs": [],
   "source": [
    "tuningVals = np.load(\"tuningVals10_v2.npy\")\n",
    "tuningMatricesM = np.load(\"tuningMatricesM10_v2.npy\")"
   ]
  },
  {
   "cell_type": "code",
   "execution_count": 117,
   "metadata": {},
   "outputs": [],
   "source": [
    "testCase = 55"
   ]
  },
  {
   "cell_type": "code",
   "execution_count": 118,
   "metadata": {},
   "outputs": [
    {
     "data": {
      "text/plain": [
       "array([568, 568])"
      ]
     },
     "execution_count": 118,
     "metadata": {},
     "output_type": "execute_result"
    }
   ],
   "source": [
    "tuningVals[testCase]"
   ]
  },
  {
   "cell_type": "code",
   "execution_count": 80,
   "metadata": {},
   "outputs": [
    {
     "name": "stdout",
     "output_type": "stream",
     "text": [
      "[[-0.048+0.149j -0.005+0.166j -0.06 +0.149j -0.055+0.136j -0.022+0.15j ]\n",
      " [ 0.008+0.136j -0.06 +0.133j -0.043+0.153j -0.024+0.161j -0.019+0.154j]\n",
      " [ 0.034+0.16j   0.006+0.162j -0.02 +0.138j  0.001+0.167j -0.005+0.154j]\n",
      " [-0.009+0.157j  0.011+0.138j -0.024+0.155j  0.012+0.139j -0.025+0.159j]\n",
      " [-0.025+0.143j -0.018+0.133j -0.021+0.151j  0.006+0.152j -0.063+0.147j]]\n"
     ]
    }
   ],
   "source": [
    "(psVal, vgaVal) = tuningVals[testCase]\n",
    "multBank.setAllMults(psVal, vgaVal)\n",
    "setExpMultBank(exp, multBank)\n",
    "m, std = exp.measureSMatrix(delay=2)\n",
    "print(m)"
   ]
  },
  {
   "cell_type": "code",
   "execution_count": 81,
   "metadata": {},
   "outputs": [],
   "source": [
    "oldM = tuningMatricesM[testCase]"
   ]
  },
  {
   "cell_type": "code",
   "execution_count": 82,
   "metadata": {},
   "outputs": [
    {
     "data": {
      "text/plain": [
       "array([[0.001, 0.001, 0.001, 0.001, 0.   ],\n",
       "       [0.001, 0.001, 0.   , 0.   , 0.001],\n",
       "       [0.   , 0.001, 0.001, 0.001, 0.001],\n",
       "       [0.001, 0.001, 0.001, 0.001, 0.003],\n",
       "       [0.002, 0.001, 0.002, 0.001, 0.002]])"
      ]
     },
     "execution_count": 82,
     "metadata": {},
     "output_type": "execute_result"
    }
   ],
   "source": [
    "abs(m - oldM)"
   ]
  },
  {
   "cell_type": "code",
   "execution_count": 83,
   "metadata": {},
   "outputs": [],
   "source": [
    "tempComp = np.sum(m/oldM)/25"
   ]
  },
  {
   "cell_type": "code",
   "execution_count": 84,
   "metadata": {},
   "outputs": [
    {
     "data": {
      "text/plain": [
       "(1.0019958407350524-0.0057045571809118565j)"
      ]
     },
     "execution_count": 84,
     "metadata": {},
     "output_type": "execute_result"
    }
   ],
   "source": [
    "tempComp"
   ]
  },
  {
   "cell_type": "markdown",
   "metadata": {},
   "source": [
    "## Inversion Experiment"
   ]
  },
  {
   "cell_type": "code",
   "execution_count": 119,
   "metadata": {},
   "outputs": [],
   "source": [
    "KMidRange = np.full((5,5), fill_value=(-.25+.75j)/5)"
   ]
  },
  {
   "cell_type": "code",
   "execution_count": 155,
   "metadata": {},
   "outputs": [
    {
     "data": {
      "text/plain": [
       "array([[ 0.226+0.27j ,  0.142-0.411j, -0.205-0.386j,  0.146-0.415j,  0.252-0.283j],\n",
       "       [-0.383-0.102j,  0.123-0.095j,  0.316-0.183j, -0.422-0.19j ,  0.041+0.079j],\n",
       "       [-0.141-0.071j, -0.391+0.113j,  0.065-0.305j,  0.028+0.169j,  0.168+0.385j],\n",
       "       [ 0.094-0.225j,  0.21 -0.059j, -0.108+0.427j, -0.139-0.241j,  0.22 +0.272j],\n",
       "       [ 0.464-0.107j,  0.446+0.202j, -0.259-0.406j,  0.236-0.308j, -0.005-0.28j ]])"
      ]
     },
     "execution_count": 155,
     "metadata": {},
     "output_type": "execute_result"
    }
   ],
   "source": [
    "RandomComplexCircularMatrix(0.5, (5,5))"
   ]
  },
  {
   "cell_type": "code",
   "execution_count": 154,
   "metadata": {},
   "outputs": [
    {
     "data": {
      "text/plain": [
       "array([0.919, 0.679, 0.611, 0.337, 0.05 ])"
      ]
     },
     "execution_count": 154,
     "metadata": {},
     "output_type": "execute_result"
    }
   ],
   "source": [
    "KRand1 = np.array([[-0.395-0.074j,  0.002+0.214j, -0.174+0.235j,  0.456-0.18j , -0.383+0.171j],\n",
    "                   [-0.461-0.019j, -0.075+0.19j , -0.251+0.301j, -0.132+0.09j , -0.225+0.013j],\n",
    "                   [-0.409-0.236j, -0.124+0.037j,  0.103+0.197j, -0.436+0.241j, -0.05 +0.148j],\n",
    "                   [ 0.025-0.064j, -0.183-0.198j, -0.075-0.225j, -0.014+0.166j, -0.053+0.174j],\n",
    "                   [ 0.373+0.042j, -0.014+0.05j ,  0.034+0.392j,  0.195+0.178j,  0.005-0.079j]])\n",
    "np.sort(abs(np.linalg.eigvals(KRand1)))[::-1]"
   ]
  },
  {
   "cell_type": "code",
   "execution_count": 156,
   "metadata": {},
   "outputs": [
    {
     "data": {
      "text/plain": [
       "array([0.855, 0.752, 0.689, 0.584, 0.444])"
      ]
     },
     "execution_count": 156,
     "metadata": {},
     "output_type": "execute_result"
    }
   ],
   "source": [
    "KRand2 = np.array([[ 0.226+0.27j ,  0.142-0.411j, -0.205-0.386j,  0.146-0.415j,  0.252-0.283j],\n",
    "                   [-0.383-0.102j,  0.123-0.095j,  0.316-0.183j, -0.422-0.19j ,  0.041+0.079j],\n",
    "                   [-0.141-0.071j, -0.391+0.113j,  0.065-0.305j,  0.028+0.169j,  0.168+0.385j],\n",
    "                   [ 0.094-0.225j,  0.21 -0.059j, -0.108+0.427j, -0.139-0.241j,  0.22 +0.272j],\n",
    "                   [ 0.464-0.107j,  0.446+0.202j, -0.259-0.406j,  0.236-0.308j, -0.005-0.28j ]])\n",
    "np.sort(abs(np.linalg.eigvals(KRand2)))[::-1]"
   ]
  },
  {
   "cell_type": "code",
   "execution_count": 508,
   "metadata": {},
   "outputs": [],
   "source": [
    "K = KRand2\n",
    "expName = 'trial3_'"
   ]
  },
  {
   "cell_type": "code",
   "execution_count": 509,
   "metadata": {},
   "outputs": [
    {
     "name": "stdout",
     "output_type": "stream",
     "text": [
      "[[ 0.226+0.27j   0.14 -0.412j -0.205-0.385j  0.147-0.416j  0.25 -0.284j]\n",
      " [-0.384-0.103j  0.123-0.095j  0.315-0.185j -0.422-0.189j  0.04 +0.079j]\n",
      " [-0.141-0.071j -0.39 +0.115j  0.065-0.306j  0.027+0.169j  0.167+0.386j]\n",
      " [ 0.093-0.225j  0.21 -0.058j -0.11 +0.427j -0.139-0.24j   0.22 +0.271j]\n",
      " [ 0.465-0.11j   0.445+0.204j -0.257-0.406j  0.235-0.308j -0.006-0.28j ]]\n"
     ]
    }
   ],
   "source": [
    "KHWExp = calcNewMatrixSettings(K, multBank, 5)\n",
    "print(KHWExp)"
   ]
  },
  {
   "cell_type": "code",
   "execution_count": 350,
   "metadata": {},
   "outputs": [],
   "source": [
    "np.save(expName+\"goalK\",K)\n",
    "np.save(expName+\"KHWExp\", KHWExp)"
   ]
  },
  {
   "cell_type": "code",
   "execution_count": 510,
   "metadata": {},
   "outputs": [],
   "source": [
    "setExpMultBank(exp, multBank)\n",
    "m, std = exp.measureSMatrix(delay=2)"
   ]
  },
  {
   "cell_type": "code",
   "execution_count": 511,
   "metadata": {},
   "outputs": [
    {
     "data": {
      "text/html": [
       "\n",
       "\n",
       "\n",
       "\n",
       "\n",
       "\n",
       "  <div class=\"bk-root\" id=\"22f93c22-e2a6-4dc4-ae02-0e0acfafa0dc\" data-root-id=\"96139\"></div>\n"
      ]
     },
     "metadata": {},
     "output_type": "display_data"
    },
    {
     "data": {
      "application/javascript": [
       "(function(root) {\n",
       "  function embed_document(root) {\n",
       "    \n",
       "  var docs_json = {\"fc4ac6e9-c4f5-4bd8-bbe0-e2c2d1467b37\":{\"roots\":{\"references\":[{\"attributes\":{\"background_fill_color\":\"#20262B\",\"below\":[{\"id\":\"96148\"}],\"border_fill_color\":\"#15191C\",\"center\":[{\"id\":\"96151\"},{\"id\":\"96155\"}],\"left\":[{\"id\":\"96152\"}],\"outline_line_alpha\":0.25,\"outline_line_color\":\"#E0E0E0\",\"renderers\":[{\"id\":\"96173\"}],\"title\":{\"id\":\"97558\"},\"toolbar\":{\"id\":\"96163\"},\"x_range\":{\"id\":\"96140\"},\"x_scale\":{\"id\":\"96144\"},\"y_range\":{\"id\":\"96142\"},\"y_scale\":{\"id\":\"96146\"}},\"id\":\"96139\",\"subtype\":\"Figure\",\"type\":\"Plot\"},{\"attributes\":{},\"id\":\"96157\",\"type\":\"WheelZoomTool\"},{\"attributes\":{\"text\":\"\",\"text_color\":{\"value\":\"#E0E0E0\"},\"text_font\":\"Helvetica\",\"text_font_size\":{\"value\":\"1.15em\"}},\"id\":\"97558\",\"type\":\"Title\"},{\"attributes\":{},\"id\":\"96156\",\"type\":\"PanTool\"},{\"attributes\":{},\"id\":\"96153\",\"type\":\"BasicTicker\"},{\"attributes\":{\"data\":{\"image\":[{\"__ndarray__\":\"/+gA/1yEAP8WhAD/DR4A/w4iAP8fTQD//PAA/0lrAP8OIgD/CxUA/w4iAP8fYAD/zMkA/w0XAP8HDQD/DRwA/xIhAP8cNwD/k6EA/xAdAP8QJQD/X3sA/xpEAP8RKwD/wMEA/w==\",\"dtype\":\"uint32\",\"order\":\"little\",\"shape\":[5,5]}]},\"selected\":{\"id\":\"97565\"},\"selection_policy\":{\"id\":\"97564\"}},\"id\":\"96170\",\"type\":\"ColumnDataSource\"},{\"attributes\":{},\"id\":\"96144\",\"type\":\"LinearScale\"},{\"attributes\":{},\"id\":\"96159\",\"type\":\"SaveTool\"},{\"attributes\":{},\"id\":\"96140\",\"type\":\"DataRange1d\"},{\"attributes\":{\"active_drag\":\"auto\",\"active_inspect\":\"auto\",\"active_multi\":null,\"active_scroll\":\"auto\",\"active_tap\":\"auto\",\"tools\":[{\"id\":\"96156\"},{\"id\":\"96157\"},{\"id\":\"96158\"},{\"id\":\"96159\"},{\"id\":\"96160\"},{\"id\":\"96161\"}]},\"id\":\"96163\",\"type\":\"Toolbar\"},{\"attributes\":{},\"id\":\"97560\",\"type\":\"BasicTickFormatter\"},{\"attributes\":{},\"id\":\"97564\",\"type\":\"UnionRenderers\"},{\"attributes\":{\"axis\":{\"id\":\"96148\"},\"grid_line_alpha\":0.25,\"grid_line_color\":\"#E0E0E0\",\"ticker\":null},\"id\":\"96151\",\"type\":\"Grid\"},{\"attributes\":{},\"id\":\"97565\",\"type\":\"Selection\"},{\"attributes\":{\"axis_label_standoff\":10,\"axis_label_text_color\":\"#E0E0E0\",\"axis_label_text_font\":\"Helvetica\",\"axis_label_text_font_size\":\"1.25em\",\"axis_label_text_font_style\":\"normal\",\"axis_line_alpha\":0,\"axis_line_color\":\"#E0E0E0\",\"formatter\":{\"id\":\"97560\"},\"major_label_text_color\":\"#E0E0E0\",\"major_label_text_font\":\"Helvetica\",\"major_label_text_font_size\":\"1.025em\",\"major_tick_line_alpha\":0,\"major_tick_line_color\":\"#E0E0E0\",\"minor_tick_line_alpha\":0,\"minor_tick_line_color\":\"#E0E0E0\",\"ticker\":{\"id\":\"96149\"}},\"id\":\"96148\",\"type\":\"LinearAxis\"},{\"attributes\":{\"axis_label_standoff\":10,\"axis_label_text_color\":\"#E0E0E0\",\"axis_label_text_font\":\"Helvetica\",\"axis_label_text_font_size\":\"1.25em\",\"axis_label_text_font_style\":\"normal\",\"axis_line_alpha\":0,\"axis_line_color\":\"#E0E0E0\",\"formatter\":{\"id\":\"97562\"},\"major_label_text_color\":\"#E0E0E0\",\"major_label_text_font\":\"Helvetica\",\"major_label_text_font_size\":\"1.025em\",\"major_tick_line_alpha\":0,\"major_tick_line_color\":\"#E0E0E0\",\"minor_tick_line_alpha\":0,\"minor_tick_line_color\":\"#E0E0E0\",\"ticker\":{\"id\":\"96153\"}},\"id\":\"96152\",\"type\":\"LinearAxis\"},{\"attributes\":{\"bottom_units\":\"screen\",\"fill_alpha\":0.5,\"fill_color\":\"lightgrey\",\"left_units\":\"screen\",\"level\":\"overlay\",\"line_alpha\":1.0,\"line_color\":\"black\",\"line_dash\":[4,4],\"line_width\":2,\"right_units\":\"screen\",\"top_units\":\"screen\"},\"id\":\"96162\",\"type\":\"BoxAnnotation\"},{\"attributes\":{\"dh\":{\"units\":\"data\",\"value\":5},\"dw\":{\"units\":\"data\",\"value\":5},\"global_alpha\":0.1,\"image\":{\"field\":\"image\"},\"x\":{\"value\":0},\"y\":{\"value\":0}},\"id\":\"96172\",\"type\":\"ImageRGBA\"},{\"attributes\":{},\"id\":\"96160\",\"type\":\"ResetTool\"},{\"attributes\":{},\"id\":\"96146\",\"type\":\"LinearScale\"},{\"attributes\":{\"dh\":{\"units\":\"data\",\"value\":5},\"dw\":{\"units\":\"data\",\"value\":5},\"image\":{\"field\":\"image\"},\"x\":{\"value\":0},\"y\":{\"value\":0}},\"id\":\"96171\",\"type\":\"ImageRGBA\"},{\"attributes\":{\"axis\":{\"id\":\"96152\"},\"dimension\":1,\"grid_line_alpha\":0.25,\"grid_line_color\":\"#E0E0E0\",\"ticker\":null},\"id\":\"96155\",\"type\":\"Grid\"},{\"attributes\":{\"overlay\":{\"id\":\"96162\"}},\"id\":\"96158\",\"type\":\"BoxZoomTool\"},{\"attributes\":{},\"id\":\"97562\",\"type\":\"BasicTickFormatter\"},{\"attributes\":{\"source\":{\"id\":\"96170\"}},\"id\":\"96174\",\"type\":\"CDSView\"},{\"attributes\":{},\"id\":\"96161\",\"type\":\"HelpTool\"},{\"attributes\":{},\"id\":\"96149\",\"type\":\"BasicTicker\"},{\"attributes\":{},\"id\":\"96142\",\"type\":\"DataRange1d\"},{\"attributes\":{\"data_source\":{\"id\":\"96170\"},\"glyph\":{\"id\":\"96171\"},\"hover_glyph\":null,\"muted_glyph\":null,\"nonselection_glyph\":{\"id\":\"96172\"},\"selection_glyph\":null,\"view\":{\"id\":\"96174\"}},\"id\":\"96173\",\"type\":\"GlyphRenderer\"}],\"root_ids\":[\"96139\"]},\"title\":\"Bokeh Application\",\"version\":\"2.1.1\"}};\n",
       "  var render_items = [{\"docid\":\"fc4ac6e9-c4f5-4bd8-bbe0-e2c2d1467b37\",\"root_ids\":[\"96139\"],\"roots\":{\"96139\":\"22f93c22-e2a6-4dc4-ae02-0e0acfafa0dc\"}}];\n",
       "  root.Bokeh.embed.embed_items_notebook(docs_json, render_items);\n",
       "\n",
       "  }\n",
       "  if (root.Bokeh !== undefined) {\n",
       "    embed_document(root);\n",
       "  } else {\n",
       "    var attempts = 0;\n",
       "    var timer = setInterval(function(root) {\n",
       "      if (root.Bokeh !== undefined) {\n",
       "        clearInterval(timer);\n",
       "        embed_document(root);\n",
       "      } else {\n",
       "        attempts++;\n",
       "        if (attempts > 100) {\n",
       "          clearInterval(timer);\n",
       "          console.log(\"Bokeh: ERROR: Unable to run BokehJS code because BokehJS library is missing\");\n",
       "        }\n",
       "      }\n",
       "    }, 10, root)\n",
       "  }\n",
       "})(window);"
      ],
      "application/vnd.bokehjs_exec.v0+json": ""
     },
     "metadata": {
      "application/vnd.bokehjs_exec.v0+json": {
       "id": "96139"
      }
     },
     "output_type": "display_data"
    }
   ],
   "source": [
    "plotComplexArray(m, maxRad=np.max(np.abs(m)))"
   ]
  },
  {
   "cell_type": "code",
   "execution_count": 512,
   "metadata": {},
   "outputs": [],
   "source": [
    "# np.save(expName+\"measK\", m)\n",
    "np.save(expName+\"measKInv\", m)"
   ]
  },
  {
   "cell_type": "code",
   "execution_count": 278,
   "metadata": {},
   "outputs": [],
   "source": [
    "spr = np.array([5*[0]]).T"
   ]
  },
  {
   "cell_type": "code",
   "execution_count": 279,
   "metadata": {},
   "outputs": [
    {
     "data": {
      "text/html": [
       "\n",
       "\n",
       "\n",
       "\n",
       "\n",
       "\n",
       "  <div class=\"bk-root\" id=\"369145da-4c9c-429c-a10a-b0f10f4ae93f\" data-root-id=\"9460\"></div>\n"
      ]
     },
     "metadata": {},
     "output_type": "display_data"
    },
    {
     "data": {
      "application/javascript": [
       "(function(root) {\n",
       "  function embed_document(root) {\n",
       "    \n",
       "  var docs_json = {\"abe63ff6-52af-4bb5-8f31-93c529cea1e9\":{\"roots\":{\"references\":[{\"attributes\":{\"background_fill_color\":\"#20262B\",\"below\":[{\"id\":\"9469\"}],\"border_fill_color\":\"#15191C\",\"center\":[{\"id\":\"9472\"},{\"id\":\"9476\"}],\"left\":[{\"id\":\"9473\"}],\"outline_line_alpha\":0.25,\"outline_line_color\":\"#E0E0E0\",\"renderers\":[{\"id\":\"9494\"}],\"title\":{\"id\":\"9775\"},\"toolbar\":{\"id\":\"9484\"},\"x_range\":{\"id\":\"9461\"},\"x_scale\":{\"id\":\"9465\"},\"y_range\":{\"id\":\"9463\"},\"y_scale\":{\"id\":\"9467\"}},\"id\":\"9460\",\"subtype\":\"Figure\",\"type\":\"Plot\"},{\"attributes\":{},\"id\":\"9465\",\"type\":\"LinearScale\"},{\"attributes\":{\"bottom_units\":\"screen\",\"fill_alpha\":0.5,\"fill_color\":\"lightgrey\",\"left_units\":\"screen\",\"level\":\"overlay\",\"line_alpha\":1.0,\"line_color\":\"black\",\"line_dash\":[4,4],\"line_width\":2,\"right_units\":\"screen\",\"top_units\":\"screen\"},\"id\":\"9483\",\"type\":\"BoxAnnotation\"},{\"attributes\":{},\"id\":\"9477\",\"type\":\"PanTool\"},{\"attributes\":{},\"id\":\"9470\",\"type\":\"BasicTicker\"},{\"attributes\":{\"dh\":{\"units\":\"data\",\"value\":5},\"dw\":{\"units\":\"data\",\"value\":17},\"global_alpha\":0.1,\"image\":{\"field\":\"image\"},\"x\":{\"value\":0},\"y\":{\"value\":0}},\"id\":\"9493\",\"type\":\"ImageRGBA\"},{\"attributes\":{\"data_source\":{\"id\":\"9491\"},\"glyph\":{\"id\":\"9492\"},\"hover_glyph\":null,\"muted_glyph\":null,\"nonselection_glyph\":{\"id\":\"9493\"},\"selection_glyph\":null,\"view\":{\"id\":\"9495\"}},\"id\":\"9494\",\"type\":\"GlyphRenderer\"},{\"attributes\":{\"axis\":{\"id\":\"9469\"},\"grid_line_alpha\":0.25,\"grid_line_color\":\"#E0E0E0\",\"ticker\":null},\"id\":\"9472\",\"type\":\"Grid\"},{\"attributes\":{\"source\":{\"id\":\"9491\"}},\"id\":\"9495\",\"type\":\"CDSView\"},{\"attributes\":{},\"id\":\"9478\",\"type\":\"WheelZoomTool\"},{\"attributes\":{},\"id\":\"9480\",\"type\":\"SaveTool\"},{\"attributes\":{\"dh\":{\"units\":\"data\",\"value\":5},\"dw\":{\"units\":\"data\",\"value\":17},\"image\":{\"field\":\"image\"},\"x\":{\"value\":0},\"y\":{\"value\":0}},\"id\":\"9492\",\"type\":\"ImageRGBA\"},{\"attributes\":{},\"id\":\"9481\",\"type\":\"ResetTool\"},{\"attributes\":{},\"id\":\"9482\",\"type\":\"HelpTool\"},{\"attributes\":{\"axis\":{\"id\":\"9473\"},\"dimension\":1,\"grid_line_alpha\":0.25,\"grid_line_color\":\"#E0E0E0\",\"ticker\":null},\"id\":\"9476\",\"type\":\"Grid\"},{\"attributes\":{},\"id\":\"9777\",\"type\":\"BasicTickFormatter\"},{\"attributes\":{},\"id\":\"9781\",\"type\":\"UnionRenderers\"},{\"attributes\":{\"axis_label_standoff\":10,\"axis_label_text_color\":\"#E0E0E0\",\"axis_label_text_font\":\"Helvetica\",\"axis_label_text_font_size\":\"1.25em\",\"axis_label_text_font_style\":\"normal\",\"axis_line_alpha\":0,\"axis_line_color\":\"#E0E0E0\",\"formatter\":{\"id\":\"9779\"},\"major_label_text_color\":\"#E0E0E0\",\"major_label_text_font\":\"Helvetica\",\"major_label_text_font_size\":\"1.025em\",\"major_tick_line_alpha\":0,\"major_tick_line_color\":\"#E0E0E0\",\"minor_tick_line_alpha\":0,\"minor_tick_line_color\":\"#E0E0E0\",\"ticker\":{\"id\":\"9474\"}},\"id\":\"9473\",\"type\":\"LinearAxis\"},{\"attributes\":{\"text\":\"\",\"text_color\":{\"value\":\"#E0E0E0\"},\"text_font\":\"Helvetica\",\"text_font_size\":{\"value\":\"1.15em\"}},\"id\":\"9775\",\"type\":\"Title\"},{\"attributes\":{},\"id\":\"9467\",\"type\":\"LinearScale\"},{\"attributes\":{},\"id\":\"9463\",\"type\":\"DataRange1d\"},{\"attributes\":{},\"id\":\"9782\",\"type\":\"Selection\"},{\"attributes\":{},\"id\":\"9461\",\"type\":\"DataRange1d\"},{\"attributes\":{},\"id\":\"9779\",\"type\":\"BasicTickFormatter\"},{\"attributes\":{\"data\":{\"image\":[{\"__ndarray__\":\"Mf8A/zH/AP8x/wD/Mf8A/zH/AP8AAAD/Mf8A/zH/AP8w/wD/MP8A/zD/AP8AAAD/AQEA/wAAAP8AAAD/AAAA/wAAAP8x/wD/Mf8A/zH/AP8x/wD/Mf8A/wAAAP8y/wD/M/8A/zH/AP8y/wD/MP8A/wAAAP8AAAD/AQEA/wAAAP8AAAD/AAAA/zH/AP8x/wD/Mf8A/zH/AP8x/wD/AAAA/zH/AP8x/wD/Mf8A/zL/AP8y/wD/AAAA/wAAAP8AAAD/AQEA/wAAAP8AAAD/Mf8A/zH/AP8x/wD/Mf8A/zH/AP8AAAD/Mv8A/zL/AP8z/wD/Mf8A/zD/AP8AAAD/AAAA/wAAAP8AAAD/AQEA/wAAAP8x/wD/Mf8A/zH/AP8x/wD/Mf8A/wAAAP8w/wD/MP8A/zH/AP8w/wD/Mv8A/wAAAP8AAAD/AAAA/wAAAP8AAAD/AAAA/w==\",\"dtype\":\"uint32\",\"order\":\"little\",\"shape\":[5,17]}]},\"selected\":{\"id\":\"9782\"},\"selection_policy\":{\"id\":\"9781\"}},\"id\":\"9491\",\"type\":\"ColumnDataSource\"},{\"attributes\":{\"active_drag\":\"auto\",\"active_inspect\":\"auto\",\"active_multi\":null,\"active_scroll\":\"auto\",\"active_tap\":\"auto\",\"tools\":[{\"id\":\"9477\"},{\"id\":\"9478\"},{\"id\":\"9479\"},{\"id\":\"9480\"},{\"id\":\"9481\"},{\"id\":\"9482\"}]},\"id\":\"9484\",\"type\":\"Toolbar\"},{\"attributes\":{\"axis_label_standoff\":10,\"axis_label_text_color\":\"#E0E0E0\",\"axis_label_text_font\":\"Helvetica\",\"axis_label_text_font_size\":\"1.25em\",\"axis_label_text_font_style\":\"normal\",\"axis_line_alpha\":0,\"axis_line_color\":\"#E0E0E0\",\"formatter\":{\"id\":\"9777\"},\"major_label_text_color\":\"#E0E0E0\",\"major_label_text_font\":\"Helvetica\",\"major_label_text_font_size\":\"1.025em\",\"major_tick_line_alpha\":0,\"major_tick_line_color\":\"#E0E0E0\",\"minor_tick_line_alpha\":0,\"minor_tick_line_color\":\"#E0E0E0\",\"ticker\":{\"id\":\"9470\"}},\"id\":\"9469\",\"type\":\"LinearAxis\"},{\"attributes\":{\"overlay\":{\"id\":\"9483\"}},\"id\":\"9479\",\"type\":\"BoxZoomTool\"},{\"attributes\":{},\"id\":\"9474\",\"type\":\"BasicTicker\"}],\"root_ids\":[\"9460\"]},\"title\":\"Bokeh Application\",\"version\":\"2.1.1\"}};\n",
       "  var render_items = [{\"docid\":\"abe63ff6-52af-4bb5-8f31-93c529cea1e9\",\"root_ids\":[\"9460\"],\"roots\":{\"9460\":\"369145da-4c9c-429c-a10a-b0f10f4ae93f\"}}];\n",
       "  root.Bokeh.embed.embed_items_notebook(docs_json, render_items);\n",
       "\n",
       "  }\n",
       "  if (root.Bokeh !== undefined) {\n",
       "    embed_document(root);\n",
       "  } else {\n",
       "    var attempts = 0;\n",
       "    var timer = setInterval(function(root) {\n",
       "      if (root.Bokeh !== undefined) {\n",
       "        clearInterval(timer);\n",
       "        embed_document(root);\n",
       "      } else {\n",
       "        attempts++;\n",
       "        if (attempts > 100) {\n",
       "          clearInterval(timer);\n",
       "          console.log(\"Bokeh: ERROR: Unable to run BokehJS code because BokehJS library is missing\");\n",
       "        }\n",
       "      }\n",
       "    }, 10, root)\n",
       "  }\n",
       "})(window);"
      ],
      "application/vnd.bokehjs_exec.v0+json": ""
     },
     "metadata": {
      "application/vnd.bokehjs_exec.v0+json": {
       "id": "9460"
      }
     },
     "output_type": "display_data"
    }
   ],
   "source": [
    "plotData = np.hstack((K, spr, KHWExp, spr, m))\n",
    "plotComplexArray(plotData, maxRad=0.1)"
   ]
  },
  {
   "cell_type": "markdown",
   "metadata": {},
   "source": [
    "## Post Processing"
   ]
  },
  {
   "cell_type": "code",
   "execution_count": 607,
   "metadata": {},
   "outputs": [],
   "source": [
    "expName = 'trial1_'"
   ]
  },
  {
   "cell_type": "code",
   "execution_count": 608,
   "metadata": {},
   "outputs": [],
   "source": [
    "K_goal = np.load(expName+'goalK.npy')\n",
    "K_HWExp = np.load(expName+'KHWExp.npy')\n",
    "K_meas = np.load(expName+'measK.npy')\n",
    "K_measInv = np.load(expName+'measKInv.npy')"
   ]
  },
  {
   "cell_type": "code",
   "execution_count": 609,
   "metadata": {},
   "outputs": [
    {
     "name": "stdout",
     "output_type": "stream",
     "text": [
      "0.16086847249473857\n"
     ]
    },
    {
     "data": {
      "text/html": [
       "\n",
       "\n",
       "\n",
       "\n",
       "\n",
       "\n",
       "  <div class=\"bk-root\" id=\"c97aec23-56d6-441f-8235-5200a0ba7a7d\" data-root-id=\"138621\"></div>\n"
      ]
     },
     "metadata": {},
     "output_type": "display_data"
    },
    {
     "data": {
      "application/javascript": [
       "(function(root) {\n",
       "  function embed_document(root) {\n",
       "    \n",
       "  var docs_json = {\"bab1fccc-2a08-4b10-bc34-6a1c35c39986\":{\"roots\":{\"references\":[{\"attributes\":{\"background_fill_color\":\"#20262B\",\"below\":[{\"id\":\"138630\"}],\"border_fill_color\":\"#15191C\",\"center\":[{\"id\":\"138633\"},{\"id\":\"138637\"}],\"left\":[{\"id\":\"138634\"}],\"outline_line_alpha\":0.25,\"outline_line_color\":\"#E0E0E0\",\"renderers\":[{\"id\":\"138655\"}],\"title\":{\"id\":\"140364\"},\"toolbar\":{\"id\":\"138645\"},\"x_range\":{\"id\":\"138622\"},\"x_scale\":{\"id\":\"138626\"},\"y_range\":{\"id\":\"138624\"},\"y_scale\":{\"id\":\"138628\"}},\"id\":\"138621\",\"subtype\":\"Figure\",\"type\":\"Plot\"},{\"attributes\":{\"dh\":{\"units\":\"data\",\"value\":5},\"dw\":{\"units\":\"data\",\"value\":17},\"image\":{\"field\":\"image\"},\"x\":{\"value\":0},\"y\":{\"value\":0}},\"id\":\"138653\",\"type\":\"ImageRGBA\"},{\"attributes\":{},\"id\":\"138624\",\"type\":\"DataRange1d\"},{\"attributes\":{\"bottom_units\":\"screen\",\"fill_alpha\":0.5,\"fill_color\":\"lightgrey\",\"left_units\":\"screen\",\"level\":\"overlay\",\"line_alpha\":1.0,\"line_color\":\"black\",\"line_dash\":[4,4],\"line_width\":2,\"right_units\":\"screen\",\"top_units\":\"screen\"},\"id\":\"138644\",\"type\":\"BoxAnnotation\"},{\"attributes\":{},\"id\":\"140370\",\"type\":\"UnionRenderers\"},{\"attributes\":{},\"id\":\"138622\",\"type\":\"DataRange1d\"},{\"attributes\":{},\"id\":\"138628\",\"type\":\"LinearScale\"},{\"attributes\":{\"text\":\"\",\"text_color\":{\"value\":\"#E0E0E0\"},\"text_font\":\"Helvetica\",\"text_font_size\":{\"value\":\"1.15em\"}},\"id\":\"140364\",\"type\":\"Title\"},{\"attributes\":{},\"id\":\"138626\",\"type\":\"LinearScale\"},{\"attributes\":{},\"id\":\"138635\",\"type\":\"BasicTicker\"},{\"attributes\":{},\"id\":\"138631\",\"type\":\"BasicTicker\"},{\"attributes\":{},\"id\":\"138638\",\"type\":\"PanTool\"},{\"attributes\":{\"axis_label_standoff\":10,\"axis_label_text_color\":\"#E0E0E0\",\"axis_label_text_font\":\"Helvetica\",\"axis_label_text_font_size\":\"1.25em\",\"axis_label_text_font_style\":\"normal\",\"axis_line_alpha\":0,\"axis_line_color\":\"#E0E0E0\",\"formatter\":{\"id\":\"140366\"},\"major_label_text_color\":\"#E0E0E0\",\"major_label_text_font\":\"Helvetica\",\"major_label_text_font_size\":\"1.025em\",\"major_tick_line_alpha\":0,\"major_tick_line_color\":\"#E0E0E0\",\"minor_tick_line_alpha\":0,\"minor_tick_line_color\":\"#E0E0E0\",\"ticker\":{\"id\":\"138631\"}},\"id\":\"138630\",\"type\":\"LinearAxis\"},{\"attributes\":{\"axis\":{\"id\":\"138630\"},\"grid_line_alpha\":0.25,\"grid_line_color\":\"#E0E0E0\",\"ticker\":null},\"id\":\"138633\",\"type\":\"Grid\"},{\"attributes\":{\"dh\":{\"units\":\"data\",\"value\":5},\"dw\":{\"units\":\"data\",\"value\":17},\"global_alpha\":0.1,\"image\":{\"field\":\"image\"},\"x\":{\"value\":0},\"y\":{\"value\":0}},\"id\":\"138654\",\"type\":\"ImageRGBA\"},{\"attributes\":{\"data\":{\"image\":[{\"__ndarray__\":\"MPsA/zD7AP8w+wD/MPsA/zD7AP8AAAD/MPsA/zD8AP8v+wD/L/sA/y/7AP8AAAD/OfwA/0DwAP879wD/Nv8A/zr5AP8w+wD/MPsA/zD7AP8w+wD/MPsA/wAAAP8x+wD/MvsA/zD8AP8x+wD/L/sA/wAAAP8z/QD/OfwA/z33AP9A9gD/O/wA/zD7AP8w+wD/MPsA/zD7AP8w+wD/AAAA/zD7AP8w+wD/MPsA/zL8AP8x+wD/AAAA/0LvAP9D8QD/N/oA/0v4AP8/+gD/MPsA/zD7AP8w+wD/MPsA/zD7AP8AAAD/MfsA/zH7AP8y+wD/MPsA/y/7AP8AAAD/OfgA/zj4AP9H9AD/P/gA/z36AP8w+wD/MPsA/zD7AP8w+wD/MPsA/wAAAP8v+wD/L/sA/zD7AP8v+wD/MfsA/wAAAP81+gD/N/cA/0L1AP9D9wD/Pv4A/w==\",\"dtype\":\"uint32\",\"order\":\"little\",\"shape\":[5,17]}]},\"selected\":{\"id\":\"140371\"},\"selection_policy\":{\"id\":\"140370\"}},\"id\":\"138652\",\"type\":\"ColumnDataSource\"},{\"attributes\":{\"axis_label_standoff\":10,\"axis_label_text_color\":\"#E0E0E0\",\"axis_label_text_font\":\"Helvetica\",\"axis_label_text_font_size\":\"1.25em\",\"axis_label_text_font_style\":\"normal\",\"axis_line_alpha\":0,\"axis_line_color\":\"#E0E0E0\",\"formatter\":{\"id\":\"140368\"},\"major_label_text_color\":\"#E0E0E0\",\"major_label_text_font\":\"Helvetica\",\"major_label_text_font_size\":\"1.025em\",\"major_tick_line_alpha\":0,\"major_tick_line_color\":\"#E0E0E0\",\"minor_tick_line_alpha\":0,\"minor_tick_line_color\":\"#E0E0E0\",\"ticker\":{\"id\":\"138635\"}},\"id\":\"138634\",\"type\":\"LinearAxis\"},{\"attributes\":{},\"id\":\"138642\",\"type\":\"ResetTool\"},{\"attributes\":{},\"id\":\"140371\",\"type\":\"Selection\"},{\"attributes\":{},\"id\":\"138639\",\"type\":\"WheelZoomTool\"},{\"attributes\":{},\"id\":\"138641\",\"type\":\"SaveTool\"},{\"attributes\":{\"overlay\":{\"id\":\"138644\"}},\"id\":\"138640\",\"type\":\"BoxZoomTool\"},{\"attributes\":{},\"id\":\"138643\",\"type\":\"HelpTool\"},{\"attributes\":{},\"id\":\"140366\",\"type\":\"BasicTickFormatter\"},{\"attributes\":{\"source\":{\"id\":\"138652\"}},\"id\":\"138656\",\"type\":\"CDSView\"},{\"attributes\":{},\"id\":\"140368\",\"type\":\"BasicTickFormatter\"},{\"attributes\":{\"data_source\":{\"id\":\"138652\"},\"glyph\":{\"id\":\"138653\"},\"hover_glyph\":null,\"muted_glyph\":null,\"nonselection_glyph\":{\"id\":\"138654\"},\"selection_glyph\":null,\"view\":{\"id\":\"138656\"}},\"id\":\"138655\",\"type\":\"GlyphRenderer\"},{\"attributes\":{\"axis\":{\"id\":\"138634\"},\"dimension\":1,\"grid_line_alpha\":0.25,\"grid_line_color\":\"#E0E0E0\",\"ticker\":null},\"id\":\"138637\",\"type\":\"Grid\"},{\"attributes\":{\"active_drag\":\"auto\",\"active_inspect\":\"auto\",\"active_multi\":null,\"active_scroll\":\"auto\",\"active_tap\":\"auto\",\"tools\":[{\"id\":\"138638\"},{\"id\":\"138639\"},{\"id\":\"138640\"},{\"id\":\"138641\"},{\"id\":\"138642\"},{\"id\":\"138643\"}]},\"id\":\"138645\",\"type\":\"Toolbar\"}],\"root_ids\":[\"138621\"]},\"title\":\"Bokeh Application\",\"version\":\"2.1.1\"}};\n",
       "  var render_items = [{\"docid\":\"bab1fccc-2a08-4b10-bc34-6a1c35c39986\",\"root_ids\":[\"138621\"],\"roots\":{\"138621\":\"c97aec23-56d6-441f-8235-5200a0ba7a7d\"}}];\n",
       "  root.Bokeh.embed.embed_items_notebook(docs_json, render_items);\n",
       "\n",
       "  }\n",
       "  if (root.Bokeh !== undefined) {\n",
       "    embed_document(root);\n",
       "  } else {\n",
       "    var attempts = 0;\n",
       "    var timer = setInterval(function(root) {\n",
       "      if (root.Bokeh !== undefined) {\n",
       "        clearInterval(timer);\n",
       "        embed_document(root);\n",
       "      } else {\n",
       "        attempts++;\n",
       "        if (attempts > 100) {\n",
       "          clearInterval(timer);\n",
       "          console.log(\"Bokeh: ERROR: Unable to run BokehJS code because BokehJS library is missing\");\n",
       "        }\n",
       "      }\n",
       "    }, 10, root)\n",
       "  }\n",
       "})(window);"
      ],
      "application/vnd.bokehjs_exec.v0+json": ""
     },
     "metadata": {
      "application/vnd.bokehjs_exec.v0+json": {
       "id": "138621"
      }
     },
     "output_type": "display_data"
    }
   ],
   "source": [
    "plotData = np.hstack((K_goal, spr, K_HWExp, spr, K_meas))\n",
    "maxVal = np.max(np.abs(plotData))\n",
    "print(maxVal)\n",
    "plotComplexArray(plotData, maxRad=maxVal)"
   ]
  },
  {
   "cell_type": "code",
   "execution_count": 610,
   "metadata": {},
   "outputs": [
    {
     "data": {
      "text/html": [
       "\n",
       "\n",
       "\n",
       "\n",
       "\n",
       "\n",
       "  <div class=\"bk-root\" id=\"44956e5f-bc53-498e-a9fd-c004739baa70\" data-root-id=\"140427\"></div>\n"
      ]
     },
     "metadata": {},
     "output_type": "display_data"
    },
    {
     "data": {
      "application/javascript": [
       "(function(root) {\n",
       "  function embed_document(root) {\n",
       "    \n",
       "  var docs_json = {\"126ef388-5993-4f4e-a923-e9418206f538\":{\"roots\":{\"references\":[{\"attributes\":{\"background_fill_color\":\"#20262B\",\"below\":[{\"id\":\"140438\"}],\"border_fill_color\":\"#15191C\",\"center\":[{\"id\":\"140441\"},{\"id\":\"140445\"}],\"left\":[{\"id\":\"140442\"}],\"outline_line_alpha\":0.25,\"outline_line_color\":\"#E0E0E0\",\"plot_height\":400,\"plot_width\":400,\"renderers\":[{\"id\":\"140467\"},{\"id\":\"140472\"},{\"id\":\"140477\"},{\"id\":\"140481\"},{\"id\":\"140486\"},{\"id\":\"140490\"},{\"id\":\"140494\"}],\"title\":{\"id\":\"140428\"},\"toolbar\":{\"id\":\"140453\"},\"x_range\":{\"id\":\"140430\"},\"x_scale\":{\"id\":\"140434\"},\"y_range\":{\"id\":\"140432\"},\"y_scale\":{\"id\":\"140436\"}},\"id\":\"140427\",\"subtype\":\"Figure\",\"type\":\"Plot\"},{\"attributes\":{\"data_source\":{\"id\":\"140469\"},\"glyph\":{\"id\":\"140470\"},\"hover_glyph\":null,\"muted_glyph\":null,\"nonselection_glyph\":{\"id\":\"140471\"},\"selection_glyph\":null,\"view\":{\"id\":\"140473\"}},\"id\":\"140472\",\"type\":\"GlyphRenderer\"},{\"attributes\":{\"source\":{\"id\":\"140492\"}},\"id\":\"140495\",\"type\":\"CDSView\"},{\"attributes\":{},\"id\":\"142220\",\"type\":\"Selection\"},{\"attributes\":{\"line_alpha\":0.1,\"line_color\":\"gray\",\"x\":{\"field\":\"x\"},\"y\":{\"field\":\"y\"}},\"id\":\"140471\",\"type\":\"Line\"},{\"attributes\":{},\"id\":\"140451\",\"type\":\"HelpTool\"},{\"attributes\":{},\"id\":\"142219\",\"type\":\"UnionRenderers\"},{\"attributes\":{\"data_source\":{\"id\":\"140474\"},\"glyph\":{\"id\":\"140475\"},\"hover_glyph\":null,\"muted_glyph\":null,\"nonselection_glyph\":{\"id\":\"140476\"},\"selection_glyph\":null,\"view\":{\"id\":\"140478\"}},\"id\":\"140477\",\"type\":\"GlyphRenderer\"},{\"attributes\":{},\"id\":\"140436\",\"type\":\"LinearScale\"},{\"attributes\":{},\"id\":\"142228\",\"type\":\"Selection\"},{\"attributes\":{\"source\":{\"id\":\"140469\"}},\"id\":\"140473\",\"type\":\"CDSView\"},{\"attributes\":{\"active_drag\":\"auto\",\"active_inspect\":\"auto\",\"active_multi\":null,\"active_scroll\":\"auto\",\"active_tap\":\"auto\",\"tools\":[{\"id\":\"140446\"},{\"id\":\"140447\"},{\"id\":\"140448\"},{\"id\":\"140449\"},{\"id\":\"140450\"},{\"id\":\"140451\"}]},\"id\":\"140453\",\"type\":\"Toolbar\"},{\"attributes\":{\"end\":1.1,\"start\":-1.1},\"id\":\"140430\",\"type\":\"Range1d\"},{\"attributes\":{\"fill_alpha\":{\"value\":0.1},\"fill_color\":{\"value\":null},\"line_alpha\":{\"value\":0.1},\"line_color\":{\"value\":\"gray\"},\"radius\":{\"field\":\"radius\",\"units\":\"data\"},\"x\":{\"field\":\"x\"},\"y\":{\"field\":\"y\"}},\"id\":\"140466\",\"type\":\"Circle\"},{\"attributes\":{\"fill_color\":{\"value\":null},\"line_color\":{\"value\":\"gray\"},\"radius\":{\"field\":\"radius\",\"units\":\"data\"},\"x\":{\"field\":\"x\"},\"y\":{\"field\":\"y\"}},\"id\":\"140465\",\"type\":\"Circle\"},{\"attributes\":{},\"id\":\"142215\",\"type\":\"UnionRenderers\"},{\"attributes\":{\"text\":\"Big Kappa\",\"text_color\":{\"value\":\"#E0E0E0\"},\"text_font\":\"Helvetica\",\"text_font_size\":{\"value\":\"1.15em\"}},\"id\":\"140428\",\"type\":\"Title\"},{\"attributes\":{\"fill_color\":{\"value\":null},\"line_color\":{\"value\":\"green\"},\"line_width\":{\"value\":3},\"size\":{\"units\":\"screen\",\"value\":10},\"x\":{\"field\":\"x\"},\"y\":{\"field\":\"y\"}},\"id\":\"140489\",\"type\":\"Circle\"},{\"attributes\":{\"data\":{\"x\":[-0.05,-0.05,-0.05,-0.05,-0.05,-0.05,-0.05,-0.05,-0.05,-0.05,-0.05,-0.05,-0.05,-0.05,-0.05,-0.05,-0.05,-0.05,-0.05,-0.05,-0.05,-0.05,-0.05,-0.05,-0.05],\"y\":[0.15,0.15,0.15,0.15,0.15,0.15,0.15,0.15,0.15,0.15,0.15,0.15,0.15,0.15,0.15,0.15,0.15,0.15,0.15,0.15,0.15,0.15,0.15,0.15,0.15]},\"selected\":{\"id\":\"142226\"},\"selection_policy\":{\"id\":\"142225\"}},\"id\":\"140488\",\"type\":\"ColumnDataSource\"},{\"attributes\":{},\"id\":\"140447\",\"type\":\"WheelZoomTool\"},{\"attributes\":{},\"id\":\"142227\",\"type\":\"UnionRenderers\"},{\"attributes\":{},\"id\":\"142214\",\"type\":\"BasicTickFormatter\"},{\"attributes\":{\"source\":{\"id\":\"140483\"}},\"id\":\"140487\",\"type\":\"CDSView\"},{\"attributes\":{\"line_color\":\"gray\",\"x\":{\"field\":\"x\"},\"y\":{\"field\":\"y\"}},\"id\":\"140470\",\"type\":\"Line\"},{\"attributes\":{},\"id\":\"142216\",\"type\":\"Selection\"},{\"attributes\":{},\"id\":\"142225\",\"type\":\"UnionRenderers\"},{\"attributes\":{\"line_alpha\":0.1,\"line_color\":\"gray\",\"x\":{\"field\":\"x\"},\"y\":{\"field\":\"y\"}},\"id\":\"140476\",\"type\":\"Line\"},{\"attributes\":{\"data\":{\"xs\":[[-0.05,-0.04485678874795144],[-0.05,-0.03642006399750788],[-0.05,-0.041978006749539144],[-0.05,-0.04809891259331073],[-0.05,-0.04300535082522799],[-0.05,-0.0488119000864245],[-0.05,-0.04463359624494573],[-0.05,-0.0406219663069327],[-0.05,-0.03833539963382093],[-0.05,-0.04351669762108057],[-0.05,-0.034864505752583194],[-0.05,-0.03525891466416433],[-0.05,-0.04554093501748253],[-0.05,-0.03223231818958804],[-0.05,-0.040231207144163575],[-0.05,-0.04344170381326638],[-0.05,-0.04442312724375764],[-0.05,-0.033381590511640365],[-0.05,-0.03959592813706132],[-0.05,-0.04201666911867266],[-0.05,-0.04695466797876081],[-0.05,-0.04488108141958323],[-0.05,-0.03704668149419042],[-0.05,-0.03683047959565949],[-0.05,-0.04251545408511597]],\"ys\":[[0.15,0.15230417024957213],[0.15,0.14683839284419298],[0.15,0.15001296721198315],[0.15,0.15350947869799936],[0.15,0.15071993116253027],[0.15,0.15173005027890066],[0.15,0.1522240523716577],[0.15,0.15024385815076952],[0.15,0.14998038110084322],[0.15,0.15259788790146783],[0.15,0.14652261437748343],[0.15,0.14787539942515804],[0.15,0.1504987531914522],[0.15,0.15260332058747783],[0.15,0.1521480994983579],[0.15,0.14975955888186507],[0.15,0.14988096511908366],[0.15,0.14976213609633726],[0.15,0.15126682877364708],[0.15,0.1518055644917008],[0.15,0.1504581505490531],[0.15,0.14900859019920298],[0.15,0.14967047733797315],[0.15,0.15090999943589317],[0.15,0.15392131109093565]]},\"selected\":{\"id\":\"142224\"},\"selection_policy\":{\"id\":\"142223\"}},\"id\":\"140483\",\"type\":\"ColumnDataSource\"},{\"attributes\":{\"source\":{\"id\":\"140474\"}},\"id\":\"140478\",\"type\":\"CDSView\"},{\"attributes\":{},\"id\":\"140450\",\"type\":\"ResetTool\"},{\"attributes\":{},\"id\":\"142213\",\"type\":\"BasicTickFormatter\"},{\"attributes\":{\"ticks\":[-1.0,-0.75,-0.5,-0.25,0.0,0.25,0.5,0.75,1.0,1.25,1.5,1.75]},\"id\":\"140462\",\"type\":\"FixedTicker\"},{\"attributes\":{},\"id\":\"142218\",\"type\":\"Selection\"},{\"attributes\":{},\"id\":\"142217\",\"type\":\"UnionRenderers\"},{\"attributes\":{\"bottom_units\":\"screen\",\"fill_alpha\":0.5,\"fill_color\":\"lightgrey\",\"left_units\":\"screen\",\"level\":\"overlay\",\"line_alpha\":1.0,\"line_color\":\"black\",\"line_dash\":[4,4],\"line_width\":2,\"right_units\":\"screen\",\"top_units\":\"screen\"},\"id\":\"140452\",\"type\":\"BoxAnnotation\"},{\"attributes\":{\"data\":{\"x\":[0,0],\"y\":[-1,1]},\"selected\":{\"id\":\"142218\"},\"selection_policy\":{\"id\":\"142217\"}},\"id\":\"140469\",\"type\":\"ColumnDataSource\"},{\"attributes\":{\"line_alpha\":{\"value\":0.1},\"line_color\":{\"value\":\"#1f77b4\"},\"xs\":{\"field\":\"xs\"},\"ys\":{\"field\":\"ys\"}},\"id\":\"140485\",\"type\":\"MultiLine\"},{\"attributes\":{},\"id\":\"140446\",\"type\":\"PanTool\"},{\"attributes\":{\"source\":{\"id\":\"140488\"}},\"id\":\"140491\",\"type\":\"CDSView\"},{\"attributes\":{},\"id\":\"142226\",\"type\":\"Selection\"},{\"attributes\":{\"source\":{\"id\":\"140479\"}},\"id\":\"140482\",\"type\":\"CDSView\"},{\"attributes\":{\"data\":{\"x\":[-0.04485678874795144,-0.03642006399750788,-0.041978006749539144,-0.04809891259331073,-0.04300535082522799,-0.0488119000864245,-0.04463359624494573,-0.0406219663069327,-0.03833539963382093,-0.04351669762108057,-0.034864505752583194,-0.03525891466416433,-0.04554093501748253,-0.03223231818958804,-0.040231207144163575,-0.04344170381326638,-0.04442312724375764,-0.033381590511640365,-0.03959592813706132,-0.04201666911867266,-0.04695466797876081,-0.04488108141958323,-0.03704668149419042,-0.03683047959565949,-0.04251545408511597],\"y\":[0.15230417024957213,0.14683839284419298,0.15001296721198315,0.15350947869799936,0.15071993116253027,0.15173005027890066,0.1522240523716577,0.15024385815076952,0.14998038110084322,0.15259788790146783,0.14652261437748343,0.14787539942515804,0.1504987531914522,0.15260332058747783,0.1521480994983579,0.14975955888186507,0.14988096511908366,0.14976213609633726,0.15126682877364708,0.1518055644917008,0.1504581505490531,0.14900859019920298,0.14967047733797315,0.15090999943589317,0.15392131109093565]},\"selected\":{\"id\":\"142228\"},\"selection_policy\":{\"id\":\"142227\"}},\"id\":\"140492\",\"type\":\"ColumnDataSource\"},{\"attributes\":{\"axis_label_standoff\":10,\"axis_label_text_color\":\"#E0E0E0\",\"axis_label_text_font\":\"Helvetica\",\"axis_label_text_font_size\":\"1.25em\",\"axis_label_text_font_style\":\"normal\",\"axis_line_alpha\":0,\"axis_line_color\":\"#E0E0E0\",\"formatter\":{\"id\":\"142214\"},\"major_label_text_color\":\"#E0E0E0\",\"major_label_text_font\":\"Helvetica\",\"major_label_text_font_size\":\"1.025em\",\"major_tick_line_alpha\":0,\"major_tick_line_color\":\"#E0E0E0\",\"minor_tick_line_alpha\":0,\"minor_tick_line_color\":\"#E0E0E0\",\"ticker\":{\"id\":\"140462\"}},\"id\":\"140442\",\"type\":\"LinearAxis\"},{\"attributes\":{\"source\":{\"id\":\"140464\"}},\"id\":\"140468\",\"type\":\"CDSView\"},{\"attributes\":{\"axis\":{\"id\":\"140442\"},\"dimension\":1,\"grid_line_alpha\":0.25,\"grid_line_color\":null,\"ticker\":null},\"id\":\"140445\",\"type\":\"Grid\"},{\"attributes\":{\"data\":{\"radius\":[0.25,0.5,0.75,1.0],\"x\":[0,0,0,0],\"y\":[0,0,0,0]},\"selected\":{\"id\":\"142216\"},\"selection_policy\":{\"id\":\"142215\"}},\"id\":\"140464\",\"type\":\"ColumnDataSource\"},{\"attributes\":{\"line_color\":\"gray\",\"x\":{\"field\":\"x\"},\"y\":{\"field\":\"y\"}},\"id\":\"140475\",\"type\":\"Line\"},{\"attributes\":{\"data_source\":{\"id\":\"140479\"},\"glyph\":{\"id\":\"140480\"},\"hover_glyph\":null,\"muted_glyph\":null,\"view\":{\"id\":\"140482\"}},\"id\":\"140481\",\"type\":\"GlyphRenderer\"},{\"attributes\":{\"data_source\":{\"id\":\"140464\"},\"glyph\":{\"id\":\"140465\"},\"hover_glyph\":null,\"muted_glyph\":null,\"nonselection_glyph\":{\"id\":\"140466\"},\"selection_glyph\":null,\"view\":{\"id\":\"140468\"}},\"id\":\"140467\",\"type\":\"GlyphRenderer\"},{\"attributes\":{\"line_color\":{\"value\":\"#1f77b4\"},\"xs\":{\"field\":\"xs\"},\"ys\":{\"field\":\"ys\"}},\"id\":\"140484\",\"type\":\"MultiLine\"},{\"attributes\":{\"fill_color\":{\"value\":\"red\"},\"line_color\":{\"value\":null},\"line_width\":{\"value\":3},\"size\":{\"units\":\"screen\",\"value\":5},\"x\":{\"field\":\"x\"},\"y\":{\"field\":\"y\"}},\"id\":\"140493\",\"type\":\"Circle\"},{\"attributes\":{},\"id\":\"142221\",\"type\":\"UnionRenderers\"},{\"attributes\":{},\"id\":\"142224\",\"type\":\"Selection\"},{\"attributes\":{},\"id\":\"142222\",\"type\":\"Selection\"},{\"attributes\":{\"axis\":{\"id\":\"140438\"},\"grid_line_alpha\":0.25,\"grid_line_color\":null,\"ticker\":null},\"id\":\"140441\",\"type\":\"Grid\"},{\"attributes\":{},\"id\":\"140449\",\"type\":\"SaveTool\"},{\"attributes\":{\"end\":1.1,\"start\":-1.1},\"id\":\"140432\",\"type\":\"Range1d\"},{\"attributes\":{},\"id\":\"142223\",\"type\":\"UnionRenderers\"},{\"attributes\":{\"data_source\":{\"id\":\"140483\"},\"glyph\":{\"id\":\"140484\"},\"hover_glyph\":null,\"muted_glyph\":null,\"nonselection_glyph\":{\"id\":\"140485\"},\"selection_glyph\":null,\"view\":{\"id\":\"140487\"}},\"id\":\"140486\",\"type\":\"GlyphRenderer\"},{\"attributes\":{\"data_source\":{\"id\":\"140488\"},\"glyph\":{\"id\":\"140489\"},\"hover_glyph\":null,\"muted_glyph\":null,\"view\":{\"id\":\"140491\"}},\"id\":\"140490\",\"type\":\"GlyphRenderer\"},{\"attributes\":{\"data_source\":{\"id\":\"140492\"},\"glyph\":{\"id\":\"140493\"},\"hover_glyph\":null,\"muted_glyph\":null,\"view\":{\"id\":\"140495\"}},\"id\":\"140494\",\"type\":\"GlyphRenderer\"},{\"attributes\":{\"overlay\":{\"id\":\"140452\"}},\"id\":\"140448\",\"type\":\"BoxZoomTool\"},{\"attributes\":{},\"id\":\"140434\",\"type\":\"LinearScale\"},{\"attributes\":{\"data\":{\"x\":[-1,1],\"y\":[0,0]},\"selected\":{\"id\":\"142220\"},\"selection_policy\":{\"id\":\"142219\"}},\"id\":\"140474\",\"type\":\"ColumnDataSource\"},{\"attributes\":{\"data\":{\"text\":[\"0.25\",\"0.50\",\"0.75\",\"1.00\"],\"x\":[0.25,0.5,0.75,1.0],\"y\":[0,0,0,0]},\"selected\":{\"id\":\"142222\"},\"selection_policy\":{\"id\":\"142221\"}},\"id\":\"140479\",\"type\":\"ColumnDataSource\"},{\"attributes\":{\"axis_label_standoff\":10,\"axis_label_text_color\":\"#E0E0E0\",\"axis_label_text_font\":\"Helvetica\",\"axis_label_text_font_size\":\"1.25em\",\"axis_label_text_font_style\":\"normal\",\"axis_line_alpha\":0,\"axis_line_color\":\"#E0E0E0\",\"formatter\":{\"id\":\"142213\"},\"major_label_text_color\":\"#E0E0E0\",\"major_label_text_font\":\"Helvetica\",\"major_label_text_font_size\":\"1.025em\",\"major_tick_line_alpha\":0,\"major_tick_line_color\":\"#E0E0E0\",\"minor_tick_line_alpha\":0,\"minor_tick_line_color\":\"#E0E0E0\",\"ticker\":{\"id\":\"140460\"}},\"id\":\"140438\",\"type\":\"LinearAxis\"},{\"attributes\":{\"ticks\":[-1.0,-0.75,-0.5,-0.25,0.0,0.25,0.5,0.75,1.0,1.25,1.5,1.75]},\"id\":\"140460\",\"type\":\"FixedTicker\"},{\"attributes\":{\"angle\":{\"units\":\"rad\",\"value\":0.3},\"text_color\":{\"value\":\"gray\"},\"text_font_size\":{\"value\":\"10px\"},\"x\":{\"field\":\"x\"},\"y\":{\"field\":\"y\"}},\"id\":\"140480\",\"type\":\"Text\"}],\"root_ids\":[\"140427\"]},\"title\":\"Bokeh Application\",\"version\":\"2.1.1\"}};\n",
       "  var render_items = [{\"docid\":\"126ef388-5993-4f4e-a923-e9418206f538\",\"root_ids\":[\"140427\"],\"roots\":{\"140427\":\"44956e5f-bc53-498e-a9fd-c004739baa70\"}}];\n",
       "  root.Bokeh.embed.embed_items_notebook(docs_json, render_items);\n",
       "\n",
       "  }\n",
       "  if (root.Bokeh !== undefined) {\n",
       "    embed_document(root);\n",
       "  } else {\n",
       "    var attempts = 0;\n",
       "    var timer = setInterval(function(root) {\n",
       "      if (root.Bokeh !== undefined) {\n",
       "        clearInterval(timer);\n",
       "        embed_document(root);\n",
       "      } else {\n",
       "        attempts++;\n",
       "        if (attempts > 100) {\n",
       "          clearInterval(timer);\n",
       "          console.log(\"Bokeh: ERROR: Unable to run BokehJS code because BokehJS library is missing\");\n",
       "        }\n",
       "      }\n",
       "    }, 10, root)\n",
       "  }\n",
       "})(window);"
      ],
      "application/vnd.bokehjs_exec.v0+json": ""
     },
     "metadata": {
      "application/vnd.bokehjs_exec.v0+json": {
       "id": "140427"
      }
     },
     "output_type": "display_data"
    }
   ],
   "source": [
    "pp = PolarPlot(\"Big Kappa\")\n",
    "pp.addMatrixDiff(K_goal, K_meas)\n",
    "# pp.addMatrixDiff(K_goal, K_HWExp)\n",
    "# pp.addMatrix(K_goal, color='green')\n",
    "# pp.addMatrix(K_HWExp, color='cyan')\n",
    "# pp.addMatrix(K_meas, color='red')\n",
    "pp.show()"
   ]
  },
  {
   "cell_type": "code",
   "execution_count": 611,
   "metadata": {},
   "outputs": [],
   "source": [
    "coup1 = np.loadtxt(\"../GoldenSamples/FeedbackCouplerSamples/coupler_1.txt\", dtype=np.complex)\n",
    "coup2 = np.loadtxt(\"../GoldenSamples/FeedbackCouplerSamples/coupler_1_v2.txt\", dtype=np.complex)\n",
    "alpha1 = np.mean([coup1[0,0], coup2[0,0]])\n",
    "alpha2 = np.mean([coup1[1,1], coup2[1,1]])\n",
    "beta = np.mean([coup1[0,1], coup1[1,0], coup2[0,1], coup2[1,0]])"
   ]
  },
  {
   "cell_type": "code",
   "execution_count": 612,
   "metadata": {},
   "outputs": [],
   "source": [
    "K_goal_inv = np.linalg.inv(np.identity(5)-K_goal)\n",
    "K_exp1_inv = np.linalg.inv(np.identity(5)-K_HWExp)\n",
    "K_exp2_inv = np.linalg.inv(np.identity(5)-K_meas)\n",
    "K_meas_inv = (alpha1/beta*K_measInv+(beta-alpha1*alpha2/beta)*np.identity(5))/beta;"
   ]
  },
  {
   "cell_type": "code",
   "execution_count": 613,
   "metadata": {},
   "outputs": [
    {
     "data": {
      "text/plain": [
       "0.0587426419271882"
      ]
     },
     "execution_count": 613,
     "metadata": {},
     "output_type": "execute_result"
    }
   ],
   "source": [
    "np.mean(abs(K_goal_inv-K_meas_inv))"
   ]
  },
  {
   "cell_type": "code",
   "execution_count": 606,
   "metadata": {},
   "outputs": [
    {
     "name": "stdout",
     "output_type": "stream",
     "text": [
      "1.3425483443630606\n"
     ]
    },
    {
     "data": {
      "text/html": [
       "\n",
       "\n",
       "\n",
       "\n",
       "\n",
       "\n",
       "  <div class=\"bk-root\" id=\"23a050c4-9378-4a8d-bf2f-71f3d844aa87\" data-root-id=\"136793\"></div>\n"
      ]
     },
     "metadata": {},
     "output_type": "display_data"
    },
    {
     "data": {
      "application/javascript": [
       "(function(root) {\n",
       "  function embed_document(root) {\n",
       "    \n",
       "  var docs_json = {\"1d9182d8-ed73-4948-b5a8-5f8c8ac1e712\":{\"roots\":{\"references\":[{\"attributes\":{\"background_fill_color\":\"#20262B\",\"below\":[{\"id\":\"136802\"}],\"border_fill_color\":\"#15191C\",\"center\":[{\"id\":\"136805\"},{\"id\":\"136809\"}],\"left\":[{\"id\":\"136806\"}],\"outline_line_alpha\":0.25,\"outline_line_color\":\"#E0E0E0\",\"renderers\":[{\"id\":\"136827\"}],\"title\":{\"id\":\"138527\"},\"toolbar\":{\"id\":\"136817\"},\"x_range\":{\"id\":\"136794\"},\"x_scale\":{\"id\":\"136798\"},\"y_range\":{\"id\":\"136796\"},\"y_scale\":{\"id\":\"136800\"}},\"id\":\"136793\",\"subtype\":\"Figure\",\"type\":\"Plot\"},{\"attributes\":{},\"id\":\"136796\",\"type\":\"DataRange1d\"},{\"attributes\":{\"dh\":{\"units\":\"data\",\"value\":5},\"dw\":{\"units\":\"data\",\"value\":23},\"image\":{\"field\":\"image\"},\"x\":{\"value\":0},\"y\":{\"value\":0}},\"id\":\"136825\",\"type\":\"ImageRGBA\"},{\"attributes\":{},\"id\":\"138533\",\"type\":\"UnionRenderers\"},{\"attributes\":{},\"id\":\"136810\",\"type\":\"PanTool\"},{\"attributes\":{\"data_source\":{\"id\":\"136824\"},\"glyph\":{\"id\":\"136825\"},\"hover_glyph\":null,\"muted_glyph\":null,\"nonselection_glyph\":{\"id\":\"136826\"},\"selection_glyph\":null,\"view\":{\"id\":\"136828\"}},\"id\":\"136827\",\"type\":\"GlyphRenderer\"},{\"attributes\":{\"axis\":{\"id\":\"136806\"},\"dimension\":1,\"grid_line_alpha\":0.25,\"grid_line_color\":\"#E0E0E0\",\"ticker\":null},\"id\":\"136809\",\"type\":\"Grid\"},{\"attributes\":{},\"id\":\"136800\",\"type\":\"LinearScale\"},{\"attributes\":{},\"id\":\"138534\",\"type\":\"Selection\"},{\"attributes\":{},\"id\":\"136814\",\"type\":\"ResetTool\"},{\"attributes\":{\"axis_label_standoff\":10,\"axis_label_text_color\":\"#E0E0E0\",\"axis_label_text_font\":\"Helvetica\",\"axis_label_text_font_size\":\"1.25em\",\"axis_label_text_font_style\":\"normal\",\"axis_line_alpha\":0,\"axis_line_color\":\"#E0E0E0\",\"formatter\":{\"id\":\"138529\"},\"major_label_text_color\":\"#E0E0E0\",\"major_label_text_font\":\"Helvetica\",\"major_label_text_font_size\":\"1.025em\",\"major_tick_line_alpha\":0,\"major_tick_line_color\":\"#E0E0E0\",\"minor_tick_line_alpha\":0,\"minor_tick_line_color\":\"#E0E0E0\",\"ticker\":{\"id\":\"136803\"}},\"id\":\"136802\",\"type\":\"LinearAxis\"},{\"attributes\":{},\"id\":\"136803\",\"type\":\"BasicTicker\"},{\"attributes\":{\"axis_label_standoff\":10,\"axis_label_text_color\":\"#E0E0E0\",\"axis_label_text_font\":\"Helvetica\",\"axis_label_text_font_size\":\"1.25em\",\"axis_label_text_font_style\":\"normal\",\"axis_line_alpha\":0,\"axis_line_color\":\"#E0E0E0\",\"formatter\":{\"id\":\"138531\"},\"major_label_text_color\":\"#E0E0E0\",\"major_label_text_font\":\"Helvetica\",\"major_label_text_font_size\":\"1.025em\",\"major_tick_line_alpha\":0,\"major_tick_line_color\":\"#E0E0E0\",\"minor_tick_line_alpha\":0,\"minor_tick_line_color\":\"#E0E0E0\",\"ticker\":{\"id\":\"136807\"}},\"id\":\"136806\",\"type\":\"LinearAxis\"},{\"attributes\":{},\"id\":\"136807\",\"type\":\"BasicTicker\"},{\"attributes\":{\"axis\":{\"id\":\"136802\"},\"grid_line_alpha\":0.25,\"grid_line_color\":\"#E0E0E0\",\"ticker\":null},\"id\":\"136805\",\"type\":\"Grid\"},{\"attributes\":{},\"id\":\"136794\",\"type\":\"DataRange1d\"},{\"attributes\":{},\"id\":\"138529\",\"type\":\"BasicTickFormatter\"},{\"attributes\":{},\"id\":\"136811\",\"type\":\"WheelZoomTool\"},{\"attributes\":{\"dh\":{\"units\":\"data\",\"value\":5},\"dw\":{\"units\":\"data\",\"value\":23},\"global_alpha\":0.1,\"image\":{\"field\":\"image\"},\"x\":{\"value\":0},\"y\":{\"value\":0}},\"id\":\"136826\",\"type\":\"ImageRGBA\"},{\"attributes\":{\"overlay\":{\"id\":\"136816\"}},\"id\":\"136812\",\"type\":\"BoxZoomTool\"},{\"attributes\":{\"data\":{\"image\":[{\"__ndarray__\":\"nyEA/6AAaf8AAIj/AAJh/5AAkv8AAAD/nyEA/58AaP8AAIf/AAJh/48Akf8AAAD/oikA/6EAbf8AAob/AAZZ/4YAjP8AAAD//ysA/4gAeP8AD4b/ABwY/wAAJf8ALE7/mjYA/00AG/8AMiz/DSUA/wAAAP8AK07/mzYA/00AG/8AMiz/DSUA/wAAAP8ALk//ozoA/04AH/8AMiz/DyQA/wAAAP8AShn//EgA/28AVf8AIBf/EBIA/yoAF/8ANwD/rwA2/zIAHP9KFwD/AAAA/ysAGP8AOAD/sAA2/zIAHP9JFwD/AAAA/ykAG/8AOQL/rgAy/y8AHP9EFAD/AAAA/wAHJP8AXj//zQgA/xcGAP8PAAX/IQAd/y8AKP8LHwD/kQAl/yMLAP8AAAD/IQAd/y8AKP8LIAD/kQAk/yMLAP8AAAD/IgAd/y4AKP8JHQD/kAAi/yMJAP8AAAD/FgAg/yQAGP8VMwD/ogoA/x0EAP8qADj/dwA2/wAlaf8AHHD/1gCP/wAAAP8qADn/dwA1/wAlaP8AHHD/1QCP/wAAAP8nADP/dAA0/wAlZP8AHGj/zgCG/wAAAP8AIhX/ejcA/w8AR/8ADCz/wgAB/w==\",\"dtype\":\"uint32\",\"order\":\"little\",\"shape\":[5,23]}]},\"selected\":{\"id\":\"138534\"},\"selection_policy\":{\"id\":\"138533\"}},\"id\":\"136824\",\"type\":\"ColumnDataSource\"},{\"attributes\":{},\"id\":\"136815\",\"type\":\"HelpTool\"},{\"attributes\":{},\"id\":\"136798\",\"type\":\"LinearScale\"},{\"attributes\":{},\"id\":\"136813\",\"type\":\"SaveTool\"},{\"attributes\":{},\"id\":\"138531\",\"type\":\"BasicTickFormatter\"},{\"attributes\":{\"text\":\"\",\"text_color\":{\"value\":\"#E0E0E0\"},\"text_font\":\"Helvetica\",\"text_font_size\":{\"value\":\"1.15em\"}},\"id\":\"138527\",\"type\":\"Title\"},{\"attributes\":{\"bottom_units\":\"screen\",\"fill_alpha\":0.5,\"fill_color\":\"lightgrey\",\"left_units\":\"screen\",\"level\":\"overlay\",\"line_alpha\":1.0,\"line_color\":\"black\",\"line_dash\":[4,4],\"line_width\":2,\"right_units\":\"screen\",\"top_units\":\"screen\"},\"id\":\"136816\",\"type\":\"BoxAnnotation\"},{\"attributes\":{\"active_drag\":\"auto\",\"active_inspect\":\"auto\",\"active_multi\":null,\"active_scroll\":\"auto\",\"active_tap\":\"auto\",\"tools\":[{\"id\":\"136810\"},{\"id\":\"136811\"},{\"id\":\"136812\"},{\"id\":\"136813\"},{\"id\":\"136814\"},{\"id\":\"136815\"}]},\"id\":\"136817\",\"type\":\"Toolbar\"},{\"attributes\":{\"source\":{\"id\":\"136824\"}},\"id\":\"136828\",\"type\":\"CDSView\"}],\"root_ids\":[\"136793\"]},\"title\":\"Bokeh Application\",\"version\":\"2.1.1\"}};\n",
       "  var render_items = [{\"docid\":\"1d9182d8-ed73-4948-b5a8-5f8c8ac1e712\",\"root_ids\":[\"136793\"],\"roots\":{\"136793\":\"23a050c4-9378-4a8d-bf2f-71f3d844aa87\"}}];\n",
       "  root.Bokeh.embed.embed_items_notebook(docs_json, render_items);\n",
       "\n",
       "  }\n",
       "  if (root.Bokeh !== undefined) {\n",
       "    embed_document(root);\n",
       "  } else {\n",
       "    var attempts = 0;\n",
       "    var timer = setInterval(function(root) {\n",
       "      if (root.Bokeh !== undefined) {\n",
       "        clearInterval(timer);\n",
       "        embed_document(root);\n",
       "      } else {\n",
       "        attempts++;\n",
       "        if (attempts > 100) {\n",
       "          clearInterval(timer);\n",
       "          console.log(\"Bokeh: ERROR: Unable to run BokehJS code because BokehJS library is missing\");\n",
       "        }\n",
       "      }\n",
       "    }, 10, root)\n",
       "  }\n",
       "})(window);"
      ],
      "application/vnd.bokehjs_exec.v0+json": ""
     },
     "metadata": {
      "application/vnd.bokehjs_exec.v0+json": {
       "id": "136793"
      }
     },
     "output_type": "display_data"
    }
   ],
   "source": [
    "plotData = np.hstack((K_goal_inv, spr, K_exp1_inv, spr, K_exp2_inv, spr, K_meas_inv))\n",
    "maxV = np.max(np.abs(plotData))\n",
    "print(maxV)\n",
    "plotComplexArray(plotData, maxRad=maxV)"
   ]
  },
  {
   "cell_type": "code",
   "execution_count": 582,
   "metadata": {},
   "outputs": [
    {
     "data": {
      "text/html": [
       "\n",
       "\n",
       "\n",
       "\n",
       "\n",
       "\n",
       "  <div class=\"bk-root\" id=\"3c60bd53-9931-49ee-b9b9-726322e7b4b6\" data-root-id=\"127672\"></div>\n"
      ]
     },
     "metadata": {},
     "output_type": "display_data"
    },
    {
     "data": {
      "application/javascript": [
       "(function(root) {\n",
       "  function embed_document(root) {\n",
       "    \n",
       "  var docs_json = {\"6108dcb1-b5f8-4a13-9d81-720d4a08824c\":{\"roots\":{\"references\":[{\"attributes\":{\"background_fill_color\":\"#20262B\",\"below\":[{\"id\":\"127683\"}],\"border_fill_color\":\"#15191C\",\"center\":[{\"id\":\"127686\"},{\"id\":\"127690\"}],\"left\":[{\"id\":\"127687\"}],\"outline_line_alpha\":0.25,\"outline_line_color\":\"#E0E0E0\",\"plot_height\":400,\"plot_width\":400,\"renderers\":[{\"id\":\"127712\"},{\"id\":\"127717\"},{\"id\":\"127722\"},{\"id\":\"127726\"},{\"id\":\"127731\"},{\"id\":\"127735\"},{\"id\":\"127739\"}],\"title\":{\"id\":\"127673\"},\"toolbar\":{\"id\":\"127698\"},\"x_range\":{\"id\":\"127675\"},\"x_scale\":{\"id\":\"127679\"},\"y_range\":{\"id\":\"127677\"},\"y_scale\":{\"id\":\"127681\"}},\"id\":\"127672\",\"subtype\":\"Figure\",\"type\":\"Plot\"},{\"attributes\":{\"source\":{\"id\":\"127733\"}},\"id\":\"127736\",\"type\":\"CDSView\"},{\"attributes\":{},\"id\":\"129382\",\"type\":\"Selection\"},{\"attributes\":{\"angle\":{\"units\":\"rad\",\"value\":0.3},\"text_color\":{\"value\":\"gray\"},\"text_font_size\":{\"value\":\"10px\"},\"x\":{\"field\":\"x\"},\"y\":{\"field\":\"y\"}},\"id\":\"127725\",\"type\":\"Text\"},{\"attributes\":{\"fill_color\":{\"value\":\"red\"},\"line_color\":{\"value\":null},\"line_width\":{\"value\":3},\"size\":{\"units\":\"screen\",\"value\":5},\"x\":{\"field\":\"x\"},\"y\":{\"field\":\"y\"}},\"id\":\"127738\",\"type\":\"Circle\"},{\"attributes\":{\"data_source\":{\"id\":\"127737\"},\"glyph\":{\"id\":\"127738\"},\"hover_glyph\":null,\"muted_glyph\":null,\"view\":{\"id\":\"127740\"}},\"id\":\"127739\",\"type\":\"GlyphRenderer\"},{\"attributes\":{\"data\":{\"x\":[0.7379521831388881,-0.0742992695103124,-0.264891331188855,0.42214126448794537,-0.23851329967462132,-0.24213983455528768,0.9555691781857532,-0.2675755177149219,-0.16858282278234285,-0.10069791207478249,-0.26336467338138214,-0.0033295037659492365,1.1250861388463311,-0.7407658739152388,0.0913514055504888,-0.02454127471140034,-0.082280299552471,0.0765627710398546,0.958308780446372,-0.06787042724661016,0.3474253816847068,-0.060616078268524144,-0.14276418228442211,0.2966627928609751,0.8552380416191551],\"y\":[0.03403568049544209,0.06134126756934779,-0.11020234005902797,-0.08736850641563541,0.16243049598239728,-0.076840879977837,0.14023256681289475,0.1796218154553187,-0.12932662071091913,-0.0946854427146177,-0.2868874254982981,0.09298855226618592,0.4439290338166117,-0.11216056202744809,0.05831919653761168,0.15497377727039313,-0.23631116132822239,-0.27944287904521525,0.4125440565229225,0.16491954106035492,-0.08234181789736661,0.011551228304029304,0.3602192419650283,-0.08852470011256522,0.03735365812703053]},\"selected\":{\"id\":\"129390\"},\"selection_policy\":{\"id\":\"129389\"}},\"id\":\"127733\",\"type\":\"ColumnDataSource\"},{\"attributes\":{},\"id\":\"129381\",\"type\":\"UnionRenderers\"},{\"attributes\":{\"fill_color\":{\"value\":null},\"line_color\":{\"value\":\"green\"},\"line_width\":{\"value\":3},\"size\":{\"units\":\"screen\",\"value\":10},\"x\":{\"field\":\"x\"},\"y\":{\"field\":\"y\"}},\"id\":\"127734\",\"type\":\"Circle\"},{\"attributes\":{\"source\":{\"id\":\"127737\"}},\"id\":\"127740\",\"type\":\"CDSView\"},{\"attributes\":{\"axis_label_standoff\":10,\"axis_label_text_color\":\"#E0E0E0\",\"axis_label_text_font\":\"Helvetica\",\"axis_label_text_font_size\":\"1.25em\",\"axis_label_text_font_style\":\"normal\",\"axis_line_alpha\":0,\"axis_line_color\":\"#E0E0E0\",\"formatter\":{\"id\":\"129378\"},\"major_label_text_color\":\"#E0E0E0\",\"major_label_text_font\":\"Helvetica\",\"major_label_text_font_size\":\"1.025em\",\"major_tick_line_alpha\":0,\"major_tick_line_color\":\"#E0E0E0\",\"minor_tick_line_alpha\":0,\"minor_tick_line_color\":\"#E0E0E0\",\"ticker\":{\"id\":\"127707\"}},\"id\":\"127687\",\"type\":\"LinearAxis\"},{\"attributes\":{},\"id\":\"129385\",\"type\":\"UnionRenderers\"},{\"attributes\":{},\"id\":\"129388\",\"type\":\"Selection\"},{\"attributes\":{\"axis\":{\"id\":\"127683\"},\"grid_line_alpha\":0.25,\"grid_line_color\":null,\"ticker\":null},\"id\":\"127686\",\"type\":\"Grid\"},{\"attributes\":{},\"id\":\"129383\",\"type\":\"UnionRenderers\"},{\"attributes\":{\"data_source\":{\"id\":\"127724\"},\"glyph\":{\"id\":\"127725\"},\"hover_glyph\":null,\"muted_glyph\":null,\"view\":{\"id\":\"127727\"}},\"id\":\"127726\",\"type\":\"GlyphRenderer\"},{\"attributes\":{\"line_alpha\":0.1,\"line_color\":\"gray\",\"x\":{\"field\":\"x\"},\"y\":{\"field\":\"y\"}},\"id\":\"127721\",\"type\":\"Line\"},{\"attributes\":{\"line_alpha\":{\"value\":0.1},\"line_color\":{\"value\":\"#1f77b4\"},\"xs\":{\"field\":\"xs\"},\"ys\":{\"field\":\"ys\"}},\"id\":\"127730\",\"type\":\"MultiLine\"},{\"attributes\":{\"data\":{\"xs\":[[0.7379521831388881,0.895309311582678],[-0.0742992695103124,-0.08984948167352755],[-0.264891331188855,-0.3559866899741379],[0.42214126448794537,0.5080612649381949],[-0.23851329967462132,-0.3186804706313061],[-0.24213983455528768,-0.2638248483023051],[0.9555691781857532,1.1324386017675265],[-0.2675755177149219,-0.3025028528457897],[-0.16858282278234285,-0.18947422481514523],[-0.10069791207478249,-0.1061336842379951],[-0.26336467338138214,-0.29933542872069613],[-0.0033295037659492365,-0.059179916798909084],[1.1250861388463311,1.373385751550439],[-0.7407658739152388,-0.8422214506939515],[0.0913514055504888,0.11810044032580584],[-0.02454127471140034,-0.049675747190761115],[-0.082280299552471,0.0028831235813880332],[0.0765627710398546,0.03753731789755483],[0.958308780446372,1.1115274017220607],[-0.06787042724661016,-0.09832290316663969],[0.3474253816847068,0.3977219655917355],[-0.060616078268524144,-0.0673888193223365],[-0.14276418228442211,-0.12282442868784671],[0.2966627928609751,0.32647623841968565],[0.8552380416191551,0.9996625021074438]],\"ys\":[[0.03403568049544209,-0.009869758959515333],[0.06134126756934779,0.057500715485295596],[-0.11020234005902797,-0.15261518957715817],[-0.08736850641563541,-0.14096329314336978],[0.16243049598239728,0.20907403453956824],[-0.076840879977837,-0.10675242121579345],[0.14023256681289475,0.24006501440739805],[0.1796218154553187,0.18745912586129268],[-0.12932662071091913,-0.1322511417649143],[-0.0946854427146177,-0.12298125594273711],[-0.2868874254982981,-0.3282532034589139],[0.09298855226618592,0.09717977391785389],[0.4439290338166117,0.4959302351032095],[-0.11216056202744809,-0.1334091754380785],[0.05831919653761168,0.07674923460369998],[0.15497377727039313,0.14817869634973369],[-0.23631116132822239,-0.2865641446976049],[-0.27944287904521525,-0.3347839112169134],[0.4125440565229225,0.5082931708546429],[0.16491954106035492,0.22426048271280996],[-0.08234181789736661,-0.0973411605989437],[0.011551228304029304,-0.039979200904096165],[0.3602192419650283,0.4548855395182665],[-0.08852470011256522,-0.06663904790763543],[0.03735365812703053,0.09540072892813754]]},\"selected\":{\"id\":\"129388\"},\"selection_policy\":{\"id\":\"129387\"}},\"id\":\"127728\",\"type\":\"ColumnDataSource\"},{\"attributes\":{},\"id\":\"129387\",\"type\":\"UnionRenderers\"},{\"attributes\":{},\"id\":\"129391\",\"type\":\"UnionRenderers\"},{\"attributes\":{},\"id\":\"129386\",\"type\":\"Selection\"},{\"attributes\":{\"fill_color\":{\"value\":null},\"line_color\":{\"value\":\"gray\"},\"radius\":{\"field\":\"radius\",\"units\":\"data\"},\"x\":{\"field\":\"x\"},\"y\":{\"field\":\"y\"}},\"id\":\"127710\",\"type\":\"Circle\"},{\"attributes\":{\"end\":1.1,\"start\":-1.1},\"id\":\"127675\",\"type\":\"Range1d\"},{\"attributes\":{\"data\":{\"radius\":[0.25,0.5,0.75,1.0],\"x\":[0,0,0,0],\"y\":[0,0,0,0]},\"selected\":{\"id\":\"129380\"},\"selection_policy\":{\"id\":\"129379\"}},\"id\":\"127709\",\"type\":\"ColumnDataSource\"},{\"attributes\":{\"axis\":{\"id\":\"127687\"},\"dimension\":1,\"grid_line_alpha\":0.25,\"grid_line_color\":null,\"ticker\":null},\"id\":\"127690\",\"type\":\"Grid\"},{\"attributes\":{},\"id\":\"129384\",\"type\":\"Selection\"},{\"attributes\":{\"ticks\":[-1.0,-0.75,-0.5,-0.25,0.0,0.25,0.5,0.75,1.0,1.25,1.5,1.75]},\"id\":\"127707\",\"type\":\"FixedTicker\"},{\"attributes\":{},\"id\":\"129389\",\"type\":\"UnionRenderers\"},{\"attributes\":{},\"id\":\"129390\",\"type\":\"Selection\"},{\"attributes\":{\"data\":{\"text\":[\"0.25\",\"0.50\",\"0.75\",\"1.00\"],\"x\":[0.25,0.5,0.75,1.0],\"y\":[0,0,0,0]},\"selected\":{\"id\":\"129386\"},\"selection_policy\":{\"id\":\"129385\"}},\"id\":\"127724\",\"type\":\"ColumnDataSource\"},{\"attributes\":{\"fill_alpha\":{\"value\":0.1},\"fill_color\":{\"value\":null},\"line_alpha\":{\"value\":0.1},\"line_color\":{\"value\":\"gray\"},\"radius\":{\"field\":\"radius\",\"units\":\"data\"},\"x\":{\"field\":\"x\"},\"y\":{\"field\":\"y\"}},\"id\":\"127711\",\"type\":\"Circle\"},{\"attributes\":{},\"id\":\"129379\",\"type\":\"UnionRenderers\"},{\"attributes\":{\"data_source\":{\"id\":\"127728\"},\"glyph\":{\"id\":\"127729\"},\"hover_glyph\":null,\"muted_glyph\":null,\"nonselection_glyph\":{\"id\":\"127730\"},\"selection_glyph\":null,\"view\":{\"id\":\"127732\"}},\"id\":\"127731\",\"type\":\"GlyphRenderer\"},{\"attributes\":{},\"id\":\"127679\",\"type\":\"LinearScale\"},{\"attributes\":{\"source\":{\"id\":\"127709\"}},\"id\":\"127713\",\"type\":\"CDSView\"},{\"attributes\":{\"text\":\"Inverse\",\"text_color\":{\"value\":\"#E0E0E0\"},\"text_font\":\"Helvetica\",\"text_font_size\":{\"value\":\"1.15em\"}},\"id\":\"127673\",\"type\":\"Title\"},{\"attributes\":{\"data\":{\"x\":[-1,1],\"y\":[0,0]},\"selected\":{\"id\":\"129384\"},\"selection_policy\":{\"id\":\"129383\"}},\"id\":\"127719\",\"type\":\"ColumnDataSource\"},{\"attributes\":{\"axis_label_standoff\":10,\"axis_label_text_color\":\"#E0E0E0\",\"axis_label_text_font\":\"Helvetica\",\"axis_label_text_font_size\":\"1.25em\",\"axis_label_text_font_style\":\"normal\",\"axis_line_alpha\":0,\"axis_line_color\":\"#E0E0E0\",\"formatter\":{\"id\":\"129377\"},\"major_label_text_color\":\"#E0E0E0\",\"major_label_text_font\":\"Helvetica\",\"major_label_text_font_size\":\"1.025em\",\"major_tick_line_alpha\":0,\"major_tick_line_color\":\"#E0E0E0\",\"minor_tick_line_alpha\":0,\"minor_tick_line_color\":\"#E0E0E0\",\"ticker\":{\"id\":\"127705\"}},\"id\":\"127683\",\"type\":\"LinearAxis\"},{\"attributes\":{},\"id\":\"129392\",\"type\":\"Selection\"},{\"attributes\":{},\"id\":\"129378\",\"type\":\"BasicTickFormatter\"},{\"attributes\":{\"data_source\":{\"id\":\"127714\"},\"glyph\":{\"id\":\"127715\"},\"hover_glyph\":null,\"muted_glyph\":null,\"nonselection_glyph\":{\"id\":\"127716\"},\"selection_glyph\":null,\"view\":{\"id\":\"127718\"}},\"id\":\"127717\",\"type\":\"GlyphRenderer\"},{\"attributes\":{},\"id\":\"127696\",\"type\":\"HelpTool\"},{\"attributes\":{\"data\":{\"x\":[0,0],\"y\":[-1,1]},\"selected\":{\"id\":\"129382\"},\"selection_policy\":{\"id\":\"129381\"}},\"id\":\"127714\",\"type\":\"ColumnDataSource\"},{\"attributes\":{\"source\":{\"id\":\"127719\"}},\"id\":\"127723\",\"type\":\"CDSView\"},{\"attributes\":{\"line_color\":\"gray\",\"x\":{\"field\":\"x\"},\"y\":{\"field\":\"y\"}},\"id\":\"127720\",\"type\":\"Line\"},{\"attributes\":{\"line_color\":\"gray\",\"x\":{\"field\":\"x\"},\"y\":{\"field\":\"y\"}},\"id\":\"127715\",\"type\":\"Line\"},{\"attributes\":{},\"id\":\"127695\",\"type\":\"ResetTool\"},{\"attributes\":{\"line_alpha\":0.1,\"line_color\":\"gray\",\"x\":{\"field\":\"x\"},\"y\":{\"field\":\"y\"}},\"id\":\"127716\",\"type\":\"Line\"},{\"attributes\":{},\"id\":\"127691\",\"type\":\"PanTool\"},{\"attributes\":{\"source\":{\"id\":\"127714\"}},\"id\":\"127718\",\"type\":\"CDSView\"},{\"attributes\":{},\"id\":\"127681\",\"type\":\"LinearScale\"},{\"attributes\":{\"data_source\":{\"id\":\"127733\"},\"glyph\":{\"id\":\"127734\"},\"hover_glyph\":null,\"muted_glyph\":null,\"view\":{\"id\":\"127736\"}},\"id\":\"127735\",\"type\":\"GlyphRenderer\"},{\"attributes\":{},\"id\":\"129377\",\"type\":\"BasicTickFormatter\"},{\"attributes\":{\"data_source\":{\"id\":\"127709\"},\"glyph\":{\"id\":\"127710\"},\"hover_glyph\":null,\"muted_glyph\":null,\"nonselection_glyph\":{\"id\":\"127711\"},\"selection_glyph\":null,\"view\":{\"id\":\"127713\"}},\"id\":\"127712\",\"type\":\"GlyphRenderer\"},{\"attributes\":{},\"id\":\"129380\",\"type\":\"Selection\"},{\"attributes\":{\"bottom_units\":\"screen\",\"fill_alpha\":0.5,\"fill_color\":\"lightgrey\",\"left_units\":\"screen\",\"level\":\"overlay\",\"line_alpha\":1.0,\"line_color\":\"black\",\"line_dash\":[4,4],\"line_width\":2,\"right_units\":\"screen\",\"top_units\":\"screen\"},\"id\":\"127697\",\"type\":\"BoxAnnotation\"},{\"attributes\":{\"active_drag\":\"auto\",\"active_inspect\":\"auto\",\"active_multi\":null,\"active_scroll\":\"auto\",\"active_tap\":\"auto\",\"tools\":[{\"id\":\"127691\"},{\"id\":\"127692\"},{\"id\":\"127693\"},{\"id\":\"127694\"},{\"id\":\"127695\"},{\"id\":\"127696\"}]},\"id\":\"127698\",\"type\":\"Toolbar\"},{\"attributes\":{},\"id\":\"127692\",\"type\":\"WheelZoomTool\"},{\"attributes\":{\"source\":{\"id\":\"127728\"}},\"id\":\"127732\",\"type\":\"CDSView\"},{\"attributes\":{\"ticks\":[-1.0,-0.75,-0.5,-0.25,0.0,0.25,0.5,0.75,1.0,1.25,1.5,1.75]},\"id\":\"127705\",\"type\":\"FixedTicker\"},{\"attributes\":{\"data\":{\"x\":[0.895309311582678,-0.08984948167352755,-0.3559866899741379,0.5080612649381949,-0.3186804706313061,-0.2638248483023051,1.1324386017675265,-0.3025028528457897,-0.18947422481514523,-0.1061336842379951,-0.29933542872069613,-0.059179916798909084,1.373385751550439,-0.8422214506939515,0.11810044032580584,-0.049675747190761115,0.0028831235813880332,0.03753731789755483,1.1115274017220607,-0.09832290316663969,0.3977219655917355,-0.0673888193223365,-0.12282442868784671,0.32647623841968565,0.9996625021074438],\"y\":[-0.009869758959515333,0.057500715485295596,-0.15261518957715817,-0.14096329314336978,0.20907403453956824,-0.10675242121579345,0.24006501440739805,0.18745912586129268,-0.1322511417649143,-0.12298125594273711,-0.3282532034589139,0.09717977391785389,0.4959302351032095,-0.1334091754380785,0.07674923460369998,0.14817869634973369,-0.2865641446976049,-0.3347839112169134,0.5082931708546429,0.22426048271280996,-0.0973411605989437,-0.039979200904096165,0.4548855395182665,-0.06663904790763543,0.09540072892813754]},\"selected\":{\"id\":\"129392\"},\"selection_policy\":{\"id\":\"129391\"}},\"id\":\"127737\",\"type\":\"ColumnDataSource\"},{\"attributes\":{},\"id\":\"127694\",\"type\":\"SaveTool\"},{\"attributes\":{\"line_color\":{\"value\":\"#1f77b4\"},\"xs\":{\"field\":\"xs\"},\"ys\":{\"field\":\"ys\"}},\"id\":\"127729\",\"type\":\"MultiLine\"},{\"attributes\":{\"overlay\":{\"id\":\"127697\"}},\"id\":\"127693\",\"type\":\"BoxZoomTool\"},{\"attributes\":{\"source\":{\"id\":\"127724\"}},\"id\":\"127727\",\"type\":\"CDSView\"},{\"attributes\":{\"end\":1.1,\"start\":-1.1},\"id\":\"127677\",\"type\":\"Range1d\"},{\"attributes\":{\"data_source\":{\"id\":\"127719\"},\"glyph\":{\"id\":\"127720\"},\"hover_glyph\":null,\"muted_glyph\":null,\"nonselection_glyph\":{\"id\":\"127721\"},\"selection_glyph\":null,\"view\":{\"id\":\"127723\"}},\"id\":\"127722\",\"type\":\"GlyphRenderer\"}],\"root_ids\":[\"127672\"]},\"title\":\"Bokeh Application\",\"version\":\"2.1.1\"}};\n",
       "  var render_items = [{\"docid\":\"6108dcb1-b5f8-4a13-9d81-720d4a08824c\",\"root_ids\":[\"127672\"],\"roots\":{\"127672\":\"3c60bd53-9931-49ee-b9b9-726322e7b4b6\"}}];\n",
       "  root.Bokeh.embed.embed_items_notebook(docs_json, render_items);\n",
       "\n",
       "  }\n",
       "  if (root.Bokeh !== undefined) {\n",
       "    embed_document(root);\n",
       "  } else {\n",
       "    var attempts = 0;\n",
       "    var timer = setInterval(function(root) {\n",
       "      if (root.Bokeh !== undefined) {\n",
       "        clearInterval(timer);\n",
       "        embed_document(root);\n",
       "      } else {\n",
       "        attempts++;\n",
       "        if (attempts > 100) {\n",
       "          clearInterval(timer);\n",
       "          console.log(\"Bokeh: ERROR: Unable to run BokehJS code because BokehJS library is missing\");\n",
       "        }\n",
       "      }\n",
       "    }, 10, root)\n",
       "  }\n",
       "})(window);"
      ],
      "application/vnd.bokehjs_exec.v0+json": ""
     },
     "metadata": {
      "application/vnd.bokehjs_exec.v0+json": {
       "id": "127672"
      }
     },
     "output_type": "display_data"
    }
   ],
   "source": [
    "pp = PolarPlot(\"Inverse\")\n",
    "pp.addMatrixDiff(K_goal_inv, K_meas_inv)\n",
    "# pp.addMatrixDiff(K_goal, K_HWExp)\n",
    "# pp.addMatrix(K_goal, color='green')\n",
    "# pp.addMatrix(K_HWExp, color='cyan')\n",
    "# pp.addMatrix(K_meas, color='red')\n",
    "pp.show()"
   ]
  },
  {
   "cell_type": "code",
   "execution_count": null,
   "metadata": {},
   "outputs": [],
   "source": []
  }
 ],
 "metadata": {
  "kernelspec": {
   "display_name": "Python 3",
   "language": "python",
   "name": "python3"
  },
  "language_info": {
   "codemirror_mode": {
    "name": "ipython",
    "version": 3
   },
   "file_extension": ".py",
   "mimetype": "text/x-python",
   "name": "python",
   "nbconvert_exporter": "python",
   "pygments_lexer": "ipython3",
   "version": "3.8.3"
  }
 },
 "nbformat": 4,
 "nbformat_minor": 4
}
