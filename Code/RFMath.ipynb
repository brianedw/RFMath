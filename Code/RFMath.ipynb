{
 "cells": [
  {
   "cell_type": "markdown",
   "metadata": {},
   "source": [
    "## Imports"
   ]
  },
  {
   "cell_type": "markdown",
   "metadata": {},
   "source": [
    "### Stock Imports"
   ]
  },
  {
   "cell_type": "code",
   "execution_count": 1,
   "metadata": {},
   "outputs": [],
   "source": [
    "%load_ext autoreload\n",
    "%autoreload 2"
   ]
  },
  {
   "cell_type": "code",
   "execution_count": 2,
   "metadata": {},
   "outputs": [],
   "source": [
    "import os, sys\n",
    "from time import sleep"
   ]
  },
  {
   "cell_type": "code",
   "execution_count": 3,
   "metadata": {},
   "outputs": [
    {
     "data": {
      "text/plain": [
       "'C:\\\\Users\\\\Diego\\\\Documents\\\\Git_code\\\\Brian\\\\RFMath\\\\Code'"
      ]
     },
     "execution_count": 3,
     "metadata": {},
     "output_type": "execute_result"
    }
   ],
   "source": [
    "os.getcwd()"
   ]
  },
  {
   "cell_type": "code",
   "execution_count": 4,
   "metadata": {},
   "outputs": [],
   "source": [
    "import importlib"
   ]
  },
  {
   "cell_type": "code",
   "execution_count": 5,
   "metadata": {},
   "outputs": [],
   "source": [
    "import numpy as np\n",
    "import scipy as sp\n",
    "from scipy.optimize import root\n",
    "from scipy.interpolate import interp2d\n",
    "import itertools\n",
    "import time"
   ]
  },
  {
   "cell_type": "code",
   "execution_count": 6,
   "metadata": {},
   "outputs": [],
   "source": [
    "import PIL"
   ]
  },
  {
   "cell_type": "code",
   "execution_count": 7,
   "metadata": {},
   "outputs": [],
   "source": [
    "from scipy.ndimage import gaussian_filter\n",
    "from scipy import interpolate"
   ]
  },
  {
   "cell_type": "code",
   "execution_count": 8,
   "metadata": {},
   "outputs": [
    {
     "data": {
      "text/html": [
       "\n",
       "    <div class=\"bk-root\">\n",
       "        <a href=\"https://bokeh.org\" target=\"_blank\" class=\"bk-logo bk-logo-small bk-logo-notebook\"></a>\n",
       "        <span id=\"1001\">Loading BokehJS ...</span>\n",
       "    </div>"
      ]
     },
     "metadata": {},
     "output_type": "display_data"
    },
    {
     "data": {
      "application/javascript": [
       "\n",
       "(function(root) {\n",
       "  function now() {\n",
       "    return new Date();\n",
       "  }\n",
       "\n",
       "  var force = true;\n",
       "\n",
       "  if (typeof root._bokeh_onload_callbacks === \"undefined\" || force === true) {\n",
       "    root._bokeh_onload_callbacks = [];\n",
       "    root._bokeh_is_loading = undefined;\n",
       "  }\n",
       "\n",
       "  var JS_MIME_TYPE = 'application/javascript';\n",
       "  var HTML_MIME_TYPE = 'text/html';\n",
       "  var EXEC_MIME_TYPE = 'application/vnd.bokehjs_exec.v0+json';\n",
       "  var CLASS_NAME = 'output_bokeh rendered_html';\n",
       "\n",
       "  /**\n",
       "   * Render data to the DOM node\n",
       "   */\n",
       "  function render(props, node) {\n",
       "    var script = document.createElement(\"script\");\n",
       "    node.appendChild(script);\n",
       "  }\n",
       "\n",
       "  /**\n",
       "   * Handle when an output is cleared or removed\n",
       "   */\n",
       "  function handleClearOutput(event, handle) {\n",
       "    var cell = handle.cell;\n",
       "\n",
       "    var id = cell.output_area._bokeh_element_id;\n",
       "    var server_id = cell.output_area._bokeh_server_id;\n",
       "    // Clean up Bokeh references\n",
       "    if (id != null && id in Bokeh.index) {\n",
       "      Bokeh.index[id].model.document.clear();\n",
       "      delete Bokeh.index[id];\n",
       "    }\n",
       "\n",
       "    if (server_id !== undefined) {\n",
       "      // Clean up Bokeh references\n",
       "      var cmd = \"from bokeh.io.state import curstate; print(curstate().uuid_to_server['\" + server_id + \"'].get_sessions()[0].document.roots[0]._id)\";\n",
       "      cell.notebook.kernel.execute(cmd, {\n",
       "        iopub: {\n",
       "          output: function(msg) {\n",
       "            var id = msg.content.text.trim();\n",
       "            if (id in Bokeh.index) {\n",
       "              Bokeh.index[id].model.document.clear();\n",
       "              delete Bokeh.index[id];\n",
       "            }\n",
       "          }\n",
       "        }\n",
       "      });\n",
       "      // Destroy server and session\n",
       "      var cmd = \"import bokeh.io.notebook as ion; ion.destroy_server('\" + server_id + \"')\";\n",
       "      cell.notebook.kernel.execute(cmd);\n",
       "    }\n",
       "  }\n",
       "\n",
       "  /**\n",
       "   * Handle when a new output is added\n",
       "   */\n",
       "  function handleAddOutput(event, handle) {\n",
       "    var output_area = handle.output_area;\n",
       "    var output = handle.output;\n",
       "\n",
       "    // limit handleAddOutput to display_data with EXEC_MIME_TYPE content only\n",
       "    if ((output.output_type != \"display_data\") || (!output.data.hasOwnProperty(EXEC_MIME_TYPE))) {\n",
       "      return\n",
       "    }\n",
       "\n",
       "    var toinsert = output_area.element.find(\".\" + CLASS_NAME.split(' ')[0]);\n",
       "\n",
       "    if (output.metadata[EXEC_MIME_TYPE][\"id\"] !== undefined) {\n",
       "      toinsert[toinsert.length - 1].firstChild.textContent = output.data[JS_MIME_TYPE];\n",
       "      // store reference to embed id on output_area\n",
       "      output_area._bokeh_element_id = output.metadata[EXEC_MIME_TYPE][\"id\"];\n",
       "    }\n",
       "    if (output.metadata[EXEC_MIME_TYPE][\"server_id\"] !== undefined) {\n",
       "      var bk_div = document.createElement(\"div\");\n",
       "      bk_div.innerHTML = output.data[HTML_MIME_TYPE];\n",
       "      var script_attrs = bk_div.children[0].attributes;\n",
       "      for (var i = 0; i < script_attrs.length; i++) {\n",
       "        toinsert[toinsert.length - 1].firstChild.setAttribute(script_attrs[i].name, script_attrs[i].value);\n",
       "        toinsert[toinsert.length - 1].firstChild.textContent = bk_div.children[0].textContent\n",
       "      }\n",
       "      // store reference to server id on output_area\n",
       "      output_area._bokeh_server_id = output.metadata[EXEC_MIME_TYPE][\"server_id\"];\n",
       "    }\n",
       "  }\n",
       "\n",
       "  function register_renderer(events, OutputArea) {\n",
       "\n",
       "    function append_mime(data, metadata, element) {\n",
       "      // create a DOM node to render to\n",
       "      var toinsert = this.create_output_subarea(\n",
       "        metadata,\n",
       "        CLASS_NAME,\n",
       "        EXEC_MIME_TYPE\n",
       "      );\n",
       "      this.keyboard_manager.register_events(toinsert);\n",
       "      // Render to node\n",
       "      var props = {data: data, metadata: metadata[EXEC_MIME_TYPE]};\n",
       "      render(props, toinsert[toinsert.length - 1]);\n",
       "      element.append(toinsert);\n",
       "      return toinsert\n",
       "    }\n",
       "\n",
       "    /* Handle when an output is cleared or removed */\n",
       "    events.on('clear_output.CodeCell', handleClearOutput);\n",
       "    events.on('delete.Cell', handleClearOutput);\n",
       "\n",
       "    /* Handle when a new output is added */\n",
       "    events.on('output_added.OutputArea', handleAddOutput);\n",
       "\n",
       "    /**\n",
       "     * Register the mime type and append_mime function with output_area\n",
       "     */\n",
       "    OutputArea.prototype.register_mime_type(EXEC_MIME_TYPE, append_mime, {\n",
       "      /* Is output safe? */\n",
       "      safe: true,\n",
       "      /* Index of renderer in `output_area.display_order` */\n",
       "      index: 0\n",
       "    });\n",
       "  }\n",
       "\n",
       "  // register the mime type if in Jupyter Notebook environment and previously unregistered\n",
       "  if (root.Jupyter !== undefined) {\n",
       "    var events = require('base/js/events');\n",
       "    var OutputArea = require('notebook/js/outputarea').OutputArea;\n",
       "\n",
       "    if (OutputArea.prototype.mime_types().indexOf(EXEC_MIME_TYPE) == -1) {\n",
       "      register_renderer(events, OutputArea);\n",
       "    }\n",
       "  }\n",
       "\n",
       "  \n",
       "  if (typeof (root._bokeh_timeout) === \"undefined\" || force === true) {\n",
       "    root._bokeh_timeout = Date.now() + 5000;\n",
       "    root._bokeh_failed_load = false;\n",
       "  }\n",
       "\n",
       "  var NB_LOAD_WARNING = {'data': {'text/html':\n",
       "     \"<div style='background-color: #fdd'>\\n\"+\n",
       "     \"<p>\\n\"+\n",
       "     \"BokehJS does not appear to have successfully loaded. If loading BokehJS from CDN, this \\n\"+\n",
       "     \"may be due to a slow or bad network connection. Possible fixes:\\n\"+\n",
       "     \"</p>\\n\"+\n",
       "     \"<ul>\\n\"+\n",
       "     \"<li>re-rerun `output_notebook()` to attempt to load from CDN again, or</li>\\n\"+\n",
       "     \"<li>use INLINE resources instead, as so:</li>\\n\"+\n",
       "     \"</ul>\\n\"+\n",
       "     \"<code>\\n\"+\n",
       "     \"from bokeh.resources import INLINE\\n\"+\n",
       "     \"output_notebook(resources=INLINE)\\n\"+\n",
       "     \"</code>\\n\"+\n",
       "     \"</div>\"}};\n",
       "\n",
       "  function display_loaded() {\n",
       "    var el = document.getElementById(\"1001\");\n",
       "    if (el != null) {\n",
       "      el.textContent = \"BokehJS is loading...\";\n",
       "    }\n",
       "    if (root.Bokeh !== undefined) {\n",
       "      if (el != null) {\n",
       "        el.textContent = \"BokehJS \" + root.Bokeh.version + \" successfully loaded.\";\n",
       "      }\n",
       "    } else if (Date.now() < root._bokeh_timeout) {\n",
       "      setTimeout(display_loaded, 100)\n",
       "    }\n",
       "  }\n",
       "\n",
       "\n",
       "  function run_callbacks() {\n",
       "    try {\n",
       "      root._bokeh_onload_callbacks.forEach(function(callback) {\n",
       "        if (callback != null)\n",
       "          callback();\n",
       "      });\n",
       "    } finally {\n",
       "      delete root._bokeh_onload_callbacks\n",
       "    }\n",
       "    console.debug(\"Bokeh: all callbacks have finished\");\n",
       "  }\n",
       "\n",
       "  function load_libs(css_urls, js_urls, callback) {\n",
       "    if (css_urls == null) css_urls = [];\n",
       "    if (js_urls == null) js_urls = [];\n",
       "\n",
       "    root._bokeh_onload_callbacks.push(callback);\n",
       "    if (root._bokeh_is_loading > 0) {\n",
       "      console.debug(\"Bokeh: BokehJS is being loaded, scheduling callback at\", now());\n",
       "      return null;\n",
       "    }\n",
       "    if (js_urls == null || js_urls.length === 0) {\n",
       "      run_callbacks();\n",
       "      return null;\n",
       "    }\n",
       "    console.debug(\"Bokeh: BokehJS not loaded, scheduling load and callback at\", now());\n",
       "    root._bokeh_is_loading = css_urls.length + js_urls.length;\n",
       "\n",
       "    function on_load() {\n",
       "      root._bokeh_is_loading--;\n",
       "      if (root._bokeh_is_loading === 0) {\n",
       "        console.debug(\"Bokeh: all BokehJS libraries/stylesheets loaded\");\n",
       "        run_callbacks()\n",
       "      }\n",
       "    }\n",
       "\n",
       "    function on_error() {\n",
       "      console.error(\"failed to load \" + url);\n",
       "    }\n",
       "\n",
       "    for (var i = 0; i < css_urls.length; i++) {\n",
       "      var url = css_urls[i];\n",
       "      const element = document.createElement(\"link\");\n",
       "      element.onload = on_load;\n",
       "      element.onerror = on_error;\n",
       "      element.rel = \"stylesheet\";\n",
       "      element.type = \"text/css\";\n",
       "      element.href = url;\n",
       "      console.debug(\"Bokeh: injecting link tag for BokehJS stylesheet: \", url);\n",
       "      document.body.appendChild(element);\n",
       "    }\n",
       "\n",
       "    const hashes = {\"https://cdn.bokeh.org/bokeh/release/bokeh-2.1.1.min.js\": \"kLr4fYcqcSpbuI95brIH3vnnYCquzzSxHPU6XGQCIkQRGJwhg0StNbj1eegrHs12\", \"https://cdn.bokeh.org/bokeh/release/bokeh-widgets-2.1.1.min.js\": \"xIGPmVtaOm+z0BqfSOMn4lOR6ciex448GIKG4eE61LsAvmGj48XcMQZtKcE/UXZe\", \"https://cdn.bokeh.org/bokeh/release/bokeh-tables-2.1.1.min.js\": \"Dc9u1wF/0zApGIWoBbH77iWEHtdmkuYWG839Uzmv8y8yBLXebjO9ZnERsde5Ln/P\", \"https://cdn.bokeh.org/bokeh/release/bokeh-gl-2.1.1.min.js\": \"cT9JaBz7GiRXdENrJLZNSC6eMNF3nh3fa5fTF51Svp+ukxPdwcU5kGXGPBgDCa2j\"};\n",
       "\n",
       "    for (var i = 0; i < js_urls.length; i++) {\n",
       "      var url = js_urls[i];\n",
       "      var element = document.createElement('script');\n",
       "      element.onload = on_load;\n",
       "      element.onerror = on_error;\n",
       "      element.async = false;\n",
       "      element.src = url;\n",
       "      if (url in hashes) {\n",
       "        element.crossOrigin = \"anonymous\";\n",
       "        element.integrity = \"sha384-\" + hashes[url];\n",
       "      }\n",
       "      console.debug(\"Bokeh: injecting script tag for BokehJS library: \", url);\n",
       "      document.head.appendChild(element);\n",
       "    }\n",
       "  };\n",
       "\n",
       "  function inject_raw_css(css) {\n",
       "    const element = document.createElement(\"style\");\n",
       "    element.appendChild(document.createTextNode(css));\n",
       "    document.body.appendChild(element);\n",
       "  }\n",
       "\n",
       "  \n",
       "  var js_urls = [\"https://cdn.bokeh.org/bokeh/release/bokeh-2.1.1.min.js\", \"https://cdn.bokeh.org/bokeh/release/bokeh-widgets-2.1.1.min.js\", \"https://cdn.bokeh.org/bokeh/release/bokeh-tables-2.1.1.min.js\", \"https://cdn.bokeh.org/bokeh/release/bokeh-gl-2.1.1.min.js\"];\n",
       "  var css_urls = [];\n",
       "  \n",
       "\n",
       "  var inline_js = [\n",
       "    function(Bokeh) {\n",
       "      Bokeh.set_log_level(\"info\");\n",
       "    },\n",
       "    function(Bokeh) {\n",
       "    \n",
       "    \n",
       "    }\n",
       "  ];\n",
       "\n",
       "  function run_inline_js() {\n",
       "    \n",
       "    if (root.Bokeh !== undefined || force === true) {\n",
       "      \n",
       "    for (var i = 0; i < inline_js.length; i++) {\n",
       "      inline_js[i].call(root, root.Bokeh);\n",
       "    }\n",
       "    if (force === true) {\n",
       "        display_loaded();\n",
       "      }} else if (Date.now() < root._bokeh_timeout) {\n",
       "      setTimeout(run_inline_js, 100);\n",
       "    } else if (!root._bokeh_failed_load) {\n",
       "      console.log(\"Bokeh: BokehJS failed to load within specified timeout.\");\n",
       "      root._bokeh_failed_load = true;\n",
       "    } else if (force !== true) {\n",
       "      var cell = $(document.getElementById(\"1001\")).parents('.cell').data().cell;\n",
       "      cell.output_area.append_execute_result(NB_LOAD_WARNING)\n",
       "    }\n",
       "\n",
       "  }\n",
       "\n",
       "  if (root._bokeh_is_loading === 0) {\n",
       "    console.debug(\"Bokeh: BokehJS loaded, going straight to plotting\");\n",
       "    run_inline_js();\n",
       "  } else {\n",
       "    load_libs(css_urls, js_urls, function() {\n",
       "      console.debug(\"Bokeh: BokehJS plotting callback run at\", now());\n",
       "      run_inline_js();\n",
       "    });\n",
       "  }\n",
       "}(window));"
      ],
      "application/vnd.bokehjs_load.v0+json": "\n(function(root) {\n  function now() {\n    return new Date();\n  }\n\n  var force = true;\n\n  if (typeof root._bokeh_onload_callbacks === \"undefined\" || force === true) {\n    root._bokeh_onload_callbacks = [];\n    root._bokeh_is_loading = undefined;\n  }\n\n  \n\n  \n  if (typeof (root._bokeh_timeout) === \"undefined\" || force === true) {\n    root._bokeh_timeout = Date.now() + 5000;\n    root._bokeh_failed_load = false;\n  }\n\n  var NB_LOAD_WARNING = {'data': {'text/html':\n     \"<div style='background-color: #fdd'>\\n\"+\n     \"<p>\\n\"+\n     \"BokehJS does not appear to have successfully loaded. If loading BokehJS from CDN, this \\n\"+\n     \"may be due to a slow or bad network connection. Possible fixes:\\n\"+\n     \"</p>\\n\"+\n     \"<ul>\\n\"+\n     \"<li>re-rerun `output_notebook()` to attempt to load from CDN again, or</li>\\n\"+\n     \"<li>use INLINE resources instead, as so:</li>\\n\"+\n     \"</ul>\\n\"+\n     \"<code>\\n\"+\n     \"from bokeh.resources import INLINE\\n\"+\n     \"output_notebook(resources=INLINE)\\n\"+\n     \"</code>\\n\"+\n     \"</div>\"}};\n\n  function display_loaded() {\n    var el = document.getElementById(\"1001\");\n    if (el != null) {\n      el.textContent = \"BokehJS is loading...\";\n    }\n    if (root.Bokeh !== undefined) {\n      if (el != null) {\n        el.textContent = \"BokehJS \" + root.Bokeh.version + \" successfully loaded.\";\n      }\n    } else if (Date.now() < root._bokeh_timeout) {\n      setTimeout(display_loaded, 100)\n    }\n  }\n\n\n  function run_callbacks() {\n    try {\n      root._bokeh_onload_callbacks.forEach(function(callback) {\n        if (callback != null)\n          callback();\n      });\n    } finally {\n      delete root._bokeh_onload_callbacks\n    }\n    console.debug(\"Bokeh: all callbacks have finished\");\n  }\n\n  function load_libs(css_urls, js_urls, callback) {\n    if (css_urls == null) css_urls = [];\n    if (js_urls == null) js_urls = [];\n\n    root._bokeh_onload_callbacks.push(callback);\n    if (root._bokeh_is_loading > 0) {\n      console.debug(\"Bokeh: BokehJS is being loaded, scheduling callback at\", now());\n      return null;\n    }\n    if (js_urls == null || js_urls.length === 0) {\n      run_callbacks();\n      return null;\n    }\n    console.debug(\"Bokeh: BokehJS not loaded, scheduling load and callback at\", now());\n    root._bokeh_is_loading = css_urls.length + js_urls.length;\n\n    function on_load() {\n      root._bokeh_is_loading--;\n      if (root._bokeh_is_loading === 0) {\n        console.debug(\"Bokeh: all BokehJS libraries/stylesheets loaded\");\n        run_callbacks()\n      }\n    }\n\n    function on_error() {\n      console.error(\"failed to load \" + url);\n    }\n\n    for (var i = 0; i < css_urls.length; i++) {\n      var url = css_urls[i];\n      const element = document.createElement(\"link\");\n      element.onload = on_load;\n      element.onerror = on_error;\n      element.rel = \"stylesheet\";\n      element.type = \"text/css\";\n      element.href = url;\n      console.debug(\"Bokeh: injecting link tag for BokehJS stylesheet: \", url);\n      document.body.appendChild(element);\n    }\n\n    const hashes = {\"https://cdn.bokeh.org/bokeh/release/bokeh-2.1.1.min.js\": \"kLr4fYcqcSpbuI95brIH3vnnYCquzzSxHPU6XGQCIkQRGJwhg0StNbj1eegrHs12\", \"https://cdn.bokeh.org/bokeh/release/bokeh-widgets-2.1.1.min.js\": \"xIGPmVtaOm+z0BqfSOMn4lOR6ciex448GIKG4eE61LsAvmGj48XcMQZtKcE/UXZe\", \"https://cdn.bokeh.org/bokeh/release/bokeh-tables-2.1.1.min.js\": \"Dc9u1wF/0zApGIWoBbH77iWEHtdmkuYWG839Uzmv8y8yBLXebjO9ZnERsde5Ln/P\", \"https://cdn.bokeh.org/bokeh/release/bokeh-gl-2.1.1.min.js\": \"cT9JaBz7GiRXdENrJLZNSC6eMNF3nh3fa5fTF51Svp+ukxPdwcU5kGXGPBgDCa2j\"};\n\n    for (var i = 0; i < js_urls.length; i++) {\n      var url = js_urls[i];\n      var element = document.createElement('script');\n      element.onload = on_load;\n      element.onerror = on_error;\n      element.async = false;\n      element.src = url;\n      if (url in hashes) {\n        element.crossOrigin = \"anonymous\";\n        element.integrity = \"sha384-\" + hashes[url];\n      }\n      console.debug(\"Bokeh: injecting script tag for BokehJS library: \", url);\n      document.head.appendChild(element);\n    }\n  };\n\n  function inject_raw_css(css) {\n    const element = document.createElement(\"style\");\n    element.appendChild(document.createTextNode(css));\n    document.body.appendChild(element);\n  }\n\n  \n  var js_urls = [\"https://cdn.bokeh.org/bokeh/release/bokeh-2.1.1.min.js\", \"https://cdn.bokeh.org/bokeh/release/bokeh-widgets-2.1.1.min.js\", \"https://cdn.bokeh.org/bokeh/release/bokeh-tables-2.1.1.min.js\", \"https://cdn.bokeh.org/bokeh/release/bokeh-gl-2.1.1.min.js\"];\n  var css_urls = [];\n  \n\n  var inline_js = [\n    function(Bokeh) {\n      Bokeh.set_log_level(\"info\");\n    },\n    function(Bokeh) {\n    \n    \n    }\n  ];\n\n  function run_inline_js() {\n    \n    if (root.Bokeh !== undefined || force === true) {\n      \n    for (var i = 0; i < inline_js.length; i++) {\n      inline_js[i].call(root, root.Bokeh);\n    }\n    if (force === true) {\n        display_loaded();\n      }} else if (Date.now() < root._bokeh_timeout) {\n      setTimeout(run_inline_js, 100);\n    } else if (!root._bokeh_failed_load) {\n      console.log(\"Bokeh: BokehJS failed to load within specified timeout.\");\n      root._bokeh_failed_load = true;\n    } else if (force !== true) {\n      var cell = $(document.getElementById(\"1001\")).parents('.cell').data().cell;\n      cell.output_area.append_execute_result(NB_LOAD_WARNING)\n    }\n\n  }\n\n  if (root._bokeh_is_loading === 0) {\n    console.debug(\"Bokeh: BokehJS loaded, going straight to plotting\");\n    run_inline_js();\n  } else {\n    load_libs(css_urls, js_urls, function() {\n      console.debug(\"Bokeh: BokehJS plotting callback run at\", now());\n      run_inline_js();\n    });\n  }\n}(window));"
     },
     "metadata": {},
     "output_type": "display_data"
    }
   ],
   "source": [
    "import bokeh\n",
    "from bokeh.io import output_notebook\n",
    "from bokeh.plotting import figure, show\n",
    "output_notebook()\n",
    "from bokeh.palettes import Dark2\n",
    "bokeh.io.curdoc().theme = 'dark_minimal'\n",
    "palette = Dark2[8]*10"
   ]
  },
  {
   "cell_type": "code",
   "execution_count": 9,
   "metadata": {},
   "outputs": [],
   "source": [
    "palette = Dark2[8]*10\n",
    "colors = itertools.cycle(palette)"
   ]
  },
  {
   "cell_type": "code",
   "execution_count": 10,
   "metadata": {},
   "outputs": [
    {
     "data": {
      "text/html": [
       "\n",
       "    <div class=\"bk-root\">\n",
       "        <a href=\"https://bokeh.org\" target=\"_blank\" class=\"bk-logo bk-logo-small bk-logo-notebook\"></a>\n",
       "        <span id=\"1002\">Loading BokehJS ...</span>\n",
       "    </div>"
      ]
     },
     "metadata": {},
     "output_type": "display_data"
    },
    {
     "data": {
      "application/javascript": [
       "\n",
       "(function(root) {\n",
       "  function now() {\n",
       "    return new Date();\n",
       "  }\n",
       "\n",
       "  var force = true;\n",
       "\n",
       "  if (typeof root._bokeh_onload_callbacks === \"undefined\" || force === true) {\n",
       "    root._bokeh_onload_callbacks = [];\n",
       "    root._bokeh_is_loading = undefined;\n",
       "  }\n",
       "\n",
       "  var JS_MIME_TYPE = 'application/javascript';\n",
       "  var HTML_MIME_TYPE = 'text/html';\n",
       "  var EXEC_MIME_TYPE = 'application/vnd.bokehjs_exec.v0+json';\n",
       "  var CLASS_NAME = 'output_bokeh rendered_html';\n",
       "\n",
       "  /**\n",
       "   * Render data to the DOM node\n",
       "   */\n",
       "  function render(props, node) {\n",
       "    var script = document.createElement(\"script\");\n",
       "    node.appendChild(script);\n",
       "  }\n",
       "\n",
       "  /**\n",
       "   * Handle when an output is cleared or removed\n",
       "   */\n",
       "  function handleClearOutput(event, handle) {\n",
       "    var cell = handle.cell;\n",
       "\n",
       "    var id = cell.output_area._bokeh_element_id;\n",
       "    var server_id = cell.output_area._bokeh_server_id;\n",
       "    // Clean up Bokeh references\n",
       "    if (id != null && id in Bokeh.index) {\n",
       "      Bokeh.index[id].model.document.clear();\n",
       "      delete Bokeh.index[id];\n",
       "    }\n",
       "\n",
       "    if (server_id !== undefined) {\n",
       "      // Clean up Bokeh references\n",
       "      var cmd = \"from bokeh.io.state import curstate; print(curstate().uuid_to_server['\" + server_id + \"'].get_sessions()[0].document.roots[0]._id)\";\n",
       "      cell.notebook.kernel.execute(cmd, {\n",
       "        iopub: {\n",
       "          output: function(msg) {\n",
       "            var id = msg.content.text.trim();\n",
       "            if (id in Bokeh.index) {\n",
       "              Bokeh.index[id].model.document.clear();\n",
       "              delete Bokeh.index[id];\n",
       "            }\n",
       "          }\n",
       "        }\n",
       "      });\n",
       "      // Destroy server and session\n",
       "      var cmd = \"import bokeh.io.notebook as ion; ion.destroy_server('\" + server_id + \"')\";\n",
       "      cell.notebook.kernel.execute(cmd);\n",
       "    }\n",
       "  }\n",
       "\n",
       "  /**\n",
       "   * Handle when a new output is added\n",
       "   */\n",
       "  function handleAddOutput(event, handle) {\n",
       "    var output_area = handle.output_area;\n",
       "    var output = handle.output;\n",
       "\n",
       "    // limit handleAddOutput to display_data with EXEC_MIME_TYPE content only\n",
       "    if ((output.output_type != \"display_data\") || (!output.data.hasOwnProperty(EXEC_MIME_TYPE))) {\n",
       "      return\n",
       "    }\n",
       "\n",
       "    var toinsert = output_area.element.find(\".\" + CLASS_NAME.split(' ')[0]);\n",
       "\n",
       "    if (output.metadata[EXEC_MIME_TYPE][\"id\"] !== undefined) {\n",
       "      toinsert[toinsert.length - 1].firstChild.textContent = output.data[JS_MIME_TYPE];\n",
       "      // store reference to embed id on output_area\n",
       "      output_area._bokeh_element_id = output.metadata[EXEC_MIME_TYPE][\"id\"];\n",
       "    }\n",
       "    if (output.metadata[EXEC_MIME_TYPE][\"server_id\"] !== undefined) {\n",
       "      var bk_div = document.createElement(\"div\");\n",
       "      bk_div.innerHTML = output.data[HTML_MIME_TYPE];\n",
       "      var script_attrs = bk_div.children[0].attributes;\n",
       "      for (var i = 0; i < script_attrs.length; i++) {\n",
       "        toinsert[toinsert.length - 1].firstChild.setAttribute(script_attrs[i].name, script_attrs[i].value);\n",
       "        toinsert[toinsert.length - 1].firstChild.textContent = bk_div.children[0].textContent\n",
       "      }\n",
       "      // store reference to server id on output_area\n",
       "      output_area._bokeh_server_id = output.metadata[EXEC_MIME_TYPE][\"server_id\"];\n",
       "    }\n",
       "  }\n",
       "\n",
       "  function register_renderer(events, OutputArea) {\n",
       "\n",
       "    function append_mime(data, metadata, element) {\n",
       "      // create a DOM node to render to\n",
       "      var toinsert = this.create_output_subarea(\n",
       "        metadata,\n",
       "        CLASS_NAME,\n",
       "        EXEC_MIME_TYPE\n",
       "      );\n",
       "      this.keyboard_manager.register_events(toinsert);\n",
       "      // Render to node\n",
       "      var props = {data: data, metadata: metadata[EXEC_MIME_TYPE]};\n",
       "      render(props, toinsert[toinsert.length - 1]);\n",
       "      element.append(toinsert);\n",
       "      return toinsert\n",
       "    }\n",
       "\n",
       "    /* Handle when an output is cleared or removed */\n",
       "    events.on('clear_output.CodeCell', handleClearOutput);\n",
       "    events.on('delete.Cell', handleClearOutput);\n",
       "\n",
       "    /* Handle when a new output is added */\n",
       "    events.on('output_added.OutputArea', handleAddOutput);\n",
       "\n",
       "    /**\n",
       "     * Register the mime type and append_mime function with output_area\n",
       "     */\n",
       "    OutputArea.prototype.register_mime_type(EXEC_MIME_TYPE, append_mime, {\n",
       "      /* Is output safe? */\n",
       "      safe: true,\n",
       "      /* Index of renderer in `output_area.display_order` */\n",
       "      index: 0\n",
       "    });\n",
       "  }\n",
       "\n",
       "  // register the mime type if in Jupyter Notebook environment and previously unregistered\n",
       "  if (root.Jupyter !== undefined) {\n",
       "    var events = require('base/js/events');\n",
       "    var OutputArea = require('notebook/js/outputarea').OutputArea;\n",
       "\n",
       "    if (OutputArea.prototype.mime_types().indexOf(EXEC_MIME_TYPE) == -1) {\n",
       "      register_renderer(events, OutputArea);\n",
       "    }\n",
       "  }\n",
       "\n",
       "  \n",
       "  if (typeof (root._bokeh_timeout) === \"undefined\" || force === true) {\n",
       "    root._bokeh_timeout = Date.now() + 5000;\n",
       "    root._bokeh_failed_load = false;\n",
       "  }\n",
       "\n",
       "  var NB_LOAD_WARNING = {'data': {'text/html':\n",
       "     \"<div style='background-color: #fdd'>\\n\"+\n",
       "     \"<p>\\n\"+\n",
       "     \"BokehJS does not appear to have successfully loaded. If loading BokehJS from CDN, this \\n\"+\n",
       "     \"may be due to a slow or bad network connection. Possible fixes:\\n\"+\n",
       "     \"</p>\\n\"+\n",
       "     \"<ul>\\n\"+\n",
       "     \"<li>re-rerun `output_notebook()` to attempt to load from CDN again, or</li>\\n\"+\n",
       "     \"<li>use INLINE resources instead, as so:</li>\\n\"+\n",
       "     \"</ul>\\n\"+\n",
       "     \"<code>\\n\"+\n",
       "     \"from bokeh.resources import INLINE\\n\"+\n",
       "     \"output_notebook(resources=INLINE)\\n\"+\n",
       "     \"</code>\\n\"+\n",
       "     \"</div>\"}};\n",
       "\n",
       "  function display_loaded() {\n",
       "    var el = document.getElementById(\"1002\");\n",
       "    if (el != null) {\n",
       "      el.textContent = \"BokehJS is loading...\";\n",
       "    }\n",
       "    if (root.Bokeh !== undefined) {\n",
       "      if (el != null) {\n",
       "        el.textContent = \"BokehJS \" + root.Bokeh.version + \" successfully loaded.\";\n",
       "      }\n",
       "    } else if (Date.now() < root._bokeh_timeout) {\n",
       "      setTimeout(display_loaded, 100)\n",
       "    }\n",
       "  }\n",
       "\n",
       "\n",
       "  function run_callbacks() {\n",
       "    try {\n",
       "      root._bokeh_onload_callbacks.forEach(function(callback) {\n",
       "        if (callback != null)\n",
       "          callback();\n",
       "      });\n",
       "    } finally {\n",
       "      delete root._bokeh_onload_callbacks\n",
       "    }\n",
       "    console.debug(\"Bokeh: all callbacks have finished\");\n",
       "  }\n",
       "\n",
       "  function load_libs(css_urls, js_urls, callback) {\n",
       "    if (css_urls == null) css_urls = [];\n",
       "    if (js_urls == null) js_urls = [];\n",
       "\n",
       "    root._bokeh_onload_callbacks.push(callback);\n",
       "    if (root._bokeh_is_loading > 0) {\n",
       "      console.debug(\"Bokeh: BokehJS is being loaded, scheduling callback at\", now());\n",
       "      return null;\n",
       "    }\n",
       "    if (js_urls == null || js_urls.length === 0) {\n",
       "      run_callbacks();\n",
       "      return null;\n",
       "    }\n",
       "    console.debug(\"Bokeh: BokehJS not loaded, scheduling load and callback at\", now());\n",
       "    root._bokeh_is_loading = css_urls.length + js_urls.length;\n",
       "\n",
       "    function on_load() {\n",
       "      root._bokeh_is_loading--;\n",
       "      if (root._bokeh_is_loading === 0) {\n",
       "        console.debug(\"Bokeh: all BokehJS libraries/stylesheets loaded\");\n",
       "        run_callbacks()\n",
       "      }\n",
       "    }\n",
       "\n",
       "    function on_error() {\n",
       "      console.error(\"failed to load \" + url);\n",
       "    }\n",
       "\n",
       "    for (var i = 0; i < css_urls.length; i++) {\n",
       "      var url = css_urls[i];\n",
       "      const element = document.createElement(\"link\");\n",
       "      element.onload = on_load;\n",
       "      element.onerror = on_error;\n",
       "      element.rel = \"stylesheet\";\n",
       "      element.type = \"text/css\";\n",
       "      element.href = url;\n",
       "      console.debug(\"Bokeh: injecting link tag for BokehJS stylesheet: \", url);\n",
       "      document.body.appendChild(element);\n",
       "    }\n",
       "\n",
       "    const hashes = {\"https://cdn.bokeh.org/bokeh/release/bokeh-2.1.1.min.js\": \"kLr4fYcqcSpbuI95brIH3vnnYCquzzSxHPU6XGQCIkQRGJwhg0StNbj1eegrHs12\", \"https://cdn.bokeh.org/bokeh/release/bokeh-widgets-2.1.1.min.js\": \"xIGPmVtaOm+z0BqfSOMn4lOR6ciex448GIKG4eE61LsAvmGj48XcMQZtKcE/UXZe\", \"https://cdn.bokeh.org/bokeh/release/bokeh-tables-2.1.1.min.js\": \"Dc9u1wF/0zApGIWoBbH77iWEHtdmkuYWG839Uzmv8y8yBLXebjO9ZnERsde5Ln/P\", \"https://cdn.bokeh.org/bokeh/release/bokeh-gl-2.1.1.min.js\": \"cT9JaBz7GiRXdENrJLZNSC6eMNF3nh3fa5fTF51Svp+ukxPdwcU5kGXGPBgDCa2j\"};\n",
       "\n",
       "    for (var i = 0; i < js_urls.length; i++) {\n",
       "      var url = js_urls[i];\n",
       "      var element = document.createElement('script');\n",
       "      element.onload = on_load;\n",
       "      element.onerror = on_error;\n",
       "      element.async = false;\n",
       "      element.src = url;\n",
       "      if (url in hashes) {\n",
       "        element.crossOrigin = \"anonymous\";\n",
       "        element.integrity = \"sha384-\" + hashes[url];\n",
       "      }\n",
       "      console.debug(\"Bokeh: injecting script tag for BokehJS library: \", url);\n",
       "      document.head.appendChild(element);\n",
       "    }\n",
       "  };\n",
       "\n",
       "  function inject_raw_css(css) {\n",
       "    const element = document.createElement(\"style\");\n",
       "    element.appendChild(document.createTextNode(css));\n",
       "    document.body.appendChild(element);\n",
       "  }\n",
       "\n",
       "  \n",
       "  var js_urls = [\"https://cdn.bokeh.org/bokeh/release/bokeh-2.1.1.min.js\", \"https://cdn.bokeh.org/bokeh/release/bokeh-widgets-2.1.1.min.js\", \"https://cdn.bokeh.org/bokeh/release/bokeh-tables-2.1.1.min.js\", \"https://cdn.bokeh.org/bokeh/release/bokeh-gl-2.1.1.min.js\"];\n",
       "  var css_urls = [];\n",
       "  \n",
       "\n",
       "  var inline_js = [\n",
       "    function(Bokeh) {\n",
       "      Bokeh.set_log_level(\"info\");\n",
       "    },\n",
       "    function(Bokeh) {\n",
       "    \n",
       "    \n",
       "    }\n",
       "  ];\n",
       "\n",
       "  function run_inline_js() {\n",
       "    \n",
       "    if (root.Bokeh !== undefined || force === true) {\n",
       "      \n",
       "    for (var i = 0; i < inline_js.length; i++) {\n",
       "      inline_js[i].call(root, root.Bokeh);\n",
       "    }\n",
       "    if (force === true) {\n",
       "        display_loaded();\n",
       "      }} else if (Date.now() < root._bokeh_timeout) {\n",
       "      setTimeout(run_inline_js, 100);\n",
       "    } else if (!root._bokeh_failed_load) {\n",
       "      console.log(\"Bokeh: BokehJS failed to load within specified timeout.\");\n",
       "      root._bokeh_failed_load = true;\n",
       "    } else if (force !== true) {\n",
       "      var cell = $(document.getElementById(\"1002\")).parents('.cell').data().cell;\n",
       "      cell.output_area.append_execute_result(NB_LOAD_WARNING)\n",
       "    }\n",
       "\n",
       "  }\n",
       "\n",
       "  if (root._bokeh_is_loading === 0) {\n",
       "    console.debug(\"Bokeh: BokehJS loaded, going straight to plotting\");\n",
       "    run_inline_js();\n",
       "  } else {\n",
       "    load_libs(css_urls, js_urls, function() {\n",
       "      console.debug(\"Bokeh: BokehJS plotting callback run at\", now());\n",
       "      run_inline_js();\n",
       "    });\n",
       "  }\n",
       "}(window));"
      ],
      "application/vnd.bokehjs_load.v0+json": "\n(function(root) {\n  function now() {\n    return new Date();\n  }\n\n  var force = true;\n\n  if (typeof root._bokeh_onload_callbacks === \"undefined\" || force === true) {\n    root._bokeh_onload_callbacks = [];\n    root._bokeh_is_loading = undefined;\n  }\n\n  \n\n  \n  if (typeof (root._bokeh_timeout) === \"undefined\" || force === true) {\n    root._bokeh_timeout = Date.now() + 5000;\n    root._bokeh_failed_load = false;\n  }\n\n  var NB_LOAD_WARNING = {'data': {'text/html':\n     \"<div style='background-color: #fdd'>\\n\"+\n     \"<p>\\n\"+\n     \"BokehJS does not appear to have successfully loaded. If loading BokehJS from CDN, this \\n\"+\n     \"may be due to a slow or bad network connection. Possible fixes:\\n\"+\n     \"</p>\\n\"+\n     \"<ul>\\n\"+\n     \"<li>re-rerun `output_notebook()` to attempt to load from CDN again, or</li>\\n\"+\n     \"<li>use INLINE resources instead, as so:</li>\\n\"+\n     \"</ul>\\n\"+\n     \"<code>\\n\"+\n     \"from bokeh.resources import INLINE\\n\"+\n     \"output_notebook(resources=INLINE)\\n\"+\n     \"</code>\\n\"+\n     \"</div>\"}};\n\n  function display_loaded() {\n    var el = document.getElementById(\"1002\");\n    if (el != null) {\n      el.textContent = \"BokehJS is loading...\";\n    }\n    if (root.Bokeh !== undefined) {\n      if (el != null) {\n        el.textContent = \"BokehJS \" + root.Bokeh.version + \" successfully loaded.\";\n      }\n    } else if (Date.now() < root._bokeh_timeout) {\n      setTimeout(display_loaded, 100)\n    }\n  }\n\n\n  function run_callbacks() {\n    try {\n      root._bokeh_onload_callbacks.forEach(function(callback) {\n        if (callback != null)\n          callback();\n      });\n    } finally {\n      delete root._bokeh_onload_callbacks\n    }\n    console.debug(\"Bokeh: all callbacks have finished\");\n  }\n\n  function load_libs(css_urls, js_urls, callback) {\n    if (css_urls == null) css_urls = [];\n    if (js_urls == null) js_urls = [];\n\n    root._bokeh_onload_callbacks.push(callback);\n    if (root._bokeh_is_loading > 0) {\n      console.debug(\"Bokeh: BokehJS is being loaded, scheduling callback at\", now());\n      return null;\n    }\n    if (js_urls == null || js_urls.length === 0) {\n      run_callbacks();\n      return null;\n    }\n    console.debug(\"Bokeh: BokehJS not loaded, scheduling load and callback at\", now());\n    root._bokeh_is_loading = css_urls.length + js_urls.length;\n\n    function on_load() {\n      root._bokeh_is_loading--;\n      if (root._bokeh_is_loading === 0) {\n        console.debug(\"Bokeh: all BokehJS libraries/stylesheets loaded\");\n        run_callbacks()\n      }\n    }\n\n    function on_error() {\n      console.error(\"failed to load \" + url);\n    }\n\n    for (var i = 0; i < css_urls.length; i++) {\n      var url = css_urls[i];\n      const element = document.createElement(\"link\");\n      element.onload = on_load;\n      element.onerror = on_error;\n      element.rel = \"stylesheet\";\n      element.type = \"text/css\";\n      element.href = url;\n      console.debug(\"Bokeh: injecting link tag for BokehJS stylesheet: \", url);\n      document.body.appendChild(element);\n    }\n\n    const hashes = {\"https://cdn.bokeh.org/bokeh/release/bokeh-2.1.1.min.js\": \"kLr4fYcqcSpbuI95brIH3vnnYCquzzSxHPU6XGQCIkQRGJwhg0StNbj1eegrHs12\", \"https://cdn.bokeh.org/bokeh/release/bokeh-widgets-2.1.1.min.js\": \"xIGPmVtaOm+z0BqfSOMn4lOR6ciex448GIKG4eE61LsAvmGj48XcMQZtKcE/UXZe\", \"https://cdn.bokeh.org/bokeh/release/bokeh-tables-2.1.1.min.js\": \"Dc9u1wF/0zApGIWoBbH77iWEHtdmkuYWG839Uzmv8y8yBLXebjO9ZnERsde5Ln/P\", \"https://cdn.bokeh.org/bokeh/release/bokeh-gl-2.1.1.min.js\": \"cT9JaBz7GiRXdENrJLZNSC6eMNF3nh3fa5fTF51Svp+ukxPdwcU5kGXGPBgDCa2j\"};\n\n    for (var i = 0; i < js_urls.length; i++) {\n      var url = js_urls[i];\n      var element = document.createElement('script');\n      element.onload = on_load;\n      element.onerror = on_error;\n      element.async = false;\n      element.src = url;\n      if (url in hashes) {\n        element.crossOrigin = \"anonymous\";\n        element.integrity = \"sha384-\" + hashes[url];\n      }\n      console.debug(\"Bokeh: injecting script tag for BokehJS library: \", url);\n      document.head.appendChild(element);\n    }\n  };\n\n  function inject_raw_css(css) {\n    const element = document.createElement(\"style\");\n    element.appendChild(document.createTextNode(css));\n    document.body.appendChild(element);\n  }\n\n  \n  var js_urls = [\"https://cdn.bokeh.org/bokeh/release/bokeh-2.1.1.min.js\", \"https://cdn.bokeh.org/bokeh/release/bokeh-widgets-2.1.1.min.js\", \"https://cdn.bokeh.org/bokeh/release/bokeh-tables-2.1.1.min.js\", \"https://cdn.bokeh.org/bokeh/release/bokeh-gl-2.1.1.min.js\"];\n  var css_urls = [];\n  \n\n  var inline_js = [\n    function(Bokeh) {\n      Bokeh.set_log_level(\"info\");\n    },\n    function(Bokeh) {\n    \n    \n    }\n  ];\n\n  function run_inline_js() {\n    \n    if (root.Bokeh !== undefined || force === true) {\n      \n    for (var i = 0; i < inline_js.length; i++) {\n      inline_js[i].call(root, root.Bokeh);\n    }\n    if (force === true) {\n        display_loaded();\n      }} else if (Date.now() < root._bokeh_timeout) {\n      setTimeout(run_inline_js, 100);\n    } else if (!root._bokeh_failed_load) {\n      console.log(\"Bokeh: BokehJS failed to load within specified timeout.\");\n      root._bokeh_failed_load = true;\n    } else if (force !== true) {\n      var cell = $(document.getElementById(\"1002\")).parents('.cell').data().cell;\n      cell.output_area.append_execute_result(NB_LOAD_WARNING)\n    }\n\n  }\n\n  if (root._bokeh_is_loading === 0) {\n    console.debug(\"Bokeh: BokehJS loaded, going straight to plotting\");\n    run_inline_js();\n  } else {\n    load_libs(css_urls, js_urls, function() {\n      console.debug(\"Bokeh: BokehJS plotting callback run at\", now());\n      run_inline_js();\n    });\n  }\n}(window));"
     },
     "metadata": {},
     "output_type": "display_data"
    }
   ],
   "source": [
    "from UtilityMath import plotComplexArray"
   ]
  },
  {
   "cell_type": "code",
   "execution_count": 11,
   "metadata": {},
   "outputs": [],
   "source": [
    "import skrf as rf"
   ]
  },
  {
   "cell_type": "code",
   "execution_count": 12,
   "metadata": {},
   "outputs": [],
   "source": [
    "from scipy.optimize import minimize"
   ]
  },
  {
   "cell_type": "markdown",
   "metadata": {},
   "source": [
    "### Custom Imports"
   ]
  },
  {
   "cell_type": "code",
   "execution_count": 13,
   "metadata": {},
   "outputs": [],
   "source": [
    "from NetworkBuilding import (BuildMillerNetwork, BuildNewNetwork,\n",
    "                             MillerMultLocsX, MillerCoupLocsX, NewMultLocs,\n",
    "                             ConvertThetaPhiToTcX, \n",
    "                             Build3dBCoupler, Build5PortSplitter)"
   ]
  },
  {
   "cell_type": "code",
   "execution_count": 14,
   "metadata": {},
   "outputs": [
    {
     "name": "stdout",
     "output_type": "stream",
     "text": [
      "The autoreload extension is already loaded. To reload it, use:\n",
      "  %reload_ext autoreload\n"
     ]
    },
    {
     "data": {
      "text/html": [
       "\n",
       "    <div class=\"bk-root\">\n",
       "        <a href=\"https://bokeh.org\" target=\"_blank\" class=\"bk-logo bk-logo-small bk-logo-notebook\"></a>\n",
       "        <span id=\"1145\">Loading BokehJS ...</span>\n",
       "    </div>"
      ]
     },
     "metadata": {},
     "output_type": "display_data"
    },
    {
     "data": {
      "application/javascript": [
       "\n",
       "(function(root) {\n",
       "  function now() {\n",
       "    return new Date();\n",
       "  }\n",
       "\n",
       "  var force = true;\n",
       "\n",
       "  if (typeof root._bokeh_onload_callbacks === \"undefined\" || force === true) {\n",
       "    root._bokeh_onload_callbacks = [];\n",
       "    root._bokeh_is_loading = undefined;\n",
       "  }\n",
       "\n",
       "  var JS_MIME_TYPE = 'application/javascript';\n",
       "  var HTML_MIME_TYPE = 'text/html';\n",
       "  var EXEC_MIME_TYPE = 'application/vnd.bokehjs_exec.v0+json';\n",
       "  var CLASS_NAME = 'output_bokeh rendered_html';\n",
       "\n",
       "  /**\n",
       "   * Render data to the DOM node\n",
       "   */\n",
       "  function render(props, node) {\n",
       "    var script = document.createElement(\"script\");\n",
       "    node.appendChild(script);\n",
       "  }\n",
       "\n",
       "  /**\n",
       "   * Handle when an output is cleared or removed\n",
       "   */\n",
       "  function handleClearOutput(event, handle) {\n",
       "    var cell = handle.cell;\n",
       "\n",
       "    var id = cell.output_area._bokeh_element_id;\n",
       "    var server_id = cell.output_area._bokeh_server_id;\n",
       "    // Clean up Bokeh references\n",
       "    if (id != null && id in Bokeh.index) {\n",
       "      Bokeh.index[id].model.document.clear();\n",
       "      delete Bokeh.index[id];\n",
       "    }\n",
       "\n",
       "    if (server_id !== undefined) {\n",
       "      // Clean up Bokeh references\n",
       "      var cmd = \"from bokeh.io.state import curstate; print(curstate().uuid_to_server['\" + server_id + \"'].get_sessions()[0].document.roots[0]._id)\";\n",
       "      cell.notebook.kernel.execute(cmd, {\n",
       "        iopub: {\n",
       "          output: function(msg) {\n",
       "            var id = msg.content.text.trim();\n",
       "            if (id in Bokeh.index) {\n",
       "              Bokeh.index[id].model.document.clear();\n",
       "              delete Bokeh.index[id];\n",
       "            }\n",
       "          }\n",
       "        }\n",
       "      });\n",
       "      // Destroy server and session\n",
       "      var cmd = \"import bokeh.io.notebook as ion; ion.destroy_server('\" + server_id + \"')\";\n",
       "      cell.notebook.kernel.execute(cmd);\n",
       "    }\n",
       "  }\n",
       "\n",
       "  /**\n",
       "   * Handle when a new output is added\n",
       "   */\n",
       "  function handleAddOutput(event, handle) {\n",
       "    var output_area = handle.output_area;\n",
       "    var output = handle.output;\n",
       "\n",
       "    // limit handleAddOutput to display_data with EXEC_MIME_TYPE content only\n",
       "    if ((output.output_type != \"display_data\") || (!output.data.hasOwnProperty(EXEC_MIME_TYPE))) {\n",
       "      return\n",
       "    }\n",
       "\n",
       "    var toinsert = output_area.element.find(\".\" + CLASS_NAME.split(' ')[0]);\n",
       "\n",
       "    if (output.metadata[EXEC_MIME_TYPE][\"id\"] !== undefined) {\n",
       "      toinsert[toinsert.length - 1].firstChild.textContent = output.data[JS_MIME_TYPE];\n",
       "      // store reference to embed id on output_area\n",
       "      output_area._bokeh_element_id = output.metadata[EXEC_MIME_TYPE][\"id\"];\n",
       "    }\n",
       "    if (output.metadata[EXEC_MIME_TYPE][\"server_id\"] !== undefined) {\n",
       "      var bk_div = document.createElement(\"div\");\n",
       "      bk_div.innerHTML = output.data[HTML_MIME_TYPE];\n",
       "      var script_attrs = bk_div.children[0].attributes;\n",
       "      for (var i = 0; i < script_attrs.length; i++) {\n",
       "        toinsert[toinsert.length - 1].firstChild.setAttribute(script_attrs[i].name, script_attrs[i].value);\n",
       "        toinsert[toinsert.length - 1].firstChild.textContent = bk_div.children[0].textContent\n",
       "      }\n",
       "      // store reference to server id on output_area\n",
       "      output_area._bokeh_server_id = output.metadata[EXEC_MIME_TYPE][\"server_id\"];\n",
       "    }\n",
       "  }\n",
       "\n",
       "  function register_renderer(events, OutputArea) {\n",
       "\n",
       "    function append_mime(data, metadata, element) {\n",
       "      // create a DOM node to render to\n",
       "      var toinsert = this.create_output_subarea(\n",
       "        metadata,\n",
       "        CLASS_NAME,\n",
       "        EXEC_MIME_TYPE\n",
       "      );\n",
       "      this.keyboard_manager.register_events(toinsert);\n",
       "      // Render to node\n",
       "      var props = {data: data, metadata: metadata[EXEC_MIME_TYPE]};\n",
       "      render(props, toinsert[toinsert.length - 1]);\n",
       "      element.append(toinsert);\n",
       "      return toinsert\n",
       "    }\n",
       "\n",
       "    /* Handle when an output is cleared or removed */\n",
       "    events.on('clear_output.CodeCell', handleClearOutput);\n",
       "    events.on('delete.Cell', handleClearOutput);\n",
       "\n",
       "    /* Handle when a new output is added */\n",
       "    events.on('output_added.OutputArea', handleAddOutput);\n",
       "\n",
       "    /**\n",
       "     * Register the mime type and append_mime function with output_area\n",
       "     */\n",
       "    OutputArea.prototype.register_mime_type(EXEC_MIME_TYPE, append_mime, {\n",
       "      /* Is output safe? */\n",
       "      safe: true,\n",
       "      /* Index of renderer in `output_area.display_order` */\n",
       "      index: 0\n",
       "    });\n",
       "  }\n",
       "\n",
       "  // register the mime type if in Jupyter Notebook environment and previously unregistered\n",
       "  if (root.Jupyter !== undefined) {\n",
       "    var events = require('base/js/events');\n",
       "    var OutputArea = require('notebook/js/outputarea').OutputArea;\n",
       "\n",
       "    if (OutputArea.prototype.mime_types().indexOf(EXEC_MIME_TYPE) == -1) {\n",
       "      register_renderer(events, OutputArea);\n",
       "    }\n",
       "  }\n",
       "\n",
       "  \n",
       "  if (typeof (root._bokeh_timeout) === \"undefined\" || force === true) {\n",
       "    root._bokeh_timeout = Date.now() + 5000;\n",
       "    root._bokeh_failed_load = false;\n",
       "  }\n",
       "\n",
       "  var NB_LOAD_WARNING = {'data': {'text/html':\n",
       "     \"<div style='background-color: #fdd'>\\n\"+\n",
       "     \"<p>\\n\"+\n",
       "     \"BokehJS does not appear to have successfully loaded. If loading BokehJS from CDN, this \\n\"+\n",
       "     \"may be due to a slow or bad network connection. Possible fixes:\\n\"+\n",
       "     \"</p>\\n\"+\n",
       "     \"<ul>\\n\"+\n",
       "     \"<li>re-rerun `output_notebook()` to attempt to load from CDN again, or</li>\\n\"+\n",
       "     \"<li>use INLINE resources instead, as so:</li>\\n\"+\n",
       "     \"</ul>\\n\"+\n",
       "     \"<code>\\n\"+\n",
       "     \"from bokeh.resources import INLINE\\n\"+\n",
       "     \"output_notebook(resources=INLINE)\\n\"+\n",
       "     \"</code>\\n\"+\n",
       "     \"</div>\"}};\n",
       "\n",
       "  function display_loaded() {\n",
       "    var el = document.getElementById(\"1145\");\n",
       "    if (el != null) {\n",
       "      el.textContent = \"BokehJS is loading...\";\n",
       "    }\n",
       "    if (root.Bokeh !== undefined) {\n",
       "      if (el != null) {\n",
       "        el.textContent = \"BokehJS \" + root.Bokeh.version + \" successfully loaded.\";\n",
       "      }\n",
       "    } else if (Date.now() < root._bokeh_timeout) {\n",
       "      setTimeout(display_loaded, 100)\n",
       "    }\n",
       "  }\n",
       "\n",
       "\n",
       "  function run_callbacks() {\n",
       "    try {\n",
       "      root._bokeh_onload_callbacks.forEach(function(callback) {\n",
       "        if (callback != null)\n",
       "          callback();\n",
       "      });\n",
       "    } finally {\n",
       "      delete root._bokeh_onload_callbacks\n",
       "    }\n",
       "    console.debug(\"Bokeh: all callbacks have finished\");\n",
       "  }\n",
       "\n",
       "  function load_libs(css_urls, js_urls, callback) {\n",
       "    if (css_urls == null) css_urls = [];\n",
       "    if (js_urls == null) js_urls = [];\n",
       "\n",
       "    root._bokeh_onload_callbacks.push(callback);\n",
       "    if (root._bokeh_is_loading > 0) {\n",
       "      console.debug(\"Bokeh: BokehJS is being loaded, scheduling callback at\", now());\n",
       "      return null;\n",
       "    }\n",
       "    if (js_urls == null || js_urls.length === 0) {\n",
       "      run_callbacks();\n",
       "      return null;\n",
       "    }\n",
       "    console.debug(\"Bokeh: BokehJS not loaded, scheduling load and callback at\", now());\n",
       "    root._bokeh_is_loading = css_urls.length + js_urls.length;\n",
       "\n",
       "    function on_load() {\n",
       "      root._bokeh_is_loading--;\n",
       "      if (root._bokeh_is_loading === 0) {\n",
       "        console.debug(\"Bokeh: all BokehJS libraries/stylesheets loaded\");\n",
       "        run_callbacks()\n",
       "      }\n",
       "    }\n",
       "\n",
       "    function on_error() {\n",
       "      console.error(\"failed to load \" + url);\n",
       "    }\n",
       "\n",
       "    for (var i = 0; i < css_urls.length; i++) {\n",
       "      var url = css_urls[i];\n",
       "      const element = document.createElement(\"link\");\n",
       "      element.onload = on_load;\n",
       "      element.onerror = on_error;\n",
       "      element.rel = \"stylesheet\";\n",
       "      element.type = \"text/css\";\n",
       "      element.href = url;\n",
       "      console.debug(\"Bokeh: injecting link tag for BokehJS stylesheet: \", url);\n",
       "      document.body.appendChild(element);\n",
       "    }\n",
       "\n",
       "    const hashes = {\"https://cdn.bokeh.org/bokeh/release/bokeh-2.1.1.min.js\": \"kLr4fYcqcSpbuI95brIH3vnnYCquzzSxHPU6XGQCIkQRGJwhg0StNbj1eegrHs12\", \"https://cdn.bokeh.org/bokeh/release/bokeh-widgets-2.1.1.min.js\": \"xIGPmVtaOm+z0BqfSOMn4lOR6ciex448GIKG4eE61LsAvmGj48XcMQZtKcE/UXZe\", \"https://cdn.bokeh.org/bokeh/release/bokeh-tables-2.1.1.min.js\": \"Dc9u1wF/0zApGIWoBbH77iWEHtdmkuYWG839Uzmv8y8yBLXebjO9ZnERsde5Ln/P\", \"https://cdn.bokeh.org/bokeh/release/bokeh-gl-2.1.1.min.js\": \"cT9JaBz7GiRXdENrJLZNSC6eMNF3nh3fa5fTF51Svp+ukxPdwcU5kGXGPBgDCa2j\"};\n",
       "\n",
       "    for (var i = 0; i < js_urls.length; i++) {\n",
       "      var url = js_urls[i];\n",
       "      var element = document.createElement('script');\n",
       "      element.onload = on_load;\n",
       "      element.onerror = on_error;\n",
       "      element.async = false;\n",
       "      element.src = url;\n",
       "      if (url in hashes) {\n",
       "        element.crossOrigin = \"anonymous\";\n",
       "        element.integrity = \"sha384-\" + hashes[url];\n",
       "      }\n",
       "      console.debug(\"Bokeh: injecting script tag for BokehJS library: \", url);\n",
       "      document.head.appendChild(element);\n",
       "    }\n",
       "  };\n",
       "\n",
       "  function inject_raw_css(css) {\n",
       "    const element = document.createElement(\"style\");\n",
       "    element.appendChild(document.createTextNode(css));\n",
       "    document.body.appendChild(element);\n",
       "  }\n",
       "\n",
       "  \n",
       "  var js_urls = [\"https://cdn.bokeh.org/bokeh/release/bokeh-2.1.1.min.js\", \"https://cdn.bokeh.org/bokeh/release/bokeh-widgets-2.1.1.min.js\", \"https://cdn.bokeh.org/bokeh/release/bokeh-tables-2.1.1.min.js\", \"https://cdn.bokeh.org/bokeh/release/bokeh-gl-2.1.1.min.js\"];\n",
       "  var css_urls = [];\n",
       "  \n",
       "\n",
       "  var inline_js = [\n",
       "    function(Bokeh) {\n",
       "      Bokeh.set_log_level(\"info\");\n",
       "    },\n",
       "    function(Bokeh) {\n",
       "    \n",
       "    \n",
       "    }\n",
       "  ];\n",
       "\n",
       "  function run_inline_js() {\n",
       "    \n",
       "    if (root.Bokeh !== undefined || force === true) {\n",
       "      \n",
       "    for (var i = 0; i < inline_js.length; i++) {\n",
       "      inline_js[i].call(root, root.Bokeh);\n",
       "    }\n",
       "    if (force === true) {\n",
       "        display_loaded();\n",
       "      }} else if (Date.now() < root._bokeh_timeout) {\n",
       "      setTimeout(run_inline_js, 100);\n",
       "    } else if (!root._bokeh_failed_load) {\n",
       "      console.log(\"Bokeh: BokehJS failed to load within specified timeout.\");\n",
       "      root._bokeh_failed_load = true;\n",
       "    } else if (force !== true) {\n",
       "      var cell = $(document.getElementById(\"1145\")).parents('.cell').data().cell;\n",
       "      cell.output_area.append_execute_result(NB_LOAD_WARNING)\n",
       "    }\n",
       "\n",
       "  }\n",
       "\n",
       "  if (root._bokeh_is_loading === 0) {\n",
       "    console.debug(\"Bokeh: BokehJS loaded, going straight to plotting\");\n",
       "    run_inline_js();\n",
       "  } else {\n",
       "    load_libs(css_urls, js_urls, function() {\n",
       "      console.debug(\"Bokeh: BokehJS plotting callback run at\", now());\n",
       "      run_inline_js();\n",
       "    });\n",
       "  }\n",
       "}(window));"
      ],
      "application/vnd.bokehjs_load.v0+json": "\n(function(root) {\n  function now() {\n    return new Date();\n  }\n\n  var force = true;\n\n  if (typeof root._bokeh_onload_callbacks === \"undefined\" || force === true) {\n    root._bokeh_onload_callbacks = [];\n    root._bokeh_is_loading = undefined;\n  }\n\n  \n\n  \n  if (typeof (root._bokeh_timeout) === \"undefined\" || force === true) {\n    root._bokeh_timeout = Date.now() + 5000;\n    root._bokeh_failed_load = false;\n  }\n\n  var NB_LOAD_WARNING = {'data': {'text/html':\n     \"<div style='background-color: #fdd'>\\n\"+\n     \"<p>\\n\"+\n     \"BokehJS does not appear to have successfully loaded. If loading BokehJS from CDN, this \\n\"+\n     \"may be due to a slow or bad network connection. Possible fixes:\\n\"+\n     \"</p>\\n\"+\n     \"<ul>\\n\"+\n     \"<li>re-rerun `output_notebook()` to attempt to load from CDN again, or</li>\\n\"+\n     \"<li>use INLINE resources instead, as so:</li>\\n\"+\n     \"</ul>\\n\"+\n     \"<code>\\n\"+\n     \"from bokeh.resources import INLINE\\n\"+\n     \"output_notebook(resources=INLINE)\\n\"+\n     \"</code>\\n\"+\n     \"</div>\"}};\n\n  function display_loaded() {\n    var el = document.getElementById(\"1145\");\n    if (el != null) {\n      el.textContent = \"BokehJS is loading...\";\n    }\n    if (root.Bokeh !== undefined) {\n      if (el != null) {\n        el.textContent = \"BokehJS \" + root.Bokeh.version + \" successfully loaded.\";\n      }\n    } else if (Date.now() < root._bokeh_timeout) {\n      setTimeout(display_loaded, 100)\n    }\n  }\n\n\n  function run_callbacks() {\n    try {\n      root._bokeh_onload_callbacks.forEach(function(callback) {\n        if (callback != null)\n          callback();\n      });\n    } finally {\n      delete root._bokeh_onload_callbacks\n    }\n    console.debug(\"Bokeh: all callbacks have finished\");\n  }\n\n  function load_libs(css_urls, js_urls, callback) {\n    if (css_urls == null) css_urls = [];\n    if (js_urls == null) js_urls = [];\n\n    root._bokeh_onload_callbacks.push(callback);\n    if (root._bokeh_is_loading > 0) {\n      console.debug(\"Bokeh: BokehJS is being loaded, scheduling callback at\", now());\n      return null;\n    }\n    if (js_urls == null || js_urls.length === 0) {\n      run_callbacks();\n      return null;\n    }\n    console.debug(\"Bokeh: BokehJS not loaded, scheduling load and callback at\", now());\n    root._bokeh_is_loading = css_urls.length + js_urls.length;\n\n    function on_load() {\n      root._bokeh_is_loading--;\n      if (root._bokeh_is_loading === 0) {\n        console.debug(\"Bokeh: all BokehJS libraries/stylesheets loaded\");\n        run_callbacks()\n      }\n    }\n\n    function on_error() {\n      console.error(\"failed to load \" + url);\n    }\n\n    for (var i = 0; i < css_urls.length; i++) {\n      var url = css_urls[i];\n      const element = document.createElement(\"link\");\n      element.onload = on_load;\n      element.onerror = on_error;\n      element.rel = \"stylesheet\";\n      element.type = \"text/css\";\n      element.href = url;\n      console.debug(\"Bokeh: injecting link tag for BokehJS stylesheet: \", url);\n      document.body.appendChild(element);\n    }\n\n    const hashes = {\"https://cdn.bokeh.org/bokeh/release/bokeh-2.1.1.min.js\": \"kLr4fYcqcSpbuI95brIH3vnnYCquzzSxHPU6XGQCIkQRGJwhg0StNbj1eegrHs12\", \"https://cdn.bokeh.org/bokeh/release/bokeh-widgets-2.1.1.min.js\": \"xIGPmVtaOm+z0BqfSOMn4lOR6ciex448GIKG4eE61LsAvmGj48XcMQZtKcE/UXZe\", \"https://cdn.bokeh.org/bokeh/release/bokeh-tables-2.1.1.min.js\": \"Dc9u1wF/0zApGIWoBbH77iWEHtdmkuYWG839Uzmv8y8yBLXebjO9ZnERsde5Ln/P\", \"https://cdn.bokeh.org/bokeh/release/bokeh-gl-2.1.1.min.js\": \"cT9JaBz7GiRXdENrJLZNSC6eMNF3nh3fa5fTF51Svp+ukxPdwcU5kGXGPBgDCa2j\"};\n\n    for (var i = 0; i < js_urls.length; i++) {\n      var url = js_urls[i];\n      var element = document.createElement('script');\n      element.onload = on_load;\n      element.onerror = on_error;\n      element.async = false;\n      element.src = url;\n      if (url in hashes) {\n        element.crossOrigin = \"anonymous\";\n        element.integrity = \"sha384-\" + hashes[url];\n      }\n      console.debug(\"Bokeh: injecting script tag for BokehJS library: \", url);\n      document.head.appendChild(element);\n    }\n  };\n\n  function inject_raw_css(css) {\n    const element = document.createElement(\"style\");\n    element.appendChild(document.createTextNode(css));\n    document.body.appendChild(element);\n  }\n\n  \n  var js_urls = [\"https://cdn.bokeh.org/bokeh/release/bokeh-2.1.1.min.js\", \"https://cdn.bokeh.org/bokeh/release/bokeh-widgets-2.1.1.min.js\", \"https://cdn.bokeh.org/bokeh/release/bokeh-tables-2.1.1.min.js\", \"https://cdn.bokeh.org/bokeh/release/bokeh-gl-2.1.1.min.js\"];\n  var css_urls = [];\n  \n\n  var inline_js = [\n    function(Bokeh) {\n      Bokeh.set_log_level(\"info\");\n    },\n    function(Bokeh) {\n    \n    \n    }\n  ];\n\n  function run_inline_js() {\n    \n    if (root.Bokeh !== undefined || force === true) {\n      \n    for (var i = 0; i < inline_js.length; i++) {\n      inline_js[i].call(root, root.Bokeh);\n    }\n    if (force === true) {\n        display_loaded();\n      }} else if (Date.now() < root._bokeh_timeout) {\n      setTimeout(run_inline_js, 100);\n    } else if (!root._bokeh_failed_load) {\n      console.log(\"Bokeh: BokehJS failed to load within specified timeout.\");\n      root._bokeh_failed_load = true;\n    } else if (force !== true) {\n      var cell = $(document.getElementById(\"1145\")).parents('.cell').data().cell;\n      cell.output_area.append_execute_result(NB_LOAD_WARNING)\n    }\n\n  }\n\n  if (root._bokeh_is_loading === 0) {\n    console.debug(\"Bokeh: BokehJS loaded, going straight to plotting\");\n    run_inline_js();\n  } else {\n    load_libs(css_urls, js_urls, function() {\n      console.debug(\"Bokeh: BokehJS plotting callback run at\", now());\n      run_inline_js();\n    });\n  }\n}(window));"
     },
     "metadata": {},
     "output_type": "display_data"
    },
    {
     "name": "stdout",
     "output_type": "stream",
     "text": [
      "dataSetRough.shape (35, 94, 94)\n"
     ]
    }
   ],
   "source": [
    "from ExpComponents import (Multiplier, MultiplierBank, Build3dBCouplerSim)"
   ]
  },
  {
   "cell_type": "code",
   "execution_count": 15,
   "metadata": {},
   "outputs": [],
   "source": [
    "from Miller import (MillerBuilder)"
   ]
  },
  {
   "cell_type": "code",
   "execution_count": 16,
   "metadata": {},
   "outputs": [],
   "source": [
    "from UtilityMath import (convertArrayToDict, MatrixError, MatrixSqError, makePolarPlot, addMatrixDiff, PolarPlot, ReIm)"
   ]
  },
  {
   "cell_type": "code",
   "execution_count": 17,
   "metadata": {},
   "outputs": [
    {
     "name": "stdout",
     "output_type": "stream",
     "text": [
      "COM3                \n",
      "COM4                \n",
      "COM5                \n"
     ]
    },
    {
     "name": "stderr",
     "output_type": "stream",
     "text": [
      "3 ports found\n"
     ]
    }
   ],
   "source": [
    "from HardwareComms import (MultBankComm, SwitchComm, VNAComm, ExperimentalSetup)"
   ]
  },
  {
   "cell_type": "markdown",
   "metadata": {},
   "source": [
    "# New Architecture"
   ]
  },
  {
   "cell_type": "markdown",
   "metadata": {},
   "source": [
    "This analysis has two steps: Tuning and Performance \n",
    "\n",
    "In the first step, we will tune the model of the devices to account for various idiosynchrasies of the physical network (device irregularities, cable lengths, etc).  \n",
    "\n",
    "In order to do this tuning, we will build a simulation of the network.  The key element in the network is the Multiplier.  This element is represented by a Python Object that is based on a PCA analysis of physical measurements of large set of Multipliers.  Each Multiplier's representation has its own PCA weights that can be adjusted.\n",
    "\n",
    "In order to tune these PCA weights, we will apply a series of test settings (PS value [0-1023] and VGA value [0-1023] to the Multipliers.  Upon performing a physical measurement, this will yield a series of $n \\times n$ scattering matrices for the entire network.  Following that, we can use optimization to adjust the PCA weights of each Multiplier until the network simulations of the same test settings match the physical reasults.\n",
    "\n",
    "Once the devices have been tuned, we can specifiy a desired target network response.  This network can be transformed into Multiplier complex transmission values, $T$.  The algorithm for this step can be quite complicated depending on the network topology (Miller vs New).  By using inverse functions on the PCA weights, we can find the required digital inputs (PS and VGA value) to each physical multiplier.\n",
    "\n",
    "Finally, we apply these digital inputs both in simulation and experiment.  We take a physical measurement of the network and compare the target, simulation, and physical network responses."
   ]
  },
  {
   "cell_type": "markdown",
   "metadata": {},
   "source": [
    "## Definitions (Exp)"
   ]
  },
  {
   "cell_type": "markdown",
   "metadata": {},
   "source": [
    "First we define the various devices."
   ]
  },
  {
   "cell_type": "code",
   "execution_count": 35,
   "metadata": {},
   "outputs": [
    {
     "name": "stdout",
     "output_type": "stream",
     "text": [
      "\n",
      "\n"
     ]
    }
   ],
   "source": [
    "inputSwitchComm = SwitchComm(comValue='COM4', portAliases={1:6, 2:5, 3:4, 4:3, 5:2, \"test\":1})\n",
    "outputSwitchComm = SwitchComm(comValue='COM3', portAliases={1:3, 2:4, 3:5, 4:6, 5:7, \"test\":1})\n",
    "vnaComm = VNAComm()\n",
    "multBankComm = MultBankComm(comValue='COM5')"
   ]
  },
  {
   "cell_type": "code",
   "execution_count": 19,
   "metadata": {},
   "outputs": [],
   "source": [
    "# inputSwitchComm.setSwitch(\"test\", verbose=True)"
   ]
  },
  {
   "cell_type": "code",
   "execution_count": 20,
   "metadata": {},
   "outputs": [],
   "source": [
    "# outputSwitchComm.setSwitch(\"test\", verbose=True)"
   ]
  },
  {
   "cell_type": "code",
   "execution_count": 36,
   "metadata": {},
   "outputs": [],
   "source": [
    "exp = ExperimentalSetup(inputSwitchComm, outputSwitchComm, multBankComm, vnaComm)"
   ]
  },
  {
   "cell_type": "code",
   "execution_count": 20,
   "metadata": {},
   "outputs": [],
   "source": [
    "# switchCommIn = SwitchComm(comValue='COM1', {1:6, 2:5, 3:4, 4:3, 5:2})\n",
    "# switchCommOut = SwitchComm(comValue='COM2', {1:2, 2:3, 3:4, 4:5, 5:6})\n",
    "# vnaComm = VNAComm()\n",
    "# multBankCom = MultBankComm(comValue='COM3')"
   ]
  },
  {
   "cell_type": "markdown",
   "metadata": {},
   "source": [
    "For convenience, higher level scripts that require coordination between the various devices can be accessed using an `ExperimentalSetup`."
   ]
  },
  {
   "cell_type": "code",
   "execution_count": 21,
   "metadata": {},
   "outputs": [],
   "source": [
    "# exp = ExperimentalSetup(switchCommIn, switchCommOut, vnaComm, multBankCom)"
   ]
  },
  {
   "cell_type": "markdown",
   "metadata": {},
   "source": [
    "## Definitions (Sim)"
   ]
  },
  {
   "cell_type": "code",
   "execution_count": 22,
   "metadata": {
    "id": "kJNZ1xLPelCt"
   },
   "outputs": [],
   "source": [
    "freq45 = rf.Frequency(start=45, stop=45, npoints=1, unit='mhz', sweep_type='lin')"
   ]
  },
  {
   "cell_type": "markdown",
   "metadata": {},
   "source": [
    "First we need to generate labels for the Multipliers.  For the New architecture, this is a simple square grid.  The format is\n",
    "\n",
    "`('M', 'N', inputLine, outputLine)` \n",
    "\n",
    "where `'M'` is for \"Multiplier\", `'N'` is for \"New\" and `inputLine` and `outputLine` are integers in the range [0,4]."
   ]
  },
  {
   "cell_type": "code",
   "execution_count": 23,
   "metadata": {},
   "outputs": [],
   "source": [
    "allMultLocs = NewMultLocs(5,'N')\n",
    "allMultLocs;"
   ]
  },
  {
   "cell_type": "markdown",
   "metadata": {},
   "source": [
    "Every device has a \"Physical Number\" that is used for addressing to allow the computer to specify to which device a command is intended.  These are enumarated below.  Similar to SParams, the rows denote output lines while the columns denote input lines."
   ]
  },
  {
   "cell_type": "code",
   "execution_count": 24,
   "metadata": {},
   "outputs": [
    {
     "data": {
      "text/plain": [
       "array([[31, 11, 16, 21, 26],\n",
       "       [32, 12, 17, 22, 27],\n",
       "       [33, 13, 18, 23, 28],\n",
       "       [34, 14, 19, 24, 29],\n",
       "       [35, 15, 20, 25, 30]])"
      ]
     },
     "execution_count": 24,
     "metadata": {},
     "output_type": "execute_result"
    }
   ],
   "source": [
    "# Be careful here.  A horizontal row in the physical world represents a column in matrix multiplication\n",
    "multPhysNumberBank = [[ 31, 32, 33, 34, 35],\n",
    "                      [ 11, 12, 13, 14, 15],\n",
    "                      [ 16, 17, 18, 19, 20],\n",
    "                      [ 21, 22, 23, 24, 25],\n",
    "                      [ 26, 27, 28, 29, 30]]\n",
    "multPhysNumberBank = np.array(multPhysNumberBank).T\n",
    "multPhysNumberBank"
   ]
  },
  {
   "cell_type": "markdown",
   "metadata": {},
   "source": [
    "And just a quick spot check to make sure we have accidently applied a transpose."
   ]
  },
  {
   "cell_type": "code",
   "execution_count": 27,
   "metadata": {},
   "outputs": [
    {
     "data": {
      "text/plain": [
       "26"
      ]
     },
     "execution_count": 27,
     "metadata": {},
     "output_type": "execute_result"
    }
   ],
   "source": [
    "inputLine = 5\n",
    "outputLine = 1\n",
    "multPhysNumberBank[outputLine - 1, inputLine - 1]"
   ]
  },
  {
   "cell_type": "markdown",
   "metadata": {},
   "source": [
    "Next we build a MultiplierBank.  This is a collection of Multipliers.  This allows a Multiplier to be retreived by either its `loc` or by its `physNumber`, allowing the MultiplierBank to function both to interact with the physical experiment or a network simulation."
   ]
  },
  {
   "cell_type": "code",
   "execution_count": 26,
   "metadata": {},
   "outputs": [],
   "source": [
    "multBank = MultiplierBank()\n",
    "for loc in allMultLocs:\n",
    "    (_, _, inputLine, outputLine) = loc\n",
    "    physNumber = multPhysNumberBank[outputLine, inputLine]\n",
    "    mult = Multiplier(physNumber=physNumber, loc=loc, freq=freq45)\n",
    "    multBank.addMult(mult)"
   ]
  },
  {
   "cell_type": "markdown",
   "metadata": {},
   "source": [
    "Note that passive devices such as 5:1 Splitters are not modeled to the same degree and do not require controlling.  Therefore, we will generate generic elements as we need them."
   ]
  },
  {
   "cell_type": "code",
   "execution_count": 27,
   "metadata": {},
   "outputs": [],
   "source": [
    "X0 = multBank.getPersonalityVectors()"
   ]
  },
  {
   "cell_type": "markdown",
   "metadata": {},
   "source": [
    "## Tuning"
   ]
  },
  {
   "cell_type": "markdown",
   "metadata": {
    "heading_collapsed": "true"
   },
   "source": [
    "### Debugging"
   ]
  },
  {
   "cell_type": "code",
   "execution_count": 28,
   "metadata": {},
   "outputs": [],
   "source": [
    "for loc in allMultLocs:\n",
    "    mult = multBank.getMultByLoc(loc)\n",
    "    try: \n",
    "        multBankComm.blinkMult(mult.physNumber)\n",
    "    except NameError:\n",
    "        pass        \n",
    "    sleep(0.2)"
   ]
  },
  {
   "cell_type": "code",
   "execution_count": 40,
   "metadata": {},
   "outputs": [
    {
     "name": "stdout",
     "output_type": "stream",
     "text": [
      "20\n"
     ]
    },
    {
     "data": {
      "text/plain": [
       "((-0.44238400668842964+1.3733359525934103j), 0.18244790504144695)"
      ]
     },
     "execution_count": 40,
     "metadata": {},
     "output_type": "execute_result"
    }
   ],
   "source": [
    "outIndex = 5\n",
    "inIndex = 3\n",
    "vga, ps = (1000, 100)\n",
    "loc = ('M', 'N', inIndex-1, outIndex-1) # ('M', 'N', in, out) :(.\n",
    "mult = multBank.getMultByLoc(loc)\n",
    "physNum = mult.physNumber\n",
    "print(physNum)\n",
    "multBankComm.setMult(physNum, vga, ps)\n",
    "inputSwitchComm.setSwitch(inIndex)\n",
    "outputSwitchComm.setSwitch(outIndex)\n",
    "sleep(2)\n",
    "vnaComm.getS21AllAt45()"
   ]
  },
  {
   "cell_type": "code",
   "execution_count": null,
   "metadata": {},
   "outputs": [],
   "source": [
    "multBankComm.setMult(28, 100, 200)"
   ]
  },
  {
   "cell_type": "code",
   "execution_count": 32,
   "metadata": {},
   "outputs": [],
   "source": [
    "# inputSwitchComm.portAliases=None\n",
    "# outputSwitchComm.portAliases=None"
   ]
  },
  {
   "cell_type": "code",
   "execution_count": 37,
   "metadata": {},
   "outputs": [
    {
     "name": "stdout",
     "output_type": "stream",
     "text": [
      "MeshPort: 6\n",
      "SwitchPort: 6\n",
      "binary (CBA): 101\n",
      "\n",
      "\n",
      "MeshPort: 3\n",
      "SwitchPort: 3\n",
      "binary (CBA): 010\n",
      "\n",
      "\n"
     ]
    },
    {
     "data": {
      "text/plain": [
       "((0.8337920047051187-0.7075025501147619j), 0.14538767911099154)"
      ]
     },
     "execution_count": 37,
     "metadata": {},
     "output_type": "execute_result"
    }
   ],
   "source": [
    "inputSwitchComm.setSwitch(1, verbose=True)\n",
    "outputSwitchComm.setSwitch(1, verbose=True)\n",
    "exp.vnaComm.getS21AllAt45()"
   ]
  },
  {
   "cell_type": "code",
   "execution_count": 34,
   "metadata": {},
   "outputs": [],
   "source": [
    "inputSwitchComm.close()\n",
    "outputSwitchComm.close()"
   ]
  },
  {
   "cell_type": "code",
   "execution_count": 74,
   "metadata": {},
   "outputs": [],
   "source": [
    "outputSwitchComm.setSwitch(\"test\")"
   ]
  },
  {
   "cell_type": "code",
   "execution_count": null,
   "metadata": {},
   "outputs": [],
   "source": [
    "exp.setMults(0, 100, multBank.getPhysNums())"
   ]
  },
  {
   "cell_type": "code",
   "execution_count": 75,
   "metadata": {},
   "outputs": [
    {
     "data": {
      "text/plain": [
       "((1.0987181455856834e-05+0.00020863750964901913j), 0.0006027727154778587)"
      ]
     },
     "execution_count": 75,
     "metadata": {},
     "output_type": "execute_result"
    }
   ],
   "source": [
    "exp.vnaComm.getS21AllAt45()"
   ]
  },
  {
   "cell_type": "code",
   "execution_count": null,
   "metadata": {},
   "outputs": [],
   "source": [
    "SMat, STD = exp.measureSMatrix(delay=2)"
   ]
  },
  {
   "cell_type": "code",
   "execution_count": null,
   "metadata": {},
   "outputs": [],
   "source": [
    "np.abs(SMat)"
   ]
  },
  {
   "cell_type": "markdown",
   "metadata": {},
   "source": [
    "### Physical Measurement"
   ]
  },
  {
   "cell_type": "markdown",
   "metadata": {},
   "source": [
    "Next we define a series of multiplier set points that we'll use to ascertain the multiplier's PCA weights."
   ]
  },
  {
   "cell_type": "code",
   "execution_count": null,
   "metadata": {},
   "outputs": [],
   "source": [
    "tuningPSVals = np.linspace(0, 1023, 10, dtype=np.int)\n",
    "tuningVGAVals = np.linspace(0, 1023, 10, dtype=np.int)"
   ]
  },
  {
   "cell_type": "code",
   "execution_count": null,
   "metadata": {},
   "outputs": [],
   "source": [
    "tuningVals = [(ps, vga) for vga in tuningVGAVals for ps in tuningPSVals]"
   ]
  },
  {
   "cell_type": "markdown",
   "metadata": {},
   "source": [
    "For each PS, VGA pair, the multipliers are uniformly set and the scattering matrix of the network is measured."
   ]
  },
  {
   "cell_type": "code",
   "execution_count": null,
   "metadata": {},
   "outputs": [],
   "source": [
    "tuningMatricesM = []\n",
    "for (psVal, vgaVal) in tuningVals:\n",
    "    exp.setMults(int(psVal), int(vgaVal), multBank.getPhysNums())\n",
    "    time.sleep(1)\n",
    "    m, std = exp.measureSMatrix(delay=2)\n",
    "    tuningMatricesM.append(m)\n",
    "tuningMatricesM = np.array(tuningMatricesM)"
   ]
  },
  {
   "cell_type": "code",
   "execution_count": null,
   "metadata": {},
   "outputs": [],
   "source": [
    "np.save(\"tuningVals10\", tuningVals)\n",
    "np.save(\"tuningMatricesM10\", tuningMatricesM)"
   ]
  },
  {
   "cell_type": "markdown",
   "metadata": {
    "heading_collapsed": "true"
   },
   "source": [
    "### Fake Measurements"
   ]
  },
  {
   "cell_type": "code",
   "execution_count": null,
   "metadata": {},
   "outputs": [],
   "source": [
    "def MultBuilder(loc):\n",
    "    return multBank.getRFNetwork(loc)"
   ]
  },
  {
   "cell_type": "code",
   "execution_count": null,
   "metadata": {},
   "outputs": [],
   "source": [
    "def SplitterBuilder(loc):\n",
    "    return Build5PortSplitter(freq45, loc=loc)"
   ]
  },
  {
   "cell_type": "code",
   "execution_count": null,
   "metadata": {},
   "outputs": [],
   "source": [
    "X0 = multBank.getPersonalityVectors()"
   ]
  },
  {
   "cell_type": "code",
   "execution_count": null,
   "metadata": {},
   "outputs": [],
   "source": [
    "XSet = X0*np.random.normal(1, 0.1, size=len(X0))"
   ]
  },
  {
   "cell_type": "code",
   "execution_count": null,
   "metadata": {},
   "outputs": [],
   "source": [
    "multBank.setPersonalityVectors(XSet)"
   ]
  },
  {
   "cell_type": "code",
   "execution_count": null,
   "metadata": {},
   "outputs": [],
   "source": [
    "tuningMatricesM = []\n",
    "for (psVal, vgaVal) in tuningVals:\n",
    "    multBank.setAllMults(psVal, vgaVal)\n",
    "    newNet = BuildNewNetwork(SplitterBuilder, MultBuilder, loc=\"N\", n=5)\n",
    "    m = newNet.s[0, 5:, :5]\n",
    "    tuningMatricesM.append(m)\n",
    "tuningMatricesM = np.array(tuningMatricesM)"
   ]
  },
  {
   "cell_type": "code",
   "execution_count": null,
   "metadata": {},
   "outputs": [],
   "source": [
    "multBank.setPersonalityVectors(X0)"
   ]
  },
  {
   "cell_type": "code",
   "execution_count": null,
   "metadata": {},
   "outputs": [],
   "source": [
    "np.save(\"tuningVals\", tuningVals)\n",
    "np.save(\"tuningMatricesM\", tuningMatricesM)"
   ]
  },
  {
   "cell_type": "markdown",
   "metadata": {
    "heading_collapsed": "true"
   },
   "source": [
    "### Fitting"
   ]
  },
  {
   "cell_type": "code",
   "execution_count": 64,
   "metadata": {},
   "outputs": [],
   "source": [
    "tuningVals = np.load(\"tuningVals10.npy\")\n",
    "tuningMatricesM = np.load(\"tuningMatricesM10.npy\")"
   ]
  },
  {
   "cell_type": "code",
   "execution_count": 65,
   "metadata": {},
   "outputs": [],
   "source": [
    "def PlotTuningMatrices(tuningMatrices, shape, maxRad):\n",
    "    \"\"\"\n",
    "    tuningMatrices.shape => (N*M, n, n)\n",
    "    shape = (N, M, n, n)\n",
    "    \"\"\"\n",
    "    N, M, n, n = shape\n",
    "    tuningMatricesNxN = tuningMatrices.reshape(shape)\n",
    "    tuningMatricesNxN_List = [[tuningMatricesNxN[r,c] for c in range(M)] for r in range(N)]\n",
    "    tuningMatrices2D = np.block(tuningMatricesNxN_List)\n",
    "    plotComplexArray(tuningMatrices2D, maxRad=maxRad)"
   ]
  },
  {
   "cell_type": "code",
   "execution_count": 69,
   "metadata": {},
   "outputs": [
    {
     "data": {
      "text/plain": [
       "array([1023, 1023])"
      ]
     },
     "execution_count": 69,
     "metadata": {},
     "output_type": "execute_result"
    }
   ],
   "source": [
    "tuningVals[-1]"
   ]
  },
  {
   "cell_type": "code",
   "execution_count": 72,
   "metadata": {},
   "outputs": [
    {
     "data": {
      "text/plain": [
       "array([[-0.505+1.392j, -0.553+1.478j, -0.812+1.434j, -0.526+1.267j, -0.287+1.395j],\n",
       "       [-0.337+1.251j, -0.499+1.256j, -0.723+1.452j, -0.591+1.434j, -0.416+1.412j],\n",
       "       [-0.174+1.548j, -0.215+1.514j, -0.382+1.374j, -0.266+1.535j, -0.271+1.431j],\n",
       "       [-0.423+1.449j, -0.129+1.245j, -0.651+1.491j, -0.353+1.293j, -0.507+1.422j],\n",
       "       [-0.389+1.322j,  0.041+1.224j, -0.639+1.45j , -0.358+1.405j, -0.504+1.394j]])"
      ]
     },
     "execution_count": 72,
     "metadata": {},
     "output_type": "execute_result"
    }
   ],
   "source": [
    "tuningMatricesM[-1]"
   ]
  },
  {
   "cell_type": "code",
   "execution_count": 73,
   "metadata": {},
   "outputs": [
    {
     "data": {
      "text/html": [
       "\n",
       "\n",
       "\n",
       "\n",
       "\n",
       "\n",
       "  <div class=\"bk-root\" id=\"478e30e9-1a68-481b-9d84-50cdf1eb32aa\" data-root-id=\"1375\"></div>\n"
      ]
     },
     "metadata": {},
     "output_type": "display_data"
    },
    {
     "data": {
      "application/javascript": [
       "(function(root) {\n",
       "  function embed_document(root) {\n",
       "    \n",
       "  var docs_json = {\"c73d45ae-8572-4526-9942-984406d0aac1\":{\"roots\":{\"references\":[{\"attributes\":{\"background_fill_color\":\"#20262B\",\"below\":[{\"id\":\"1384\"}],\"border_fill_color\":\"#15191C\",\"center\":[{\"id\":\"1387\"},{\"id\":\"1391\"}],\"left\":[{\"id\":\"1388\"}],\"outline_line_alpha\":0.25,\"outline_line_color\":\"#E0E0E0\",\"renderers\":[{\"id\":\"1409\"}],\"title\":{\"id\":\"1420\"},\"toolbar\":{\"id\":\"1399\"},\"x_range\":{\"id\":\"1376\"},\"x_scale\":{\"id\":\"1380\"},\"y_range\":{\"id\":\"1378\"},\"y_scale\":{\"id\":\"1382\"}},\"id\":\"1375\",\"subtype\":\"Figure\",\"type\":\"Plot\"},{\"attributes\":{},\"id\":\"1392\",\"type\":\"PanTool\"},{\"attributes\":{\"bottom_units\":\"screen\",\"fill_alpha\":0.5,\"fill_color\":\"lightgrey\",\"left_units\":\"screen\",\"level\":\"overlay\",\"line_alpha\":1.0,\"line_color\":\"black\",\"line_dash\":[4,4],\"line_width\":2,\"right_units\":\"screen\",\"top_units\":\"screen\"},\"id\":\"1398\",\"type\":\"BoxAnnotation\"},{\"attributes\":{},\"id\":\"1382\",\"type\":\"LinearScale\"},{\"attributes\":{},\"id\":\"1424\",\"type\":\"BasicTickFormatter\"},{\"attributes\":{},\"id\":\"1427\",\"type\":\"UnionRenderers\"},{\"attributes\":{\"axis_label_standoff\":10,\"axis_label_text_color\":\"#E0E0E0\",\"axis_label_text_font\":\"Helvetica\",\"axis_label_text_font_size\":\"1.25em\",\"axis_label_text_font_style\":\"normal\",\"axis_line_alpha\":0,\"axis_line_color\":\"#E0E0E0\",\"formatter\":{\"id\":\"1422\"},\"major_label_text_color\":\"#E0E0E0\",\"major_label_text_font\":\"Helvetica\",\"major_label_text_font_size\":\"1.025em\",\"major_tick_line_alpha\":0,\"major_tick_line_color\":\"#E0E0E0\",\"minor_tick_line_alpha\":0,\"minor_tick_line_color\":\"#E0E0E0\",\"ticker\":{\"id\":\"1385\"}},\"id\":\"1384\",\"type\":\"LinearAxis\"},{\"attributes\":{},\"id\":\"1396\",\"type\":\"ResetTool\"},{\"attributes\":{},\"id\":\"1385\",\"type\":\"BasicTicker\"},{\"attributes\":{\"data\":{\"image\":[{\"__ndarray__\":\"AQAC/wEAA/8CAAL/AgAC/wEAAv8CAAH/AgAC/wIAAf8CAAH/AgAB/wIAAP8CAAH/AgAA/wIAAP8CAAD/AgEA/wIBAP8CAgD/AQEA/wIBAP8AAgD/AAIA/wACAP8AAQD/AAEA/wAAAv8AAQL/AAAC/wAAAf8AAAL/AgAA/wIAAv8CAAD/AgAA/wIAAf8CAQD/AwAA/wIBAP8CAQD/AgEA/wICAP8DAgD/AgIA/wECAP8CAgD/AQIA/wIDAP8BAgD/AAIA/wECAP8CAAH/AgAB/wIAAv8BAAL/AQAC/wEAAf8CAAD/AgAB/wIAAv8CAAH/AQAA/wEAAP8CAAD/AgAA/wIAAP8BAQD/AQEA/wICAP8CAQD/AgEA/wABAP8AAQD/AAIA/wACAP8AAgD/AAAB/wAAAf8AAAL/AAAC/wAAAv8BAAD/AgAA/wIAAf8CAAH/AgAB/wIBAP8CAQD/AgEA/wIBAP8CAQD/AQIA/wECAP8CAgD/AwIA/wICAP8AAgD/AAIA/wECAP8CAwD/AQIA/wEAAv8AAAP/AgAC/wAAA/8BAAL/AgAC/wIAAv8CAAH/AgAD/wIAAv8CAAH/AgAB/wIAAP8DAAL/AgAA/wIAAP8CAAD/AQEA/wIAAP8CAQD/AAIA/wACAP8AAQD/AAIA/wACAP8AAQL/AAEC/wAAAf8AAQL/AAAC/wIAAv8DAAL/AgAA/wMAA/8CAAH/AgAA/wMAAP8CAQD/AwAA/wIAAP8DAQD/AwEA/wECAP8DAgD/AgIA/wMCAP8DAgD/AQIA/wMDAP8CAgD/AQAC/wEAAf8CAAL/AgAC/wEAAv8CAAL/AQAB/wIAAv8BAAH/AgAC/wIAAP8BAAD/AgAA/wEAAP8CAAD/AgEA/wEBAP8CAQD/AQEA/wIBAP8AAgD/AAEA/wACAP8AAQD/AAIA/wAAAv8AAAH/AAAC/wAAAf8AAAL/AgAB/wEAAP8CAAH/AgAA/wIAAf8CAAD/AgEA/wIBAP8CAQD/AgEA/wICAP8BAgD/AgIA/wECAP8CAgD/AgIA/wECAP8CAwD/AQIA/wECAP8CAAL/AQAB/wIAAv8BAAL/AQAC/wIAAf8BAAH/AgAB/wIAAv8CAAH/AQAA/wEAAP8CAAD/AgAB/wIAAP8BAQD/AQEA/wIBAP8CAQD/AgEA/wABAP8AAQD/AAIA/wACAP8AAgD/AAAB/wAAAf8AAAL/AAEC/wAAAv8CAAD/AQAA/wIAAf8CAAL/AgAA/wIBAP8BAQD/AgEA/wIAAP8CAQD/AQIA/wEBAP8CAgD/AgIA/wICAP8BAgD/AAEA/wECAP8CAgD/AQIA/wMAA/8DAAT/BAAE/wMAA/8CAAP/AwAC/wQAA/8EAAL/AwAB/wMAAv8DAAD/BAAA/wMAAP8DAAD/AwAA/wMDAP8DAgD/AwMA/wIDAP8DAgD/AAMB/wADAP8ABAH/AAMB/wADAP8AAAP/AAAD/wEABP8BAAP/AAAD/wMAAP8EAAL/BAAA/wMAAP8DAAH/BAIA/wQBAP8EAwD/AwMA/wMCAP8DBAD/BAQA/wMEAP8CAwD/AwQA/wIEAP8DBAD/AQQA/wEDAP8CBAD/AwAD/wMAA/8EAAT/AwAE/wMAA/8DAAH/AwAB/wQAAv8EAAP/AwAC/wMAAP8DAAD/AwAA/wMAAP8DAAD/AwIA/wIDAP8DAwD/AwIA/wMCAP8AAgD/AAIB/wADAf8AAwD/AAMA/wAAA/8BAAP/AAAD/wAAA/8AAAP/AwAA/wMAAP8EAAH/BAAB/wMAAf8DAgD/AwMA/wQDAP8EAgD/BAIA/wIDAP8CAwD/AwQA/wQEAP8DBAD/AQMA/wEDAP8CBAD/AgQA/wIEAP8CAAT/AgAE/wMAA/8CAAT/AgAD/wQABP8DAAT/AwAB/wQABP8DAAP/BAAB/wQAAf8DAAD/BAAB/wMAAP8DAgD/AwEA/wMDAP8EAgD/AwIA/wADAP8AAwD/AAMB/wADAP8AAwD/AAED/wABA/8AAAP/AAEE/wAAA/8EAAP/BAAD/wMAAP8EAAP/AwAB/wQAAP8EAQD/AwIA/wQBAP8EAQD/BAMA/wQDAP8CAwD/BQMA/wQEAP8EBAD/BAQA/wEDAP8EBQD/AgQA/wIABP8CAAP/BAAE/wMAA/8DAAT/AwAD/wMAAv8EAAL/AwAB/wMAAv8DAAD/AwAA/wMAAP8DAAD/AwAA/wMCAP8CAgD/AwMA/wMCAP8DAgD/AAMA/wACAP8ABAH/AAIA/wADAP8AAAP/AAAD/wAAA/8AAAP/AAAD/wMAAf8DAAH/BAAB/wMAAf8DAAH/BAIA/wMCAP8EAgD/AwIA/wQCAP8EBAD/AgMA/wMEAP8CAwD/AwQA/wIEAP8BAwD/AgQA/wEDAP8CBAD/AwAD/wIAAv8EAAT/AgAD/wMAA/8DAAH/AwAC/wQAAv8DAAP/AwAC/wMAAP8DAAD/AwAA/wMAAP8DAAD/AwMA/wICAP8DAwD/AwIA/wMDAP8AAwH/AAIA/wADAP8AAwD/AAMB/wAAA/8AAAL/AAAD/wAAA/8BAAP/AwAA/wMAAf8EAAH/AwAC/wMAAP8DAgD/AwEA/wQCAP8EAQD/BAIA/wIDAP8DAwD/AwQA/wQEAP8DBAD/AQMA/wIDAP8CBAD/AwQA/wIEAP8GAAb/BgAH/wcABv8GAAX/BQAG/wYABP8HAAT/BgAC/wYAAv8GAAT/BgAA/wYAAP8GAQD/BQAA/wYAAP8FBQD/BgUA/wUGAP8FBQD/BQUA/wAFAv8ABgH/AAYD/wAFAv8ABQH/AQAG/wAABv8CAAb/AgAF/wAABf8GAAH/BwAD/wgAAP8GAAD/BgAC/wcFAP8HBAD/CAcA/wYFAP8GBAD/BQcA/wYHAP8ECAD/BAYA/wUGAP8DBwD/BAcA/wIHAP8CBgD/AwcA/wUABf8GAAX/BwAG/wYAB/8GAAb/BQAD/wUAAv8GAAP/BgAE/wYABP8FAAD/BQEA/wYAAP8GAAD/BgAA/wUEAP8EBQD/BgYA/wYFAP8FBQD/AAUB/wAFA/8ABgL/AAYB/wAFAf8AAAX/AgAF/wEAB/8AAAb/AAAG/wUAAf8GAAD/BwAB/wYAAv8GAAL/BgQA/wYFAP8IBgD/BwQA/wcEAP8EBgD/BAYA/wUIAP8FBwD/BQcA/wIGAP8CBgD/AgcA/wMHAP8DBwD/BQAH/wQAB/8GAAb/BAAH/wUABv8HAAX/BgAG/wUAA/8HAAb/BgAE/wYAAf8GAAH/BQAA/wYAAv8GAAD/BgQA/wYEAP8FBQD/BgQA/wUEAP8ABgD/AAYA/wAFAv8ABgD/AAUB/wABBv8AAAb/AQAG/wABBv8AAAX/BwAE/wcABP8GAAH/BwAE/wYAAv8HAgD/BwIA/wYEAP8HAgD/BgMA/wcHAP8HBwD/BQcA/wgHAP8GBwD/BQcA/wYHAP8CBgD/BggA/wQHAP8FAAb/BQAF/wcAB/8GAAX/BgAG/wYABP8FAAP/BgAD/wUAA/8GAAT/BgAA/wUAAP8GAAD/BQAA/wYAAP8GBAD/BQQA/wYGAP8FBQD/BgUA/wAFAf8ABAD/AAYC/wAFAf8ABQH/AAAG/wAABf8AAAb/AAAF/wAABv8GAAL/BQAC/wcAAv8FAAL/BgAC/wcEAP8GAwD/BwUA/wYDAP8HBAD/BgcA/wUGAP8FCAD/BAYA/wUHAP8EBwD/AwYA/wMHAP8CBgD/AwcA/wYABv8EAAX/BwAH/wUABv8GAAb/BgAD/wUAA/8GAAP/BgAE/wYAA/8FAAD/BQAA/wYAAP8GAAD/BgAA/wUFAP8EAwD/BgYA/wUEAP8FBQD/AAUC/wAEAP8ABgL/AAUA/wAFA/8BAAX/AAAE/wAABv8AAAX/AgAG/wYAAf8FAAL/BwAC/wYAA/8GAAD/BgQA/wUCAP8HBQD/BgMA/wcFAP8EBgD/BQYA/wUHAP8GBwD/BQcA/wIGAP8EBgD/AgcA/wQHAP8DBwD/CgAL/wsADP8LAAn/CgAJ/wkACv8KAAb/CwAH/wsABP8KAAT/CgAH/woAAP8LAAD/CgIA/wkBAP8KAAD/CQkA/woJAP8ICgD/CAkA/wkIAP8ACQT/AAoC/wAKBf8ACAX/AAkD/wMACv8AAAr/BAAK/wMACf8BAAn/CgAB/wsABP8LAAD/CgAA/woAA/8LCQD/DAcA/wwKAP8KCQD/CwcA/wgLAP8JDAD/BgwA/wYLAP8JCwD/BAwA/wYNAP8DDAD/AwsA/wYLAP8JAAn/CgAJ/wsACv8LAAv/CgAL/wkABf8JAAT/CwAE/wsABv8KAAb/CQAA/wkBAP8KAQD/CgAA/woAAP8IBwD/BwkA/wkKAP8KCQD/CQkA/wAIAf8ACAX/AAkE/wAJA/8ACQP/AAAI/wQACf8CAAr/AQAK/wEACf8JAAP/CgAA/wsAAf8LAAP/CgAD/woGAP8KCQD/DAkA/wwIAP8LBwD/BwoA/wYLAP8HDAD/CAwA/wkMAP8ECgD/AwsA/wMMAP8FDAD/BQwA/wkAC/8IAAv/CgAK/wgADP8JAAv/CwAI/wsACf8JAAX/CwAJ/woAB/8LAAH/CgAC/wkAAP8LAAL/CgAA/woHAP8KBwD/CAgA/woHAP8JCAD/AAoA/wAJAf8ACAP/AAoB/wAJAv8AAgr/AAAK/wEACf8AAAr/AAAJ/wsAB/8LAAX/CQAC/wsABv8KAAT/DAQA/wwFAP8KBwD/DAUA/wsGAP8MDAD/DAwA/wcKAP8MDQD/CgsA/wgMAP8IDAD/BAoA/wkNAP8GCwD/CgAL/wgACf8LAAr/CgAJ/wsAC/8KAAf/CQAG/wsABf8JAAX/CwAG/woAAP8JAAD/CgEA/wkAAP8KAAD/CQgA/wgHAP8JCgD/CQgA/woJAP8ACQL/AAgB/wAJA/8ACAL/AAkD/wAACv8AAAj/AQAK/wAACP8BAAr/CwAD/wkAA/8LAAP/CQAE/wsAAv8LBwD/CgUA/wwIAP8KBgD/CwgA/wkMAP8ICgD/CAwA/wgKAP8IDAD/BQwA/wUKAP8EDAD/BAoA/wUMAP8KAAr/BwAI/wsACv8JAAv/CwAL/woABf8IAAb/CgAF/woAB/8KAAb/CQAA/wgAAf8KAQD/CgAA/woAAP8JCQD/CAYA/wkKAP8JBwD/CQkA/wAIA/8ABwD/AAkD/wAJAf8ACQX/AgAJ/wAAB/8BAAr/AAAJ/wQACv8KAAL/CAAE/wsAAv8KAAT/CwAA/woIAP8JBAD/CwgA/wsGAP8LCQD/BwsA/wkJAP8IDAD/CQsA/wgMAP8ECwD/BgkA/wQMAP8GCwD/BAwA/xIAEv8UABP/EwAP/xEAEP8QABL/EgAK/xMACv8TAAb/EQAI/xEAC/8RAQD/EgAA/xIEAP8QAgD/EAAA/w8QAP8SEQD/DREA/w0PAP8QDwD/AA8I/wARBf8AEAr/AA4I/wAPBf8GABH/AQAS/wcAEf8GAA//AwAQ/xIAAv8TAAb/EwAA/xEAAP8RAAT/Ew8A/xUOAP8UEgD/EhAA/xIMAP8NFAD/DxUA/woVAP8KEgD/DxMA/wcUAP8IFQD/BBUA/wUTAP8JEwD/EAAQ/xEAD/8TABD/EwAS/xIAEv8QAAr/EAAH/xMAB/8TAAn/EgAK/w8AAP8QAgD/EgMA/xIBAP8RAAD/DgwA/wwPAP8PEQD/EREA/xAPAP8ADgP/AA4J/wAQCP8AEAb/AA8F/wAADv8HAA//BQAR/wMAEf8CABD/EAAF/xEAAP8TAAL/EwAE/xIABf8RCwD/EhAA/xQRAP8UDwD/Ew0A/w0RAP8KEgD/CxUA/w4VAP8OFAD/BxIA/wUSAP8FFQD/BxUA/wkUAP8RABT/DwAT/xAAEf8QABT/EAAS/xMADv8TAA7/EAAJ/xMAD/8SAAz/EgAC/xIAAv8PAAD/EgAC/xEAAf8RDQD/EQ0A/w8OAP8RDgD/EA4A/wARAf8AEAP/AA4F/wARA/8ADwT/AAIR/wAAEf8DAA//AAAS/wEAEP8TAAv/EwAI/xAABP8UAAj/EgAG/xQIAP8UCgD/EQwA/xULAP8TCwD/FBUA/xMVAP8NEgD/ExUA/xATAP8NFQD/DRUA/wcSAP8NFgD/ChQA/xEAE/8OABD/EwAQ/xEAEP8TABL/EgAM/w8AC/8SAAj/EAAJ/xIACv8RAAD/DwAB/xICAP8PAAD/EgEA/xAOAP8ODAD/EBEA/w8NAP8REQD/ABAE/wANA/8AEAf/AA4D/wAQBv8BABH/AAAP/wMAEf8AAA//AwAR/xIABf8QAAb/EwAE/xAAB/8SAAT/Ew0A/xEJAP8UDwD/EQoA/xQPAP8PFAD/DhEA/w0UAP8NEgD/DRQA/wkUAP8JEQD/BhUA/wcSAP8HFQD/EQAR/wwADv8TABD/EQAS/xMAEv8RAAn/DgAK/xIACP8SAAv/EgAK/xAAAP8OAAL/EQIA/xEAAP8RAQD/Dw8A/wwKAP8QEAD/EA4A/w8QAP8ADgb/AAwB/wAQBv8ADwP/ABAJ/wQAD/8AAQ3/AwAR/wAAEP8HABH/EQAD/w0ABf8SAAT/EgAH/xIAAP8SDQD/DggA/xMPAP8TCwD/FBEA/w0SAP8PEAD/DBQA/xATAP8MFAD/BxIA/woPAP8GFAD/ChQA/wcUAP8gAB//IwAg/yIAGf8eABv/HQAf/x8AEP8iABD/IQAK/x0ADf8eABL/HgMA/yADAP8fCQD/HAQA/x0AAP8aHAD/Hh8A/xYeAP8XGgD/HBsA/wAbD/8AHQv/AB0T/wAZEP8AGgv/DAAd/wQAH/8OAB7/DAAb/wYAHP8gAAL/IgAJ/yEAAP8eAAD/HwAH/yEdAP8kGgD/IyIA/x8dAP8gFwD/FCMA/xglAP8RJAD/ESAA/xkhAP8LIwD/DCUA/wYlAP8IIAD/DyEA/xwAHf8eABr/IgAa/yIAHv8gACD/HAAQ/x0ADP8hAAv/IQAP/x8AEf8bAAD/GwUA/x8IAP8gBAD/HgEA/xkWAP8VGgD/GB4A/x0eAP8cHAD/ABgG/wAZEf8AHRD/AB0N/wAbC/8BABn/DgAb/wsAHv8HAB7/BgAd/xwACf8dAAD/IQAD/yEABv8fAAf/HRQA/x8cAP8jHwD/IxwA/yEZAP8VHgD/ESAA/xMkAP8WJAD/FyMA/wwfAP8JIAD/CCQA/wslAP8NIwD/HwAi/xwAIv8dAB3/HgAj/x4AIP8hABb/IQAX/xwAD/8iABj/HwAU/yAAAv8fAAL/GwEA/yAAAv8eAAD/HhkA/x4aAP8aGgD/HxoA/xwZAP8AHQX/ABwI/wAZCv8AHQj/ABsJ/wACHv8CAB7/BgAa/wIAH/8DABz/IQAR/yEADP8dAAb/IgAM/x8ACv8jEQD/IxQA/x4XAP8kFQD/IRUA/yEkAP8fJAD/FR8A/x8lAP8aIgD/FSUA/xQkAP8MIAD/FCYA/xAiAP8gACH/GgAc/yEAG/8dABz/IQAe/yAAE/8bABL/IAAM/xwAD/8gABD/HgAA/xoAAv8fBgD/GwEA/x8DAP8dGwD/GRYA/xoeAP8aGAD/HB0A/wAcCv8AFwb/ABwO/wAZB/8AHAz/BQAd/wEAGv8HAB7/AAAa/wcAHv8gAAj/HAAL/yEABv8cAAv/IAAG/yIZAP8eEQD/IxwA/x4TAP8jHAD/GCMA/xkeAP8VJAD/Fx8A/xYkAP8OIwD/Dx4A/wokAP8MHwD/CyQA/x4AHf8UABn/IQAb/x8AIP8hAB//HQAP/xoAFP8gAA3/HwAS/x8AD/8cAgD/GQAE/x4FAP8eAAD/HgQA/xobAP8XEQD/Gh0A/xwZAP8YHQD/ABkM/wAUBf8AHA3/ABsH/wAcEv8HABv/AAEX/wcAHf8BABz/DwAd/x0ABf8ZAAz/IAAG/x8AC/8gAAD/HxgA/xwMAP8iHAD/IRUA/yIeAP8VIAD/HB0A/xQjAP8ZIgD/FCMA/wwgAP8THQD/CSMA/w8iAP8LIwD/NgAx/zoAMv85ACj/MgAr/zQANP80ABj/OAAY/zcADv8xABT/MgAd/zIIAP81CAD/NBIA/y4JAP8wAgD/KC8A/zAzAP8jMgD/JCwA/y0uAP8ALRz/ADEV/wAwI/8AKhz/ACwV/xYAMP8LADP/GgAy/xYALf8NAC//NQAB/zgADP83AgD/MQAA/zMACv84MgD/Oy8A/zo7AP80MQD/NigA/yA5AP8lPQD/GT0A/xs1AP8nNwD/EDoA/xI+AP8HPQD/DDYA/xg4AP8vAC7/MQAq/zgAKf85ADD/NgAz/y4AGv8wABP/NwAQ/zcAF/80ABv/LAAA/y4LAP80DwD/NQkA/zIEAP8qJgD/ISsA/yYyAP8tMgD/Li8A/wAoC/8AKh//ADAe/wAwGP8ALRT/AwAp/xkALf8VADL/DgAy/wwAMP8uAA7/MQIA/zcAAv83AAj/NAAJ/zEjAP8zMQD/OjYA/zsyAP84KwD/IjIA/xs1AP8cPAD/IjwA/yU6AP8SMwD/DTUA/wo8AP8PPQD/FDoA/zYAOf8zADj/MQAv/zUAOv8zADX/NwAi/zYAI/8vABj/OAAk/zMAH/81AAH/NAAB/y4EAP81AAD/MQAA/zIsAP8xLQD/KSsA/zIuAP8vLAD/ADAL/wAwEf8AKRP/ADAR/wAtEf8AATL/BwAy/wwALP8IADP/CAAv/zcAGv83ABL/MAAI/zgAEf80AA7/Oh8A/zolAP8zKAD/OycA/zcmAP8zPAD/LzsA/yI0AP8wPQD/KjkA/yA9AP8ePAD/EjUA/x4+AP8ZOQD/NwA1/y0AL/84ACv/MQAt/zcAMP81AB3/LQAd/zYAEv8vABj/NQAY/zMCAP8sAAH/NA0A/y0DAP8zCAD/MC8A/yolAP8pMQD/LCoA/y0xAP8ALhL/ACcL/wAvGv8AKQ3/AC8X/woAMf8DACv/DgAy/wIAK/8OADH/NQAL/y4AEP82AAj/LwAR/zYACP84LAD/MR8A/zkxAP8yIgD/OTAA/yU6AP8nMgD/IDsA/yQ0AP8iOwD/FDsA/xgyAP8OPAD/EzQA/xE8AP8yAC//JAAs/zcAK/81ADP/NgAx/zEAGP8rACH/NQAT/zMAHP81ABj/LwUA/ykABv8zCwD/MQIA/zIJAP8pLAD/Jx4A/yowAP8uLAD/JzAA/wAqFv8AIwf/AC4Y/wAsD/8ALiD/DgAt/wACJ/8OADD/BQAu/xsAMf8xAAb/KwAW/zUAB/8zABD/NgEA/zQqAP8uFQD/ODAA/zYmAP85NQD/ITYA/y0vAP8fOgD/JzgA/x86AP8SNgD/HjAA/w07AP8WOAD/EDoA/1cATP9eAE3/XAA9/1EAQ/9UAFL/VAAl/1oAJP9ZABX/TgAf/1EALP9QDwD/VxAA/1YgAP9LEQD/TgUA/z9MAP9LUwD/N1IA/zlHAP9HSgD/AEkw/wBPJf8AUDz/AEQv/wBHJP8mAE7/FABT/y4AVP8mAEn/FwBL/1YAAP9bABH/XQcA/08DAP9TAA7/WlQA/2BPAP9gZAD/VFEA/1dDAP8xXQD/OGMA/yhrAP8qVgD/PFkA/xheAP8ZZAD/CGwA/xJXAP8kWgD/TABJ/08AQf9cAED/XABK/1cAUP9KACj/TQAd/1kAGP9ZACL/VAAp/0cCAP9KEwD/VRwA/1USAP9QCQD/REAA/zRGAP89UgD/RlEA/0hNAP8AQBT/AEQ0/wBQNf8ATSn/AEkj/wcAQ/8qAEn/JQBU/xoAUf8WAE3/SQAV/08FAP9cAAH/WQAK/1UADf9POgD/U1EA/2RhAP9fVAD/WkkA/zVRAP8qVQD/LmsA/zNiAP85XQD/G1IA/xNWAP8OawD/FWIA/x5eAP9cAF3/VgBb/1AAS/9ZAF3/VQBW/1oANP9XADb/TgAm/1kANv9TADD/VgEA/1QAAP9KCQD/VgEA/08DAP9SSwD/UEwA/0NIAP9RTgD/TEoA/wBOFP8ATR7/AEUj/wBOH/8ASB7/AABS/w4AUf8WAEn/EABS/w8ATf9ZACf/WQAa/1EADP9aABj/VAAV/142AP9ePwD/V0cA/2BCAP9ZQAD/UGIA/0lgAP86XQD/SWMA/0FbAP8wYwD/LWEA/x5dAP8sZAD/JlwA/1kAU/9LAE3/WwBC/08ARv9ZAEv/VgAs/0oALP9YABv/TAAk/1cAJP9SBgD/RgAA/1UYAP9JBwD/Uw8A/01OAP9DPgD/QVIA/0ZFAP9GTwD/AEog/wBAE/8ATy7/AEMX/wBLKP8UAE//CABG/xwAU/8GAEX/GgBP/1YAD/9KABj/XAAK/0sAGf9XAAr/XEoA/08zAP9kWQD/UTgA/1xQAP86XwD/PVAA/zVqAP84UwD/NF8A/x5fAP8mUQD/FGoA/xxUAP8YYAD/UQBK/zsARv9aAET/VgBR/1gATf9PACX/RQAz/1cAHf9TACv/VQAl/0sKAP9CAAj/UxYA/08GAP9REQD/QUgA/z8yAP9CUQD/TEsA/z1NAP8ARSb/ADsM/wBNK/8ASBr/AEo3/xoASf8AAT//GwBR/wsATP8uAE//TwAJ/0YAIv9bAAn/UwAX/1YFAP9URwD/SiUA/2NZAP9YQAD/W1gA/zRWAP9GTAD/NWoA/z1bAP8wXQD/G1cA/y9NAP8TZwD/IVwA/xheAP+SAHn/nQB5/6QAZv+HAGv/jQCE/40AOf+YADb/owAf/4MAL/+IAET/hx8A/5EiAP+WPwD/fSEA/4IPAP9lgAD/d4sA/1yTAP9adwD/cXwA/wB7Vv8AhUb/AI9z/wByU/8Ad0H/RgCD/ykAi/9bAJn/RQB6/ywAf/+PBgD/mAAV/6oTAP+FCgD/igAR/5eTAP+ijgD/pbUA/4qMAP+SdwD/TJwA/1enAP8/ugD/QJAA/16WAP8inQD/I6kA/wi8AP8YkQD/NZcA/4EAdv+FAGj/pABr/5oAdf+RAH//fQA//4EAK/+lACb/lQAz/4wAPv93CAD/fCUA/5g5AP+PJQD/hhUA/3JvAP9TdgD/aZgA/3CIAP90gAD/AGwn/wBxXP8Aj2b/AIJM/wB6Qf8RAHH/TAB6/00Am/8zAIn/LACB/3wAHv+EDwD/nQMA/5UACv+NABH/hGYA/4mLAP+vswD/oJQA/5eBAP9UiQD/QY8A/0m5AP9OpAD/WJsA/yiKAP8bjwD/EbgA/xylAP8rnAD/mgCU/5cAmP+SAID/mwCY/5AAi/+WAFH/kwBT/48AQP+WAFL/iwBK/5AIAP+NBwD/hxYA/44JAP+GCgD/iYMA/4aGAP9ygAD/hYgA/3x/AP8Agin/AIE6/wB9Rf8Agjz/AHk3/wYAif8fAIj/LwCH/yMAiv8hAIH/lQA7/5QAI/+TABD/lwAg/40AHf+eYgD/nnIA/6GJAP+gdwD/lXEA/32jAP9zogD/XqQA/3GlAP9mmgD/SaYA/0SjAP8toAD/QacA/zmbAP+UAIX/gQB//6MAb/+DAG//lQB4/5AARP97AEX/ogAq/34AOP+QADb/ihEA/3YDAP+dNQD/ehEA/4ofAP99hAD/cGsA/26UAP9xdQD/cIQA/wB+Pf8AayP/AJFc/wBwK/8Afkj/KACE/xIAd/89AJz/DwB0/zIAhf+QABP/fQAi/6QAC/9+ACX/kQAL/5qDAP+DWwD/taoA/4hkAP+bjAD/Wp4A/2GFAP9UtgD/WIwA/1KfAP8soQD/OocA/xu0AP8qjgD/IaAA/4gAdv9lAHD/pAB0/5AAgP+TAHv/hAA5/3QAUv+bAC3/jABC/44AN/9+FwD/bwAK/5cvAP+GEAD/hyEA/2d4AP9qWAD/bo4A/3t/AP9fgAD/AHNE/wBlGP8AjVf/AHkz/wB8Yf8wAHn/AABr/zkAlv8ZAH//UgCF/4UACv91ADX/pQAK/4sAIP+RDwD/jnwA/3xCAP+towD/lHMA/5iZAP9RkQD/coEA/1K1AP9fmQD/SpwA/yiSAP9LggD/GbAA/zCbAP8inQD/6wC6//wAt///AJn/2gCj/+IAyP/jAE//8wBK//8AKf/SAEH/3ABk/9k9AP/qRAD/9XEA/8o/AP/TIwD/mM4A/7LfAP+J6AD/icAA/63JAP8AxZX/ANV9/wDfvf8AuJH/AMB1/3wA0/9NAN//lQDr/3kAxP9UAMz/5RUA//MAFv//JwD/1BwA/94AEP/u8wD//+sA/+D/AP/T4QD/6ssA/236AP96/wD/Tv8A/13oAP+N8AD/KvwA/yj/AP8C/wD/HeoA/0rzAP/OALP/1wCe//8Anv/3AK//6QDA/8kAXP/QADz//wAx/+8ARP/hAFr/vxcA/8dGAP/0ZwD/5kgA/9guAP+yuAD/e74A/5nqAP+m2wD/r84A/wCuR/8Atp7/AN+p/wDQhf8Aw3L/JQC1/4UAxP99AOn/XgDc/1IA0P/HACj/1CIA//4RAP/wAAT/4wAP/9awAP/R4QD/8v8A///7AP/x2gD/fNsA/13mAP9c/wD/bv8A/4H5AP833QD/IOYA/w//AP8g/wD/OPsA//gA4v/xAOT/5ADC//cA5P/nANP/8QB0/+sAeP/fAFv/7wB1/98AbP/mGgD/4RgA/9YsAP/kHQD/1hwA/9jcAP/K2AD/q8sA/8fZAP+8zAD/ANFO/wDOaf8Aw3T/AM9t/wDCY/8XAN3/PwDa/1EAzP9FANz/PwDN//AAUf/uACv/4AAP//EAJv/hACP//qoA//vEAP/v1AD//80A/+/BAP+4/wD/p/8A/4HyAP+h/wD/l/UA/2T/AP9d/wD/OvMA/1b/AP9P+AD/7QDI/9IAv///AKP/0gCo/+4As//nAGL/xwBi//sANf/LAE//5gBM/90mAP+7EQD/81wA/8UlAP/ePAD/vdMA/7KzAP+k6QD/rb0A/6rUAP8Aym7/AK5C/wDfmP8AtVH/AMt+/00A1P8qAML/ZgDn/yIAuv9bANX/5wAT/8gAKf/6AAb/ygAz/+YABv/33QD/z5sA///4AP/ZqgD/+OwA/4X/AP+Q1AD/bf8A/4PhAP94/wD/Ov8A/1XVAP8b/wD/OOQA/yz/AP/cALP/sQDC//8Aq//oAML/6wC6/9QAUv+8AHz/+QA9/+AAXf/jAE7/zC4A/7QACf/vVQD/1iUA/9lBAP+dwQD/q5YA/6flAP+5zAD/j88A/wC6d/8ApC//ANmP/wDCXf8Ax6b/WADF/woArP9gAOP/NADM/48A1f/XAAX/vQBN//YAA//gACj/6CMA/+PTAP/JdAD///wA/+7FAP/n9AD/d+gA/5bCAP9q/wD/i/QA/2v7AP816wD/b9EA/xr/AP9A9wD/KvwA/w==\",\"dtype\":\"uint32\",\"order\":\"little\",\"shape\":[50,50]}]},\"selected\":{\"id\":\"1428\"},\"selection_policy\":{\"id\":\"1427\"}},\"id\":\"1406\",\"type\":\"ColumnDataSource\"},{\"attributes\":{\"active_drag\":\"auto\",\"active_inspect\":\"auto\",\"active_multi\":null,\"active_scroll\":\"auto\",\"active_tap\":\"auto\",\"tools\":[{\"id\":\"1392\"},{\"id\":\"1393\"},{\"id\":\"1394\"},{\"id\":\"1395\"},{\"id\":\"1396\"},{\"id\":\"1397\"}]},\"id\":\"1399\",\"type\":\"Toolbar\"},{\"attributes\":{\"dh\":{\"units\":\"data\",\"value\":50},\"dw\":{\"units\":\"data\",\"value\":50},\"image\":{\"field\":\"image\"},\"x\":{\"value\":0},\"y\":{\"value\":0}},\"id\":\"1407\",\"type\":\"ImageRGBA\"},{\"attributes\":{},\"id\":\"1376\",\"type\":\"DataRange1d\"},{\"attributes\":{\"axis\":{\"id\":\"1388\"},\"dimension\":1,\"grid_line_alpha\":0.25,\"grid_line_color\":\"#E0E0E0\",\"ticker\":null},\"id\":\"1391\",\"type\":\"Grid\"},{\"attributes\":{},\"id\":\"1428\",\"type\":\"Selection\"},{\"attributes\":{},\"id\":\"1378\",\"type\":\"DataRange1d\"},{\"attributes\":{\"axis\":{\"id\":\"1384\"},\"grid_line_alpha\":0.25,\"grid_line_color\":\"#E0E0E0\",\"ticker\":null},\"id\":\"1387\",\"type\":\"Grid\"},{\"attributes\":{},\"id\":\"1395\",\"type\":\"SaveTool\"},{\"attributes\":{},\"id\":\"1380\",\"type\":\"LinearScale\"},{\"attributes\":{},\"id\":\"1397\",\"type\":\"HelpTool\"},{\"attributes\":{},\"id\":\"1393\",\"type\":\"WheelZoomTool\"},{\"attributes\":{\"dh\":{\"units\":\"data\",\"value\":50},\"dw\":{\"units\":\"data\",\"value\":50},\"global_alpha\":0.1,\"image\":{\"field\":\"image\"},\"x\":{\"value\":0},\"y\":{\"value\":0}},\"id\":\"1408\",\"type\":\"ImageRGBA\"},{\"attributes\":{\"overlay\":{\"id\":\"1398\"}},\"id\":\"1394\",\"type\":\"BoxZoomTool\"},{\"attributes\":{\"source\":{\"id\":\"1406\"}},\"id\":\"1410\",\"type\":\"CDSView\"},{\"attributes\":{\"axis_label_standoff\":10,\"axis_label_text_color\":\"#E0E0E0\",\"axis_label_text_font\":\"Helvetica\",\"axis_label_text_font_size\":\"1.25em\",\"axis_label_text_font_style\":\"normal\",\"axis_line_alpha\":0,\"axis_line_color\":\"#E0E0E0\",\"formatter\":{\"id\":\"1424\"},\"major_label_text_color\":\"#E0E0E0\",\"major_label_text_font\":\"Helvetica\",\"major_label_text_font_size\":\"1.025em\",\"major_tick_line_alpha\":0,\"major_tick_line_color\":\"#E0E0E0\",\"minor_tick_line_alpha\":0,\"minor_tick_line_color\":\"#E0E0E0\",\"ticker\":{\"id\":\"1389\"}},\"id\":\"1388\",\"type\":\"LinearAxis\"},{\"attributes\":{\"text\":\"\",\"text_color\":{\"value\":\"#E0E0E0\"},\"text_font\":\"Helvetica\",\"text_font_size\":{\"value\":\"1.15em\"}},\"id\":\"1420\",\"type\":\"Title\"},{\"attributes\":{\"data_source\":{\"id\":\"1406\"},\"glyph\":{\"id\":\"1407\"},\"hover_glyph\":null,\"muted_glyph\":null,\"nonselection_glyph\":{\"id\":\"1408\"},\"selection_glyph\":null,\"view\":{\"id\":\"1410\"}},\"id\":\"1409\",\"type\":\"GlyphRenderer\"},{\"attributes\":{},\"id\":\"1389\",\"type\":\"BasicTicker\"},{\"attributes\":{},\"id\":\"1422\",\"type\":\"BasicTickFormatter\"}],\"root_ids\":[\"1375\"]},\"title\":\"Bokeh Application\",\"version\":\"2.1.1\"}};\n",
       "  var render_items = [{\"docid\":\"c73d45ae-8572-4526-9942-984406d0aac1\",\"root_ids\":[\"1375\"],\"roots\":{\"1375\":\"478e30e9-1a68-481b-9d84-50cdf1eb32aa\"}}];\n",
       "  root.Bokeh.embed.embed_items_notebook(docs_json, render_items);\n",
       "\n",
       "  }\n",
       "  if (root.Bokeh !== undefined) {\n",
       "    embed_document(root);\n",
       "  } else {\n",
       "    var attempts = 0;\n",
       "    var timer = setInterval(function(root) {\n",
       "      if (root.Bokeh !== undefined) {\n",
       "        clearInterval(timer);\n",
       "        embed_document(root);\n",
       "      } else {\n",
       "        attempts++;\n",
       "        if (attempts > 100) {\n",
       "          clearInterval(timer);\n",
       "          console.log(\"Bokeh: ERROR: Unable to run BokehJS code because BokehJS library is missing\");\n",
       "        }\n",
       "      }\n",
       "    }, 10, root)\n",
       "  }\n",
       "})(window);"
      ],
      "application/vnd.bokehjs_exec.v0+json": ""
     },
     "metadata": {
      "application/vnd.bokehjs_exec.v0+json": {
       "id": "1375"
      }
     },
     "output_type": "display_data"
    }
   ],
   "source": [
    "PlotTuningMatrices(tuningMatricesM, (10, 10, 5, 5), maxRad=1.5)"
   ]
  },
  {
   "cell_type": "markdown",
   "metadata": {},
   "source": [
    "The simulation builder `BuildNewNetwork` requires that we supply it with two functions, one which creates an RF network object from of a 5-way splitter, and another which creates one of the Multiplier.  We will assume that the splitter is generic and employ a simple theoretical model for that which was imported from our `NetworkBuilding` theoretical simulation notebook.  However, for the Multiplier, we will use the `MultiplierBank` and the `loc` code to extract the model for a multiplier assigned to that specific location in the network. "
   ]
  },
  {
   "cell_type": "code",
   "execution_count": null,
   "metadata": {},
   "outputs": [],
   "source": [
    "def MultBuilder(loc):\n",
    "    return multBank.getRFNetwork(loc)"
   ]
  },
  {
   "cell_type": "code",
   "execution_count": null,
   "metadata": {},
   "outputs": [],
   "source": [
    "def SplitterBuilder(loc):\n",
    "    return Build5PortSplitter(freq45, loc=loc)"
   ]
  },
  {
   "cell_type": "markdown",
   "metadata": {},
   "source": [
    "As a quick example of a simulation, we set all the multipliers to the same setting, build a network, and examine the transmissive properties of it."
   ]
  },
  {
   "cell_type": "code",
   "execution_count": null,
   "metadata": {},
   "outputs": [],
   "source": [
    "multBank.setAllMults(psVal=512, vgaVal=512)"
   ]
  },
  {
   "cell_type": "code",
   "execution_count": null,
   "metadata": {},
   "outputs": [],
   "source": [
    "newNet = BuildNewNetwork(SplitterBuilder, MultBuilder, loc=\"N\", n=5)\n",
    "T = newNet.s[0, 5:, :5]\n",
    "T"
   ]
  },
  {
   "cell_type": "markdown",
   "metadata": {},
   "source": [
    "Of course this step can be automated for all of the `(ps, vga)` pairs in the in `tuningVals` to yield `tuningMatricesS`.  "
   ]
  },
  {
   "cell_type": "code",
   "execution_count": null,
   "metadata": {},
   "outputs": [],
   "source": [
    "tuningMatricesS = []\n",
    "for (psVal, vgaVal) in tuningVals:\n",
    "    multBank.setAllMults(psVal, vgaVal)\n",
    "    newNet = BuildNewNetwork(SplitterBuilder, MultBuilder, loc=\"N\", n=5)\n",
    "    m = newNet.s[0, 5:, :5]\n",
    "    tuningMatricesS.append(m)\n",
    "tuningMatricesS = np.array(tuningMatricesS)"
   ]
  },
  {
   "cell_type": "code",
   "execution_count": null,
   "metadata": {},
   "outputs": [],
   "source": [
    "PlotTuningMatrices(tuningMatricesS, (10, 10, 5, 5), maxRad=2.5)"
   ]
  },
  {
   "cell_type": "markdown",
   "metadata": {},
   "source": [
    "Ideally, this would yield the exact same network scattering matrices as were measured and contained in `tuningMatricesM`.  Of course they won't because each physical device has its own personality and other factors such as varying cable lengths.  We will therefore optimize the PCA weights of each device in simulation in an attempt to create collection of devices which match the real behavior of the experimental devices.\n",
    "\n",
    "In order to perform this optimization, we use SciPy's multivariate minimization function `minimize()`.  The format of this \n",
    "`scipy.optimize.minimize(fun, X0)` where `fun` is built such that `fun(X) -> error` where `X` and `X0` are 1D vectors of the real scalars to be optimized.  In order to make this easy, the MultiplierBank comes with two functions `setPersonalityVectors(X)` and `X0 = getPersonalityVectors()`, which grabs the complex PCA weights from all the multipliers as mashes them into a real 1D vector.  The two functions are designed to operate together so that the data"
   ]
  },
  {
   "cell_type": "code",
   "execution_count": null,
   "metadata": {},
   "outputs": [],
   "source": [
    "X0 = multBank.getPersonalityVectors()"
   ]
  },
  {
   "cell_type": "code",
   "execution_count": null,
   "metadata": {},
   "outputs": [],
   "source": [
    "def fun(X):\n",
    "    multBank.setPersonalityVectors(X)\n",
    "    tuningMatricesS = []\n",
    "    for (psVal, vgaVal) in tuningVals:\n",
    "        multBank.setAllMults(psVal, vgaVal)\n",
    "        newNet = BuildNewNetwork(SplitterBuilder, MultBuilder, loc=\"N\", n=5)\n",
    "        m = newNet.s[0, 5:, :5]\n",
    "        tuningMatricesS.append(m)\n",
    "    tuningMatricesS = np.array(tuningMatricesS)\n",
    "    error = np.sum(np.abs(tuningMatricesS - tuningMatricesM)**2)\n",
    "    print(error)\n",
    "    return error"
   ]
  },
  {
   "cell_type": "code",
   "execution_count": null,
   "metadata": {},
   "outputs": [],
   "source": [
    "fit = sp.optimize.minimize(fun, X0, method='Powell', \n",
    "                           options={'disp':True, 'adaptive':True, 'fatol':0.01})"
   ]
  },
  {
   "cell_type": "code",
   "execution_count": null,
   "metadata": {},
   "outputs": [],
   "source": [
    "XF = multBank.getPersonalityVectors()"
   ]
  },
  {
   "cell_type": "code",
   "execution_count": null,
   "metadata": {},
   "outputs": [],
   "source": [
    "# XF = fit.x"
   ]
  },
  {
   "cell_type": "markdown",
   "metadata": {},
   "source": [
    "Error when multipliers are the uniform average all devices measured in the PCA:"
   ]
  },
  {
   "cell_type": "code",
   "execution_count": null,
   "metadata": {},
   "outputs": [],
   "source": [
    "fun(X0)"
   ]
  },
  {
   "cell_type": "markdown",
   "metadata": {},
   "source": [
    "Error following fitting the PCA weights:"
   ]
  },
  {
   "cell_type": "code",
   "execution_count": null,
   "metadata": {},
   "outputs": [],
   "source": [
    "fun(XF)"
   ]
  },
  {
   "cell_type": "code",
   "execution_count": null,
   "metadata": {},
   "outputs": [],
   "source": [
    "multBank.setPersonalityVectors(XF)"
   ]
  },
  {
   "cell_type": "code",
   "execution_count": null,
   "metadata": {},
   "outputs": [],
   "source": [
    "tuningMatricesS = []\n",
    "for (psVal, vgaVal) in tuningVals:\n",
    "    multBank.setAllMults(psVal, vgaVal)\n",
    "    newNet = BuildNewNetwork(SplitterBuilder, MultBuilder, loc=\"N\", n=5)\n",
    "    m = newNet.s[0, 5:, :5]\n",
    "    tuningMatricesS.append(m)\n",
    "tuningMatricesS = np.array(tuningMatricesS)"
   ]
  },
  {
   "cell_type": "code",
   "execution_count": null,
   "metadata": {},
   "outputs": [],
   "source": [
    "PlotTuningMatrices(tuningMatricesS, (10, 10, 5, 5), maxRad=2.5)"
   ]
  },
  {
   "cell_type": "code",
   "execution_count": null,
   "metadata": {},
   "outputs": [],
   "source": [
    "np.save(\"personalityVector\", XF)"
   ]
  },
  {
   "cell_type": "markdown",
   "metadata": {},
   "source": [
    "# Set and Measure a Matrix"
   ]
  },
  {
   "cell_type": "code",
   "execution_count": 87,
   "metadata": {},
   "outputs": [],
   "source": [
    "def calcNewMatrixSettings(K, multBank, n):\n",
    "    expK = []\n",
    "    for i_out in range(n):\n",
    "        expRow = []\n",
    "        for i_in in range(n):\n",
    "            loc = ('M', 'N', i_in, i_out)\n",
    "            mult = multBank.getMultByLoc(loc)\n",
    "            T = 5*K[i_out, i_in]\n",
    "            mult.setT(T)\n",
    "            Texp = mult.TExpected\n",
    "            expRow.append(Texp)\n",
    "        expK.append(expRow)\n",
    "    expK = np.array(expK)\n",
    "    print(expK)"
   ]
  },
  {
   "cell_type": "code",
   "execution_count": 88,
   "metadata": {},
   "outputs": [],
   "source": [
    "def setExpMultBank(exp, multBank):\n",
    "    physNums = multBank.getPhysNums()\n",
    "    psSettings = [multBank.getMultByPhysNum(physNum).psSetting for physNum in physNums]\n",
    "    vgaSettings = [multBank.getMultByPhysNum(physNum).vgaSetting for physNum in physNums]\n",
    "    exp.setMults(psSettings, vgaSettings, physNums)"
   ]
  },
  {
   "cell_type": "code",
   "execution_count": 89,
   "metadata": {},
   "outputs": [],
   "source": [
    "XF = np.load(\"personalityVector.npy\")"
   ]
  },
  {
   "cell_type": "code",
   "execution_count": 101,
   "metadata": {},
   "outputs": [],
   "source": [
    "multBank.setPersonalityVectors(XF)"
   ]
  },
  {
   "cell_type": "code",
   "execution_count": 120,
   "metadata": {},
   "outputs": [
    {
     "data": {
      "text/plain": [
       "array([[0.5+0.5j, 0.5+0.5j, 0.5+0.5j, 0.5+0.5j, 0.5+0.5j],\n",
       "       [0.5+0.5j, 0.5+0.5j, 0.5+0.5j, 0.5+0.5j, 0.5+0.5j],\n",
       "       [0.5+0.5j, 0.5+0.5j, 0.5+0.5j, 0.5+0.5j, 0.5+0.5j],\n",
       "       [0.5+0.5j, 0.5+0.5j, 0.5+0.5j, 0.5+0.5j, 0.5+0.5j],\n",
       "       [0.5+0.5j, 0.5+0.5j, 0.5+0.5j, 0.5+0.5j, 0.5+0.5j]])"
      ]
     },
     "execution_count": 120,
     "metadata": {},
     "output_type": "execute_result"
    }
   ],
   "source": [
    "K = np.full((5,5), fill_value=(0.5+.5j))\n",
    "K"
   ]
  },
  {
   "cell_type": "code",
   "execution_count": 121,
   "metadata": {},
   "outputs": [
    {
     "name": "stdout",
     "output_type": "stream",
     "text": [
      "[[2.498+2.498j 2.511+2.499j 2.497+2.502j 2.491+2.508j 2.497+2.5j  ]\n",
      " [2.489+2.506j 2.499+2.507j 2.491+2.499j 2.499+2.507j 2.507+2.485j]\n",
      " [2.489+2.507j 2.488+2.508j 2.501+2.505j 2.498+2.503j 2.51 +2.488j]\n",
      " [2.502+2.501j 2.489+2.506j 2.493+2.502j 2.495+2.513j 2.5  +2.507j]\n",
      " [2.5  +2.497j 2.497+2.508j 2.506+2.488j 2.51 +2.5j   2.51 +2.499j]]\n"
     ]
    }
   ],
   "source": [
    "calcNewMatrixSettings(K, multBank, 5)"
   ]
  },
  {
   "cell_type": "code",
   "execution_count": 122,
   "metadata": {},
   "outputs": [
    {
     "data": {
      "text/plain": [
       "array([[31, 11, 16, 21, 26],\n",
       "       [32, 12, 17, 22, 27],\n",
       "       [33, 13, 18, 23, 28],\n",
       "       [34, 14, 19, 24, 29],\n",
       "       [35, 15, 20, 25, 30]])"
      ]
     },
     "execution_count": 122,
     "metadata": {},
     "output_type": "execute_result"
    }
   ],
   "source": [
    "multPhysNumberBank"
   ]
  },
  {
   "cell_type": "code",
   "execution_count": 105,
   "metadata": {},
   "outputs": [],
   "source": [
    "testMult = multBank.getMultByPhysNum(31)"
   ]
  },
  {
   "cell_type": "code",
   "execution_count": 106,
   "metadata": {},
   "outputs": [
    {
     "data": {
      "text/plain": [
       "((-0.013212932769587259+2.4984706419659544j), 816, 369)"
      ]
     },
     "execution_count": 106,
     "metadata": {},
     "output_type": "execute_result"
    }
   ],
   "source": [
    "(testMult.TExpected,\n",
    " testMult.vgaSetting,\n",
    " testMult.psSetting)"
   ]
  },
  {
   "cell_type": "code",
   "execution_count": 123,
   "metadata": {},
   "outputs": [],
   "source": [
    "setExpMultBank(exp, multBank)"
   ]
  },
  {
   "cell_type": "code",
   "execution_count": 124,
   "metadata": {},
   "outputs": [],
   "source": [
    "m, std = exp.measureSMatrix(delay=2)"
   ]
  },
  {
   "cell_type": "code",
   "execution_count": 125,
   "metadata": {},
   "outputs": [
    {
     "data": {
      "text/plain": [
       "array([[0.576+0.507j, 0.588+0.49j , 0.532+0.46j , 0.572+0.504j, 0.57 +0.511j],\n",
       "       [0.582+0.5j  , 0.577+0.5j  , 0.528+0.452j, 0.582+0.498j, 0.578+0.503j],\n",
       "       [0.578+0.501j, 0.583+0.498j, 0.533+0.457j, 0.574+0.502j, 0.569+0.506j],\n",
       "       [0.584+0.497j, 0.494+0.6j  , 0.525+0.45j , 0.583+0.498j, 0.576+0.508j],\n",
       "       [0.581+0.49j , 0.405+0.696j, 0.531+0.441j, 0.581+0.501j, 0.566+0.514j]])"
      ]
     },
     "execution_count": 125,
     "metadata": {},
     "output_type": "execute_result"
    }
   ],
   "source": [
    "mNew = m\n",
    "mNew"
   ]
  },
  {
   "cell_type": "code",
   "execution_count": 126,
   "metadata": {},
   "outputs": [
    {
     "data": {
      "text/plain": [
       "array([[0.076, 0.089, 0.051, 0.072, 0.071],\n",
       "       [0.082, 0.077, 0.056, 0.082, 0.078],\n",
       "       [0.078, 0.083, 0.055, 0.074, 0.07 ],\n",
       "       [0.084, 0.1  , 0.056, 0.083, 0.077],\n",
       "       [0.082, 0.218, 0.066, 0.081, 0.068]])"
      ]
     },
     "execution_count": 126,
     "metadata": {},
     "output_type": "execute_result"
    }
   ],
   "source": [
    "np.abs(mNew - K)"
   ]
  },
  {
   "cell_type": "code",
   "execution_count": 128,
   "metadata": {},
   "outputs": [],
   "source": [
    "plotData = np.hstack((K,mOld,mNew))"
   ]
  },
  {
   "cell_type": "code",
   "execution_count": 129,
   "metadata": {},
   "outputs": [
    {
     "data": {
      "text/html": [
       "\n",
       "\n",
       "\n",
       "\n",
       "\n",
       "\n",
       "  <div class=\"bk-root\" id=\"b9c316cb-0c69-4001-8f44-8f4e74cd1a07\" data-root-id=\"2344\"></div>\n"
      ]
     },
     "metadata": {},
     "output_type": "display_data"
    },
    {
     "data": {
      "application/javascript": [
       "(function(root) {\n",
       "  function embed_document(root) {\n",
       "    \n",
       "  var docs_json = {\"be41d3b4-6f92-4be2-b5f9-e772be106f6c\":{\"roots\":{\"references\":[{\"attributes\":{\"background_fill_color\":\"#20262B\",\"below\":[{\"id\":\"2353\"}],\"border_fill_color\":\"#15191C\",\"center\":[{\"id\":\"2356\"},{\"id\":\"2360\"}],\"left\":[{\"id\":\"2357\"}],\"outline_line_alpha\":0.25,\"outline_line_color\":\"#E0E0E0\",\"renderers\":[{\"id\":\"2378\"}],\"title\":{\"id\":\"2443\"},\"toolbar\":{\"id\":\"2368\"},\"x_range\":{\"id\":\"2345\"},\"x_scale\":{\"id\":\"2349\"},\"y_range\":{\"id\":\"2347\"},\"y_scale\":{\"id\":\"2351\"}},\"id\":\"2344\",\"subtype\":\"Figure\",\"type\":\"Plot\"},{\"attributes\":{\"bottom_units\":\"screen\",\"fill_alpha\":0.5,\"fill_color\":\"lightgrey\",\"left_units\":\"screen\",\"level\":\"overlay\",\"line_alpha\":1.0,\"line_color\":\"black\",\"line_dash\":[4,4],\"line_width\":2,\"right_units\":\"screen\",\"top_units\":\"screen\"},\"id\":\"2367\",\"type\":\"BoxAnnotation\"},{\"attributes\":{\"data\":{\"image\":[{\"__ndarray__\":\"tYcA/7WHAP+1hwD/tYcA/7WHAP+BVAD/i1YA/4ZwAP93UwD/fEUA/8SHAP/EggD/tHoA/8OGAP/EiQD/tYcA/7WHAP+1hwD/tYcA/7WHAP9yNAD/dlYA/4VnAP+IWQD/gEoA/8SFAP/DhQD/sXgA/8SEAP/EhgD/tYcA/7WHAP+1hwD/tYcA/7WHAP+JPAD/hjsA/3RDAP+JQQD/fkAA/8OFAP/EhAD/s3kA/8OGAP/ChwD/tYcA/7WHAP+1hwD/tYcA/7WHAP+ERgD/dEUA/4RhAP91QAD/hFUA/8SEAP/HpwD/sHcA/8SEAP/EhwD/tYcA/7WHAP+1hwD/tYcA/7WHAP94RwD/cEYA/4FaAP9/QgD/gVsA/8KCAP/OzQD/sHUA/8SFAP/DigD/\",\"dtype\":\"uint32\",\"order\":\"little\",\"shape\":[5,15]}]},\"selected\":{\"id\":\"2451\"},\"selection_policy\":{\"id\":\"2450\"}},\"id\":\"2375\",\"type\":\"ColumnDataSource\"},{\"attributes\":{},\"id\":\"2450\",\"type\":\"UnionRenderers\"},{\"attributes\":{\"axis_label_standoff\":10,\"axis_label_text_color\":\"#E0E0E0\",\"axis_label_text_font\":\"Helvetica\",\"axis_label_text_font_size\":\"1.25em\",\"axis_label_text_font_style\":\"normal\",\"axis_line_alpha\":0,\"axis_line_color\":\"#E0E0E0\",\"formatter\":{\"id\":\"2445\"},\"major_label_text_color\":\"#E0E0E0\",\"major_label_text_font\":\"Helvetica\",\"major_label_text_font_size\":\"1.025em\",\"major_tick_line_alpha\":0,\"major_tick_line_color\":\"#E0E0E0\",\"minor_tick_line_alpha\":0,\"minor_tick_line_color\":\"#E0E0E0\",\"ticker\":{\"id\":\"2354\"}},\"id\":\"2353\",\"type\":\"LinearAxis\"},{\"attributes\":{},\"id\":\"2349\",\"type\":\"LinearScale\"},{\"attributes\":{},\"id\":\"2366\",\"type\":\"HelpTool\"},{\"attributes\":{\"overlay\":{\"id\":\"2367\"}},\"id\":\"2363\",\"type\":\"BoxZoomTool\"},{\"attributes\":{},\"id\":\"2364\",\"type\":\"SaveTool\"},{\"attributes\":{},\"id\":\"2345\",\"type\":\"DataRange1d\"},{\"attributes\":{\"dh\":{\"units\":\"data\",\"value\":5},\"dw\":{\"units\":\"data\",\"value\":15},\"global_alpha\":0.1,\"image\":{\"field\":\"image\"},\"x\":{\"value\":0},\"y\":{\"value\":0}},\"id\":\"2377\",\"type\":\"ImageRGBA\"},{\"attributes\":{},\"id\":\"2347\",\"type\":\"DataRange1d\"},{\"attributes\":{\"source\":{\"id\":\"2375\"}},\"id\":\"2379\",\"type\":\"CDSView\"},{\"attributes\":{\"data_source\":{\"id\":\"2375\"},\"glyph\":{\"id\":\"2376\"},\"hover_glyph\":null,\"muted_glyph\":null,\"nonselection_glyph\":{\"id\":\"2377\"},\"selection_glyph\":null,\"view\":{\"id\":\"2379\"}},\"id\":\"2378\",\"type\":\"GlyphRenderer\"},{\"attributes\":{},\"id\":\"2447\",\"type\":\"BasicTickFormatter\"},{\"attributes\":{\"dh\":{\"units\":\"data\",\"value\":5},\"dw\":{\"units\":\"data\",\"value\":15},\"image\":{\"field\":\"image\"},\"x\":{\"value\":0},\"y\":{\"value\":0}},\"id\":\"2376\",\"type\":\"ImageRGBA\"},{\"attributes\":{\"axis_label_standoff\":10,\"axis_label_text_color\":\"#E0E0E0\",\"axis_label_text_font\":\"Helvetica\",\"axis_label_text_font_size\":\"1.25em\",\"axis_label_text_font_style\":\"normal\",\"axis_line_alpha\":0,\"axis_line_color\":\"#E0E0E0\",\"formatter\":{\"id\":\"2447\"},\"major_label_text_color\":\"#E0E0E0\",\"major_label_text_font\":\"Helvetica\",\"major_label_text_font_size\":\"1.025em\",\"major_tick_line_alpha\":0,\"major_tick_line_color\":\"#E0E0E0\",\"minor_tick_line_alpha\":0,\"minor_tick_line_color\":\"#E0E0E0\",\"ticker\":{\"id\":\"2358\"}},\"id\":\"2357\",\"type\":\"LinearAxis\"},{\"attributes\":{},\"id\":\"2361\",\"type\":\"PanTool\"},{\"attributes\":{\"axis\":{\"id\":\"2357\"},\"dimension\":1,\"grid_line_alpha\":0.25,\"grid_line_color\":\"#E0E0E0\",\"ticker\":null},\"id\":\"2360\",\"type\":\"Grid\"},{\"attributes\":{},\"id\":\"2451\",\"type\":\"Selection\"},{\"attributes\":{\"text\":\"\",\"text_color\":{\"value\":\"#E0E0E0\"},\"text_font\":\"Helvetica\",\"text_font_size\":{\"value\":\"1.15em\"}},\"id\":\"2443\",\"type\":\"Title\"},{\"attributes\":{},\"id\":\"2362\",\"type\":\"WheelZoomTool\"},{\"attributes\":{},\"id\":\"2354\",\"type\":\"BasicTicker\"},{\"attributes\":{\"axis\":{\"id\":\"2353\"},\"grid_line_alpha\":0.25,\"grid_line_color\":\"#E0E0E0\",\"ticker\":null},\"id\":\"2356\",\"type\":\"Grid\"},{\"attributes\":{\"active_drag\":\"auto\",\"active_inspect\":\"auto\",\"active_multi\":null,\"active_scroll\":\"auto\",\"active_tap\":\"auto\",\"tools\":[{\"id\":\"2361\"},{\"id\":\"2362\"},{\"id\":\"2363\"},{\"id\":\"2364\"},{\"id\":\"2365\"},{\"id\":\"2366\"}]},\"id\":\"2368\",\"type\":\"Toolbar\"},{\"attributes\":{},\"id\":\"2351\",\"type\":\"LinearScale\"},{\"attributes\":{},\"id\":\"2445\",\"type\":\"BasicTickFormatter\"},{\"attributes\":{},\"id\":\"2358\",\"type\":\"BasicTicker\"},{\"attributes\":{},\"id\":\"2365\",\"type\":\"ResetTool\"}],\"root_ids\":[\"2344\"]},\"title\":\"Bokeh Application\",\"version\":\"2.1.1\"}};\n",
       "  var render_items = [{\"docid\":\"be41d3b4-6f92-4be2-b5f9-e772be106f6c\",\"root_ids\":[\"2344\"],\"roots\":{\"2344\":\"b9c316cb-0c69-4001-8f44-8f4e74cd1a07\"}}];\n",
       "  root.Bokeh.embed.embed_items_notebook(docs_json, render_items);\n",
       "\n",
       "  }\n",
       "  if (root.Bokeh !== undefined) {\n",
       "    embed_document(root);\n",
       "  } else {\n",
       "    var attempts = 0;\n",
       "    var timer = setInterval(function(root) {\n",
       "      if (root.Bokeh !== undefined) {\n",
       "        clearInterval(timer);\n",
       "        embed_document(root);\n",
       "      } else {\n",
       "        attempts++;\n",
       "        if (attempts > 100) {\n",
       "          clearInterval(timer);\n",
       "          console.log(\"Bokeh: ERROR: Unable to run BokehJS code because BokehJS library is missing\");\n",
       "        }\n",
       "      }\n",
       "    }, 10, root)\n",
       "  }\n",
       "})(window);"
      ],
      "application/vnd.bokehjs_exec.v0+json": ""
     },
     "metadata": {
      "application/vnd.bokehjs_exec.v0+json": {
       "id": "2344"
      }
     },
     "output_type": "display_data"
    }
   ],
   "source": [
    "plotComplexArray(plotData, maxRad=1)"
   ]
  },
  {
   "cell_type": "code",
   "execution_count": 100,
   "metadata": {},
   "outputs": [
    {
     "data": {
      "text/plain": [
       "array([[0.391+0.32j , 0.437+0.328j, 0.338+0.404j, 0.348+0.31j , 0.408+0.266j],\n",
       "       [0.395+0.207j, 0.333+0.32j , 0.359+0.379j, 0.412+0.338j, 0.413+0.287j],\n",
       "       [0.481+0.24j , 0.47 +0.235j, 0.373+0.257j, 0.471+0.255j, 0.427+0.251j],\n",
       "       [0.438+0.272j, 0.368+0.267j, 0.374+0.359j, 0.388+0.248j, 0.406+0.325j],\n",
       "       [0.38 +0.274j, 0.348+0.269j, 0.375+0.339j, 0.425+0.26j , 0.375+0.341j]])"
      ]
     },
     "execution_count": 100,
     "metadata": {},
     "output_type": "execute_result"
    }
   ],
   "source": [
    "mOld = m\n",
    "mOld"
   ]
  },
  {
   "cell_type": "code",
   "execution_count": 40,
   "metadata": {},
   "outputs": [
    {
     "data": {
      "text/plain": [
       "array([[0.361, 0.361, 0.361, 0.361, 0.361],\n",
       "       [0.361, 0.361, 0.361, 0.361, 0.361],\n",
       "       [0.361, 0.361, 0.361, 0.361, 0.361],\n",
       "       [0.361, 0.361, 0.361, 0.361, 0.361],\n",
       "       [0.361, 0.361, 0.361, 0.361, 0.361]])"
      ]
     },
     "execution_count": 40,
     "metadata": {},
     "output_type": "execute_result"
    }
   ],
   "source": [
    "np.abs(K)"
   ]
  },
  {
   "cell_type": "markdown",
   "metadata": {
    "heading_collapsed": "true"
   },
   "source": [
    "# Scrap"
   ]
  },
  {
   "cell_type": "code",
   "execution_count": null,
   "metadata": {},
   "outputs": [],
   "source": [
    "tuningMatricesS = []\n",
    "for (psVal, vgaVal) in tuningVals:\n",
    "    multBank.setAllMults(psVal, vgaVal)\n",
    "    newNet = BuildNewNetwork(SplitterBuilder, MultBuilder, loc=\"N\", n=5)\n",
    "    m = newNet.s[0, 5:, :5]\n",
    "    tuningMatricesS.append(m)\n",
    "tuningMatricesS = np.array(tuningMatricesS)\n",
    "\n",
    "tuningMatricesS - "
   ]
  },
  {
   "cell_type": "code",
   "execution_count": null,
   "metadata": {},
   "outputs": [],
   "source": [
    "physMatrices = []\n",
    "for (psVal, vgaVal) in tuningVals:\n",
    "    SetAllSimMults(psVal, vgaVal, multBank)\n",
    "    time.sleep(1)\n",
    "    m = MeasurePhysMatrix(5, inSwitchComm, outSwitchComm, vnaComm, delay=0)\n",
    "    physMatrices.append(m)"
   ]
  },
  {
   "cell_type": "code",
   "execution_count": null,
   "metadata": {},
   "outputs": [],
   "source": [
    "for loc in multBank.getLocs():\n",
    "    mult = multBank.getMultByLoc(loc)\n",
    "    mult.setSettings(psSetting, vgaSetting)"
   ]
  },
  {
   "cell_type": "code",
   "execution_count": null,
   "metadata": {},
   "outputs": [],
   "source": [
    "mult = multBank.getMultByLoc(loc)\n",
    "mult.setSettings(psSetting=0, vgaSetting=0)"
   ]
  },
  {
   "cell_type": "code",
   "execution_count": null,
   "metadata": {},
   "outputs": [],
   "source": [
    "SplitterBuilder((\"Sin\", 0, 0))"
   ]
  },
  {
   "cell_type": "code",
   "execution_count": null,
   "metadata": {},
   "outputs": [],
   "source": [
    "MultBuilder((\"M\", \"X\", 0, 0))"
   ]
  },
  {
   "cell_type": "code",
   "execution_count": null,
   "metadata": {},
   "outputs": [],
   "source": [
    "np.allclose(T, Ks)"
   ]
  },
  {
   "cell_type": "code",
   "execution_count": null,
   "metadata": {
    "id": "kJNZ1xLPelCt"
   },
   "outputs": [],
   "source": [
    "freq = rf.Frequency(start=45, stop=45, npoints=1, unit='mhz', sweep_type='lin')"
   ]
  },
  {
   "cell_type": "code",
   "execution_count": null,
   "metadata": {},
   "outputs": [],
   "source": [
    "def SplitterBuilder(loc):\n",
    "    return Build5PortSplitter(freq, loc=loc)"
   ]
  },
  {
   "cell_type": "code",
   "execution_count": null,
   "metadata": {},
   "outputs": [],
   "source": [
    "SplitterBuilder((\"Sin\", 0, 0))"
   ]
  },
  {
   "cell_type": "code",
   "execution_count": null,
   "metadata": {},
   "outputs": [],
   "source": [
    "def MultBuilder(loc):\n",
    "    (_, locParent, i_in, i_out) = loc\n",
    "    Tc = Ks[i_out, i_in] * np.sqrt(5)**2\n",
    "    return BuildMultiplier(Tc, freq, loc)"
   ]
  },
  {
   "cell_type": "code",
   "execution_count": null,
   "metadata": {},
   "outputs": [],
   "source": [
    "MultBuilder((\"M\", \"X\", 0, 0))"
   ]
  },
  {
   "cell_type": "code",
   "execution_count": null,
   "metadata": {},
   "outputs": [],
   "source": [
    "newNet = BuildNewNetwork(SplitterBuilder, MultBuilder, loc=\"X\", n=5)\n",
    "T = newNet.s[0, 5:, :5]\n",
    "T"
   ]
  },
  {
   "cell_type": "code",
   "execution_count": null,
   "metadata": {},
   "outputs": [],
   "source": [
    "np.allclose(T, Ks)"
   ]
  },
  {
   "cell_type": "code",
   "execution_count": null,
   "metadata": {
    "id": "YdSI3XslkQto"
   },
   "outputs": [],
   "source": [
    "Ks = np.array([[-0.05+0.06j, -0.  -0.13j, -0.07-0.15j,  0.11+0.28j, -0.05-0.18j],\n",
    "               [-0.1 -0.19j, -0.3 -0.05j, -0.28+0.07j, -0.25+0.28j, -0.11-0.29j],\n",
    "               [ 0.21-0.18j, -0.08-0.14j,  0.03+0.2j , -0.23+0.24j, -0.06+0.32j],\n",
    "               [-0.29-0.31j,  0.12+0.09j,  0.08-0.02j,  0.31+0.12j, -0.22-0.18j],\n",
    "               [-0.18-0.06j,  0.08-0.21j,  0.25-0.18j, -0.26-0.1j ,  0.13+0.1j ]])"
   ]
  }
 ],
 "metadata": {
  "kernelspec": {
   "display_name": "Python 3",
   "language": "python",
   "name": "python3"
  },
  "language_info": {
   "codemirror_mode": {
    "name": "ipython",
    "version": 3
   },
   "file_extension": ".py",
   "mimetype": "text/x-python",
   "name": "python",
   "nbconvert_exporter": "python",
   "pygments_lexer": "ipython3",
   "version": "3.8.3"
  }
 },
 "nbformat": 4,
 "nbformat_minor": 4
}
