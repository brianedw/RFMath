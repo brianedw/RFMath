{
 "cells": [
  {
   "cell_type": "markdown",
   "metadata": {},
   "source": [
    "## Imports"
   ]
  },
  {
   "cell_type": "code",
   "execution_count": null,
   "metadata": {},
   "outputs": [],
   "source": [
    "import sys\n",
    "import os\n",
    "import math"
   ]
  },
  {
   "cell_type": "code",
   "execution_count": null,
   "metadata": {},
   "outputs": [],
   "source": [
    "import serial\n",
    "import time"
   ]
  },
  {
   "cell_type": "code",
   "execution_count": null,
   "metadata": {},
   "outputs": [],
   "source": [
    "import pyvisa"
   ]
  },
  {
   "cell_type": "code",
   "execution_count": null,
   "metadata": {},
   "outputs": [],
   "source": [
    "import numpy as np\n",
    "import pandas as pd"
   ]
  },
  {
   "cell_type": "code",
   "execution_count": null,
   "metadata": {},
   "outputs": [],
   "source": [
    "import sys\n",
    "if sys.version_info[0] < 3: \n",
    "    from StringIO import StringIO\n",
    "else:\n",
    "    from io import StringIO"
   ]
  },
  {
   "cell_type": "markdown",
   "metadata": {},
   "source": [
    "# Library"
   ]
  },
  {
   "cell_type": "code",
   "execution_count": null,
   "metadata": {},
   "outputs": [],
   "source": [
    "! python -m serial.tools.list_ports"
   ]
  },
  {
   "cell_type": "markdown",
   "metadata": {
    "heading_collapsed": "true"
   },
   "source": [
    "## Switch"
   ]
  },
  {
   "cell_type": "code",
   "execution_count": null,
   "metadata": {},
   "outputs": [],
   "source": [
    "def setupInputSwitch():\n",
    "    global inputSwitch\n",
    "    inputSwitch = serial.Serial()\n",
    "    inputSwitch.port = 'COM4'\n",
    "    inputSwitch.close()\n",
    "    inputSwitch.open()\n",
    "    time.sleep(0.5)\n",
    "    response = inputSwitch.read_all()\n",
    "    print(response.decode(\"utf-8\"))"
   ]
  },
  {
   "cell_type": "code",
   "execution_count": null,
   "metadata": {},
   "outputs": [],
   "source": [
    "def setupOutputSwitch():\n",
    "    global outputSwitch\n",
    "    outputSwitch = serial.Serial()\n",
    "    outputSwitch.port = 'COM3'\n",
    "    outputSwitch.close()\n",
    "    outputSwitch.open()\n",
    "    time.sleep(0.5)\n",
    "    response = outputSwitch.read_all()\n",
    "    print(response.decode(\"utf-8\"))"
   ]
  },
  {
   "cell_type": "code",
   "execution_count": null,
   "metadata": {},
   "outputs": [],
   "source": [
    "def setInputSwitch(i, verbose=False):\n",
    "    inputSwitch.flushInput()\n",
    "    inputSwitch.write(str.encode(str(i)))\n",
    "    if verbose:\n",
    "        time.sleep(2)\n",
    "        response = inputSwitch.read_all()\n",
    "        print(response.decode(\"utf-8\"))"
   ]
  },
  {
   "cell_type": "code",
   "execution_count": null,
   "metadata": {},
   "outputs": [],
   "source": [
    "def setOutputSwitch(i, verbose=False):\n",
    "    outputSwitch.flushInput()\n",
    "    outputSwitch.write(str.encode(str(i)))\n",
    "    if verbose:\n",
    "        time.sleep(2)\n",
    "        response = outputSwitch.read_all()\n",
    "        print(response.decode(\"utf-8\"))"
   ]
  },
  {
   "cell_type": "code",
   "execution_count": null,
   "metadata": {},
   "outputs": [],
   "source": [
    "def closeInputSwitch():\n",
    "    inputSwitch.close()"
   ]
  },
  {
   "cell_type": "code",
   "execution_count": null,
   "metadata": {},
   "outputs": [],
   "source": [
    "def closeOutputSwitch():\n",
    "    outputSwitch.close()"
   ]
  },
  {
   "cell_type": "markdown",
   "metadata": {
    "heading_collapsed": "true"
   },
   "source": [
    "## MCUs"
   ]
  },
  {
   "cell_type": "code",
   "execution_count": null,
   "metadata": {},
   "outputs": [],
   "source": [
    "def setupMCU():\n",
    "    global MCU\n",
    "    MCU = serial.Serial()\n",
    "    MCU.port = 'COM5'\n",
    "    MCU.close()\n",
    "    MCU.open()\n",
    "    time.sleep(0.5)\n",
    "    response = MCU.read_all()\n",
    "    print(response.decode(\"utf-8\"))"
   ]
  },
  {
   "cell_type": "code",
   "execution_count": null,
   "metadata": {},
   "outputs": [],
   "source": [
    "def setMCU(i, v1, v2, verbose=False):\n",
    "    \"\"\"\n",
    "    i = MCU idNum\n",
    "    v1 = VGA\n",
    "    v2 = PS\n",
    "    versbose - print status\n",
    "    \"\"\"\n",
    "    MCU.flushInput()\n",
    "    if isinstance(v1, float):\n",
    "        v1Out = int(v1)\n",
    "    else:\n",
    "        v1Out = v1\n",
    "    if isinstance(v2, float):\n",
    "        v2Out = int(v2)\n",
    "    else:\n",
    "        v2Out = v2\n",
    "    v1Out = np.clip(v1Out, 1, 1023)\n",
    "    v2Out = np.clip(v2Out, 1, 1023)\n",
    "    MCU.write(str.encode(str(i)+' 2 '+str(v1Out)+' '+str(v2Out)))\n",
    "    if verbose:\n",
    "        time.sleep(1)\n",
    "        response = MCU.read_all()\n",
    "        print(response.decode(\"utf-8\"))"
   ]
  },
  {
   "cell_type": "code",
   "execution_count": null,
   "metadata": {},
   "outputs": [],
   "source": [
    "def setAllMCU(data, verbose=False):\n",
    "    \"\"\"\n",
    "    data is expected to be of the form np.array([[v1,v2], [v1,v2], ... ])\n",
    "    \"\"\"\n",
    "    nMCUs = data.shape[0]\n",
    "    iMCUs = (np.arange(nMCUs)+1).tolist()\n",
    "    for i in iMCUs:\n",
    "        v1, v2 = data[i-1]\n",
    "        setMCU(i, v1, v2, verbose)\n",
    "        time.sleep(0.2)"
   ]
  },
  {
   "cell_type": "code",
   "execution_count": null,
   "metadata": {},
   "outputs": [],
   "source": [
    "def blinkMCU(i, verbose=False):\n",
    "    MCU.flushInput()\n",
    "    MCU.write(str.encode(str(i)+' 1'))\n",
    "    if verbose:\n",
    "        time.sleep(2)\n",
    "        response = MCU.read_all()\n",
    "        print(response.decode(\"utf-8\"))"
   ]
  },
  {
   "cell_type": "code",
   "execution_count": null,
   "metadata": {},
   "outputs": [],
   "source": [
    "def blinkAll(iMax, verbose=False):\n",
    "    iMaster = 255\n",
    "    iMCUs = (np.arange(iMax)+1).tolist()\n",
    "    iAll = [iMaster] + iMCUs \n",
    "    for i in iAll:\n",
    "        blinkMCU(i, verbose)\n",
    "        time.sleep(5.5) # Needed wait time to allow MCU to return to listenting state."
   ]
  },
  {
   "cell_type": "code",
   "execution_count": null,
   "metadata": {},
   "outputs": [],
   "source": [
    "blinkAll(5)"
   ]
  },
  {
   "cell_type": "code",
   "execution_count": null,
   "metadata": {},
   "outputs": [],
   "source": [
    "def closeMCU():\n",
    "    MCU.close()"
   ]
  },
  {
   "cell_type": "markdown",
   "metadata": {
    "heading_collapsed": "true"
   },
   "source": [
    "## VNA"
   ]
  },
  {
   "cell_type": "code",
   "execution_count": null,
   "metadata": {},
   "outputs": [],
   "source": [
    "def setupVNA():\n",
    "    global inst\n",
    "    rm = pyvisa.ResourceManager()\n",
    "    resources = rm.list_resources()\n",
    "    inst = rm.open_resource(resources[0])\n",
    "    name = inst.query('*IDN?')\n",
    "    print(name)"
   ]
  },
  {
   "cell_type": "code",
   "execution_count": null,
   "metadata": {},
   "outputs": [],
   "source": [
    "def getS21at45():\n",
    "    \"\"\"\n",
    "    VNA state 8\n",
    "    \"\"\"\n",
    "    inst.write('MMEM:STOR:FDAT \"d:/dummy.csv\"')\n",
    "    result = inst.query('MMEM:TRAN? \"d:/dummy.csv\"')\n",
    "    impArray = pd.read_csv(StringIO(result), skiprows = 2).to_numpy()\n",
    "    r = impArray[round((len(impArray)-1)/2), 1]\n",
    "    i = impArray[round((len(impArray)-1)/2), 2]\n",
    "    return r + 1j*i"
   ]
  },
  {
   "cell_type": "code",
   "execution_count": null,
   "metadata": {},
   "outputs": [],
   "source": [
    "def getS21AllAt45():\n",
    "    \"\"\"\n",
    "    For use with VNA State 7\n",
    "    \"\"\"\n",
    "    inst.write('MMEM:STOR:FDAT \"d:/dummy.csv\"')\n",
    "    result = inst.query('MMEM:TRAN? \"d:/dummy.csv\"')\n",
    "    impArray = pd.read_csv(StringIO(result), skiprows = 2).to_numpy()\n",
    "    rvs = impArray[:,1]\n",
    "    ivs = impArray[:,2]\n",
    "    zvs = rvs + 1j*ivs\n",
    "    zAve = np.mean(zvs)\n",
    "    zSTD = np.std(zvs)\n",
    "    return (zAve, zSTD)"
   ]
  },
  {
   "cell_type": "code",
   "execution_count": null,
   "metadata": {},
   "outputs": [],
   "source": [
    "def getS21freq():\n",
    "    inst.write('MMEM:STOR:FDAT \"d:/dummy.csv\"')\n",
    "    result = inst.query('MMEM:TRAN? \"d:/dummy.csv\"')\n",
    "    impArray = pd.read_csv(StringIO(result), skiprows = 2).to_numpy()\n",
    "    r = impArray[range(len(impArray)), 1]\n",
    "    i = impArray[range(len(impArray)), 2]\n",
    "    return r + 1j*i"
   ]
  },
  {
   "cell_type": "code",
   "execution_count": null,
   "metadata": {},
   "outputs": [],
   "source": [
    "def closeVNA():\n",
    "    inst.close()"
   ]
  },
  {
   "cell_type": "markdown",
   "metadata": {},
   "source": [
    "# Application"
   ]
  },
  {
   "cell_type": "markdown",
   "metadata": {},
   "source": [
    "## Setup"
   ]
  },
  {
   "cell_type": "code",
   "execution_count": null,
   "metadata": {},
   "outputs": [],
   "source": [
    "try:\n",
    "    inputSwitch.close()\n",
    "except:\n",
    "    pass"
   ]
  },
  {
   "cell_type": "code",
   "execution_count": null,
   "metadata": {},
   "outputs": [],
   "source": [
    "try:\n",
    "    outputSwitch.close()\n",
    "except:\n",
    "    pass"
   ]
  },
  {
   "cell_type": "code",
   "execution_count": null,
   "metadata": {},
   "outputs": [],
   "source": [
    "try:\n",
    "    MCU.close()\n",
    "except:\n",
    "    pass"
   ]
  },
  {
   "cell_type": "code",
   "execution_count": null,
   "metadata": {},
   "outputs": [],
   "source": [
    "setupInputSwitch()"
   ]
  },
  {
   "cell_type": "code",
   "execution_count": null,
   "metadata": {},
   "outputs": [],
   "source": [
    "setupOutputSwitch()"
   ]
  },
  {
   "cell_type": "code",
   "execution_count": null,
   "metadata": {},
   "outputs": [],
   "source": [
    "setupMCU()"
   ]
  },
  {
   "cell_type": "code",
   "execution_count": null,
   "metadata": {},
   "outputs": [],
   "source": [
    "setupVNA()"
   ]
  },
  {
   "cell_type": "code",
   "execution_count": null,
   "metadata": {},
   "outputs": [],
   "source": [
    "setInputSwitch(2)\n",
    "setOutputSwitch(2)"
   ]
  },
  {
   "cell_type": "code",
   "execution_count": null,
   "metadata": {},
   "outputs": [],
   "source": [
    "setMCU(4,837,489)"
   ]
  },
  {
   "cell_type": "code",
   "execution_count": null,
   "metadata": {},
   "outputs": [],
   "source": [
    "getS21AllAt45()"
   ]
  },
  {
   "cell_type": "code",
   "execution_count": null,
   "metadata": {},
   "outputs": [],
   "source": [
    "t22,tstd=getS21AllAt45()"
   ]
  },
  {
   "cell_type": "code",
   "execution_count": null,
   "metadata": {},
   "outputs": [],
   "source": [
    "r=np.array( [[1,-1j] , [1j,-1]] , dtype='complex')\n",
    "t=np.array( [[t11,t12] , [t21,t22]], dtype='complex')"
   ]
  },
  {
   "cell_type": "code",
   "execution_count": null,
   "metadata": {},
   "outputs": [],
   "source": [
    "import matplotlib.pyplot as plt\n",
    "fig = plt.figure()\n",
    "ax = fig.add_subplot(111, projection='polar')\n",
    "ax.margins(0.05) # Optional, just adds 5% padding to the autoscaling\n",
    "s1=ax.scatter(np.angle(r),np.abs(r),s=100,label='exact@45MHz')\n",
    "s2=ax.scatter(np.angle(t),np.abs(t),s=200,marker='x',label='meas@45MHz')\n",
    "plt.ylim([0,1.5])\n",
    "ax.legend()\n",
    "fig.savefig('AWR_Multiplier/2by2.png',dpi=600)"
   ]
  },
  {
   "cell_type": "code",
   "execution_count": null,
   "metadata": {},
   "outputs": [],
   "source": [
    "AWRcase3=np.loadtxt('AWR_Multiplier/case3_N.txt')\n",
    "case3_z=AWRcase3[:,1]+1j*AWRcase3[:,2]\n",
    "AWRcase2=np.loadtxt('AWR_Multiplier/case2_N.txt')\n",
    "case2_z=AWRcase2[:,1]+1j*AWRcase2[:,2]\n",
    "AWRcase1=np.loadtxt('AWR_Multiplier/case1_N.txt')\n",
    "case1_z=AWRcase1[:,1]+1j*AWRcase1[:,2]"
   ]
  },
  {
   "cell_type": "code",
   "execution_count": null,
   "metadata": {},
   "outputs": [],
   "source": [
    "\n",
    "import matplotlib.pyplot as plt\n",
    "fig = plt.figure()\n",
    "ax = fig.add_subplot(111, projection='polar')\n",
    "ax.margins(0.05) # Optional, just adds 5% padding to the autoscaling\n",
    "s1=ax.scatter(np.angle(case3_z[800]),np.abs(case3_z[800]),s=100,label='sim@45MHz')\n",
    "s2=ax.scatter(np.angle(s213[800]),np.abs(s213[800]),s=100,marker='o',label='meas@45MHz')\n",
    "c1=ax.plot(np.angle(case3_z),np.abs(case3_z),label='simulation')\n",
    "c2=ax.plot(np.angle(s213),np.abs(s213),label='measurement',alpha=0.75)\n",
    "ax.legend()\n",
    "#ax.legend((s1, s2, c1, c2), ('label1', 'label2', 'label3','test'))\n",
    "plt.ylim([0,9])\n",
    "plt.show()\n",
    "fig.savefig('AWR_Multiplier/case3.png',dpi=600)"
   ]
  },
  {
   "cell_type": "code",
   "execution_count": null,
   "metadata": {},
   "outputs": [],
   "source": [
    "import matplotlib.pyplot as plt\n",
    "fig = plt.figure()\n",
    "ax = fig.add_subplot(111, projection='polar')\n",
    "ax.margins(0.05) # Optional, just adds 5% padding to the autoscaling\n",
    "s1=ax.scatter(np.angle(case2_z[800]),np.abs(case2_z[800]),s=100,label='sim@45MHz')\n",
    "s2=ax.scatter(np.angle(s212[800]),np.abs(s212[800]),s=100,marker='o',label='meas@45MHz')\n",
    "c1=ax.plot(np.angle(case2_z),np.abs(case2_z),label='simulation')\n",
    "c2=ax.plot(np.angle(s212),np.abs(s212),label='measurement',alpha=0.75)\n",
    "ax.legend()\n",
    "plt.ylim([0,1])\n",
    "plt.show()\n",
    "fig.savefig('AWR_Multiplier/case2.png',dpi=600)"
   ]
  },
  {
   "cell_type": "code",
   "execution_count": null,
   "metadata": {},
   "outputs": [],
   "source": [
    "import matplotlib.pyplot as plt\n",
    "fig = plt.figure()\n",
    "ax = fig.add_subplot(111, projection='polar')\n",
    "ax.margins(0.05) # Optional, just adds 5% padding to the autoscaling\n",
    "s1=ax.scatter(np.angle(case1_z[800]),np.abs(case1_z[800]),s=100,label='sim@45MHz')\n",
    "s2=ax.scatter(np.angle(s211[800]),np.abs(s211[800]),s=100,marker='o',label='meas@45MHz')\n",
    "c1=ax.plot(np.angle(case1_z),np.abs(case1_z),label='simulation')\n",
    "c2=ax.plot(np.angle(s211),np.abs(s211),label='measurement',alpha=0.75)\n",
    "ax.legend()\n",
    "#ax.legend((s1, s2, c1, c2), ('label1', 'label2', 'label3','test'))\n",
    "plt.ylim([0,.1])\n",
    "plt.show()\n",
    "fig.savefig('AWR_Multiplier/case1.png',dpi=600)"
   ]
  },
  {
   "cell_type": "markdown",
   "metadata": {},
   "source": [
    "## Functions for characterization, interpolate, and save the data files"
   ]
  },
  {
   "cell_type": "code",
   "execution_count": null,
   "metadata": {},
   "outputs": [],
   "source": [
    "def CharacterizeMCU(i,s1,s2,Nv,Nps):\n",
    "    \"\"\"\n",
    "    Function that characterizes the Multipliers.\n",
    "    i= number fo MCU\n",
    "    s1,s2 numbers of switch ports that are used\n",
    "    Nv: values of voltages for the VGA.     \n",
    "    Nps: voltage value for the phase shifter\n",
    "    For best results try powers of 2\n",
    "    \"\"\" \n",
    "    setInputSwitch(s1, False)\n",
    "    setOutputSwitch(s2, False)\n",
    "    NVGA=np.arange(start=0,stop=1023,step=1024/Nv, dtype='int')\n",
    "    NP=np.arange(start=0,stop=1023,step=1024/Nps, dtype='int')\n",
    "    sNVG=np.size(NVGA,0)\n",
    "    sNPS=np.size(NP,0)\n",
    "    TMat = np.zeros((sNVG,sNPS), dtype=np.complex)\n",
    "    TMatSTD = np.zeros((sNVG,sNPS), dtype=np.complex)\n",
    "    flag=0\n",
    "    for ii in np.arange(sNVG):\n",
    "        for ji in np.arange(sNPS):\n",
    "            setMCU(i,NVGA[ii],NP[ji])\n",
    "            time.sleep(1)\n",
    "            (TMat[ii,ji], TMatSTD[ii,ji]) = getS21AllAt45()\n",
    "            flag=flag+1\n",
    "            print(\"\\r{0}\".format((float(flag)/sNVG**2)*100), end='\\r', flush=True)\n",
    "    print(\"DONE!\")\n",
    "    setMCU(i,1,1)\n",
    "    Nv,Np=np.meshgrid(NVGA,NP)\n",
    "    return(TMat,TMatSTD,Nv)"
   ]
  },
  {
   "cell_type": "code",
   "execution_count": null,
   "metadata": {},
   "outputs": [],
   "source": [
    "def setmesh():\n",
    "    xnew = np.arange(start=0, stop=1023, step=1)\n",
    "    ynew = np.arange(start=0, stop=1023, step=1)\n",
    "    xxN,yyN=np.meshgrid(xnew,ynew)\n",
    "    return(xnew,ynew,xxN,yyN)"
   ]
  },
  {
   "cell_type": "code",
   "execution_count": null,
   "metadata": {},
   "outputs": [],
   "source": [
    "def intDATA(Tinput):\n",
    "    \"\"\"\n",
    "    Tinput: the required input data to be interpolated\n",
    "    returns the interpolated data and the point new mesh\n",
    "    \"\"\"\n",
    "    from scipy import interpolate\n",
    "    zR=np.real(Tinput)\n",
    "    zI=np.imag(Tinput)\n",
    "    st=int(1024/np.sqrt(np.size(Tinput)))\n",
    "    x=np.arange(start=0,stop=1023,step=st)\n",
    "    y=np.arange(start=0,stop=1023,step=st)\n",
    "    fR = interpolate.interp2d(x, y, zR, kind='cubic')\n",
    "    fI = interpolate.interp2d(x, y, zI, kind='cubic')    \n",
    "    (xnew,ynew,xxN,yyN)=setmesh()\n",
    "    znew = fR(xnew, ynew)+1j*fI(xnew, ynew)\n",
    "    return(znew,xxN)"
   ]
  },
  {
   "cell_type": "code",
   "execution_count": null,
   "metadata": {},
   "outputs": [],
   "source": [
    "def saveTXT(i,TMat,TMatSTD,Nv):\n",
    "    \"\"\"\n",
    "    save retrieved date to .txt file\n",
    "    TMat : complex s-param\n",
    "    TMat : STD\n",
    "    Nv: points grid (max 1024x1024)\n",
    "    \"\"\"\n",
    "    size1=np.size(Nv,0)\n",
    "    size2=np.size(Nv,1)\n",
    "    np.savetxt('data/LMC6492_'+str(size1)+'by'+str(size2)+'_'+str(i)+'.txt', TMat)\n",
    "    np.savetxt('data/LMC6492_'+str(size1)+'by'+str(size2)+'_'+str(i)+'STD.txt', TMatSTD)\n",
    "    np.savetxt('data/LMC6492_'+str(size1)+'by'+str(size2)+'_'+str(i)+'Nv.txt', Nv)\n",
    "    tint,Nvint=intDATA(TMat)\n",
    "    tSTD,Nvint=intDATA(TMatSTD)\n",
    "    size1i=np.size(Nvint,0)+1\n",
    "    size2i=np.size(Nvint,1)+1\n",
    "    np.savetxt('data/'+str(i)+'_'+str(size1i)+'by'+str(size2i)+'.txt', tint)\n",
    "    np.savetxt('data/'+str(i)+'_'+str(size1i)+'by'+str(size2i)+'_STD.txt', tSTD)\n",
    "    np.savetxt('data/'+str(i)+'_'+str(size1i)+'by'+str(size2i)+'_Nv.txt', Nvint)"
   ]
  },
  {
   "cell_type": "code",
   "execution_count": null,
   "metadata": {},
   "outputs": [],
   "source": [
    "TMatT=np.loadtxt('LMC6492_64by64_5.txt', dtype='complex')\n",
    "TMatTSTD=np.loadtxt('LMC6492_64by64_5STD.txt', dtype='complex')\n",
    "TMATT,Nv1=intDATA(TMatT)\n",
    "TMATTSTD,Nv1=intDATA(TMatTSTD)\n",
    "saveTXT(5,TMATT,TMATTSTD,Nv1)"
   ]
  },
  {
   "cell_type": "markdown",
   "metadata": {},
   "source": [
    "## Testing the new multipliers"
   ]
  },
  {
   "cell_type": "code",
   "execution_count": null,
   "metadata": {},
   "outputs": [],
   "source": [
    "def testMult(i):\n",
    "    setInputSwitch(i,False)\n",
    "    setOutputSwitch(i,False)\n",
    "    table=np.zeros((9), dtype='complex')\n",
    "    flag1,flag2=np.meshgrid([0,512,1023],[0,512,1023])\n",
    "    f1=flag1.flatten()\n",
    "    f2=flag2.flatten()\n",
    "    for ii in np.arange(0,9):\n",
    "            setMCU(i,f1[ii],f2[ii])\n",
    "            table[ii],dumSTD=getS21AllAt45()\n",
    "            time.sleep(1)\n",
    "    return(table)"
   ]
  },
  {
   "cell_type": "code",
   "execution_count": null,
   "metadata": {},
   "outputs": [],
   "source": [
    "t1=testMult(1)\n",
    "t2=testMult(2)\n",
    "t3=testMult(3)\n",
    "t4=testMult(4)\n",
    "t5=testMult(5)\n",
    "test=np.array([t1,t2,t3,t4,t5])\n",
    "s=np.real(t1)*0\n",
    "Cluster=np.array([s+1,s+2,s+3,s+4,s+5], dtype='int')\n",
    "import matplotlib.pyplot as plt\n",
    "fig = plt.figure()\n",
    "ax = fig.add_subplot(111, projection='polar')\n",
    "ax.margins(0.05) # Optional, just adds 5% padding to the autoscaling\n",
    "c=ax.scatter(np.angle(test),np.abs(test),c=Cluster,alpha=1)\n",
    "plt.colorbar(c)\n",
    "plt.show()"
   ]
  },
  {
   "cell_type": "markdown",
   "metadata": {},
   "source": [
    "## Functions for setting and refining the MCU"
   ]
  },
  {
   "cell_type": "code",
   "execution_count": null,
   "metadata": {},
   "outputs": [],
   "source": [
    "def setComplex(i,TMat,z):\n",
    "    '''\n",
    "    Set a complex value on a given MCU\n",
    "    based on an argmin function\n",
    "    '''\n",
    "    phase=math.exp(0)\n",
    "    diff=abs(TMat-z)\n",
    "    idx=(abs(diff)).argmin()\n",
    "    (xnew,ynew,xxN,yyN)=setmesh()\n",
    "    setMCU(i,yyN.flat[idx],xxN.flat[idx])\n",
    "    time.sleep(1)\n",
    "    return(yyN.flat[idx],xxN.flat[idx])"
   ]
  },
  {
   "cell_type": "code",
   "execution_count": null,
   "metadata": {},
   "outputs": [],
   "source": [
    "def measure5(N,ide,names):\n",
    "    for i in np.arange(np.size(ide)):\n",
    "        setMCU(ide[i],0,0)\n",
    "        time.sleep(1)\n",
    "        (TMat, TMatSTD, Nv) = CharacterizeMCU(ide[i],ide[i],ide[i],N,N)\n",
    "        saveTXT(names[i],TMat,TMatSTD,Nv)\n",
    "        time.sleep(1)"
   ]
  },
  {
   "cell_type": "code",
   "execution_count": null,
   "metadata": {},
   "outputs": [],
   "source": [
    "blinkAll(5)"
   ]
  },
  {
   "cell_type": "code",
   "execution_count": null,
   "metadata": {},
   "outputs": [],
   "source": [
    "measure5(128,[3,4,5],[23,24,25])"
   ]
  },
  {
   "cell_type": "code",
   "execution_count": null,
   "metadata": {},
   "outputs": [],
   "source": [
    "print()"
   ]
  },
  {
   "cell_type": "code",
   "execution_count": null,
   "metadata": {},
   "outputs": [],
   "source": [
    "def dataAV(data):\n",
    "    '''\n",
    "    Statistics averaging function for the golden sample\n",
    "    '''\n",
    "    zAV=np.mean(data, axis=0)\n",
    "    zSTD=np.std(data, axis=0)\n",
    "    return(zAV,zSTD)"
   ]
  },
  {
   "cell_type": "code",
   "execution_count": null,
   "metadata": {},
   "outputs": [],
   "source": [
    "def take4(i,Nv,Np,M,N,tD):\n",
    "    setMCU(i,Nv-M,Np-N)\n",
    "    time.sleep(tD)\n",
    "    z1,z1STD=getS21AllAt45()\n",
    "    setMCU(i,Nv+M,Np-N)\n",
    "    time.sleep(tD)\n",
    "    z2,z2STD=getS21AllAt45()\n",
    "    setMCU(i,Nv-M,Np+N)\n",
    "    time.sleep(tD)\n",
    "    z3,z3STD=getS21AllAt45()\n",
    "    setMCU(i,Nv+M,Np+N)\n",
    "    time.sleep(tD)\n",
    "    z4,z3STD=getS21AllAt45()\n",
    "    x=np.array([-M,M])\n",
    "    y=np.array([-N,N])\n",
    "    z=np.array([[z1,z2],[z3,z4]])\n",
    "    return(x,y,z)"
   ]
  },
  {
   "cell_type": "code",
   "execution_count": null,
   "metadata": {},
   "outputs": [],
   "source": [
    "def setMCURefine(i,TMat,TMatSTD,zC,tD):\n",
    "    Nv,Np = setComplex(i,TMat,zC)\n",
    "    M=int(np.round(TMatSTD[Nv,Np]*20,0))\n",
    "    N=int(np.round(TMatSTD[Nv,Np]*20,0))\n",
    "    print(M,N)\n",
    "    x,y,z=take4(i,Nv,Np,M,N,tD)\n",
    "    from scipy import interpolate\n",
    "    zR=np.real(z)\n",
    "    zI=np.imag(z)\n",
    "    xnew=np.arange(-M,M+1)\n",
    "    ynew=np.arange(-N,N+1)\n",
    "    fR = interpolate.interp2d(x, y, zR, kind='linear')\n",
    "    fI = interpolate.interp2d(x, y, zI, kind='linear')    \n",
    "    znew = fR(xnew, ynew)+1j*fI(xnew, ynew)\n",
    "    d=abs(zC-znew)\n",
    "    idx=d.argmin()\n",
    "    xx,yy=np.meshgrid(xnew,ynew)\n",
    "    print(Nv,Np)\n",
    "    Nvnew=Nv+xx.flat[idx]\n",
    "    Npnew=Np+yy.flat[idx]\n",
    "    setMCU(i,Nvnew,Npnew)\n",
    "    time.sleep(1)\n",
    "    return(Nvnew,Npnew)"
   ]
  },
  {
   "cell_type": "markdown",
   "metadata": {},
   "source": [
    "## Testing of the above functions"
   ]
  },
  {
   "cell_type": "code",
   "execution_count": null,
   "metadata": {},
   "outputs": [],
   "source": [
    "TMat16=np.loadtxt('data/16_1024by1024.txt', dtype='complex')\n",
    "TMat17=np.loadtxt('data/17_1024by1024.txt', dtype='complex')\n",
    "TMat18=np.loadtxt('data/18_1024by1024.txt', dtype='complex')\n",
    "TMat19=np.loadtxt('data/19_1024by1024.txt', dtype='complex')\n",
    "TMat20=np.loadtxt('data/20_1024by1024.txt', dtype='complex')"
   ]
  },
  {
   "cell_type": "code",
   "execution_count": null,
   "metadata": {},
   "outputs": [],
   "source": [
    "TMatAV,TMatAVSTD=dataAV([TMat11,TMat12,TMat13,TMat14,TMat15])\n"
   ]
  },
  {
   "cell_type": "code",
   "execution_count": null,
   "metadata": {},
   "outputs": [],
   "source": [
    "setInputSwitch(2,False)\n",
    "setOutputSwitch(2,False)"
   ]
  },
  {
   "cell_type": "code",
   "execution_count": null,
   "metadata": {},
   "outputs": [],
   "source": [
    "z=2.82j\n",
    "Nv,Np=setComplex(2,TMat17,z)\n",
    "time.sleep(2)\n",
    "zM,zMSTD=getS21AllAt45()\n",
    "print(Nv,Np,abs(z-zM)/abs(z)*100)\n",
    "zM"
   ]
  },
  {
   "cell_type": "code",
   "execution_count": null,
   "metadata": {},
   "outputs": [],
   "source": [
    "setMCURefine(2,TMat17,TMatAVSTD,z,1)\n",
    "zR,ZRSTD=getS21AllAt45()\n",
    "print(abs(z-zR)/abs(z)*100)\n",
    "zR"
   ]
  },
  {
   "cell_type": "markdown",
   "metadata": {},
   "source": [
    "# Playground and Measurements"
   ]
  },
  {
   "cell_type": "code",
   "execution_count": null,
   "metadata": {},
   "outputs": [],
   "source": [
    "vga = 0.99+0.9/5*5**(0/5)*0\n",
    "ps = 0.3\n",
    "print(\"MCU Board \", ps/1023*5)\n",
    "print(\"Mult Board\", ps/946*13.53)\n",
    "print(vga)\n",
    "setMCU(4, 500, 100)"
   ]
  },
  {
   "cell_type": "code",
   "execution_count": null,
   "metadata": {},
   "outputs": [],
   "source": [
    "a,b=getS21AllAt45()\n",
    "print(abs(a))"
   ]
  },
  {
   "cell_type": "code",
   "execution_count": null,
   "metadata": {},
   "outputs": [],
   "source": [
    "port=5\n",
    "setInputSwitch(port)\n",
    "setOutputSwitch(port)"
   ]
  },
  {
   "cell_type": "code",
   "execution_count": null,
   "metadata": {},
   "outputs": [],
   "source": [
    "setMCU(4,0,0)"
   ]
  },
  {
   "cell_type": "markdown",
   "metadata": {},
   "source": [
    "## Experiment"
   ]
  },
  {
   "cell_type": "code",
   "execution_count": null,
   "metadata": {},
   "outputs": [],
   "source": [
    "te=np.arange(start=0,stop=1023,step=16)\n",
    "pe=np.arange(start=0,stop=1023,step=16)\n",
    "te1,te2=np.meshgrid(te,pe)\n",
    "np.size(te1,0)\n",
    "1024/1"
   ]
  },
  {
   "cell_type": "code",
   "execution_count": null,
   "metadata": {},
   "outputs": [],
   "source": [
    "zSwitch1=np.array([[0,0],[0,0]], dtype=\"complex\")\n",
    "zSwitch1STD=np.array([[0,0],[0,0]], dtype=\"float\")\n",
    "zSwitch2=np.array([[0,0],[0,0]], dtype=\"complex\")\n",
    "zSwitch2STD=np.array([[0,0],[0,0]], dtype=\"float\")\n",
    "\n",
    "for i in [1,2]:\n",
    "    for j in [1,2]:\n",
    "        setInputSwitch(i,False)\n",
    "        setOutputSwitch(j,False)\n",
    "        time.sleep(2)\n",
    "        zSwitch1[i-1,j-1],zSwitch1STD[i-1,j-1]=getS21AllAt45()\n",
    "for i in [4,5]:\n",
    "    for j in [4,5]:\n",
    "        setInputSwitch(i,False)\n",
    "        setOutputSwitch(j,False)\n",
    "        time.sleep(2)\n",
    "        zSwitch2[i-4,j-4],zSwitch2STD[i-4,j-4]=getS21AllAt45()\n",
    "print(zSwitch1,zSwitch2)"
   ]
  },
  {
   "cell_type": "code",
   "execution_count": null,
   "metadata": {},
   "outputs": [],
   "source": [
    "np.savetxt('3dB_couplers2.txt',np.array(zSwitch2))"
   ]
  },
  {
   "cell_type": "code",
   "execution_count": null,
   "metadata": {},
   "outputs": [],
   "source": [
    "print(abs(zSwitch1)/(0.992*0.992),np.angle(zSwitch1)*180/math.pi+22)"
   ]
  },
  {
   "cell_type": "code",
   "execution_count": null,
   "metadata": {},
   "outputs": [],
   "source": [
    "test=np.loadtxt('zSwitch.txt', dtype=\"complex\")"
   ]
  },
  {
   "cell_type": "code",
   "execution_count": null,
   "metadata": {},
   "outputs": [],
   "source": [
    "print(abs(test[0,0])/abs(zSwitch[0]),np.angle(test[0,0])*180/math.pi-np.angle(zSwitch[0])*180/math.pi)"
   ]
  },
  {
   "cell_type": "code",
   "execution_count": null,
   "metadata": {},
   "outputs": [],
   "source": [
    "D_abs=abs(zSwitch[:])/abs(test[0,:])\n",
    "D_angle=(np.angle(zSwitch[:])-np.angle(test[0,:]))*180/math.pi\n",
    "print(D_abs,D_angle)"
   ]
  },
  {
   "cell_type": "code",
   "execution_count": null,
   "metadata": {},
   "outputs": [],
   "source": [
    "setupInputSwitch()\n",
    "setupOutputSwitch()"
   ]
  },
  {
   "cell_type": "code",
   "execution_count": null,
   "metadata": {},
   "outputs": [],
   "source": [
    "saveTXT(5,TMATT,TMATTSTD,Nv1)"
   ]
  },
  {
   "cell_type": "code",
   "execution_count": null,
   "metadata": {},
   "outputs": [],
   "source": [
    "TMAT1=intDATA(TMat1)\n",
    "TMAT2=intDATA(TMat2)\n",
    "TMAT3=intDATA(TMat3)\n",
    "TMAT4=intDATA(TMat4)\n",
    "TMAT5=intDATA(TMat5)\n",
    "TMATAV=intDATA(TMatAV)"
   ]
  },
  {
   "cell_type": "code",
   "execution_count": null,
   "metadata": {},
   "outputs": [],
   "source": [
    "setInputSwitch(5, False)\n",
    "setOutputSwitch(5, False)"
   ]
  },
  {
   "cell_type": "code",
   "execution_count": null,
   "metadata": {},
   "outputs": [],
   "source": [
    "z=-0.5+1j\n",
    "per=int(np.round(5))\n",
    "print(setComplex(5,TMATAV,z),per)\n",
    "z1,z1std=getS21AllAt45()\n",
    "print(setRefine3(5,TMATAV,z,per))\n",
    "z2,z2std=getS21AllAt45()\n",
    "print(abs(z-z1),abs(z-z2),z1,z2)"
   ]
  },
  {
   "cell_type": "code",
   "execution_count": null,
   "metadata": {},
   "outputs": [],
   "source": [
    "print(setRefine3(1,TMATAV,-4-2j,3))\n",
    "print(getS21AllAt45())"
   ]
  },
  {
   "cell_type": "code",
   "execution_count": null,
   "metadata": {},
   "outputs": [],
   "source": [
    "setComplex(1,intDATA(TMatAV),1-0.5j)\n",
    "getS21AllAt45()"
   ]
  },
  {
   "cell_type": "code",
   "execution_count": null,
   "metadata": {},
   "outputs": [],
   "source": [
    "print(setComplex(1,TMATAV,4+1j))\n",
    "getS21AllAt45()"
   ]
  },
  {
   "cell_type": "code",
   "execution_count": null,
   "metadata": {},
   "outputs": [],
   "source": [
    "\n"
   ]
  },
  {
   "cell_type": "code",
   "execution_count": null,
   "metadata": {},
   "outputs": [],
   "source": [
    "setMCU(1,0,0,True)"
   ]
  },
  {
   "cell_type": "code",
   "execution_count": null,
   "metadata": {},
   "outputs": [],
   "source": [
    "print(setMCU(1,100,100,True))"
   ]
  },
  {
   "cell_type": "code",
   "execution_count": null,
   "metadata": {},
   "outputs": [],
   "source": [
    "## Loading the saved data\n",
    "TMatT = np.loadtxt('50by50_complexTest.txt', dtype=complex)"
   ]
  },
  {
   "cell_type": "code",
   "execution_count": null,
   "metadata": {},
   "outputs": [],
   "source": [
    "(Tamp, Tphase)=matrix(TMatT)\n",
    "from scipy.interpolate import interp1d\n",
    "import matplotlib.pyplot as plt\n",
    "xnew = np.linspace(0, 360, num=41)\n",
    "fig = plt.figure()\n",
    "ax = fig.add_subplot(111)\n",
    "ax.margins(0.05) # Optional, just adds 5% padding to the autoscaling\n",
    "for i in [47,48,49]:\n",
    "    xnew = np.linspace(min(Tphase[i,:]), max(Tphase[i,:]), num=101,endpoint=True)\n",
    "    f = interp1d(Tphase[i,:],Tamp[i,:])\n",
    "    c=ax.plot(Tphase[:,i],Tamp[:,i], 'o')\n",
    "ax.set_ylim(0,7)\n",
    "ax.set_xlim(0,360)\n",
    "ax.grid()\n",
    "ax.set_ylabel('Signal Voltage')\n",
    "ax.set_xlabel('Signal Phase')\n",
    "plt.show()\n",
    "fig.savefig('50x50.png')"
   ]
  },
  {
   "cell_type": "code",
   "execution_count": null,
   "metadata": {},
   "outputs": [],
   "source": [
    "ii=1\n",
    "x=Tphase[:,1]\n",
    "y=Tamp[:,1]\n"
   ]
  },
  {
   "cell_type": "code",
   "execution_count": null,
   "metadata": {},
   "outputs": [],
   "source": [
    "print(np.linspace(0.3,0.745,50))"
   ]
  },
  {
   "cell_type": "code",
   "execution_count": null,
   "metadata": {},
   "outputs": [],
   "source": [
    "from scipy.interpolate import interp1d\n",
    "import matplotlib.pyplot as plt\n",
    "fig = plt.figure()\n",
    "ax = fig.add_subplot(111)\n",
    "ax.margins(0.05) # Optional, just adds 5% padding to the autoscaling\n",
    "for i in np.arange(10):\n",
    "    xnew = np.linspace(min(np.abs(TMat[i,:])), max(np.abs(TMat[i,:])), num=101,endpoint=True)\n",
    "    f = interp1d(np.abs(TMat[i,:]),np.angle(TMat[i,:])*180/math.pi)\n",
    "    c=ax.plot(np.abs(TMat[i,:]),np.angle(TMat[i,:])*180/math.pi, 'o',xnew,f(xnew),'-')\n",
    "ax.set_ylim(-180,180)\n",
    "ax.set_xlim(0,6)\n",
    "ax.grid()\n",
    "ax.set_ylabel('Voltage')\n",
    "ax.set_xlabel('Phase')\n",
    "plt.show()"
   ]
  },
  {
   "cell_type": "code",
   "execution_count": null,
   "metadata": {},
   "outputs": [],
   "source": [
    "def MeasureTMatrix(n):\n",
    "    ports = np.arange(n)+1\n",
    "    TMat = np.zeros((n,n,2), dtype=np.complex)\n",
    "    for iIn in ports:\n",
    "        for iOut in ports:\n",
    "            setInputSwitch(iIn, False)\n",
    "            setOutputSwitch(iOut, False)\n",
    "            time.sleep(2)\n",
    "            (zt, ztSTD)=getS21AllAt45()\n",
    "            print(round(abs(zt),3), ztSTD)\n",
    "            TMat[iOut-1, iIn-1] = (zt, ztSTD)\n",
    "    print(\"DONE!\")\n",
    "    return(TMat)"
   ]
  },
  {
   "cell_type": "code",
   "execution_count": null,
   "metadata": {},
   "outputs": [],
   "source": [
    "def SetTMatrix(zIn):\n",
    "    flag=0\n",
    "    Vin=0.5\n",
    "    Pin=0.25\n",
    "    setMCU(1,Vin,Pin)\n",
    "    setInputSwitch(1, False)\n",
    "    setOutputSwitch(1, False)\n",
    "    (zt, ztSTD)=getS21AllAt45()\n",
    "    c1=(abs(zt)-abs(zIn))/abs(zIn)\n",
    "    a1=np.angle(zt)-np.angle(zIn)\n",
    "    for i in np.arange(10):\n",
    "        if c1>0 and c1>0.01:\n",
    "            flag+=1\n",
    "            Vin=Vin-1/1000;\n",
    "            setMCU(1,Vin,Pin)\n",
    "        elif c1<0 and c1<-0.01:\n",
    "            flag+=1\n",
    "            Vin=Vin+1/1000;\n",
    "            setMCU(1,Vin,Pin)\n",
    "        time.sleep(0.5)\n",
    "        (zt, ztSTD)=getS21AllAt45()\n",
    "        c1=(abs(zt)-abs(zIn))/abs(zIn)\n",
    "        a1=np.angle(zt)-np.angle(zIn)\n",
    "    print(c1,a1,flag,Vin,Pin)"
   ]
  },
  {
   "cell_type": "code",
   "execution_count": null,
   "metadata": {},
   "outputs": [],
   "source": [
    "SetTMatrix(0.5)"
   ]
  },
  {
   "cell_type": "code",
   "execution_count": null,
   "metadata": {},
   "outputs": [],
   "source": [
    "test=np.arange(10)\n",
    "print(test[1])"
   ]
  },
  {
   "cell_type": "code",
   "execution_count": null,
   "metadata": {},
   "outputs": [],
   "source": [
    "TMatMeas = MeasureTMatrix(2)"
   ]
  },
  {
   "cell_type": "code",
   "execution_count": null,
   "metadata": {},
   "outputs": [],
   "source": [
    "setInputSwitch(1, False)\n",
    "setOutputSwitch(1, False)"
   ]
  },
  {
   "cell_type": "code",
   "execution_count": null,
   "metadata": {},
   "outputs": [],
   "source": [
    "print(TMatMeas)"
   ]
  },
  {
   "cell_type": "code",
   "execution_count": null,
   "metadata": {},
   "outputs": [],
   "source": [
    "print(getS21AllAt45())"
   ]
  },
  {
   "cell_type": "code",
   "execution_count": null,
   "metadata": {},
   "outputs": [],
   "source": [
    "flag=0\n",
    "for iIn in [1,2]:\n",
    "    for iOut in [1,2]:\n",
    "        setInputSwitch(iIn,False)\n",
    "        setOutputSwitch(iOut,False)\n",
    "        time.sleep(5)\n",
    "        flag +=1\n",
    "        for AV in np.arange(20): \n",
    "            dataAV[flag-1, AV] = getS21at45()\n",
    "        t=getS21at45()    \n",
    "        print(t)\n",
    "        dataT[iOut-1, iIn-1] = t\n",
    "print(\"DONE!\")"
   ]
  },
  {
   "cell_type": "code",
   "execution_count": null,
   "metadata": {},
   "outputs": [],
   "source": [
    "print(np.round(abs(dataAV),3))\n",
    "\n",
    "print(np.round(np.angle(dataT)*180/3.14,3))"
   ]
  },
  {
   "cell_type": "code",
   "execution_count": null,
   "metadata": {},
   "outputs": [],
   "source": [
    "print(dataAV[0,:].imag)"
   ]
  },
  {
   "cell_type": "code",
   "execution_count": null,
   "metadata": {},
   "outputs": [],
   "source": [
    "import matplotlib.pyplot as plt\n",
    "ra=np.arange(40,50,10/1600)\n",
    "fig = plt.figure()\n",
    "ax = fig.add_subplot(111, projection='polar')\n",
    "ax.margins(0.05) # Optional, just adds 5% padding to the autoscaling\n",
    "for i in [1,2,3,4]:\n",
    "        c=ax.scatter(np.angle(dataAV[i-1,:]),np.abs(dataAV[i-1,:]), label=i)\n",
    "ax.set_ylim(0,2)\n",
    "ax.legend()\n",
    "plt.show()"
   ]
  },
  {
   "cell_type": "code",
   "execution_count": null,
   "metadata": {},
   "outputs": [],
   "source": [
    "rr=np.arange(40,50,10/1601)\n",
    "print(rr)\n",
    "len(rr)"
   ]
  },
  {
   "cell_type": "code",
   "execution_count": null,
   "metadata": {},
   "outputs": [],
   "source": [
    "1/200"
   ]
  },
  {
   "cell_type": "markdown",
   "metadata": {},
   "source": [
    "## Close"
   ]
  },
  {
   "cell_type": "code",
   "execution_count": null,
   "metadata": {},
   "outputs": [],
   "source": [
    "closeInputSwitch()\n",
    "closeOutputSwitch()\n",
    "closeVNA()"
   ]
  },
  {
   "cell_type": "code",
   "execution_count": null,
   "metadata": {},
   "outputs": [],
   "source": []
  }
 ],
 "metadata": {
  "kernelspec": {
   "display_name": "Python 3",
   "language": "python",
   "name": "python3"
  },
  "language_info": {
   "codemirror_mode": {
    "name": "ipython",
    "version": 3
   },
   "file_extension": ".py",
   "mimetype": "text/x-python",
   "name": "python",
   "nbconvert_exporter": "python",
   "pygments_lexer": "ipython3",
   "version": "3.8.5"
  }
 },
 "nbformat": 4,
 "nbformat_minor": 4
}
