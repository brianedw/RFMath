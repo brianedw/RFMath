{
 "cells": [
  {
   "cell_type": "markdown",
   "metadata": {},
   "source": [
    "# Four Point Inverse Interpolation"
   ]
  },
  {
   "cell_type": "code",
   "execution_count": null,
   "metadata": {},
   "outputs": [],
   "source": [
    "import numpy as np\n",
    "import sympy as sp\n",
    "from sympy.utilities.lambdify import lambdify\n",
    "from scipy.optimize import root"
   ]
  },
  {
   "cell_type": "code",
   "execution_count": null,
   "metadata": {
    "code_folding": []
   },
   "outputs": [],
   "source": [
    "def ReIm(z):\n",
    "    return (np.real(z), np.imag(z))"
   ]
  },
  {
   "cell_type": "code",
   "execution_count": null,
   "metadata": {},
   "outputs": [],
   "source": [
    "ReIm(np.array(0.4+0.2j))"
   ]
  },
  {
   "cell_type": "code",
   "execution_count": null,
   "metadata": {},
   "outputs": [],
   "source": [
    "ReIm(np.array([0.1+0.2j, 0.3+0.4j]))"
   ]
  },
  {
   "cell_type": "markdown",
   "metadata": {},
   "source": [
    "Suppose we have a function $f(u,v) \\rightarrow z$, which is expensive to evaluate.  We wish to find, $(u_t, v_t)$ such that $f(u_t, v_t) = z_t$.  We have evaluated this function to yield\n",
    "$$\n",
    "\\begin{pmatrix}\n",
    "z_{00} & z_{01}\\\\\n",
    "z_{10} & z_{11}\n",
    "\\end{pmatrix}\n",
    "$$\n",
    "which were obtained by examining points $(u,v)$:\n",
    "$$\n",
    "\\begin{pmatrix}\n",
    "(0, 0) & (0, 1)\\\\\n",
    "(1, 0) & (1, 1)\n",
    "\\end{pmatrix}\n",
    "$$\n",
    "It is assumed that $0 < u_t < 1$ and $0 < v_t < 1$."
   ]
  },
  {
   "cell_type": "markdown",
   "metadata": {},
   "source": [
    "There are many interpolation schemes which can be used on this data.  We will employ that which is commonly used in rectangular finite elements with a linear basis.  Supporting documentation can be found here (https://www.geophysik.uni-muenchen.de/~igel/Lectures/NMG/08_finite_elements_basisfunctions.pdf).  I will summarize below.  The basis functions are\n",
    "$$\n",
    "N_1(u,v) = (1-u)(1-v)\\\\\n",
    "N_2(u,v) = (1-u)\\ v\\\\\n",
    "N_3(u,v) = u\\ (1-v)\\\\\n",
    "N_4(u,v) = u\\ v\n",
    "$$\n",
    "Note that each of these functions is zero at three out of the four points $(u,v) = [ (0,0), (1,0), (0,1), (1,1)]$, while the remaining non-zero term value is one.  An interpolation scheme can be devised as\n",
    "    $$F(u,v) :=  z_{0,0}N_1 + z_{0,1}N_2 + z_{1,0}N_3 + z_{1,1}N_4$$\n",
    "where the value of $F$ will approach the measured value at of the three corners.  At the center at $(u,v) = (1/2, 1/2)$, the value of $F$ will be the average of the four measured points."
   ]
  },
  {
   "cell_type": "markdown",
   "metadata": {},
   "source": [
    "We will assume that $f(u,v) \\approx F(u,v)$ and find $(u,v)$ such that $F(u,v) = z_t$.  The stategy will be to separate the equation into its real and imaginary parts, and solve them together.  In other words, solve:\n",
    "$$\n",
    "\\mathrm{re}(F(u,v)-z_t) = 0\\\\\n",
    "\\mathrm{im}(F(u,v)-z_t) = 0\n",
    "$$"
   ]
  },
  {
   "cell_type": "code",
   "execution_count": null,
   "metadata": {},
   "outputs": [],
   "source": [
    "u, v, Z, R, I = sp.symbols('u, v, Z, R, I')\n",
    "z00, z01, z10, z11 = sp.symbols('z00, z01, z10, z11')\n",
    "r00, r01, r10, r11 = sp.symbols('r00, r01, r10, r11')\n",
    "i00, i01, i10, i11 = sp.symbols('i00, i01, i10, i11')"
   ]
  },
  {
   "cell_type": "code",
   "execution_count": null,
   "metadata": {},
   "outputs": [],
   "source": [
    "def N1(u,v):\n",
    "    return (1-u)*(1-v)\n",
    "def N2(u,v):\n",
    "    return (1-u)*(v)\n",
    "def N3(u,v):\n",
    "    return (u)*(1-v)\n",
    "def N4(u,v):\n",
    "    return (u)*(v)"
   ]
  },
  {
   "cell_type": "code",
   "execution_count": null,
   "metadata": {},
   "outputs": [],
   "source": [
    "eq1 = z00*N1(u,v) + z01*N2(u,v) + z10*N3(u,v) + z11*N4(u,v) - Z"
   ]
  },
  {
   "cell_type": "code",
   "execution_count": null,
   "metadata": {},
   "outputs": [],
   "source": [
    "eq1r = r00*N1(u,v) + r01*N2(u,v) + r10*N3(u,v) + r11*N4(u,v) - R\n",
    "eq1i = i00*N1(u,v) + i01*N2(u,v) + i10*N3(u,v) + i11*N4(u,v) - I"
   ]
  },
  {
   "cell_type": "code",
   "execution_count": null,
   "metadata": {},
   "outputs": [],
   "source": [
    "solns = sp.solve([eq1r, eq1i], [u, v], dict=True)"
   ]
  },
  {
   "cell_type": "code",
   "execution_count": null,
   "metadata": {},
   "outputs": [],
   "source": [
    "len(solns)"
   ]
  },
  {
   "cell_type": "code",
   "execution_count": null,
   "metadata": {},
   "outputs": [],
   "source": [
    "sol1, sol2 = solns"
   ]
  },
  {
   "cell_type": "markdown",
   "metadata": {},
   "source": [
    "The resulting equation provides two solutions, both containing roots to possibly generate complex numbers.  This makes sense.  Suppose that we were looking for $z_t = 1/2 + i/2$ with the following sampled points: $[(0, 1, i, 0)]$.  There would be a \"circle\" surrounding the second point where $\\mathrm{re}(F(u,v)) = 1/2$ and there would be a circle surrounding the third point such that $\\mathrm{im}(F(u,v)) = 1/2$.  These two circles will either intersect at two locations are not at all.  In the case that they don't intersect, we will likely find that $(u, v)$ are complex."
   ]
  },
  {
   "cell_type": "markdown",
   "metadata": {},
   "source": [
    "Below we can see that just one of these four expressions is complicated and that there are divide by zero conditions that could occur."
   ]
  },
  {
   "cell_type": "markdown",
   "metadata": {},
   "source": [
    "Using SymPy's lmabdify, we can turn these expressions into functions."
   ]
  },
  {
   "cell_type": "code",
   "execution_count": null,
   "metadata": {},
   "outputs": [],
   "source": [
    "invFSol1 = lambdify([[[r00, r01, r10, r11], [i00, i01, i10, i11]], [R, I]], [sol1[u],sol1[v]])\n",
    "invFSol2 = lambdify([[[r00, r01, r10, r11], [i00, i01, i10, i11]], [R, I]], [sol2[u],sol2[v]])"
   ]
  },
  {
   "cell_type": "code",
   "execution_count": null,
   "metadata": {},
   "outputs": [],
   "source": [
    "zPoints = [0, 1.1, -.1+1.3j, 1+1j]\n",
    "zTarg = 0.51+0.51j"
   ]
  },
  {
   "cell_type": "code",
   "execution_count": null,
   "metadata": {},
   "outputs": [],
   "source": [
    "invFSol1(ReIm(zPoints), ReIm(zTarg))"
   ]
  },
  {
   "cell_type": "code",
   "execution_count": null,
   "metadata": {},
   "outputs": [],
   "source": [
    "invFSol2(ReIm(zPoints), ReIm(zTarg))"
   ]
  },
  {
   "cell_type": "markdown",
   "metadata": {},
   "source": [
    "Given that we have two solutions, it follows that we must choose one or none of them to return.  This is done with the function below."
   ]
  },
  {
   "cell_type": "code",
   "execution_count": null,
   "metadata": {},
   "outputs": [],
   "source": [
    "def GetInterSolnAnal(zs, ZTarg):\n",
    "    (u1, v1) = invFSol1(ReIm(zPoints), ReIm(zTarg))\n",
    "    (u2, v2) = invFSol2(ReIm(zPoints), ReIm(zTarg))\n",
    "    good1 = good2 = True\n",
    "    if abs(np.imag(u1)) + abs(np.imag(v1)) > 0:\n",
    "        good1 = False\n",
    "    if abs(np.imag(u2)) + abs(np.imag(v2)) > 0:\n",
    "        good2 = False\n",
    "    if not (0 <= u1 <= 1 and 0 <= v1 <= 1):\n",
    "        good1 = False\n",
    "    if not (0 <= u2 <= 1 and 0 <= v2 <= 1):\n",
    "        good2 = False\n",
    "    if good1:\n",
    "        return (u1, v1)\n",
    "    elif good2:\n",
    "        return (u2, v2)\n",
    "    else:\n",
    "        raise Exception('No good solution found')"
   ]
  },
  {
   "cell_type": "code",
   "execution_count": null,
   "metadata": {},
   "outputs": [],
   "source": [
    "GetInterSolnAnal(zPoints, zTarg)"
   ]
  },
  {
   "cell_type": "markdown",
   "metadata": {},
   "source": [
    "Given the expense of evaluating the analytical inverse of the function above, it begs the question whether this should all just be done numerically.  Below I do just that.\n",
    "\n",
    "SciPy requires that you provide provide a function which takes only the optimization parameters as input in vector format.  First we define a function which generates such a function"
   ]
  },
  {
   "cell_type": "code",
   "execution_count": null,
   "metadata": {},
   "outputs": [],
   "source": [
    "def GetRootFunc(zs, ZTarg):\n",
    "    z00, z01, z10, z11 = zs\n",
    "    def F(uv):\n",
    "        u, v = uv\n",
    "        r = np.real(z00*N1(u,v) + z01*N2(u,v) + z10*N3(u,v) + z11*N4(u,v) - ZTarg)\n",
    "        i = np.imag(z00*N1(u,v) + z01*N2(u,v) + z10*N3(u,v) + z11*N4(u,v) - ZTarg)\n",
    "        return (r,i)\n",
    "    return F"
   ]
  },
  {
   "cell_type": "code",
   "execution_count": null,
   "metadata": {},
   "outputs": [],
   "source": [
    "FRoot = GetRootFunc(zPoints, zTarg)"
   ]
  },
  {
   "cell_type": "markdown",
   "metadata": {},
   "source": [
    "Then we use `root` to search for the target value beginning at the center of the range."
   ]
  },
  {
   "cell_type": "code",
   "execution_count": null,
   "metadata": {},
   "outputs": [],
   "source": [
    "soln = root(FRoot, [0.5, 0.5])\n",
    "soln"
   ]
  },
  {
   "cell_type": "markdown",
   "metadata": {},
   "source": [
    "Similar to the analytical technique above, we must check that a solution was found at that it is in the range."
   ]
  },
  {
   "cell_type": "code",
   "execution_count": null,
   "metadata": {},
   "outputs": [],
   "source": [
    "def GetInterSolnNum(zs, ZTarg):\n",
    "    FRoot = GetRootFunc(zPoints, zTarg)\n",
    "    soln = root(FRoot, [0.5, 0.5])\n",
    "    good = True\n",
    "    if not soln['success']:\n",
    "        raise Exception('No good solution found')\n",
    "    (u, v) = soln['x']\n",
    "    if not (0 <= u <= 1 and 0 <= v <= 1):\n",
    "        raise Exception('No good solution found')\n",
    "    return (u, v)"
   ]
  },
  {
   "cell_type": "code",
   "execution_count": null,
   "metadata": {},
   "outputs": [],
   "source": [
    "GetInterSolnNum(zPoints, zTarg)"
   ]
  },
  {
   "cell_type": "code",
   "execution_count": null,
   "metadata": {},
   "outputs": [],
   "source": []
  }
 ],
 "metadata": {
  "kernelspec": {
   "display_name": "Python 3",
   "language": "python",
   "name": "python3"
  },
  "language_info": {
   "codemirror_mode": {
    "name": "ipython",
    "version": 3
   },
   "file_extension": ".py",
   "mimetype": "text/x-python",
   "name": "python",
   "nbconvert_exporter": "python",
   "pygments_lexer": "ipython3",
   "version": "3.7.4"
  },
  "latex_envs": {
   "LaTeX_envs_menu_present": true,
   "autoclose": false,
   "autocomplete": true,
   "bibliofile": "biblio.bib",
   "cite_by": "apalike",
   "current_citInitial": 1,
   "eqLabelWithNumbers": true,
   "eqNumInitial": 1,
   "hotkeys": {
    "equation": "Ctrl-E",
    "itemize": "Ctrl-I"
   },
   "labels_anchors": false,
   "latex_user_defs": false,
   "report_style_numbering": false,
   "user_envs_cfg": false
  }
 },
 "nbformat": 4,
 "nbformat_minor": 2
}
