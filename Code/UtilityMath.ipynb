{
 "cells": [
  {
   "cell_type": "code",
   "execution_count": null,
   "metadata": {},
   "outputs": [],
   "source": [
    "import numpy as np"
   ]
  },
  {
   "cell_type": "markdown",
   "metadata": {},
   "source": [
    "# Random Complex Matrices"
   ]
  },
  {
   "cell_type": "code",
   "execution_count": null,
   "metadata": {},
   "outputs": [],
   "source": [
    "def RandomComplexCircularMatrix(r, size):\n",
    "    \"\"\"\n",
    "    Generates a matrix random complex values where each value is\n",
    "    within a circle of radius `r`.  Values are evenly distributed\n",
    "    by area.\n",
    "    \"\"\"\n",
    "    rMat = np.random.uniform(0, 1, size=size)**0.5 * r\n",
    "    pMat = np.random.uniform(0, 2*np.pi, size=size)\n",
    "    cMat = rMat*(np.cos(pMat) + 1j*np.sin(pMat))\n",
    "    return cMat"
   ]
  },
  {
   "cell_type": "code",
   "execution_count": null,
   "metadata": {},
   "outputs": [],
   "source": [
    "RandomComplexCircularMatrix(0.3, (2,2))"
   ]
  },
  {
   "cell_type": "code",
   "execution_count": null,
   "metadata": {},
   "outputs": [],
   "source": [
    "def RandomComplexGaussianMatrix(sigma, size):\n",
    "    \"\"\"\n",
    "    Generates a matrix random complex values where each value is\n",
    "    within a circle of radius `r`.  Values are evenly distributed\n",
    "    by area.\n",
    "    \"\"\"\n",
    "    reMat = np.random.normal(0, sigma, size=size)\n",
    "    imMat = np.random.normal(0, sigma, size=size)\n",
    "    cMat = reMat + 1j*imMat\n",
    "    return cMat"
   ]
  },
  {
   "cell_type": "code",
   "execution_count": null,
   "metadata": {},
   "outputs": [],
   "source": [
    "RandomComplexGaussianMatrix(0.3, (2,2))"
   ]
  },
  {
   "cell_type": "markdown",
   "metadata": {},
   "source": [
    "# Passivity"
   ]
  },
  {
   "cell_type": "code",
   "execution_count": null,
   "metadata": {},
   "outputs": [],
   "source": [
    "def RescaleToUnitary(arr):\n",
    "    u, s, v = np.linalg.svd(arr)\n",
    "    maxS = max(s)\n",
    "    rescaledArr = arr/maxS\n",
    "    return rescaledArr"
   ]
  },
  {
   "cell_type": "code",
   "execution_count": null,
   "metadata": {},
   "outputs": [],
   "source": [
    "arr = RandomComplexCircularMatrix(10, size=(5,5))"
   ]
  },
  {
   "cell_type": "code",
   "execution_count": null,
   "metadata": {},
   "outputs": [],
   "source": [
    "RescaleToUnitary(arr)"
   ]
  },
  {
   "cell_type": "markdown",
   "metadata": {},
   "source": [
    "# ReIm"
   ]
  },
  {
   "cell_type": "markdown",
   "metadata": {},
   "source": [
    "The purpose of `ReIm(z)` is to provide similar functionality to Mathematica's `ReIm[z]` function.  It breaks `z` into a real and imaginary component and returns both.  It operates on both scalars and numpy arrays."
   ]
  },
  {
   "cell_type": "code",
   "execution_count": null,
   "metadata": {},
   "outputs": [],
   "source": [
    "def ReIm(z):\n",
    "    return (np.real(z), np.imag(z))"
   ]
  },
  {
   "cell_type": "code",
   "execution_count": null,
   "metadata": {},
   "outputs": [],
   "source": [
    "ReIm(np.array(0.4+0.2j))"
   ]
  },
  {
   "cell_type": "code",
   "execution_count": null,
   "metadata": {},
   "outputs": [],
   "source": [
    "ReIm(np.array([0.1+0.2j, 0.3+0.4j]))"
   ]
  },
  {
   "cell_type": "code",
   "execution_count": null,
   "metadata": {},
   "outputs": [],
   "source": [
    "ReIm(np.array(100))"
   ]
  },
  {
   "cell_type": "markdown",
   "metadata": {},
   "source": [
    "# Matrix Errors"
   ]
  },
  {
   "cell_type": "code",
   "execution_count": null,
   "metadata": {},
   "outputs": [],
   "source": [
    "def MatrixSqError(m, mTarget):\n",
    "    \"\"\"\n",
    "    Computes ||m - mTarget||^2 where ||m|| is the Frobenius norm of M.\n",
    "    \"\"\"\n",
    "    errorSq = (np.abs(m - mTarget)**2).sum()\n",
    "    return errorSq"
   ]
  },
  {
   "cell_type": "code",
   "execution_count": null,
   "metadata": {},
   "outputs": [],
   "source": [
    "def MatrixError(m, mTarget):\n",
    "    \"\"\"\n",
    "    Computes ||m - mTarget|| where ||m|| is the Frobenius norm of M.\n",
    "    \"\"\"\n",
    "    errorSq = MatrixSqError(m, mTarget)\n",
    "    error = errorSq**0.5\n",
    "    return error"
   ]
  },
  {
   "cell_type": "code",
   "execution_count": null,
   "metadata": {},
   "outputs": [],
   "source": [
    "def MatrixErrorNormalized(m, mTarget):\n",
    "    \"\"\"\n",
    "    Computes ||m - mTarget||/a where ||m|| is the Frobenius norm of M\n",
    "    and 'a' is maximum transmissive entropy normalization factor of \n",
    "    (1/n)^0.5.\n",
    "\n",
    "    The purpose of this function is to give a sense of the error within\n",
    "    a matrix compared to the average values for a matrix of that order.\n",
    "    \"\"\"\n",
    "    errorSq = MatrixSqError(m, mTarget)\n",
    "    error = errorSq**0.5\n",
    "    (n,n) = m.shape\n",
    "    a = (1/n)**0.5\n",
    "    return error/a"
   ]
  },
  {
   "cell_type": "code",
   "execution_count": null,
   "metadata": {},
   "outputs": [],
   "source": [
    "a = np.array([[0, 1], [0,   1]])\n",
    "b = np.array([[0, 1], [0, 0.5]])"
   ]
  },
  {
   "cell_type": "code",
   "execution_count": null,
   "metadata": {},
   "outputs": [],
   "source": [
    "MatrixSqError(a,b)"
   ]
  },
  {
   "cell_type": "code",
   "execution_count": null,
   "metadata": {},
   "outputs": [],
   "source": [
    "MatrixError(a,b)"
   ]
  },
  {
   "cell_type": "code",
   "execution_count": null,
   "metadata": {},
   "outputs": [],
   "source": [
    "MatrixErrorNormalized(a,b)"
   ]
  }
 ],
 "metadata": {
  "kernelspec": {
   "display_name": "Python 3",
   "language": "python",
   "name": "python3"
  },
  "language_info": {
   "codemirror_mode": {
    "name": "ipython",
    "version": 3
   },
   "file_extension": ".py",
   "mimetype": "text/x-python",
   "name": "python",
   "nbconvert_exporter": "python",
   "pygments_lexer": "ipython3",
   "version": "3.7.4"
  },
  "latex_envs": {
   "LaTeX_envs_menu_present": true,
   "autoclose": false,
   "autocomplete": true,
   "bibliofile": "biblio.bib",
   "cite_by": "apalike",
   "current_citInitial": 1,
   "eqLabelWithNumbers": true,
   "eqNumInitial": 1,
   "hotkeys": {
    "equation": "Ctrl-E",
    "itemize": "Ctrl-I"
   },
   "labels_anchors": false,
   "latex_user_defs": false,
   "report_style_numbering": false,
   "user_envs_cfg": false
  }
 },
 "nbformat": 4,
 "nbformat_minor": 2
}
