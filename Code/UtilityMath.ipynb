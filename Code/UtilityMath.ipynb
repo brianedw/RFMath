{
 "cells": [
  {
   "cell_type": "markdown",
   "metadata": {
    "tags": []
   },
   "source": [
    "### stock imports"
   ]
  },
  {
   "cell_type": "code",
   "execution_count": null,
   "metadata": {},
   "outputs": [],
   "source": [
    "import numpy as np"
   ]
  },
  {
   "cell_type": "code",
   "execution_count": null,
   "metadata": {},
   "outputs": [],
   "source": [
    "from scipy.optimize import root\n",
    "from scipy.interpolate import interp2d\n",
    "from scipy.ndimage import gaussian_filter"
   ]
  },
  {
   "cell_type": "code",
   "execution_count": null,
   "metadata": {},
   "outputs": [],
   "source": [
    "from colorize import colorizeComplexArray"
   ]
  },
  {
   "cell_type": "code",
   "execution_count": null,
   "metadata": {},
   "outputs": [],
   "source": [
    "import bokeh\n",
    "from bokeh.io import output_notebook\n",
    "from bokeh.plotting import figure, show\n",
    "output_notebook()\n",
    "bokeh.io.curdoc().theme = 'dark_minimal'"
   ]
  },
  {
   "cell_type": "code",
   "execution_count": null,
   "metadata": {},
   "outputs": [],
   "source": [
    "mainQ =(__name__ == '__main__')\n",
    "mainQ"
   ]
  },
  {
   "cell_type": "markdown",
   "metadata": {
    "heading_collapsed": "true"
   },
   "source": [
    "# ConvertArrayToDict"
   ]
  },
  {
   "cell_type": "code",
   "execution_count": null,
   "metadata": {},
   "outputs": [],
   "source": [
    "def convertArrayToDict(array, drop=0, preSpec=()):\n",
    "    shape = array.shape[:-drop or None]\n",
    "    nDim = len(shape)\n",
    "    coords = np.array(np.meshgrid(*map(range, shape), indexing=\"ij\"))\n",
    "    coords1D = np.moveaxis(coords, 0, len(shape)).reshape(-1, nDim)\n",
    "    coordsTup = [tuple(c) for c in coords1D]\n",
    "    d = dict()\n",
    "    for c in coordsTup:\n",
    "        data = array[c]\n",
    "        if np.isfinite(data).all():\n",
    "            d[preSpec+c] = data\n",
    "    return d"
   ]
  },
  {
   "cell_type": "code",
   "execution_count": null,
   "metadata": {},
   "outputs": [],
   "source": [
    "array = np.full(shape=(3,3,4,2), fill_value=np.nan)\n",
    "array[0,2,3,0] = 2.1\n",
    "array[0,2,3,1] = 2.3"
   ]
  },
  {
   "cell_type": "code",
   "execution_count": null,
   "metadata": {},
   "outputs": [],
   "source": [
    "convertArrayToDict(array, drop=1, preSpec=('Alpha', 'Bravo'))"
   ]
  },
  {
   "cell_type": "markdown",
   "metadata": {
    "heading_collapsed": "true",
    "tags": []
   },
   "source": [
    "# Plot Complex Array"
   ]
  },
  {
   "cell_type": "code",
   "execution_count": null,
   "metadata": {},
   "outputs": [],
   "source": [
    "def plotComplexArray(array, maxRad=10, centerColor='black'):\n",
    "    pixArray = colorizeComplexArray(array+0.00001j, centerColor=centerColor, maxRad=maxRad)\n",
    "    (h, w) = array.shape\n",
    "    img = np.zeros((h, w), dtype=np.uint32)\n",
    "    view = img.view(dtype=np.uint8).reshape(h, w, 4)\n",
    "    view[:, :, 0] = pixArray[:, :, 0]\n",
    "    view[:, :, 1] = pixArray[:, :, 1]\n",
    "    view[:, :, 2] = pixArray[:, :, 2]\n",
    "    view[:, :, 3] = 255\n",
    "    p = figure(x_range=(0, w), y_range=(0, h), plot_width=800, plot_height=800)\n",
    "    p = figure()\n",
    "    p.image_rgba(image=[img], x=0, y=0, dw=w, dh=h)\n",
    "    show(p)"
   ]
  },
  {
   "cell_type": "code",
   "execution_count": null,
   "metadata": {},
   "outputs": [],
   "source": [
    "data = np.random.uniform(low=-10, high=10, size=(10, 15)) + 1j*np.random.uniform(low=-10, high=10, size=(10, 15))\n",
    "data[:3, :3] = 0\n",
    "if mainQ: plotComplexArray(data, maxRad=10)"
   ]
  },
  {
   "cell_type": "code",
   "execution_count": null,
   "metadata": {},
   "outputs": [],
   "source": [
    "nx, ny = (1000, 1000)\n",
    "x = np.linspace(-1, 1, nx)\n",
    "y = np.linspace(-1, 1, ny)\n",
    "xv, yv = np.meshgrid(x, y)\n",
    "data = xv + 1j*yv\n",
    "data = np.where(np.abs(data) > 1, 0, data)\n",
    "if mainQ: plotComplexArray(data, maxRad=1)"
   ]
  },
  {
   "cell_type": "markdown",
   "metadata": {
    "heading_collapsed": "true",
    "tags": []
   },
   "source": [
    "# Random Complex Matrices"
   ]
  },
  {
   "cell_type": "code",
   "execution_count": null,
   "metadata": {},
   "outputs": [],
   "source": [
    "def RandomComplexCircularMatrix(r, size):\n",
    "    \"\"\"\n",
    "    Generates a matrix random complex values where each value is\n",
    "    within a circle of radius `r`.  Values are evenly distributed\n",
    "    by area.\n",
    "    \"\"\"\n",
    "    rMat = np.random.uniform(0, 1, size=size)**0.5 * r\n",
    "    pMat = np.random.uniform(0, 2*np.pi, size=size)\n",
    "    cMat = rMat*(np.cos(pMat) + 1j*np.sin(pMat))\n",
    "    return cMat"
   ]
  },
  {
   "cell_type": "code",
   "execution_count": null,
   "metadata": {},
   "outputs": [],
   "source": [
    "RandomComplexCircularMatrix(0.3, (2,2))"
   ]
  },
  {
   "cell_type": "code",
   "execution_count": null,
   "metadata": {},
   "outputs": [],
   "source": [
    "data = RandomComplexCircularMatrix(10, (100,100))\n",
    "if mainQ: plotComplexArray(data, maxRad=10)"
   ]
  },
  {
   "cell_type": "code",
   "execution_count": null,
   "metadata": {},
   "outputs": [],
   "source": [
    "def RandomComplexGaussianMatrix(sigma, size):\n",
    "    \"\"\"\n",
    "    Generates a matrix random complex values where each value is\n",
    "    within a circle of radius `r`.  Values are evenly distributed\n",
    "    by area.\n",
    "    \"\"\"\n",
    "    reMat = np.random.normal(0, sigma, size=size)\n",
    "    imMat = np.random.normal(0, sigma, size=size)\n",
    "    cMat = reMat + 1j*imMat\n",
    "    return cMat"
   ]
  },
  {
   "cell_type": "code",
   "execution_count": null,
   "metadata": {},
   "outputs": [],
   "source": [
    "RandomComplexGaussianMatrix(0.3, (2,2))"
   ]
  },
  {
   "cell_type": "code",
   "execution_count": null,
   "metadata": {},
   "outputs": [],
   "source": [
    "data = RandomComplexGaussianMatrix(10, (100,100))\n",
    "if mainQ: plotComplexArray(data, maxRad=3*10)"
   ]
  },
  {
   "cell_type": "markdown",
   "metadata": {
    "heading_collapsed": "true",
    "tags": []
   },
   "source": [
    "# Plot Complex Matrix Difference"
   ]
  },
  {
   "cell_type": "code",
   "execution_count": null,
   "metadata": {},
   "outputs": [],
   "source": [
    "def makePolarPlot(title):\n",
    "    '''\n",
    "    This will create a Bokeh plot that depicts the unit circle.\n",
    "\n",
    "    Requires import bokeh\n",
    "    '''\n",
    "    p = bokeh.plotting.figure(plot_width=400, plot_height=400, title=title, \n",
    "                              x_range=[-1.1, 1.1], y_range=[-1.1, 1.1])\n",
    "    p.xaxis[0].ticker=bokeh.models.tickers.FixedTicker(ticks=np.arange(-1, 2, 0.25))\n",
    "    p.yaxis[0].ticker=bokeh.models.tickers.FixedTicker(ticks=np.arange(-1, 2, 0.25)) \n",
    "    p.circle(x = [0,0,0,0], y = [0,0,0,0], radius = [0.25, 0.50, 0.75, 1.0], \n",
    "             fill_color = None, line_color='gray')\n",
    "    p.line(x=[0,0], y=[-1,1], line_color='gray')\n",
    "    p.line(x=[-1,1], y=[0,0], line_color='gray')\n",
    "    xs = [0.25, 0.50, 0.75, 1.00]\n",
    "    ys = [0, 0, 0, 0]\n",
    "    texts = ['0.25', '0.50', '0.75', '1.00']\n",
    "    source = bokeh.models.ColumnDataSource(dict(x=xs, y=ys, text=texts))\n",
    "    textGlyph = bokeh.models.Text(x=\"x\", y=\"y\", text=\"text\", angle=0.3, \n",
    "                                  text_color=\"gray\", text_font_size='10px')\n",
    "    p.add_glyph(source, textGlyph)\n",
    "    p.xgrid.grid_line_color = None\n",
    "    p.ygrid.grid_line_color = None\n",
    "    return p"
   ]
  },
  {
   "cell_type": "code",
   "execution_count": null,
   "metadata": {},
   "outputs": [],
   "source": [
    "def addMatrixDiff(bokehPlot, m1, m2):\n",
    "    \"\"\"\n",
    "    This will draw lines showing the difference between two 2D matrices.\n",
    "    \"\"\"\n",
    "    p = bokehPlot\n",
    "    begX = (np.real(m1)).flatten()\n",
    "    begY = (np.imag(m1)).flatten()\n",
    "    endX = (np.real(m2)).flatten()\n",
    "    endY = (np.imag(m2)).flatten()\n",
    "\n",
    "    xs = np.array([begX, endX]).T.tolist()\n",
    "    ys = np.array([begY, endY]).T.tolist()\n",
    "    p.multi_line(xs=xs, ys=ys)\n",
    "\n",
    "    sourceTarg = bokeh.models.ColumnDataSource(dict(x=begX.tolist(), y=begY.tolist()))\n",
    "    glyphTarg = bokeh.models.Circle(x=\"x\", y=\"y\", size=10, line_color=\"green\", \n",
    "                                    fill_color=None, line_width=3)\n",
    "    p.add_glyph(sourceTarg, glyphTarg)\n",
    "\n",
    "    sourceSim = bokeh.models.ColumnDataSource(dict(x=endX.tolist(), y=endY.tolist()))\n",
    "    glyphSim = bokeh.models.Circle(x=\"x\", y=\"y\", size=5, line_color=None, \n",
    "                                   fill_color='red', line_width=3)\n",
    "    p.add_glyph(sourceSim, glyphSim)\n",
    "    return p"
   ]
  },
  {
   "cell_type": "code",
   "execution_count": null,
   "metadata": {},
   "outputs": [],
   "source": [
    "m1 = RandomComplexGaussianMatrix(0.4, (5,5))\n",
    "m1Error = RandomComplexGaussianMatrix(0.05, (5,5))\n",
    "m2 = m1 + m1Error\n",
    "plot = makePolarPlot(\"Blah Blah Blah\")\n",
    "addMatrixDiff(plot, m1, m2)\n",
    "if mainQ: show(plot)"
   ]
  },
  {
   "cell_type": "code",
   "execution_count": null,
   "metadata": {},
   "outputs": [],
   "source": [
    "class PolarPlot:\n",
    "    \n",
    "    def __init__(self, title):\n",
    "        '''\n",
    "        This will create a Bokeh plot that depicts the unit circle.\n",
    "\n",
    "        Requires import bokeh\n",
    "        '''\n",
    "        p = bokeh.plotting.figure(plot_width=400, plot_height=400, title=title, \n",
    "                                  x_range=[-1.1, 1.1], y_range=[-1.1, 1.1])\n",
    "        p.xaxis[0].ticker=bokeh.models.tickers.FixedTicker(ticks=np.arange(-1, 2, 0.25))\n",
    "        p.yaxis[0].ticker=bokeh.models.tickers.FixedTicker(ticks=np.arange(-1, 2, 0.25)) \n",
    "        p.circle(x = [0,0,0,0], y = [0,0,0,0], radius = [0.25, 0.50, 0.75, 1.0], \n",
    "                 fill_color = None, line_color='gray')\n",
    "        p.line(x=[0,0], y=[-1,1], line_color='gray')\n",
    "        p.line(x=[-1,1], y=[0,0], line_color='gray')\n",
    "        xs = [0.25, 0.50, 0.75, 1.00]\n",
    "        ys = [0, 0, 0, 0]\n",
    "        texts = ['0.25', '0.50', '0.75', '1.00']\n",
    "        source = bokeh.models.ColumnDataSource(dict(x=xs, y=ys, text=texts))\n",
    "        textGlyph = bokeh.models.Text(x=\"x\", y=\"y\", text=\"text\", angle=0.3, \n",
    "                                      text_color=\"gray\", text_font_size='10px')\n",
    "        p.add_glyph(source, textGlyph)\n",
    "        p.xgrid.grid_line_color = None\n",
    "        p.ygrid.grid_line_color = None\n",
    "        self.p = p\n",
    "    \n",
    "    def addMatrixDiff(self, m1, m2):\n",
    "        \"\"\"\n",
    "        This will draw lines showing the difference between two 2D matrices.\n",
    "        \"\"\"\n",
    "        p = self.p\n",
    "        begX = (np.real(m1)).flatten()\n",
    "        begY = (np.imag(m1)).flatten()\n",
    "        endX = (np.real(m2)).flatten()\n",
    "        endY = (np.imag(m2)).flatten()\n",
    "\n",
    "        xs = np.array([begX, endX]).T.tolist()\n",
    "        ys = np.array([begY, endY]).T.tolist()\n",
    "        p.multi_line(xs=xs, ys=ys)\n",
    "\n",
    "        sourceTarg = bokeh.models.ColumnDataSource(dict(x=begX.tolist(), y=begY.tolist()))\n",
    "        glyphTarg = bokeh.models.Circle(x=\"x\", y=\"y\", size=10, line_color=\"green\", \n",
    "                                        fill_color=None, line_width=3)\n",
    "        p.add_glyph(sourceTarg, glyphTarg)\n",
    "\n",
    "        sourceSim = bokeh.models.ColumnDataSource(dict(x=endX.tolist(), y=endY.tolist()))\n",
    "        glyphSim = bokeh.models.Circle(x=\"x\", y=\"y\", size=5, line_color=None, \n",
    "                                       fill_color='red', line_width=3)\n",
    "        p.add_glyph(sourceSim, glyphSim)\n",
    "    \n",
    "    \n",
    "    def addMatrix(self, m1, color='cyan'):\n",
    "        \"\"\"\n",
    "        This will draw lines showing the difference between two 2D matrices.\n",
    "        \"\"\"\n",
    "        p = self.p\n",
    "        X = (np.real(m1)).flatten()\n",
    "        Y = (np.imag(m1)).flatten()\n",
    "        source = bokeh.models.ColumnDataSource(dict(x=X.tolist(), y=Y.tolist()))\n",
    "        glyph = bokeh.models.Circle(x=\"x\", y=\"y\", size=5, line_color=None, \n",
    "                                       fill_color=color, line_width=3)\n",
    "        p.add_glyph(source, glyph)\n",
    "\n",
    "        \n",
    "    def show(self):\n",
    "        show(self.p)"
   ]
  },
  {
   "cell_type": "code",
   "execution_count": null,
   "metadata": {},
   "outputs": [],
   "source": [
    "m1 = RandomComplexGaussianMatrix(0.5, (5,5))\n",
    "m2 = m1 + RandomComplexGaussianMatrix(0.05, (5,5))\n",
    "\n",
    "m3 = RandomComplexGaussianMatrix(0.5, (5,5))"
   ]
  },
  {
   "cell_type": "code",
   "execution_count": null,
   "metadata": {},
   "outputs": [],
   "source": [
    "pp = PolarPlot(\"Plot Title\")\n",
    "pp.addMatrixDiff(m1, m2)\n",
    "pp.addMatrix(m3)\n",
    "if mainQ: pp.show()"
   ]
  },
  {
   "cell_type": "markdown",
   "metadata": {
    "heading_collapsed": "true"
   },
   "source": [
    "# Passivity"
   ]
  },
  {
   "cell_type": "code",
   "execution_count": null,
   "metadata": {},
   "outputs": [],
   "source": [
    "def RescaleToUnitary(arr):\n",
    "    u, s, v = np.linalg.svd(arr)\n",
    "    maxS = max(s)\n",
    "    rescaledArr = arr/maxS\n",
    "    return rescaledArr"
   ]
  },
  {
   "cell_type": "code",
   "execution_count": null,
   "metadata": {},
   "outputs": [],
   "source": [
    "arr = RandomComplexCircularMatrix(10, size=(5,5))"
   ]
  },
  {
   "cell_type": "code",
   "execution_count": null,
   "metadata": {},
   "outputs": [],
   "source": [
    "RescaleToUnitary(arr)"
   ]
  },
  {
   "cell_type": "markdown",
   "metadata": {
    "heading_collapsed": "true"
   },
   "source": [
    "# ReIm"
   ]
  },
  {
   "cell_type": "markdown",
   "metadata": {},
   "source": [
    "The purpose of `ReIm(z)` is to provide similar functionality to Mathematica's `ReIm[z]` function.  It breaks `z` into a real and imaginary component and returns both.  It operates on both scalars and numpy arrays."
   ]
  },
  {
   "cell_type": "code",
   "execution_count": null,
   "metadata": {},
   "outputs": [],
   "source": [
    "def ReIm(z):\n",
    "    return (np.real(z), np.imag(z))"
   ]
  },
  {
   "cell_type": "code",
   "execution_count": null,
   "metadata": {},
   "outputs": [],
   "source": [
    "ReIm(np.array(0.4+0.2j))"
   ]
  },
  {
   "cell_type": "code",
   "execution_count": null,
   "metadata": {},
   "outputs": [],
   "source": [
    "ReIm(np.array([0.1+0.2j, 0.3+0.4j]))"
   ]
  },
  {
   "cell_type": "code",
   "execution_count": null,
   "metadata": {},
   "outputs": [],
   "source": [
    "ReIm(np.array(100))"
   ]
  },
  {
   "cell_type": "markdown",
   "metadata": {},
   "source": [
    "# Matrix Errors"
   ]
  },
  {
   "cell_type": "code",
   "execution_count": null,
   "metadata": {},
   "outputs": [],
   "source": [
    "def MatrixSqError(m, mTarget):\n",
    "    \"\"\"\n",
    "    Computes ||m - mTarget||^2 where ||m|| is the Frobenius norm of M.\n",
    "    \"\"\"\n",
    "    errorSq = (np.abs(m - mTarget)**2).sum()\n",
    "    return errorSq"
   ]
  },
  {
   "cell_type": "code",
   "execution_count": null,
   "metadata": {},
   "outputs": [],
   "source": [
    "def MatrixError(m, mTarget):\n",
    "    \"\"\"\n",
    "    Computes ||m - mTarget|| where ||m|| is the Frobenius norm of M.\n",
    "    \"\"\"\n",
    "    errorSq = MatrixSqError(m, mTarget)\n",
    "    error = errorSq**0.5\n",
    "    return error"
   ]
  },
  {
   "cell_type": "code",
   "execution_count": null,
   "metadata": {},
   "outputs": [],
   "source": [
    "def MatrixErrorNormalized(m, mTarget):\n",
    "    \"\"\"\n",
    "    Computes ||m - mTarget||/a where ||m|| is the Frobenius norm of M\n",
    "    and 'a' is maximum transmissive entropy normalization factor of \n",
    "    (1/n)^0.5.\n",
    "\n",
    "    The purpose of this function is to give a sense of the error within\n",
    "    a matrix compared to the average values for a matrix of that order.\n",
    "    \"\"\"\n",
    "    errorSq = MatrixSqError(m, mTarget)\n",
    "    error = errorSq**0.5\n",
    "    (n,n) = m.shape\n",
    "    a = (1/n)**0.5\n",
    "    return error/a"
   ]
  },
  {
   "cell_type": "code",
   "execution_count": null,
   "metadata": {},
   "outputs": [],
   "source": [
    "a = np.array([[0, 1], [0,   1]])\n",
    "b = np.array([[0, 1], [0, 0.5]])"
   ]
  },
  {
   "cell_type": "code",
   "execution_count": null,
   "metadata": {},
   "outputs": [],
   "source": [
    "MatrixSqError(a,b)"
   ]
  },
  {
   "cell_type": "code",
   "execution_count": null,
   "metadata": {},
   "outputs": [],
   "source": [
    "MatrixError(a,b)"
   ]
  },
  {
   "cell_type": "code",
   "execution_count": null,
   "metadata": {},
   "outputs": [],
   "source": [
    "MatrixErrorNormalized(a,b)"
   ]
  },
  {
   "cell_type": "markdown",
   "metadata": {
    "heading_collapsed": "true"
   },
   "source": [
    "# Complex Gaussian Filter"
   ]
  },
  {
   "cell_type": "code",
   "execution_count": null,
   "metadata": {},
   "outputs": [],
   "source": [
    "def gaussian_filter_complex(b, sigma, order=0, output=None, mode='reflect', cval=0.0, truncate=4.0):\n",
    "    \"\"\"\n",
    "    See scipy.ndimage.gaussian_filter for documentation.\n",
    "    \"\"\"\n",
    "    r = gaussian_filter(np.real(b), sigma, order, output, mode, cval, truncate)\n",
    "    i = gaussian_filter(np.imag(b), sigma, order, output, mode, cval, truncate)\n",
    "    return r + 1j*i"
   ]
  },
  {
   "cell_type": "markdown",
   "metadata": {
    "heading_collapsed": "true",
    "tags": []
   },
   "source": [
    "# Complex Valued 2D PCA"
   ]
  },
  {
   "cell_type": "markdown",
   "metadata": {},
   "source": [
    "Adapted from https://datascience.stackexchange.com/questions/75733/pca-for-complex-valued-data"
   ]
  },
  {
   "cell_type": "code",
   "execution_count": null,
   "metadata": {},
   "outputs": [],
   "source": [
    "def complex2DPCA(dataSet, nComps):\n",
    "    nSamples = len(dataSet)\n",
    "    dataShape = dataSet[0].shape\n",
    "    compShape = (nComps, ) + dataShape\n",
    "    matrix = dataSet.reshape(nSamples, -1)\n",
    "    _, s, vh = np.linalg.svd(matrix, full_matrices=False)\n",
    "    compsFlat = vh[:nComps]\n",
    "    comps = compsFlat.reshape(compShape)\n",
    "    FAve = np.mean(dataSet, axis=0)\n",
    "    baseWeights = complex2Dlstsq(comps, FAve)\n",
    "    return comps, baseWeights"
   ]
  },
  {
   "cell_type": "code",
   "execution_count": null,
   "metadata": {},
   "outputs": [],
   "source": [
    "def complex2Dlstsq(comps, field):\n",
    "    nComps, nyC, nxC = comps.shape\n",
    "    fieldFlat = field.flatten()\n",
    "    compsFlat = comps.reshape(nComps, nyC*nxC)\n",
    "    weights = np.linalg.lstsq(compsFlat.T, fieldFlat, rcond=None)[0]\n",
    "    # weights = weights.reshape(-1,1,1)\n",
    "    return weights"
   ]
  },
  {
   "cell_type": "markdown",
   "metadata": {},
   "source": [
    "Below we create a data set consisting of 4 terms, each with their own weighting."
   ]
  },
  {
   "cell_type": "code",
   "execution_count": null,
   "metadata": {},
   "outputs": [],
   "source": [
    "ns, nx, ny = (10, 150, 100)\n",
    "xs = np.linspace(-1, 1, nx)\n",
    "ys = np.linspace(-1, 1, ny)\n",
    "xg, yg = np.meshgrid(xs, ys)\n",
    "kx1, ky1 = [2,-4]\n",
    "kx2, ky2 = [1, 3]\n",
    "dataSet = np.zeros(shape=(ns, ny, nx), dtype=np.complex)\n",
    "for i in range(ns):\n",
    "    c1 = 1j + RandomComplexGaussianMatrix(0.1, size=1)\n",
    "    c2 = RandomComplexGaussianMatrix(0.1, size=1)\n",
    "    F1 = np.exp(1j*(kx1*xg + ky1*yg))\n",
    "    F2 = np.exp(1j*(kx2*xg + ky2*yg))\n",
    "    F3 = RandomComplexGaussianMatrix(0.1, size=F1.shape)\n",
    "    F4 = np.full_like(F1, fill_value=(0.3+0.2j))\n",
    "    dataSet[i] = c1*F1 + c2*F2 + F3 + 0*F4"
   ]
  },
  {
   "cell_type": "code",
   "execution_count": null,
   "metadata": {},
   "outputs": [],
   "source": [
    "if mainQ: plotComplexArray(dataSet[0], maxRad=1.5)"
   ]
  },
  {
   "cell_type": "code",
   "execution_count": null,
   "metadata": {},
   "outputs": [],
   "source": [
    "comps, baseWeights = complex2DPCA(dataSet, nComps=4)"
   ]
  },
  {
   "cell_type": "code",
   "execution_count": null,
   "metadata": {},
   "outputs": [],
   "source": [
    "prototype = np.sum(comps * baseWeights.reshape(-1,1,1), axis=0)"
   ]
  },
  {
   "cell_type": "code",
   "execution_count": null,
   "metadata": {},
   "outputs": [],
   "source": [
    "if mainQ: plotComplexArray(prototype, maxRad=1.5)"
   ]
  },
  {
   "cell_type": "code",
   "execution_count": null,
   "metadata": {},
   "outputs": [],
   "source": [
    "aveF = np.average(dataSet, axis=0)"
   ]
  },
  {
   "cell_type": "code",
   "execution_count": null,
   "metadata": {},
   "outputs": [],
   "source": [
    "if mainQ: plotComplexArray(prototype-aveF, maxRad=0.1)"
   ]
  },
  {
   "cell_type": "code",
   "execution_count": null,
   "metadata": {},
   "outputs": [],
   "source": [
    "target = dataSet[0]\n",
    "weights = complex2Dlstsq(comps, target)\n",
    "fit = np.sum(comps*weights.reshape(-1,1,1), axis=0)\n",
    "if mainQ: plotComplexArray(fit, maxRad=1.5)"
   ]
  },
  {
   "cell_type": "code",
   "execution_count": null,
   "metadata": {},
   "outputs": [],
   "source": [
    "if mainQ: plotComplexArray(fit-target, maxRad=.5)"
   ]
  },
  {
   "cell_type": "markdown",
   "metadata": {
    "heading_collapsed": "true",
    "tags": []
   },
   "source": [
    "# Interpolated Root Finding"
   ]
  },
  {
   "cell_type": "code",
   "execution_count": null,
   "metadata": {},
   "outputs": [],
   "source": [
    "nx, ny = (100, 93)\n",
    "xs = np.linspace(0, 1023, nx+1, endpoint=True)\n",
    "ys = np.linspace(0, 1023, ny+1, endpoint=True)\n",
    "xg, yg = np.meshgrid(xs, ys)\n",
    "kx1, ky1 = [2*(2*np.pi)/1023, 0.3*(2*np.pi)/1023]\n",
    "F1 = np.exp(1j*(kx1*xg + ky1*yg))\n",
    "F2 = yg/1023\n",
    "F3 = 0.7*np.exp(-((xg-500)**2 / 300**2))\n",
    "F4 = RandomComplexGaussianMatrix(0.0001, size=F1.shape)\n",
    "dataSet = 6*F1*F2*(1-F3)+F4"
   ]
  },
  {
   "cell_type": "code",
   "execution_count": null,
   "metadata": {},
   "outputs": [],
   "source": [
    "if mainQ: plotComplexArray(dataSet, maxRad=5.5)"
   ]
  },
  {
   "cell_type": "code",
   "execution_count": null,
   "metadata": {},
   "outputs": [],
   "source": [
    "rF = interp2d(xs, ys, np.real(dataSet), kind='linear', bounds_error=True)\n",
    "iF = interp2d(xs, ys, np.imag(dataSet), kind='linear', bounds_error=True)\n",
    "\n",
    "def F(x,y):\n",
    "    z, = rF(x, y, assume_sorted=True) + 1j*iF(x, y, assume_sorted=True)\n",
    "    return z"
   ]
  },
  {
   "cell_type": "code",
   "execution_count": null,
   "metadata": {},
   "outputs": [],
   "source": [
    "F(512, 1023)"
   ]
  },
  {
   "cell_type": "code",
   "execution_count": null,
   "metadata": {},
   "outputs": [],
   "source": [
    "F(512, 0)"
   ]
  },
  {
   "cell_type": "code",
   "execution_count": null,
   "metadata": {},
   "outputs": [],
   "source": [
    "target = F(100, 100) + (0.01+0.01j)"
   ]
  },
  {
   "cell_type": "code",
   "execution_count": null,
   "metadata": {},
   "outputs": [],
   "source": [
    "startPos = [90, 130]\n",
    "\n",
    "def FRoot(xv, *args):\n",
    "    x, y = xv\n",
    "    targ, = args\n",
    "    rO = np.real(F(x,y) - target)\n",
    "    iO = np.imag(F(x,y) - target)\n",
    "    return np.array([rO, iO])\n",
    "\n",
    "try:\n",
    "    soln = root(FRoot, startPos, args=target)\n",
    "except ValueError:\n",
    "    print(\"starting over at [512, 512]\")\n",
    "    soln = root(FRoot, [512, 512])\n",
    "np.round(soln['x']).astype(np.int)"
   ]
  },
  {
   "cell_type": "code",
   "execution_count": null,
   "metadata": {},
   "outputs": [],
   "source": [
    "def rootRough(F, start):\n",
    "    evalPts = np.array(start)\n",
    "    \n",
    "    F()"
   ]
  },
  {
   "cell_type": "code",
   "execution_count": null,
   "metadata": {},
   "outputs": [],
   "source": [
    "start = np.array([512,512])\n",
    "bestOffset = -1\n",
    "offsets = np.array([[0,0], [1,0], [0,1], [-1,0], [0,-1]])\n",
    "pos = start.copy()\n",
    "inBounds = lambda xv: 0 <= xv[0] <= 1023 and 0 <= xv[1] <= 1023\n",
    "while bestOffset != 0:\n",
    "    evalPts = filter(inBounds, pos + offsets)\n",
    "    scores = [abs(F(*pt) - (2+1j)) for pt in evalPts]\n",
    "    bestOffset = np.argmin(scores)\n",
    "    pos = pos + offsets[bestOffset]"
   ]
  },
  {
   "cell_type": "code",
   "execution_count": null,
   "metadata": {},
   "outputs": [],
   "source": [
    "def dumbRoot2D(F, start, bounds, target):\n",
    "    iBest = -1\n",
    "    offsets = np.array([[0,0], [1,0], [0,1], [-1,0], [0,-1]])\n",
    "    pos = np.array(start).copy()\n",
    "    ((xMin, xMax), (yMin, yMax)) = bounds\n",
    "    inBounds = lambda xv: xMin <= xv[0] <= xMax and yMin <= xv[1] <= yMax\n",
    "    onEdge = lambda xv: xv[0] == xMin or xv[0] == xMax or xv[1] == yMax # Does not include yMin\n",
    "    while iBest != 0:\n",
    "        evalPts = filter(inBounds, pos + offsets)\n",
    "        scores = [abs(F(*pt) - target) for pt in evalPts]\n",
    "        iBest = np.argmin(scores)\n",
    "        bestOffset = offsets[iBest]\n",
    "        bestScore = scores[iBest]\n",
    "        pos = pos + bestOffset\n",
    "    if not onEdge(pos):\n",
    "        return (pos, bestScore)"
   ]
  },
  {
   "cell_type": "code",
   "execution_count": null,
   "metadata": {},
   "outputs": [],
   "source": [
    "dumbRoot2D(F, [512, 512], ((0, 1023), (0, 1023)), (1+0j))"
   ]
  },
  {
   "cell_type": "code",
   "execution_count": null,
   "metadata": {},
   "outputs": [],
   "source": [
    "bounds = ((0, 1023), (0, 1023))"
   ]
  },
  {
   "cell_type": "code",
   "execution_count": null,
   "metadata": {},
   "outputs": [],
   "source": [
    "inBounds = lambda xv: 0 <= xv[0] <= 1023 and 0 <= xv[1] <= 1023\n",
    "evalPtsFiltered = filter(inBounds, evalPts)"
   ]
  },
  {
   "cell_type": "code",
   "execution_count": null,
   "metadata": {},
   "outputs": [],
   "source": [
    "pos = np.array([0, 10])"
   ]
  },
  {
   "cell_type": "code",
   "execution_count": null,
   "metadata": {},
   "outputs": [],
   "source": [
    "filter(inBounds, pos + offsets)"
   ]
  },
  {
   "cell_type": "code",
   "execution_count": null,
   "metadata": {},
   "outputs": [],
   "source": [
    "xSamples = np.linspace(0, 1023, 1023+1)\n",
    "ySamples = np.linspace(0, 1023, 1023+1)\n",
    "xGrid, yGrid = np.meshgrid(xSamples, ySamples)"
   ]
  },
  {
   "cell_type": "code",
   "execution_count": null,
   "metadata": {},
   "outputs": [],
   "source": [
    "gridPts = np.dstack((xGrid, yGrid)).reshape(-1, 2)"
   ]
  }
 ],
 "metadata": {
  "kernelspec": {
   "display_name": "Python 3",
   "language": "python",
   "name": "python3"
  },
  "language_info": {
   "codemirror_mode": {
    "name": "ipython",
    "version": 3
   },
   "file_extension": ".py",
   "mimetype": "text/x-python",
   "name": "python",
   "nbconvert_exporter": "python",
   "pygments_lexer": "ipython3",
   "version": "3.8.3"
  },
  "latex_envs": {
   "LaTeX_envs_menu_present": true,
   "autoclose": false,
   "autocomplete": true,
   "bibliofile": "biblio.bib",
   "cite_by": "apalike",
   "current_citInitial": 1,
   "eqLabelWithNumbers": true,
   "eqNumInitial": 1,
   "hotkeys": {
    "equation": "Ctrl-E",
    "itemize": "Ctrl-I"
   },
   "labels_anchors": false,
   "latex_user_defs": false,
   "report_style_numbering": false,
   "user_envs_cfg": false
  }
 },
 "nbformat": 4,
 "nbformat_minor": 4
}
