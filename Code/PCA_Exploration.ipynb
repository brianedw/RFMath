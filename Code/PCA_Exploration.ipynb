{
 "cells": [
  {
   "cell_type": "markdown",
   "metadata": {},
   "source": [
    "# PCA Exploration"
   ]
  },
  {
   "cell_type": "markdown",
   "metadata": {
    "heading_collapsed": "true"
   },
   "source": [
    "#### Imports"
   ]
  },
  {
   "cell_type": "code",
   "execution_count": null,
   "metadata": {},
   "outputs": [],
   "source": [
    "import numpy as np\n",
    "import itertools"
   ]
  },
  {
   "cell_type": "code",
   "execution_count": null,
   "metadata": {},
   "outputs": [],
   "source": [
    "from scipy.ndimage import gaussian_filter"
   ]
  },
  {
   "cell_type": "code",
   "execution_count": null,
   "metadata": {},
   "outputs": [],
   "source": [
    "from sklearn.decomposition import PCA"
   ]
  },
  {
   "cell_type": "code",
   "execution_count": null,
   "metadata": {},
   "outputs": [],
   "source": [
    "import bokeh\n",
    "from bokeh.io import output_notebook\n",
    "from bokeh.plotting import figure, show\n",
    "output_notebook()\n",
    "from bokeh.palettes import Dark2\n",
    "bokeh.io.curdoc().theme = 'dark_minimal'\n",
    "palette = Dark2[8]*10"
   ]
  },
  {
   "cell_type": "code",
   "execution_count": null,
   "metadata": {},
   "outputs": [],
   "source": [
    "palette = Dark2[8]*10\n",
    "colors = itertools.cycle(palette)"
   ]
  },
  {
   "cell_type": "markdown",
   "metadata": {},
   "source": [
    "## Work"
   ]
  },
  {
   "cell_type": "markdown",
   "metadata": {},
   "source": [
    "### Device Definition"
   ]
  },
  {
   "cell_type": "code",
   "execution_count": null,
   "metadata": {},
   "outputs": [],
   "source": [
    "def DeviceResponse(x):\n",
    "    response = (1/2)*(0.5 + np.tanh((x-0.5)*10)/2) + (1/2)*x\n",
    "    return response"
   ]
  },
  {
   "cell_type": "code",
   "execution_count": null,
   "metadata": {},
   "outputs": [],
   "source": [
    "xs=np.linspace(0, 1, num=1001)\n",
    "ys=DeviceResponse(xs)"
   ]
  },
  {
   "cell_type": "code",
   "execution_count": null,
   "metadata": {},
   "outputs": [],
   "source": [
    "fig = figure(plot_height=500, plot_width=800, x_range=(0, 1), y_range=(0, 1))\n",
    "fig.title.text = \"My Plot\"\n",
    "fig.title.align = \"center\"\n",
    "fig.xaxis.axis_label = \"input\"\n",
    "fig.yaxis.axis_label = \"response\"\n",
    "fig.scatter(x=xs, y=ys, legend_label=\"Measured Data\", \n",
    "            size=1, fill_color='red', line_color='red', fill_alpha=.5)\n",
    "show(fig)"
   ]
  },
  {
   "cell_type": "code",
   "execution_count": null,
   "metadata": {},
   "outputs": [],
   "source": [
    "def RealResponse():\n",
    "    xs = np.linspace(0, 1, num=1001)\n",
    "    a, b, c, d = np.random.normal(size=4)\n",
    "    noise =  np.random.normal(size=len(xs))\n",
    "    response = (1 + 0.1*a)*DeviceResponse(xs - 0.02*b) + (0.1)*c*xs**2 + 0.05*d + 0.01*noise\n",
    "    return response"
   ]
  },
  {
   "cell_type": "code",
   "execution_count": null,
   "metadata": {},
   "outputs": [],
   "source": [
    "dataSet = [RealResponse() for i in range(25)]"
   ]
  },
  {
   "cell_type": "code",
   "execution_count": null,
   "metadata": {},
   "outputs": [],
   "source": [
    "fig = figure(plot_height=500, plot_width=800, x_range=(0, 1), y_range=(0, 1))\n",
    "fig.title.text = \"My Plot\"\n",
    "fig.title.align = \"center\"\n",
    "fig.xaxis.axis_label = \"input\"\n",
    "fig.yaxis.axis_label = \"response\"\n",
    "for ys in dataSet:\n",
    "    color = next(colors)\n",
    "    fig.scatter(x=xs, y=ys, size=1, fill_color=color, line_color=color, fill_alpha=1)\n",
    "show(fig)"
   ]
  },
  {
   "cell_type": "code",
   "execution_count": null,
   "metadata": {},
   "outputs": [],
   "source": [
    "goldenRough = np.average(dataSet, axis=0)\n",
    "golden = gaussian_filter(goldenRough, 5, mode='reflect')\n",
    "golden.shape"
   ]
  },
  {
   "cell_type": "code",
   "execution_count": null,
   "metadata": {},
   "outputs": [],
   "source": [
    "fig = figure(plot_height=500, plot_width=800, x_range=(0, 1), y_range=(0, 1))\n",
    "fig.title.text = \"My Plot\"\n",
    "fig.title.align = \"center\"\n",
    "fig.xaxis.axis_label = \"input\"\n",
    "fig.yaxis.axis_label = \"response\"\n",
    "fig.scatter(x=xs, y=golden, size=1, fill_color=color, line_color=color, fill_alpha=1)\n",
    "show(fig)"
   ]
  },
  {
   "cell_type": "code",
   "execution_count": null,
   "metadata": {},
   "outputs": [],
   "source": [
    "deviations = dataSet - golden"
   ]
  },
  {
   "cell_type": "code",
   "execution_count": null,
   "metadata": {},
   "outputs": [],
   "source": [
    "deviationsSTD = np.zeros_like(deviations)\n",
    "for i, d in enumerate(deviations):\n",
    "    ave = np.average(d)\n",
    "    deviationsSTD[i] = d-ave"
   ]
  },
  {
   "cell_type": "code",
   "execution_count": null,
   "metadata": {},
   "outputs": [],
   "source": [
    "fig = figure(plot_height=500, plot_width=800, x_range=(0, 1), y_range=(-0.3, 0.3))\n",
    "fig.title.text = \"My Plot\"\n",
    "fig.title.align = \"center\"\n",
    "fig.xaxis.axis_label = \"input\"\n",
    "fig.yaxis.axis_label = \"response\"\n",
    "for ys in deviationsSTD:\n",
    "    color = next(colors)\n",
    "    fig.scatter(x=xs, y=ys, size=1, fill_color=color, line_color=color, fill_alpha=1)\n",
    "show(fig)"
   ]
  },
  {
   "cell_type": "markdown",
   "metadata": {},
   "source": [
    "### Determining Correction Factors"
   ]
  },
  {
   "cell_type": "code",
   "execution_count": null,
   "metadata": {},
   "outputs": [],
   "source": [
    "pca = PCA(n_components=4)\n",
    "pca.fit(deviations)"
   ]
  },
  {
   "cell_type": "code",
   "execution_count": null,
   "metadata": {},
   "outputs": [],
   "source": [
    "basisRough = np.insert(pca.components_, 0, np.full_like(xs, fill_value=1), axis=0)\n",
    "basisRough = pca.components_\n",
    "basisRough.shape"
   ]
  },
  {
   "cell_type": "code",
   "execution_count": null,
   "metadata": {},
   "outputs": [],
   "source": [
    "basisSmooth = np.zeros_like(basisRough)"
   ]
  },
  {
   "cell_type": "code",
   "execution_count": null,
   "metadata": {},
   "outputs": [],
   "source": [
    "for i in range(len(basisSmooth)):\n",
    "    basisSmooth[i] = gaussian_filter(basisRough[i], 15)"
   ]
  },
  {
   "cell_type": "code",
   "execution_count": null,
   "metadata": {},
   "outputs": [],
   "source": [
    "fig = figure(plot_height=500, plot_width=800, x_range=(0, 1), y_range=(-0.1, 0.1))\n",
    "fig.title.text = \"My Plot\"\n",
    "fig.title.align = \"center\"\n",
    "fig.xaxis.axis_label = \"input\"\n",
    "fig.yaxis.axis_label = \"response\"\n",
    "for ys in basisSmooth:\n",
    "    color = next(colors)\n",
    "    fig.scatter(x=xs, y=ys, size=1, fill_color=color, line_color=color, fill_alpha=1)\n",
    "show(fig)"
   ]
  },
  {
   "cell_type": "markdown",
   "metadata": {},
   "source": [
    "### Device Fitting"
   ]
  },
  {
   "cell_type": "code",
   "execution_count": null,
   "metadata": {},
   "outputs": [],
   "source": [
    "deviceID = np.random.randint(0, len(dataSet)+1)\n",
    "device = dataSet[deviceID]"
   ]
  },
  {
   "cell_type": "code",
   "execution_count": null,
   "metadata": {},
   "outputs": [],
   "source": [
    "corrWeights = np.linalg.lstsq(basisSmooth.T, device-golden, rcond=None)[0]"
   ]
  },
  {
   "cell_type": "code",
   "execution_count": null,
   "metadata": {},
   "outputs": [],
   "source": [
    "basisSmooth.T @ corrWeights"
   ]
  },
  {
   "cell_type": "code",
   "execution_count": null,
   "metadata": {},
   "outputs": [],
   "source": [
    "fit = golden + basisSmooth.T @ corrWeights"
   ]
  },
  {
   "cell_type": "code",
   "execution_count": null,
   "metadata": {},
   "outputs": [],
   "source": [
    "fig = figure(plot_height=500, plot_width=800, x_range=(0, 1), y_range=(0, 1))\n",
    "fig.title.text = \"My Plot\"\n",
    "fig.title.align = \"center\"\n",
    "fig.xaxis.axis_label = \"input\"\n",
    "fig.yaxis.axis_label = \"response\"\n",
    "fig.scatter(x=xs, y=device, size=1, fill_color='red', line_color='red', fill_alpha=1)\n",
    "fig.scatter(x=xs, y=fit, size=1, fill_color='white', line_color='white', fill_alpha=1)\n",
    "show(fig)"
   ]
  },
  {
   "cell_type": "code",
   "execution_count": null,
   "metadata": {},
   "outputs": [],
   "source": []
  },
  {
   "cell_type": "code",
   "execution_count": null,
   "metadata": {},
   "outputs": [],
   "source": []
  },
  {
   "cell_type": "code",
   "execution_count": null,
   "metadata": {},
   "outputs": [],
   "source": []
  }
 ],
 "metadata": {
  "kernelspec": {
   "display_name": "Python 3",
   "language": "python",
   "name": "python3"
  },
  "language_info": {
   "codemirror_mode": {
    "name": "ipython",
    "version": 3
   },
   "file_extension": ".py",
   "mimetype": "text/x-python",
   "name": "python",
   "nbconvert_exporter": "python",
   "pygments_lexer": "ipython3",
   "version": "3.8.5"
  }
 },
 "nbformat": 4,
 "nbformat_minor": 4
}
