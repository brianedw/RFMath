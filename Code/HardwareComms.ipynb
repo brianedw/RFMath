{
 "cells": [
  {
   "cell_type": "code",
   "execution_count": null,
   "metadata": {},
   "outputs": [],
   "source": [
    "import sys\n",
    "import os\n",
    "import math"
   ]
  },
  {
   "cell_type": "code",
   "execution_count": null,
   "metadata": {},
   "outputs": [],
   "source": [
    "#!conda install --yes --prefix {sys.prefix} pyserial"
   ]
  },
  {
   "cell_type": "code",
   "execution_count": null,
   "metadata": {},
   "outputs": [],
   "source": [
    "import serial\n",
    "import time"
   ]
  },
  {
   "cell_type": "code",
   "execution_count": null,
   "metadata": {},
   "outputs": [],
   "source": [
    "import pyvisa"
   ]
  },
  {
   "cell_type": "code",
   "execution_count": null,
   "metadata": {},
   "outputs": [],
   "source": [
    "import numpy as np\n",
    "import pandas as pd"
   ]
  },
  {
   "cell_type": "code",
   "execution_count": null,
   "metadata": {},
   "outputs": [],
   "source": [
    "import sys\n",
    "if sys.version_info[0] < 3: \n",
    "    from StringIO import StringIO\n",
    "else:\n",
    "    from io import StringIO"
   ]
  },
  {
   "cell_type": "markdown",
   "metadata": {},
   "source": [
    "# Library"
   ]
  },
  {
   "cell_type": "code",
   "execution_count": null,
   "metadata": {},
   "outputs": [],
   "source": [
    "! python -m serial.tools.list_ports"
   ]
  },
  {
   "cell_type": "markdown",
   "metadata": {
    "heading_collapsed": "true"
   },
   "source": [
    "## Switch"
   ]
  },
  {
   "cell_type": "code",
   "execution_count": null,
   "metadata": {},
   "outputs": [],
   "source": [
    "class SwitchComm:\n",
    "    pass"
   ]
  },
  {
   "cell_type": "code",
   "execution_count": null,
   "metadata": {},
   "outputs": [],
   "source": [
    "def __init__(self, comValue='COM_', portAliases=None):\n",
    "    \"\"\" Creates a communication link to a Metromini controlling a 1:8 RF switch.\n",
    "\n",
    "    Args: \n",
    "        comValue: The serial port controlling the switch.  Example 'COM4'\n",
    "        portAliases: Dict representing command->switchport pairs.  Example: {1:6, 2:5, 3:4, 4:3, 5:2}\n",
    "    \"\"\"\n",
    "    self.switchCom = serial.Serial()\n",
    "    self.portAliases = portAliases\n",
    "    self.comValue = comValue\n",
    "    self.switchCom.port = comValue\n",
    "    self.switchCom.close()\n",
    "    self.switchCom.open()\n",
    "    time.sleep(0.5)\n",
    "    response = self.switchCom.read_all()\n",
    "    print(response.decode(\"utf-8\"))\n",
    "    \n",
    "setattr(SwitchComm, '__init__', __init__)"
   ]
  },
  {
   "cell_type": "code",
   "execution_count": null,
   "metadata": {},
   "outputs": [],
   "source": [
    "def setSwitch(self, i, verbose=False):\n",
    "    \"\"\" Sets the switch value.\n",
    "    \n",
    "    Args:\n",
    "        switchPort (int): The output switch number [0-7].\n",
    "    \"\"\"\n",
    "    self.switchCom.flushInput()\n",
    "    if portAliases:\n",
    "        self.switchCom.write(str.encode(str(portAliases[i])))        \n",
    "    else:    \n",
    "        self.switchCom.write(str.encode(str(i)))\n",
    "    if verbose:\n",
    "        time.sleep(2)\n",
    "        response = self.switchCom.read_all()\n",
    "        print(response.decode(\"utf-8\"))\n",
    "        \n",
    "setattr(SwitchComm, 'setSwitch', setSwitch)"
   ]
  },
  {
   "cell_type": "code",
   "execution_count": null,
   "metadata": {},
   "outputs": [],
   "source": [
    "def closeSwitch(self):\n",
    "    \"\"\" Closes the communication serial port to the switch.\n",
    "    \"\"\"\n",
    "    self.switchCom.close()\n",
    "    \n",
    "setattr(SwitchComm, 'closeSwitch', closeSwitch)"
   ]
  },
  {
   "cell_type": "code",
   "execution_count": null,
   "metadata": {},
   "outputs": [],
   "source": [
    "# inputSwitch = SwitchComm(comValue='COM1')"
   ]
  },
  {
   "cell_type": "markdown",
   "metadata": {},
   "source": [
    "## Multiplier"
   ]
  },
  {
   "cell_type": "code",
   "execution_count": null,
   "metadata": {},
   "outputs": [],
   "source": [
    "class MultBankComm:\n",
    "    writeCode = '2'  # The code which indicates to the Arduino that the instruction is a write operation.  For instance, mult 23 could respond to `23 2 400 500`\n",
    "    blinkCode = '1'  # The code which indicates to the Arduino that the instruction is a blink request.  For instance, mult 23 could respond to `23 1`\n",
    "    iMaster = 255    # It is expected that the Multiplier at the head has the number 255."
   ]
  },
  {
   "cell_type": "code",
   "execution_count": null,
   "metadata": {},
   "outputs": [],
   "source": [
    "def __init__(self, comValue='COM_'):\n",
    "    \"\"\" Intializes communications with a Multiplier Bank.\n",
    "    \n",
    "    Args:\n",
    "        comValue (str): The COM Port that the head multiplier resides at.  Ex 'COM4'    \n",
    "    \n",
    "    \"\"\"\n",
    "    self.multBankComm = serial.Serial()\n",
    "    self.multBankComm = comValue\n",
    "    self.multBankComm.close()\n",
    "    self.multBankComm.open()\n",
    "    time.sleep(0.5)\n",
    "    response =  self.multBankComm.read_all()\n",
    "    print(response.decode(\"utf-8\"))\n",
    "    \n",
    "setattr(MultBankComm, '__init__', __init__)"
   ]
  },
  {
   "cell_type": "code",
   "execution_count": null,
   "metadata": {},
   "outputs": [],
   "source": [
    "def setMult(idNum, v1, v2, verbose=False):\n",
    "    \"\"\" Sets the VGA and PS values for a Multiplier\n",
    "    \n",
    "    Args:\n",
    "        idNum (int): target multiplier ID number.\n",
    "        v1 (int): VGA in range [0-1023]\n",
    "        v2 (int): PS in range [0-1023]\n",
    "        verbose (bool): whether or not print return information from the head multiplier.\n",
    "    \"\"\"\n",
    "    self.multBankComm.flushInput()\n",
    "    # TODO Should this be np.clip(xxx, 0, 1023)\n",
    "    v1Out = np.clip(v1Out, 1, 1023)\n",
    "    v2Out = np.clip(v2Out, 1, 1023)\n",
    "    outString = \" \".join((str(idNum), writeCode, str(v1Out), str(v2Out)))    # \"10 2 300 1023\"\n",
    "    self.multBankComm.write(str.encode(outString))\n",
    "    if verbose:\n",
    "        time.sleep(1)\n",
    "        response = self.multBankComm.read_all()\n",
    "        print(response.decode(\"utf-8\"))\n",
    "        \n",
    "setattr(MultBankComm, 'setMult', setMult)"
   ]
  },
  {
   "cell_type": "code",
   "execution_count": null,
   "metadata": {},
   "outputs": [],
   "source": [
    "def setMultBank(self, data, verbose=False):\n",
    "    \"\"\" Sets a bunch of Multipliers.\n",
    "    \n",
    "    Args:\n",
    "        data (dict): expected to be a dictionary of the form `{multID: [v1,v2], multID: [v1,v2], ... }`\n",
    "    \"\"\"\n",
    "    for iMult, vals in data.items():\n",
    "        v1, v2 = vals\n",
    "        self.setMCU(iMult, v1, v2, verbose)\n",
    "        time.sleep(0.2)\n",
    "        \n",
    "setattr(MultBankComm, 'setMultBank', setMultBank)"
   ]
  },
  {
   "cell_type": "code",
   "execution_count": null,
   "metadata": {},
   "outputs": [],
   "source": [
    "def blinkMult(self, multID, verbose=False):\n",
    "    \"\"\" Blinks a multiplier.\n",
    "    \n",
    "    Args:\n",
    "        multID (int): the target multiplier\n",
    "    \"\"\"\n",
    "    self.multBankComm.flushInput()\n",
    "    outString = \" \".join((str(multID), blinkCode))\n",
    "    self.multBankComm.write(str.encode(outString))\n",
    "    if verbose:\n",
    "        time.sleep(2)\n",
    "        response = self.multBankComm.read_all()\n",
    "        print(response.decode(\"utf-8\"))\n",
    "        \n",
    "setattr(MultBankComm, 'blinkMult', blinkMult)"
   ]
  },
  {
   "cell_type": "code",
   "execution_count": null,
   "metadata": {},
   "outputs": [],
   "source": [
    "def blinkAll(self, multIDs, verbose=False):\n",
    "    \"\"\" Blinks all multipliers.\n",
    "    \n",
    "    Note that the head multiplier is prepended to the list.\n",
    "    \n",
    "    Args:\n",
    "        multIDs (list of ints): the IDs of the target multlipliers.\n",
    "    \"\"\"\n",
    "    allIDs = [iMaster] + multIDs \n",
    "    for multID in allIDs:\n",
    "        self.blinkMCU(multID, verbose)\n",
    "        time.sleep(5.5) # Needed wait time to allow MCU to return to listenting state.\n",
    "\n",
    "setattr(MultBankComm, 'blinkAll', blinkAll)"
   ]
  },
  {
   "cell_type": "code",
   "execution_count": null,
   "metadata": {},
   "outputs": [],
   "source": [
    "def closeMultBank(self):\n",
    "    \"\"\" Closes the Serial Port associated with this multiplier bank.\n",
    "    \"\"\"\n",
    "    self.multBankComm.close()\n",
    "    \n",
    "setattr(MultBankComm, 'closeMultBank', closeMultBank)"
   ]
  },
  {
   "cell_type": "markdown",
   "metadata": {},
   "source": [
    "## VNA"
   ]
  },
  {
   "cell_type": "code",
   "execution_count": null,
   "metadata": {},
   "outputs": [],
   "source": [
    "class VNAComm:\n",
    "    pass"
   ]
  },
  {
   "cell_type": "code",
   "execution_count": null,
   "metadata": {},
   "outputs": [],
   "source": [
    "def __init__(self):\n",
    "    rm = pyvisa.ResourceManager()\n",
    "    resources = rm.list_resources()\n",
    "    inst = rm.open_resource(resources[0])\n",
    "    name = inst.query('*IDN?')\n",
    "    print(name)\n",
    "    if True:\n",
    "        self.vna = inst\n",
    "\n",
    "setattr(VNAComm, '__init__', __init__)"
   ]
  },
  {
   "cell_type": "code",
   "execution_count": null,
   "metadata": {},
   "outputs": [],
   "source": [
    "def getS21at45(self):\n",
    "    \"\"\"\n",
    "    VNA state 8\n",
    "    \"\"\"\n",
    "    self.vna.write('MMEM:STOR:FDAT \"d:/dummy.csv\"')\n",
    "    result = self.vna.query('MMEM:TRAN? \"d:/dummy.csv\"')\n",
    "    impArray = pd.read_csv(StringIO(result), skiprows = 2).to_numpy()\n",
    "    r = impArray[round((len(impArray)-1)/2), 1]\n",
    "    i = impArray[round((len(impArray)-1)/2), 2]\n",
    "    return r + 1j*i\n",
    "\n",
    "setattr(VNAComm, 'getS21at45', getS21at45)"
   ]
  },
  {
   "cell_type": "code",
   "execution_count": null,
   "metadata": {},
   "outputs": [],
   "source": [
    "def getS21AllAt45(self):\n",
    "    \"\"\"\n",
    "    For use with VNA State 7\n",
    "    \"\"\"\n",
    "    self.vna.write('MMEM:STOR:FDAT \"d:/dummy.csv\"')\n",
    "    result = self.vna.query('MMEM:TRAN? \"d:/dummy.csv\"')\n",
    "    impArray = pd.read_csv(StringIO(result), skiprows = 2).to_numpy()\n",
    "    rvs = impArray[:,1]\n",
    "    ivs = impArray[:,2]\n",
    "    zvs = rvs + 1j*ivs\n",
    "    zAve = np.mean(zvs)\n",
    "    zSTD = np.std(zvs)\n",
    "    return (zAve, zSTD)\n",
    "\n",
    "setattr(VNAComm, 'getS21AllAt45', getS21AllAt45)"
   ]
  },
  {
   "cell_type": "code",
   "execution_count": null,
   "metadata": {},
   "outputs": [],
   "source": [
    "def getS21freq(self):\n",
    "    self.vna.write('MMEM:STOR:FDAT \"d:/dummy.csv\"')\n",
    "    result = self.vna.query('MMEM:TRAN? \"d:/dummy.csv\"')\n",
    "    impArray = pd.read_csv(StringIO(result), skiprows = 2).to_numpy()\n",
    "    r = impArray[range(len(impArray)), 1]\n",
    "    i = impArray[range(len(impArray)), 2]\n",
    "    return r + 1j*i\n",
    "\n",
    "setattr(VNAComm, 'getS21freq', getS21freq)"
   ]
  },
  {
   "cell_type": "code",
   "execution_count": null,
   "metadata": {},
   "outputs": [],
   "source": [
    "def closeVNA(self):\n",
    "    self.vna.close()\n",
    "    \n",
    "setattr(VNAComm, 'closeVNA', closeVNA)"
   ]
  },
  {
   "cell_type": "code",
   "execution_count": null,
   "metadata": {},
   "outputs": [],
   "source": []
  },
  {
   "cell_type": "code",
   "execution_count": null,
   "metadata": {},
   "outputs": [],
   "source": []
  },
  {
   "cell_type": "markdown",
   "metadata": {},
   "source": [
    "## ExperimentalSetup"
   ]
  },
  {
   "cell_type": "code",
   "execution_count": null,
   "metadata": {},
   "outputs": [],
   "source": [
    "class ExperimentalSetup:\n",
    "    pass\n",
    "\n",
    "def __init__(self, inSwitchComm, outSwitchCommm, multBankComm, vnaCommm, n=5):\n",
    "    self.inSwitchComm = inSwitchComm\n",
    "    self.outSwitchComm = outSwitchComm\n",
    "    self.multBankComm = multBankComm\n",
    "    self.vnaComm = vnaComm\n",
    "    self.n = n\n",
    "    \n",
    "setattr(ExperimentalSetup, \"__init__\", __init__)"
   ]
  },
  {
   "cell_type": "code",
   "execution_count": null,
   "metadata": {},
   "outputs": [],
   "source": [
    "def setMults(psVals, vgaVals, physNumbers):\n",
    "    if type(psVals) == int and type(vgaVals) == int:\n",
    "        if type(physNumbers) == int:\n",
    "            self.multBankComm.setMult(physNumbers, vgaVals, psVals)\n",
    "        else:\n",
    "            for physNum in physNumbers:\n",
    "                self.multBankComm.setMult(physNum, vgaVals, psVals)\n",
    "    else:\n",
    "        for physNum, vgaVal, psVal in zip(physNumbers, vgaVals, psVals):\n",
    "            self.multBankComm.setMult(physNum, vgaVal, psVal)\n",
    "            \n",
    "setattr(ExperimentalSetup, \"setMults\", setMults)"
   ]
  },
  {
   "cell_type": "code",
   "execution_count": null,
   "metadata": {},
   "outputs": [],
   "source": [
    "def measureSMatrix(delay=0):\n",
    "    data = np.zeros((n,n), dtype=np.complex)\n",
    "    for iOut in range(n):\n",
    "        self.outSwitchComm.setSwitch(iOut+1)\n",
    "        for iIn in range(n):\n",
    "            self.inSwitchComm.setSwitch(iIn+1)\n",
    "            time.sleep(delay)\n",
    "            data[iOut, iIn] = self.vnaComm.getS21AllAt45()\n",
    "    return data\n",
    "\n",
    "setattr(ExperimentalSetup, \"measureSMatrix\", measureSMatrix)"
   ]
  },
  {
   "cell_type": "code",
   "execution_count": null,
   "metadata": {},
   "outputs": [],
   "source": []
  }
 ],
 "metadata": {
  "kernelspec": {
   "display_name": "Python 3",
   "language": "python",
   "name": "python3"
  },
  "language_info": {
   "codemirror_mode": {
    "name": "ipython",
    "version": 3
   },
   "file_extension": ".py",
   "mimetype": "text/x-python",
   "name": "python",
   "nbconvert_exporter": "python",
   "pygments_lexer": "ipython3",
   "version": "3.8.5"
  }
 },
 "nbformat": 4,
 "nbformat_minor": 4
}
