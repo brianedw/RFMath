{
 "cells": [
  {
   "cell_type": "markdown",
   "metadata": {},
   "source": [
    "#### imports and constants"
   ]
  },
  {
   "cell_type": "code",
   "execution_count": null,
   "metadata": {
    "colab": {
     "base_uri": "https://localhost:8080/"
    },
    "id": "9lDSJmvIoZmJ",
    "outputId": "cf7e53fc-d0ba-4f81-9d6a-d6880968542e"
   },
   "outputs": [],
   "source": [
    "# !pip install scikit-rf"
   ]
  },
  {
   "cell_type": "code",
   "execution_count": null,
   "metadata": {},
   "outputs": [],
   "source": [
    "# !{sys.executable} -m pip install scikit-rf"
   ]
  },
  {
   "cell_type": "code",
   "execution_count": null,
   "metadata": {},
   "outputs": [],
   "source": [
    "import os, sys"
   ]
  },
  {
   "cell_type": "code",
   "execution_count": null,
   "metadata": {
    "id": "g4cIibe7GAHc"
   },
   "outputs": [],
   "source": [
    "import skrf as rf\n",
    "import numpy as np\n",
    "from math import *"
   ]
  },
  {
   "cell_type": "code",
   "execution_count": null,
   "metadata": {},
   "outputs": [],
   "source": [
    "from Miller import MillerBuilder"
   ]
  },
  {
   "cell_type": "code",
   "execution_count": null,
   "metadata": {
    "id": "o4NECoPnMjs5"
   },
   "outputs": [],
   "source": [
    "pi = np.pi\n",
    "deg = 2*pi/360"
   ]
  },
  {
   "cell_type": "markdown",
   "metadata": {
    "id": "4MY12zFpWeuu"
   },
   "source": [
    "# Scikit-RF Network Building"
   ]
  },
  {
   "cell_type": "markdown",
   "metadata": {},
   "source": [
    "Scikit-RF networks are represent collections of microwave components and are mathematically described by their S-Params.  The network object can be created mathematically or by importing experimental data.\n",
    "\n",
    "Within this code, we\n",
    "- define several elementary network generators: ports, attenuators, multipliers, couplers, and MZIs\n",
    "- create functions (Network Combiners) which can glue these networks together in trivial configurations.\n",
    "- create functions (Network Builders) which use generators and combiners to create and assmebled complex networks such as the Miller Archicture.\n",
    "\n",
    "There is a rather subtle point here.  The Network Builders are designed using a Functional paradigm.  The Network Builders are designed to take \"functions\" as their inputs, which will either retrieve an existing smaller network model or generate a new one.  This provides a tremendous amount of flexibility as these functions could potentially be referencing an evolving model of an experiment, generating Monte-Carlo style variates, or just generating the nominal devices for checking of correctness.  The argument which is supplied to these functions is a location tag which designates what kind of element it is and where it is located within the network.  The function can then do with that tag what it wishes.\n",
    "\n",
    "Several examples are given within this notebook for trivial generators that show correctness and the use cases are expanded upon later.\n"
   ]
  },
  {
   "cell_type": "markdown",
   "metadata": {
    "id": "8A4beN3elHSw"
   },
   "source": [
    "## Device Definitions"
   ]
  },
  {
   "cell_type": "markdown",
   "metadata": {},
   "source": [
    "Defines a series of functions which generate theoretical `network` objects."
   ]
  },
  {
   "cell_type": "markdown",
   "metadata": {
    "heading_collapsed": "true"
   },
   "source": [
    "### Port"
   ]
  },
  {
   "cell_type": "markdown",
   "metadata": {},
   "source": [
    "SciKit-RF expects ports o have the word \"port\" as part of their name.  The information which follows is irrelavant so long as it is unique within the local network.  The ordering of the ports with regards to SParams comes from their order of introduction within the connections list and has nothing to do with their name."
   ]
  },
  {
   "cell_type": "code",
   "execution_count": null,
   "metadata": {},
   "outputs": [],
   "source": [
    "def BuildPort(freq, loc=()):\n",
    "    # loc expected to be of the form (\"P\", loc, i) where loc is from the superseding object ('Uh', 'V', etc) and is expected to be internally unique to the generating object.\n",
    "    network = rf.Circuit.Port(freq, 'port'+str(loc), z0=50)\n",
    "    return network"
   ]
  },
  {
   "cell_type": "markdown",
   "metadata": {},
   "source": [
    "As described above, making a matched load (as opposed to a port) only requires that we not use \"port\" in the network name."
   ]
  },
  {
   "cell_type": "code",
   "execution_count": null,
   "metadata": {},
   "outputs": [],
   "source": [
    "def BuildTrashPort(freq, loc=()):\n",
    "    # loc expected to be of the form (\"P\", loc, i) where loc is from the superseding object ('Uh', 'V', etc) and is expected to be internally unique to the generating object.\n",
    "    network = rf.Circuit.Port(freq, 'trash'+str(loc), z0=50)\n",
    "    return network"
   ]
  },
  {
   "cell_type": "markdown",
   "metadata": {
    "heading_collapsed": "true"
   },
   "source": [
    "### Attenuator"
   ]
  },
  {
   "cell_type": "code",
   "execution_count": null,
   "metadata": {
    "id": "aFqxXi_JENQO"
   },
   "outputs": [],
   "source": [
    "def BuildAtten(T, freq, reciprocal=False, loc=()):\n",
    "    \"\"\"\n",
    "    Simple Attenuator model.  Transmitted amplitude is scaled by 'T'.\n",
    "    \"\"\"\n",
    "    Z_0 = 50.\n",
    "    label = str(loc)\n",
    "    nFreqs = len(freq)\n",
    "    S21 = T\n",
    "    S = np.zeros((nFreqs, 2, 2), dtype=np.complex)\n",
    "    S[:, 1, 0] = S21\n",
    "    if reciprocal:\n",
    "        S[:, 0, 1] = S21\n",
    "    attenNetwork = rf.Network(name=label, frequency=freq, z0=Z_0, s=S)\n",
    "    return attenNetwork"
   ]
  },
  {
   "cell_type": "code",
   "execution_count": null,
   "metadata": {},
   "outputs": [],
   "source": [
    "freq = rf.Frequency(start=40, stop=50, npoints=51, unit='mhz', sweep_type='lin')\n",
    "att = BuildAtten(0.7, freq, reciprocal=False, loc=(\"att\",1))"
   ]
  },
  {
   "cell_type": "code",
   "execution_count": null,
   "metadata": {},
   "outputs": [],
   "source": [
    "att"
   ]
  },
  {
   "cell_type": "code",
   "execution_count": null,
   "metadata": {},
   "outputs": [],
   "source": [
    "att.s[0]"
   ]
  },
  {
   "cell_type": "markdown",
   "metadata": {
    "heading_collapsed": "true"
   },
   "source": [
    "### Multiplier"
   ]
  },
  {
   "cell_type": "code",
   "execution_count": null,
   "metadata": {},
   "outputs": [],
   "source": [
    "def BuildMultiplier(Tc, freq, loc=()):\n",
    "    \"\"\"\n",
    "    Simple Multiplier model.  Transmitted amplitude is scaled by 'T'.\n",
    "    \"\"\"\n",
    "    Z_0 = 50.\n",
    "    label = str(loc)\n",
    "    nFreqs = len(freq)\n",
    "    S21 = Tc\n",
    "    S = np.zeros((nFreqs, 2, 2), dtype=np.complex)\n",
    "    S[:, 1, 0] = S21\n",
    "    multNetwork = rf.Network(name=label, frequency=freq, z0=Z_0, s=S)\n",
    "    return multNetwork"
   ]
  },
  {
   "cell_type": "code",
   "execution_count": null,
   "metadata": {},
   "outputs": [],
   "source": [
    "freq = rf.Frequency(start=40, stop=50, npoints=51, unit='mhz', sweep_type='lin')\n",
    "Tc = 0.7*np.exp(1j*pi*0.3)\n",
    "mult = BuildMultiplier(Tc, freq, loc=('Mult', 1, 2))"
   ]
  },
  {
   "cell_type": "code",
   "execution_count": null,
   "metadata": {},
   "outputs": [],
   "source": [
    "mult"
   ]
  },
  {
   "cell_type": "code",
   "execution_count": null,
   "metadata": {},
   "outputs": [],
   "source": [
    "mult.s[0]"
   ]
  },
  {
   "cell_type": "markdown",
   "metadata": {
    "heading_collapsed": "true"
   },
   "source": [
    "### 3dB Coupler"
   ]
  },
  {
   "cell_type": "code",
   "execution_count": null,
   "metadata": {},
   "outputs": [],
   "source": [
    "def Build3dBCoupler(freq, couplerConv=\"LC\", loc=()):\n",
    "    \"\"\"\n",
    "        This generates the scalar SParameters (not dispersive) 3dB Coupler.\n",
    "\n",
    "        The MZI consists of two 3dB couplers with two phase shifters.  There are\n",
    "        many possible designs and conventions.  Here we use the following:\n",
    "        \n",
    "        The 3dB couplers have the SParams\n",
    "        [[0,0,a,b],\n",
    "         [0,0,b,a],\n",
    "         [a,b,0,0],\n",
    "         [b,a,0,0]]\n",
    "        and the number scheme:\n",
    "        1 |---| 3\n",
    "            X    \n",
    "        2 |---| 4\n",
    "        In option `couplerConv = 'LC'`, these are `a = -1j/sqrt(2)`, `b = -1/sqrt(2)`.  \n",
    "        In option  `couplerConv = 'ideal'` these are `a = -1j/sqrt(2)`, `b = 1/sqrt(2)`.\n",
    "    \"\"\"\n",
    "    Z_0 = 50.\n",
    "    label = str(loc)\n",
    "    \n",
    "    nFreqs = len(freq)\n",
    "    if couplerConv == 'LC':\n",
    "        a = -1j/sqrt(2)\n",
    "        b = -1/sqrt(2)\n",
    "    elif couplerConv == 'ideal':\n",
    "        a = -1j/sqrt(2)\n",
    "        b = 1/sqrt(2)\n",
    "    else:\n",
    "        raise TypeError(\"couplerConv should be either 'ideal' or 'LC'\")\n",
    "\n",
    "    S31, S32 = a, b\n",
    "    S41, S42 = b, a     \n",
    "\n",
    "    S = np.zeros((nFreqs, 4, 4), dtype=np.complex)\n",
    "    S[:, 2, 0] = S31\n",
    "    S[:, 3, 0] = S41\n",
    "    S[:, 2, 1] = S32\n",
    "    S[:, 3, 1] = S42\n",
    "    S[:, 0, 2] = S31\n",
    "    S[:, 1, 2] = S41\n",
    "    S[:, 0, 3] = S32\n",
    "    S[:, 1, 3] = S42\n",
    "    coupNetwork = rf.Network(name=label, frequency=freq, z0=Z_0, s=S)\n",
    "    return coupNetwork"
   ]
  },
  {
   "cell_type": "code",
   "execution_count": null,
   "metadata": {},
   "outputs": [],
   "source": [
    "freq = rf.Frequency(start=40, stop=50, npoints=51, unit='mhz', sweep_type='lin')\n",
    "coup = Build3dBCoupler(freq, loc=(\"C\", 1, 2))"
   ]
  },
  {
   "cell_type": "code",
   "execution_count": null,
   "metadata": {},
   "outputs": [],
   "source": [
    "coup"
   ]
  },
  {
   "cell_type": "code",
   "execution_count": null,
   "metadata": {},
   "outputs": [],
   "source": [
    "coup.s[0]"
   ]
  },
  {
   "cell_type": "markdown",
   "metadata": {},
   "source": [
    "### 5 Port Splitter"
   ]
  },
  {
   "cell_type": "code",
   "execution_count": null,
   "metadata": {},
   "outputs": [],
   "source": [
    "def Build5PortSplitter(freq, loc=()):\n",
    "    \"\"\"\n",
    "        This generates the scalar SParameters (not dispersive) 5 port splitter.\n",
    "\n",
    "        The coupler has the SParams\n",
    "        [[0,a,a,a,a,a],\n",
    "         [a,0,0,0,0,0],\n",
    "         [a,0,0,0,0,0],\n",
    "         [a,0,0,0,0,0],\n",
    "         [a,0,0,0,0,0],\n",
    "         [a,0,0,0,0,0]]\n",
    "        where a = sqrt(1/5).  The numbering scheme is\n",
    "        \n",
    "          |---| 2\n",
    "          |---| 3\n",
    "        1 |---| 4\n",
    "          |---| 5\n",
    "          |---| 6\n",
    "    \"\"\"\n",
    "    Z_0 = 50.\n",
    "    label = str(loc)\n",
    "    \n",
    "    nFreqs = len(freq)\n",
    "    a = np.sqrt(1/5)\n",
    "    \n",
    "    proto = np.array([[0,a,a,a,a,a],\n",
    "                      [a,0,0,0,0,0],\n",
    "                      [a,0,0,0,0,0],\n",
    "                      [a,0,0,0,0,0],\n",
    "                      [a,0,0,0,0,0],\n",
    "                      [a,0,0,0,0,0]])\n",
    "\n",
    "    S = np.zeros((nFreqs, 6, 6), dtype=np.complex)\n",
    "    S[:] = proto.reshape((1,6,6))\n",
    "    coupNetwork = rf.Network(name=label, frequency=freq, z0=Z_0, s=S)\n",
    "    return coupNetwork"
   ]
  },
  {
   "cell_type": "code",
   "execution_count": null,
   "metadata": {},
   "outputs": [],
   "source": [
    "freq = rf.Frequency(start=40, stop=50, npoints=51, unit='mhz', sweep_type='lin')\n",
    "coup = Build5PortSplitter(freq, loc=(\"C\", 1, 2))"
   ]
  },
  {
   "cell_type": "code",
   "execution_count": null,
   "metadata": {},
   "outputs": [],
   "source": [
    "coup"
   ]
  },
  {
   "cell_type": "code",
   "execution_count": null,
   "metadata": {},
   "outputs": [],
   "source": [
    "coup.s[0]"
   ]
  },
  {
   "cell_type": "code",
   "execution_count": null,
   "metadata": {},
   "outputs": [],
   "source": [
    "(np.matmul(coup.s[0], [1, 0, 0, 0, 0, 0])**2).sum()"
   ]
  },
  {
   "cell_type": "markdown",
   "metadata": {
    "heading_collapsed": "true"
   },
   "source": [
    "### MZI"
   ]
  },
  {
   "cell_type": "markdown",
   "metadata": {
    "heading_collapsed": "true"
   },
   "source": [
    "#### MZI From Func"
   ]
  },
  {
   "cell_type": "code",
   "execution_count": null,
   "metadata": {
    "hidden": true,
    "id": "GlAxraKZXgdE"
   },
   "outputs": [],
   "source": [
    "def BuildMZI(theta, phi, freq, couplerConv=\"LC\", reciprocal=False, loc=()):\n",
    "    \"\"\"\n",
    "        This generates the scalar SParameters (not dispersive) for an MZI.  By\n",
    "        default it is \"forward only,\" however, if reciprocal=True, then it will work\n",
    "        in reverse as well.\n",
    "\n",
    "        The MZI consists of two 3dB couplers with two phase shifters.  There are\n",
    "        many possible designs and conventions.  Here we use the following:\n",
    "        \n",
    "        The 3dB couplers have the SParams\n",
    "        [[0,0,a,b],\n",
    "         [0,0,b,a],\n",
    "         [a,b,0,0],\n",
    "         [b,a,0,0]]\n",
    "        and the number scheme:\n",
    "        1 |---| 3\n",
    "            X    \n",
    "        2 |---| 4\n",
    "        In option `couplerConv = 'LC'`, these are `a = -1j/sqrt(2)`, `b = -1/sqrt(2)`.  \n",
    "        In option  `couplerConv = 'ideal'` these are `a = -1j/sqrt(2)`, `b = 1/sqrt(2)`.\n",
    "\n",
    "        The two phase shifters have the transmissions\n",
    "        T1 = exp(i*(phi + theta))\n",
    "        T2 = exp(i*(phi - theta))\n",
    "\n",
    "        Together, they yield a device with the following number scheme.\n",
    "\n",
    "        1 |---| - [T1] - |---| 3\n",
    "            X              X    \n",
    "        2 |---| - [T2] - |---| 4\n",
    "    \"\"\"\n",
    "    Z_0 = 50.\n",
    "    label = str(loc)\n",
    "    \n",
    "    nFreqs = len(freq)\n",
    "    if couplerConv == 'LC':\n",
    "        S31 = -1j * np.sin(theta) * np.exp(1j*phi)\n",
    "        S41 =  1j * np.cos(theta) * np.exp(1j*phi)\n",
    "        S32 =  1j * np.cos(theta) * np.exp(1j*phi)\n",
    "        S42 =  1j * np.sin(theta) * np.exp(1j*phi)\n",
    "    elif couplerConv == 'ideal':\n",
    "        S31 = -1j * np.sin(theta) * np.exp(1j*phi)\n",
    "        S41 = -1j * np.cos(theta) * np.exp(1j*phi)\n",
    "        S32 = -1j * np.cos(theta) * np.exp(1j*phi)\n",
    "        S42 =  1j * np.sin(theta) * np.exp(1j*phi)\n",
    "    else:\n",
    "        raise TypeError(\"couplerConv should be either 'ideal' or 'LC'\")\n",
    "\n",
    "    S = np.zeros((nFreqs, 4, 4), dtype=np.complex)\n",
    "    S[:, 2, 0] = S31\n",
    "    S[:, 3, 0] = S41\n",
    "    S[:, 2, 1] = S32\n",
    "    S[:, 3, 1] = S42\n",
    "    if reciprocal:\n",
    "        S[:, 0, 2] = S31\n",
    "        S[:, 1, 2] = S41\n",
    "        S[:, 0, 3] = S32\n",
    "        S[:, 1, 3] = S42\n",
    "    mziNetwork = rf.Network(name=label, frequency=freq, z0=Z_0, s=S)\n",
    "    return mziNetwork"
   ]
  },
  {
   "cell_type": "code",
   "execution_count": null,
   "metadata": {},
   "outputs": [],
   "source": [
    "freq = rf.Frequency(start=40, stop=50, npoints=51, unit='mhz', sweep_type='lin')\n",
    "mzi1 = BuildMZI(0.3*pi, -0.4*pi, freq, couplerConv=\"LC\", loc=(\"X\",2))"
   ]
  },
  {
   "cell_type": "code",
   "execution_count": null,
   "metadata": {},
   "outputs": [],
   "source": [
    "mzi1"
   ]
  },
  {
   "cell_type": "code",
   "execution_count": null,
   "metadata": {},
   "outputs": [],
   "source": [
    "mzi1.s[0]"
   ]
  },
  {
   "cell_type": "markdown",
   "metadata": {
    "heading_collapsed": "true"
   },
   "source": [
    "#### MZI From Components"
   ]
  },
  {
   "cell_type": "code",
   "execution_count": null,
   "metadata": {},
   "outputs": [],
   "source": [
    "def BuildMZIFromComps(TcData, freq, CouplerBuilder, MultBuilder, couplerConv='LC', loc=()):\n",
    "    \"\"\"\n",
    "    Generates an MZI using a Coupler Builder and a Multiplier Builder.  Local networks\n",
    "    are generated usng\n",
    "    \n",
    "    (Tc1, Tc2) = TcData\n",
    "    coup1 = CouplerBuilder(freq, couplerConv=couplerConv, loc=\"coup_L\")\n",
    "    multTop = MultBuilder(Tc1, freq, loc=\"mult_T\")\n",
    "    multBot = MultBuilder(Tc2, freq, loc=\"mult_B\")\n",
    "    coup2 = CouplerBuilder(freq, couplerConv=couplerConv, loc=\"coup_R\")\n",
    "    \n",
    "    and then assmebled into an MZI network and returned.\n",
    "    \n",
    "    \"\"\"\n",
    "    \n",
    "    Z_0 = 50.\n",
    "    label = str(loc)\n",
    "    \n",
    "    (Tc1, Tc2) = TcData\n",
    "    coup1 = CouplerBuilder(freq, couplerConv=couplerConv, loc=\"coup_L\")\n",
    "    multTop = MultBuilder(Tc1, freq, loc=\"mult_T\")\n",
    "    multBot = MultBuilder(Tc2, freq, loc=\"mult_B\")\n",
    "    coup2 = CouplerBuilder(freq, couplerConv=couplerConv, loc=\"coup_R\")\n",
    "    \n",
    "    ports = [rf.Circuit.Port(freq, 'port_'+str(i), z0=Z_0) for i in range(4)]\n",
    "    conns = [ [(ports[0], 0), (coup1, 0)], [(ports[1], 0), (coup1, 1)],  # Input Ports to coup1\n",
    "              [(coup1, 2), (multTop, 0)], [(coup1, 3), (multBot, 0)],    # coup1 to multipliers\n",
    "              [(multTop, 1), (coup2, 0)], [(multBot, 1), (coup2, 1)],    # multipliers to coup2\n",
    "              [(coup2, 2), (ports[2], 0)], [(coup2, 3), (ports[3], 0)]]  # coup2 to Output Ports\n",
    "    cir = rf.Circuit(conns)\n",
    "    net = cir.network\n",
    "    net.name = label\n",
    "    return net"
   ]
  },
  {
   "cell_type": "code",
   "execution_count": null,
   "metadata": {},
   "outputs": [],
   "source": [
    "freq = rf.Frequency(start=40, stop=50, npoints=51, unit='mhz', sweep_type='lin')\n",
    "theta, phi = 0.3*pi, -0.4*pi\n",
    "P1 = phi + theta\n",
    "P2 = phi - theta\n",
    "(Tc1, Tc2) = np.exp(1j*P1), np.exp(1j*P2)\n",
    "mzi2 = BuildMZIFromComps((Tc1, Tc2), freq, Build3dBCoupler, BuildMultiplier, couplerConv='LC', loc='mzi1')"
   ]
  },
  {
   "cell_type": "code",
   "execution_count": null,
   "metadata": {},
   "outputs": [],
   "source": [
    "mzi2"
   ]
  },
  {
   "cell_type": "code",
   "execution_count": null,
   "metadata": {},
   "outputs": [],
   "source": [
    "mzi2.s[0]"
   ]
  },
  {
   "cell_type": "markdown",
   "metadata": {},
   "source": [
    "## Network Combiners"
   ]
  },
  {
   "cell_type": "markdown",
   "metadata": {},
   "source": [
    "These functions are used to take a several `network` objects and assemble them together to form a new `network` object."
   ]
  },
  {
   "cell_type": "markdown",
   "metadata": {
    "heading_collapsed": "true"
   },
   "source": [
    "### Cascading"
   ]
  },
  {
   "cell_type": "code",
   "execution_count": null,
   "metadata": {
    "id": "anKlZ8Gm2l6N"
   },
   "outputs": [],
   "source": [
    "def CascadeNetworks(networks, loc=()):\n",
    "    \"\"\"\n",
    "    Given several nxn networks where the first n/2 ports are \"input\" and the\n",
    "    last n/2 are \"output\", it will stack these circuits in the order presented.\n",
    "    \"\"\"\n",
    "    protoNet = networks[0]\n",
    "    freq = protoNet.frequency\n",
    "    (nFreqs, nPorts, nPorts) = protoNet.s.shape\n",
    "    NN = nPorts//2\n",
    "    Z_0 = 50.\n",
    "    label = str(loc)\n",
    "\n",
    "    \"Input Ports\"\n",
    "    inPorts = [BuildPort(freq, (\"P\", loc, i)) for i in range(0, NN)]\n",
    "    \"Output Ports\"\n",
    "    outPorts = [BuildPort(freq, (\"P\", loc, i)) for i in range(NN, 2*NN)]\n",
    "\n",
    "    \"Simple Connections\"\n",
    "    portInConnections = [ [(inPorts[i], 0), (networks[0], i)] for i in range(NN)]\n",
    "    portOutConnections = [ [(networks[-1], NN+i), (outPorts[i], 0)] for i in range(NN)]\n",
    "\n",
    "    intraConnections = []\n",
    "    for j in range(len(networks)-1):\n",
    "        conns = [ [(networks[j], NN+i), (networks[j+1], i)] for i in range(NN)]\n",
    "        intraConnections.extend(conns)\n",
    "\n",
    "    \"Intra MZI Connections\"\n",
    "    cnx = [*portInConnections, *intraConnections, *portOutConnections]\n",
    "\n",
    "    \"Build the Circuit\"\n",
    "    cir = rf.Circuit(cnx)\n",
    "    net = cir.network\n",
    "    net.name = label\n",
    "    return net"
   ]
  },
  {
   "cell_type": "code",
   "execution_count": null,
   "metadata": {},
   "outputs": [],
   "source": [
    "freq = rf.Frequency(start=40, stop=50, npoints=51, unit='mhz', sweep_type='lin')\n",
    "mzi1 = BuildMZI(0.3*pi, -0.4*pi, freq, couplerConv=\"LC\", loc=\"X1\")\n",
    "mzi2 = BuildMZI(0.3*pi, -0.4*pi, freq, couplerConv=\"LC\", loc=\"X2\")\n",
    "CascadeNetworks([mzi1, mzi2], loc=\"casc1\")"
   ]
  },
  {
   "cell_type": "markdown",
   "metadata": {
    "heading_collapsed": "true"
   },
   "source": [
    "### Stacking"
   ]
  },
  {
   "cell_type": "code",
   "execution_count": null,
   "metadata": {},
   "outputs": [],
   "source": [
    "def StackNetworks(networks, loc=\"\"):\n",
    "    \"\"\"\n",
    "    Given n two-port networks, it will stack these stack these to form a nxn diagonal network.\n",
    "    \"\"\"\n",
    "    NN = len(networks)\n",
    "    Z_0 = 50.\n",
    "    label = str(loc)\n",
    "    \n",
    "    freq = networks[0].frequency\n",
    "\n",
    "    \"Input Ports\"\n",
    "    inPorts = [BuildPort(freq, (\"P\", loc, i)) for i in range(0, NN)]\n",
    "    \"Output Ports\"\n",
    "    outPorts = [BuildPort(freq, (\"P\", loc, i)) for i in range(NN, 2*NN)]\n",
    "\n",
    "    \"Simple Connections\"\n",
    "    portInConnections =  [ [(inPorts[i], 0), (networks[i], 0)] for i in range(NN)]\n",
    "    portOutConnections = [ [(networks[i], 1), (outPorts[i], 0)] for i in range(NN)]\n",
    "\n",
    "    \"Intra MZI Connections\"\n",
    "    cnx = [*portInConnections, *portOutConnections]\n",
    "\n",
    "    \"Build the Circuit\"\n",
    "    cir = rf.Circuit(cnx)\n",
    "    net = cir.network\n",
    "    net.name = label\n",
    "    return net"
   ]
  },
  {
   "cell_type": "code",
   "execution_count": null,
   "metadata": {},
   "outputs": [],
   "source": [
    "freq = rf.Frequency(start=40, stop=50, npoints=51, unit='mhz', sweep_type='lin')\n",
    "mult1 = BuildMultiplier(.4-0.3j, freq, loc='top')\n",
    "mult2 = BuildMultiplier(.7+0.2j, freq, loc='bottom')\n",
    "StackNetworks([mult1, mult2], loc=\"stack1\")"
   ]
  },
  {
   "cell_type": "markdown",
   "metadata": {
    "id": "fcPZsdXptEWX"
   },
   "source": [
    "## Network Builders"
   ]
  },
  {
   "cell_type": "markdown",
   "metadata": {},
   "source": [
    "These functions create network objects which replicate Linear Algebra operations and elements."
   ]
  },
  {
   "cell_type": "markdown",
   "metadata": {
    "heading_collapsed": "true"
   },
   "source": [
    "### Miller Triangle"
   ]
  },
  {
   "cell_type": "code",
   "execution_count": null,
   "metadata": {},
   "outputs": [],
   "source": [
    "def BuildTriangleNetworkMZI(MZIBuilder, loc=(), n=5):\n",
    "    \"\"\"\n",
    "    Builds a triangular network of MZIs as a SciKit-RF Circuit.\n",
    "\n",
    "    Inputs:\n",
    "        PortBuilder:A function that yields an network object\n",
    "        MZIBuilder: A function such that mziNetwork = MZIBuilder(loc)\n",
    "                    See notes below.\n",
    "        label:      Every element in a SciKit-RF circuit must have a unique name.  If the circuit\n",
    "                    consists of multiple triangles, this can be used to separate them.\n",
    "\n",
    "    It is assumed an MZI's S-Params can be obtained using\n",
    "    S = MZIBuilder(theta, phi, freqValues, loc=(i_ch, i_in))\n",
    "    where theta,phi are in radians, freqValues are [f1, f2, ...] in Hz and the\n",
    "    returned S is of the shape (nFreqs, NPorts, NPorts).\n",
    "    \"\"\"\n",
    "    Z_0 = 50.\n",
    "    label = str(loc)\n",
    "        \n",
    "    \"All of the MZIs\"\n",
    "    MZITri1 = np.empty(shape=(n, n), dtype=object)\n",
    "    for i_ch in range(n):\n",
    "        for i_in in range(n - i_ch):\n",
    "            mziLoc = (\"MZI\", loc, i_ch, i_in)\n",
    "            mzi = MZIBuilder(mziLoc)\n",
    "            # mzi = rf.Network(name=\"MZI_\"+labelX+str(i_ch)+str(i_in), frequency=freq, z0=Z_0, s=s)\n",
    "            MZITri1[i_ch, i_in] = mzi\n",
    "            \n",
    "    freq = MZITri1[0,0].frequency\n",
    "            \n",
    "    \"Input Ports\"\n",
    "    inPorts = [BuildPort(freq, (\"P\", loc, i)) for i in range(0, n)]\n",
    "    \"Output Ports\"\n",
    "    outPorts = [BuildPort(freq, (\"P\", loc, i)) for i in range(n, 2*n)]\n",
    "    \"Absorbers on Input Side of Lower Row\"\n",
    "    trashPortsA = [BuildTrashPort(freq, (\"T\", loc, i)) for i in range(0, n)]\n",
    "    \"Absorbers on Output Side of Lower Row\"\n",
    "    trashPortsB = [BuildTrashPort(freq, (\"T\", loc, i)) for i in range(n, 2*n)]\n",
    "\n",
    "    \"Simple Connections\"\n",
    "    portInConnections = [ [(inPorts[i_in], 0), (MZITri1[0, i_in], 0)] for i_in in range(n)]\n",
    "    portOutConnections = [ [(MZITri1[i_ch, 0], 2), (outPorts[i_ch], 0)] for i_ch in range(n)]\n",
    "    trashConnectionsA  = [ [(MZITri1[i, 4-i], 1), (trashPortsA[i], 0)] for i in range(n)]\n",
    "    trashConnectionsB  = [ [(MZITri1[i, 4-i], 3), (trashPortsB[i], 0)] for i in range(n)]\n",
    "\n",
    "    \"Intra MZI Connections\"\n",
    "    mziConnectionsU = []\n",
    "    for i_ch in range(0, n-1):\n",
    "        for i_in in range(1, n-i_ch):\n",
    "            c = [(MZITri1[i_ch, i_in], 2), (MZITri1[i_ch, i_in-1], 1)]\n",
    "            mziConnectionsU.append(c)\n",
    "    mziConnectionsL = []\n",
    "    for i_ch in range(0, n-1):\n",
    "        for i_in in range(0, n-i_ch-1):\n",
    "            c = [(MZITri1[i_ch, i_in], 3), (MZITri1[i_ch+1, i_in], 0)]\n",
    "            mziConnectionsL.append(c)\n",
    "    cnx = [*portInConnections, *portOutConnections, *trashConnectionsA, *trashConnectionsB, *mziConnectionsU, *mziConnectionsL]\n",
    "\n",
    "    \"Build the Circuit\"\n",
    "    cir = rf.Circuit(cnx)\n",
    "    net = cir.network\n",
    "    net.name = label\n",
    "    return net"
   ]
  },
  {
   "cell_type": "code",
   "execution_count": null,
   "metadata": {},
   "outputs": [],
   "source": [
    "def BuildTriangleNetworkCoupMult(CouplerBuilder, MultBuilder, loc=(), n=5):\n",
    "    \"\"\"\n",
    "    Builds a triangular network of MZIs as a SciKit-RF Circuit.\n",
    "\n",
    "    Inputs:\n",
    "        theta_phi:  Of the form such that (theta, phi) = theta_phi[i_ch, i_in] is the theta, phi value \n",
    "                    for the MZI at (i_ch, i_in).\n",
    "        freq:       SciKit-RF frequency object.\n",
    "        MZIBuilder: A function such that S = MZIBuilder(theta, phi, freqValues, loc=(i_ch, i_in)).\n",
    "                    See notes below.\n",
    "        label:      Every element in a SciKit-RF circuit must have a unique name.  If the circuit\n",
    "                    consists of multiple triangles, this can be used to separate them.\n",
    "\n",
    "    It is assumed an MZI's S-Params can be obtained using\n",
    "    S = MZIBuilder(theta, phi, freqValues, loc=(i_ch, i_in))\n",
    "    where theta,phi are in radians, freqValues are [f1, f2, ...] in Hz and the\n",
    "    returned S is of the shape (nFreqs, NPorts, NPorts).\n",
    "    \"\"\"\n",
    "    Z_0 = 50.\n",
    "    label = str(loc)\n",
    "        \n",
    "    \"All of the MZIs\"\n",
    "    MultTri = np.empty(shape=(n, n, 2), dtype=object)\n",
    "    CoupTri = np.empty(shape=(n, n, 2), dtype=object)\n",
    "    internalConnections = []\n",
    "    for i_ch in range(n):\n",
    "        for i_in in range(n - i_ch):\n",
    "            if i_in < n - i_ch - 1:\n",
    "                coup1 = CouplerBuilder((\"C\", loc, i_ch, i_in, 0))\n",
    "                multTop = MultBuilder((\"M\", loc, i_ch, i_in, 0))\n",
    "                multBot = MultBuilder((\"M\", loc, i_ch, i_in, 1))\n",
    "                coup2 = CouplerBuilder((\"C\", loc, i_ch, i_in, 1))\n",
    "                MultTri[i_ch, i_in] = (multTop, multBot)\n",
    "                CoupTri[i_ch, i_in] = (coup1, coup2)\n",
    "                conns = [ [(coup1, 2), (multTop, 0)], [(coup1, 3), (multBot, 0)],    # coup1 to multipliers\n",
    "                          [(multTop, 1), (coup2, 0)], [(multBot, 1), (coup2, 1)]]    # multipliers to coup2\n",
    "                internalConnections.extend(conns)\n",
    "            else: # i_in == NN - i_ch - 1\n",
    "                multTop = MultBuilder((\"M\", loc, i_ch, i_in, 0))\n",
    "                MultTri[i_ch, i_in] = (multTop, None)\n",
    "                conns = []                                                          # No internal connections for a single component\n",
    "                internalConnections.extend(conns)\n",
    "    \n",
    "    freq = MultTri[0,0,0].frequency\n",
    "                \n",
    "    \"Input Ports\"\n",
    "    inPorts = [BuildPort(freq, (\"P\", loc, i)) for i in range(0, n)]\n",
    "    \"Output Ports\"\n",
    "    outPorts = [BuildPort(freq, (\"P\", loc, i)) for i in range(n, 2*n)]\n",
    "\n",
    "    \"Simple Connections\"\n",
    "    portInConnections = [ [(inPorts[i_in], 0), (CoupTri[0, i_in, 0], 0)] for i_in in range(n-1)]\n",
    "    portInConnections.append( [(inPorts[n-1], 0), (MultTri[0, n-1, 0], 0)])\n",
    "    portOutConnections = [ [(CoupTri[i_ch, 0, 1], 2), (outPorts[i_ch], 0)] for i_ch in range(n-1)]\n",
    "    portOutConnections.append( [(MultTri[n-1, 0, 0], 1), (outPorts[n-1], 0)])\n",
    "\n",
    "    \"Intra MZI Connections\"\n",
    "    mziConnectionsU = []\n",
    "    for i_ch in range(0, n-1):\n",
    "        for i_in in range(1, n-i_ch):\n",
    "            if i_in < n - i_ch - 1:\n",
    "                # Upper-Right Corner of MZI -> Lower-Left Corner of next MZI\n",
    "                c = [(CoupTri[i_ch, i_in, 1], 2), (CoupTri[i_ch, i_in-1, 0], 1)]\n",
    "            else:\n",
    "                # Lower Mult Output -> Lower-Left Corner of next MZI\n",
    "                c = [(MultTri[i_ch, i_in, 0], 1), (CoupTri[i_ch, i_in-1, 0], 1)]\n",
    "            mziConnectionsU.append(c)\n",
    "\n",
    "    mziConnectionsL = []\n",
    "    for i_ch in range(0, n-1):\n",
    "        for i_in in range(0, n-i_ch-1):\n",
    "            if i_in < n - i_ch - 1 - 1:\n",
    "                # Lower-Right Corner of MZI -> Upper-Left Corner of next MZI\n",
    "                c = [(CoupTri[i_ch, i_in, 1], 3), (CoupTri[i_ch+1, i_in, 0], 0)]\n",
    "            else:\n",
    "                # Lower-Right Corner of MZI -> Lower-Mult Input\n",
    "                c = [(CoupTri[i_ch, i_in, 1], 3), (MultTri[i_ch+1, i_in, 0], 0)]\n",
    "            mziConnectionsL.append(c)\n",
    "    \n",
    "    cnx = [*portInConnections, *portOutConnections, *internalConnections, *mziConnectionsU, *mziConnectionsL]\n",
    "\n",
    "    \"Build the Circuit\"\n",
    "    cir = rf.Circuit(cnx)\n",
    "    net = cir.network\n",
    "    net.name = label\n",
    "    return net"
   ]
  },
  {
   "cell_type": "markdown",
   "metadata": {
    "heading_collapsed": "true"
   },
   "source": [
    "### Vector"
   ]
  },
  {
   "cell_type": "code",
   "execution_count": null,
   "metadata": {
    "id": "QhtxDLFwnHS4"
   },
   "outputs": [],
   "source": [
    "def BuildVectorAttenuatorNetwork(AttBuilder, loc=(), n=5):\n",
    "    \"\"\"\n",
    "    Builds a linear network of multipliers as a SciKit-RF Circuit.\n",
    "\n",
    "    Inputs:\n",
    "        T:          A vector of transmission coefficients.\n",
    "        freq:       SciKit-RF frequency object.\n",
    "        MZIBuilder: A function such that S = MZIBuilder(theta, phi, freqValues, loc=(i_ch, i_in)).\n",
    "                    See notes below.\n",
    "        label:      Every element in a SciKit-RF circuit must have a unique name.  If the circuit\n",
    "                    consists of multiple triangles, this can be used to separate them.\n",
    "\n",
    "    It is assumed an MZI's S-Params can be obtained using\n",
    "    netObject = AttBuilder(t, freqValues, loc=i)\n",
    "    where 't' is in linear scale, freqValues are [f1, f2, ...] in Hz and the\n",
    "    returned S is of the shape (nFreqs, NPorts, NPorts).\n",
    "    \"\"\"\n",
    "    Z_0 = 50.\n",
    "    label = str(loc)\n",
    "\n",
    "    \"All of the Attenuators\"\n",
    "    attVec = np.empty(shape=(n,), dtype=object)\n",
    "    for i in range(n):\n",
    "        attLoc = (\"M\", loc, i)\n",
    "        att = AttBuilder(attLoc)\n",
    "        attVec[i] = att\n",
    "        \n",
    "    freq = attVec[0].frequency\n",
    "    \"Input Ports\"\n",
    "    inPorts = [BuildPort(freq, (\"P\", loc, i)) for i in range(0, n)]\n",
    "    \"Output Ports\"\n",
    "    outPorts = [BuildPort(freq, (\"P\", loc, i)) for i in range(n, 2*n)]\n",
    "\n",
    "    \"Simple Connections\"\n",
    "    portInConnections = [ [(inPorts[i], 0), (attVec[i], 0)] for i in range(n)]\n",
    "    portOutConnections = [ [(attVec[i], 1), (outPorts[i], 0)] for i in range(n)]\n",
    "\n",
    "    \"Intra MZI Connections\"\n",
    "    cnx = [*portInConnections, *portOutConnections]\n",
    "\n",
    "    \"Build the Network\"\n",
    "    cir = rf.Circuit(cnx)\n",
    "    net = cir.network\n",
    "    net.name = label\n",
    "    return net"
   ]
  },
  {
   "cell_type": "markdown",
   "metadata": {
    "heading_collapsed": "true"
   },
   "source": [
    "### Miller Complete"
   ]
  },
  {
   "cell_type": "code",
   "execution_count": null,
   "metadata": {},
   "outputs": [],
   "source": [
    "def BuildMillerNetwork(CouplerBuilder, MultBuilder, AttBuilder, n=5, labels=('Uh', 'S', 'V')):\n",
    "    \"\"\"\n",
    "    Assembles a full Miller Network consisting of two triangles and a vector of attenuators.\n",
    "    \"\"\"\n",
    "    UhNet = BuildTriangleNetworkCoupMult(CouplerBuilder, MultBuilder, loc=labels[0], n=n)\n",
    "    SNet = BuildVectorAttenuatorNetwork(AttBuilder, loc=labels[1])\n",
    "    VNet = BuildTriangleNetworkCoupMult(CouplerBuilder, MultBuilder, loc=labels[2], n=n)\n",
    "    millerNet = CascadeNetworks([UhNet, SNet, VNet])\n",
    "    return millerNet"
   ]
  },
  {
   "cell_type": "markdown",
   "metadata": {},
   "source": [
    "### Label Generation"
   ]
  },
  {
   "cell_type": "markdown",
   "metadata": {
    "heading_collapsed": "true"
   },
   "source": [
    "#### Miller"
   ]
  },
  {
   "cell_type": "code",
   "execution_count": null,
   "metadata": {},
   "outputs": [],
   "source": [
    "def MillerTriangleMultLocs(n, loc):\n",
    "    \"\"\"\n",
    "    Generates all location signatures for all Multipliers in a Miller Triangle.\n",
    "    \"\"\"\n",
    "    multLocs = []\n",
    "    for i_ch in range(n):\n",
    "        for i_in in range(n - i_ch):\n",
    "            for side in range(2):\n",
    "                multLocs.append((\"M\", loc, i_ch, i_in, side))\n",
    "    return multLocs"
   ]
  },
  {
   "cell_type": "code",
   "execution_count": null,
   "metadata": {},
   "outputs": [],
   "source": [
    "MillerTriangleMultLocs(3, \"Uh\")"
   ]
  },
  {
   "cell_type": "code",
   "execution_count": null,
   "metadata": {},
   "outputs": [],
   "source": [
    "def MillerTriangleMultLocsX(n, loc):\n",
    "    \"\"\"\n",
    "    Generates all location signatures for all Multipliers in a Miller Triangle,\n",
    "    taking into account that the bottom row consists of only one multiplier.\n",
    "    \"\"\"\n",
    "    multLocs = []\n",
    "    for i_ch in range(n):\n",
    "        for i_in in range(n - i_ch):\n",
    "            if i_in < n - i_ch - 1:\n",
    "                nSides = 2\n",
    "            else: # i_in == NN - i_ch - 1\n",
    "                nSides = 1\n",
    "            for side in range(nSides):\n",
    "                multLocs.append((\"M\", loc, i_ch, i_in, side))\n",
    "    return multLocs"
   ]
  },
  {
   "cell_type": "code",
   "execution_count": null,
   "metadata": {},
   "outputs": [],
   "source": [
    "MillerTriangleMultLocsX(3, 'Uh')"
   ]
  },
  {
   "cell_type": "code",
   "execution_count": null,
   "metadata": {},
   "outputs": [],
   "source": [
    "def MillerTriangleCoupLocs(n, loc):\n",
    "    \"\"\"\n",
    "    Generates all location signatures for all 3dB Couplers in a Miller Triangle.\n",
    "    \"\"\"\n",
    "    coupLocs = []\n",
    "    for i_ch in range(n):\n",
    "        for i_in in range(n - i_ch):\n",
    "            for side in range(2):\n",
    "                coupLocs.append((\"C\", loc, i_ch, i_in, side))\n",
    "    return coupLocs"
   ]
  },
  {
   "cell_type": "code",
   "execution_count": null,
   "metadata": {},
   "outputs": [],
   "source": [
    "MillerTriangleCoupLocs(3, \"Uh\")"
   ]
  },
  {
   "cell_type": "code",
   "execution_count": null,
   "metadata": {},
   "outputs": [],
   "source": [
    "def MillerTriangleCoupLocsX(n, loc):\n",
    "    \"\"\"\n",
    "    Generates all location signatures for all 3dB Couplers in a Miller Triangle,\n",
    "    taking into account that the bottom row consist of only one Multiplier and\n",
    "    no couplers.\n",
    "    \"\"\"\n",
    "    coupLocs = []\n",
    "    for i_ch in range(n):\n",
    "        for i_in in range(n - i_ch - 1):\n",
    "            for side in range(2):\n",
    "                coupLocs.append((\"C\", loc, i_ch, i_in, side))\n",
    "    return coupLocs"
   ]
  },
  {
   "cell_type": "code",
   "execution_count": null,
   "metadata": {},
   "outputs": [],
   "source": [
    "MillerTriangleCoupLocsX(3, \"Uh\")"
   ]
  },
  {
   "cell_type": "code",
   "execution_count": null,
   "metadata": {},
   "outputs": [],
   "source": [
    "def SVecAllMultLocs(n, loc):\n",
    "    \"\"\"\n",
    "    Generates all location signatures for all Multipliers in a Vector.\n",
    "    \"\"\"\n",
    "    multLocs = []\n",
    "    for i in range(n):\n",
    "        multLocs.append((\"M\", loc, i))\n",
    "    return multLocs"
   ]
  },
  {
   "cell_type": "code",
   "execution_count": null,
   "metadata": {},
   "outputs": [],
   "source": [
    "SVecAllMultLocs(3, 'S')"
   ]
  },
  {
   "cell_type": "code",
   "execution_count": null,
   "metadata": {},
   "outputs": [],
   "source": [
    "def MillerMultLocs(n, labels=('Uh','S','V')):\n",
    "    \"\"\"\n",
    "    Generates all location signatures for all Multipliers in a Miller Triangle.\n",
    "    \"\"\"\n",
    "    locs1 = MillerTriangleMultLocs(n, labels[0]) \n",
    "    locs2 = SVecAllMultLocs(n, labels[1])\n",
    "    locs3 = MillerTriangleMultLocs(n, labels[2])\n",
    "    return locs1 + locs2 + locs3"
   ]
  },
  {
   "cell_type": "code",
   "execution_count": null,
   "metadata": {},
   "outputs": [],
   "source": [
    "MillerMultLocs(3, ('Uh','S','V'))"
   ]
  },
  {
   "cell_type": "code",
   "execution_count": null,
   "metadata": {},
   "outputs": [],
   "source": [
    "def MillerMultLocsX(n, labels=('Uh','S','V')):\n",
    "    \"\"\"\n",
    "    Generates all location signatures for all Multipliers in the Miller Arch,\n",
    "    taking into account that the bottom row consists of only one multiplier.\n",
    "    \"\"\"\n",
    "    locs1 = MillerTriangleMultLocsX(n, labels[0]) \n",
    "    locs2 = SVecAllMultLocs(n, labels[1])\n",
    "    locs3 = MillerTriangleMultLocsX(n, labels[2])\n",
    "    return locs1 + locs2 + locs3"
   ]
  },
  {
   "cell_type": "code",
   "execution_count": null,
   "metadata": {},
   "outputs": [],
   "source": [
    "MillerMultLocsX(3, ('Uh','S','V'))"
   ]
  },
  {
   "cell_type": "code",
   "execution_count": null,
   "metadata": {},
   "outputs": [],
   "source": [
    "def MillerCoupLocs(n, labels=('Uh', 'V')):\n",
    "    \"\"\"\n",
    "    Generates all location signatures for all 3dB Couplers in the Miller Arch.\n",
    "    \"\"\"\n",
    "    locs1 = MillerTriangleCoupLocs(n, labels[0]) \n",
    "    locs3 = MillerTriangleCoupLocs(n, labels[1])\n",
    "    return locs1 + locs3"
   ]
  },
  {
   "cell_type": "code",
   "execution_count": null,
   "metadata": {},
   "outputs": [],
   "source": [
    "MillerCoupLocs(3, ('Uh','V'))"
   ]
  },
  {
   "cell_type": "code",
   "execution_count": null,
   "metadata": {},
   "outputs": [],
   "source": [
    "def MillerCoupLocsX(n, labels=('Uh', 'V')):\n",
    "    \"\"\"\n",
    "    Generates all location signatures for all Multipliers in the Miller Arch,\n",
    "    taking into account that the bottom row consists of only one multiplier.\n",
    "    \"\"\"\n",
    "    locs1 = MillerTriangleCoupLocsX(n, labels[0]) \n",
    "    locs3 = MillerTriangleCoupLocsX(n, labels[1])\n",
    "    return locs1 + locs3"
   ]
  },
  {
   "cell_type": "code",
   "execution_count": null,
   "metadata": {},
   "outputs": [],
   "source": [
    "MillerCoupLocsX(3, ('Uh','V'))"
   ]
  },
  {
   "cell_type": "markdown",
   "metadata": {},
   "source": [
    "#### New"
   ]
  },
  {
   "cell_type": "code",
   "execution_count": null,
   "metadata": {},
   "outputs": [],
   "source": [
    "def NewMultLocs(n, loc):\n",
    "    \"\"\"\n",
    "    Generates all location signatures for all Multipliers in a Miller Triangle.\n",
    "    \"\"\"\n",
    "    multLocs = []\n",
    "    for i_out in range(n):\n",
    "        for i_in in range(n):\n",
    "            multLocs.append((\"M\", loc, i_in, i_out))\n",
    "    return multLocs"
   ]
  },
  {
   "cell_type": "markdown",
   "metadata": {},
   "source": [
    "### New Architecture"
   ]
  },
  {
   "cell_type": "code",
   "execution_count": null,
   "metadata": {},
   "outputs": [],
   "source": [
    "def BuildNewNetwork(Splitter5WayBuilder, MultBuilder, loc=(), n=5):\n",
    "    \"\"\"\n",
    "    Builds a network of Multipliers as a SciKit-RF Circuit.\n",
    "\n",
    "    Inputs:\n",
    "        MultBuilder: A function that yields an network object\n",
    "        Splitter5WayBuilder: A function such that mziNetwork = MZIBuilder(loc)\n",
    "                    See notes below.\n",
    "        label:      Every element in a SciKit-RF circuit must have a unique name.  If the circuit\n",
    "                    consists of multiple triangles, this can be used to separate them.\n",
    "\n",
    "    \"\"\"\n",
    "    Z_0 = 50.\n",
    "    label = str(loc)\n",
    "        \n",
    "    \"All of the Multipliers\"\n",
    "    multGrid = np.empty(shape=(n, n), dtype=object)\n",
    "    for i_out in range(n):\n",
    "        for i_in in range(n):\n",
    "            multLoc = (\"M\", loc, i_in, i_out)\n",
    "            mult = MultBuilder(multLoc)\n",
    "            multGrid[i_out, i_in] = mult\n",
    "            \n",
    "    freq = multGrid[0,0].frequency\n",
    "            \n",
    "    \"Input Ports\"\n",
    "    inPorts = [BuildPort(freq, (\"P\", loc, i)) for i in range(0, n)]\n",
    "    \"Output Ports\"\n",
    "    outPorts = [BuildPort(freq, (\"P\", loc, i)) for i in range(n, 2*n)]\n",
    "    \"ingress splitters\"\n",
    "    inSplitters = [Splitter5WayBuilder((\"Si\", loc, i)) for i in range(0, n)]\n",
    "    \"egress splitters\"\n",
    "    outSplitters = [Splitter5WayBuilder((\"So\", loc, i)) for i in range(0, n)]\n",
    "\n",
    "    \"Simple Connections\"\n",
    "    portInConnections = [ [(inPorts[i_in], 0), (inSplitters[i_in], 0)] for i_in in range(n)]\n",
    "    portOutConnections = [ [(outSplitters[i_out], 0), (outPorts[i_out], 0)] for i_out in range(n)]\n",
    "\n",
    "    \"Splitter to Mult to Splitter Connections\"\n",
    "    internalConnections = []\n",
    "    for i_in in range(0, n):\n",
    "        for i_out in range(0, n):\n",
    "            c1 = [(inSplitters[i_in], i_out+1), (multGrid[i_out, i_in], 0)]\n",
    "            c2 = [(multGrid[i_out, i_in], 1), (outSplitters[i_out], i_in+1)]\n",
    "            internalConnections.extend([c1, c2])\n",
    "    cnx = [*portInConnections, *portOutConnections, *internalConnections]\n",
    "\n",
    "    \"Build the Circuit\"\n",
    "    cir = rf.Circuit(cnx)\n",
    "    net = cir.network\n",
    "    net.name = label\n",
    "    return net"
   ]
  },
  {
   "cell_type": "markdown",
   "metadata": {
    "heading_collapsed": "true",
    "id": "syU5sYOcIy2i"
   },
   "source": [
    "## Data Conversions"
   ]
  },
  {
   "cell_type": "code",
   "execution_count": null,
   "metadata": {
    "id": "lx5POu6DJJIH"
   },
   "outputs": [],
   "source": [
    "def ConvertThetaPhiToTc(theta_phi):\n",
    "    \"\"\"\n",
    "    Converts an MZI Miller Triangle theta_phi array with shape (NN, NN, 2) to multiplier \n",
    "    Tc (ie Complex Transmission) array with shape (NN, NN, 2)  where \n",
    "    Tc[2,3,0] = T is the complex transmission of the top multiplier\n",
    "    at position (i_ch, i_in) = (2, 3).  Tc[2,3,1] would correspond to the bottom\n",
    "    multiplier.\n",
    "    \"\"\"\n",
    "    NN = theta_phi.shape[0]\n",
    "    Tc = np.full(shape=(NN, NN, 2), fill_value=np.nan, dtype=np.complex)\n",
    "    for i_ch in range(NN):\n",
    "        for i_in in range(NN - i_ch):\n",
    "            theta, phi = theta_phi[i_ch, i_in]\n",
    "            Ph1 = phi + theta\n",
    "            Ph2 = phi - theta\n",
    "            Tc[i_ch, i_in, 0] = np.exp(1j*Ph1)\n",
    "            Tc[i_ch, i_in, 1] = np.exp(1j*Ph2)\n",
    "    return Tc"
   ]
  },
  {
   "cell_type": "code",
   "execution_count": null,
   "metadata": {},
   "outputs": [],
   "source": [
    "def ConvertThetaPhiToTcX(theta_phi):\n",
    "    \"\"\"\n",
    "    Converts an MZI Miller Triangle theta_phi array with shape (NN, NN, 2) to multiplier \n",
    "    Tc (ie Complex Transmission) array with shape (NN, NN, 2)  where \n",
    "    Tc[2,3,0] = T is the complex transmission of the top multiplier\n",
    "    at position (i_ch, i_in) = (2, 3).  Tc[2,3,1] would correspond to the bottom\n",
    "    multiplier.\n",
    "    \n",
    "    Note that the bottom row does not contain MZIs, but rather straight multipliers.\n",
    "    As the ThetaPhi data was calculated for MZIs, the phase shift from the lack of \n",
    "    two 3dB couplers must be taken into account.\n",
    "    \"\"\"\n",
    "    NN = theta_phi.shape[0]\n",
    "    Tc = np.full(shape=(NN, NN, 2), fill_value=np.nan, dtype=np.complex)\n",
    "    for i_ch in range(NN):\n",
    "        for i_in in range(NN - i_ch):\n",
    "            theta, phi = theta_phi[i_ch, i_in]\n",
    "            Ph1 = phi + theta\n",
    "            Ph2 = phi - theta\n",
    "            if i_in < NN - i_ch - 1:\n",
    "                Tc[i_ch, i_in, 0] = np.exp(1j*Ph1)\n",
    "                Tc[i_ch, i_in, 1] = np.exp(1j*Ph2)\n",
    "            if i_in == NN - i_ch - 1:\n",
    "                Tc[i_ch, i_in, 0] = np.exp(1j*(Ph1+np.pi))\n",
    "    return Tc"
   ]
  },
  {
   "cell_type": "code",
   "execution_count": null,
   "metadata": {
    "id": "9w28ODlyLF0n"
   },
   "outputs": [],
   "source": [
    "def ConvertSToTc(sTerms):\n",
    "    \"\"\"\n",
    "    Converts a Miller Singular vector with shape (NN) to multiplier \n",
    "    Tc (ieComplex Transmission) array with shape (NN)  where \n",
    "    Tc[2] = T is the complex transmission of the third multiplier.\n",
    "    \"\"\"\n",
    "    NN = sTerms.shape[0]\n",
    "    Tc = np.full(shape=(NN, 2), fill_value=np.nan, dtype=np.complex)\n",
    "    for i in range(NN):\n",
    "        t = sTerms[i]\n",
    "        Tc[i] = t\n",
    "    return Tc"
   ]
  },
  {
   "cell_type": "code",
   "execution_count": null,
   "metadata": {
    "id": "9w28ODlyLF0n"
   },
   "outputs": [],
   "source": [
    "def ConvertSToPhTrDict(sTerms, loc):\n",
    "    \"\"\"\n",
    "    Converts an MZI S vector with shape (NN) to multiplier \n",
    "    PT (ie Phase-Transmission) array with shape (NN, 2)  where \n",
    "    PT[2] = (p, t) is the phase and transmission of the third multiplier.\n",
    "    \"\"\"\n",
    "    NN = sTerms.shape[0]\n",
    "    PhTr = np.zeros(shape=(NN, 2))\n",
    "    for i in range(NN):\n",
    "        Ph = 0.\n",
    "        Tr = sTerms[i]\n",
    "        PhTr[i, 0] = Ph\n",
    "        PhTr[i, 1] = Tr\n",
    "    return PT"
   ]
  },
  {
   "cell_type": "markdown",
   "metadata": {},
   "source": [
    "# Tests"
   ]
  },
  {
   "cell_type": "markdown",
   "metadata": {
    "heading_collapsed": "true",
    "id": "veJasfoQaxSw"
   },
   "source": [
    "## Miller Trial - MZI Based"
   ]
  },
  {
   "cell_type": "markdown",
   "metadata": {},
   "source": [
    "We begin with a passive kernel, defined below."
   ]
  },
  {
   "cell_type": "code",
   "execution_count": null,
   "metadata": {
    "id": "YdSI3XslkQto"
   },
   "outputs": [],
   "source": [
    "Ks = np.array([[-0.05+0.06j, -0.  -0.13j, -0.07-0.15j,  0.11+0.28j, -0.05-0.18j],\n",
    "               [-0.1 -0.19j, -0.3 -0.05j, -0.28+0.07j, -0.25+0.28j, -0.11-0.29j],\n",
    "               [ 0.21-0.18j, -0.08-0.14j,  0.03+0.2j , -0.23+0.24j, -0.06+0.32j],\n",
    "               [-0.29-0.31j,  0.12+0.09j,  0.08-0.02j,  0.31+0.12j, -0.22-0.18j],\n",
    "               [-0.18-0.06j,  0.08-0.21j,  0.25-0.18j, -0.26-0.1j ,  0.13+0.1j ]])"
   ]
  },
  {
   "cell_type": "markdown",
   "metadata": {},
   "source": [
    "Next, we perform a simple SVD on it."
   ]
  },
  {
   "cell_type": "code",
   "execution_count": null,
   "metadata": {
    "colab": {
     "base_uri": "https://localhost:8080/"
    },
    "id": "n3BCskDFlhF1",
    "outputId": "6c99c494-cb73-4649-bd45-505f677f3963"
   },
   "outputs": [],
   "source": [
    "V, S, Uh = np.linalg.svd(Ks)"
   ]
  },
  {
   "cell_type": "code",
   "execution_count": null,
   "metadata": {},
   "outputs": [],
   "source": [
    "V"
   ]
  },
  {
   "cell_type": "code",
   "execution_count": null,
   "metadata": {},
   "outputs": [],
   "source": [
    "S"
   ]
  },
  {
   "cell_type": "code",
   "execution_count": null,
   "metadata": {},
   "outputs": [],
   "source": [
    "Uh"
   ]
  },
  {
   "cell_type": "markdown",
   "metadata": {},
   "source": [
    "We create the MillerBuilder and use it to create theta, phi data for kernel."
   ]
  },
  {
   "cell_type": "code",
   "execution_count": null,
   "metadata": {
    "id": "-8RbhXIpynq_"
   },
   "outputs": [],
   "source": [
    "miller = MillerBuilder(couplerConv='LC', verbose=False)\n",
    "theta_phi1, sTerms, theta_phi2 = miller.ConvertKToMZI(Ks)"
   ]
  },
  {
   "cell_type": "markdown",
   "metadata": {},
   "source": [
    "For instance `theta_phi1[0,0] -> (theta, phi)` for the MZI at `i_ch=1`, `i_in=1`."
   ]
  },
  {
   "cell_type": "code",
   "execution_count": null,
   "metadata": {},
   "outputs": [],
   "source": [
    "theta_phi1.shape"
   ]
  },
  {
   "cell_type": "markdown",
   "metadata": {},
   "source": [
    "Next we define the three functions required by `BuildTriangleNetoworkMZI` and `BuildVectorAttenuatorNetwork`, namely `MZIBuilder`, and `AttBuilder`.  These two functions are each responsible for creating a scikit-rf network object.  They are supplied with a location tuple, which may be useful in their construction."
   ]
  },
  {
   "cell_type": "code",
   "execution_count": null,
   "metadata": {
    "id": "kJNZ1xLPelCt"
   },
   "outputs": [],
   "source": [
    "freq45 = rf.Frequency(start=45, stop=45, npoints=1, unit='mhz', sweep_type='lin')"
   ]
  },
  {
   "cell_type": "code",
   "execution_count": null,
   "metadata": {
    "id": "9wCChYQq1Oaz"
   },
   "outputs": [],
   "source": [
    "def MZIBuilder1(loc):\n",
    "    # loc expected to be of the form (\"MZI\", loc, i_ch, i_in) where loc is from the superseding object ('Uh', 'V', etc) and is expected to be internally unique to the generating object.\n",
    "    (_, locParent, i_ch, i_in) = loc\n",
    "    theta, phi = theta_phi1[i_ch, i_in] \n",
    "    network = BuildMZI(theta, phi, freq45, couplerConv=\"LC\", reciprocal=False, loc=loc)\n",
    "    return network"
   ]
  },
  {
   "cell_type": "code",
   "execution_count": null,
   "metadata": {},
   "outputs": [],
   "source": [
    "def MZIBuilder2(loc):\n",
    "    # loc expected to be of the form (\"MZI\", loc, i_ch, i_in) where loc is from the superseding object ('Uh', 'V', etc) and is expected to be internally unique to the generating object.\n",
    "    (_, locParent, i_ch, i_in) = loc\n",
    "    theta, phi = theta_phi2[i_ch, i_in] \n",
    "    network = BuildMZI(theta, phi, freq45, couplerConv=\"LC\", reciprocal=False, loc=loc)\n",
    "    return network"
   ]
  },
  {
   "cell_type": "code",
   "execution_count": null,
   "metadata": {},
   "outputs": [],
   "source": [
    "MZIBuilder1((\"MZI\", \"Uh\", 0, 0))"
   ]
  },
  {
   "cell_type": "code",
   "execution_count": null,
   "metadata": {},
   "outputs": [],
   "source": [
    "def AttBuilder(loc):\n",
    "    (_, locParent, i) = loc\n",
    "    T = S[i]\n",
    "    network = BuildAtten(T, freq45, reciprocal=False, loc=loc)\n",
    "    return network"
   ]
  },
  {
   "cell_type": "code",
   "execution_count": null,
   "metadata": {},
   "outputs": [],
   "source": [
    "AttBuilder((\"M\", 'S', 0))"
   ]
  },
  {
   "cell_type": "markdown",
   "metadata": {},
   "source": [
    "We then use these functions to construct the first triagular network and compare it to the desired transmission matrix determined via SVD."
   ]
  },
  {
   "cell_type": "code",
   "execution_count": null,
   "metadata": {},
   "outputs": [],
   "source": [
    "netTria1 = BuildTriangleNetworkMZI(MZIBuilder1, loc='Uh')\n",
    "TTria1 = netTria1.s[0, 5:, :5]"
   ]
  },
  {
   "cell_type": "code",
   "execution_count": null,
   "metadata": {
    "colab": {
     "base_uri": "https://localhost:8080/"
    },
    "id": "iFMAahHCgV_X",
    "outputId": "85ae27a5-2c23-4384-f40b-a43b39fa7e19"
   },
   "outputs": [],
   "source": [
    "np.allclose(TTria1, Uh)"
   ]
  },
  {
   "cell_type": "markdown",
   "metadata": {},
   "source": [
    "We do the same for the second triangle."
   ]
  },
  {
   "cell_type": "code",
   "execution_count": null,
   "metadata": {
    "id": "792afbjJs79e"
   },
   "outputs": [],
   "source": [
    "netTria2 = BuildTriangleNetworkMZI(MZIBuilder2, loc='V')\n",
    "TTria2 = netTria2.s[0, 5:, :5]\n",
    "TTria2"
   ]
  },
  {
   "cell_type": "code",
   "execution_count": null,
   "metadata": {
    "colab": {
     "base_uri": "https://localhost:8080/"
    },
    "id": "NFJSawb4kyns",
    "outputId": "2c5c65fc-4178-4eff-8eb0-3b7e7627ad5e"
   },
   "outputs": [],
   "source": [
    "np.allclose(TTria2, V)"
   ]
  },
  {
   "cell_type": "markdown",
   "metadata": {},
   "source": [
    "We do the same for the vector of attenuators."
   ]
  },
  {
   "cell_type": "code",
   "execution_count": null,
   "metadata": {
    "id": "IWvCZjhQr3lc"
   },
   "outputs": [],
   "source": [
    "netAtt = BuildVectorAttenuatorNetwork(AttBuilder, loc=\"S\")\n",
    "TAtt = netAtt.s[0, 5:, :5]\n",
    "TAtt"
   ]
  },
  {
   "cell_type": "code",
   "execution_count": null,
   "metadata": {
    "colab": {
     "base_uri": "https://localhost:8080/"
    },
    "id": "TdoIA2SVukC7",
    "outputId": "f1c16bef-cc29-4551-9d61-3ae03e097e94"
   },
   "outputs": [],
   "source": [
    "np.allclose(TAtt, np.diag(S))"
   ]
  },
  {
   "cell_type": "markdown",
   "metadata": {},
   "source": [
    "Finally, we can test that the three networks, when cascaded, reconstruct the original desired kernel."
   ]
  },
  {
   "cell_type": "code",
   "execution_count": null,
   "metadata": {
    "id": "MAQtvNla5JHE"
   },
   "outputs": [],
   "source": [
    "millerNet = CascadeNetworks([netTria1, netAtt, netTria2])"
   ]
  },
  {
   "cell_type": "code",
   "execution_count": null,
   "metadata": {
    "id": "XfbwEoAD5i-9"
   },
   "outputs": [],
   "source": [
    "T = millerNet.s[0, 5:, :5]\n",
    "T"
   ]
  },
  {
   "cell_type": "code",
   "execution_count": null,
   "metadata": {
    "colab": {
     "base_uri": "https://localhost:8080/"
    },
    "id": "GbgR05IH6PFm",
    "outputId": "74e900b6-04c6-4254-8659-44da28a2305f"
   },
   "outputs": [],
   "source": [
    "np.allclose(Ks, T)"
   ]
  },
  {
   "cell_type": "markdown",
   "metadata": {
    "heading_collapsed": "true",
    "id": "veJasfoQaxSw"
   },
   "source": [
    "## Miller Trial - Multipliers and 3dB Couplers"
   ]
  },
  {
   "cell_type": "markdown",
   "metadata": {},
   "source": [
    "We begin with a passive kernel, defined below."
   ]
  },
  {
   "cell_type": "code",
   "execution_count": null,
   "metadata": {
    "id": "YdSI3XslkQto"
   },
   "outputs": [],
   "source": [
    "Ks = np.array([[-0.05+0.06j, -0.  -0.13j, -0.07-0.15j,  0.11+0.28j, -0.05-0.18j],\n",
    "               [-0.1 -0.19j, -0.3 -0.05j, -0.28+0.07j, -0.25+0.28j, -0.11-0.29j],\n",
    "               [ 0.21-0.18j, -0.08-0.14j,  0.03+0.2j , -0.23+0.24j, -0.06+0.32j],\n",
    "               [-0.29-0.31j,  0.12+0.09j,  0.08-0.02j,  0.31+0.12j, -0.22-0.18j],\n",
    "               [-0.18-0.06j,  0.08-0.21j,  0.25-0.18j, -0.26-0.1j ,  0.13+0.1j ]])"
   ]
  },
  {
   "cell_type": "markdown",
   "metadata": {},
   "source": [
    "Next, we perform a simple SVD on it."
   ]
  },
  {
   "cell_type": "code",
   "execution_count": null,
   "metadata": {
    "colab": {
     "base_uri": "https://localhost:8080/"
    },
    "id": "n3BCskDFlhF1",
    "outputId": "6c99c494-cb73-4649-bd45-505f677f3963"
   },
   "outputs": [],
   "source": [
    "V, S, Uh = np.linalg.svd(Ks)"
   ]
  },
  {
   "cell_type": "code",
   "execution_count": null,
   "metadata": {},
   "outputs": [],
   "source": [
    "V"
   ]
  },
  {
   "cell_type": "code",
   "execution_count": null,
   "metadata": {},
   "outputs": [],
   "source": [
    "S"
   ]
  },
  {
   "cell_type": "code",
   "execution_count": null,
   "metadata": {},
   "outputs": [],
   "source": [
    "Uh"
   ]
  },
  {
   "cell_type": "markdown",
   "metadata": {},
   "source": [
    "We create the MillerBuilder and use it to create theta, phi data for kernel."
   ]
  },
  {
   "cell_type": "code",
   "execution_count": null,
   "metadata": {
    "id": "-8RbhXIpynq_"
   },
   "outputs": [],
   "source": [
    "miller = MillerBuilder(couplerConv='LC', verbose=False)\n",
    "theta_phi1, sTerms, theta_phi2 = miller.ConvertKToMZI(Ks)"
   ]
  },
  {
   "cell_type": "markdown",
   "metadata": {},
   "source": [
    "For instance `theta_phi1[0,0] -> (theta, phi)` for the MZI at `i_ch=1`, `i_in=1`."
   ]
  },
  {
   "cell_type": "markdown",
   "metadata": {},
   "source": [
    "Next we convert the Theta Phi data to Phase Transmission data.  This is trivial for ideal elements, but once non-ideal elements are involved, the multipliers might be responsible for making up the losses in the couplers."
   ]
  },
  {
   "cell_type": "code",
   "execution_count": null,
   "metadata": {
    "id": "nAsIfC7Ejw5r"
   },
   "outputs": [],
   "source": [
    "TcData1 = ConvertThetaPhiToTcX(theta_phi1)"
   ]
  },
  {
   "cell_type": "code",
   "execution_count": null,
   "metadata": {},
   "outputs": [],
   "source": [
    "TcData2 = ConvertThetaPhiToTcX(theta_phi2)"
   ]
  },
  {
   "cell_type": "markdown",
   "metadata": {},
   "source": [
    "Finally, we build the network of devices and examine the transmissive portion of the S-Matrix.  Indeed, we find that it is identical to the desired unitary matrix originally provided by the SVD above."
   ]
  },
  {
   "cell_type": "code",
   "execution_count": null,
   "metadata": {
    "id": "kJNZ1xLPelCt"
   },
   "outputs": [],
   "source": [
    "freq = rf.Frequency(start=45, stop=45, npoints=1, unit='mhz', sweep_type='lin')"
   ]
  },
  {
   "cell_type": "code",
   "execution_count": null,
   "metadata": {},
   "outputs": [],
   "source": [
    "def CouplerBuilder(loc):\n",
    "    return Build3dBCoupler(freq, loc=loc)"
   ]
  },
  {
   "cell_type": "code",
   "execution_count": null,
   "metadata": {},
   "outputs": [],
   "source": [
    "CouplerBuilder((\"C\", 'Uh', 0, 0, 0))"
   ]
  },
  {
   "cell_type": "code",
   "execution_count": null,
   "metadata": {},
   "outputs": [],
   "source": [
    "def MultBuilder1(loc):\n",
    "    (_, locParent, i_ch, i_in, side) = loc\n",
    "    Tc = TcData1[i_ch, i_in, side]\n",
    "    return BuildMultiplier(Tc, freq, loc)"
   ]
  },
  {
   "cell_type": "code",
   "execution_count": null,
   "metadata": {},
   "outputs": [],
   "source": [
    "def MultBuilder2(loc):\n",
    "    (_, locParent, i_ch, i_in, side) = loc\n",
    "    Tc = TcData2[i_ch, i_in, side]\n",
    "    return BuildMultiplier(Tc, freq, loc)"
   ]
  },
  {
   "cell_type": "code",
   "execution_count": null,
   "metadata": {},
   "outputs": [],
   "source": [
    "MultBuilder1((\"M\", 'Uh', 0, 0, 0))"
   ]
  },
  {
   "cell_type": "code",
   "execution_count": null,
   "metadata": {},
   "outputs": [],
   "source": [
    "def AttBuilder(loc):\n",
    "    (_, locParent, i) = loc\n",
    "    T = S[i]\n",
    "    network = BuildAtten(T, freq45, reciprocal=False, loc=loc)\n",
    "    return network"
   ]
  },
  {
   "cell_type": "code",
   "execution_count": null,
   "metadata": {},
   "outputs": [],
   "source": [
    "AttBuilder((\"M\", 'S', 0))"
   ]
  },
  {
   "cell_type": "code",
   "execution_count": null,
   "metadata": {},
   "outputs": [],
   "source": [
    "netTria1 = BuildTriangleNetworkCoupMult(CouplerBuilder, MultBuilder1, loc=\"1\", n=5)\n",
    "TTria1 = netTria1.s[0, 5:, :5]\n",
    "TTria1"
   ]
  },
  {
   "cell_type": "code",
   "execution_count": null,
   "metadata": {
    "colab": {
     "base_uri": "https://localhost:8080/"
    },
    "id": "iFMAahHCgV_X",
    "outputId": "85ae27a5-2c23-4384-f40b-a43b39fa7e19"
   },
   "outputs": [],
   "source": [
    "np.allclose(TTria1, Uh)"
   ]
  },
  {
   "cell_type": "markdown",
   "metadata": {},
   "source": [
    "We do the same for the second triangle."
   ]
  },
  {
   "cell_type": "code",
   "execution_count": null,
   "metadata": {
    "id": "792afbjJs79e"
   },
   "outputs": [],
   "source": [
    "netTria2 = BuildTriangleNetworkCoupMult(CouplerBuilder, MultBuilder2, loc=\"2\")\n",
    "TTria2 = netTria2.s[0, 5:, :5]\n",
    "TTria2"
   ]
  },
  {
   "cell_type": "code",
   "execution_count": null,
   "metadata": {
    "colab": {
     "base_uri": "https://localhost:8080/"
    },
    "id": "NFJSawb4kyns",
    "outputId": "2c5c65fc-4178-4eff-8eb0-3b7e7627ad5e"
   },
   "outputs": [],
   "source": [
    "np.allclose(TTria2, V)"
   ]
  },
  {
   "cell_type": "markdown",
   "metadata": {},
   "source": [
    "We do the same for the vector of attenuators."
   ]
  },
  {
   "cell_type": "code",
   "execution_count": null,
   "metadata": {
    "id": "IWvCZjhQr3lc"
   },
   "outputs": [],
   "source": [
    "netAtt = BuildVectorAttenuatorNetwork(AttBuilder, loc=\"S\")\n",
    "TAtt = netAtt.s[0, 5:, :5]\n",
    "TAtt"
   ]
  },
  {
   "cell_type": "code",
   "execution_count": null,
   "metadata": {
    "colab": {
     "base_uri": "https://localhost:8080/"
    },
    "id": "TdoIA2SVukC7",
    "outputId": "f1c16bef-cc29-4551-9d61-3ae03e097e94"
   },
   "outputs": [],
   "source": [
    "np.allclose(TAtt, np.diag(S))"
   ]
  },
  {
   "cell_type": "markdown",
   "metadata": {},
   "source": [
    "Finally, we can test that the three networks, when cascaded, reconstruct the original desired kernel."
   ]
  },
  {
   "cell_type": "code",
   "execution_count": null,
   "metadata": {
    "id": "MAQtvNla5JHE"
   },
   "outputs": [],
   "source": [
    "millerNet = CascadeNetworks([netTria1, netAtt, netTria2])"
   ]
  },
  {
   "cell_type": "code",
   "execution_count": null,
   "metadata": {
    "id": "XfbwEoAD5i-9"
   },
   "outputs": [],
   "source": [
    "T = millerNet.s[0, 5:, :5]"
   ]
  },
  {
   "cell_type": "code",
   "execution_count": null,
   "metadata": {
    "colab": {
     "base_uri": "https://localhost:8080/"
    },
    "id": "GbgR05IH6PFm",
    "outputId": "74e900b6-04c6-4254-8659-44da28a2305f"
   },
   "outputs": [],
   "source": [
    "np.allclose(Ks, T)"
   ]
  },
  {
   "cell_type": "code",
   "execution_count": null,
   "metadata": {},
   "outputs": [],
   "source": []
  },
  {
   "cell_type": "markdown",
   "metadata": {
    "heading_collapsed": "true",
    "id": "veJasfoQaxSw"
   },
   "source": [
    "## Miller Trial - Multipliers and 3dB Couplers - Full Architecture"
   ]
  },
  {
   "cell_type": "markdown",
   "metadata": {},
   "source": [
    "We begin with a passive kernel, defined below."
   ]
  },
  {
   "cell_type": "code",
   "execution_count": null,
   "metadata": {
    "id": "YdSI3XslkQto"
   },
   "outputs": [],
   "source": [
    "Ks = np.array([[-0.05+0.06j, -0.  -0.13j, -0.07-0.15j,  0.11+0.28j, -0.05-0.18j],\n",
    "               [-0.1 -0.19j, -0.3 -0.05j, -0.28+0.07j, -0.25+0.28j, -0.11-0.29j],\n",
    "               [ 0.21-0.18j, -0.08-0.14j,  0.03+0.2j , -0.23+0.24j, -0.06+0.32j],\n",
    "               [-0.29-0.31j,  0.12+0.09j,  0.08-0.02j,  0.31+0.12j, -0.22-0.18j],\n",
    "               [-0.18-0.06j,  0.08-0.21j,  0.25-0.18j, -0.26-0.1j ,  0.13+0.1j ]])"
   ]
  },
  {
   "cell_type": "markdown",
   "metadata": {},
   "source": [
    "Next, we perform a simple SVD on it."
   ]
  },
  {
   "cell_type": "code",
   "execution_count": null,
   "metadata": {
    "colab": {
     "base_uri": "https://localhost:8080/"
    },
    "id": "n3BCskDFlhF1",
    "outputId": "6c99c494-cb73-4649-bd45-505f677f3963"
   },
   "outputs": [],
   "source": [
    "V, S, Uh = np.linalg.svd(Ks)"
   ]
  },
  {
   "cell_type": "code",
   "execution_count": null,
   "metadata": {},
   "outputs": [],
   "source": [
    "V"
   ]
  },
  {
   "cell_type": "code",
   "execution_count": null,
   "metadata": {},
   "outputs": [],
   "source": [
    "S"
   ]
  },
  {
   "cell_type": "code",
   "execution_count": null,
   "metadata": {},
   "outputs": [],
   "source": [
    "Uh"
   ]
  },
  {
   "cell_type": "markdown",
   "metadata": {},
   "source": [
    "We create the MillerBuilder and use it to create theta, phi data for kernel."
   ]
  },
  {
   "cell_type": "code",
   "execution_count": null,
   "metadata": {
    "id": "-8RbhXIpynq_"
   },
   "outputs": [],
   "source": [
    "miller = MillerBuilder(couplerConv='LC', verbose=False)\n",
    "theta_phi1, sTerms, theta_phi2 = miller.ConvertKToMZI(Ks)"
   ]
  },
  {
   "cell_type": "markdown",
   "metadata": {},
   "source": [
    "For instance `theta_phi1[0,0] -> (theta, phi)` for the MZI at `i_ch=1`, `i_in=1`."
   ]
  },
  {
   "cell_type": "markdown",
   "metadata": {},
   "source": [
    "Next we convert the Theta Phi data to Phase Transmission data.  This is trivial for ideal elements, but once non-ideal elements are involved, the multipliers might be responsible for making up the losses in the couplers."
   ]
  },
  {
   "cell_type": "code",
   "execution_count": null,
   "metadata": {
    "id": "nAsIfC7Ejw5r"
   },
   "outputs": [],
   "source": [
    "TcData1 = ConvertThetaPhiToTcX(theta_phi1)"
   ]
  },
  {
   "cell_type": "code",
   "execution_count": null,
   "metadata": {},
   "outputs": [],
   "source": [
    "TcData2 = ConvertThetaPhiToTcX(theta_phi2)"
   ]
  },
  {
   "cell_type": "markdown",
   "metadata": {},
   "source": [
    "Finally, we build the network of devices and examine the transmissive portion of the S-Matrix.  Indeed, we find that it is identical to the desired unitary matrix originally provided by the SVD above."
   ]
  },
  {
   "cell_type": "code",
   "execution_count": null,
   "metadata": {
    "id": "kJNZ1xLPelCt"
   },
   "outputs": [],
   "source": [
    "freq = rf.Frequency(start=45, stop=45, npoints=1, unit='mhz', sweep_type='lin')"
   ]
  },
  {
   "cell_type": "code",
   "execution_count": null,
   "metadata": {},
   "outputs": [],
   "source": [
    "def CouplerBuilder(loc):\n",
    "    return Build3dBCoupler(freq, loc=loc)"
   ]
  },
  {
   "cell_type": "code",
   "execution_count": null,
   "metadata": {},
   "outputs": [],
   "source": [
    "CouplerBuilder((\"C\", 'Uh', 0, 0, 0))"
   ]
  },
  {
   "cell_type": "code",
   "execution_count": null,
   "metadata": {},
   "outputs": [],
   "source": [
    "def MultBuilder(loc):\n",
    "    (_, locParent, i_ch, i_in, side) = loc\n",
    "    if locParent == 'Uh':\n",
    "        Tc = TcData1[i_ch, i_in, side]\n",
    "    elif locParent == 'V':\n",
    "        Tc = TcData2[i_ch, i_in, side]\n",
    "    return BuildMultiplier(Tc, freq, loc)"
   ]
  },
  {
   "cell_type": "code",
   "execution_count": null,
   "metadata": {},
   "outputs": [],
   "source": [
    "MultBuilder((\"M\", 'Uh', 0, 0, 0))"
   ]
  },
  {
   "cell_type": "code",
   "execution_count": null,
   "metadata": {},
   "outputs": [],
   "source": [
    "def AttBuilder(loc):\n",
    "    (_, locParent, i) = loc\n",
    "    T = S[i]\n",
    "    network = BuildAtten(T, freq45, reciprocal=False, loc=loc)\n",
    "    return network"
   ]
  },
  {
   "cell_type": "code",
   "execution_count": null,
   "metadata": {},
   "outputs": [],
   "source": [
    "AttBuilder((\"M\", 'S', 0))"
   ]
  },
  {
   "cell_type": "code",
   "execution_count": null,
   "metadata": {},
   "outputs": [],
   "source": [
    "millerNet = BuildMillerNetwork(CouplerBuilder, MultBuilder, AttBuilder, n=5, labels=('Uh', 'S', 'V'))\n",
    "T = millerNet.s[0, 5:, :5]\n",
    "T"
   ]
  },
  {
   "cell_type": "code",
   "execution_count": null,
   "metadata": {
    "colab": {
     "base_uri": "https://localhost:8080/"
    },
    "id": "iFMAahHCgV_X",
    "outputId": "85ae27a5-2c23-4384-f40b-a43b39fa7e19"
   },
   "outputs": [],
   "source": [
    "np.allclose(T, Ks)"
   ]
  },
  {
   "cell_type": "code",
   "execution_count": null,
   "metadata": {},
   "outputs": [],
   "source": []
  },
  {
   "cell_type": "markdown",
   "metadata": {
    "id": "veJasfoQaxSw"
   },
   "source": [
    "## New Architecture Trial - Multipliers and 5 Port Splitters"
   ]
  },
  {
   "cell_type": "markdown",
   "metadata": {},
   "source": [
    "We begin with a passive kernel, defined below."
   ]
  },
  {
   "cell_type": "code",
   "execution_count": null,
   "metadata": {
    "id": "YdSI3XslkQto"
   },
   "outputs": [],
   "source": [
    "Ks = np.array([[-0.05+0.06j, -0.  -0.13j, -0.07-0.15j,  0.11+0.28j, -0.05-0.18j],\n",
    "               [-0.1 -0.19j, -0.3 -0.05j, -0.28+0.07j, -0.25+0.28j, -0.11-0.29j],\n",
    "               [ 0.21-0.18j, -0.08-0.14j,  0.03+0.2j , -0.23+0.24j, -0.06+0.32j],\n",
    "               [-0.29-0.31j,  0.12+0.09j,  0.08-0.02j,  0.31+0.12j, -0.22-0.18j],\n",
    "               [-0.18-0.06j,  0.08-0.21j,  0.25-0.18j, -0.26-0.1j ,  0.13+0.1j ]])"
   ]
  },
  {
   "cell_type": "code",
   "execution_count": null,
   "metadata": {
    "id": "kJNZ1xLPelCt"
   },
   "outputs": [],
   "source": [
    "freq = rf.Frequency(start=45, stop=45, npoints=1, unit='mhz', sweep_type='lin')"
   ]
  },
  {
   "cell_type": "code",
   "execution_count": null,
   "metadata": {},
   "outputs": [],
   "source": [
    "def SplitterBuilder(loc):\n",
    "    return Build5PortSplitter(freq, loc=loc)"
   ]
  },
  {
   "cell_type": "code",
   "execution_count": null,
   "metadata": {},
   "outputs": [],
   "source": [
    "SplitterBuilder((\"Sin\", 0, 0))"
   ]
  },
  {
   "cell_type": "code",
   "execution_count": null,
   "metadata": {},
   "outputs": [],
   "source": [
    "def MultBuilder(loc):\n",
    "    (_, locParent, i_in, i_out) = loc\n",
    "    Tc = Ks[i_out, i_in] * np.sqrt(5)**2\n",
    "    return BuildMultiplier(Tc, freq, loc)"
   ]
  },
  {
   "cell_type": "code",
   "execution_count": null,
   "metadata": {},
   "outputs": [],
   "source": [
    "MultBuilder((\"M\", \"X\", 0, 0))"
   ]
  },
  {
   "cell_type": "code",
   "execution_count": null,
   "metadata": {},
   "outputs": [],
   "source": [
    "newNet = BuildNewNetwork(SplitterBuilder, MultBuilder, loc=\"X\", n=5)\n",
    "T = newNet.s[0, 5:, :5]\n",
    "T"
   ]
  },
  {
   "cell_type": "code",
   "execution_count": null,
   "metadata": {},
   "outputs": [],
   "source": [
    "np.allclose(T, Ks)"
   ]
  },
  {
   "cell_type": "code",
   "execution_count": null,
   "metadata": {},
   "outputs": [],
   "source": []
  }
 ],
 "metadata": {
  "kernelspec": {
   "display_name": "Python 3",
   "language": "python",
   "name": "python3"
  },
  "language_info": {
   "codemirror_mode": {
    "name": "ipython",
    "version": 3
   },
   "file_extension": ".py",
   "mimetype": "text/x-python",
   "name": "python",
   "nbconvert_exporter": "python",
   "pygments_lexer": "ipython3",
   "version": "3.8.5"
  },
  "latex_envs": {
   "LaTeX_envs_menu_present": true,
   "autoclose": false,
   "autocomplete": true,
   "bibliofile": "biblio.bib",
   "cite_by": "apalike",
   "current_citInitial": 1,
   "eqLabelWithNumbers": true,
   "eqNumInitial": 1,
   "hotkeys": {
    "equation": "Ctrl-E",
    "itemize": "Ctrl-I"
   },
   "labels_anchors": false,
   "latex_user_defs": false,
   "report_style_numbering": false,
   "user_envs_cfg": false
  }
 },
 "nbformat": 4,
 "nbformat_minor": 4
}
