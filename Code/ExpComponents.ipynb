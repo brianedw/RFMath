{
 "cells": [
  {
   "cell_type": "markdown",
   "metadata": {
    "heading_collapsed": "true"
   },
   "source": [
    "#### Stock Imports"
   ]
  },
  {
   "cell_type": "code",
   "execution_count": null,
   "metadata": {},
   "outputs": [],
   "source": [
    "import os, sys"
   ]
  },
  {
   "cell_type": "code",
   "execution_count": null,
   "metadata": {},
   "outputs": [],
   "source": [
    "import importlib"
   ]
  },
  {
   "cell_type": "code",
   "execution_count": null,
   "metadata": {},
   "outputs": [],
   "source": [
    "import numpy as np\n",
    "import scipy as sp\n",
    "from scipy.optimize import root\n",
    "from scipy.interpolate import interp2d\n",
    "import itertools"
   ]
  },
  {
   "cell_type": "code",
   "execution_count": null,
   "metadata": {},
   "outputs": [],
   "source": [
    "import PIL"
   ]
  },
  {
   "cell_type": "code",
   "execution_count": null,
   "metadata": {},
   "outputs": [],
   "source": [
    "from scipy.ndimage import gaussian_filter\n",
    "from scipy import interpolate"
   ]
  },
  {
   "cell_type": "code",
   "execution_count": null,
   "metadata": {},
   "outputs": [],
   "source": [
    "import bokeh\n",
    "from bokeh.io import output_notebook\n",
    "from bokeh.plotting import figure, show\n",
    "output_notebook()\n",
    "from bokeh.palettes import Dark2\n",
    "bokeh.io.curdoc().theme = 'dark_minimal'\n",
    "palette = Dark2[8]*10"
   ]
  },
  {
   "cell_type": "code",
   "execution_count": null,
   "metadata": {},
   "outputs": [],
   "source": [
    "palette = Dark2[8]*10\n",
    "colors = itertools.cycle(palette)"
   ]
  },
  {
   "cell_type": "code",
   "execution_count": null,
   "metadata": {},
   "outputs": [],
   "source": [
    "import skrf as rf"
   ]
  },
  {
   "cell_type": "markdown",
   "metadata": {
    "heading_collapsed": "true"
   },
   "source": [
    "#### Custom Imports"
   ]
  },
  {
   "cell_type": "code",
   "execution_count": null,
   "metadata": {},
   "outputs": [],
   "source": [
    "from colorize import colorizeComplexArray"
   ]
  },
  {
   "cell_type": "code",
   "execution_count": null,
   "metadata": {},
   "outputs": [],
   "source": [
    "from UtilityMath import plotComplexArray, gaussian_filter_complex, complex2DPCA, complex2Dlstsq"
   ]
  },
  {
   "cell_type": "code",
   "execution_count": null,
   "metadata": {},
   "outputs": [],
   "source": [
    "mainQ =(__name__ == '__main__')\n",
    "mainQ"
   ]
  },
  {
   "cell_type": "markdown",
   "metadata": {},
   "source": [
    "# Multiplier"
   ]
  },
  {
   "cell_type": "markdown",
   "metadata": {
    "heading_collapsed": "true"
   },
   "source": [
    "## Exp Data Analysis"
   ]
  },
  {
   "cell_type": "markdown",
   "metadata": {},
   "source": [
    "Import golden samples and do analysis here."
   ]
  },
  {
   "cell_type": "code",
   "execution_count": null,
   "metadata": {},
   "outputs": [],
   "source": [
    "def pathData(i):\n",
    "    return\"../GoldenSamples/MultiplierSamples/LMC6492_64by64_\"+str(i)+\".txt\""
   ]
  },
  {
   "cell_type": "code",
   "execution_count": null,
   "metadata": {},
   "outputs": [],
   "source": [
    "nSamples = 5\n",
    "pcaComps = 2"
   ]
  },
  {
   "cell_type": "code",
   "execution_count": null,
   "metadata": {},
   "outputs": [],
   "source": [
    "dataSetRough = np.array([np.loadtxt(pathData(i+1), dtype=np.complex) \n",
    "                    for i in range(nSamples)])"
   ]
  },
  {
   "cell_type": "code",
   "execution_count": null,
   "metadata": {},
   "outputs": [],
   "source": [
    "dataSet = np.empty_like(dataSetRough)\n",
    "for i in range(len(dataSetRough)):\n",
    "    dataSet[i] = gaussian_filter_complex(dataSetRough[i], sigma=1.0, mode='nearest')"
   ]
  },
  {
   "cell_type": "code",
   "execution_count": null,
   "metadata": {},
   "outputs": [],
   "source": [
    "comps, baseWeights = complex2DPCA(dataSet, nComps=pcaComps)\n",
    "baseWeights"
   ]
  },
  {
   "cell_type": "code",
   "execution_count": null,
   "metadata": {},
   "outputs": [],
   "source": [
    "vgaSamplePoints = np.arange(0., 1024., 16.)\n",
    "psSamplePoints = np.arange(0., 1024., 16.)"
   ]
  },
  {
   "cell_type": "code",
   "execution_count": null,
   "metadata": {},
   "outputs": [],
   "source": [
    "dataBounds = ((psSamplePoints[0], psSamplePoints[-1]), (vgaSamplePoints[0], vgaSamplePoints[-1]))\n",
    "dataBounds"
   ]
  },
  {
   "cell_type": "code",
   "execution_count": null,
   "metadata": {},
   "outputs": [],
   "source": [
    "if mainQ: plotComplexArray(comps[0], maxRad=.05)"
   ]
  },
  {
   "cell_type": "code",
   "execution_count": null,
   "metadata": {},
   "outputs": [],
   "source": [
    "if mainQ: plotComplexArray(comps[1], maxRad=.05)"
   ]
  },
  {
   "cell_type": "code",
   "execution_count": null,
   "metadata": {},
   "outputs": [],
   "source": [
    "if mainQ: plotComplexArray(np.sum(comps * baseWeights.reshape(-1,1,1), axis=0), maxRad=1)"
   ]
  },
  {
   "cell_type": "markdown",
   "metadata": {
    "heading_collapsed": "true"
   },
   "source": [
    "## Define Element"
   ]
  },
  {
   "cell_type": "code",
   "execution_count": null,
   "metadata": {},
   "outputs": [],
   "source": [
    "class Multiplier:\n",
    "    \"\"\"\n",
    "    A Multiplier element, derived from physical measurements.  A Multiplier\n",
    "    takes a 45MHz signal at its input and produces a 45MHz signal at its output,\n",
    "    however, with a new phase and amplitude such that `A_out = c * A_in`.\n",
    "    \n",
    "    Each multiplier takes in two voltages which are specificied digitally as a\n",
    "    10bit integer [0-1023].  These control a VGA and a pair of phase shifters \n",
    "    and loosely correspond to amplitude and phase.\n",
    "    \n",
    "    There is enough variability between the fabricated multipliers that special\n",
    "    techniques are required to characterize their behavior.  Several components\n",
    "    were measured at an array of vga and ps inputs.  Principal Component\n",
    "    Analysis was then used to produce several mappings such that a device can be\n",
    "    adequately described as the weighted sum of those mappings.  Each device is\n",
    "    supplied with a set of `base weights`, which corresponds to the behavior of\n",
    "    average component, but can be individually tweaked as more information becomes\n",
    "    available.\n",
    "    \"\"\"\n",
    "    PCAComps = comps\n",
    "    baseWeights = baseWeights\n",
    "    vgaSPs = vgaSamplePoints\n",
    "    psSPs = psSamplePoints"
   ]
  },
  {
   "cell_type": "code",
   "execution_count": null,
   "metadata": {},
   "outputs": [],
   "source": [
    "def __init__(self, physNumber=0, loc=(), freq=45e6):\n",
    "    self.loc = loc                    # The location within the structure.  Assumed to be unique and hashable.\n",
    "    self.physNumber = physNumber      # The number assigned to the mult used for comms.\n",
    "    self.weights = np.zeros_like(baseWeights)               # the proportion of the various PCA components\n",
    "    self.field = None                 # the response of the multiplier as sparsely sampled array\n",
    "    self.F = None                     # A function such that F(psSetting, vgaSetting) -> Tr + 1j*Ti\n",
    "    self.vgaSetting = 512               # The VGA setting [0-1023]\n",
    "    self.psSetting = 512                # The Phase Shifter setting [0-1023]\n",
    "    self.TExpected = 0+0j             # The expected transmission coefficient.\n",
    "    self.setWeights(baseWeights)\n",
    "    self.setT(1+0j)\n",
    "\n",
    "setattr(Multiplier, \"__init__\", __init__)"
   ]
  },
  {
   "cell_type": "code",
   "execution_count": null,
   "metadata": {},
   "outputs": [],
   "source": [
    "def getRFNetwork(self):\n",
    "    \"\"\"\n",
    "    Returns a SciKit-RF network object with a name based on loc\n",
    "    \"\"\"\n",
    "    freq = rf.Frequency(start=45, stop=45, npoints=1, unit='mhz', sweep_type='lin')\n",
    "    S = np.zeros((len(freq), 2, 2), dtype=np.complex)\n",
    "    s21 = self.TExpected\n",
    "    S[:, 1, 0] = s21\n",
    "    net = rf.Network(name=str(self.loc), frequency=freq, z0=50, s=S)\n",
    "    return net\n",
    "\n",
    "setattr(Multiplier, \"getRFNetwork\", getRFNetwork)"
   ]
  },
  {
   "cell_type": "code",
   "execution_count": null,
   "metadata": {},
   "outputs": [],
   "source": [
    "def setSettings(self, psSetting, vgaSetting):\n",
    "    \"\"\"\n",
    "    Changes the PS and VGA inputs to new values.  Adjusts T to match.\n",
    "    \"\"\"\n",
    "    self.psSetting = psSetting\n",
    "    self.vgaSetting = vgaSetting\n",
    "    self.TExpected = self.F(psSetting, vgaSetting)\n",
    "    \n",
    "setattr(Multiplier, \"setSettings\", setSettings)"
   ]
  },
  {
   "cell_type": "code",
   "execution_count": null,
   "metadata": {
    "partialCollapse": true
   },
   "outputs": [],
   "source": [
    "# def setT(self, T):  # Old version based on scipy.optimize.root.  No obvious way to prevent it from taking large steps.\n",
    "#     \"\"\"\n",
    "#     Changes the expected T to new value.  Adjusts PS and VGA input to match.  \n",
    "#     Utilizes an inverse function to do so.\n",
    "#     \"\"\"\n",
    "#     self.TExpected = T\n",
    "#     startPos = [self.psSetting, self.vgaSetting]\n",
    "#     def FRoot(xvec):\n",
    "#         x, y = xvec\n",
    "#         rO = np.real(self.F(x, y) - self.TExpected)\n",
    "#         iO = np.imag(self.F(x, y) - self.TExpected)\n",
    "#         return np.array([rO, iO])\n",
    "#     try:\n",
    "#         soln = root(FRoot, startPos, method='broyden1', options={'factor':0.1, 'eps':0.001})\n",
    "#     except ValueError:\n",
    "#         print(\"starting over at [512, 512]\")\n",
    "#         soln = root(FRoot, [512, 512], options={'factor':0.1, 'eps':0.001})\n",
    "#     (ps, vga) = np.round(soln['x']).astype(np.int)\n",
    "#     self.psSetting = ps\n",
    "#     self.vgaSetting = vga\n",
    "    \n",
    "# setattr(Multiplier, \"setT\", setT)"
   ]
  },
  {
   "cell_type": "code",
   "execution_count": null,
   "metadata": {},
   "outputs": [],
   "source": [
    "def dumbRoot2D(F, start, bounds, target):\n",
    "    iBest = -1\n",
    "    offsets = np.array([[0,0], [1,0], [0,1], [-1,0], [0,-1]])\n",
    "    pos = np.array(start).copy()\n",
    "    ((xMin, xMax), (yMin, yMax)) = bounds\n",
    "    inBounds = lambda xv: xMin <= xv[0] <= xMax and yMin <= xv[1] <= yMax\n",
    "    onEdge = lambda xv: xv[0] == xMin or xv[0] == xMax or xv[1] == yMax # Does not include yMin\n",
    "    while iBest != 0:\n",
    "        evalPts = filter(inBounds, pos + offsets)\n",
    "        scores = [abs(F(*pt) - target) for pt in evalPts]\n",
    "        iBest = np.argmin(scores)\n",
    "        bestOffset = offsets[iBest]\n",
    "        bestScore = scores[iBest]\n",
    "        pos = pos + bestOffset\n",
    "    if onEdge(pos):\n",
    "        raise ValueError(\"Optimal soln found on edge.  Not trusting it.\")\n",
    "    if bestScore > 0.02:\n",
    "        raise ValueError(\"Optimal soln wasn't very good.  Not trusting it.\")\n",
    "    return (pos, bestScore)"
   ]
  },
  {
   "cell_type": "code",
   "execution_count": null,
   "metadata": {},
   "outputs": [],
   "source": [
    "def makeEvalDisk(n):\n",
    "    allPts = np.dstack(np.meshgrid(range(-(n//2), n//2+1), range(-(n//2), n//2+1))).reshape(-1,2) \n",
    "    allPts[(n**2)//2] = allPts[0]\n",
    "    allPts[0] = [0,0]\n",
    "    return allPts"
   ]
  },
  {
   "cell_type": "code",
   "execution_count": null,
   "metadata": {},
   "outputs": [],
   "source": [
    "offsets = np.array([[0,0], [1,0], [0,1], [-1,0], [0,-1]])\n",
    "offsets1 = makeEvalDisk(3)\n",
    "offsets2 = makeEvalDisk(5)"
   ]
  },
  {
   "cell_type": "code",
   "execution_count": null,
   "metadata": {},
   "outputs": [],
   "source": [
    "def dumbRoot2D(F, start, bounds, target, verbose=False):\n",
    "    iBest = -1\n",
    "    offsets0 = np.array([[0,0], [1,0], [0,1], [-1,0], [0,-1]])\n",
    "    offsets1 = makeEvalDisk(3)\n",
    "    offsets2 = makeEvalDisk(5)\n",
    "    pos = np.array(start).copy()\n",
    "    ((xMin, xMax), (yMin, yMax)) = bounds\n",
    "    inBounds = lambda xv: xMin <= xv[0] <= xMax and yMin <= xv[1] <= yMax\n",
    "    onEdge = lambda xv: xv[0] == xMin or xv[0] == xMax or xv[1] == yMax # Does not include yMin\n",
    "    posList = [pos]\n",
    "    posSet = {tuple(pos)}\n",
    "    offsets = offsets0\n",
    "    while iBest != 0:\n",
    "        evalPts = filter(inBounds, pos + offsets)\n",
    "        scores = [abs(F(*pt) - target) for pt in evalPts]\n",
    "        if verbose: print(scores)\n",
    "        iBest = np.argmin(scores)\n",
    "        bestOffset = offsets[iBest]\n",
    "        bestScore = scores[iBest]\n",
    "        pos = pos + bestOffset\n",
    "        if verbose: print(pos)\n",
    "        posList.append(pos)\n",
    "        if (tuple(pos) in posSet) and (iBest != 0):\n",
    "            # print(np.array(posList))\n",
    "            # print(\"   Loop Back Detected. bestScore:\", bestScore)\n",
    "            offsets = offsets2\n",
    "        else:\n",
    "            offsets = offsets0\n",
    "        posSet.add(tuple(pos))\n",
    "    if onEdge(pos):\n",
    "        raise ValueError(\"   Optimal soln found on edge.  Not trusting it.\")\n",
    "    if bestScore > 0.02:\n",
    "        raise ValueError(\"   Optimal soln wasn't very good.  Not trusting it.\")\n",
    "    return (pos, bestScore)"
   ]
  },
  {
   "cell_type": "code",
   "execution_count": null,
   "metadata": {},
   "outputs": [],
   "source": [
    "def setT(self, T, verbose=False):\n",
    "    \"\"\"\n",
    "    Changes the expected T to new value.  Adjusts PS and VGA input to match.  \n",
    "    Utilizes an inverse function to do so.\n",
    "    \"\"\"\n",
    "    psSPs, vgaSPs = Multiplier.psSPs, Multiplier.vgaSPs\n",
    "    bounds = ((psSPs[0], psSPs[-1]), (vgaSPs[0], vgaSPs[-1]))\n",
    "    (pos, bestScore) = dumbRoot2D(self.F, [512, 512], bounds, T, verbose)\n",
    "    (ps, vga) = pos\n",
    "    self.psSetting = ps\n",
    "    self.vgaSetting = vga\n",
    "    self.TExpected = self.F(ps, vga)\n",
    "    \n",
    "setattr(Multiplier, \"setT\", setT)"
   ]
  },
  {
   "cell_type": "code",
   "execution_count": null,
   "metadata": {},
   "outputs": [],
   "source": [
    "def adjustT(self, T, verbose=False):\n",
    "    \"\"\"\n",
    "    Changes the expected T to new value.  Adjusts PS and VGA input to match.  \n",
    "    Utilizes an inverse function to do so.\n",
    "    \"\"\"\n",
    "    startPos = [self.psSetting, self.vgaSetting]\n",
    "    psSPs, vgaSPs = Multiplier.psSPs, Multiplier.vgaSPs\n",
    "    bounds = ((psSPs[0], psSPs[-1]), (vgaSPs[0], vgaSPs[-1]))\n",
    "    (pos, bestScore) = dumbRoot2D(self.F, startPos, bounds, T, verbose)\n",
    "    (ps, vga) = pos\n",
    "    self.psSetting = ps\n",
    "    self.vgaSetting = vga\n",
    "    self.TExpected = self.F(ps, vga)\n",
    "    \n",
    "setattr(Multiplier, \"adjustT\", adjustT)"
   ]
  },
  {
   "cell_type": "code",
   "execution_count": null,
   "metadata": {},
   "outputs": [],
   "source": [
    "def setWeights(self, weights, hold='settings'):\n",
    "    self.weights[:] = weights[:]\n",
    "    self.field = np.sum(comps * weights.reshape(-1,1,1), axis=0)\n",
    "    rF = interp2d(Multiplier.psSPs, Multiplier.vgaSPs, np.real(self.field), kind='linear', bounds_error=True)\n",
    "    iF = interp2d(Multiplier.psSPs, Multiplier.vgaSPs, np.imag(self.field), kind='linear', bounds_error=True)\n",
    "    def F(x, y):\n",
    "        z, = rF(x, y, assume_sorted=True) + 1j*iF(x, y, assume_sorted=True)\n",
    "        return z\n",
    "    self.F = F\n",
    "    if hold == 'settings':\n",
    "        # Sets settings to orig values, and tweaks T.\n",
    "        self.setSettings(self.psSetting, self.vgaSetting)\n",
    "    elif hold == 'T':\n",
    "        # Sets T to orig values, and tweaks settings.\n",
    "        self.setT(self.T)\n",
    "\n",
    "setattr(Multiplier, \"setWeights\", setWeights)"
   ]
  },
  {
   "cell_type": "markdown",
   "metadata": {},
   "source": [
    "Define a Multiplier"
   ]
  },
  {
   "cell_type": "code",
   "execution_count": null,
   "metadata": {},
   "outputs": [],
   "source": [
    "m1 = Multiplier()"
   ]
  },
  {
   "cell_type": "code",
   "execution_count": null,
   "metadata": {},
   "outputs": [],
   "source": [
    "if mainQ: plotComplexArray(m1.field, maxRad=1)"
   ]
  },
  {
   "cell_type": "code",
   "execution_count": null,
   "metadata": {},
   "outputs": [],
   "source": [
    "(psSamplePoints[40], vgaSamplePoints[30])"
   ]
  },
  {
   "cell_type": "code",
   "execution_count": null,
   "metadata": {},
   "outputs": [],
   "source": [
    "testSample = m1.field[30,40] # y, x\n",
    "testSampleF = m1.F(psSamplePoints[40], vgaSamplePoints[30])\n",
    "(testSample, testSampleF)"
   ]
  },
  {
   "cell_type": "code",
   "execution_count": null,
   "metadata": {},
   "outputs": [],
   "source": [
    "m1.weights"
   ]
  },
  {
   "cell_type": "code",
   "execution_count": null,
   "metadata": {},
   "outputs": [],
   "source": [
    "m1.setSettings(500, 500)\n",
    "m1.TExpected, m1.psSetting, m1.vgaSetting"
   ]
  },
  {
   "cell_type": "code",
   "execution_count": null,
   "metadata": {},
   "outputs": [],
   "source": [
    "T = -0.3-0.3j\n",
    "m1.setT(T)\n",
    "m1.TExpected, m1.psSetting, m1.vgaSetting"
   ]
  },
  {
   "cell_type": "code",
   "execution_count": null,
   "metadata": {},
   "outputs": [],
   "source": [
    "m1.setSettings(psSamplePoints[40], vgaSamplePoints[30])\n",
    "m1.TExpected, m1.F(psSamplePoints[40], vgaSamplePoints[30]), m1.psSetting, m1.vgaSetting"
   ]
  },
  {
   "cell_type": "code",
   "execution_count": null,
   "metadata": {},
   "outputs": [],
   "source": [
    "sf = (1.2*np.exp(1j*0.3))\n",
    "w = baseWeights*sf\n",
    "m1.setWeights(w, hold='settings')\n",
    "TNew = m1.TExpected\n",
    "m1.TExpected, m1.psSetting, m1.vgaSetting"
   ]
  },
  {
   "cell_type": "code",
   "execution_count": null,
   "metadata": {},
   "outputs": [],
   "source": [
    "TNew/testSampleF , sf"
   ]
  },
  {
   "cell_type": "code",
   "execution_count": null,
   "metadata": {},
   "outputs": [],
   "source": [
    "testSample2 = m1.field[30,40] # [y, x]\n",
    "testSampleF2 = m1.F(vgaSamplePoints[40], vgaSamplePoints[30])\n",
    "testSample2/testSample, sf"
   ]
  },
  {
   "cell_type": "code",
   "execution_count": null,
   "metadata": {},
   "outputs": [],
   "source": [
    "if mainQ: plotComplexArray(m1.field)"
   ]
  },
  {
   "cell_type": "markdown",
   "metadata": {
    "heading_collapsed": "true"
   },
   "source": [
    "## Define Bank"
   ]
  },
  {
   "cell_type": "code",
   "execution_count": null,
   "metadata": {},
   "outputs": [],
   "source": [
    "class MultiplierBank:\n",
    "    pass"
   ]
  },
  {
   "cell_type": "code",
   "execution_count": null,
   "metadata": {},
   "outputs": [],
   "source": [
    "def __init__(self):\n",
    "    self.bankByLoc = dict()\n",
    "    self.bankByPhysNum = dict()\n",
    "    \n",
    "setattr(MultiplierBank, \"__init__\", __init__)"
   ]
  },
  {
   "cell_type": "code",
   "execution_count": null,
   "metadata": {},
   "outputs": [],
   "source": [
    "def addMult(self, mult):\n",
    "    loc, pNum = mult.loc, mult.physNumber\n",
    "    if (loc in self.bankByLoc or pNum in self.bankByPhysNum):\n",
    "        print(\"not added due to redundancy\")\n",
    "        return\n",
    "    self.bankByLoc[loc] = mult\n",
    "    self.bankByPhysNum[pNum] = mult    \n",
    "\n",
    "setattr(MultiplierBank, \"addMult\", addMult)"
   ]
  },
  {
   "cell_type": "code",
   "execution_count": null,
   "metadata": {},
   "outputs": [],
   "source": [
    "def getMultByPhysNum(self, pNum):\n",
    "    return self.bankByPhysNum[pNum]\n",
    "\n",
    "setattr(MultiplierBank, \"getMultByPhysNum\", getMultByPhysNum)"
   ]
  },
  {
   "cell_type": "code",
   "execution_count": null,
   "metadata": {},
   "outputs": [],
   "source": [
    "def getMultByLoc(self, loc):\n",
    "    return self.bankByLoc[loc]\n",
    "\n",
    "setattr(MultiplierBank, \"getMultByLoc\", getMultByLoc)"
   ]
  },
  {
   "cell_type": "code",
   "execution_count": null,
   "metadata": {},
   "outputs": [],
   "source": [
    "def getLocs(self):\n",
    "    locs = list(self.bankByLoc.keys())\n",
    "    locs.sort()\n",
    "    return locs\n",
    "\n",
    "setattr(MultiplierBank, \"getLocs\", getLocs)"
   ]
  },
  {
   "cell_type": "code",
   "execution_count": null,
   "metadata": {},
   "outputs": [],
   "source": [
    "def getPhysNums(self):\n",
    "    pNums = list(self.bankByPhysNum.keys())\n",
    "    pNums.sort()\n",
    "    return pNums\n",
    "\n",
    "setattr(MultiplierBank, \"getPhysNums\", getPhysNums)"
   ]
  },
  {
   "cell_type": "code",
   "execution_count": null,
   "metadata": {},
   "outputs": [],
   "source": [
    "def getPersonalityVectors(self):\n",
    "    \"\"\"\n",
    "    The personality weights of each multiplier will need to be optimized.  It\n",
    "    will be necessary to treat all of these as a 1D List.  This provides an\n",
    "    interface to do so.\n",
    "    \n",
    "    Weights are returned in an order based on the multiplier locations.\n",
    "    \"\"\"\n",
    "    locs = self.getLocs()\n",
    "    listOfWeights = [self.bankByLoc[l].weights for l in locs]\n",
    "    return np.array(listOfWeights).flatten()\n",
    "\n",
    "setattr(MultiplierBank, \"getPersonalityVectors\", getPersonalityVectors)"
   ]
  },
  {
   "cell_type": "code",
   "execution_count": null,
   "metadata": {},
   "outputs": [],
   "source": [
    "def setPersonalityVectors(self, v):\n",
    "    \"\"\"\n",
    "    The personality weights of each multiplier will need to be optimized.  It\n",
    "    will be necessary to treat all of these as a 1D List.  This provides an\n",
    "    interface to do so.\n",
    "    \n",
    "    Weights are set in an order based on the multiplier locations.\n",
    "    \"\"\"\n",
    "    locs = self.getLocs()\n",
    "    vSplit = np.split(v, len(locs))\n",
    "    for i, loc in enumerate(loc):\n",
    "        mult = self.bankByLoc[loc]\n",
    "        mult.setWeights(vSplit[i])\n",
    "\n",
    "setattr(MultiplierBank, \"setPersonalityVectors\", setPersonalityVectors)"
   ]
  },
  {
   "cell_type": "code",
   "execution_count": null,
   "metadata": {},
   "outputs": [],
   "source": [
    "def getRFNetwork(self, loc):\n",
    "    mult = self.getMultByLoc(loc)\n",
    "    network = mult.getRFNetwork()\n",
    "    return network\n",
    "\n",
    "setattr(MultiplierBank, \"getRFNetwork\", getRFNetwork)"
   ]
  },
  {
   "cell_type": "code",
   "execution_count": null,
   "metadata": {},
   "outputs": [],
   "source": [
    "mBank = MultiplierBank()"
   ]
  },
  {
   "cell_type": "code",
   "execution_count": null,
   "metadata": {},
   "outputs": [],
   "source": [
    "m1 = Multiplier(physNumber=3, loc=('U', 1, 2, 'top'))\n",
    "m2 = Multiplier(physNumber=4, loc=('U', 1, 2, 'bot'))"
   ]
  },
  {
   "cell_type": "code",
   "execution_count": null,
   "metadata": {},
   "outputs": [],
   "source": [
    "mBank.addMult(m1)\n",
    "mBank.addMult(m2)"
   ]
  },
  {
   "cell_type": "code",
   "execution_count": null,
   "metadata": {},
   "outputs": [],
   "source": [
    "m2.weights"
   ]
  },
  {
   "cell_type": "code",
   "execution_count": null,
   "metadata": {},
   "outputs": [],
   "source": [
    "mBank.getPersonalityVectors()"
   ]
  },
  {
   "cell_type": "markdown",
   "metadata": {},
   "source": [
    "# 3dB Coupler"
   ]
  },
  {
   "cell_type": "markdown",
   "metadata": {},
   "source": [
    "## Couplers from Simulation"
   ]
  },
  {
   "cell_type": "code",
   "execution_count": null,
   "metadata": {},
   "outputs": [],
   "source": [
    "fname1 = \"..\\\\GoldenSamples\\\\coupler3dBFromSim.s4p\"\n",
    "tsImport = rf.io.touchstone.Touchstone(fname1)"
   ]
  },
  {
   "cell_type": "code",
   "execution_count": null,
   "metadata": {},
   "outputs": [],
   "source": [
    "(fCouplerSim, SCouplerSim) = tsImport.get_sparameter_arrays()\n",
    "i45 = np.argmin(np.abs(fCouplerSim-45e6))\n",
    "sCouplerSim45 = SCouplerSim[i45]\n",
    "\n",
    "def Build3dBCouplerSim(freq, loc=()):\n",
    "    nFreqs = len(freq)\n",
    "    S = np.zeros((nFreqs, 4, 4), dtype=np.complex)\n",
    "    Z_0 = 50.\n",
    "    label = str(loc)\n",
    "    S[:] = sCouplerSim45    \n",
    "    net = rf.Network(name=label, frequency=freq, z0=Z_0, s=S)\n",
    "    return net"
   ]
  },
  {
   "cell_type": "code",
   "execution_count": null,
   "metadata": {},
   "outputs": [],
   "source": [
    "freq45 = rf.Frequency(start=45, stop=45, npoints=1, unit='mhz', sweep_type='lin')"
   ]
  },
  {
   "cell_type": "code",
   "execution_count": null,
   "metadata": {},
   "outputs": [],
   "source": [
    "netCouplerSim45 = Build3dBCouplerSim(freq45)\n",
    "netCouplerSim45.s[0]"
   ]
  },
  {
   "cell_type": "markdown",
   "metadata": {
    "heading_collapsed": "true"
   },
   "source": [
    "## Couplers from Measured Data"
   ]
  },
  {
   "cell_type": "code",
   "execution_count": null,
   "metadata": {},
   "outputs": [],
   "source": [
    "from NetworkBuilding import Build3dBCoupler"
   ]
  },
  {
   "cell_type": "code",
   "execution_count": null,
   "metadata": {},
   "outputs": [],
   "source": [
    "fnames = [\"..\\\\GoldenSamples\\\\CouplerSamples\\\\3dB_couplers1.txt\",\n",
    "          \"..\\\\GoldenSamples\\\\CouplerSamples\\\\3dB_couplers2.txt\"]\n",
    "coupDataFromFiles000 = [np.loadtxt(f, dtype=np.complex) for f in fnames]"
   ]
  },
  {
   "cell_type": "code",
   "execution_count": null,
   "metadata": {},
   "outputs": [],
   "source": [
    "def Build3dBCouplerFromData(freq, loc=\"\", force=None):\n",
    "    if force is None:\n",
    "        choice = hash(loc)%len(coupDataFromFiles000)\n",
    "    else:\n",
    "        choice = force%len(coupDataFromFiles000)\n",
    "    ((S31, S32), (S41, S42)) = coupDataFromFiles000[choice]\n",
    "    Z_0 = 50.\n",
    "    label = str(loc)\n",
    "    \n",
    "    nFreqs = len(freq)\n",
    "\n",
    "    S = np.zeros((nFreqs, 4, 4), dtype=np.complex)\n",
    "    S[:, 2, 0] = S31\n",
    "    S[:, 3, 0] = S41\n",
    "    S[:, 2, 1] = S32\n",
    "    S[:, 3, 1] = S42\n",
    "    S[:, 0, 2] = S31\n",
    "    S[:, 1, 2] = S41\n",
    "    S[:, 0, 3] = S32\n",
    "    S[:, 1, 3] = S42\n",
    "    coupNetwork = rf.Network(name=label, frequency=freq, z0=Z_0, s=S)\n",
    "    return coupNetwork"
   ]
  },
  {
   "cell_type": "code",
   "execution_count": null,
   "metadata": {},
   "outputs": [],
   "source": [
    "freq45 = rf.Frequency(start=45, stop=45, npoints=1, unit='mhz', sweep_type='lin')"
   ]
  },
  {
   "cell_type": "code",
   "execution_count": null,
   "metadata": {},
   "outputs": [],
   "source": [
    "coupNet1 = Build3dBCouplerFromData(freq45, \"foo\", force=0) # hash(\"foo\")%2 = 1\n",
    "coupNet2 = Build3dBCouplerFromData(freq45, \"bar\", force=1) # hash(\"bar\")%2 = 0"
   ]
  },
  {
   "cell_type": "markdown",
   "metadata": {},
   "source": [
    "For comparison, here is an ideal coupler."
   ]
  },
  {
   "cell_type": "code",
   "execution_count": null,
   "metadata": {},
   "outputs": [],
   "source": [
    "coupNetIdeal = Build3dBCoupler(freq45, couplerConv=\"LC\", loc=\"\")\n",
    "coupNetIdeal.s[0]"
   ]
  },
  {
   "cell_type": "markdown",
   "metadata": {},
   "source": [
    "Next is a coupler based on simulated data."
   ]
  },
  {
   "cell_type": "code",
   "execution_count": null,
   "metadata": {},
   "outputs": [],
   "source": [
    "netCouplerSim45 = Build3dBCouplerSim(freq45)\n",
    "netCouplerSim45.s[0]"
   ]
  },
  {
   "cell_type": "markdown",
   "metadata": {},
   "source": [
    "Next are two couplers based on imported data"
   ]
  },
  {
   "cell_type": "code",
   "execution_count": null,
   "metadata": {},
   "outputs": [],
   "source": [
    "coupNet1.s[0]"
   ]
  },
  {
   "cell_type": "code",
   "execution_count": null,
   "metadata": {},
   "outputs": [],
   "source": [
    "coupNet2.s[0]"
   ]
  },
  {
   "cell_type": "code",
   "execution_count": null,
   "metadata": {},
   "outputs": [],
   "source": []
  }
 ],
 "metadata": {
  "kernelspec": {
   "display_name": "Python 3",
   "language": "python",
   "name": "python3"
  },
  "language_info": {
   "codemirror_mode": {
    "name": "ipython",
    "version": 3
   },
   "file_extension": ".py",
   "mimetype": "text/x-python",
   "name": "python",
   "nbconvert_exporter": "python",
   "pygments_lexer": "ipython3",
   "version": "3.8.5"
  }
 },
 "nbformat": 4,
 "nbformat_minor": 4
}
