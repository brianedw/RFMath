{
 "cells": [
  {
   "cell_type": "markdown",
   "metadata": {
    "heading_collapsed": "true",
    "tags": []
   },
   "source": [
    "## Setup"
   ]
  },
  {
   "cell_type": "markdown",
   "metadata": {
    "heading_collapsed": "true",
    "tags": []
   },
   "source": [
    "### Notebook Customization"
   ]
  },
  {
   "cell_type": "code",
   "execution_count": null,
   "metadata": {},
   "outputs": [],
   "source": [
    "import IPython"
   ]
  },
  {
   "cell_type": "code",
   "execution_count": null,
   "metadata": {},
   "outputs": [],
   "source": [
    "css_str = \"\"\"\n",
    "<link rel=\"preconnect\" href=\"https://fonts.gstatic.com\">\n",
    "\n",
    "<link href=\"https://fonts.googleapis.com/css2?family=Cormorant+Garamond:wght@300;400;600&family=Playfair+Display+SC&display=swap\" rel=\"stylesheet\">\n",
    "<link rel=\"stylesheet\" href=\"https://fonts.googleapis.com/css?family=Lora\">\n",
    "<link href=\"https://fonts.googleapis.com/css2?family=IM+Fell+Double+Pica:ital@1&display=swap\" rel=\"stylesheet\">\n",
    "    <style>\n",
    "h1 { color: #7c795d; font-family: 'Playfair Display SC', serif; text-indent: 00px; text-align: center;}\n",
    "h2 { color: #7c795d; font-family: 'Lora', serif;                text-indent: 00px; text-align: left; }\n",
    "h3 { color: #7c795d; font-family: 'IM Fell Double Pica', serif; text-indent: 15px; text-align: left; }\n",
    "h4 { color: #7c795d; font-family: 'Lora', Arial, serif;         text-indent: 30px; text-align: left}\n",
    "h5 { color: #71a832; font-family: 'IM Fell Double Pica', serif; text-indent: 45px; text-align: left}\n",
    "\n",
    "\"\"\"\n",
    "IPython.display.HTML(css_str)"
   ]
  },
  {
   "cell_type": "code",
   "execution_count": null,
   "metadata": {},
   "outputs": [],
   "source": [
    "%load_ext autoreload\n",
    "%autoreload 2"
   ]
  },
  {
   "cell_type": "markdown",
   "metadata": {
    "heading_collapsed": "true",
    "tags": []
   },
   "source": [
    "### Python Libraries"
   ]
  },
  {
   "cell_type": "markdown",
   "metadata": {},
   "source": [
    "Standard Python imports"
   ]
  },
  {
   "cell_type": "code",
   "execution_count": null,
   "metadata": {},
   "outputs": [],
   "source": [
    "import os, sys, time, glob, random"
   ]
  },
  {
   "cell_type": "markdown",
   "metadata": {},
   "source": [
    "It is a good idea to record the starting working directory before it gets changed around.  Note that this can be problematic depending on how you open the notebook, but it works most of the time."
   ]
  },
  {
   "cell_type": "code",
   "execution_count": null,
   "metadata": {},
   "outputs": [],
   "source": [
    "baseDir = os.getcwd()\n",
    "baseDir"
   ]
  },
  {
   "cell_type": "markdown",
   "metadata": {},
   "source": [
    "It is also nice to know if what is running is a notebook, or a python script generated from the notebook."
   ]
  },
  {
   "cell_type": "code",
   "execution_count": null,
   "metadata": {},
   "outputs": [],
   "source": [
    "mainQ = (__name__ == '__main__')\n",
    "if mainQ:\n",
    "    print(\"This is the main file for this kernel\")"
   ]
  },
  {
   "cell_type": "markdown",
   "metadata": {
    "heading_collapsed": "true",
    "tags": []
   },
   "source": [
    "### Functional Programming"
   ]
  },
  {
   "cell_type": "markdown",
   "metadata": {},
   "source": [
    "The `toolz` library has a lot of great functions for performing common operations on iterables, functions, and dictionaries."
   ]
  },
  {
   "cell_type": "code",
   "execution_count": null,
   "metadata": {},
   "outputs": [],
   "source": [
    "# from toolz.itertoolz import ()\n",
    "from toolz.functoolz import (curry, pipe, thread_first)\n",
    "# from toolz.dicttoolz import ()"
   ]
  },
  {
   "cell_type": "code",
   "execution_count": null,
   "metadata": {},
   "outputs": [],
   "source": [
    "@curry\n",
    "def add(x, y): return x + y\n",
    "@curry\n",
    "def pow(x, y): return x**y\n",
    "thread_first(1, add(y=4), pow(y=2))  # pow(add(1, 4), 2)"
   ]
  },
  {
   "cell_type": "code",
   "execution_count": null,
   "metadata": {},
   "outputs": [],
   "source": [
    "from mini_lambda import InputVar, as_function\n",
    "_ = as_function\n",
    "X = InputVar('X')"
   ]
  },
  {
   "cell_type": "code",
   "execution_count": null,
   "metadata": {},
   "outputs": [],
   "source": [
    "_(X+3)(10)"
   ]
  },
  {
   "cell_type": "code",
   "execution_count": null,
   "metadata": {},
   "outputs": [],
   "source": [
    "thread_first(1, add(y=4), _(pow(x=2, y=X)))  # pow(2, add(1, 4))"
   ]
  },
  {
   "cell_type": "code",
   "execution_count": null,
   "metadata": {},
   "outputs": [],
   "source": [
    "thread_first(1, _(X+4), _(2**X))  # pow(add(1, 4), 2)"
   ]
  },
  {
   "cell_type": "markdown",
   "metadata": {
    "tags": []
   },
   "source": [
    "### Scientific Programming"
   ]
  },
  {
   "cell_type": "code",
   "execution_count": null,
   "metadata": {},
   "outputs": [],
   "source": [
    "from math import *\n",
    "deg = radians(1)    # so that we can refer to 90*deg\n",
    "I = 1j              # potentially neater imaginary nomenclature."
   ]
  },
  {
   "cell_type": "code",
   "execution_count": null,
   "metadata": {},
   "outputs": [],
   "source": [
    "import numpy as np  # Does high performance dense array operations\n",
    "np.set_printoptions(edgeitems=30, linewidth=100000,\n",
    "                    formatter=dict(float=lambda x: \"%.3g\" % x))\n",
    "import scipy as sp\n",
    "import pandas as pd\n",
    "import PIL "
   ]
  },
  {
   "cell_type": "code",
   "execution_count": null,
   "metadata": {},
   "outputs": [],
   "source": [
    "import skimage"
   ]
  },
  {
   "cell_type": "code",
   "execution_count": null,
   "metadata": {},
   "outputs": [],
   "source": [
    "# Python function compilization.  Makes things very fast.  Function must only include Numpy and basic Python.  No custom classes.\n",
    "import numba\n",
    "from numba import njit"
   ]
  },
  {
   "cell_type": "code",
   "execution_count": null,
   "metadata": {},
   "outputs": [],
   "source": [
    "import sympy\n",
    "# sp.init_printing(pretty_print=True)\n",
    "# sp.init_printing(pretty_print=False)"
   ]
  },
  {
   "cell_type": "code",
   "execution_count": null,
   "metadata": {},
   "outputs": [],
   "source": [
    "import importlib"
   ]
  },
  {
   "cell_type": "code",
   "execution_count": null,
   "metadata": {},
   "outputs": [],
   "source": [
    "from scipy.optimize import root, minimize\n",
    "from scipy.interpolate import interp2d"
   ]
  },
  {
   "cell_type": "code",
   "execution_count": null,
   "metadata": {},
   "outputs": [],
   "source": [
    "from scipy.ndimage import gaussian_filter\n",
    "from scipy import interpolate"
   ]
  },
  {
   "cell_type": "markdown",
   "metadata": {
    "heading_collapsed": "true",
    "tags": []
   },
   "source": [
    "### Plotting"
   ]
  },
  {
   "cell_type": "code",
   "execution_count": null,
   "metadata": {},
   "outputs": [],
   "source": [
    "import bokeh\n",
    "from bokeh.io import output_notebook\n",
    "from bokeh.plotting import figure, show\n",
    "output_notebook()\n",
    "from bokeh.palettes import Dark2\n",
    "bokeh.io.curdoc().theme = 'dark_minimal'\n",
    "palette = Dark2[8]*10"
   ]
  },
  {
   "cell_type": "code",
   "execution_count": null,
   "metadata": {},
   "outputs": [],
   "source": [
    "import itertools"
   ]
  },
  {
   "cell_type": "code",
   "execution_count": null,
   "metadata": {},
   "outputs": [],
   "source": [
    "palette = Dark2[8]*10\n",
    "colors = itertools.cycle(palette)"
   ]
  },
  {
   "cell_type": "code",
   "execution_count": null,
   "metadata": {},
   "outputs": [],
   "source": [
    "from UtilityMath import plotComplexArray"
   ]
  },
  {
   "cell_type": "code",
   "execution_count": null,
   "metadata": {},
   "outputs": [],
   "source": [
    "import skrf as rf"
   ]
  },
  {
   "cell_type": "markdown",
   "metadata": {
    "heading_collapsed": "true",
    "tags": []
   },
   "source": [
    "### Custom Imports"
   ]
  },
  {
   "cell_type": "code",
   "execution_count": null,
   "metadata": {},
   "outputs": [],
   "source": [
    "from NetworkBuilding import (BuildMillerNetwork, BuildNewNetwork,\n",
    "                             MillerMultLocsX, MillerCoupLocsX, NewMultLocs,\n",
    "                             ConvertThetaPhiToTcX, \n",
    "                             Build3dBCoupler, Build5PortSplitter)"
   ]
  },
  {
   "cell_type": "code",
   "execution_count": null,
   "metadata": {},
   "outputs": [],
   "source": [
    "from ExpComponents import (Multiplier, MultiplierBank, Build3dBCouplerSim)"
   ]
  },
  {
   "cell_type": "code",
   "execution_count": null,
   "metadata": {},
   "outputs": [],
   "source": [
    "from Miller import (MillerBuilder)"
   ]
  },
  {
   "cell_type": "code",
   "execution_count": null,
   "metadata": {},
   "outputs": [],
   "source": [
    "from UtilityMath import (convertArrayToDict, MatrixError, MatrixSqError, makePolarPlot, addMatrixDiff, PolarPlot, ReIm, \n",
    "                         RandomComplexCircularMatrix, PolarPlot)"
   ]
  },
  {
   "cell_type": "markdown",
   "metadata": {
    "heading_collapsed": "true",
    "tags": []
   },
   "source": [
    "## Definitions (Sim)"
   ]
  },
  {
   "cell_type": "code",
   "execution_count": null,
   "metadata": {
    "id": "kJNZ1xLPelCt"
   },
   "outputs": [],
   "source": [
    "freq45 = rf.Frequency(start=45, stop=45, npoints=1, unit='mhz', sweep_type='lin')"
   ]
  },
  {
   "cell_type": "markdown",
   "metadata": {},
   "source": [
    "First we need to generate labels for the Multipliers.  For the New architecture, this is a simple square grid.  The format is\n",
    "\n",
    "`('M', 'N', inputLine, outputLine)` \n",
    "\n",
    "where `'M'` is for \"Multiplier\", `'N'` is for \"New\" and `inputLine` and `outputLine` are integers in the range [0,4]."
   ]
  },
  {
   "cell_type": "code",
   "execution_count": null,
   "metadata": {},
   "outputs": [],
   "source": [
    "allMultLocs = NewMultLocs(5, 'N')\n",
    "allMultLocs"
   ]
  },
  {
   "cell_type": "markdown",
   "metadata": {},
   "source": [
    "Every device has a \"Physical Number\" that is used for addressing to allow the computer to specify to which device a command is intended.  These are enumarated below.  Similar to SParams, the rows denote output lines while the columns denote input lines."
   ]
  },
  {
   "cell_type": "code",
   "execution_count": null,
   "metadata": {},
   "outputs": [],
   "source": [
    "# Be careful here.  A horizontal row in the physical world represents a column in matrix multiplication\n",
    "multPhysNumberBank = [[31, 32, 33, 34, 35],\n",
    "                      [11, 12, 13, 14, 15],\n",
    "                      [16, 17, 18, 19, 20],\n",
    "                      [21, 22, 23, 24, 25],\n",
    "                      [26, 27, 28, 29, 30]]\n",
    "multPhysNumberBank = np.array(multPhysNumberBank).T\n",
    "multPhysNumberBank"
   ]
  },
  {
   "cell_type": "markdown",
   "metadata": {},
   "source": [
    "And just a quick spot check to make sure we have accidently applied a transpose."
   ]
  },
  {
   "cell_type": "code",
   "execution_count": null,
   "metadata": {},
   "outputs": [],
   "source": [
    "inputLine = 5\n",
    "outputLine = 1\n",
    "multPhysNumberBank[outputLine - 1, inputLine - 1]"
   ]
  },
  {
   "cell_type": "markdown",
   "metadata": {},
   "source": [
    "Next we build a MultiplierBank.  This is a collection of Multipliers.  This allows a Multiplier to be retreived by either its `loc` or by its `physNumber`, allowing the MultiplierBank to function both to interact with the physical experiment or a network simulation."
   ]
  },
  {
   "cell_type": "code",
   "execution_count": null,
   "metadata": {},
   "outputs": [],
   "source": [
    "multBank = MultiplierBank()\n",
    "for loc in allMultLocs:\n",
    "    (_, _, inputLine, outputLine) = loc\n",
    "    physNumber = multPhysNumberBank[outputLine, inputLine]\n",
    "    mult = Multiplier(physNumber=physNumber, loc=loc, freq=freq45)\n",
    "    multBank.addMult(mult)"
   ]
  },
  {
   "cell_type": "markdown",
   "metadata": {},
   "source": [
    "Note that passive devices such as 5:1 Splitters are not modeled to the same degree and do not require controlling.  Therefore, we will generate generic elements as we need them."
   ]
  },
  {
   "cell_type": "code",
   "execution_count": null,
   "metadata": {},
   "outputs": [],
   "source": [
    "X0 = multBank.getPersonalityVectors()"
   ]
  },
  {
   "cell_type": "markdown",
   "metadata": {},
   "source": [
    "# Large Number Experiments"
   ]
  },
  {
   "cell_type": "code",
   "execution_count": null,
   "metadata": {},
   "outputs": [],
   "source": [
    "IdM5 = np.identity(5)"
   ]
  },
  {
   "cell_type": "markdown",
   "metadata": {
    "heading_collapsed": "true",
    "tags": []
   },
   "source": [
    "## Looking for Weird Multiplier Channels"
   ]
  },
  {
   "cell_type": "code",
   "execution_count": null,
   "metadata": {},
   "outputs": [],
   "source": [
    "XF = np.load(\"Main_data/personalityVector.npy\")"
   ]
  },
  {
   "cell_type": "code",
   "execution_count": null,
   "metadata": {},
   "outputs": [],
   "source": [
    "weights1DComplex = XF.view('complex')\n",
    "locs = multBank.getLocs()\n",
    "pcaWeights = np.array(np.split(weights1DComplex, len(locs)))"
   ]
  },
  {
   "cell_type": "code",
   "execution_count": null,
   "metadata": {},
   "outputs": [],
   "source": [
    "maxWeight = np.max(np.abs(pcaWeights))"
   ]
  },
  {
   "cell_type": "code",
   "execution_count": null,
   "metadata": {},
   "outputs": [],
   "source": [
    "def getRandomHexColor():\n",
    "    r = random.randint(0, 255)\n",
    "    g = random.randint(0, 255)\n",
    "    b = random.randint(0, 255)\n",
    "    hexStr = '#%02X%02X%02X' % (r, g, b)\n",
    "    return hexStr"
   ]
  },
  {
   "cell_type": "code",
   "execution_count": null,
   "metadata": {},
   "outputs": [],
   "source": [
    "pp = PolarPlot(\"PCA Weight Comparison\")\n",
    "pcaWeightsT = pcaWeights.T\n",
    "for i in range(len(pcaWeightsT)):\n",
    "    pp.addMatrix(pcaWeightsT[i]/maxWeight, getRandomHexColor())\n",
    "pp.show()"
   ]
  },
  {
   "cell_type": "code",
   "execution_count": null,
   "metadata": {},
   "outputs": [],
   "source": [
    "pp = PolarPlot(\"PCA Weight Comparison\")\n",
    "for i in range(len(pcaWeights)):\n",
    "    pp.addMatrix(pcaWeights[i]/maxWeight, getRandomHexColor())\n",
    "pp.show()"
   ]
  },
  {
   "cell_type": "markdown",
   "metadata": {
    "heading_collapsed": "true",
    "tags": []
   },
   "source": [
    "## Big Kappa"
   ]
  },
  {
   "cell_type": "code",
   "execution_count": null,
   "metadata": {},
   "outputs": [],
   "source": [
    "# to be uncomment for a new set of values\n",
    "# inputKernels = [RandomComplexCircularMatrix(0.5, (5,5)) for i in range(1000)]\n",
    "# np.save(\"Main_data/largeNInput\", np.array(inputKernels))"
   ]
  },
  {
   "cell_type": "code",
   "execution_count": null,
   "metadata": {},
   "outputs": [],
   "source": [
    "inputKernels = np.load(\"Main_data/largeNInput.npy\")"
   ]
  },
  {
   "cell_type": "code",
   "execution_count": null,
   "metadata": {},
   "outputs": [],
   "source": [
    "outputMeasurements = np.load(\"Main_data/largeNOpenLoop.npy\")"
   ]
  },
  {
   "cell_type": "code",
   "execution_count": null,
   "metadata": {},
   "outputs": [],
   "source": [
    "inKK = []\n",
    "measKK = []\n",
    "setKK = []\n",
    "for i in np.arange(1000):\n",
    "    inKK.append(np.array(outputMeasurements)[i, 0])  # Goal Input Kernel\n",
    "    setKK.append(np.array(outputMeasurements)[i, 1]) # Experimentally Expected Kernel based on Integer Control Values\n",
    "    measKK.append(np.array(outputMeasurements)[i, 2]) # Measured Open Loop Kernel"
   ]
  },
  {
   "cell_type": "code",
   "execution_count": null,
   "metadata": {},
   "outputs": [],
   "source": [
    "pp = PolarPlot(\"comparisson\")\n",
    "i = 154\n",
    "pp.addMatrixDiff(np.array(measKK[i]), np.array(inKK[i]))\n",
    "pp.show()\n",
    "abs(np.linalg.eig(inKK[i])[0])"
   ]
  },
  {
   "cell_type": "code",
   "execution_count": null,
   "metadata": {},
   "outputs": [],
   "source": [
    "getEigVals = np.linalg.eigvals"
   ]
  },
  {
   "cell_type": "code",
   "execution_count": null,
   "metadata": {},
   "outputs": [],
   "source": [
    "def getMaxEigVal(K):\n",
    "    return thread_first(K, getEigVals, abs, max)"
   ]
  },
  {
   "cell_type": "code",
   "execution_count": null,
   "metadata": {},
   "outputs": [],
   "source": [
    "eigValOrdering = np.argsort(list(map(getMaxEigVal, inKK)))"
   ]
  },
  {
   "cell_type": "code",
   "execution_count": null,
   "metadata": {},
   "outputs": [],
   "source": [
    "def MatrixError(m, mTarget):\n",
    "    \"\"\"\n",
    "    Computes how far the average S-Param is from the expected, divided by the magnitude of an SParam in a Unitary Matrix of equivalent size.\n",
    "    \"\"\"\n",
    "    errorSq = (np.abs(m - mTarget)**2).sum()\n",
    "    nElems = len(inKK[0].flatten())\n",
    "    aveError = (errorSq**0.5)/nElems\n",
    "    (nR, nC) = m.shape\n",
    "    aveValMag = (1/nR)**0.5  # Assuming equal power distribution, this is the average SParam mag\n",
    "    relAveError = aveError/aveValMag\n",
    "    return relAveError"
   ]
  },
  {
   "cell_type": "code",
   "execution_count": null,
   "metadata": {},
   "outputs": [],
   "source": [
    "MatrixError(measKK[0], inKK[0])"
   ]
  },
  {
   "cell_type": "code",
   "execution_count": null,
   "metadata": {},
   "outputs": [],
   "source": [
    "errors = [MatrixError(measK, goalK) for measK, goalK in zip(measKK, inKK)]"
   ]
  },
  {
   "cell_type": "code",
   "execution_count": null,
   "metadata": {},
   "outputs": [],
   "source": [
    "fig1 = figure(title=\"Error of K as Sampled\", x_axis_label=\"sample\", y_axis_label=\"Error\")\n",
    "fig1.line(range(len(errors)), errors, line_width=2)\n",
    "show(fig1)"
   ]
  },
  {
   "cell_type": "code",
   "execution_count": null,
   "metadata": {},
   "outputs": [],
   "source": [
    "fig1 = figure(title=\"Error of K Sorted by Max EigenValue\", x_axis_label=\"Max Eigenvalue\", y_axis_label=\"Error\")\n",
    "fig1.scatter(list(map(getMaxEigVal, inKK)), errors, color='#ff0000', fill_alpha=0.3, line_alpha=0)\n",
    "show(fig1)"
   ]
  },
  {
   "cell_type": "markdown",
   "metadata": {},
   "source": [
    "Below, we compute the percentage error on each element relative to that of a equipower matrix."
   ]
  },
  {
   "cell_type": "code",
   "execution_count": null,
   "metadata": {},
   "outputs": [],
   "source": [
    "np.sum(np.array([np.abs(inK - measK) for inK, measK in zip(inKK, measKK)]), axis=0)*(100 / ((1/5)**0.5 * len(inKK)))"
   ]
  },
  {
   "cell_type": "code",
   "execution_count": null,
   "metadata": {},
   "outputs": [],
   "source": [
    "kGoal = inKK[0]\n",
    "measK = measKK[0]\n",
    "def errorFun(X):\n",
    "    realPert, imagPert = X\n",
    "    error = (np.abs(kGoal - (1+realPert + I*imagPert)*measK)**2).sum()\n",
    "    return error"
   ]
  },
  {
   "cell_type": "code",
   "execution_count": null,
   "metadata": {},
   "outputs": [],
   "source": [
    "errorFun([0,0])"
   ]
  },
  {
   "cell_type": "code",
   "execution_count": null,
   "metadata": {},
   "outputs": [],
   "source": [
    "pVals = []\n",
    "for i in range(len(inKK)):\n",
    "    kGoal = inKK[i]\n",
    "    measK = measKK[i]\n",
    "    def errorFun(X):\n",
    "        realPert, imagPert = X\n",
    "        error = (np.abs(kGoal - (1+realPert + I*imagPert)*measK)**2).sum()\n",
    "        return error\n",
    "    sol = sp.optimize.minimize(errorFun, [0,0])\n",
    "    pr, pi = sol.x\n",
    "    p = pr + I*pi\n",
    "    pVals.append(p)"
   ]
  },
  {
   "cell_type": "code",
   "execution_count": null,
   "metadata": {},
   "outputs": [],
   "source": [
    "pAve = 1+np.mean(pVals)"
   ]
  },
  {
   "cell_type": "code",
   "execution_count": null,
   "metadata": {},
   "outputs": [],
   "source": [
    "fig1 = figure(title=\"Tweak Factor\", x_axis_label=\"sample\", y_axis_label=\"Error\")\n",
    "fig1.line(range(len(errors)), np.real(pVals), line_width=2, color='red')\n",
    "fig1.line(range(len(errors)), np.imag(pVals), line_width=2, color='blue')\n",
    "show(fig1)"
   ]
  },
  {
   "cell_type": "code",
   "execution_count": null,
   "metadata": {},
   "outputs": [],
   "source": [
    "# sParamElemDict = {(r+1, c+1):np.abs(np.array(inKK)[:, r, c]) for r in range(5) for c in range(5)}"
   ]
  },
  {
   "cell_type": "code",
   "execution_count": null,
   "metadata": {},
   "outputs": [],
   "source": [
    "# for k in sParamElemDict.keys():\n",
    "#     (r, c) = k\n",
    "#     fig1 = figure(title=\"Error of K Sorted by Element\", x_axis_label=\"Element Magnitudes\", y_axis_label=\"Error\")\n",
    "#     fig1.scatter(sParamElemDict[k], errors, color=getRandomHexColor(), fill_alpha=0.3, line_alpha=0, legend_label=str(k))\n",
    "# show(fig1)"
   ]
  },
  {
   "cell_type": "markdown",
   "metadata": {},
   "source": [
    "## Load Coupler Values"
   ]
  },
  {
   "cell_type": "code",
   "execution_count": null,
   "metadata": {
    "tags": []
   },
   "outputs": [],
   "source": [
    "coup1 = np.loadtxt(\"../GoldenSamples/FeedbackCouplerSamples/coupler_1.txt\", dtype=complex)\n",
    "coup2 = np.loadtxt(\"../GoldenSamples/FeedbackCouplerSamples/coupler_1_v2.txt\", dtype=complex)\n",
    "alpha1 = np.mean([coup1[0,0], coup2[0,0]])\n",
    "alpha2 = np.mean([coup1[1,1], coup2[1,1]])\n",
    "beta = np.mean([coup1[0,1], coup1[1,0], coup2[0,1], coup2[1,0]])"
   ]
  },
  {
   "cell_type": "code",
   "execution_count": null,
   "metadata": {},
   "outputs": [],
   "source": [
    "# Load the coupler parameters\n",
    "coup1 = np.loadtxt(\"../GoldenSamples/FeedbackCouplerSamples/coupler_1.txt\", dtype=complex)\n",
    "coup2 = np.loadtxt(\"../GoldenSamples/FeedbackCouplerSamples/coupler_1_v2.txt\", dtype=complex)\n",
    "alpha1 = np.mean([coup1[0,0], coup2[0,0]])\n",
    "alpha2 = np.mean([coup1[1,1], coup2[1,1]])\n",
    "beta = np.mean([coup1[0,1], coup1[1,0], coup2[0,1], coup2[1,0]])"
   ]
  },
  {
   "cell_type": "code",
   "execution_count": null,
   "metadata": {},
   "outputs": [],
   "source": [
    "coup1, coup2"
   ]
  },
  {
   "cell_type": "code",
   "execution_count": null,
   "metadata": {},
   "outputs": [],
   "source": [
    "pp = PolarPlot(\"Couplers\")\n",
    "pp.addMatrix(coup1, color='cyan')\n",
    "pp.addMatrix(coup2, color='green')\n",
    "pp.show()"
   ]
  },
  {
   "cell_type": "markdown",
   "metadata": {},
   "source": [
    "## Inverse exp - post processing"
   ]
  },
  {
   "cell_type": "code",
   "execution_count": null,
   "metadata": {
    "tags": []
   },
   "outputs": [],
   "source": [
    "outputMeasurementsINV = np.load(\"Main_data/largeNClosedLoop.npy\")"
   ]
  },
  {
   "cell_type": "code",
   "execution_count": null,
   "metadata": {},
   "outputs": [],
   "source": [
    "measCLs = []\n",
    "for i in np.arange(1000):  \n",
    "    # inKK_INV.append(np.array(outputMeasurementsINV)[i, 0]) # Goal Input Kernel  (Identical to Open Loop Data Set)\n",
    "    # setKK_INV.append(np.array(outputMeasurementsINV)[i, 1]) # Experimentally Expected Kernel based on Integer Control Values (Identical to Open Loop Data Set if performed using same Pers Vec)\n",
    "    measCLs.append(np.array(outputMeasurementsINV)[i, 2]) # Measured Closed Loop Result"
   ]
  },
  {
   "cell_type": "code",
   "execution_count": null,
   "metadata": {},
   "outputs": [],
   "source": [
    "pAve"
   ]
  },
  {
   "cell_type": "code",
   "execution_count": null,
   "metadata": {},
   "outputs": [],
   "source": [
    "goal_Invs = [np.linalg.inv(IdM5 - inK) for inK in inKK]\n",
    "meas_Invs = [((1 - alpha1*alpha2/beta**2)*IdM5 + (alpha1/beta**2)*measCL) for measCL in measCLs]"
   ]
  },
  {
   "cell_type": "code",
   "execution_count": null,
   "metadata": {},
   "outputs": [],
   "source": [
    "pp = PolarPlot(\"comparisson\")\n",
    "i = 939\n",
    "pp.addMatrixDiff(goal_Invs[i], meas_Invs[i])\n",
    "pp.show()\n",
    "abs(np.linalg.eig(inKK[i])[0])"
   ]
  },
  {
   "cell_type": "code",
   "execution_count": null,
   "metadata": {},
   "outputs": [],
   "source": [
    "errors = [MatrixError(meas_Inv, goal_Inv) for meas_Inv, goal_Inv in zip(meas_Invs, goal_Invs)]"
   ]
  },
  {
   "cell_type": "code",
   "execution_count": null,
   "metadata": {},
   "outputs": [],
   "source": [
    "np.argmin(errors)"
   ]
  },
  {
   "cell_type": "code",
   "execution_count": null,
   "metadata": {},
   "outputs": [],
   "source": [
    "fig1 = figure(title=\"Error of Inverse as Sampled\", x_axis_label=\"sample\", y_axis_label=\"Error\",  y_range=(0, 1))\n",
    "fig1.scatter(range(len(errors)), errors, color='#ff0000', fill_alpha=0.3, line_alpha=0)\n",
    "show(fig1)"
   ]
  },
  {
   "cell_type": "code",
   "execution_count": null,
   "metadata": {},
   "outputs": [],
   "source": [
    "fig1 = figure(title=\"Inversion Error Sorted by Max EigenValue\", x_axis_label=\"Max Eigenvalue\", y_axis_label=\"Error\", y_range=(0, 1))\n",
    "fig1.scatter(list(map(getMaxEigVal, inKK)), errors, color='#ff0000', fill_alpha=0.3, line_alpha=0)\n",
    "show(fig1)"
   ]
  },
  {
   "cell_type": "code",
   "execution_count": null,
   "metadata": {},
   "outputs": [],
   "source": [
    "pVals = []\n",
    "for i in range(len(inKK)):\n",
    "    inK = inKK[i]\n",
    "    measCL = measCLs[i]\n",
    "    def errorFun(X):\n",
    "        realPert, imagPert = X\n",
    "        goal_Inv = np.linalg.inv(IdM5 - (1 + realPert + I*imagPert)*inK)\n",
    "        meas_Inv = ((1 - alpha1*alpha2/beta**2)*IdM5 + (alpha1/beta**2)*measCL)                                 \n",
    "        error = (np.abs(goal_Inv - meas_Inv)**2).sum()\n",
    "        return error\n",
    "    sol = sp.optimize.minimize(errorFun, [0,0])\n",
    "    pr, pi = sol.x\n",
    "    p = pr + I*pi\n",
    "    pVals.append(p)"
   ]
  },
  {
   "cell_type": "code",
   "execution_count": null,
   "metadata": {},
   "outputs": [],
   "source": [
    "fig1 = figure(title=\"Tweak Factor\", x_axis_label=\"sample\", y_axis_label=\"Error\", y_range=(-0.4, 0.4))\n",
    "fig1.line(range(len(errors)), np.real(pVals), line_width=2, color='red')\n",
    "fig1.line(range(len(errors)), np.imag(pVals), line_width=2, color='blue')\n",
    "show(fig1)"
   ]
  },
  {
   "cell_type": "code",
   "execution_count": null,
   "metadata": {},
   "outputs": [],
   "source": [
    "pAve = 1 + np.mean(pVals)"
   ]
  },
  {
   "cell_type": "code",
   "execution_count": null,
   "metadata": {},
   "outputs": [],
   "source": [
    "goal_Invs = [np.linalg.inv(IdM5 - (pAve)*inK) for inK in inKK]\n",
    "meas_Invs = [((1 - alpha1*alpha2/beta**2)*IdM5 + (alpha1/beta**2)*measCL) for measCL in measCLs]"
   ]
  },
  {
   "cell_type": "code",
   "execution_count": null,
   "metadata": {},
   "outputs": [],
   "source": [
    "pp = PolarPlot(\"comparisson\")\n",
    "i = 939\n",
    "pp.addMatrixDiff(goal_Invs[i], meas_Invs[i])\n",
    "pp.show()\n",
    "abs(np.linalg.eig(inKK[i])[0])"
   ]
  },
  {
   "cell_type": "code",
   "execution_count": null,
   "metadata": {},
   "outputs": [],
   "source": [
    "errors = [MatrixError(meas_Inv, goal_Inv) for meas_Inv, goal_Inv in zip(meas_Invs, goal_Invs)]"
   ]
  },
  {
   "cell_type": "code",
   "execution_count": null,
   "metadata": {},
   "outputs": [],
   "source": [
    "np.argmin(errors)"
   ]
  },
  {
   "cell_type": "code",
   "execution_count": null,
   "metadata": {},
   "outputs": [],
   "source": [
    "fig1 = figure(title=\"Error of Inverse as Sampled\", x_axis_label=\"sample\", y_axis_label=\"Error\",  y_range=(0, 1))\n",
    "fig1.scatter(range(len(errors)), errors, color='#ff0000', fill_alpha=0.3, line_alpha=0)\n",
    "show(fig1)"
   ]
  },
  {
   "cell_type": "code",
   "execution_count": null,
   "metadata": {},
   "outputs": [],
   "source": [
    "fig1 = figure(title=\"Inversion Error Sorted by Max EigenValue\", x_axis_label=\"Max Eigenvalue\", y_axis_label=\"Error\", y_range=(0, 1))\n",
    "fig1.scatter(list(map(getMaxEigVal, inKK)), errors, color='#ff0000', fill_alpha=0.3, line_alpha=0)\n",
    "show(fig1)"
   ]
  },
  {
   "cell_type": "markdown",
   "metadata": {
    "tags": []
   },
   "source": [
    "# Scrap"
   ]
  },
  {
   "cell_type": "code",
   "execution_count": null,
   "metadata": {},
   "outputs": [],
   "source": [
    "inputKernels = np.load(\"largeNInput_v4.npy\")"
   ]
  },
  {
   "cell_type": "code",
   "execution_count": null,
   "metadata": {},
   "outputs": [],
   "source": [
    "outputMeasurementsINV = []\n",
    "badMats = []\n",
    "for inK in inputKernels:\n",
    "    try:\n",
    "        setK = calcNewMatrixSettings(inK, multBank, 5,  warn=False)\n",
    "        setExpMultBank(exp, multBank)\n",
    "        measK, std = exp.measureSMatrix(delay=2)\n",
    "        saveData = (inK, setK, measK)\n",
    "        outputMeasurementsINV.append(saveData)\n",
    "    except:\n",
    "        badMats.append(inK)"
   ]
  },
  {
   "cell_type": "code",
   "execution_count": null,
   "metadata": {},
   "outputs": [],
   "source": [
    "#save or load the measurement results\n",
    "# np.save(\"largeNOut_100.npy\", np.array(outputMeasurements))\n",
    "np.save(\"largeNInput_v4_INV_new.npy\", np.array(outputMeasurementsINV))"
   ]
  },
  {
   "cell_type": "code",
   "execution_count": null,
   "metadata": {},
   "outputs": [],
   "source": [
    "# outputMeasurements=np.load(\"largeNOpenLoop_v4.npy\")\n",
    "# outputMeasurementsINV=np.load(\"largeNInput_v4_INV.npy\")"
   ]
  },
  {
   "cell_type": "code",
   "execution_count": null,
   "metadata": {},
   "outputs": [],
   "source": [
    "pp = PolarPlot(\"comparisson\")\n",
    "i=5\n",
    "pp.addMatrixDiff(np.array(np.identity(5)-inKK[i]),np.array(np.identity(5)-inKK_INV[i]))\n",
    "pp.show()\n",
    "abs(np.linalg.eig(inKK[i])[0])"
   ]
  },
  {
   "cell_type": "code",
   "execution_count": null,
   "metadata": {},
   "outputs": [],
   "source": [
    "A_goal = np.identity(5)-inKK"
   ]
  },
  {
   "cell_type": "code",
   "execution_count": null,
   "metadata": {},
   "outputs": [],
   "source": [
    "0*np.identity(5)-inKK"
   ]
  },
  {
   "cell_type": "code",
   "execution_count": null,
   "metadata": {},
   "outputs": [],
   "source": [
    "A_goal = (np.identity(5)-inKK)\n",
    "A_goal_inv = np.linalg.inv(A_goal)\n",
    "A_exp = np.array(measKK_INV)\n",
    "A_meas_inv = [(alpha1/beta*measKK_INV+(beta-alpha1*alpha2/beta)*np.identity(5))/beta for measK_INV in measK_INV]"
   ]
  },
  {
   "cell_type": "code",
   "execution_count": null,
   "metadata": {},
   "outputs": [],
   "source": [
    "tr=np.arange(1000, dtype=\"complex\")\n",
    "trN=np.arange(1000, dtype=\"complex\")\n",
    "diff=np.arange(1000, dtype=\"complex\")\n",
    "diff_INV=np.arange(1000, dtype=\"complex\")\n",
    "for i in np.arange(1000):\n",
    "    tr[i] = (np.trace(np.dot(A_goal[i],A_meas_inv[i])))/5\n",
    "    coef=1.25\n",
    "    trN[i]= abs(np.trace(np.dot(A_goal[i],A_meas_inv[i]/coef)))/5\n",
    "    diff[i] = MatrixError(inKK[i],measKK[i])/np.linalg.norm(inKK[i])*100\n",
    "    diff_INV[i] = MatrixError(A_goal_inv[i],A_meas_inv[i])/np.linalg.norm(A_goal_inv[i])*100"
   ]
  },
  {
   "cell_type": "code",
   "execution_count": null,
   "metadata": {},
   "outputs": [],
   "source": [
    "import matplotlib.pyplot as plt\n",
    "index = np.arange(1000)\n",
    "plt.scatter(index, np.real(tr))\n",
    "plt.xlabel('# random matrix')\n",
    "plt.ylabel('$|$tr$(A_{target} A^{-1}_{meas}/5|$')\n",
    "plt.ylim([0, 2.5])\n",
    "# plt.savefig('BigKappa_rand100_v2.png',dpi=1200)\n",
    "np.mean(tr)"
   ]
  },
  {
   "cell_type": "code",
   "execution_count": null,
   "metadata": {},
   "outputs": [],
   "source": [
    "pp = PolarPlot(\"comparisson\")\n",
    "i=876\n",
    "coef=np.linalg.norm(A_meas_inv[i]/A_goal_inv[i])/5*0+1\n",
    "A1=np.array(A_goal_inv[i])\n",
    "A2=np.array(A_meas_inv[i])/coef\n",
    "pp.addMatrixDiff(A1,A2)\n",
    "pp.show()\n",
    "print(coef,abs(np.linalg.eig(inKK_INV[i])[0]),MatrixError(A1,A2)/np.linalg.norm(A1)*100)\n",
    "# np.linalg.norm(A_meas_inv[i]/A_goal_inv[i])/5"
   ]
  },
  {
   "cell_type": "code",
   "execution_count": null,
   "metadata": {},
   "outputs": [],
   "source": [
    "abs(np.linalg.eig(np.identity(5)-inKK_INV[i])[0])"
   ]
  },
  {
   "cell_type": "markdown",
   "metadata": {},
   "source": [
    "#### Test Playground"
   ]
  },
  {
   "cell_type": "code",
   "execution_count": null,
   "metadata": {},
   "outputs": [],
   "source": [
    "from bokeh.models import Range1d\n",
    "\n",
    "p = figure(plot_width = 600, plot_height = 600,\n",
    "           x_axis_label = '# random matrix', y_axis_label = '$||\\mathbb{K}_{Meas}-\\mathbb{K}_{target}||$')\n",
    "p.y_range=Range1d(0,0.5)\n",
    "p.circle(1+index, diff, size = 10, color = 'green')\n",
    "show(p)"
   ]
  },
  {
   "cell_type": "code",
   "execution_count": null,
   "metadata": {},
   "outputs": [],
   "source": []
  },
  {
   "cell_type": "code",
   "execution_count": null,
   "metadata": {},
   "outputs": [],
   "source": [
    "pp = PolarPlot(\"comparisson\")\n",
    "i=755\n",
    "pp.addMatrixDiff(np.array(tt[i]),np.array(tt[i]))\n",
    "pp.show()"
   ]
  },
  {
   "cell_type": "code",
   "execution_count": null,
   "metadata": {},
   "outputs": [],
   "source": [
    "np.linalg.inv(np.identity(5)-inKK[0])\n",
    "np.linalg.eig(np.identity(5)-inKK[0])"
   ]
  },
  {
   "cell_type": "code",
   "execution_count": null,
   "metadata": {},
   "outputs": [],
   "source": [
    "inKK=np.array(outputMeasurements)[55,0]\n",
    "measKK=np.array(outputMeasurements)[55,2]\n",
    "tt=np.matmul(np.linalg.inv(inKK),measKK)"
   ]
  },
  {
   "cell_type": "code",
   "execution_count": null,
   "metadata": {},
   "outputs": [],
   "source": [
    "MatrixSqError(inKK,measKK)"
   ]
  },
  {
   "cell_type": "code",
   "execution_count": null,
   "metadata": {},
   "outputs": [],
   "source": [
    "test=np.array(outputMeasurements)"
   ]
  },
  {
   "cell_type": "code",
   "execution_count": null,
   "metadata": {},
   "outputs": [],
   "source": [
    "test[1,1]"
   ]
  }
 ],
 "metadata": {
  "kernelspec": {
   "display_name": "Python 3",
   "language": "python",
   "name": "python3"
  },
  "language_info": {
   "codemirror_mode": {
    "name": "ipython",
    "version": 3
   },
   "file_extension": ".py",
   "mimetype": "text/x-python",
   "name": "python",
   "nbconvert_exporter": "python",
   "pygments_lexer": "ipython3",
   "version": "3.8.3"
  }
 },
 "nbformat": 4,
 "nbformat_minor": 4
}
