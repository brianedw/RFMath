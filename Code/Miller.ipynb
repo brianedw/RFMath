{
 "cells": [
  {
   "cell_type": "code",
   "execution_count": null,
   "metadata": {
    "id": "wVkK974dvcQi"
   },
   "outputs": [],
   "source": [
    "import numpy as np\n",
    "from math import *"
   ]
  },
  {
   "cell_type": "code",
   "execution_count": null,
   "metadata": {},
   "outputs": [],
   "source": [
    "from Logger import Logger"
   ]
  },
  {
   "cell_type": "markdown",
   "metadata": {
    "id": "w4zfR0nIPolT"
   },
   "source": [
    "# Miller"
   ]
  },
  {
   "cell_type": "markdown",
   "metadata": {
    "id": "IDyofuUCnbSl"
   },
   "source": [
    "\n",
    "The MZI consists of two 3dB couplers with two phase shifters.  There are several possible designs and conventions.  \n",
    "\n",
    "Here we use the following:\n",
    "        \n",
    "The 3dB couplers have the SParams\n",
    "\n",
    "    [[0,0,a,b],\n",
    "     [0,0,b,a],\n",
    "     [a,b,0,0],\n",
    "     [b,a,0,0]]\n",
    "and the number scheme:\n",
    "\n",
    "    1 |---| 3\n",
    "        X    \n",
    "    2 |---| 4\n",
    "\n",
    "In option `couplerConv = 'LC'`, these are `a = -1j/sqrt(2)`, `b = -1/sqrt(2)`.  In option  `couplerConv = 'ideal'` these are `a = -1j/sqrt(2)`, `b = 1/sqrt(2)`.\n",
    "\n",
    "The two phase shifters have the transmissions:\n",
    "\n",
    "    T1 = exp(i*(phi + theta))\n",
    "    T2 = exp(i*(phi - theta))\n",
    "Together, they yield a device with the following number scheme.\n",
    "\n",
    "        1 |---| - [T1] - |---| 3\n",
    "            X              X    \n",
    "        2 |---| - [T2] - |---| 4\n",
    "\n",
    "In the case of `couplerConv = 'LC'`, the SParams for the device are:\n",
    "\n",
    "    S31 = -1j * np.sin(theta) * np.exp(1j*phi)\n",
    "    S41 =  1j * np.cos(theta) * np.exp(1j*phi)\n",
    "    S32 =  1j * np.cos(theta) * np.exp(1j*phi)\n",
    "    S42 =  1j * np.sin(theta) * np.exp(1j*phi)\n",
    "While in the case of `couplerConv = 'ideal'`, the SParams for the device are:\n",
    "\n",
    "    S31 = -1j * np.sin(theta) * np.exp(1j*phi)\n",
    "    S41 = -1j * np.cos(theta) * np.exp(1j*phi)\n",
    "    S32 = -1j * np.cos(theta) * np.exp(1j*phi)\n",
    "    S42 =  1j * np.sin(theta) * np.exp(1j*phi)"
   ]
  },
  {
   "cell_type": "code",
   "execution_count": null,
   "metadata": {
    "id": "_coWSFXBITEp"
   },
   "outputs": [],
   "source": [
    "np.set_printoptions(edgeitems=30, linewidth=100000, \n",
    "    formatter=dict(float=lambda x: \"%.3g\" % x))\n",
    "np.set_printoptions(precision=3)"
   ]
  },
  {
   "cell_type": "code",
   "execution_count": null,
   "metadata": {
    "id": "cvQJePAvAm_n"
   },
   "outputs": [],
   "source": [
    "class MillerBuilder:\n",
    "    pass"
   ]
  },
  {
   "cell_type": "code",
   "execution_count": null,
   "metadata": {
    "id": "3GyAuZu8A0y3"
   },
   "outputs": [],
   "source": [
    "def __init__(self, couplerConv=\"LC\", verbose=False):\n",
    "    self.log = Logger(indentStep=4, printQ=verbose)\n",
    "    self.couplerConv = couplerConv\n",
    "setattr(MillerBuilder, \"__init__\", __init__)"
   ]
  },
  {
   "cell_type": "code",
   "execution_count": null,
   "metadata": {
    "id": "RXLAuyfSPqtL"
   },
   "outputs": [],
   "source": [
    "def Calculate_R_theta_phi(self, a, i_in, ich, Phis, Thetas, verbose=False):\n",
    "    self.log.open(\"Calculate_R_theta_phi\")\n",
    "    v = verbose\n",
    "    self.log.print(\"(a, i_in, ich):\", a, i_in, ich)\n",
    "    self.log.openContext(\"If-Else\")\n",
    "    if i_in == 0:\n",
    "        self.log.printVarX(\"i_in\", locals())\n",
    "        d = 1j*a.conj().T\n",
    "        theta = np.arcsin(np.clip(abs(d), 0, 1));\n",
    "        phi = np.arctan2(np.imag(d), np.real(d))\n",
    "        self.log.print(\"(d, theta, phi):\", d, theta, phi)\n",
    "    else:\n",
    "        self.log.printVarX(\"i_in\", locals())\n",
    "        phi_temp = 0.0\n",
    "        t_temp = 1.0\n",
    "        for p in range(0, i_in):\n",
    "            phi_temp = phi_temp + Phis[ich, p] \n",
    "            t_temp = t_temp*cos(Thetas[ich, p])\n",
    "        self.log.print(\"(phi_temp, t_temp):\", phi_temp, t_temp)\n",
    "        if self.couplerConv == 'LC':\n",
    "            d = (1j)*(-1j)**(i_in) * a.conj().T * np.exp(-1j*phi_temp) / t_temp\n",
    "        elif self.couplerConv == 'ideal':\n",
    "            d = (-1j)**(-(i_in - 1)) * a.conj().T * np.exp(-1j*phi_temp) / t_temp\n",
    "        else:\n",
    "            raise TypeError(\"couplerConv should be either 'ideal' or 'LC'\")\n",
    "        theta = np.arcsin(np.clip(abs(d), 0, 1))\n",
    "        phi = np.arctan2(np.imag(d), np.real(d))\n",
    "        self.log.print(\"(d, theta, phi):\", d, theta, phi)\n",
    "    self.log.closeContext()\n",
    "    self.log.close()\n",
    "    return (theta, phi)\n",
    "setattr(MillerBuilder, \"Calculate_R_theta_phi\", Calculate_R_theta_phi)"
   ]
  },
  {
   "cell_type": "code",
   "execution_count": null,
   "metadata": {
    "id": "JnaaIkN0Q40n"
   },
   "outputs": [],
   "source": [
    "def Calculate_PsiD(self, Psi_U, ich, Phis, Thetas, verbose=False):\n",
    "    self.log.open(\"Calculate_PsiD\")\n",
    "    self.log.printVarX(\"ich\", locals())\n",
    "    C_tot = 1\n",
    "    self.log.openContext(\"u loop\")\n",
    "    for u in range(0, ich-1 + 1):\n",
    "        self.log.printVarX(\"u\", locals())\n",
    "        C = self.Calculate_C(Psi_U, Phis, Thetas, u, True);\n",
    "        self.log.printNPArray(\"C\", C)\n",
    "        self.log.openContext(\"u If-Else\")\n",
    "        if u == 0:\n",
    "            self.log.print(\"u == 0\")\n",
    "            Psi_D = np.matmul(C, Psi_U)\n",
    "        else:\n",
    "            self.log.print(\"u != 0\")\n",
    "            Psi_D = np.matmul(C, Psi_D)\n",
    "        self.log.closeContext()\n",
    "    self.log.closeContext()\n",
    "    self.log.close()\n",
    "    return Psi_D\n",
    "setattr(MillerBuilder, \"Calculate_PsiD\", Calculate_PsiD)"
   ]
  },
  {
   "cell_type": "code",
   "execution_count": null,
   "metadata": {
    "id": "sbyDYEIrUuIy"
   },
   "outputs": [],
   "source": [
    "def Calculate_C(self, Psi_U, Phis, Thetas, u, verbose = False):\n",
    "    \"\"\"\n",
    "    initial C should be 4x5.\n",
    "    \"\"\"\n",
    "    self.log.open(\"Calculate_C\")\n",
    "    Mi = len(Psi_U)\n",
    "    C = np.zeros(shape=(Mi-u-1, Mi-u+1-1), dtype=np.complex)\n",
    "    self.log.print(\"C.shape:\", C.shape)\n",
    "    md = min(Mi-u, Mi-u+1) - 1;\n",
    "    self.log.printVarX(\"md\", locals())\n",
    "    self.log.openContext(\"diagonal loop\")\n",
    "    for imd in range(0, md):\n",
    "        theta = Thetas[u, imd]\n",
    "        phi = Phis[u, imd]\n",
    "        if self.couplerConv == 'LC':\n",
    "            t = 1j*np.cos(theta)*np.exp(1j*phi)\n",
    "        elif self.couplerConv == 'ideal':\n",
    "            t = -1j*np.cos(theta)*np.exp(1j*phi)\n",
    "        else:\n",
    "            raise TypeError(\"couplerConv should be either 'ideal' or 'LC'\")\n",
    "        self.log.print(\"(imd, imd)\", (imd, imd))\n",
    "        C[imd,imd] = t\n",
    "    self.log.closeContext()\n",
    "\n",
    "    up_tri = 2\n",
    "    t_temp = 1.0\n",
    "    phi_temp = 0.0\n",
    "    self.log.openContext(\"ir loop\")\n",
    "    for ir in range(0, (Mi-u)):\n",
    "        self.log.openContext(\"ic loop\")\n",
    "        for ic in range(up_tri-1, (Mi-u+1)-1):\n",
    "            self.log.openContext(\"(ir, ic) = \"+str((ir, ic)))\n",
    "            if ic==(ir+1):\n",
    "                theta = Thetas[u, ic-1]\n",
    "                phi = Phis[u, ic-1]\n",
    "                r1 = 1j*np.sin(theta)*np.exp(1j*phi)\n",
    "                theta = Thetas[u, ic]\n",
    "                phi = Phis[u, ic]\n",
    "                r2 = -1j*np.sin(theta)*np.exp(1j*phi)\n",
    "                self.log.print(\"(ir, ic)\", (ir, ic), \" --> \", np.round(r1*r2,3))\n",
    "                C[ir,ic] = r1*r2;\n",
    "            else:\n",
    "                theta = Thetas[u, ir]\n",
    "                phi = Phis[u, ir]\n",
    "                r_first = 1j*np.sin(theta)*np.exp(1j*phi)\n",
    "                theta = Thetas[u, ic]\n",
    "                phi = Phis[u, ic]\n",
    "                r_last = -1j*np.sin(theta)*np.exp(1j*phi)\n",
    "                self.log.openContext(\"p loop [\"+str(up_tri-1)+\",\"+str(ic-1+1)+\")\")\n",
    "                for p in range(up_tri-1, (ic-1+1)):\n",
    "                    theta = Thetas[u, p]\n",
    "                    phi = Phis[u, p]\n",
    "                    if self.couplerConv == 'LC':\n",
    "                        t = 1j*np.cos(theta)*np.exp(1j*phi)\n",
    "                    elif self.couplerConv == 'ideal':\n",
    "                        t = -1j*np.cos(theta)*np.exp(1j*phi)\n",
    "                    else:\n",
    "                        raise TypeError(\"couplerConv should be either 'ideal' or 'LC'\")\n",
    "                    t_temp = t_temp*t\n",
    "                    self.log.print(\"(u, p, t)\", (u, p, t))\n",
    "                self.log.closeContext()\n",
    "                self.log.print(\"(ir, ic)\", (ir, ic), \" ==> \", np.round(r_first*t_temp*r_last,3))\n",
    "                self.log.print(\"(r_first, t_temp, r_last)\", (np.round(r_first,3), np.round(t_temp,3), np.round(r_last,3)))\n",
    "                C[ir,ic] = r_first*t_temp*r_last\n",
    "                t_temp = 1\n",
    "            self.log.closeContext()\n",
    "        up_tri = up_tri+1;\n",
    "        self.log.closeContext()\n",
    "    self.log.closeContext()\n",
    "    self.log.close()\n",
    "    return C\n",
    "\n",
    "setattr(MillerBuilder, \"Calculate_C\", Calculate_C)"
   ]
  },
  {
   "cell_type": "code",
   "execution_count": null,
   "metadata": {
    "id": "7Ajc9lnBZnDN"
   },
   "outputs": [],
   "source": [
    "def ConvertUnitaryToMZITriangle(self, psi_u):\n",
    "    self.log.open(\"ConvertUnitaryToMZITriangle\", True)\n",
    "    Min = len(psi_u)\n",
    "    lp_in = Min\n",
    "    Mch = len(psi_u[0])\n",
    "    psi_d = psi_u[:,0]\n",
    "    Phis = np.full(shape=(Min, Mch), fill_value=np.nan)\n",
    "    Thetas = np.full(shape=(Min, Mch), fill_value=np.nan)\n",
    "    self.log.openContext(\"ich loop\")\n",
    "    for ich in range(0, Mch):\n",
    "        self.log.printVarX(\"ich\", locals())\n",
    "        if ich != 0:\n",
    "            psi_d = self.Calculate_PsiD(psi_u[:,ich], ich, Phis, Thetas, verbose=True)\n",
    "\n",
    "        self.log.openContext(\"i_in loop\")\n",
    "        for i_in in range(0, lp_in):\n",
    "            self.log.printVarX(\"i_in\", locals())\n",
    "            self.log.printNPArray(\"psi_d\", psi_d)\n",
    "            a = psi_d[i_in]\n",
    "            self.log.printVarX(\"a\", locals())\n",
    "            [theta,phi] = self.Calculate_R_theta_phi(a, i_in, ich, Phis, Thetas, verbose=True)\n",
    "            Thetas[ich, i_in] = theta;\n",
    "            Phis[ich, i_in] = phi;\n",
    "        self.log.closeContext()\n",
    "\n",
    "        self.log.printNPArray(\"Thetas\", Thetas)\n",
    "        self.log.printNPArray(\"Phis\", Phis)\n",
    "        lp_in = lp_in-1;\n",
    "    self.log.closeContext()\n",
    "    self.log.close()\n",
    "    return (Thetas, Phis)\n",
    "\n",
    "setattr(MillerBuilder, \"ConvertUnitaryToMZITriangle\", ConvertUnitaryToMZITriangle)"
   ]
  },
  {
   "cell_type": "code",
   "execution_count": null,
   "metadata": {
    "id": "eYuMJQeil4bh"
   },
   "outputs": [],
   "source": [
    "def ConvertKToMZI(self, Ks):\n",
    "    self.log.open(\"MAIN\", True)\n",
    "    self.log.printNPArray(\"Ks\", Ks)\n",
    "    V, S, Uh = np.linalg.svd(Ks)\n",
    "    self.log.printNPArray(\"V\", V)\n",
    "    self.log.printNPArray(\"S\", S)\n",
    "    self.log.printNPArray(\"U\", Uh.conj().T)\n",
    "    self.log.print(\"K == V*S*U' is\", np.allclose(Ks, (V*S)@(Uh)))\n",
    "    self.log.print(\"\")\n",
    "    psi_u = Uh.conj().T\n",
    "    (Thetas1, Phis1) = self.ConvertUnitaryToMZITriangle(psi_u)\n",
    "    psi_u = V.conj().T\n",
    "    (Thetas2, Phis2) = self.ConvertUnitaryToMZITriangle(psi_u)\n",
    "    self.log.close()\n",
    "    leftTriangle = np.dstack((Thetas1, Phis1))\n",
    "    rightTriangle = np.dstack((Thetas2, Phis2))\n",
    "    return (leftTriangle, S, rightTriangle)\n",
    "setattr(MillerBuilder, \"ConvertKToMZI\", ConvertKToMZI)"
   ]
  },
  {
   "cell_type": "code",
   "execution_count": null,
   "metadata": {},
   "outputs": [],
   "source": [
    "def ConvertKToMZIDict(self, Ks, locs=('Uh', 'S', 'V')):\n",
    "    # left = 1 = first network encoutered = Uh\n",
    "    (leftTriangle, S, rightTriangle) = self.ConvertKToMZI(Ks)\n",
    "    n = len(Ks)\n",
    "    d1 = dict()\n",
    "    for i_ch in range(n):\n",
    "        for i_in in range(n-i_ch):\n",
    "            d1[('MZI', locs[0], i_ch, i_in)] = tuple(leftTriangle[i_ch, i_in])\n",
    "    dS = dict()\n",
    "    for i in range(n):\n",
    "        dS[('Att', locs[1], i)] = (S[i])\n",
    "    d2 = dict()\n",
    "    for i_ch in range(n):\n",
    "        for i_in in range(n - i_ch):\n",
    "            d2[('MZI', locs[2], i_ch, i_in)] = tuple(rightTriangle[i_ch, i_in])\n",
    "    return (d1, dS, d2)\n",
    "setattr(MillerBuilder, \"ConvertKToMZIDict\", ConvertKToMZIDict)"
   ]
  },
  {
   "cell_type": "markdown",
   "metadata": {
    "id": "yG1f66esvLk_"
   },
   "source": [
    "## Test"
   ]
  },
  {
   "cell_type": "code",
   "execution_count": null,
   "metadata": {},
   "outputs": [],
   "source": [
    "mainQ =(__name__ == '__main__')\n",
    "mainQ"
   ]
  },
  {
   "cell_type": "code",
   "execution_count": null,
   "metadata": {
    "id": "VDkud_W2W6z4"
   },
   "outputs": [],
   "source": [
    "Ks = np.array([[-0.05+0.06j, -0.  -0.13j, -0.07-0.15j,  0.11+0.28j, -0.05-0.18j],\n",
    "               [-0.1 -0.19j, -0.3 -0.05j, -0.28+0.07j, -0.25+0.28j, -0.11-0.29j],\n",
    "               [ 0.21-0.18j, -0.08-0.14j,  0.03+0.2j , -0.23+0.24j, -0.06+0.32j],\n",
    "               [-0.29-0.31j,  0.12+0.09j,  0.08-0.02j,  0.31+0.12j, -0.22-0.18j],\n",
    "               [-0.18-0.06j,  0.08-0.21j,  0.25-0.18j, -0.26-0.1j ,  0.13+0.1j ]])"
   ]
  },
  {
   "cell_type": "markdown",
   "metadata": {
    "id": "i23uiiVSZuV1"
   },
   "source": [
    "For entry into Matlab (Octave):\n",
    "```\n",
    "Ks = zeros(5,5);\n",
    "Ks(1,:) = [-0.05+0.06*1i, -0.-0.13*1i, -0.07-0.15*1i,  0.11+0.28*1i, -0.05-0.18*1i];\n",
    "Ks(2,:) = [-0.1-0.19*1i, -0.3-0.05*1i, -0.28+0.07*1i, -0.25+0.28*1i, -0.11-0.29*1i];\n",
    "Ks(3,:) = [0.21-0.18*1i, -0.08-0.14*1i,  0.03+0.2*1i , -0.23+0.24*1i, -0.06+0.32*1i];\n",
    "Ks(4,:) = [-0.29-0.31*1i,  0.12+0.09*1i,  0.08-0.02*1i,  0.31+0.12*1i, -0.22-0.18*1i];\n",
    "Ks(5,:) = [-0.18-0.06*1i,  0.08-0.21*1i,  0.25-0.18*1i, -0.26-0.1*1i ,  0.13+0.1*1i ];\n",
    "```\n",
    "\n"
   ]
  },
  {
   "cell_type": "code",
   "execution_count": null,
   "metadata": {
    "colab": {
     "base_uri": "https://localhost:8080/"
    },
    "id": "zP-7oBksuwLE",
    "outputId": "c57b761f-154f-4457-d3f8-7e8853d9b768"
   },
   "outputs": [],
   "source": [
    "miller = MillerBuilder(couplerConv='LC', verbose=False)\n",
    "t1, s, t2 = miller.ConvertKToMZI(Ks)\n",
    "theta1, phi1 = np.rollaxis(t1, 2)\n",
    "theta2, phi2 = np.rollaxis(t2, 2)\n",
    "if mainQ: print(\"theta1:\")\n",
    "if mainQ: print(theta1*180/np.pi)\n",
    "if mainQ: print(\"phi1:\")\n",
    "if mainQ: print(phi1*180/np.pi)\n",
    "if mainQ: print(\"theta2:\")\n",
    "if mainQ: print(theta2*180/np.pi)\n",
    "if mainQ: print(\"phi2:\")\n",
    "if mainQ: print(phi2*180/np.pi)"
   ]
  },
  {
   "cell_type": "code",
   "execution_count": null,
   "metadata": {},
   "outputs": [],
   "source": [
    "t1Dict, sDict, t2Dict = miller.ConvertKToMZIDict(Ks)"
   ]
  },
  {
   "cell_type": "code",
   "execution_count": null,
   "metadata": {},
   "outputs": [],
   "source": [
    "t1Dict, sDict, t2Dict"
   ]
  },
  {
   "cell_type": "code",
   "execution_count": null,
   "metadata": {},
   "outputs": [],
   "source": []
  }
 ],
 "metadata": {
  "colab": {
   "collapsed_sections": [
    "y_h3TQEJywk-",
    "ka3iaz0Wy7rm",
    "7mJ2vL1iB54c",
    "UNLwLuYdFUJa",
    "w4zfR0nIPolT",
    "6YNjUVM7xtxr"
   ],
   "name": "MatrixMath Supporting Functions",
   "provenance": []
  },
  "kernelspec": {
   "display_name": "Python 3",
   "language": "python",
   "name": "python3"
  },
  "language_info": {
   "codemirror_mode": {
    "name": "ipython",
    "version": 3
   },
   "file_extension": ".py",
   "mimetype": "text/x-python",
   "name": "python",
   "nbconvert_exporter": "python",
   "pygments_lexer": "ipython3",
   "version": "3.8.5"
  },
  "latex_envs": {
   "LaTeX_envs_menu_present": true,
   "autoclose": false,
   "autocomplete": true,
   "bibliofile": "biblio.bib",
   "cite_by": "apalike",
   "current_citInitial": 1,
   "eqLabelWithNumbers": true,
   "eqNumInitial": 1,
   "hotkeys": {
    "equation": "Ctrl-E",
    "itemize": "Ctrl-I"
   },
   "labels_anchors": false,
   "latex_user_defs": false,
   "report_style_numbering": false,
   "user_envs_cfg": false
  }
 },
 "nbformat": 4,
 "nbformat_minor": 4
}
